{
 "cells": [
  {
   "cell_type": "markdown",
   "metadata": {},
   "source": [
    "# Explaining XGBoost model predictions with SHAP values\n",
    "## Comparing the SHAP value (and SHAP main effect) for patients that attend a hospital, with the SHAP value (and SHAP main effect) for patients that do not attend a hospital\n",
    "\n",
    "[Representing categorical features as one-hot encoded features in the model and keeping them separate for their SHAP value]\n",
    "\n",
    "## Plain English summary\n",
    "\n",
    "When fitting a machine learning model to data to make a prediction, it is now possible, with the use of the SHAP library, to allocate contributions of the prediction onto the feature values. This means that we can now turn these black box methods into transparent models and describe what the model used to obtain it's prediction.\n",
    "\n",
    "SHAP values are calculated for each feature of each instance for a fitted model. In addition there is the SHAP base value which is the same value for all of the instances. The base value represents the models best guess for any instance without any extra knowledge about the instance (this can also be thought of as the \"expected value\"). It is possible to obtain the models prediction of an instance by taking the sum of the SHAP base value and each of the SHAP values for the features. This allows the prediction from a model to be transparant, and we can rank the features by their importance in determining the prediction for each instance.\n",
    "\n",
    "In our previous two notebooks (03a & 3b_xgb_combined_shap_key_features.ipynb) we looked at SHAP values (and main effect) for the one-hot encoded hosptial features. We looked at the values for patients that attend the hospital, and for those that do not (as we have seen that the hospital has a SHAP value when a patient attend another one, so there is a contribution to the prediction based on *not* attending a hospital). \n",
    "\n",
    "Here we combine both 3a & 3b into one notebook, so show the main effect and SHAP values for the two poputaltions (attend, and not).\n",
    "\n",
    "SHAP values are in the same units as the model output (for XGBoost these are in log odds). \n",
    "\n",
    "Here we fit an XGBoost model to the SAMueL dataset, to predict whether a patient recieves thrombolysis from the values of eight features. We calculate the SHAP values of this fitted model and explore the SHAP values for each of the one-hot encoded hospital features.\n",
    "\n",
    "## Model and data\n",
    "\n",
    "XGBoost model was trained on all of the data (no test set used). The 8 features in the model are:\n",
    "\n",
    "* Arrival-to-scan time: Time from arrival at hospital to scan (mins)\n",
    "* Infarction: Stroke type (1 = infarction, 0 = haemorrhage)\n",
    "* Stroke severity: Stroke severity (NIHSS) on arrival\n",
    "* Precise onset time: Onset time type (1 = precise, 0 = best estimate)\n",
    "* Prior disability level: Disability level (modified Rankin Scale) before stroke\n",
    "* Use of AF anticoagulents: Use of atrial fibrillation anticoagulant (0 = No, 1 = Yes)\n",
    "* Onset-to-arrival time: Time from onset of stroke to arrival at hospital (mins)\n",
    "* Stroke team: Represented as one-hot encoded features\n",
    "\n",
    "And one target feature:\n",
    "* Thrombolysis: Did the patient recieve thrombolysis (0 = No, 1 = Yes)\n",
    "\n",
    "## Aims\n",
    "\n",
    "* Fit XGBoost model using feature data to predict whether patient gets thrombolysis\n",
    "* Calculate the SHAP values of the features\n",
    "* Understand the SHAP values for the hospital one-hot encoded features\n",
    "\n",
    "## Observations\n",
    "* SHAP values for the one-hot encoded hospital features are very dependent on whether the instance attended the hospital or not\n",
    "* SHAP values for the attended one-hot encoded hospital feature are largely one side of zero or the other. There are fewer instances in this population, but the range of SHAP values is wider.\n",
    "* SHAP values for the not attended one-hot encoded hospitals are largely centred on zero. There are more instances in this population, but the range of SHAP values is narrower.\n",
    "* 58% of the variability in hospital thrombolysis rate can be explained by the SHAP value for the one-hot encoded hospital feature (the median of those instances that attend the hospital)."
   ]
  },
  {
   "cell_type": "markdown",
   "metadata": {},
   "source": [
    "## Import modules"
   ]
  },
  {
   "cell_type": "code",
   "execution_count": 1,
   "metadata": {},
   "outputs": [
    {
     "name": "stderr",
     "output_type": "stream",
     "text": [
      "/home/kerry/miniconda3/envs/samuel2/lib/python3.8/site-packages/xgboost/compat.py:36: FutureWarning: pandas.Int64Index is deprecated and will be removed from pandas in a future version. Use pandas.Index with the appropriate dtype instead.\n",
      "  from pandas import MultiIndex, Int64Index\n",
      "/home/kerry/miniconda3/envs/samuel2/lib/python3.8/site-packages/tqdm/auto.py:22: TqdmWarning: IProgress not found. Please update jupyter and ipywidgets. See https://ipywidgets.readthedocs.io/en/stable/user_install.html\n",
      "  from .autonotebook import tqdm as notebook_tqdm\n"
     ]
    }
   ],
   "source": [
    "import matplotlib.pyplot as plt\n",
    "import numpy as np\n",
    "import pandas as pd\n",
    "\n",
    "# Import machine learning methods\n",
    "from xgboost import XGBClassifier\n",
    "\n",
    "# Import shap for shapley values\n",
    "import shap # `pip install shap` if neeed\n",
    "\n",
    "# Turn warnings off to keep notebook tidy\n",
    "import warnings\n",
    "warnings.filterwarnings(\"ignore\")\n",
    "\n",
    "from scipy import stats\n",
    "\n",
    "import os\n",
    "import pickle\n",
    "\n",
    "import math # to .floor and .ceil\n",
    "\n",
    "# So can take deep copy\n",
    "import copy\n",
    "\n",
    "from os.path import exists\n",
    "import json\n",
    "\n",
    "#import scipy.stats"
   ]
  },
  {
   "cell_type": "markdown",
   "metadata": {},
   "source": [
    "## Create output folders if needed"
   ]
  },
  {
   "cell_type": "code",
   "execution_count": 2,
   "metadata": {},
   "outputs": [],
   "source": [
    "path = './saved_models'\n",
    "if not os.path.exists(path):\n",
    "    os.makedirs(path)"
   ]
  },
  {
   "cell_type": "markdown",
   "metadata": {},
   "source": [
    "## Read in JSON file\n",
    "\n",
    "Contains a dictionary for plain English feature names for the 8 features selected in the model. Use these as the column titles in the DataFrame."
   ]
  },
  {
   "cell_type": "code",
   "execution_count": 3,
   "metadata": {},
   "outputs": [],
   "source": [
    "with open(\"./output/feature_name_dict.json\") as json_file:\n",
    "    feature_name_dict = json.load(json_file)"
   ]
  },
  {
   "cell_type": "markdown",
   "metadata": {},
   "source": [
    "## Load data\n",
    "\n",
    "Data has previously been split into 5 stratified k-fold splits."
   ]
  },
  {
   "cell_type": "code",
   "execution_count": 4,
   "metadata": {},
   "outputs": [],
   "source": [
    "data_loc = '../data/kfold_5fold/'"
   ]
  },
  {
   "cell_type": "code",
   "execution_count": 5,
   "metadata": {},
   "outputs": [],
   "source": [
    "# Initialise empty lists\n",
    "train_data, test_data = [], []\n",
    "\n",
    "# Read in the names of the selected features for the model\n",
    "number_of_features_to_use = 8\n",
    "key_features = pd.read_csv('./output/feature_selection.csv')\n",
    "key_features = list(key_features['feature'])[:number_of_features_to_use]\n",
    "# And add the target feature name: S2Thrombolysis\n",
    "key_features.append('S2Thrombolysis')\n",
    "\n",
    "# For each k-fold split\n",
    "for i in range(5):\n",
    "    # Read in training set, restrict to chosen features, rename titles, & store\n",
    "    train = pd.read_csv(data_loc + 'train_{0}.csv'.format(i))\n",
    "    train = train[key_features]\n",
    "    train.rename(columns=feature_name_dict, inplace=True)\n",
    "    train_data.append(train)\n",
    "    # Read in test set, restrict to chosen features, rename titles, & store\n",
    "    test = pd.read_csv(data_loc + 'test_{0}.csv'.format(i))\n",
    "    test = test[key_features]\n",
    "    test.rename(columns=feature_name_dict, inplace=True)\n",
    "    test_data.append(test)"
   ]
  },
  {
   "cell_type": "markdown",
   "metadata": {},
   "source": [
    "For this exercise, train the model using all the data. Join up all of the test data (by definition, each instance exists only once across all of the 5 test sets)\n",
    "\n",
    "Set \"ignore_index = True\" to reset the index from 0 to (n-1), otherwise get duplicate values in the index"
   ]
  },
  {
   "cell_type": "code",
   "execution_count": 6,
   "metadata": {},
   "outputs": [],
   "source": [
    "data = pd.concat(test_data, ignore_index=True)"
   ]
  },
  {
   "cell_type": "markdown",
   "metadata": {},
   "source": [
    "Check the final rows index values run up to the number of rows in the dataframe"
   ]
  },
  {
   "cell_type": "code",
   "execution_count": 7,
   "metadata": {},
   "outputs": [
    {
     "data": {
      "text/html": [
       "<div>\n",
       "<style scoped>\n",
       "    .dataframe tbody tr th:only-of-type {\n",
       "        vertical-align: middle;\n",
       "    }\n",
       "\n",
       "    .dataframe tbody tr th {\n",
       "        vertical-align: top;\n",
       "    }\n",
       "\n",
       "    .dataframe thead th {\n",
       "        text-align: right;\n",
       "    }\n",
       "</style>\n",
       "<table border=\"1\" class=\"dataframe\">\n",
       "  <thead>\n",
       "    <tr style=\"text-align: right;\">\n",
       "      <th></th>\n",
       "      <th>Arrival-to-scan time</th>\n",
       "      <th>Infarction</th>\n",
       "      <th>Stroke severity</th>\n",
       "      <th>Precise onset time</th>\n",
       "      <th>Prior disability level</th>\n",
       "      <th>Stroke team</th>\n",
       "      <th>Use of AF anticoagulents</th>\n",
       "      <th>Onset-to-arrival time</th>\n",
       "      <th>Thrombolysis</th>\n",
       "    </tr>\n",
       "  </thead>\n",
       "  <tbody>\n",
       "    <tr>\n",
       "      <th>0</th>\n",
       "      <td>17.0</td>\n",
       "      <td>1</td>\n",
       "      <td>14.0</td>\n",
       "      <td>1</td>\n",
       "      <td>0</td>\n",
       "      <td>TXHRP7672C</td>\n",
       "      <td>0</td>\n",
       "      <td>186.0</td>\n",
       "      <td>1</td>\n",
       "    </tr>\n",
       "    <tr>\n",
       "      <th>1</th>\n",
       "      <td>25.0</td>\n",
       "      <td>1</td>\n",
       "      <td>6.0</td>\n",
       "      <td>1</td>\n",
       "      <td>0</td>\n",
       "      <td>SQGXB9559U</td>\n",
       "      <td>0</td>\n",
       "      <td>71.0</td>\n",
       "      <td>1</td>\n",
       "    </tr>\n",
       "    <tr>\n",
       "      <th>2</th>\n",
       "      <td>138.0</td>\n",
       "      <td>1</td>\n",
       "      <td>2.0</td>\n",
       "      <td>1</td>\n",
       "      <td>0</td>\n",
       "      <td>LFPMM4706C</td>\n",
       "      <td>0</td>\n",
       "      <td>67.0</td>\n",
       "      <td>0</td>\n",
       "    </tr>\n",
       "    <tr>\n",
       "      <th>3</th>\n",
       "      <td>21.0</td>\n",
       "      <td>0</td>\n",
       "      <td>11.0</td>\n",
       "      <td>1</td>\n",
       "      <td>0</td>\n",
       "      <td>MHMYL4920B</td>\n",
       "      <td>0</td>\n",
       "      <td>86.0</td>\n",
       "      <td>0</td>\n",
       "    </tr>\n",
       "    <tr>\n",
       "      <th>4</th>\n",
       "      <td>8.0</td>\n",
       "      <td>1</td>\n",
       "      <td>16.0</td>\n",
       "      <td>1</td>\n",
       "      <td>0</td>\n",
       "      <td>EQZZZ5658G</td>\n",
       "      <td>0</td>\n",
       "      <td>83.0</td>\n",
       "      <td>1</td>\n",
       "    </tr>\n",
       "    <tr>\n",
       "      <th>...</th>\n",
       "      <td>...</td>\n",
       "      <td>...</td>\n",
       "      <td>...</td>\n",
       "      <td>...</td>\n",
       "      <td>...</td>\n",
       "      <td>...</td>\n",
       "      <td>...</td>\n",
       "      <td>...</td>\n",
       "      <td>...</td>\n",
       "    </tr>\n",
       "    <tr>\n",
       "      <th>88782</th>\n",
       "      <td>57.0</td>\n",
       "      <td>1</td>\n",
       "      <td>18.0</td>\n",
       "      <td>0</td>\n",
       "      <td>4</td>\n",
       "      <td>QWKRA8499D</td>\n",
       "      <td>0</td>\n",
       "      <td>93.0</td>\n",
       "      <td>0</td>\n",
       "    </tr>\n",
       "    <tr>\n",
       "      <th>88783</th>\n",
       "      <td>19.0</td>\n",
       "      <td>1</td>\n",
       "      <td>14.0</td>\n",
       "      <td>1</td>\n",
       "      <td>0</td>\n",
       "      <td>SQGXB9559U</td>\n",
       "      <td>0</td>\n",
       "      <td>119.0</td>\n",
       "      <td>1</td>\n",
       "    </tr>\n",
       "    <tr>\n",
       "      <th>88784</th>\n",
       "      <td>22.0</td>\n",
       "      <td>1</td>\n",
       "      <td>20.0</td>\n",
       "      <td>1</td>\n",
       "      <td>0</td>\n",
       "      <td>KZKEZ2257Z</td>\n",
       "      <td>0</td>\n",
       "      <td>69.0</td>\n",
       "      <td>1</td>\n",
       "    </tr>\n",
       "    <tr>\n",
       "      <th>88785</th>\n",
       "      <td>25.0</td>\n",
       "      <td>1</td>\n",
       "      <td>20.0</td>\n",
       "      <td>1</td>\n",
       "      <td>0</td>\n",
       "      <td>QOAPO4699N</td>\n",
       "      <td>0</td>\n",
       "      <td>54.0</td>\n",
       "      <td>0</td>\n",
       "    </tr>\n",
       "    <tr>\n",
       "      <th>88786</th>\n",
       "      <td>9.0</td>\n",
       "      <td>1</td>\n",
       "      <td>3.0</td>\n",
       "      <td>1</td>\n",
       "      <td>3</td>\n",
       "      <td>PAYNN3649Z</td>\n",
       "      <td>0</td>\n",
       "      <td>93.0</td>\n",
       "      <td>0</td>\n",
       "    </tr>\n",
       "  </tbody>\n",
       "</table>\n",
       "<p>88787 rows × 9 columns</p>\n",
       "</div>"
      ],
      "text/plain": [
       "       Arrival-to-scan time  Infarction  Stroke severity  Precise onset time  \\\n",
       "0                      17.0           1             14.0                   1   \n",
       "1                      25.0           1              6.0                   1   \n",
       "2                     138.0           1              2.0                   1   \n",
       "3                      21.0           0             11.0                   1   \n",
       "4                       8.0           1             16.0                   1   \n",
       "...                     ...         ...              ...                 ...   \n",
       "88782                  57.0           1             18.0                   0   \n",
       "88783                  19.0           1             14.0                   1   \n",
       "88784                  22.0           1             20.0                   1   \n",
       "88785                  25.0           1             20.0                   1   \n",
       "88786                   9.0           1              3.0                   1   \n",
       "\n",
       "       Prior disability level Stroke team  Use of AF anticoagulents  \\\n",
       "0                           0  TXHRP7672C                         0   \n",
       "1                           0  SQGXB9559U                         0   \n",
       "2                           0  LFPMM4706C                         0   \n",
       "3                           0  MHMYL4920B                         0   \n",
       "4                           0  EQZZZ5658G                         0   \n",
       "...                       ...         ...                       ...   \n",
       "88782                       4  QWKRA8499D                         0   \n",
       "88783                       0  SQGXB9559U                         0   \n",
       "88784                       0  KZKEZ2257Z                         0   \n",
       "88785                       0  QOAPO4699N                         0   \n",
       "88786                       3  PAYNN3649Z                         0   \n",
       "\n",
       "       Onset-to-arrival time  Thrombolysis  \n",
       "0                      186.0             1  \n",
       "1                       71.0             1  \n",
       "2                       67.0             0  \n",
       "3                       86.0             0  \n",
       "4                       83.0             1  \n",
       "...                      ...           ...  \n",
       "88782                   93.0             0  \n",
       "88783                  119.0             1  \n",
       "88784                   69.0             1  \n",
       "88785                   54.0             0  \n",
       "88786                   93.0             0  \n",
       "\n",
       "[88787 rows x 9 columns]"
      ]
     },
     "execution_count": 7,
     "metadata": {},
     "output_type": "execute_result"
    }
   ],
   "source": [
    "data.head(-5)"
   ]
  },
  {
   "cell_type": "markdown",
   "metadata": {},
   "source": [
    "## Fit XGBoost model\n",
    "\n",
    "Fit XGBoost model"
   ]
  },
  {
   "cell_type": "markdown",
   "metadata": {},
   "source": [
    "## Divide into X (features) and y (labels)\n",
    "\n",
    "We will separate out our features (the data we use to make a prediction) from our label (what we are trying to predict).\n",
    "By convention our features are called `X` (usually upper case to denote multiple features), and the label (thrombolysis or not) `y`."
   ]
  },
  {
   "cell_type": "code",
   "execution_count": 8,
   "metadata": {},
   "outputs": [],
   "source": [
    "X = data.drop('Thrombolysis', axis=1)\n",
    "y = data['Thrombolysis']"
   ]
  },
  {
   "cell_type": "markdown",
   "metadata": {},
   "source": [
    "Average thromboylsis (this is the expected outcome of each patient, without knowing anything about the patient)"
   ]
  },
  {
   "cell_type": "code",
   "execution_count": 9,
   "metadata": {},
   "outputs": [
    {
     "name": "stdout",
     "output_type": "stream",
     "text": [
      "Average treatment: 0.3\n"
     ]
    }
   ],
   "source": [
    "print (f'Average treatment: {round(y.mean(),2)}')"
   ]
  },
  {
   "cell_type": "markdown",
   "metadata": {},
   "source": [
    "## One hot encode hospitals"
   ]
  },
  {
   "cell_type": "code",
   "execution_count": 10,
   "metadata": {},
   "outputs": [],
   "source": [
    "# Keep copy of original, with 'Stroke team' not one-hot encoded\n",
    "X_combined = X.copy(deep=True)\n",
    "\n",
    "# One-hot encode 'Stroke team'\n",
    "X_hosp = pd.get_dummies(X['Stroke team'], prefix = 'team')\n",
    "X = pd.concat([X, X_hosp], axis=1)\n",
    "X.drop('Stroke team', axis=1, inplace=True)"
   ]
  },
  {
   "cell_type": "markdown",
   "metadata": {},
   "source": [
    "## Fit XGBoost model\n",
    "\n",
    "We will fit a model to all of the data (rather than train/test splits used to assess accuracy).\n",
    "\n",
    "Use learning rate 0.5 to regularise the model. As increase learning rate value, this increases regularisation. Using a learning rate of 0.5 gives maximum variation between the hosptials. The default learning rate of 0.1 results in few differences between the hospitals (8 one-hot encoded features were not used in the model - had 0 SHAP value for all instances).\n",
    "\n",
    "Too low a learning rate results in too ____, too high a learning rate results in too ___.\n",
    "\n",
    "See https://samuel-book.github.io/samuel_shap_paper_1/xgb_with_feature_selection/91_learning_rate_optimisation.html?highlight=learning%20rate\n"
   ]
  },
  {
   "cell_type": "code",
   "execution_count": 11,
   "metadata": {},
   "outputs": [
    {
     "name": "stdout",
     "output_type": "stream",
     "text": [
      "[21:34:53] WARNING: ../src/learner.cc:1115: Starting in XGBoost 1.3.0, the default evaluation metric used with the objective 'binary:logistic' was changed from 'error' to 'logloss'. Explicitly set eval_metric if you'd like to restore the old behavior.\n"
     ]
    },
    {
     "data": {
      "text/html": [
       "<style>#sk-container-id-1 {color: black;background-color: white;}#sk-container-id-1 pre{padding: 0;}#sk-container-id-1 div.sk-toggleable {background-color: white;}#sk-container-id-1 label.sk-toggleable__label {cursor: pointer;display: block;width: 100%;margin-bottom: 0;padding: 0.3em;box-sizing: border-box;text-align: center;}#sk-container-id-1 label.sk-toggleable__label-arrow:before {content: \"▸\";float: left;margin-right: 0.25em;color: #696969;}#sk-container-id-1 label.sk-toggleable__label-arrow:hover:before {color: black;}#sk-container-id-1 div.sk-estimator:hover label.sk-toggleable__label-arrow:before {color: black;}#sk-container-id-1 div.sk-toggleable__content {max-height: 0;max-width: 0;overflow: hidden;text-align: left;background-color: #f0f8ff;}#sk-container-id-1 div.sk-toggleable__content pre {margin: 0.2em;color: black;border-radius: 0.25em;background-color: #f0f8ff;}#sk-container-id-1 input.sk-toggleable__control:checked~div.sk-toggleable__content {max-height: 200px;max-width: 100%;overflow: auto;}#sk-container-id-1 input.sk-toggleable__control:checked~label.sk-toggleable__label-arrow:before {content: \"▾\";}#sk-container-id-1 div.sk-estimator input.sk-toggleable__control:checked~label.sk-toggleable__label {background-color: #d4ebff;}#sk-container-id-1 div.sk-label input.sk-toggleable__control:checked~label.sk-toggleable__label {background-color: #d4ebff;}#sk-container-id-1 input.sk-hidden--visually {border: 0;clip: rect(1px 1px 1px 1px);clip: rect(1px, 1px, 1px, 1px);height: 1px;margin: -1px;overflow: hidden;padding: 0;position: absolute;width: 1px;}#sk-container-id-1 div.sk-estimator {font-family: monospace;background-color: #f0f8ff;border: 1px dotted black;border-radius: 0.25em;box-sizing: border-box;margin-bottom: 0.5em;}#sk-container-id-1 div.sk-estimator:hover {background-color: #d4ebff;}#sk-container-id-1 div.sk-parallel-item::after {content: \"\";width: 100%;border-bottom: 1px solid gray;flex-grow: 1;}#sk-container-id-1 div.sk-label:hover label.sk-toggleable__label {background-color: #d4ebff;}#sk-container-id-1 div.sk-serial::before {content: \"\";position: absolute;border-left: 1px solid gray;box-sizing: border-box;top: 0;bottom: 0;left: 50%;z-index: 0;}#sk-container-id-1 div.sk-serial {display: flex;flex-direction: column;align-items: center;background-color: white;padding-right: 0.2em;padding-left: 0.2em;position: relative;}#sk-container-id-1 div.sk-item {position: relative;z-index: 1;}#sk-container-id-1 div.sk-parallel {display: flex;align-items: stretch;justify-content: center;background-color: white;position: relative;}#sk-container-id-1 div.sk-item::before, #sk-container-id-1 div.sk-parallel-item::before {content: \"\";position: absolute;border-left: 1px solid gray;box-sizing: border-box;top: 0;bottom: 0;left: 50%;z-index: -1;}#sk-container-id-1 div.sk-parallel-item {display: flex;flex-direction: column;z-index: 1;position: relative;background-color: white;}#sk-container-id-1 div.sk-parallel-item:first-child::after {align-self: flex-end;width: 50%;}#sk-container-id-1 div.sk-parallel-item:last-child::after {align-self: flex-start;width: 50%;}#sk-container-id-1 div.sk-parallel-item:only-child::after {width: 0;}#sk-container-id-1 div.sk-dashed-wrapped {border: 1px dashed gray;margin: 0 0.4em 0.5em 0.4em;box-sizing: border-box;padding-bottom: 0.4em;background-color: white;}#sk-container-id-1 div.sk-label label {font-family: monospace;font-weight: bold;display: inline-block;line-height: 1.2em;}#sk-container-id-1 div.sk-label-container {text-align: center;}#sk-container-id-1 div.sk-container {/* jupyter's `normalize.less` sets `[hidden] { display: none; }` but bootstrap.min.css set `[hidden] { display: none !important; }` so we also need the `!important` here to be able to override the default hidden behavior on the sphinx rendered scikit-learn.org. See: https://github.com/scikit-learn/scikit-learn/issues/21755 */display: inline-block !important;position: relative;}#sk-container-id-1 div.sk-text-repr-fallback {display: none;}</style><div id=\"sk-container-id-1\" class=\"sk-top-container\"><div class=\"sk-text-repr-fallback\"><pre>XGBClassifier(base_score=0.5, booster=&#x27;gbtree&#x27;, colsample_bylevel=1,\n",
       "              colsample_bynode=1, colsample_bytree=1, enable_categorical=False,\n",
       "              gamma=0, gpu_id=-1, importance_type=None,\n",
       "              interaction_constraints=&#x27;&#x27;, learning_rate=0.5, max_delta_step=0,\n",
       "              max_depth=6, min_child_weight=1, missing=nan,\n",
       "              monotone_constraints=&#x27;()&#x27;, n_estimators=100, n_jobs=12,\n",
       "              num_parallel_tree=1, predictor=&#x27;auto&#x27;, random_state=42,\n",
       "              reg_alpha=0, reg_lambda=1, scale_pos_weight=1, subsample=1,\n",
       "              tree_method=&#x27;exact&#x27;, validate_parameters=1, verbosity=None)</pre><b>In a Jupyter environment, please rerun this cell to show the HTML representation or trust the notebook. <br />On GitHub, the HTML representation is unable to render, please try loading this page with nbviewer.org.</b></div><div class=\"sk-container\" hidden><div class=\"sk-item\"><div class=\"sk-estimator sk-toggleable\"><input class=\"sk-toggleable__control sk-hidden--visually\" id=\"sk-estimator-id-1\" type=\"checkbox\" checked><label for=\"sk-estimator-id-1\" class=\"sk-toggleable__label sk-toggleable__label-arrow\">XGBClassifier</label><div class=\"sk-toggleable__content\"><pre>XGBClassifier(base_score=0.5, booster=&#x27;gbtree&#x27;, colsample_bylevel=1,\n",
       "              colsample_bynode=1, colsample_bytree=1, enable_categorical=False,\n",
       "              gamma=0, gpu_id=-1, importance_type=None,\n",
       "              interaction_constraints=&#x27;&#x27;, learning_rate=0.5, max_delta_step=0,\n",
       "              max_depth=6, min_child_weight=1, missing=nan,\n",
       "              monotone_constraints=&#x27;()&#x27;, n_estimators=100, n_jobs=12,\n",
       "              num_parallel_tree=1, predictor=&#x27;auto&#x27;, random_state=42,\n",
       "              reg_alpha=0, reg_lambda=1, scale_pos_weight=1, subsample=1,\n",
       "              tree_method=&#x27;exact&#x27;, validate_parameters=1, verbosity=None)</pre></div></div></div></div></div>"
      ],
      "text/plain": [
       "XGBClassifier(base_score=0.5, booster='gbtree', colsample_bylevel=1,\n",
       "              colsample_bynode=1, colsample_bytree=1, enable_categorical=False,\n",
       "              gamma=0, gpu_id=-1, importance_type=None,\n",
       "              interaction_constraints='', learning_rate=0.5, max_delta_step=0,\n",
       "              max_depth=6, min_child_weight=1, missing=nan,\n",
       "              monotone_constraints='()', n_estimators=100, n_jobs=12,\n",
       "              num_parallel_tree=1, predictor='auto', random_state=42,\n",
       "              reg_alpha=0, reg_lambda=1, scale_pos_weight=1, subsample=1,\n",
       "              tree_method='exact', validate_parameters=1, verbosity=None)"
      ]
     },
     "execution_count": 11,
     "metadata": {},
     "output_type": "execute_result"
    }
   ],
   "source": [
    "#model = XGBClassifier(verbosity = 0, seed=42, learning_rate=0.5)\n",
    "model = XGBClassifier(random_state=42, learning_rate=0.5)\n",
    "model.fit(X, y)"
   ]
  },
  {
   "cell_type": "markdown",
   "metadata": {},
   "source": [
    "Get the predictions for each patient (in terms of the classification, and the probability of being in either class)"
   ]
  },
  {
   "cell_type": "code",
   "execution_count": 12,
   "metadata": {},
   "outputs": [],
   "source": [
    "y_pred = model.predict(X)\n",
    "y_proba = model.predict_proba(X)"
   ]
  },
  {
   "cell_type": "markdown",
   "metadata": {},
   "source": [
    "Calculate the models accuracy"
   ]
  },
  {
   "cell_type": "code",
   "execution_count": 13,
   "metadata": {},
   "outputs": [
    {
     "name": "stdout",
     "output_type": "stream",
     "text": [
      "Model accuracy: 0.874\n"
     ]
    }
   ],
   "source": [
    "accuracy = np.mean(y == y_pred)\n",
    "print(f'Model accuracy: {accuracy:0.3f}')"
   ]
  },
  {
   "cell_type": "markdown",
   "metadata": {},
   "source": [
    "## Get SHAP values\n",
    "\n",
    "TreeExplainer is a fast and exact method to estimate SHAP values for tree models and ensembles of trees.\n",
    "Using this we can calculate the SHAP values.\n",
    "\n",
    "Either load from pickle (if file exists), or calculate."
   ]
  },
  {
   "cell_type": "code",
   "execution_count": 14,
   "metadata": {},
   "outputs": [
    {
     "name": "stdout",
     "output_type": "stream",
     "text": [
      "CPU times: user 1.82 s, sys: 96.3 ms, total: 1.91 s\n",
      "Wall time: 233 ms\n"
     ]
    }
   ],
   "source": [
    "%%time\n",
    "\n",
    "# Set up method to estimate SHAP values for tree models and ensembles of trees\n",
    "\n",
    "filename = f'./output/03a_xgb_shap_explainer_object.p'\n",
    "file_exists = exists(filename)\n",
    "\n",
    "if file_exists:\n",
    "    # Load SHAP interaction\n",
    "    with open(filename, 'rb') as filehandler:\n",
    "        explainer = pickle.load(filehandler)\n",
    "else:\n",
    "    # Set up method to estimate SHAP values for tree models & ensembles of trees\n",
    "    explainer = shap.TreeExplainer(model)\n",
    "\n",
    "    # Save using pickle\n",
    "    with open(filename, 'wb') as filehandler:\n",
    "        pickle.dump(explainer, filehandler)\n",
    "\n",
    "# Get SHAP values\n",
    "\n",
    "filename = f'./output/03a_xgb_shap_values_explainer_object.p'\n",
    "file_exists = exists(filename)\n",
    "\n",
    "if file_exists:\n",
    "    # Load explainer\n",
    "    with open(filename, 'rb') as filehandler:\n",
    "        shap_values = pickle.load(filehandler)\n",
    "else:\n",
    "    # Get SHAP values\n",
    "    shap_values = explainer(X)\n",
    "    \n",
    "    # Save using pickle\n",
    "    with open(filename, 'wb') as filehandler:\n",
    "        pickle.dump(shap_values , filehandler)"
   ]
  },
  {
   "cell_type": "markdown",
   "metadata": {},
   "source": [
    "The explainer returns the base value which is the same value for all instances [shap_value.base_values], the shap values per feature [shap_value.values]. It also returns the feature dataset values [shap_values.data]. You can (sometimes!) access the feature names from the explainer [explainer.data_feature_names].\n",
    "\n",
    "Let's take a look at the data held for the first instance:\n",
    "* .values has the SHAP value for each of the four features.\n",
    "* .base_values has the best guess value without knowing anything about the instance.\n",
    "* .data has each of the feature values"
   ]
  },
  {
   "cell_type": "code",
   "execution_count": 15,
   "metadata": {},
   "outputs": [
    {
     "data": {
      "text/plain": [
       ".values =\n",
       "array([ 7.04962432e-01,  4.70834434e-01,  9.37760234e-01,  4.88724023e-01,\n",
       "        3.48922372e-01,  1.90080196e-01, -4.45128560e-01,  6.24495908e-04,\n",
       "       -5.58784464e-04,  9.94549366e-04, -1.44827543e-04, -4.78777918e-04,\n",
       "        2.03018426e-03,  1.32616831e-03, -4.62164963e-03, -1.44663296e-04,\n",
       "       -2.64727464e-03,  1.57258241e-03, -5.47267409e-05,  5.59005048e-03,\n",
       "       -4.94364649e-03, -2.45308410e-03,  6.91119907e-03,  2.98903068e-03,\n",
       "       -8.01010709e-03,  1.15073301e-04,  1.01976674e-02,  8.05436866e-06,\n",
       "       -1.34180160e-03,  7.04234745e-03,  8.45438568e-04, -4.65887540e-04,\n",
       "       -1.33352196e-02, -6.82451949e-03, -8.29387631e-04, -5.12058055e-03,\n",
       "       -3.64354905e-03, -1.16270920e-03,  1.54822294e-04, -1.55990687e-03,\n",
       "        1.06859556e-03,  3.09080351e-03,  1.03797121e-02,  1.74750038e-03,\n",
       "       -3.29944468e-03,  1.61964737e-03, -7.15182303e-03,  3.09971487e-03,\n",
       "        4.52662492e-03,  1.35833852e-03,  9.84258251e-04,  2.75278743e-03,\n",
       "        2.54434953e-03,  8.74023326e-03,  2.60777958e-03, -1.31129136e-03,\n",
       "       -5.39722200e-03,  7.67914520e-04,  0.00000000e+00,  1.73060864e-03,\n",
       "       -1.17528234e-02,  8.09836853e-03,  1.61945913e-03,  1.63312221e-03,\n",
       "        6.39560586e-03,  2.06852244e-04, -2.50501093e-04,  2.28828774e-03,\n",
       "        2.79492233e-04, -1.14734229e-02,  4.51009441e-03, -4.42358665e-03,\n",
       "       -9.82596260e-03,  7.27039704e-04,  2.07322137e-03,  1.43759156e-04,\n",
       "        8.62131128e-04,  1.52728171e-03,  5.86548762e-04,  2.28157453e-03,\n",
       "       -1.32612977e-03, -3.41000082e-03,  9.26079403e-04, -4.77445032e-03,\n",
       "       -8.29016091e-04,  2.49624671e-03, -2.69430154e-03,  1.05254189e-03,\n",
       "       -6.49072696e-03, -4.31612658e-04, -8.12973175e-03, -8.58967309e-04,\n",
       "        2.42321542e-03, -5.84473019e-04, -4.14928375e-03,  1.20038749e-04,\n",
       "        1.27157895e-03,  1.57682353e-03, -1.53624453e-04, -7.46721262e-03,\n",
       "        4.43202705e-04, -4.03816783e-04,  5.20984828e-03,  3.02901259e-03,\n",
       "        4.52936220e-04, -2.11757445e-03, -6.08804030e-03, -6.40831597e-04,\n",
       "       -5.25312461e-02, -5.95880020e-03, -5.55130746e-03,  2.20625661e-03,\n",
       "       -3.67098255e-04, -1.18820253e-03, -1.26575015e-03, -1.18236803e-03,\n",
       "       -2.38304306e-02,  2.13243975e-03,  1.26826373e-04, -3.48664192e-03,\n",
       "        4.21699369e-04,  6.16769248e-04,  2.54212832e-03, -2.26118224e-04,\n",
       "        2.76414445e-04, -1.12711044e-04, -1.38379140e-02,  5.59006445e-03,\n",
       "       -1.15945423e-03, -1.09747490e-02,  3.43580148e-03,  4.04264400e-04,\n",
       "       -4.61987779e-03,  8.98920640e-04,  3.32874130e-04, -2.10877531e-03,\n",
       "        2.44032685e-03, -1.70883912e-04,  3.06107313e-03], dtype=float32)\n",
       "\n",
       ".base_values =\n",
       "-1.1588297\n",
       "\n",
       ".data =\n",
       "array([ 17.,   1.,  14.,   1.,   0.,   0., 186.,   0.,   0.,   0.,   0.,\n",
       "         0.,   0.,   0.,   0.,   0.,   0.,   0.,   0.,   0.,   0.,   0.,\n",
       "         0.,   0.,   0.,   0.,   0.,   0.,   0.,   0.,   0.,   0.,   0.,\n",
       "         0.,   0.,   0.,   0.,   0.,   0.,   0.,   0.,   0.,   0.,   0.,\n",
       "         0.,   0.,   0.,   0.,   0.,   0.,   0.,   0.,   0.,   0.,   0.,\n",
       "         0.,   0.,   0.,   0.,   0.,   0.,   0.,   0.,   0.,   0.,   0.,\n",
       "         0.,   0.,   0.,   0.,   0.,   0.,   0.,   0.,   0.,   0.,   0.,\n",
       "         0.,   0.,   0.,   0.,   0.,   0.,   0.,   0.,   0.,   0.,   0.,\n",
       "         0.,   0.,   0.,   0.,   0.,   0.,   0.,   0.,   0.,   0.,   0.,\n",
       "         0.,   0.,   0.,   0.,   0.,   0.,   0.,   0.,   0.,   1.,   0.,\n",
       "         0.,   0.,   0.,   0.,   0.,   0.,   0.,   0.,   0.,   0.,   0.,\n",
       "         0.,   0.,   0.,   0.,   0.,   0.,   0.,   0.,   0.,   0.,   0.,\n",
       "         0.,   0.,   0.,   0.,   0.,   0.,   0.])"
      ]
     },
     "execution_count": 15,
     "metadata": {},
     "output_type": "execute_result"
    }
   ],
   "source": [
    "shap_values[0]"
   ]
  },
  {
   "cell_type": "markdown",
   "metadata": {},
   "source": [
    "There is one of these for each instance."
   ]
  },
  {
   "cell_type": "code",
   "execution_count": 16,
   "metadata": {},
   "outputs": [
    {
     "data": {
      "text/plain": [
       "(88792, 139)"
      ]
     },
     "execution_count": 16,
     "metadata": {},
     "output_type": "execute_result"
    }
   ],
   "source": [
    "shap_values.shape"
   ]
  },
  {
   "cell_type": "markdown",
   "metadata": {},
   "source": [
    "## Get SHAP interaction values\n",
    "Use the TreeExplainer to also calculate the SHAP main effect and SHAP interaction values (the sum of which give the SHAP values for each feature)\n",
    "\n",
    "Use these values to access the main effect for each of the one-hot encoded hospital features."
   ]
  },
  {
   "cell_type": "code",
   "execution_count": 17,
   "metadata": {},
   "outputs": [
    {
     "name": "stdout",
     "output_type": "stream",
     "text": [
      "CPU times: user 0 ns, sys: 3.59 s, total: 3.59 s\n",
      "Wall time: 7.6 s\n"
     ]
    }
   ],
   "source": [
    "%%time\n",
    "\n",
    "filename = f'./output/03a_xgb_shap_interaction_array.p'\n",
    "file_exists = exists(filename)\n",
    "\n",
    "if file_exists:\n",
    "    # Load SHAP interaction\n",
    "    with open(filename, 'rb') as filehandler:\n",
    "        shap_interaction = pickle.load(filehandler)\n",
    "else:\n",
    "    # Get SHAP interaction values\n",
    "    shap_interaction = explainer.shap_interaction_values(X)\n",
    "    \n",
    "    # Save using pickle\n",
    "    with open(filename, 'wb') as filehandler:\n",
    "        pickle.dump(shap_interaction, filehandler)"
   ]
  },
  {
   "cell_type": "markdown",
   "metadata": {},
   "source": [
    "SHAP interaction values have a matrix of values (per pair of features) per instance.\\\n",
    "In this case, each of the 88792 instances has a 139x139 matrix of SHAP interaction values (with the SHAP main effect on the diagonal positions)."
   ]
  },
  {
   "cell_type": "code",
   "execution_count": 18,
   "metadata": {},
   "outputs": [
    {
     "data": {
      "text/plain": [
       "(88792, 139, 139)"
      ]
     },
     "execution_count": 18,
     "metadata": {},
     "output_type": "execute_result"
    }
   ],
   "source": [
    "shap_interaction.shape"
   ]
  },
  {
   "cell_type": "markdown",
   "metadata": {},
   "source": [
    "Show SHAP interation matrix (with main effect on the diagonal positions) for the first instance. Notice how the SHAP interation for pairs of features are symmetrical across the diagonal."
   ]
  },
  {
   "cell_type": "code",
   "execution_count": 19,
   "metadata": {},
   "outputs": [
    {
     "data": {
      "text/plain": [
       "array([[ 6.9311428e-01,  3.5109535e-02, -5.6171417e-04, ...,\n",
       "         2.1258509e-04, -6.8530644e-05, -8.5086795e-04],\n",
       "       [ 3.5109580e-02,  3.4838551e-01,  4.9971551e-02, ...,\n",
       "         0.0000000e+00, -1.5326077e-07,  1.3407553e-06],\n",
       "       [-5.6150556e-04,  4.9971461e-02,  8.3505976e-01, ...,\n",
       "        -1.4024938e-04,  1.5478528e-03,  3.5843346e-05],\n",
       "       ...,\n",
       "       [ 2.1257997e-04,  0.0000000e+00, -1.4033914e-04, ...,\n",
       "         3.0400229e-03,  0.0000000e+00,  1.5953556e-06],\n",
       "       [-6.8545341e-05, -1.4901161e-07,  1.5478432e-03, ...,\n",
       "         0.0000000e+00, -4.5095785e-03,  0.0000000e+00],\n",
       "       [-8.5088611e-04,  1.3411045e-06,  3.5852194e-05, ...,\n",
       "         1.5952392e-06,  0.0000000e+00,  4.1305181e-03]], dtype=float32)"
      ]
     },
     "execution_count": 19,
     "metadata": {},
     "output_type": "execute_result"
    }
   ],
   "source": [
    "shap_interaction[0]"
   ]
  },
  {
   "cell_type": "markdown",
   "metadata": {},
   "source": [
    "# SHAP main effect for the hospital features \n",
    "\n",
    "We've seen in notebook 3a that the categorical feature represented as a one-hot encoded feature have a SHAP value for each of the one-hot encoded features, and that the SHAP value (for the instances that attned the hospital) accounts for 58% of the variance in the hositals thrombolysis rate.\n",
    "\n",
    "Here we will focus on understanding the SHAP main effect values for each hospital, their contribution when a patient attends the hospital, and the contribution when the patient does not attend the hospital."
   ]
  },
  {
   "cell_type": "markdown",
   "metadata": {},
   "source": [
    "#### Format the SHAP values data \n",
    "\n",
    "Features are in the same order in shap_values as they are in the original dataset.\n",
    "\n",
    "Use this fact to extract the SHAP values for the one-hot encoded hospital features. Create a dataframe containing the SHAP values: an instance per row, and a one-hot encoded hospital feature per column.\n",
    "\n",
    "Also include a column containing the Stroke team that each instance attended.\n",
    "\n",
    "And three further columns: \n",
    "1) contribution from all the hospital features\n",
    "2) contribution from attending the hospital\n",
    "3) contribution from not attending the rest"
   ]
  },
  {
   "cell_type": "code",
   "execution_count": 20,
   "metadata": {},
   "outputs": [
    {
     "data": {
      "text/html": [
       "<div>\n",
       "<style scoped>\n",
       "    .dataframe tbody tr th:only-of-type {\n",
       "        vertical-align: middle;\n",
       "    }\n",
       "\n",
       "    .dataframe tbody tr th {\n",
       "        vertical-align: top;\n",
       "    }\n",
       "\n",
       "    .dataframe thead th {\n",
       "        text-align: right;\n",
       "    }\n",
       "</style>\n",
       "<table border=\"1\" class=\"dataframe\">\n",
       "  <thead>\n",
       "    <tr style=\"text-align: right;\">\n",
       "      <th></th>\n",
       "      <th>AGNOF1041H</th>\n",
       "      <th>AKCGO9726K</th>\n",
       "      <th>AOBTM3098N</th>\n",
       "      <th>APXEE8191H</th>\n",
       "      <th>ATDID5461S</th>\n",
       "      <th>BBXPQ0212O</th>\n",
       "      <th>BICAW1125K</th>\n",
       "      <th>BQZGT7491V</th>\n",
       "      <th>BXXZS5063A</th>\n",
       "      <th>CNBGF2713O</th>\n",
       "      <th>...</th>\n",
       "      <th>YEXCH8391J</th>\n",
       "      <th>YPKYH1768F</th>\n",
       "      <th>YQMZV4284N</th>\n",
       "      <th>ZBVSO0975W</th>\n",
       "      <th>ZHCLE1578P</th>\n",
       "      <th>ZRRCV7012C</th>\n",
       "      <th>Stroke team</th>\n",
       "      <th>all_stroke_teams</th>\n",
       "      <th>attended_stroke_team</th>\n",
       "      <th>not_attended_stroke_teams</th>\n",
       "    </tr>\n",
       "  </thead>\n",
       "  <tbody>\n",
       "    <tr>\n",
       "      <th>0</th>\n",
       "      <td>0.000624</td>\n",
       "      <td>-0.000559</td>\n",
       "      <td>0.000995</td>\n",
       "      <td>-0.000145</td>\n",
       "      <td>-0.000479</td>\n",
       "      <td>0.002030</td>\n",
       "      <td>0.001326</td>\n",
       "      <td>-0.004622</td>\n",
       "      <td>-0.000145</td>\n",
       "      <td>-0.002647</td>\n",
       "      <td>...</td>\n",
       "      <td>0.000899</td>\n",
       "      <td>0.000333</td>\n",
       "      <td>-0.002109</td>\n",
       "      <td>0.002440</td>\n",
       "      <td>-0.000171</td>\n",
       "      <td>0.003061</td>\n",
       "      <td>TXHRP7672C</td>\n",
       "      <td>-0.128209</td>\n",
       "      <td>-0.052531</td>\n",
       "      <td>-0.075677</td>\n",
       "    </tr>\n",
       "    <tr>\n",
       "      <th>1</th>\n",
       "      <td>-0.003044</td>\n",
       "      <td>-0.006914</td>\n",
       "      <td>0.002863</td>\n",
       "      <td>-0.000086</td>\n",
       "      <td>-0.000618</td>\n",
       "      <td>0.001353</td>\n",
       "      <td>0.002746</td>\n",
       "      <td>-0.003653</td>\n",
       "      <td>0.000556</td>\n",
       "      <td>-0.002556</td>\n",
       "      <td>...</td>\n",
       "      <td>0.000174</td>\n",
       "      <td>0.001165</td>\n",
       "      <td>-0.000637</td>\n",
       "      <td>0.003117</td>\n",
       "      <td>-0.002408</td>\n",
       "      <td>0.001963</td>\n",
       "      <td>SQGXB9559U</td>\n",
       "      <td>-0.605491</td>\n",
       "      <td>-0.498364</td>\n",
       "      <td>-0.107127</td>\n",
       "    </tr>\n",
       "    <tr>\n",
       "      <th>2</th>\n",
       "      <td>-0.001143</td>\n",
       "      <td>-0.019610</td>\n",
       "      <td>0.004226</td>\n",
       "      <td>-0.000075</td>\n",
       "      <td>-0.000728</td>\n",
       "      <td>0.001596</td>\n",
       "      <td>0.002600</td>\n",
       "      <td>-0.007341</td>\n",
       "      <td>-0.000620</td>\n",
       "      <td>-0.002757</td>\n",
       "      <td>...</td>\n",
       "      <td>-0.000233</td>\n",
       "      <td>0.000457</td>\n",
       "      <td>0.000218</td>\n",
       "      <td>0.003129</td>\n",
       "      <td>-0.001370</td>\n",
       "      <td>0.004762</td>\n",
       "      <td>LFPMM4706C</td>\n",
       "      <td>-1.303135</td>\n",
       "      <td>-1.190989</td>\n",
       "      <td>-0.112146</td>\n",
       "    </tr>\n",
       "    <tr>\n",
       "      <th>3</th>\n",
       "      <td>-0.003142</td>\n",
       "      <td>0.000237</td>\n",
       "      <td>0.001320</td>\n",
       "      <td>-0.000005</td>\n",
       "      <td>-0.000479</td>\n",
       "      <td>0.001353</td>\n",
       "      <td>0.002746</td>\n",
       "      <td>-0.005188</td>\n",
       "      <td>-0.000247</td>\n",
       "      <td>-0.002505</td>\n",
       "      <td>...</td>\n",
       "      <td>0.000706</td>\n",
       "      <td>0.001165</td>\n",
       "      <td>-0.002276</td>\n",
       "      <td>0.002574</td>\n",
       "      <td>-0.004369</td>\n",
       "      <td>0.002328</td>\n",
       "      <td>MHMYL4920B</td>\n",
       "      <td>0.674405</td>\n",
       "      <td>0.746649</td>\n",
       "      <td>-0.072244</td>\n",
       "    </tr>\n",
       "    <tr>\n",
       "      <th>4</th>\n",
       "      <td>0.000523</td>\n",
       "      <td>-0.004762</td>\n",
       "      <td>0.002777</td>\n",
       "      <td>-0.000145</td>\n",
       "      <td>-0.000479</td>\n",
       "      <td>0.000542</td>\n",
       "      <td>0.002729</td>\n",
       "      <td>-0.005198</td>\n",
       "      <td>-0.000258</td>\n",
       "      <td>-0.001873</td>\n",
       "      <td>...</td>\n",
       "      <td>0.000899</td>\n",
       "      <td>0.000687</td>\n",
       "      <td>-0.002109</td>\n",
       "      <td>0.002328</td>\n",
       "      <td>-0.001387</td>\n",
       "      <td>0.002708</td>\n",
       "      <td>EQZZZ5658G</td>\n",
       "      <td>-0.133660</td>\n",
       "      <td>-0.008904</td>\n",
       "      <td>-0.124756</td>\n",
       "    </tr>\n",
       "  </tbody>\n",
       "</table>\n",
       "<p>5 rows × 136 columns</p>\n",
       "</div>"
      ],
      "text/plain": [
       "   AGNOF1041H  AKCGO9726K  AOBTM3098N  APXEE8191H  ATDID5461S  BBXPQ0212O  \\\n",
       "0    0.000624   -0.000559    0.000995   -0.000145   -0.000479    0.002030   \n",
       "1   -0.003044   -0.006914    0.002863   -0.000086   -0.000618    0.001353   \n",
       "2   -0.001143   -0.019610    0.004226   -0.000075   -0.000728    0.001596   \n",
       "3   -0.003142    0.000237    0.001320   -0.000005   -0.000479    0.001353   \n",
       "4    0.000523   -0.004762    0.002777   -0.000145   -0.000479    0.000542   \n",
       "\n",
       "   BICAW1125K  BQZGT7491V  BXXZS5063A  CNBGF2713O  ...  YEXCH8391J  \\\n",
       "0    0.001326   -0.004622   -0.000145   -0.002647  ...    0.000899   \n",
       "1    0.002746   -0.003653    0.000556   -0.002556  ...    0.000174   \n",
       "2    0.002600   -0.007341   -0.000620   -0.002757  ...   -0.000233   \n",
       "3    0.002746   -0.005188   -0.000247   -0.002505  ...    0.000706   \n",
       "4    0.002729   -0.005198   -0.000258   -0.001873  ...    0.000899   \n",
       "\n",
       "   YPKYH1768F  YQMZV4284N  ZBVSO0975W  ZHCLE1578P  ZRRCV7012C  Stroke team  \\\n",
       "0    0.000333   -0.002109    0.002440   -0.000171    0.003061   TXHRP7672C   \n",
       "1    0.001165   -0.000637    0.003117   -0.002408    0.001963   SQGXB9559U   \n",
       "2    0.000457    0.000218    0.003129   -0.001370    0.004762   LFPMM4706C   \n",
       "3    0.001165   -0.002276    0.002574   -0.004369    0.002328   MHMYL4920B   \n",
       "4    0.000687   -0.002109    0.002328   -0.001387    0.002708   EQZZZ5658G   \n",
       "\n",
       "   all_stroke_teams  attended_stroke_team  not_attended_stroke_teams  \n",
       "0         -0.128209             -0.052531                  -0.075677  \n",
       "1         -0.605491             -0.498364                  -0.107127  \n",
       "2         -1.303135             -1.190989                  -0.112146  \n",
       "3          0.674405              0.746649                  -0.072244  \n",
       "4         -0.133660             -0.008904                  -0.124756  \n",
       "\n",
       "[5 rows x 136 columns]"
      ]
     },
     "execution_count": 20,
     "metadata": {},
     "output_type": "execute_result"
    }
   ],
   "source": [
    "# Get list of hospital one hot encoded column titles\n",
    "hospital_names_ohe = X.filter(regex='^team',axis=1).columns\n",
    "n_hospitals = len(hospital_names_ohe)\n",
    "\n",
    "# Get list of hospital names without the prefix \"team_\"\n",
    "hospital_names = [h[5:] for h in hospital_names_ohe]\n",
    "\n",
    "# Create list of column index for these hospital column titles\n",
    "hospital_columns_index = [X.columns.get_loc(col) for col in hospital_names_ohe]\n",
    "# Use this index list to access the hosptial shap values (as array)\n",
    "hosp_shap_values = shap_values.values[:,hospital_columns_index]\n",
    "# Put in dataframe with hospital as column title\n",
    "df_hosp_shap_values = pd.DataFrame(hosp_shap_values, columns = hospital_names)\n",
    "# Include Stroke team that each instance attended\n",
    "df_hosp_shap_values[\"Stroke team\"] = X_combined[\"Stroke team\"].values\n",
    "\n",
    "# Store the sum of the SHAP values (for all of the hospital features)\n",
    "df_hosp_shap_values[\"all_stroke_teams\"] = df_hosp_shap_values.sum(axis=1)\n",
    "\n",
    "# Initialise list for 1) SHAP value for attended hospital 2) SHAP value for \n",
    "#   the sum of the rest of the hospitals\n",
    "shap_values_attended_hospital = []\n",
    "shap_values_not_attend_these_hospitals = []\n",
    "\n",
    "# For each patient\n",
    "for index, row in df_hosp_shap_values.iterrows():\n",
    "\n",
    "    # Get stroke team attended\n",
    "    stroke_team = row[\"Stroke team\"]\n",
    "    \n",
    "    # Get SHAP value for the stroke team attended\n",
    "    shap_values_attended_hospital.append(row[stroke_team])\n",
    "\n",
    "    # Calculate sum of SHAP values for the stroke teams not attend \n",
    "    sum_rest = row[\"all_stroke_teams\"] - row[stroke_team]\n",
    "    shap_values_not_attend_these_hospitals.append(sum_rest)\n",
    "\n",
    "# Store two new columns in dataframe\n",
    "df_hosp_shap_values[\"attended_stroke_team\"] = shap_values_attended_hospital\n",
    "df_hosp_shap_values[\"not_attended_stroke_teams\"] = shap_values_not_attend_these_hospitals\n",
    "                   \n",
    "# View preview\n",
    "df_hosp_shap_values.head()"
   ]
  },
  {
   "cell_type": "markdown",
   "metadata": {},
   "source": [
    "#### Format the SHAP interaction data \n",
    "\n",
    "Features are in the same order in shap_interaction as they are in the original dataset.\n",
    "\n",
    "Use this fact to extract the SHAP main effect values for the one-hot encoded hospital features. Create a dataframe containing the SHAP values: an instance per row, and a one-hot encoded hospital feature per column.\n",
    "\n",
    "Also include a column containing the Stroke team that each instance attended.\n",
    "\n",
    "And three further columns: \n",
    "1) contribution from all the hospital features\n",
    "2) contribution from attending the hospital\n",
    "3) contribution from not attending the rest"
   ]
  },
  {
   "cell_type": "code",
   "execution_count": 21,
   "metadata": {},
   "outputs": [
    {
     "data": {
      "text/html": [
       "<div>\n",
       "<style scoped>\n",
       "    .dataframe tbody tr th:only-of-type {\n",
       "        vertical-align: middle;\n",
       "    }\n",
       "\n",
       "    .dataframe tbody tr th {\n",
       "        vertical-align: top;\n",
       "    }\n",
       "\n",
       "    .dataframe thead th {\n",
       "        text-align: right;\n",
       "    }\n",
       "</style>\n",
       "<table border=\"1\" class=\"dataframe\">\n",
       "  <thead>\n",
       "    <tr style=\"text-align: right;\">\n",
       "      <th></th>\n",
       "      <th>AGNOF1041H</th>\n",
       "      <th>AKCGO9726K</th>\n",
       "      <th>AOBTM3098N</th>\n",
       "      <th>APXEE8191H</th>\n",
       "      <th>ATDID5461S</th>\n",
       "      <th>BBXPQ0212O</th>\n",
       "      <th>BICAW1125K</th>\n",
       "      <th>BQZGT7491V</th>\n",
       "      <th>BXXZS5063A</th>\n",
       "      <th>CNBGF2713O</th>\n",
       "      <th>...</th>\n",
       "      <th>YEXCH8391J</th>\n",
       "      <th>YPKYH1768F</th>\n",
       "      <th>YQMZV4284N</th>\n",
       "      <th>ZBVSO0975W</th>\n",
       "      <th>ZHCLE1578P</th>\n",
       "      <th>ZRRCV7012C</th>\n",
       "      <th>Stroke team</th>\n",
       "      <th>all_stroke_teams</th>\n",
       "      <th>attended_stroke_team</th>\n",
       "      <th>not_attended_stroke_teams</th>\n",
       "    </tr>\n",
       "  </thead>\n",
       "  <tbody>\n",
       "    <tr>\n",
       "      <th>0</th>\n",
       "      <td>0.001201</td>\n",
       "      <td>-0.010994</td>\n",
       "      <td>0.003772</td>\n",
       "      <td>-0.000236</td>\n",
       "      <td>-0.000516</td>\n",
       "      <td>0.001511</td>\n",
       "      <td>0.002794</td>\n",
       "      <td>-0.004233</td>\n",
       "      <td>-0.000425</td>\n",
       "      <td>-0.002723</td>\n",
       "      <td>...</td>\n",
       "      <td>0.000311</td>\n",
       "      <td>0.000812</td>\n",
       "      <td>-0.001057</td>\n",
       "      <td>0.003040</td>\n",
       "      <td>-0.004510</td>\n",
       "      <td>0.004131</td>\n",
       "      <td>TXHRP7672C</td>\n",
       "      <td>-0.192045</td>\n",
       "      <td>-0.104753</td>\n",
       "      <td>-0.087292</td>\n",
       "    </tr>\n",
       "    <tr>\n",
       "      <th>1</th>\n",
       "      <td>0.001817</td>\n",
       "      <td>-0.008547</td>\n",
       "      <td>0.003398</td>\n",
       "      <td>-0.000177</td>\n",
       "      <td>-0.000785</td>\n",
       "      <td>0.001611</td>\n",
       "      <td>0.003012</td>\n",
       "      <td>-0.004515</td>\n",
       "      <td>-0.000503</td>\n",
       "      <td>-0.002588</td>\n",
       "      <td>...</td>\n",
       "      <td>0.000442</td>\n",
       "      <td>0.000734</td>\n",
       "      <td>-0.001323</td>\n",
       "      <td>0.002653</td>\n",
       "      <td>-0.003572</td>\n",
       "      <td>0.005024</td>\n",
       "      <td>SQGXB9559U</td>\n",
       "      <td>-0.660367</td>\n",
       "      <td>-0.574617</td>\n",
       "      <td>-0.085751</td>\n",
       "    </tr>\n",
       "    <tr>\n",
       "      <th>2</th>\n",
       "      <td>0.002611</td>\n",
       "      <td>-0.009957</td>\n",
       "      <td>0.003751</td>\n",
       "      <td>-0.000166</td>\n",
       "      <td>-0.000635</td>\n",
       "      <td>0.001732</td>\n",
       "      <td>0.003001</td>\n",
       "      <td>-0.003861</td>\n",
       "      <td>-0.001679</td>\n",
       "      <td>-0.002264</td>\n",
       "      <td>...</td>\n",
       "      <td>0.000306</td>\n",
       "      <td>0.000837</td>\n",
       "      <td>-0.001177</td>\n",
       "      <td>0.002934</td>\n",
       "      <td>-0.003586</td>\n",
       "      <td>0.004676</td>\n",
       "      <td>LFPMM4706C</td>\n",
       "      <td>-1.197422</td>\n",
       "      <td>-1.105975</td>\n",
       "      <td>-0.091447</td>\n",
       "    </tr>\n",
       "    <tr>\n",
       "      <th>3</th>\n",
       "      <td>0.001719</td>\n",
       "      <td>-0.010199</td>\n",
       "      <td>0.003087</td>\n",
       "      <td>-0.000096</td>\n",
       "      <td>-0.000516</td>\n",
       "      <td>0.001612</td>\n",
       "      <td>0.003012</td>\n",
       "      <td>-0.003859</td>\n",
       "      <td>-0.000528</td>\n",
       "      <td>-0.002537</td>\n",
       "      <td>...</td>\n",
       "      <td>0.000333</td>\n",
       "      <td>0.000734</td>\n",
       "      <td>-0.001044</td>\n",
       "      <td>0.003054</td>\n",
       "      <td>-0.003611</td>\n",
       "      <td>0.004465</td>\n",
       "      <td>MHMYL4920B</td>\n",
       "      <td>0.849224</td>\n",
       "      <td>0.919308</td>\n",
       "      <td>-0.070084</td>\n",
       "    </tr>\n",
       "    <tr>\n",
       "      <th>4</th>\n",
       "      <td>0.001600</td>\n",
       "      <td>-0.009127</td>\n",
       "      <td>0.003285</td>\n",
       "      <td>-0.000236</td>\n",
       "      <td>-0.000516</td>\n",
       "      <td>0.001542</td>\n",
       "      <td>0.002996</td>\n",
       "      <td>-0.003869</td>\n",
       "      <td>-0.000539</td>\n",
       "      <td>-0.002627</td>\n",
       "      <td>...</td>\n",
       "      <td>0.000311</td>\n",
       "      <td>0.000776</td>\n",
       "      <td>-0.001057</td>\n",
       "      <td>0.002845</td>\n",
       "      <td>-0.003145</td>\n",
       "      <td>0.004961</td>\n",
       "      <td>EQZZZ5658G</td>\n",
       "      <td>-0.105809</td>\n",
       "      <td>-0.028928</td>\n",
       "      <td>-0.076882</td>\n",
       "    </tr>\n",
       "  </tbody>\n",
       "</table>\n",
       "<p>5 rows × 136 columns</p>\n",
       "</div>"
      ],
      "text/plain": [
       "   AGNOF1041H  AKCGO9726K  AOBTM3098N  APXEE8191H  ATDID5461S  BBXPQ0212O  \\\n",
       "0    0.001201   -0.010994    0.003772   -0.000236   -0.000516    0.001511   \n",
       "1    0.001817   -0.008547    0.003398   -0.000177   -0.000785    0.001611   \n",
       "2    0.002611   -0.009957    0.003751   -0.000166   -0.000635    0.001732   \n",
       "3    0.001719   -0.010199    0.003087   -0.000096   -0.000516    0.001612   \n",
       "4    0.001600   -0.009127    0.003285   -0.000236   -0.000516    0.001542   \n",
       "\n",
       "   BICAW1125K  BQZGT7491V  BXXZS5063A  CNBGF2713O  ...  YEXCH8391J  \\\n",
       "0    0.002794   -0.004233   -0.000425   -0.002723  ...    0.000311   \n",
       "1    0.003012   -0.004515   -0.000503   -0.002588  ...    0.000442   \n",
       "2    0.003001   -0.003861   -0.001679   -0.002264  ...    0.000306   \n",
       "3    0.003012   -0.003859   -0.000528   -0.002537  ...    0.000333   \n",
       "4    0.002996   -0.003869   -0.000539   -0.002627  ...    0.000311   \n",
       "\n",
       "   YPKYH1768F  YQMZV4284N  ZBVSO0975W  ZHCLE1578P  ZRRCV7012C  Stroke team  \\\n",
       "0    0.000812   -0.001057    0.003040   -0.004510    0.004131   TXHRP7672C   \n",
       "1    0.000734   -0.001323    0.002653   -0.003572    0.005024   SQGXB9559U   \n",
       "2    0.000837   -0.001177    0.002934   -0.003586    0.004676   LFPMM4706C   \n",
       "3    0.000734   -0.001044    0.003054   -0.003611    0.004465   MHMYL4920B   \n",
       "4    0.000776   -0.001057    0.002845   -0.003145    0.004961   EQZZZ5658G   \n",
       "\n",
       "   all_stroke_teams  attended_stroke_team  not_attended_stroke_teams  \n",
       "0         -0.192045             -0.104753                  -0.087292  \n",
       "1         -0.660367             -0.574617                  -0.085751  \n",
       "2         -1.197422             -1.105975                  -0.091447  \n",
       "3          0.849224              0.919308                  -0.070084  \n",
       "4         -0.105809             -0.028928                  -0.076882  \n",
       "\n",
       "[5 rows x 136 columns]"
      ]
     },
     "execution_count": 21,
     "metadata": {},
     "output_type": "execute_result"
    }
   ],
   "source": [
    "# Get list of hospital one hot encoded column titles\n",
    "hospital_names_ohe = X.filter(regex='^team',axis=1).columns\n",
    "n_hospitals = len(hospital_names_ohe)\n",
    "\n",
    "# Get list of hospital names without the prefix \"team_\"\n",
    "hospital_names = [h[5:] for h in hospital_names_ohe]\n",
    "\n",
    "# Create list of column index for these hospital column titles\n",
    "hospital_columns_index = [X.columns.get_loc(col) for col in hospital_names_ohe]\n",
    "\n",
    "hosp_shap_main_effects = []\n",
    "# Use this index list to access the hosptial shap values (as array) in the loop below\n",
    "for i in range(shap_interaction.shape[0]):\n",
    "    # Get the main effect value for each of the features\n",
    "    main_effects = np.diagonal(shap_interaction[i])\n",
    "    hosp_shap_main_effects.append(main_effects[hospital_columns_index])\n",
    "    \n",
    "# Put in dataframe with hospital as column title\n",
    "df_hosp_shap_main_effects = pd.DataFrame(hosp_shap_main_effects, columns = hospital_names)\n",
    "\n",
    "# Include Stroke team that each instance attended\n",
    "df_hosp_shap_main_effects[\"Stroke team\"] = X_combined[\"Stroke team\"].values\n",
    "\n",
    "# Store the sum of the SHAP values (for all of the hospital features)\n",
    "df_hosp_shap_main_effects[\"all_stroke_teams\"] = df_hosp_shap_main_effects.sum(axis=1)\n",
    "\n",
    "# Initialise list for 1) SHAP value for attended hospital 2) SHAP value for \n",
    "#   the sum of the rest of the hospitals\n",
    "shap_me_attended_hospital = []\n",
    "shap_me_not_attend_these_hospitals = []\n",
    "\n",
    "# For each patient\n",
    "for index, row in df_hosp_shap_main_effects.iterrows():\n",
    "\n",
    "    # Get stroke team attended\n",
    "    stroke_team = row[\"Stroke team\"]\n",
    "    \n",
    "    # Get SHAP value for the stroke team attended\n",
    "    shap_me_attended_hospital.append(row[stroke_team])\n",
    "\n",
    "    # Calculate sum of SHAP values for the stroke teams not attend \n",
    "    sum_rest = row[\"all_stroke_teams\"] - row[stroke_team]\n",
    "    shap_me_not_attend_these_hospitals.append(sum_rest)\n",
    "\n",
    "# Store two new columns in dataframe\n",
    "df_hosp_shap_main_effects[\"attended_stroke_team\"] = shap_me_attended_hospital\n",
    "df_hosp_shap_main_effects[\"not_attended_stroke_teams\"] = shap_me_not_attend_these_hospitals\n",
    "                   \n",
    "# View preview\n",
    "df_hosp_shap_main_effects.head()\n"
   ]
  },
  {
   "cell_type": "markdown",
   "metadata": {},
   "source": [
    "Boxplot to analyse the range of SHAP main effect values for the one-hot encoded hospital features: attended hosptial, and sum of the hospitals not attended\n",
    "\n",
    "To create a grouped boxplot, used code from https://stackoverflow.com/questions/16592222/matplotlib-group-boxplots"
   ]
  },
  {
   "cell_type": "code",
   "execution_count": 54,
   "metadata": {},
   "outputs": [],
   "source": [
    "def set_box_color(bp, color):\n",
    "    plt.setp(bp['boxes'], color=color)\n",
    "    plt.setp(bp['whiskers'], color=color)\n",
    "    plt.setp(bp['caps'], color=color)\n",
    "    plt.setp(bp['medians'], color=color)\n",
    "    return()"
   ]
  },
  {
   "cell_type": "code",
   "execution_count": 50,
   "metadata": {},
   "outputs": [
    {
     "data": {
      "image/png": "[encoded data removed]",
      "text/plain": [
       "<Figure size 720x432 with 1 Axes>"
      ]
     },
     "metadata": {
      "needs_background": "light"
     },
     "output_type": "display_data"
    }
   ],
   "source": [
    "fig = plt.figure(figsize=(10,6))\n",
    "ax = fig.add_subplot(1,1,1)\n",
    "ticks = [\"Attended hospital\", \"Not attend these hospitals\"]\n",
    "\n",
    "plot_data_sv = [shap_values_attended_hospital, shap_values_not_attend_these_hospitals]\n",
    "bp_sv = plt.boxplot(plot_data_sv, \n",
    "                  positions=np.array(range(len(plot_data_sv)))*2.0-0.4, \n",
    "                  sym='', whis=99999, widths=0.6)\n",
    "set_box_color(bp_sv, '#2C7BB6')\n",
    "\n",
    "plot_data_me = [shap_me_attended_hospital, shap_me_not_attend_these_hospitals]\n",
    "bp_me = plt.boxplot(plot_data_me, \n",
    "                  positions=np.array(range(len(plot_data_me)))*2.0+0.4, \n",
    "                  sym='', whis=99999, widths=0.6)\n",
    "set_box_color(bp_me, '#D7191C') # colors are from http://colorbrewer2.org/\n",
    "\n",
    "# draw temporary red and blue lines and use them to create a legend\n",
    "plt.plot([], c='#2C7BB6', label='Shap value')\n",
    "plt.plot([], c='#D7191C', label='Main effect')\n",
    "plt.legend()\n",
    "\n",
    "plt.xticks(range(0, len(ticks) * 2, 2), ticks)\n",
    "plt.xlim(-2, len(ticks)*2)\n",
    "plt.tight_layout()\n",
    "\n",
    "title = (\"The range of SHAP (values, or main effect) for the one-hot encoded \"\n",
    "         \" hospital features\\ndepending on whether attend the hospital, or not\")\n",
    "plt.title(title)\n",
    "plt.ylabel('Shap (values or main effect) of one-hot encoded feature',size=15)\n",
    "plt.xlabel('Patient population',size=15)\n",
    "#plt.xticks(rotation=90)\n",
    "plt.show()"
   ]
  },
  {
   "cell_type": "markdown",
   "metadata": {},
   "source": [
    "Create a boxplot to show the range of SHAP main effect values for each one-hot encoded hospital feature. \n",
    "\n",
    "Show the SHAP main effect value as two populations: 1) the group of instances that attend the hospital [black], and 2) the group of instances that do not attend the hosptial [orange].\n",
    "\n",
    "Order the hospitals in descending order of median SHAP main effect for the hospital the instance attended (so those that more often contribute to a yes-thrombolysis decision, through to those that most often contribute to a no-thrombolysis decision).\n",
    "\n",
    "Firstly to order the hospitals, create a dataframe containing the median SHAP value for each hosptial (for those instances that attended the hospital)"
   ]
  },
  {
   "cell_type": "code",
   "execution_count": 51,
   "metadata": {},
   "outputs": [
    {
     "data": {
      "text/html": [
       "<div>\n",
       "<style scoped>\n",
       "    .dataframe tbody tr th:only-of-type {\n",
       "        vertical-align: middle;\n",
       "    }\n",
       "\n",
       "    .dataframe tbody tr th {\n",
       "        vertical-align: top;\n",
       "    }\n",
       "\n",
       "    .dataframe thead th {\n",
       "        text-align: right;\n",
       "    }\n",
       "</style>\n",
       "<table border=\"1\" class=\"dataframe\">\n",
       "  <thead>\n",
       "    <tr style=\"text-align: right;\">\n",
       "      <th></th>\n",
       "      <th>hospital</th>\n",
       "      <th>shap_min</th>\n",
       "      <th>shap_q1</th>\n",
       "      <th>shap_median</th>\n",
       "      <th>shap_q3</th>\n",
       "      <th>shap_max</th>\n",
       "    </tr>\n",
       "  </thead>\n",
       "  <tbody>\n",
       "    <tr>\n",
       "      <th>9</th>\n",
       "      <td>CNBGF2713O</td>\n",
       "      <td>0.961615</td>\n",
       "      <td>1.076589</td>\n",
       "      <td>1.130494</td>\n",
       "      <td>1.167219</td>\n",
       "      <td>1.355573</td>\n",
       "    </tr>\n",
       "    <tr>\n",
       "      <th>25</th>\n",
       "      <td>GKONI0110I</td>\n",
       "      <td>0.742977</td>\n",
       "      <td>0.982735</td>\n",
       "      <td>1.051632</td>\n",
       "      <td>1.134989</td>\n",
       "      <td>1.360788</td>\n",
       "    </tr>\n",
       "    <tr>\n",
       "      <th>32</th>\n",
       "      <td>HPWIF9956L</td>\n",
       "      <td>0.842229</td>\n",
       "      <td>0.982865</td>\n",
       "      <td>1.036947</td>\n",
       "      <td>1.084533</td>\n",
       "      <td>1.264853</td>\n",
       "    </tr>\n",
       "    <tr>\n",
       "      <th>109</th>\n",
       "      <td>VKKDD9172T</td>\n",
       "      <td>0.558505</td>\n",
       "      <td>0.959588</td>\n",
       "      <td>1.012563</td>\n",
       "      <td>1.077372</td>\n",
       "      <td>1.342864</td>\n",
       "    </tr>\n",
       "    <tr>\n",
       "      <th>65</th>\n",
       "      <td>NTPQZ0829K</td>\n",
       "      <td>0.767124</td>\n",
       "      <td>0.962494</td>\n",
       "      <td>1.003501</td>\n",
       "      <td>1.047912</td>\n",
       "      <td>1.253277</td>\n",
       "    </tr>\n",
       "  </tbody>\n",
       "</table>\n",
       "</div>"
      ],
      "text/plain": [
       "       hospital  shap_min   shap_q1  shap_median   shap_q3  shap_max\n",
       "9    CNBGF2713O  0.961615  1.076589     1.130494  1.167219  1.355573\n",
       "25   GKONI0110I  0.742977  0.982735     1.051632  1.134989  1.360788\n",
       "32   HPWIF9956L  0.842229  0.982865     1.036947  1.084533  1.264853\n",
       "109  VKKDD9172T  0.558505  0.959588     1.012563  1.077372  1.342864\n",
       "65   NTPQZ0829K  0.767124  0.962494     1.003501  1.047912  1.253277"
      ]
     },
     "execution_count": 51,
     "metadata": {},
     "output_type": "execute_result"
    }
   ],
   "source": [
    "# Create list of SHAP main effect values (one per hospital) for those instances\n",
    "#   that attend the hospital\n",
    "attend_stroketeam_min = []\n",
    "attend_stroketeam_q1 = []\n",
    "attend_stroketeam_median = []\n",
    "attend_stroketeam_q3 = []\n",
    "attend_stroketeam_max = []\n",
    "for h in hospital_names:\n",
    "    mask = df_hosp_shap_main_effects['Stroke team'] == h\n",
    "    data_stroke_team = df_hosp_shap_main_effects[h][mask]\n",
    "    q1, q3 = np.percentile(data_stroke_team, [25,75])\n",
    "    attend_stroketeam_min.append(data_stroke_team.min())\n",
    "    attend_stroketeam_q1.append(q1)\n",
    "    attend_stroketeam_median.append(data_stroke_team.median())\n",
    "    attend_stroketeam_q3.append(q3)\n",
    "    attend_stroketeam_max.append(data_stroke_team.max())\n",
    "    \n",
    "# Create dataframe with two columns (hospital and median_shap\n",
    "df_hosp_me = pd.DataFrame(hospital_names, columns=[\"hospital\"])\n",
    "df_hosp_me[\"shap_min\"] = attend_stroketeam_min\n",
    "df_hosp_me[\"shap_q1\"] = attend_stroketeam_q1\n",
    "df_hosp_me[\"shap_median\"] = attend_stroketeam_median\n",
    "df_hosp_me[\"shap_q3\"] = attend_stroketeam_q3\n",
    "df_hosp_me[\"shap_max\"] = attend_stroketeam_max\n",
    "\n",
    "# sort in descending SHAP main effect value order\n",
    "df_hosp_me.sort_values(\"shap_median\", ascending=False, inplace=True)                \n",
    "df_hosp_me.head(5)"
   ]
  },
  {
   "cell_type": "code",
   "execution_count": 52,
   "metadata": {},
   "outputs": [
    {
     "data": {
      "text/html": [
       "<div>\n",
       "<style scoped>\n",
       "    .dataframe tbody tr th:only-of-type {\n",
       "        vertical-align: middle;\n",
       "    }\n",
       "\n",
       "    .dataframe tbody tr th {\n",
       "        vertical-align: top;\n",
       "    }\n",
       "\n",
       "    .dataframe thead th {\n",
       "        text-align: right;\n",
       "    }\n",
       "</style>\n",
       "<table border=\"1\" class=\"dataframe\">\n",
       "  <thead>\n",
       "    <tr style=\"text-align: right;\">\n",
       "      <th></th>\n",
       "      <th>hospital</th>\n",
       "      <th>shap_min</th>\n",
       "      <th>shap_q1</th>\n",
       "      <th>shap_median</th>\n",
       "      <th>shap_q3</th>\n",
       "      <th>shap_max</th>\n",
       "    </tr>\n",
       "  </thead>\n",
       "  <tbody>\n",
       "    <tr>\n",
       "      <th>25</th>\n",
       "      <td>GKONI0110I</td>\n",
       "      <td>0.175994</td>\n",
       "      <td>0.934903</td>\n",
       "      <td>1.147333</td>\n",
       "      <td>1.314293</td>\n",
       "      <td>2.120272</td>\n",
       "    </tr>\n",
       "    <tr>\n",
       "      <th>9</th>\n",
       "      <td>CNBGF2713O</td>\n",
       "      <td>0.185519</td>\n",
       "      <td>0.871191</td>\n",
       "      <td>1.145275</td>\n",
       "      <td>1.337732</td>\n",
       "      <td>2.030359</td>\n",
       "    </tr>\n",
       "    <tr>\n",
       "      <th>109</th>\n",
       "      <td>VKKDD9172T</td>\n",
       "      <td>0.100659</td>\n",
       "      <td>0.741192</td>\n",
       "      <td>0.982388</td>\n",
       "      <td>1.186568</td>\n",
       "      <td>2.090144</td>\n",
       "    </tr>\n",
       "    <tr>\n",
       "      <th>65</th>\n",
       "      <td>NTPQZ0829K</td>\n",
       "      <td>0.081631</td>\n",
       "      <td>0.679469</td>\n",
       "      <td>0.935364</td>\n",
       "      <td>1.119871</td>\n",
       "      <td>1.802614</td>\n",
       "    </tr>\n",
       "    <tr>\n",
       "      <th>32</th>\n",
       "      <td>HPWIF9956L</td>\n",
       "      <td>0.019245</td>\n",
       "      <td>0.602708</td>\n",
       "      <td>0.908798</td>\n",
       "      <td>1.288176</td>\n",
       "      <td>1.735104</td>\n",
       "    </tr>\n",
       "  </tbody>\n",
       "</table>\n",
       "</div>"
      ],
      "text/plain": [
       "       hospital  shap_min   shap_q1  shap_median   shap_q3  shap_max\n",
       "25   GKONI0110I  0.175994  0.934903     1.147333  1.314293  2.120272\n",
       "9    CNBGF2713O  0.185519  0.871191     1.145275  1.337732  2.030359\n",
       "109  VKKDD9172T  0.100659  0.741192     0.982388  1.186568  2.090144\n",
       "65   NTPQZ0829K  0.081631  0.679469     0.935364  1.119871  1.802614\n",
       "32   HPWIF9956L  0.019245  0.602708     0.908798  1.288176  1.735104"
      ]
     },
     "execution_count": 52,
     "metadata": {},
     "output_type": "execute_result"
    }
   ],
   "source": [
    "# Create list of SHAP main effect values (one per hospital) for those instances\n",
    "#   that attend the hospital\n",
    "attend_stroketeam_min = []\n",
    "attend_stroketeam_q1 = []\n",
    "attend_stroketeam_median = []\n",
    "attend_stroketeam_q3 = []\n",
    "attend_stroketeam_max = []\n",
    "for h in hospital_names:\n",
    "    mask = df_hosp_shap_values['Stroke team'] == h\n",
    "    data_stroke_team = df_hosp_shap_values[h][mask]\n",
    "    q1, q3 = np.percentile(data_stroke_team, [25,75])\n",
    "    attend_stroketeam_min.append(data_stroke_team.min())\n",
    "    attend_stroketeam_q1.append(q1)\n",
    "    attend_stroketeam_median.append(data_stroke_team.median())\n",
    "    attend_stroketeam_q3.append(q3)\n",
    "    attend_stroketeam_max.append(data_stroke_team.max())\n",
    "    \n",
    "# Create dataframe with two columns (hospital and median_shap\n",
    "df_hosp_sv = pd.DataFrame(hospital_names, columns=[\"hospital\"])\n",
    "df_hosp_sv[\"shap_min\"] = attend_stroketeam_min\n",
    "df_hosp_sv[\"shap_q1\"] = attend_stroketeam_q1\n",
    "df_hosp_sv[\"shap_median\"] = attend_stroketeam_median\n",
    "df_hosp_sv[\"shap_q3\"] = attend_stroketeam_q3\n",
    "df_hosp_sv[\"shap_max\"] = attend_stroketeam_max\n",
    "\n",
    "# sort in descending SHAP main effect value order\n",
    "df_hosp_sv.sort_values(\"shap_median\", ascending=False, inplace=True)                \n",
    "df_hosp_sv.head(5)"
   ]
  },
  {
   "cell_type": "markdown",
   "metadata": {},
   "source": [
    "CODE BELOW TO HELP PLOT ADMISSION FIGURES ON HOSPITAL LABEL (LOOK AT THIS CODE IN NOTEBOOK 12C)"
   ]
  },
  {
   "cell_type": "markdown",
   "metadata": {},
   "source": [
    "# Get SHAP values and data for feature Stroke Team (a categorical feature). Value per instance.\n",
    "stroketeam_values = shap_values_combined[:,\"Stroke team\"].values\n",
    "stroketeam_data = shap_values_combined[:,\"Stroke team\"].data\n",
    "\n",
    "# Group data by stroke team.\n",
    "# Get Stroke team name, the stroke team admission numbers, and list of SHAP values for each instance that attended teh stroke team\n",
    "stroketeam_categories = list(set(stroketeam_data))\n",
    "admissions = [X[f'team_{o}'].sum() for o in stroketeam_categories]\n",
    "stroketeam_groups = [stroketeam_values[stroketeam_data == o] for o in stroketeam_categories]\n",
    "\n",
    "# Determine order of boxplots by admission values (highest to lowest)\n",
    "rank_order_admissions = ss.rankdata(admissions)\n",
    "\n",
    "# Initialise lists\n",
    "# Populate with the data for the Stroke teams, put in order of admissions, from lowest to highest\n",
    "stroketeam_groups1 = []\n",
    "stroketeam_admissions1 = []\n",
    "stroketeam1 = []\n",
    "xlabel = []\n",
    "\n",
    "prev = 99\n",
    "for j in np.sort(rank_order_admissions):\n",
    "    if j != prev:\n",
    "        index1 = np.where(rank_order_admissions == j)\n",
    "        for i in index1[0]:\n",
    "            stroketeam_groups1.append(stroketeam_groups[i])\n",
    "            stroketeam_admissions1.append(admissions[i])\n",
    "            stroketeam1.append(stroketeam_categories[i])\n",
    "            xlabel.append(f'{stroketeam_categories[i]} ({admissions[i]})')\n",
    "    prev = j\n",
    "\n",
    "# Create boxplots with 35 stroke teams in each\n",
    "print(\"(Admission numbers brackets)\")\n",
    "st = 0\n",
    "ed = 35\n",
    "inc = ed\n",
    "max_size = len(stroketeam_groups1)\n",
    "for i in range(4):\n",
    "    #plot boxplot\n",
    "    plt.figure(figsize=(15, 4))\n",
    "    plt.boxplot(stroketeam_groups1[st:ed],labels=xlabel[st:ed],whis=100)\n",
    "    plt.ylabel('Shap values',size=15)\n",
    "    plt.xlabel('Stroke team',size=15)\n",
    "    plt.xticks(rotation=90)\n",
    "    plt.show()\n",
    "    st = min(st+inc,max_size)\n",
    "    ed = min(ed+inc,max_size)"
   ]
  },
  {
   "cell_type": "markdown",
   "metadata": {},
   "source": [
    "Create data for boxplot"
   ]
  },
  {
   "cell_type": "code",
   "execution_count": 55,
   "metadata": {},
   "outputs": [],
   "source": [
    "# Create list of SHAP main effect values (one per hospital) for instances that \n",
    "#   attend stroke team\n",
    "me_attend_stroketeam_groups_ordered = []\n",
    "sv_attend_stroketeam_groups_ordered = []\n",
    "\n",
    "hospital_order = df_hosp_me[\"hospital\"]\n",
    "# Go through to order of hospital in\n",
    "#1) main effect order\n",
    "#for h in df_hosp_me[\"hospital\"]:\n",
    "#2) shap value order\n",
    "#for h in df_hosp_sv[\"hospital\"]:\n",
    "#3) admissions order\n",
    "#for h in df_hosp_me[\"hospital\"]:\n",
    "#4) thrombolysis order\n",
    "#for h in df_hosp_me[\"hospital\"]:\n",
    "\n",
    "for h in hospital_order:\n",
    "    mask = df_hosp_shap_main_effects['Stroke team'] == h\n",
    "    me_attend_stroketeam_groups_ordered.append(df_hosp_shap_main_effects[h][mask])\n",
    "    sv_attend_stroketeam_groups_ordered.append(df_hosp_shap_values[h][mask])\n",
    "    \n",
    "# Create list of SHAP main effect values (one per hospital) for instances that \n",
    "#   do not attend stroke team\n",
    "me_not_attend_stroketeam_groups_ordered = []\n",
    "sv_not_attend_stroketeam_groups_ordered = []\n",
    "for h in hospital_order:\n",
    "    mask = df_hosp_shap_main_effects['Stroke team'] != h\n",
    "    me_not_attend_stroketeam_groups_ordered.append(df_hosp_shap_main_effects[h][mask])\n",
    "    sv_not_attend_stroketeam_groups_ordered.append(df_hosp_shap_values[h][mask])"
   ]
  },
  {
   "cell_type": "code",
   "execution_count": 76,
   "metadata": {},
   "outputs": [
    {
     "name": "stdout",
     "output_type": "stream",
     "text": [
      "Shows the range of contributions to the prediction from this hospital when patients 1) do [black], and 2) do not [orange] attend this hosptial\n"
     ]
    },
    {
     "data": {
      "image/png": "[encoded data removed]",
      "text/plain": [
       "<Figure size 1080x288 with 1 Axes>"
      ]
     },
     "metadata": {
      "needs_background": "light"
     },
     "output_type": "display_data"
    },
    {
     "data": {
      "image/png": "[encoded data removed]",
      "text/plain": [
       "<Figure size 1080x288 with 1 Axes>"
      ]
     },
     "metadata": {
      "needs_background": "light"
     },
     "output_type": "display_data"
    },
    {
     "data": {
      "image/png": "[encoded data removed]",
      "text/plain": [
       "<Figure size 1080x288 with 1 Axes>"
      ]
     },
     "metadata": {
      "needs_background": "light"
     },
     "output_type": "display_data"
    },
    {
     "data": {
      "image/png": "[encoded data removed]",
      "text/plain": [
       "<Figure size 1080x288 with 1 Axes>"
      ]
     },
     "metadata": {
      "needs_background": "light"
     },
     "output_type": "display_data"
    }
   ],
   "source": [
    "# Plot 35 hospitals on each figure to aid visually\n",
    "print(\"Shows the range of contributions to the prediction from this hospital \"\n",
    "      \"when patients 1) do [black], and 2) do not [orange] attend this hosptial\")\n",
    "\n",
    "# To group the hospitals into 34\n",
    "st = 0\n",
    "ed = 34\n",
    "inc = ed\n",
    "max_size = n_hospitals\n",
    "\n",
    "# Use overall y min and max of both datasets on the 4 plts so have a unified scale\n",
    "#https://blog.finxter.com/how-to-find-the-minimum-of-a-list-of-lists-in-python/#:~:text=With%20the%20key%20argument%20of,of%20the%20list%20of%20lists.\n",
    "ymin = min(min(sv_attend_stroketeam_groups_ordered, key=min))\n",
    "ymax = max(max(sv_attend_stroketeam_groups_ordered, key=max))\n",
    "\n",
    "yrange = ymax - ymin\n",
    "\n",
    "ymin = ymin - yrange/50\n",
    "ymax = ymax + yrange/50\n",
    "\n",
    "# Create four plots\n",
    "for i in range(4):\n",
    "\n",
    "    # Create figure\n",
    "    fig = plt.figure(figsize=(15,4))\n",
    "    ax = fig.add_subplot(1,1,1)\n",
    "    # \"The contribution from this hospital when patients do not attend this hosptial\"\n",
    "    \n",
    "    ticks = hospital_order[st:ed]\n",
    "    \n",
    "    pos_sv = np.array(range(\n",
    "                    len(sv_attend_stroketeam_groups_ordered[st:ed])))*2.0-0.4\n",
    "    bp_sv = plt.boxplot(sv_attend_stroketeam_groups_ordered[st:ed], \n",
    "                      positions=pos_sv, \n",
    "                      sym='', whis=99999, widths=0.6)\n",
    "    \n",
    "    pos_me = np.array(range(len(\n",
    "                        me_attend_stroketeam_groups_ordered[st:ed])))*2.0+0.4\n",
    "    bp_me = plt.boxplot(me_attend_stroketeam_groups_ordered[st:ed], \n",
    "                      positions=pos_me, \n",
    "                      sym='', whis=99999, widths=0.6)\n",
    "    \n",
    "    set_box_color(bp_me, '#D7191C') # colors are from http://colorbrewer2.org/\n",
    "    set_box_color(bp_sv, '#2C7BB6')\n",
    "\n",
    "    # draw temporary red and blue lines and use them to create a legend\n",
    "    plt.plot([], c='#D7191C', label='Main effect')\n",
    "    plt.plot([], c='#2C7BB6', label='Shap value')\n",
    "    plt.legend()\n",
    "\n",
    "    plt.xticks(range(0, len(ticks) * 2, 2), ticks)\n",
    "    plt.xlim(-2, len(ticks)*2)\n",
    "    plt.ylim(ymin, ymax)\n",
    "    plt.tight_layout()\n",
    "    \n",
    "    # Add line at Shap = 0\n",
    "    plt.plot([plt.xlim()[0], plt.xlim()[1]], [0,0], c='0.8') \n",
    "    \n",
    "    plt.ylabel('Shap values of one-hot encoded feature',size=15)\n",
    "    plt.xlabel('Stroke team',size=15)\n",
    "    plt.xticks(rotation=90)\n",
    "    plt.show()\n",
    "    st = min(st+inc,max_size)\n",
    "    ed = min(ed+inc,max_size)\n"
   ]
  },
  {
   "cell_type": "markdown",
   "metadata": {},
   "source": [
    "Notice that when patients do not attend the hospital the range of the SHAP values are largely centred on zero.\n",
    "When patients do attend hosptial, the range of SHAP values are largely one side of zero or the other (only a minority of hospitals have their interquartile range spanning zero)."
   ]
  },
  {
   "cell_type": "code",
   "execution_count": 77,
   "metadata": {},
   "outputs": [],
   "source": [
    "def count_hospitals_in_(hosp_data):\n",
    "    \n",
    "    n_iqr_below_zero = hosp_data[\"shap_q3\"] < 0\n",
    "    n_iqr_spans_zero = hosp_data[\"shap_q1\"] * hosp_data[\"shap_q3\"]\n",
    "    n_iqr_above_zero = hosp_data[\"shap_q1\"] > 0\n",
    "    # code below needs improving. This could =0 if -1*q1 = q3\n",
    "    n_iqr_is_zero = (hosp_data[\"shap_q1\"] + hosp_data[\"shap_q3\"]) == 0\n",
    "    \n",
    "    return(n_iqr_below_zero, n_iqr_spans_zero, n_iqr_above_zero, n_iqr_is_zero)"
   ]
  },
  {
   "cell_type": "code",
   "execution_count": 78,
   "metadata": {},
   "outputs": [
    {
     "name": "stdout",
     "output_type": "stream",
     "text": [
      "Number hospitals whose interquartile range is below zero. Main effect: 69. Shap values: 59\n",
      "Number hospitals whose interquartile range spans zero. Main effect: 4. Shap values: 21\n",
      "Number hospitals whose interquartile range is above zero. Main effect: 58. Shap values: 51\n",
      "Number hospitals whose interquartile range is zero. Main effect: 1. Shap values: 1\n"
     ]
    }
   ],
   "source": [
    "(n_iqr_below_zero_me, n_iqr_spans_zero_me, n_iqr_above_zero_me, n_iqr_is_zero_me) = count_hospitals_in_(df_hosp_me)\n",
    "(n_iqr_below_zero_sv, n_iqr_spans_zero_sv, n_iqr_above_zero_sv, n_iqr_is_zero_sv) = count_hospitals_in_(df_hosp_sv)\n",
    "\n",
    "print (f\"Number hospitals whose interquartile range is below zero. Main effect: {n_iqr_below_zero_me.sum()}. Shap values: {n_iqr_below_zero_sv.sum()}\")\n",
    "print (f\"Number hospitals whose interquartile range spans zero. Main effect: {n_iqr_spans_zero_me.lt(0).sum()}. Shap values: {n_iqr_spans_zero_sv.lt(0).sum()}\")\n",
    "print (f\"Number hospitals whose interquartile range is above zero. Main effect: {n_iqr_above_zero_me.sum()}. Shap values: {n_iqr_above_zero_sv.sum()}\")\n",
    "print (f\"Number hospitals whose interquartile range is zero. Main effect: {n_iqr_is_zero_me.sum()}. Shap values: {n_iqr_is_zero_sv.sum()}\")"
   ]
  },
  {
   "cell_type": "markdown",
   "metadata": {},
   "source": [
    "How does the SHAP value for the one-hot encoded hospital features compare to the thrombolysis rate of the hospital?\n",
    "\n",
    "Create dataframe containing the hospital's IVT rate and SHAP value (for those patients that attend the hospital)."
   ]
  },
  {
   "cell_type": "code",
   "execution_count": 82,
   "metadata": {},
   "outputs": [],
   "source": [
    "# Calculate IVT rate per hosptial\n",
    "hosp_ivt_rate = data.groupby(by=[\"Stroke team\"]).mean()[\"Thrombolysis\"]\n",
    "\n",
    "# Join IVT rate with median SHAP value per hosptial\n",
    "df_hosp_plot = df_hosp_sv[[\"shap_median\",\"hospital\"]].copy(deep=True)\n",
    "df_hosp_plot.rename(columns={'shap_median':'shap_value_median'}, inplace=True)\n",
    "df_hosp_plot.set_index(\"hospital\", inplace=True)\n",
    "df_hosp_plot = df_hosp_plot.join(hosp_ivt_rate)\n",
    "\n",
    "# Join IVT rate with median SHAP main effect per hosptial\n",
    "temp = df_hosp_me[[\"shap_median\",\"hospital\"]].copy(deep=True)\n",
    "temp.rename(columns={'shap_median':'shap_main_effect_median'}, inplace=True)\n",
    "temp.set_index(\"hospital\", inplace=True)\n",
    "df_hosp_plot = df_hosp_plot.join(temp)\n",
    "\n",
    "# ADD ADMISSIONS\n",
    "#df_hosp_plot"
   ]
  },
  {
   "cell_type": "markdown",
   "metadata": {},
   "source": [
    "Plot SHAP value for one-hot encoded hospital feature (median for those instances that attend the hospital) vs hospital IVT rate"
   ]
  },
  {
   "cell_type": "code",
   "execution_count": 83,
   "metadata": {},
   "outputs": [
    {
     "data": {
      "image/png": "[encoded data removed]",
      "text/plain": [
       "<Figure size 576x576 with 1 Axes>"
      ]
     },
     "metadata": {
      "needs_background": "light"
     },
     "output_type": "display_data"
    }
   ],
   "source": [
    "# Setup data for chart\n",
    "x1 = df_hosp_plot['shap_main_effect_median']\n",
    "x2 = df_hosp_plot['shap_value_median']\n",
    "y = df_hosp_plot['Thrombolysis']\n",
    "\n",
    "# Fit a regression line to the x1 points\n",
    "slope1, intercept1, r_value1, p_value1, std_err1 = \\\n",
    "    stats.linregress(x1, y)\n",
    "r_square1 = r_value1 ** 2\n",
    "y_pred1 = intercept1 + (x1 * slope1)\n",
    "\n",
    "# Fit a regression line to the x2 points\n",
    "slope2, intercept2, r_value2, p_value2, std_err2 = \\\n",
    "    stats.linregress(x2, y)\n",
    "r_square2 = r_value2 ** 2\n",
    "y_pred2 = intercept2 + (x2 * slope2)\n",
    "\n",
    "# Create scatter plot with regression line\n",
    "fig = plt.figure(figsize=(8,8))\n",
    "ax = fig.add_subplot(1,1,1)\n",
    "ax.scatter(x1, y, color = \"blue\", marker=\"+\")\n",
    "ax.scatter(x2, y, color = \"orange\", marker=\"x\")\n",
    "\n",
    "ax.plot (x1, y_pred1, color = 'blue', linestyle=':')\n",
    "f1 = 'formula: ' + str(\"{:.2f}\".format(slope1)) + 'x + ' + str(\"{:.2f}\".format(intercept1))\n",
    "text1 = f'SHAP main effect results (blue)\\nR squared: {r_square1:.3f}\\np: {p_value1:0.4f}\\nformula: {f1}'\n",
    "ax.text(-1.3, 0.45, text1, \n",
    "         bbox=dict(facecolor='white', edgecolor='black'))\n",
    "\n",
    "ax.plot (x2, y_pred2, color = 'orange', linestyle=':')\n",
    "f2 = 'formula: ' + str(\"{:.2f}\".format(slope2)) + 'x + ' + str(\"{:.2f}\".format(intercept2))\n",
    "text2 = f'SHAP value results (orange)\\nR squared: {r_square2:.3f}\\np: {p_value2:0.4f}\\nformula: {f2}'\n",
    "ax.text(-1.3, 0.39, text2, \n",
    "         bbox=dict(facecolor='white', edgecolor='black'))\n",
    "\n",
    "ax.set_xlabel(\"SHAP (value or main effect) [median of the instances that attend the hosptial]\")\n",
    "ax.set_ylabel('Thrombolysis rate')\n",
    "ax.set_title(\"SHAP (value or main effect) for one-hot encoded hospital feature vs IVT rate\")\n",
    "plt.grid()\n",
    "\n",
    "plt.show()"
   ]
  },
  {
   "cell_type": "markdown",
   "metadata": {
    "tags": []
   },
   "source": [
    "### Observations\n",
    "* SHAP main effect values for the one-hot encoded hospital features are very dependent on whether the instance attended the hospital or not\n",
    "* SHAP main effect values for the attended one-hot encoded hospital feature are largely one side of zero or the other. There are fewer instances in this population, but the range of SHAP values is wider.\n",
    "* SHAP main effect values for the not attended one-hot encoded hospitals are largely centred on zero. There are more instances in this population, but the range of SHAP values is narrower.\n",
    "* 56% of the variability in hospital thrombolysis rate can be explained by the SHAP value for the one-hot encoded hospital feature (the median of those instances that attend the hospital)."
   ]
  }
 ],
 "metadata": {
  "kernelspec": {
   "display_name": "Python 3 (ipykernel)",
   "language": "python",
   "name": "python3"
  },
  "language_info": {
   "codemirror_mode": {
    "name": "ipython",
    "version": 3
   },
   "file_extension": ".py",
   "mimetype": "text/x-python",
   "name": "python",
   "nbconvert_exporter": "python",
   "pygments_lexer": "ipython3",
   "version": "3.8.13"
  }
 },
 "nbformat": 4,
 "nbformat_minor": 4
}
