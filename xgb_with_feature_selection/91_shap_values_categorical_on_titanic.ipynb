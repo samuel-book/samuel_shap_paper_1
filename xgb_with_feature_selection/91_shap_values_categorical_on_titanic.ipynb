{
 "cells": [
  {
   "cell_type": "markdown",
   "metadata": {},
   "source": [
    "# Describing model predictions when have categorical features, using SHAP values: Using Titanic survival as an example use case.\n",
    "\n",
    "## Plain English summary\n",
    "\n",
    "When fitting a machine learning model to data to make a prediction, it is now possible, with the use of the SHAP library, to allocate contributions of the prediction onto the feature values, so you can understand what the model used to obtain it's prediction.\n",
    "\n",
    "SHAP values are calculated for a fitted model. These are in the same units as the model output (for XGBoost these are in log odds - they are additive).\n",
    "\n",
    "SHAP values provide a base value which is the same values for all of the instances. This values represents the models best guess for any instance without any extra knowledge about the instance. The \"expected value\". In addition to this, a SHAP value is calculated per feature. These are instance dependent as they also capture the interactions between pairs of feature values.\n",
    "\n",
    "This notebook extends notebook 90 by exploring how to interpret SHAP values when there are categorical features in the dataset. To fit a XGBoost model to a dataset with categorical features, we need to represent them as one-hot encoded features. This results in a separate feature for each level of the categorical variable. This is all well and good for fitting the model, but one feature is now represented by a SHAP value per level. How do you interpret all of these SHAP values? \n",
    "\n",
    "Here we fit an XGBoost model to the Titanic dataset, to predict whether a passenger survives from the values of four features, three which are continuous (gender, age, ticket class) and one categorical feature with three levels represented as one-hot features(port embarked: Southampton,  Cherbourg, Queenstown). We calculate the SHAP values of this fitted model and show two ways to represent their values: keep them separate, or join them todgether.how to communicate what they mean d) to present all of these values in order to gain the most insight into how the model is working - using a grid of SHAP dependency plots.\n",
    "\n",
    "This notebook is based on the blog https://towardsdatascience.com/analysing-interactions-with-shap-8c4a2bc11c2a and https://towardsdatascience.com/shap-for-categorical-features-7c63e6a554ea\n",
    "\n",
    "## Model and data\n",
    "\n",
    "XGBoost models were trained on all of the data (not split into training and test set). The six features in the model are:\n",
    "\n",
    "* male: genger of the passenger (0 = female, 1 = male)\n",
    "* Pclass: Class of the ticket (1 = first, 2 = second, 3 = third class)\n",
    "* Age: Age of passenger, in years\n",
    "* Embarked_S: Passenger embarked at Southampton\n",
    "* Embarked_C: Passenger embarked at Cherbourg\n",
    "* Embarked_Q: Passenger embarked at Queenstown\n",
    "\n",
    "And one target feature:\n",
    "* Survived: Did the passenger survive the sinking of the Titanic (0 = not survive, 1 = survive)\n",
    "\n",
    "## Aims\n",
    "\n",
    "* Fit XGBoost model using feature data to predict whether passenger survived\n",
    "* Calculate the SHAP values when one-hot encoded features\n",
    "* Understand the SHAP values when have one-hot encoded features\n",
    "* Find the best way to display these values in order to gain the most insight into the relationships that the model is using\n",
    "\n",
    "## Observations\n",
    "\n",
    "* SHAP interactions are awesome! \n",
    "* Viewing them as a grid of SHAP dependency plots clearly shows the overall relationships that the model uses to derive it's predictions for the whole dataset."
   ]
  },
  {
   "cell_type": "markdown",
   "metadata": {},
   "source": [
    "## Import modules"
   ]
  },
  {
   "cell_type": "code",
   "execution_count": 1,
   "metadata": {},
   "outputs": [
    {
     "name": "stderr",
     "output_type": "stream",
     "text": [
      "/home/kerry/anaconda3/envs/samuel2/lib/python3.8/site-packages/xgboost/compat.py:36: FutureWarning: pandas.Int64Index is deprecated and will be removed from pandas in a future version. Use pandas.Index with the appropriate dtype instead.\n",
      "  from pandas import MultiIndex, Int64Index\n",
      "/home/kerry/anaconda3/envs/samuel2/lib/python3.8/site-packages/tqdm/auto.py:22: TqdmWarning: IProgress not found. Please update jupyter and ipywidgets. See https://ipywidgets.readthedocs.io/en/stable/user_install.html\n",
      "  from .autonotebook import tqdm as notebook_tqdm\n"
     ]
    }
   ],
   "source": [
    "import matplotlib.pyplot as plt\n",
    "import numpy as np\n",
    "import pandas as pd\n",
    "\n",
    "# Import machine learning methods\n",
    "from xgboost import XGBClassifier\n",
    "\n",
    "# Import shap for shapley values\n",
    "import shap # `pip install shap` if neeed\n",
    "\n",
    "# Turn warnings off to keep notebook tidy\n",
    "import warnings\n",
    "warnings.filterwarnings(\"ignore\")\n",
    "\n",
    "from scipy import stats\n",
    "\n",
    "# do we need these?\n",
    "from sklearn.preprocessing import OneHotEncoder\n",
    "from sklearn.metrics import accuracy_score,confusion_matrix\n",
    "import xgboost as xgb"
   ]
  },
  {
   "cell_type": "markdown",
   "metadata": {},
   "source": [
    "## Load and process data\n",
    "\n",
    "#### Download data\n",
    "\n",
    "First we will download pre-processed data, and saves it to a subfolder (from where this code is run).\n",
    "If data has already been downloaded that cell may be skipped.\n",
    "\n",
    "Code that was used to pre-process the data ready for machine learning may be found at:\n",
    "https://github.com/MichaelAllen1966/1804_python_healthcare/blob/master/titanic/01_preprocessing.ipynb"
   ]
  },
  {
   "cell_type": "code",
   "execution_count": 2,
   "metadata": {},
   "outputs": [],
   "source": [
    "download_required = False\n",
    "\n",
    "if download_required:\n",
    "    \n",
    "    # Download processed data:\n",
    "    address = 'https://raw.githubusercontent.com/MichaelAllen1966/' + \\\n",
    "                '1804_python_healthcare/master/titanic/data/processed_data.csv'\n",
    "    \n",
    "    data = pd.read_csv(address)\n",
    "\n",
    "    # Create a data subfolder if one does not already exist\n",
    "    import os\n",
    "    data_directory ='./data/'\n",
    "    if not os.path.exists(data_directory):\n",
    "        os.makedirs(data_directory)\n",
    "\n",
    "    # Save data\n",
    "    data.to_csv(data_directory + 'processed_data.csv', index=False)"
   ]
  },
  {
   "cell_type": "markdown",
   "metadata": {},
   "source": [
    "#### Load data\n",
    "Read in the dataset (already contains the one-hot encoding of the features)"
   ]
  },
  {
   "cell_type": "code",
   "execution_count": 3,
   "metadata": {},
   "outputs": [],
   "source": [
    "data = pd.read_csv('data/processed_data.csv')\n",
    "# Make all data 'float' type\n",
    "data = data.astype(float)"
   ]
  },
  {
   "cell_type": "markdown",
   "metadata": {},
   "source": [
    "#### Restrict data\n",
    "\n",
    "Restrict to 4 features and target feature.\n",
    "\n",
    "Use 3 continuous variables, and 1 categorical variable (with 3 levels) represented in it's one-hot encoded form.\n",
    "And a binary target variable."
   ]
  },
  {
   "cell_type": "code",
   "execution_count": 4,
   "metadata": {},
   "outputs": [],
   "source": [
    "ohe_feature_names = ['male', 'Pclass', 'Age', 'Embarked_C', 'Embarked_Q', 'Embarked_S', 'Survived']\n",
    "data = data[ohe_feature_names]"
   ]
  },
  {
   "cell_type": "markdown",
   "metadata": {},
   "source": [
    "## Divide into X (features) and y (labels)\n",
    "\n",
    "We will separate out our features (the data we use to make a prediction) from our label (what we are truing to predict).\n",
    "By convention our features are called `X` (usually upper case to denote multiple features), and the label (survived or not) `y`."
   ]
  },
  {
   "cell_type": "code",
   "execution_count": 5,
   "metadata": {},
   "outputs": [],
   "source": [
    "# Use `survived` field as y, and drop for X\n",
    "y = data['Survived'] # y = 'survived' column from 'data'\n",
    "X = data.drop('Survived',axis=1) # X = all 'data' except the 'survived' column"
   ]
  },
  {
   "cell_type": "markdown",
   "metadata": {},
   "source": [
    "Average survival (this is the expected outcome of each passenger, without knowing anything about the passenger)"
   ]
  },
  {
   "cell_type": "code",
   "execution_count": 6,
   "metadata": {},
   "outputs": [
    {
     "name": "stdout",
     "output_type": "stream",
     "text": [
      "Average survival: 0.38\n"
     ]
    }
   ],
   "source": [
    "print (f'Average survival: {round(y.mean(),2)}')"
   ]
  },
  {
   "cell_type": "markdown",
   "metadata": {},
   "source": [
    "## Fit XGBoost model\n",
    "\n",
    "We will fit a model to all of the data (rather than train/test splits used to assess accuracy)."
   ]
  },
  {
   "cell_type": "code",
   "execution_count": 7,
   "metadata": {},
   "outputs": [
    {
     "name": "stdout",
     "output_type": "stream",
     "text": [
      "[21:07:48] WARNING: ../src/learner.cc:1115: Starting in XGBoost 1.3.0, the default evaluation metric used with the objective 'binary:logistic' was changed from 'error' to 'logloss'. Explicitly set eval_metric if you'd like to restore the old behavior.\n"
     ]
    },
    {
     "data": {
      "text/html": [
       "<style>#sk-container-id-1 {color: black;background-color: white;}#sk-container-id-1 pre{padding: 0;}#sk-container-id-1 div.sk-toggleable {background-color: white;}#sk-container-id-1 label.sk-toggleable__label {cursor: pointer;display: block;width: 100%;margin-bottom: 0;padding: 0.3em;box-sizing: border-box;text-align: center;}#sk-container-id-1 label.sk-toggleable__label-arrow:before {content: \"▸\";float: left;margin-right: 0.25em;color: #696969;}#sk-container-id-1 label.sk-toggleable__label-arrow:hover:before {color: black;}#sk-container-id-1 div.sk-estimator:hover label.sk-toggleable__label-arrow:before {color: black;}#sk-container-id-1 div.sk-toggleable__content {max-height: 0;max-width: 0;overflow: hidden;text-align: left;background-color: #f0f8ff;}#sk-container-id-1 div.sk-toggleable__content pre {margin: 0.2em;color: black;border-radius: 0.25em;background-color: #f0f8ff;}#sk-container-id-1 input.sk-toggleable__control:checked~div.sk-toggleable__content {max-height: 200px;max-width: 100%;overflow: auto;}#sk-container-id-1 input.sk-toggleable__control:checked~label.sk-toggleable__label-arrow:before {content: \"▾\";}#sk-container-id-1 div.sk-estimator input.sk-toggleable__control:checked~label.sk-toggleable__label {background-color: #d4ebff;}#sk-container-id-1 div.sk-label input.sk-toggleable__control:checked~label.sk-toggleable__label {background-color: #d4ebff;}#sk-container-id-1 input.sk-hidden--visually {border: 0;clip: rect(1px 1px 1px 1px);clip: rect(1px, 1px, 1px, 1px);height: 1px;margin: -1px;overflow: hidden;padding: 0;position: absolute;width: 1px;}#sk-container-id-1 div.sk-estimator {font-family: monospace;background-color: #f0f8ff;border: 1px dotted black;border-radius: 0.25em;box-sizing: border-box;margin-bottom: 0.5em;}#sk-container-id-1 div.sk-estimator:hover {background-color: #d4ebff;}#sk-container-id-1 div.sk-parallel-item::after {content: \"\";width: 100%;border-bottom: 1px solid gray;flex-grow: 1;}#sk-container-id-1 div.sk-label:hover label.sk-toggleable__label {background-color: #d4ebff;}#sk-container-id-1 div.sk-serial::before {content: \"\";position: absolute;border-left: 1px solid gray;box-sizing: border-box;top: 0;bottom: 0;left: 50%;z-index: 0;}#sk-container-id-1 div.sk-serial {display: flex;flex-direction: column;align-items: center;background-color: white;padding-right: 0.2em;padding-left: 0.2em;position: relative;}#sk-container-id-1 div.sk-item {position: relative;z-index: 1;}#sk-container-id-1 div.sk-parallel {display: flex;align-items: stretch;justify-content: center;background-color: white;position: relative;}#sk-container-id-1 div.sk-item::before, #sk-container-id-1 div.sk-parallel-item::before {content: \"\";position: absolute;border-left: 1px solid gray;box-sizing: border-box;top: 0;bottom: 0;left: 50%;z-index: -1;}#sk-container-id-1 div.sk-parallel-item {display: flex;flex-direction: column;z-index: 1;position: relative;background-color: white;}#sk-container-id-1 div.sk-parallel-item:first-child::after {align-self: flex-end;width: 50%;}#sk-container-id-1 div.sk-parallel-item:last-child::after {align-self: flex-start;width: 50%;}#sk-container-id-1 div.sk-parallel-item:only-child::after {width: 0;}#sk-container-id-1 div.sk-dashed-wrapped {border: 1px dashed gray;margin: 0 0.4em 0.5em 0.4em;box-sizing: border-box;padding-bottom: 0.4em;background-color: white;}#sk-container-id-1 div.sk-label label {font-family: monospace;font-weight: bold;display: inline-block;line-height: 1.2em;}#sk-container-id-1 div.sk-label-container {text-align: center;}#sk-container-id-1 div.sk-container {/* jupyter's `normalize.less` sets `[hidden] { display: none; }` but bootstrap.min.css set `[hidden] { display: none !important; }` so we also need the `!important` here to be able to override the default hidden behavior on the sphinx rendered scikit-learn.org. See: https://github.com/scikit-learn/scikit-learn/issues/21755 */display: inline-block !important;position: relative;}#sk-container-id-1 div.sk-text-repr-fallback {display: none;}</style><div id=\"sk-container-id-1\" class=\"sk-top-container\"><div class=\"sk-text-repr-fallback\"><pre>XGBClassifier(base_score=0.5, booster=&#x27;gbtree&#x27;, colsample_bylevel=1,\n",
       "              colsample_bynode=1, colsample_bytree=1, enable_categorical=False,\n",
       "              gamma=0, gpu_id=-1, importance_type=None,\n",
       "              interaction_constraints=&#x27;&#x27;, learning_rate=0.300000012,\n",
       "              max_delta_step=0, max_depth=6, min_child_weight=1, missing=nan,\n",
       "              monotone_constraints=&#x27;()&#x27;, n_estimators=100, n_jobs=4,\n",
       "              num_parallel_tree=1, predictor=&#x27;auto&#x27;, random_state=42,\n",
       "              reg_alpha=0, reg_lambda=1, scale_pos_weight=1, subsample=1,\n",
       "              tree_method=&#x27;exact&#x27;, validate_parameters=1, verbosity=None)</pre><b>In a Jupyter environment, please rerun this cell to show the HTML representation or trust the notebook. <br />On GitHub, the HTML representation is unable to render, please try loading this page with nbviewer.org.</b></div><div class=\"sk-container\" hidden><div class=\"sk-item\"><div class=\"sk-estimator sk-toggleable\"><input class=\"sk-toggleable__control sk-hidden--visually\" id=\"sk-estimator-id-1\" type=\"checkbox\" checked><label for=\"sk-estimator-id-1\" class=\"sk-toggleable__label sk-toggleable__label-arrow\">XGBClassifier</label><div class=\"sk-toggleable__content\"><pre>XGBClassifier(base_score=0.5, booster=&#x27;gbtree&#x27;, colsample_bylevel=1,\n",
       "              colsample_bynode=1, colsample_bytree=1, enable_categorical=False,\n",
       "              gamma=0, gpu_id=-1, importance_type=None,\n",
       "              interaction_constraints=&#x27;&#x27;, learning_rate=0.300000012,\n",
       "              max_delta_step=0, max_depth=6, min_child_weight=1, missing=nan,\n",
       "              monotone_constraints=&#x27;()&#x27;, n_estimators=100, n_jobs=4,\n",
       "              num_parallel_tree=1, predictor=&#x27;auto&#x27;, random_state=42,\n",
       "              reg_alpha=0, reg_lambda=1, scale_pos_weight=1, subsample=1,\n",
       "              tree_method=&#x27;exact&#x27;, validate_parameters=1, verbosity=None)</pre></div></div></div></div></div>"
      ],
      "text/plain": [
       "XGBClassifier(base_score=0.5, booster='gbtree', colsample_bylevel=1,\n",
       "              colsample_bynode=1, colsample_bytree=1, enable_categorical=False,\n",
       "              gamma=0, gpu_id=-1, importance_type=None,\n",
       "              interaction_constraints='', learning_rate=0.300000012,\n",
       "              max_delta_step=0, max_depth=6, min_child_weight=1, missing=nan,\n",
       "              monotone_constraints='()', n_estimators=100, n_jobs=4,\n",
       "              num_parallel_tree=1, predictor='auto', random_state=42,\n",
       "              reg_alpha=0, reg_lambda=1, scale_pos_weight=1, subsample=1,\n",
       "              tree_method='exact', validate_parameters=1, verbosity=None)"
      ]
     },
     "execution_count": 7,
     "metadata": {},
     "output_type": "execute_result"
    }
   ],
   "source": [
    "#model = XGBClassifier(verbosity = 0, seed=42, learning_rate=0.5)\n",
    "model = XGBClassifier(random_state=42)\n",
    "model.fit(X, y)"
   ]
  },
  {
   "cell_type": "markdown",
   "metadata": {},
   "source": [
    "Get the predictions for each patient (in terms of the classification, and the probability of being in either class)"
   ]
  },
  {
   "cell_type": "code",
   "execution_count": 8,
   "metadata": {},
   "outputs": [],
   "source": [
    "y_pred = model.predict(X)\n",
    "y_proba = model.predict_proba(X)"
   ]
  },
  {
   "cell_type": "markdown",
   "metadata": {},
   "source": [
    "Calculate the models accuracy"
   ]
  },
  {
   "cell_type": "code",
   "execution_count": 9,
   "metadata": {},
   "outputs": [
    {
     "name": "stdout",
     "output_type": "stream",
     "text": [
      "Model accuracy: 0.889\n"
     ]
    }
   ],
   "source": [
    "accuracy = np.mean(y == y_pred)\n",
    "print(f'Model accuracy: {accuracy:0.3f}')"
   ]
  },
  {
   "cell_type": "code",
   "execution_count": 10,
   "metadata": {},
   "outputs": [
    {
     "name": "stdout",
     "output_type": "stream",
     "text": [
      "[[520  29]\n",
      " [ 70 272]]\n"
     ]
    },
    {
     "data": {
      "text/plain": [
       "0.8888888888888888"
      ]
     },
     "execution_count": 10,
     "metadata": {},
     "output_type": "execute_result"
    }
   ],
   "source": [
    "print(confusion_matrix(y, y_pred))\n",
    "accuracy_score(y, y_pred)"
   ]
  },
  {
   "cell_type": "markdown",
   "metadata": {},
   "source": [
    "## Get SHAP values\n",
    "\n",
    "TreeExplainer is a fast and exact method to estimate SHAP values for tree models and ensembles of trees. Using this we can calculate the SHAP values."
   ]
  },
  {
   "cell_type": "code",
   "execution_count": 11,
   "metadata": {},
   "outputs": [],
   "source": [
    "# Set up the method to estimate SHAP values for tree models and ensembles of\n",
    "# trees\n",
    "explainer = shap.TreeExplainer(model)\n",
    "\n",
    "# Get SHAP values\n",
    "shap_values = explainer(X)"
   ]
  },
  {
   "cell_type": "markdown",
   "metadata": {},
   "source": [
    "### Waterfall plot\n",
    "\n",
    "Embarked is shown as it's one-hot encoded components. They each get their own SHAP value. For this instance we can see that the passenger embarked at Southampton (Embarked_S = 1). This contributes a small amount to the likelihood of not surviving. The fact that the passenger did not embark at C contributes a larger amount to the likelihood of not surviving, and the fact that the passeger did not embark at Q contributes a very small amount to the likelihood of surviving."
   ]
  },
  {
   "cell_type": "code",
   "execution_count": 12,
   "metadata": {},
   "outputs": [
    {
     "data": {
      "image/png": "[encoded data removed]",
      "text/plain": [
       "<Figure size 576x324 with 3 Axes>"
      ]
     },
     "metadata": {},
     "output_type": "display_data"
    }
   ],
   "source": [
    "# waterfall plot\n",
    "shap.plots.waterfall(shap_values[0], show=False)\n",
    "plt.show()\n",
    "#plt.savefig(path.format('standard_shap.png'),dpi=100,bbox_inches='tight')"
   ]
  },
  {
   "cell_type": "markdown",
   "metadata": {},
   "source": [
    "# SHAP for catgeorical features \n",
    "\n",
    "We've seen above that the categorigcal feature represented as a one-hot encoded feature have a SHAP value for each of the one-hot encoded features.\n",
    "\n",
    "Looking at them in isolation gives us the contribution of each in respect to the feature value.\n",
    "\n",
    "As SHAP values are additive, we have the option of joining them together (summing each of the one-hot features) to give us the overall contribution of the whole feature, to be described as \"the contribution of passenger embarking from Southampton, and not at the others\"."
   ]
  },
  {
   "cell_type": "markdown",
   "metadata": {},
   "source": [
    "Represent the dataset without one-hot encoded features (that is to represent Embarked as a single column, with a string per category: S, C, Q), and just the X features (remove the target feature)\n",
    "\n",
    "Create dataset with Embarked column containing the string value in a single column - basically un-do the one-hot encoding of the Embarked column. This is to be used later."
   ]
  },
  {
   "cell_type": "code",
   "execution_count": 13,
   "metadata": {},
   "outputs": [
    {
     "data": {
      "text/html": [
       "<div>\n",
       "<style scoped>\n",
       "    .dataframe tbody tr th:only-of-type {\n",
       "        vertical-align: middle;\n",
       "    }\n",
       "\n",
       "    .dataframe tbody tr th {\n",
       "        vertical-align: top;\n",
       "    }\n",
       "\n",
       "    .dataframe thead th {\n",
       "        text-align: right;\n",
       "    }\n",
       "</style>\n",
       "<table border=\"1\" class=\"dataframe\">\n",
       "  <thead>\n",
       "    <tr style=\"text-align: right;\">\n",
       "      <th></th>\n",
       "      <th>male</th>\n",
       "      <th>Pclass</th>\n",
       "      <th>Age</th>\n",
       "      <th>Embarked</th>\n",
       "    </tr>\n",
       "  </thead>\n",
       "  <tbody>\n",
       "    <tr>\n",
       "      <th>0</th>\n",
       "      <td>1.0</td>\n",
       "      <td>3.0</td>\n",
       "      <td>22.0</td>\n",
       "      <td>S</td>\n",
       "    </tr>\n",
       "    <tr>\n",
       "      <th>1</th>\n",
       "      <td>0.0</td>\n",
       "      <td>1.0</td>\n",
       "      <td>38.0</td>\n",
       "      <td>C</td>\n",
       "    </tr>\n",
       "    <tr>\n",
       "      <th>2</th>\n",
       "      <td>0.0</td>\n",
       "      <td>3.0</td>\n",
       "      <td>26.0</td>\n",
       "      <td>S</td>\n",
       "    </tr>\n",
       "    <tr>\n",
       "      <th>3</th>\n",
       "      <td>0.0</td>\n",
       "      <td>1.0</td>\n",
       "      <td>35.0</td>\n",
       "      <td>S</td>\n",
       "    </tr>\n",
       "    <tr>\n",
       "      <th>4</th>\n",
       "      <td>1.0</td>\n",
       "      <td>3.0</td>\n",
       "      <td>35.0</td>\n",
       "      <td>S</td>\n",
       "    </tr>\n",
       "  </tbody>\n",
       "</table>\n",
       "</div>"
      ],
      "text/plain": [
       "   male  Pclass   Age Embarked\n",
       "0   1.0     3.0  22.0        S\n",
       "1   0.0     1.0  38.0        C\n",
       "2   0.0     3.0  26.0        S\n",
       "3   0.0     1.0  35.0        S\n",
       "4   1.0     3.0  35.0        S"
      ]
     },
     "execution_count": 13,
     "metadata": {},
     "output_type": "execute_result"
    }
   ],
   "source": [
    "# Setup conditions\n",
    "conditions = [\n",
    "   (data['Embarked_C'] == 1),\n",
    "   (data['Embarked_Q'] == 1),\n",
    "   (data['Embarked_S'] == 1)\n",
    "]\n",
    "\n",
    "# Setup new value for each condition\n",
    "values = ['C', 'Q', 'S']\n",
    "\n",
    "# Copy of original dataset\n",
    "X_data_combined = data.copy(deep=True)\n",
    "\n",
    "# Create new column\n",
    "X_data_combined[\"Embarked\"] = np.select(conditions, values)\n",
    "\n",
    "# Drop the original one-hot encoded features\n",
    "X_data_combined.drop(columns=['Embarked_C', 'Embarked_Q', 'Embarked_S'], inplace=True)\n",
    "\n",
    "# Drop the target feature\n",
    "X_data_combined.drop(\"Survived\", axis=1, inplace = True)\n",
    "\n",
    "# Drfine column order (with target feature at end)\n",
    "#col_order = ['male', 'Pclass', 'Age', 'Embarked', 'Survived']\n",
    "\n",
    "# Reorder columns\n",
    "#data_combined = data_combined[col_order] \n",
    "\n",
    "# Store feature names for later\n",
    "feature_names = X_data_combined.columns.values\n",
    "\n",
    "# View first 5 rows\n",
    "X_data_combined.head(5)"
   ]
  },
  {
   "cell_type": "markdown",
   "metadata": {},
   "source": [
    "The SHAP values are returned in the same order as in the dataset. We are going to sum up the SHAP values for the one-hot encded features that represent the feature Embarked.\n",
    "\n",
    "We need to match up the columns in the SHAP values and in the dataset. The SHAP values are returned in the same order as the dataset. Let's remind ourselves of what the shap_values Explainer object look like (for the first 5 rows):"
   ]
  },
  {
   "cell_type": "code",
   "execution_count": 14,
   "metadata": {},
   "outputs": [
    {
     "name": "stdout",
     "output_type": "stream",
     "text": [
      ".values =\n",
      "array([[-1.1405869 , -0.41747785, -0.69435966, -0.2698082 ,  0.00518216,\n",
      "        -0.06495818],\n",
      "       [ 2.626636  ,  2.4683647 , -0.8261189 ,  0.08193731,  0.01741966,\n",
      "         0.07263356],\n",
      "       [ 1.6105285 , -0.70553905,  0.42194188, -0.05834208, -0.01360322,\n",
      "        -0.1980037 ],\n",
      "       [ 2.8425143 ,  2.5561671 ,  2.071535  , -0.04348096,  0.02041109,\n",
      "        -0.03775589],\n",
      "       [-1.2752291 , -1.246187  , -0.10405035, -0.07038384,  0.01380277,\n",
      "         0.05198947]], dtype=float32)\n",
      "\n",
      ".base_values =\n",
      "array([-0.58842766, -0.58842766, -0.58842766, -0.58842766, -0.58842766],\n",
      "      dtype=float32)\n",
      "\n",
      ".data =\n",
      "array([[ 1.,  3., 22.,  0.,  0.,  1.],\n",
      "       [ 0.,  1., 38.,  1.,  0.,  0.],\n",
      "       [ 0.,  3., 26.,  0.,  0.,  1.],\n",
      "       [ 0.,  1., 35.,  0.,  0.,  1.],\n",
      "       [ 1.,  3., 35.,  0.,  0.,  1.]])\n"
     ]
    }
   ],
   "source": [
    "print(shap_values[0:5])"
   ]
  },
  {
   "cell_type": "code",
   "execution_count": 15,
   "metadata": {},
   "outputs": [],
   "source": [
    "# Want to do a culmulative sum on the SHAP values for each instance. \n",
    "# Need to know how many one-hot features there are per feature.\n",
    "# So store the number of categories for each feature, apart from the final feature (as this will take the rest).\n",
    "# If it's continuous feature, then have value 1.\n",
    "#  Want result [1,1,1].\n",
    "\n",
    "n_categories = []\n",
    "\n",
    "for c in list(X_data_combined.columns)[:-1]:\n",
    "    if  X_data_combined[c].dtype == object:\n",
    "        n_categories.append(X_data_combined[c].nunique())\n",
    "    else:\n",
    "        n_categories.append(1)"
   ]
  },
  {
   "cell_type": "markdown",
   "metadata": {},
   "source": [
    "Represent the shap_values.values as a value per feature (sum up the one-hot encoded features)"
   ]
  },
  {
   "cell_type": "code",
   "execution_count": 16,
   "metadata": {},
   "outputs": [
    {
     "name": "stdout",
     "output_type": "stream",
     "text": [
      "Length of list 891\n",
      "Sum of SHAP from two sources: -2.5820085909217596 & -2.5820085909217596\n",
      "Sum of SHAP from two sources: 4.4408723916858435 & 4.4408723916858435\n",
      "[2.626636028289795, 2.468364715576172, -0.8261188864707947, 0.17199053429067135]\n"
     ]
    }
   ],
   "source": [
    "# Initialise list\n",
    "new_shap_values = []\n",
    "\n",
    "# For each set of feature SHAP values (for an instance)\n",
    "for values in shap_values.values:\n",
    "    \n",
    "    #split shap values into a list for each feature\n",
    "    values_split = np.split(values , np.cumsum(n_categories))\n",
    "    \n",
    "    #sum values within each list\n",
    "    values_sum = [sum(l) for l in values_split]\n",
    "    \n",
    "    # Add to list\n",
    "    new_shap_values.append(values_sum)\n",
    "\n",
    "print(f\"Length of list {len(new_shap_values)}\")\n",
    "print(f\"Sum of SHAP from two sources: {sum(new_shap_values[0])} & {sum(shap_values.values[0])}\")\n",
    "print(f\"Sum of SHAP from two sources: {sum(new_shap_values[1])} & {sum(shap_values.values[1])}\")\n",
    "print(new_shap_values[1])"
   ]
  },
  {
   "cell_type": "markdown",
   "metadata": {},
   "source": [
    "Create a new Explainer object (from teh existing one) and alter it to contian the information with the joined up one-hot encded features."
   ]
  },
  {
   "cell_type": "code",
   "execution_count": 17,
   "metadata": {},
   "outputs": [],
   "source": [
    "# Take deep copy of original Explainer object\n",
    "shap_values_combined = copy.deepcopy(shap_values)\n",
    "\n",
    "# Take copy of original Explainer object\n",
    "shap_values_combined = shap_values\n",
    "\n",
    "# Replace shap values\n",
    "shap_values_combined.values = np.array(new_shap_values)\n",
    "\n",
    "# Replace data with categorical feature values \n",
    "shap_values_combined.data = np.array(X_data_combined)\n",
    "\n",
    "# Update feature names\n",
    "shap_values_combined.feature_names = list(X_data_combined.columns)"
   ]
  },
  {
   "cell_type": "markdown",
   "metadata": {},
   "source": [
    "View shap_values for first instance"
   ]
  },
  {
   "cell_type": "code",
   "execution_count": 18,
   "metadata": {},
   "outputs": [
    {
     "data": {
      "text/plain": [
       ".values =\n",
       "array([-1.14058685, -0.41747785, -0.69435966, -0.32958423])\n",
       "\n",
       ".base_values =\n",
       "-0.58842766\n",
       "\n",
       ".data =\n",
       "array([1.0, 3.0, 22.0, 'S'], dtype=object)"
      ]
     },
     "execution_count": 18,
     "metadata": {},
     "output_type": "execute_result"
    }
   ],
   "source": [
    "shap_values_combined[0]"
   ]
  },
  {
   "cell_type": "code",
   "execution_count": 19,
   "metadata": {},
   "outputs": [
    {
     "data": {
      "image/png": "[encoded data removed]",
      "text/plain": [
       "<Figure size 576x252 with 3 Axes>"
      ]
     },
     "metadata": {},
     "output_type": "display_data"
    }
   ],
   "source": [
    "# waterfall plot\n",
    "shap.plots.waterfall(shap_values_combined[0], show=False)\n",
    "plt.show()\n",
    "#plt.savefig(path.format('category_shap.png'),dpi=100,bbox_inches='tight')"
   ]
  },
  {
   "cell_type": "markdown",
   "metadata": {},
   "source": [
    "Now we see Embarked as a single feature, with a single SHAP value. For this instance we can see that the passenger embarked at Southampton (Embarked = S). The SHAP value for this feature can be described as the contribution for the passenger embarking at Southampton, and not the rest. It contributes a relatively small amount to the likelihood of not surviving."
   ]
  },
  {
   "cell_type": "markdown",
   "metadata": {},
   "source": [
    "Now we look at the global picture"
   ]
  },
  {
   "cell_type": "code",
   "execution_count": 20,
   "metadata": {},
   "outputs": [
    {
     "data": {
      "image/png": "[encoded data removed]",
      "text/plain": [
       "<Figure size 576x252 with 1 Axes>"
      ]
     },
     "metadata": {},
     "output_type": "display_data"
    }
   ],
   "source": [
    "#Mean SHAP\n",
    "shap.plots.bar(shap_values_combined,show=False)\n",
    "plt.show()\n",
    "#plt.savefig(path.format('mean_shap.png'),dpi=100,bbox_inches='tight')"
   ]
  },
  {
   "cell_type": "markdown",
   "metadata": {},
   "source": [
    "The beeswarm can not show the feature value of categorical variables (for example Embarked) as it can only display a continuous scale. We can supplement this plot with a boxplot for each catrgorical feature (see below)."
   ]
  },
  {
   "cell_type": "code",
   "execution_count": 21,
   "metadata": {},
   "outputs": [
    {
     "data": {
      "image/png": "[encoded data removed]",
      "text/plain": [
       "<Figure size 576x223.2 with 2 Axes>"
      ]
     },
     "metadata": {
      "needs_background": "light"
     },
     "output_type": "display_data"
    }
   ],
   "source": [
    "shap.plots.beeswarm(shap_values_combined, show=False)\n",
    "plt.show()\n",
    "#plt.savefig(path.format('beeswarm.png'),dpi=100,bbox_inches='tight')"
   ]
  },
  {
   "cell_type": "markdown",
   "metadata": {},
   "source": [
    "Boxplot per categorical variable showing the spread of SHAP values for each categorical level."
   ]
  },
  {
   "cell_type": "code",
   "execution_count": 30,
   "metadata": {},
   "outputs": [
    {
     "data": {
      "image/png": "[encoded data removed]",
      "text/plain": [
       "<Figure size 576x360 with 1 Axes>"
      ]
     },
     "metadata": {
      "needs_background": "light"
     },
     "output_type": "display_data"
    }
   ],
   "source": [
    "#get shaply values and data\n",
    "embarked_values = shap_values_combined[:,\"Embarked\"].values\n",
    "embarked_data = shap_values_combined[:,\"Embarked\"].data\n",
    "\n",
    "#split odor shap values based on odor category\n",
    "embarked_categories = list(set(embarked_data))\n",
    "\n",
    "# Create dictionary for the Label with frequency, to use for the boxplot label\n",
    "# KP NEED TO DO THIS\n",
    "dict_freq = {}\n",
    "#for o in embarked_categories:\n",
    "#    dict_freq[f'{o}'] = []\n",
    "    \n",
    "embarked_groups = []\n",
    "for o in embarked_categories:\n",
    "    relevant_values = embarked_values[embarked_data == o]\n",
    "    embarked_groups.append(relevant_values)\n",
    "    # KP NEED TO DO THIS. ADD FREQ TO THE DICT\n",
    "    dict_freq[f'{o}'] = relevant_values.shape\n",
    "    \n",
    "#replace categories with labels\n",
    "embarked_labels = {'C':f'Cherbourg\\n(n={dict_freq[\"C\"][0]})',\n",
    "                   'Q':f'Queenstown\\n(n={dict_freq[\"Q\"][0]})', \n",
    "                   'S':f'Southampton\\n(n={dict_freq[\"S\"][0]})',\n",
    "                   '0':f'Missing\\n(n={dict_freq[\"0\"][0]})'}\n",
    "\n",
    "labels = [embarked_labels[u] for u in embarked_categories]\n",
    "\n",
    "#plot boxplot\n",
    "plt.figure(figsize=(8, 5))\n",
    "\n",
    "plt.boxplot(embarked_groups,labels=labels)\n",
    "\n",
    "plt.ylabel('Shap values',size=15)\n",
    "plt.xlabel('Embarked',size=15)\n",
    "plt.show()\n",
    "#plt.savefig(path.format('boxplot.png'),dpi=100,bbox_inches='tight')"
   ]
  },
  {
   "cell_type": "markdown",
   "metadata": {},
   "source": [
    "# To recap\n",
    "\n",
    "We can fit a model to data that contains a categorical feature represented as one-hot encded features, and calculate their SHAP values and choose whether to represent them as their individual one-hot encoded components (\"what each value contributes to the prediction\"), or their combined effect (\"what having this value, and not the others, contributes to the prediction\").\n",
    "\n",
    "Let's take a simple example and represent each of these options as an equation.\n",
    "\n",
    "We have a continous feature \"1\" and a categorical feature \"2\" with two levels: A and B. For this example, let's assume that the instance is A, not B, for feature 2.\n",
    "\n",
    "Here we will use this nomenclature:\n",
    "\n",
    "P = Prediction\\\n",
    "B = Base value\\\n",
    "Sx = SHAP value for feature x (where x can be the continuous feature (such as 1), or one-hot encded categorical feature (such as 2A and 2B))\n",
    "\n",
    "Option 1: Keeping the one-hot encoded features separate, we have:\\\n",
    "\n",
    "P = B + S1 + S2A + S2B\n",
    "\n",
    "Option 2: We can sum the associated one-hot encoded features, and treat them as a single value (the combination of S2A and S2B gives the overall contribution for feature 2):\\\n",
    "\n",
    "P = B + S1 + S2A+B\n",
    "\n",
    "where S2A+B = (S2A + S2B)\n",
    "\n",
    "Describe S1 as “contribution from feature 1 on prediction”.\n",
    "Describe S2A as “contribution from attending A on prediction”.\n",
    "Describe S2B as “contribution from not attending B on prediction”.\n",
    "Describe S2A+B as “contribution from attending A, and not the other, on prediction”."
   ]
  }
 ],
 "metadata": {
  "kernelspec": {
   "display_name": "Python 3 (ipykernel)",
   "language": "python",
   "name": "python3"
  },
  "language_info": {
   "codemirror_mode": {
    "name": "ipython",
    "version": 3
   },
   "file_extension": ".py",
   "mimetype": "text/x-python",
   "name": "python",
   "nbconvert_exporter": "python",
   "pygments_lexer": "ipython3",
   "version": "3.8.13"
  }
 },
 "nbformat": 4,
 "nbformat_minor": 4
}
