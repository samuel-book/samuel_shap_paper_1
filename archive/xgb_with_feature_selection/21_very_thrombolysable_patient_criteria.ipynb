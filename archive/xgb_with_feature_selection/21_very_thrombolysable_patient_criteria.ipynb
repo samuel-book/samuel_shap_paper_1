{
 "cells": [
  {
   "cell_type": "markdown",
   "id": "f798cb2d-4aa4-40fa-8d8e-2b6fa6861f1d",
   "metadata": {},
   "source": [
    "# Using the model's output [probability] to determine the most thrombolysable patient per hospital\n",
    "\n",
    "In notebook \"20_synthetic_patients.ipynb\" we explore creating synthetic patients - those that have features that are favourable to use of thrombolysis.\n",
    "\n",
    "Here are teh criteria for our 'very thrombolysable' synthetic patient:\n",
    "Onset to arrival = 60 mins\n",
    "Arrival to scan = 15 mins\n",
    "Infarction = 1\n",
    "NIHSS = 15\n",
    "Prior disability level = 0\n",
    "Precise onset time = 1\n",
    "Use of AF anticoagulents = 0\n",
    "\n",
    "This notebook finds that in our dataset (of the patients that attend the hospitals) examples of a 'very thrombolysable' synthetic patient does not attend each of the 132 hospitals."
   ]
  },
  {
   "cell_type": "markdown",
   "id": "7d37755f-5991-4528-8f8c-999b7896766e",
   "metadata": {},
   "source": [
    "Import libraries"
   ]
  },
  {
   "cell_type": "code",
   "execution_count": 1,
   "id": "84950837-4a49-417d-83a4-1e5763b0002b",
   "metadata": {},
   "outputs": [
    {
     "name": "stderr",
     "output_type": "stream",
     "text": [
      "/home/kerry/miniconda3/envs/samuel2/lib/python3.8/site-packages/xgboost/compat.py:36: FutureWarning: pandas.Int64Index is deprecated and will be removed from pandas in a future version. Use pandas.Index with the appropriate dtype instead.\n",
      "  from pandas import MultiIndex, Int64Index\n",
      "/home/kerry/miniconda3/envs/samuel2/lib/python3.8/site-packages/tqdm/auto.py:22: TqdmWarning: IProgress not found. Please update jupyter and ipywidgets. See https://ipywidgets.readthedocs.io/en/stable/user_install.html\n",
      "  from .autonotebook import tqdm as notebook_tqdm\n"
     ]
    }
   ],
   "source": [
    "import matplotlib.pyplot as plt\n",
    "import numpy as np\n",
    "import pandas as pd\n",
    "\n",
    "# Import machine learning methods\n",
    "from xgboost import XGBClassifier\n",
    "\n",
    "# Import shap for shapley values\n",
    "import shap # `pip install shap` if neeed\n",
    "\n",
    "# Turn warnings off to keep notebook tidy\n",
    "import warnings\n",
    "warnings.filterwarnings(\"ignore\")\n",
    "\n",
    "from scipy import stats\n",
    "\n",
    "import os\n",
    "import pickle\n",
    "\n",
    "from os.path import exists\n",
    "import json"
   ]
  },
  {
   "cell_type": "markdown",
   "id": "744e8522-3381-4758-a21d-f87121898463",
   "metadata": {},
   "source": [
    "## Load Json"
   ]
  },
  {
   "cell_type": "code",
   "execution_count": 2,
   "id": "02080543-a069-4583-9a44-7c2335871b47",
   "metadata": {},
   "outputs": [],
   "source": [
    "with open(\"./output/feature_name_dict.json\") as json_file:\n",
    "    feature_name_dict = json.load(json_file)"
   ]
  },
  {
   "cell_type": "markdown",
   "id": "bd60f9a4-df34-4bd4-9da9-73c4c9c2588b",
   "metadata": {},
   "source": [
    "## Data location"
   ]
  },
  {
   "cell_type": "code",
   "execution_count": 3,
   "id": "c57a8989-217c-4c11-9910-4e1f21f56cd3",
   "metadata": {},
   "outputs": [],
   "source": [
    "data_loc = '../data/kfold_5fold/'"
   ]
  },
  {
   "cell_type": "markdown",
   "id": "c7333afd-a821-4cf9-90cc-2795e8b7245b",
   "metadata": {},
   "source": [
    "## Load data\n",
    "Just need the five test sets (one from each of the 5-kfold splits), and join them so that have a complete set of the patients."
   ]
  },
  {
   "cell_type": "code",
   "execution_count": 4,
   "id": "46f99654-2e0b-4270-ada9-88866658e82e",
   "metadata": {},
   "outputs": [],
   "source": [
    "# Initialise empty lists\n",
    "test_data = []\n",
    "\n",
    "# Read in the names of the selected features for the model\n",
    "number_of_features_to_use = 8\n",
    "key_features = pd.read_csv('./output/feature_selection.csv')\n",
    "key_features = list(key_features['feature'])[:number_of_features_to_use]\n",
    "# And add the target feature name: S2Thrombolysis\n",
    "key_features.append('S2Thrombolysis')\n",
    "\n",
    "# For each k-fold split\n",
    "for i in range(5):\n",
    "    # Read in test set, restrict to chosen features, rename titles, & store\n",
    "    test = pd.read_csv(data_loc + 'test_{0}.csv'.format(i))\n",
    "    test = test[key_features]\n",
    "    test.rename(columns=feature_name_dict, inplace=True)\n",
    "    test_data.append(test)"
   ]
  },
  {
   "cell_type": "markdown",
   "id": "a75622fe-185c-4b4b-b468-af60c8c224c1",
   "metadata": {},
   "source": [
    "## Join all test sets into one dataframe"
   ]
  },
  {
   "cell_type": "code",
   "execution_count": 5,
   "id": "38d46821-86d8-4db6-b8e7-8fa702feb9b8",
   "metadata": {},
   "outputs": [],
   "source": [
    "data = pd.concat(test_data, ignore_index=True)"
   ]
  },
  {
   "cell_type": "code",
   "execution_count": 6,
   "id": "93596ae4-7956-407a-b642-498852991c3e",
   "metadata": {},
   "outputs": [
    {
     "data": {
      "text/html": [
       "<div>\n",
       "<style scoped>\n",
       "    .dataframe tbody tr th:only-of-type {\n",
       "        vertical-align: middle;\n",
       "    }\n",
       "\n",
       "    .dataframe tbody tr th {\n",
       "        vertical-align: top;\n",
       "    }\n",
       "\n",
       "    .dataframe thead th {\n",
       "        text-align: right;\n",
       "    }\n",
       "</style>\n",
       "<table border=\"1\" class=\"dataframe\">\n",
       "  <thead>\n",
       "    <tr style=\"text-align: right;\">\n",
       "      <th></th>\n",
       "      <th>Arrival-to-scan time</th>\n",
       "      <th>Infarction</th>\n",
       "      <th>Stroke severity</th>\n",
       "      <th>Precise onset time</th>\n",
       "      <th>Prior disability level</th>\n",
       "      <th>Stroke team</th>\n",
       "      <th>Use of AF anticoagulents</th>\n",
       "      <th>Onset-to-arrival time</th>\n",
       "      <th>Thrombolysis</th>\n",
       "    </tr>\n",
       "  </thead>\n",
       "  <tbody>\n",
       "    <tr>\n",
       "      <th>0</th>\n",
       "      <td>17.0</td>\n",
       "      <td>1</td>\n",
       "      <td>14.0</td>\n",
       "      <td>1</td>\n",
       "      <td>0</td>\n",
       "      <td>TXHRP7672C</td>\n",
       "      <td>0</td>\n",
       "      <td>186.0</td>\n",
       "      <td>1</td>\n",
       "    </tr>\n",
       "    <tr>\n",
       "      <th>1</th>\n",
       "      <td>25.0</td>\n",
       "      <td>1</td>\n",
       "      <td>6.0</td>\n",
       "      <td>1</td>\n",
       "      <td>0</td>\n",
       "      <td>SQGXB9559U</td>\n",
       "      <td>0</td>\n",
       "      <td>71.0</td>\n",
       "      <td>1</td>\n",
       "    </tr>\n",
       "    <tr>\n",
       "      <th>2</th>\n",
       "      <td>138.0</td>\n",
       "      <td>1</td>\n",
       "      <td>2.0</td>\n",
       "      <td>1</td>\n",
       "      <td>0</td>\n",
       "      <td>LFPMM4706C</td>\n",
       "      <td>0</td>\n",
       "      <td>67.0</td>\n",
       "      <td>0</td>\n",
       "    </tr>\n",
       "    <tr>\n",
       "      <th>3</th>\n",
       "      <td>21.0</td>\n",
       "      <td>0</td>\n",
       "      <td>11.0</td>\n",
       "      <td>1</td>\n",
       "      <td>0</td>\n",
       "      <td>MHMYL4920B</td>\n",
       "      <td>0</td>\n",
       "      <td>86.0</td>\n",
       "      <td>0</td>\n",
       "    </tr>\n",
       "    <tr>\n",
       "      <th>4</th>\n",
       "      <td>8.0</td>\n",
       "      <td>1</td>\n",
       "      <td>16.0</td>\n",
       "      <td>1</td>\n",
       "      <td>0</td>\n",
       "      <td>EQZZZ5658G</td>\n",
       "      <td>0</td>\n",
       "      <td>83.0</td>\n",
       "      <td>1</td>\n",
       "    </tr>\n",
       "  </tbody>\n",
       "</table>\n",
       "</div>"
      ],
      "text/plain": [
       "   Arrival-to-scan time  Infarction  Stroke severity  Precise onset time  \\\n",
       "0                  17.0           1             14.0                   1   \n",
       "1                  25.0           1              6.0                   1   \n",
       "2                 138.0           1              2.0                   1   \n",
       "3                  21.0           0             11.0                   1   \n",
       "4                   8.0           1             16.0                   1   \n",
       "\n",
       "   Prior disability level Stroke team  Use of AF anticoagulents  \\\n",
       "0                       0  TXHRP7672C                         0   \n",
       "1                       0  SQGXB9559U                         0   \n",
       "2                       0  LFPMM4706C                         0   \n",
       "3                       0  MHMYL4920B                         0   \n",
       "4                       0  EQZZZ5658G                         0   \n",
       "\n",
       "   Onset-to-arrival time  Thrombolysis  \n",
       "0                  186.0             1  \n",
       "1                   71.0             1  \n",
       "2                   67.0             0  \n",
       "3                   86.0             0  \n",
       "4                   83.0             1  "
      ]
     },
     "execution_count": 6,
     "metadata": {},
     "output_type": "execute_result"
    }
   ],
   "source": [
    "data.head()"
   ]
  },
  {
   "cell_type": "markdown",
   "id": "e5c0c48c-fb67-4a01-b704-889b70cf1e55",
   "metadata": {},
   "source": [
    "## Also have set of data not restricted by the key features\n",
    "To explore why the patient did not recieve thrombolysis at their attended hospital, when the features are all 'very thrombolysable'."
   ]
  },
  {
   "cell_type": "code",
   "execution_count": 7,
   "id": "4197a2ac-707f-4da3-a11e-06460a3c2d5f",
   "metadata": {},
   "outputs": [],
   "source": [
    "# Initialise empty lists\n",
    "test_data = []\n",
    "\n",
    "# For each k-fold split\n",
    "for i in range(5):\n",
    "    # Read in test set, restrict to chosen features, rename titles, & store\n",
    "    test = pd.read_csv(data_loc + 'test_{0}.csv'.format(i))\n",
    "    test_data.append(test)\n",
    "data_full = pd.concat(test_data, ignore_index=True)"
   ]
  },
  {
   "cell_type": "code",
   "execution_count": 8,
   "id": "63dae164-f378-448c-9488-95c7ec82896b",
   "metadata": {},
   "outputs": [
    {
     "name": "stdout",
     "output_type": "stream",
     "text": [
      "There are 88792 patients in the dataset\n"
     ]
    }
   ],
   "source": [
    "original_number_of_patients = data.shape[0]\n",
    "print(f\"There are {original_number_of_patients} patients in the dataset\")"
   ]
  },
  {
   "cell_type": "markdown",
   "id": "888786d5-7a24-4cdc-9ae6-9bd459c5dfb3",
   "metadata": {},
   "source": [
    "Define target values"
   ]
  },
  {
   "cell_type": "code",
   "execution_count": 9,
   "id": "809f45a6-7a06-40f9-8cc3-31f34edf705d",
   "metadata": {},
   "outputs": [],
   "source": [
    "target_onset_to_arrival = 80#60 #mins\n",
    "target_arrival_to_scan = 20#15 #mins\n",
    "target_infarction = 1\n",
    "target_nihss = 15\n",
    "target_prior_disability_level = 0\n",
    "target_precise_onset_time = 1\n",
    "target_use_of_af_anticoagulents = 0"
   ]
  },
  {
   "cell_type": "markdown",
   "id": "47490dae-59d4-4fd6-a477-caffa3bc3d58",
   "metadata": {},
   "source": [
    "Filter patients to those that meet the targets"
   ]
  },
  {
   "cell_type": "code",
   "execution_count": 10,
   "id": "62ac1312-5fe2-4e4b-be3b-fdd84518de21",
   "metadata": {},
   "outputs": [],
   "source": [
    "# Filter\n",
    "mask1 = data[\"Onset-to-arrival time\"] <= target_onset_to_arrival \n",
    "mask2 = data[\"Arrival-to-scan time\"] <= target_arrival_to_scan \n",
    "mask3 = data[\"Infarction\"] == target_infarction \n",
    "mask4 = data[\"Stroke severity\"] == target_nihss \n",
    "mask5 = data[\"Prior disability level\"] == target_prior_disability_level\n",
    "mask6 = data[\"Precise onset time\"] == target_precise_onset_time\n",
    "mask7 = data[\"Use of AF anticoagulents\"] == target_use_of_af_anticoagulents\n",
    "mask = mask1 * mask2 * mask3 * mask4 * mask5 * mask6 * mask7\n",
    "\n",
    "very_thrombolysable_patients = data[mask]\n",
    "\n",
    "mask1 = data[\"Onset-to-arrival time\"] == target_onset_to_arrival \n",
    "mask2 = data[\"Arrival-to-scan time\"] == target_arrival_to_scan \n",
    "mask = mask1 * mask2 * mask3 * mask4 * mask5 * mask6 * mask7\n",
    "very_thrombolysable_patients_exact = data[mask]\n"
   ]
  },
  {
   "cell_type": "code",
   "execution_count": 11,
   "id": "68000966-d230-476b-be82-f8e0985fe09b",
   "metadata": {},
   "outputs": [
    {
     "name": "stdout",
     "output_type": "stream",
     "text": [
      "The 134 patients that meet the 'very thrombolysable' criteria attend 72 different stroke teams\n"
     ]
    }
   ],
   "source": [
    "n1 = very_thrombolysable_patients.shape[0]\n",
    "n2 = very_thrombolysable_patients[\"Stroke team\"].nunique()\n",
    "\n",
    "print (f\"The {n1} patients that meet the 'very thrombolysable' criteria \"\n",
    "       f\"attend {n2} different stroke teams\")"
   ]
  },
  {
   "cell_type": "code",
   "execution_count": 12,
   "id": "9424b684-e837-4a26-92bf-f922e7a38be2",
   "metadata": {},
   "outputs": [
    {
     "name": "stdout",
     "output_type": "stream",
     "text": [
      "There are 1 patients that match the exact 'very thrombolysable' criteria\n"
     ]
    }
   ],
   "source": [
    "n3 = very_thrombolysable_patients_exact[\"Stroke team\"].nunique()\n",
    "print (f\"There are {n3} patients that match the exact 'very thrombolysable' criteria\")"
   ]
  },
  {
   "cell_type": "code",
   "execution_count": 13,
   "id": "85be50ae-e2df-4950-8fdd-c20b8dbfc36f",
   "metadata": {},
   "outputs": [
    {
     "name": "stdout",
     "output_type": "stream",
     "text": [
      "Two of the criteria are <=. Here are the range of values for the 134 patients that meet the 'very thrombolysable' criteria\n"
     ]
    },
    {
     "data": {
      "image/png": "[encoded data removed]",
      "text/plain": [
       "<Figure size 432x288 with 1 Axes>"
      ]
     },
     "metadata": {
      "needs_background": "light"
     },
     "output_type": "display_data"
    }
   ],
   "source": [
    "print (f\"Two of the criteria are <=. Here are the range of values for the \"\n",
    "       f\"{n1} patients that meet the 'very thrombolysable' criteria\")\n",
    "\n",
    "fig, ax = plt.subplots()\n",
    "#colors = {'North America':'red', 'Europe':'green', 'Asia':'blue', 'Australia':'yellow'}\n",
    "\n",
    "ax.scatter(very_thrombolysable_patients['Onset-to-arrival time'], \n",
    "           very_thrombolysable_patients['Arrival-to-scan time'])\n",
    "ax.scatter(very_thrombolysable_patients_exact['Onset-to-arrival time'], \n",
    "           very_thrombolysable_patients_exact['Arrival-to-scan time'],\n",
    "           c='red')\n",
    "      \n",
    "#           c=frankenstein_patients['Stroke team'].map(colors))\n",
    "ax.set_xlabel(\"Onset-to-arrival time (mins)\")\n",
    "ax.set_ylabel(\"Arrival-to-scan time (mins)\")\n",
    "plt.show()"
   ]
  },
  {
   "cell_type": "markdown",
   "id": "9d5aa384-f213-44e7-a875-396eea2672e3",
   "metadata": {},
   "source": [
    "Of these patients, do any not receive thrombolysis in real world?"
   ]
  },
  {
   "cell_type": "code",
   "execution_count": 14,
   "id": "30756044-9921-44f3-9b2b-8b514efcf5b6",
   "metadata": {},
   "outputs": [
    {
     "name": "stdout",
     "output_type": "stream",
     "text": [
      "13 'very thrombolysable' patients do not recieve thrombolysis at their attended hosptial\n",
      "\n"
     ]
    },
    {
     "data": {
      "text/html": [
       "<div>\n",
       "<style scoped>\n",
       "    .dataframe tbody tr th:only-of-type {\n",
       "        vertical-align: middle;\n",
       "    }\n",
       "\n",
       "    .dataframe tbody tr th {\n",
       "        vertical-align: top;\n",
       "    }\n",
       "\n",
       "    .dataframe thead th {\n",
       "        text-align: right;\n",
       "    }\n",
       "</style>\n",
       "<table border=\"1\" class=\"dataframe\">\n",
       "  <thead>\n",
       "    <tr style=\"text-align: right;\">\n",
       "      <th></th>\n",
       "      <th>Arrival-to-scan time</th>\n",
       "      <th>Infarction</th>\n",
       "      <th>Stroke severity</th>\n",
       "      <th>Precise onset time</th>\n",
       "      <th>Prior disability level</th>\n",
       "      <th>Stroke team</th>\n",
       "      <th>Use of AF anticoagulents</th>\n",
       "      <th>Onset-to-arrival time</th>\n",
       "      <th>Thrombolysis</th>\n",
       "    </tr>\n",
       "  </thead>\n",
       "  <tbody>\n",
       "    <tr>\n",
       "      <th>12620</th>\n",
       "      <td>20.0</td>\n",
       "      <td>1</td>\n",
       "      <td>15.0</td>\n",
       "      <td>1</td>\n",
       "      <td>0</td>\n",
       "      <td>IDHVL2894N</td>\n",
       "      <td>0</td>\n",
       "      <td>66.0</td>\n",
       "      <td>0</td>\n",
       "    </tr>\n",
       "    <tr>\n",
       "      <th>13766</th>\n",
       "      <td>20.0</td>\n",
       "      <td>1</td>\n",
       "      <td>15.0</td>\n",
       "      <td>1</td>\n",
       "      <td>0</td>\n",
       "      <td>CQAAX8797Z</td>\n",
       "      <td>0</td>\n",
       "      <td>55.0</td>\n",
       "      <td>0</td>\n",
       "    </tr>\n",
       "    <tr>\n",
       "      <th>21039</th>\n",
       "      <td>5.0</td>\n",
       "      <td>1</td>\n",
       "      <td>15.0</td>\n",
       "      <td>1</td>\n",
       "      <td>0</td>\n",
       "      <td>MHMYL4920B</td>\n",
       "      <td>0</td>\n",
       "      <td>80.0</td>\n",
       "      <td>0</td>\n",
       "    </tr>\n",
       "    <tr>\n",
       "      <th>26171</th>\n",
       "      <td>12.0</td>\n",
       "      <td>1</td>\n",
       "      <td>15.0</td>\n",
       "      <td>1</td>\n",
       "      <td>0</td>\n",
       "      <td>HZNVT9936G</td>\n",
       "      <td>0</td>\n",
       "      <td>70.0</td>\n",
       "      <td>0</td>\n",
       "    </tr>\n",
       "    <tr>\n",
       "      <th>45411</th>\n",
       "      <td>18.0</td>\n",
       "      <td>1</td>\n",
       "      <td>15.0</td>\n",
       "      <td>1</td>\n",
       "      <td>0</td>\n",
       "      <td>ITFRR7678Y</td>\n",
       "      <td>0</td>\n",
       "      <td>66.0</td>\n",
       "      <td>0</td>\n",
       "    </tr>\n",
       "    <tr>\n",
       "      <th>49506</th>\n",
       "      <td>5.0</td>\n",
       "      <td>1</td>\n",
       "      <td>15.0</td>\n",
       "      <td>1</td>\n",
       "      <td>0</td>\n",
       "      <td>TFSJP6914B</td>\n",
       "      <td>0</td>\n",
       "      <td>40.0</td>\n",
       "      <td>0</td>\n",
       "    </tr>\n",
       "    <tr>\n",
       "      <th>51557</th>\n",
       "      <td>1.0</td>\n",
       "      <td>1</td>\n",
       "      <td>15.0</td>\n",
       "      <td>1</td>\n",
       "      <td>0</td>\n",
       "      <td>XWUBX0795L</td>\n",
       "      <td>0</td>\n",
       "      <td>75.0</td>\n",
       "      <td>0</td>\n",
       "    </tr>\n",
       "    <tr>\n",
       "      <th>62195</th>\n",
       "      <td>15.0</td>\n",
       "      <td>1</td>\n",
       "      <td>15.0</td>\n",
       "      <td>1</td>\n",
       "      <td>0</td>\n",
       "      <td>FAJKD7118X</td>\n",
       "      <td>0</td>\n",
       "      <td>75.0</td>\n",
       "      <td>0</td>\n",
       "    </tr>\n",
       "    <tr>\n",
       "      <th>63158</th>\n",
       "      <td>17.0</td>\n",
       "      <td>1</td>\n",
       "      <td>15.0</td>\n",
       "      <td>1</td>\n",
       "      <td>0</td>\n",
       "      <td>FAJKD7118X</td>\n",
       "      <td>0</td>\n",
       "      <td>68.0</td>\n",
       "      <td>0</td>\n",
       "    </tr>\n",
       "    <tr>\n",
       "      <th>74155</th>\n",
       "      <td>19.0</td>\n",
       "      <td>1</td>\n",
       "      <td>15.0</td>\n",
       "      <td>1</td>\n",
       "      <td>0</td>\n",
       "      <td>FPTBM7594G</td>\n",
       "      <td>0</td>\n",
       "      <td>54.0</td>\n",
       "      <td>0</td>\n",
       "    </tr>\n",
       "    <tr>\n",
       "      <th>79047</th>\n",
       "      <td>8.0</td>\n",
       "      <td>1</td>\n",
       "      <td>15.0</td>\n",
       "      <td>1</td>\n",
       "      <td>0</td>\n",
       "      <td>XIGJJ1201J</td>\n",
       "      <td>0</td>\n",
       "      <td>73.0</td>\n",
       "      <td>0</td>\n",
       "    </tr>\n",
       "    <tr>\n",
       "      <th>84235</th>\n",
       "      <td>17.0</td>\n",
       "      <td>1</td>\n",
       "      <td>15.0</td>\n",
       "      <td>1</td>\n",
       "      <td>0</td>\n",
       "      <td>AKCGO9726K</td>\n",
       "      <td>0</td>\n",
       "      <td>60.0</td>\n",
       "      <td>0</td>\n",
       "    </tr>\n",
       "    <tr>\n",
       "      <th>88652</th>\n",
       "      <td>20.0</td>\n",
       "      <td>1</td>\n",
       "      <td>15.0</td>\n",
       "      <td>1</td>\n",
       "      <td>0</td>\n",
       "      <td>JADBS8258F</td>\n",
       "      <td>0</td>\n",
       "      <td>62.0</td>\n",
       "      <td>0</td>\n",
       "    </tr>\n",
       "  </tbody>\n",
       "</table>\n",
       "</div>"
      ],
      "text/plain": [
       "       Arrival-to-scan time  Infarction  Stroke severity  Precise onset time  \\\n",
       "12620                  20.0           1             15.0                   1   \n",
       "13766                  20.0           1             15.0                   1   \n",
       "21039                   5.0           1             15.0                   1   \n",
       "26171                  12.0           1             15.0                   1   \n",
       "45411                  18.0           1             15.0                   1   \n",
       "49506                   5.0           1             15.0                   1   \n",
       "51557                   1.0           1             15.0                   1   \n",
       "62195                  15.0           1             15.0                   1   \n",
       "63158                  17.0           1             15.0                   1   \n",
       "74155                  19.0           1             15.0                   1   \n",
       "79047                   8.0           1             15.0                   1   \n",
       "84235                  17.0           1             15.0                   1   \n",
       "88652                  20.0           1             15.0                   1   \n",
       "\n",
       "       Prior disability level Stroke team  Use of AF anticoagulents  \\\n",
       "12620                       0  IDHVL2894N                         0   \n",
       "13766                       0  CQAAX8797Z                         0   \n",
       "21039                       0  MHMYL4920B                         0   \n",
       "26171                       0  HZNVT9936G                         0   \n",
       "45411                       0  ITFRR7678Y                         0   \n",
       "49506                       0  TFSJP6914B                         0   \n",
       "51557                       0  XWUBX0795L                         0   \n",
       "62195                       0  FAJKD7118X                         0   \n",
       "63158                       0  FAJKD7118X                         0   \n",
       "74155                       0  FPTBM7594G                         0   \n",
       "79047                       0  XIGJJ1201J                         0   \n",
       "84235                       0  AKCGO9726K                         0   \n",
       "88652                       0  JADBS8258F                         0   \n",
       "\n",
       "       Onset-to-arrival time  Thrombolysis  \n",
       "12620                   66.0             0  \n",
       "13766                   55.0             0  \n",
       "21039                   80.0             0  \n",
       "26171                   70.0             0  \n",
       "45411                   66.0             0  \n",
       "49506                   40.0             0  \n",
       "51557                   75.0             0  \n",
       "62195                   75.0             0  \n",
       "63158                   68.0             0  \n",
       "74155                   54.0             0  \n",
       "79047                   73.0             0  \n",
       "84235                   60.0             0  \n",
       "88652                   62.0             0  "
      ]
     },
     "execution_count": 14,
     "metadata": {},
     "output_type": "execute_result"
    }
   ],
   "source": [
    "mask8 = very_thrombolysable_patients[\"Thrombolysis\"] == 0\n",
    "very_thrombolysable_patients_not_ivt = very_thrombolysable_patients[mask8]\n",
    "\n",
    "print (f\"{mask8.sum()} 'very thrombolysable' patients do not recieve \"\n",
    "       f\"thrombolysis at their attended hosptial\")\n",
    "print()\n",
    "very_thrombolysable_patients_not_ivt"
   ]
  },
  {
   "cell_type": "markdown",
   "id": "2eff2dc8-e823-4118-ad3b-c966175ff378",
   "metadata": {},
   "source": [
    "Take the first patient as an example (of a 'very thrombolysable' patient that didnt recieve thrombolysis in real world)"
   ]
  },
  {
   "cell_type": "code",
   "execution_count": 15,
   "id": "b8fa88da-e0a4-4256-8141-966dfacd06af",
   "metadata": {},
   "outputs": [],
   "source": [
    "patient_index = very_thrombolysable_patients_not_ivt.index[0]"
   ]
  },
  {
   "cell_type": "markdown",
   "id": "6946eedb-72a1-4254-8648-209c175a22a8",
   "metadata": {},
   "source": [
    "Force to print the values of all of the columns for this patient"
   ]
  },
  {
   "cell_type": "code",
   "execution_count": 30,
   "id": "00068ea9-3bd4-401a-8fe7-7469b2414edd",
   "metadata": {},
   "outputs": [
    {
     "name": "stdout",
     "output_type": "stream",
     "text": [
      "StrokeTeam              IDHVL2894N\n",
      "S1AgeOnArrival                42.5\n",
      "S1OnsetToArrival_min          66.0\n",
      "S2RankinBeforeStroke             0\n",
      "Loc                              1\n",
      "LocQuestions    1.0\n",
      "LocCommands     0.0\n",
      "BestGaze        0.0\n",
      "Visual          0.0\n",
      "FacialPalsy     2.0\n",
      "MotorArmLeft     0.0\n",
      "MotorArmRight    4.0\n",
      "MotorLegLeft     0.0\n",
      "MotorLegRight    3.0\n",
      "LimbAtaxia       0.0\n",
      "Sensory                   2.0\n",
      "BestLanguage              0.0\n",
      "Dysarthria                1.0\n",
      "ExtinctionInattention     1.0\n",
      "S2NihssArrival           15.0\n",
      "S2BrainImagingTime_min    20.0\n",
      "S2Thrombolysis               0\n",
      "MoreEqual80y_Yes             0\n",
      "S1Gender_Female              1\n",
      "S1Ethnicity_Asian            0\n",
      "S1Ethnicity_Black                      0\n",
      "S1Ethnicity_Mixed                      0\n",
      "S1Ethnicity_Other                      0\n",
      "S1Ethnicity_White                      1\n",
      "S1OnsetDateType_Stroke during sleep    0\n",
      "S1OnsetTimeType_Precise           1\n",
      "S1ArriveByAmbulance_No            0\n",
      "S1ArriveByAmbulance_Yes           1\n",
      "S1AdmissionHour_00:00 to 02:59    0\n",
      "S1AdmissionHour_03:00 to 05:59    0\n",
      "S1AdmissionHour_06:00 to 08:59    0\n",
      "S1AdmissionHour_09:00 to 11:59    1\n",
      "S1AdmissionHour_12:00 to 14:59    0\n",
      "S1AdmissionHour_15:00 to 17:59    0\n",
      "S1AdmissionHour_18:00 to 20:59    0\n",
      "S1AdmissionHour_21:00 to 23:59    0\n",
      "S1AdmissionDay_Friday             0\n",
      "S1AdmissionDay_Monday             0\n",
      "S1AdmissionDay_Saturday           0\n",
      "S1AdmissionDay_Sunday             0\n",
      "S1AdmissionDay_Thursday     1\n",
      "S1AdmissionDay_Tuesday      0\n",
      "S1AdmissionDay_Wednesday    0\n",
      "S1AdmissionQuarter_Q1       1\n",
      "S1AdmissionQuarter_Q2       0\n",
      "S1AdmissionQuarter_Q3    0\n",
      "S1AdmissionQuarter_Q4    0\n",
      "S1AdmissionYear_2016     0\n",
      "S1AdmissionYear_2017     1\n",
      "S1AdmissionYear_2018     0\n",
      "CongestiveHeartFailure_Yes    0\n",
      "Hypertension_Yes              1\n",
      "AtrialFibrillation_Yes        0\n",
      "Diabetes_Yes                  1\n",
      "StrokeTIA_Yes                 0\n",
      "AFAntiplatelet_No         0\n",
      "AFAntiplatelet_No but     0\n",
      "AFAntiplatelet_Yes        0\n",
      "AFAnticoagulent_No        0\n",
      "AFAnticoagulent_No but    0\n",
      "AFAnticoagulent_Yes            0\n",
      "AFAnticoagulent_missing        1\n",
      "AFAnticoagulentVitK_No         0\n",
      "AFAnticoagulentVitK_Yes        0\n",
      "AFAnticoagulentVitK_missing    1\n",
      "AFAnticoagulentDOAC_No         0\n",
      "AFAnticoagulentDOAC_Yes        0\n",
      "AFAnticoagulentDOAC_missing    1\n",
      "AFAnticoagulentHeparin_No      0\n",
      "AFAnticoagulentHeparin_Yes     0\n",
      "AFAnticoagulentHeparin_missing    1\n",
      "S2NewAFDiagnosis_No               0\n",
      "S2NewAFDiagnosis_Yes              0\n",
      "S2NewAFDiagnosis_missing          1\n",
      "S2StrokeType_Infarction           1\n",
      "S2TIAInLastMonth_No         0\n",
      "S2TIAInLastMonth_No but     0\n",
      "S2TIAInLastMonth_Yes        0\n",
      "S2TIAInLastMonth_missing    1\n"
     ]
    }
   ],
   "source": [
    "step = 5\n",
    "n = int(data_full.shape[1]/step)+1\n",
    "\n",
    "st = 0\n",
    "ed = step\n",
    "for i in range(n):\n",
    "    print(data_full.iloc[patient_index][st:ed].to_string())\n",
    "    st = ed\n",
    "    ed += step"
   ]
  }
 ],
 "metadata": {
  "kernelspec": {
   "display_name": "Python 3 (ipykernel)",
   "language": "python",
   "name": "python3"
  },
  "language_info": {
   "codemirror_mode": {
    "name": "ipython",
    "version": 3
   },
   "file_extension": ".py",
   "mimetype": "text/x-python",
   "name": "python",
   "nbconvert_exporter": "python",
   "pygments_lexer": "ipython3",
   "version": "3.8.13"
  }
 },
 "nbformat": 4,
 "nbformat_minor": 5
}
