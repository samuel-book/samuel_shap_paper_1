{
 "cells": [
  {
   "cell_type": "markdown",
   "id": "e28d7344-7e4a-4a28-bf35-a86211b7bf7f",
   "metadata": {
    "tags": []
   },
   "source": [
    "# Investigating the effect of patient features by varying feature values\n",
    "\n",
    "In this notebook we start with a 'base patient' who has features that are favourable to use of thrombolysis:\n",
    "\n",
    "* Onset to arrival = 60 mins\n",
    "* Arrival to scan = 15 mins\n",
    "* Infarction = 1 \n",
    "* NIHSS = 15\n",
    "* Prior disability level = 0\n",
    "* Precise onset time = 1\n",
    "* Use of AF anticoagulents = 0\n",
    "\n",
    "We then vary the following features in turn, keeping all other features the same as the base patient:\n",
    "\n",
    "* NIHSS = 0-40\n",
    "* Prior disability level = 0-5\n",
    "* Precise onset time = 0-1"
   ]
  },
  {
   "cell_type": "markdown",
   "id": "cad56ee2-06be-433d-b5f6-49639e8dbafb",
   "metadata": {},
   "source": [
    "## Import libraries"
   ]
  },
  {
   "cell_type": "code",
   "execution_count": 1,
   "id": "6daa1e72-cd0b-4035-be66-43a234ddca8a",
   "metadata": {},
   "outputs": [],
   "source": [
    "# Turn warnings off to keep notebook tidy\n",
    "import warnings\n",
    "warnings.filterwarnings(\"ignore\")\n",
    "\n",
    "import matplotlib.pyplot as plt\n",
    "import os\n",
    "import pandas as pd\n",
    "import numpy as np\n",
    "import shap\n",
    "\n",
    "from scipy import stats\n",
    "\n",
    "from sklearn.metrics import auc\n",
    "from sklearn.metrics import roc_curve\n",
    "from sklearn.linear_model import LinearRegression\n",
    "\n",
    "from xgboost import XGBClassifier\n",
    "import json"
   ]
  },
  {
   "cell_type": "markdown",
   "id": "f02fb027-f0e9-4d50-aae9-ab12343820a0",
   "metadata": {},
   "source": [
    "## Create output folders if needed"
   ]
  },
  {
   "cell_type": "code",
   "execution_count": 2,
   "id": "37755327-1974-4049-9db8-e1dd16c43cc7",
   "metadata": {},
   "outputs": [],
   "source": [
    "path = './output'\n",
    "if not os.path.exists(path):\n",
    "    os.makedirs(path)\n",
    "    \n",
    "path = './predictions'\n",
    "if not os.path.exists(path):\n",
    "    os.makedirs(path)"
   ]
  },
  {
   "cell_type": "markdown",
   "id": "94556518-b8e0-4f97-b3bf-57bcea8e391a",
   "metadata": {},
   "source": [
    "## Load data\n",
    "\n",
    "10k cohort of patients in test data, rest in training data"
   ]
  },
  {
   "cell_type": "code",
   "execution_count": 3,
   "id": "a38967eb-956c-4023-8fe9-02d186ee771b",
   "metadata": {},
   "outputs": [],
   "source": [
    "data_loc = '../data/10k_training_test/'"
   ]
  },
  {
   "cell_type": "code",
   "execution_count": 4,
   "id": "094e69f6-3897-4da4-a838-fabe0b9baaa4",
   "metadata": {},
   "outputs": [],
   "source": [
    "# Load data\n",
    "train = pd.read_csv(data_loc + 'cohort_10000_key_features_train.csv')\n",
    "test = pd.read_csv(data_loc + 'cohort_10000_key_features_test.csv')\n",
    "synthetic = pd.read_csv(data_loc + 'cohort_10000_key_features_synthetic.csv')"
   ]
  },
  {
   "cell_type": "markdown",
   "id": "4fb4512b-d282-4874-bfcc-67d0aed4b472",
   "metadata": {},
   "source": [
    "## Fit XGBoost model\n",
    "\n",
    "Train a XGBoost model on the 10k cohort train/test dataset"
   ]
  },
  {
   "cell_type": "code",
   "execution_count": 5,
   "id": "41f585ce-8199-4523-a9bc-47c6e259b64d",
   "metadata": {},
   "outputs": [
    {
     "name": "stdout",
     "output_type": "stream",
     "text": [
      "Accuracy: 0.846\n"
     ]
    }
   ],
   "source": [
    "# Get X and y\n",
    "X_train = train.drop('Thrombolysis', axis=1)\n",
    "X_test = test.drop('Thrombolysis', axis=1)\n",
    "y_train = train['Thrombolysis']\n",
    "y_test = test['Thrombolysis']\n",
    "\n",
    "# One hot encode hospitals\n",
    "X_train_hosp = pd.get_dummies(X_train['Stroke team'], prefix = 'team')\n",
    "X_train = pd.concat([X_train, X_train_hosp], axis=1)\n",
    "X_train.drop('Stroke team', axis=1, inplace=True)\n",
    "X_test_hosp = pd.get_dummies(X_test['Stroke team'], prefix = 'team')\n",
    "X_test = pd.concat([X_test, X_test_hosp], axis=1)\n",
    "X_test.drop('Stroke team', axis=1, inplace=True)    \n",
    "\n",
    "# Define model\n",
    "model = XGBClassifier(verbosity=0, seed=42, learning_rate=0.5)\n",
    "\n",
    "# Fit model\n",
    "model.fit(X_train, y_train)\n",
    "\n",
    "# Get predicted probabilities and class\n",
    "y_probs = model.predict_proba(X_test)[:,1]\n",
    "y_pred = y_probs > 0.5\\\n",
    "\n",
    "# Show accuracy\n",
    "accuracy = np.mean(y_pred == y_test)\n",
    "print (f'Accuracy: {accuracy:.3f}')"
   ]
  },
  {
   "cell_type": "markdown",
   "id": "6e950926",
   "metadata": {},
   "source": [
    "## Predict thrombolysis with varying patient features\n",
    "\n",
    "The base patient has the following values:\n",
    "\n",
    "* Onset to arrival = 60 mins\n",
    "* Arrival to scan = 15\n",
    "* Infaction = 1 \n",
    "* NIHSS = 15\n",
    "* Prior disability level = 0\n",
    "* Precise onset time = 1\n",
    "* Use of AF anticoagulents = 0\n",
    "\n",
    "We then vary the following features in turn, keeping all other features the same as the base patient:\n",
    "\n",
    "* NIHSS = 0-40\n",
    "* Prior disability level = 0-5\n",
    "* Precise onset time = 0-1"
   ]
  },
  {
   "cell_type": "code",
   "execution_count": 6,
   "id": "68df8cbb",
   "metadata": {},
   "outputs": [],
   "source": [
    "hospitals = synthetic['Stroke team']\n",
    "X_synthetic = synthetic.drop('Thrombolysis', axis=1)\n",
    "y_synthetic = synthetic['Thrombolysis']\n",
    "X_synthetic_hosp = pd.get_dummies(X_synthetic['Stroke team'], prefix = 'team')\n",
    "X_synthetic = pd.concat([X_synthetic, X_synthetic_hosp], axis=1)\n",
    "X_synthetic.drop('Stroke team', axis=1, inplace=True) \n"
   ]
  },
  {
   "cell_type": "code",
   "execution_count": 7,
   "id": "473e7582",
   "metadata": {},
   "outputs": [],
   "source": [
    "# Adjust NIHSS\n",
    "number_thrombolysing_NIHSS = []\n",
    "for stroke_sev in range(41):\n",
    "    X_adjusted = X_synthetic.copy()\n",
    "    X_adjusted['Stroke severity'] = stroke_sev\n",
    "    y_probs = model.predict_proba(X_adjusted)[:,1]\n",
    "    y_pred = y_probs > 0.5\n",
    "    number_thrombolysing_NIHSS.append(y_pred.sum())\n",
    "\n",
    "# Adjust Prior disability\n",
    "number_thrombolysing_mrs = []\n",
    "for mrs in range(6):\n",
    "    X_adjusted = X_synthetic.copy()\n",
    "    X_adjusted['Prior disability level'] = mrs\n",
    "    y_probs = model.predict_proba(X_adjusted)[:,1]\n",
    "    y_pred = y_probs > 0.5\n",
    "    number_thrombolysing_mrs.append(y_pred.sum())\n",
    "\n",
    "# Adjust precise onset time\n",
    "number_thrombolysing_precise_onset = []\n",
    "for precise_onset in [0,1]:\n",
    "    X_adjusted = X_synthetic.copy()\n",
    "    X_adjusted['Precise onset time'] = precise_onset\n",
    "    y_probs = model.predict_proba(X_adjusted)[:,1]\n",
    "    y_pred = y_probs > 0.5\n",
    "    number_thrombolysing_precise_onset.append(y_pred.sum())\n",
    "\n"
   ]
  },
  {
   "cell_type": "code",
   "execution_count": 8,
   "id": "33c4684c",
   "metadata": {},
   "outputs": [
    {
     "data": {
      "image/png": "[encoded data removed]",
      "text/plain": [
       "<Figure size 1200x500 with 3 Axes>"
      ]
     },
     "metadata": {},
     "output_type": "display_data"
    }
   ],
   "source": [
    "fig = plt.figure(figsize=(12,5))\n",
    "number_hopsitals = len(hospitals)\n",
    "\n",
    "\n",
    "ax1 = fig.add_subplot(1,3,1)\n",
    "x1 = range(len(number_thrombolysing_NIHSS))\n",
    "y1 = (np.array(number_thrombolysing_NIHSS) / number_hopsitals) * 100\n",
    "ax1.plot(x1, y1)\n",
    "ax1.set_xlabel('Stroke severity (NIHSS)')\n",
    "ax1.set_ylabel('Percent hopsitals giving thrombolysis')\n",
    "ax1.set_xticks(range(41))\n",
    "ax1.set_yticks(np.arange(0,101,10))\n",
    "ax1.set_ylim(0,100)\n",
    "ax1.set_xlim(0,15)\n",
    "ax1.set_title('Effect of adjusting stroke severity\\n')\n",
    "ax1.grid()\n",
    "\n",
    "ax2 = fig.add_subplot(1,3,2)\n",
    "x2 = range(len(number_thrombolysing_mrs))\n",
    "y2 = (np.array(number_thrombolysing_mrs) / number_hopsitals) * 100\n",
    "ax2.plot(x2, y2)\n",
    "ax2.set_xlabel('Pre-stroke disability (mRS)')\n",
    "ax2.set_ylabel('Percent hopsitals giving thrombolysis')\n",
    "ax2.set_xticks(range(6))\n",
    "ax2.set_yticks(np.arange(0,101,10))\n",
    "ax2.set_ylim(0,100)\n",
    "ax2.set_xlim(0,5)\n",
    "ax2.set_title('Effect of adjusting pre-stroke disability\\n')\n",
    "ax2.grid()\n",
    "\n",
    "ax3 = fig.add_subplot(1,3,3)\n",
    "x3 = range(len(number_thrombolysing_precise_onset))\n",
    "y3 = (np.array(number_thrombolysing_precise_onset) / number_hopsitals) * 100\n",
    "ax3.plot(x3, y3)\n",
    "ax3.set_xlabel('Pre-stroke disability (mRS)')\n",
    "ax3.set_ylabel('Percent hopsitals giving thrombolysis')\n",
    "ax3.set_xticks(range(2))\n",
    "ax3.set_yticks(np.arange(0,101,10))\n",
    "ax3.set_ylim(0,100)\n",
    "ax3.set_xlim(-0.25, 1.25)\n",
    "ax3.set_title('Effect of adjusting precise stroke onset time\\n')\n",
    "ax3.grid()\n",
    "\n",
    "plt.tight_layout(pad=3)\n",
    "plt.savefig('./output/synthetic_patients.jpg', dpi=300)\n",
    "plt.show()"
   ]
  },
  {
   "cell_type": "markdown",
   "id": "b6d91919",
   "metadata": {},
   "source": [
    "## Mixing patient values"
   ]
  },
  {
   "cell_type": "code",
   "execution_count": 9,
   "id": "bb9734de",
   "metadata": {},
   "outputs": [
    {
     "name": "stdout",
     "output_type": "stream",
     "text": [
      "Percent of hospitals that would give thrombolsysis: 6.1\n"
     ]
    }
   ],
   "source": [
    "X_adjusted = X_synthetic.copy()\n",
    "X_adjusted['Stroke severity'] = 5\n",
    "X_adjusted['Prior disability level'] = 2\n",
    "X_adjusted['Precise onset time'] = 0\n",
    "\n",
    "y_probs = model.predict_proba(X_adjusted)[:,1]\n",
    "y_pred = y_probs > 0.5\n",
    "print (f'Percent of hospitals that would give thrombolsysis: {y_pred.mean()*100:.1f}')"
   ]
  },
  {
   "cell_type": "code",
   "execution_count": null,
   "id": "6fccc956",
   "metadata": {},
   "outputs": [],
   "source": []
  }
 ],
 "metadata": {
  "kernelspec": {
   "display_name": "Python 3.8.13 ('samuel')",
   "language": "python",
   "name": "python3"
  },
  "language_info": {
   "codemirror_mode": {
    "name": "ipython",
    "version": 3
   },
   "file_extension": ".py",
   "mimetype": "text/x-python",
   "name": "python",
   "nbconvert_exporter": "python",
   "pygments_lexer": "ipython3",
   "version": "3.8.13"
  },
  "vscode": {
   "interpreter": {
    "hash": "b368e36a85415766688ec72e3e874a4b525584eabf4bf7122952a4e0fd64fcde"
   }
  }
 },
 "nbformat": 4,
 "nbformat_minor": 5
}
