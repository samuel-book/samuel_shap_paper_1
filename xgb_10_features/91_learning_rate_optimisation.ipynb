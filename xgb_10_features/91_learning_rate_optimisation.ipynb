{
 "cells": [
  {
   "cell_type": "markdown",
   "id": "e28d7344-7e4a-4a28-bf35-a86211b7bf7f",
   "metadata": {
    "tags": []
   },
   "source": [
    "# Optimisation of XGBoost learning rates (regularisation)\n",
    "\n",
    "## Plain English Summary\n",
    "\n",
    "As the feature for hospital ID is represented in the model as a one-hot encoded feature, and there are 132 hospitals, it is possible that the effect of hospitals ID becomes 'regularised out'. Learning rate in XGBoost acts as a regulariser. The lower the learning rate the less weight new trees have, and so the model becomes more regularised (less likely to overfit). \n",
    "\n",
    "Here we optimise the learning rate to maximise accuracy while maintaining the effect of hospital ID.\n",
    "\n",
    "A learning rate of 0.5 is selected.\n",
    "\n",
    "## Model and data\n",
    "For each of the learning rate values, train an XGBoost model on all the data except the holdback 10k cohort.\n",
    "\n",
    "Pass the 10k cohort through each learning rate model, sending all 10k patients to each of the hospitals. \n",
    "\n",
    "Record the thrombolysis rate for each hospital for each learning rate value. \n",
    "\n",
    "The 10 features in the model are:\n",
    "* Arrival-to-scan time: Time from arrival at hospital to scan (mins)\n",
    "* Infarction: Stroke type (1 = infarction, 0 = haemorrhage)\n",
    "* Stroke severity: Stroke severity (NIHSS) on arrival\n",
    "* Precise onset time: Onset time type (1 = precise, 0 = best estimate)\n",
    "* Prior disability level: Disability level (modified Rankin Scale) before stroke\n",
    "* Stroke team: Stroke team attended\n",
    "* Use of AF anticoagulents: Use of atrial fibrillation anticoagulant (1 = Yes, 0 = No)\n",
    "* Onset-to-arrival time: Time from onset of stroke to arrival at hospital (mins)\n",
    "* Onset during sleep: Did stroke occur in sleep?\n",
    "* Age: Age (as middle of 5 year age bands)\n",
    "\n",
    "And one target feature:\n",
    "* Thrombolysis: Did the patient receive thrombolysis (0 = No, 1 = Yes)\n",
    "\n",
    "## Aim\n",
    "* Choose a learning rate that trains a model that maximises accuracy while maintaining the effect of hosptial ID.\n",
    "\n",
    "## Observations\n",
    "* Learning rates of less than 0.5 reduce the effect of hospital ID on 10k thrombolysis rates; the predicted thrombolysis rates are pulled closer to the mean thrombolysis rate.\n",
    "* Standard deviation of 10k thrombolysis rate increases with learning rate, but is near-maximal at learning rate of 0.5\n",
    "* Test set accuracy drops a little above learning rates of 0.25, but the effect is minimal at learning rate 0.5 (accuracy of 84.8% vs 84.9% at learning rate of 0.25).\n",
    "* A learning rate of 0.5 is selected to balance accuracy and maintaining the effect of hospital ID on thrombolysis rate."
   ]
  },
  {
   "cell_type": "markdown",
   "id": "a1b7e1f0-abf0-47ab-a74b-923f3c898b18",
   "metadata": {},
   "source": [
    "## Import libraries"
   ]
  },
  {
   "cell_type": "code",
   "execution_count": 1,
   "id": "6daa1e72-cd0b-4035-be66-43a234ddca8a",
   "metadata": {},
   "outputs": [],
   "source": [
    "# Turn warnings off to keep notebook tidy\n",
    "import warnings\n",
    "warnings.filterwarnings(\"ignore\")\n",
    "\n",
    "import matplotlib.pyplot as plt\n",
    "import os\n",
    "import pandas as pd\n",
    "import numpy as np\n",
    "import seaborn as sns\n",
    "\n",
    "from sklearn.metrics import auc\n",
    "from sklearn.metrics import roc_curve\n",
    "\n",
    "from xgboost import XGBClassifier"
   ]
  },
  {
   "cell_type": "markdown",
   "id": "f2826699-0665-4b19-a603-5c16ad15ac2e",
   "metadata": {},
   "source": [
    "## Set filenames"
   ]
  },
  {
   "cell_type": "code",
   "execution_count": 2,
   "id": "67f0e9fc-0351-452d-8a1c-2ca7938335f6",
   "metadata": {},
   "outputs": [],
   "source": [
    "# Set up strings (describing the model) to use in filenames\n",
    "number_of_features_to_use = 10\n",
    "model_text = f'xgb_{number_of_features_to_use}_features'\n",
    "notebook = '91'"
   ]
  },
  {
   "cell_type": "markdown",
   "id": "f02fb027-f0e9-4d50-aae9-ab12343820a0",
   "metadata": {},
   "source": [
    "## Create output folders if needed"
   ]
  },
  {
   "cell_type": "code",
   "execution_count": 3,
   "id": "37755327-1974-4049-9db8-e1dd16c43cc7",
   "metadata": {},
   "outputs": [],
   "source": [
    "path = './output'\n",
    "if not os.path.exists(path):\n",
    "    os.makedirs(path)\n",
    "    \n",
    "path = './predictions'\n",
    "if not os.path.exists(path):\n",
    "    os.makedirs(path)"
   ]
  },
  {
   "cell_type": "markdown",
   "id": "94556518-b8e0-4f97-b3bf-57bcea8e391a",
   "metadata": {},
   "source": [
    "## Load data\n",
    "Restrict to key features"
   ]
  },
  {
   "cell_type": "code",
   "execution_count": 4,
   "id": "094e69f6-3897-4da4-a838-fabe0b9baaa4",
   "metadata": {},
   "outputs": [],
   "source": [
    "data_loc = '../data/10k_training_test/'\n",
    "\n",
    "train = pd.read_csv(data_loc + 'cohort_10000_train.csv')\n",
    "test = pd.read_csv(data_loc + 'cohort_10000_test.csv')\n",
    "\n",
    "# Read in the names of the selected features for the model\n",
    "key_features = pd.read_csv('./output/01_feature_selection.csv')\n",
    "key_features = list(key_features['feature'])[:number_of_features_to_use]\n",
    "key_features.append('S2Thrombolysis')\n",
    "\n",
    "# Restrict to key features\n",
    "train = train[key_features]\n",
    "test = test[key_features]"
   ]
  },
  {
   "cell_type": "markdown",
   "id": "4fb4512b-d282-4874-bfcc-67d0aed4b472",
   "metadata": {},
   "source": [
    "## Fit XGBoost model\n",
    "\n",
    "For each of the learning rate values an XGBoost model is trained on the training set. Pass the 10k cohort (test set) through each learning rate model, sending all patients to each of the hospitals. Record the thrombolysis rate for each hospital for each learning rate value."
   ]
  },
  {
   "cell_type": "code",
   "execution_count": 5,
   "id": "41f585ce-8199-4523-a9bc-47c6e259b64d",
   "metadata": {},
   "outputs": [
    {
     "name": "stdout",
     "output_type": "stream",
     "text": [
      "Learning rate: 0.1. Accuracy: 0.843\n",
      "Learning rate: 0.25. Accuracy: 0.849\n",
      "Learning rate: 0.5. Accuracy: 0.848\n",
      "Learning rate: 0.75. Accuracy: 0.843\n",
      "Learning rate: 1.0. Accuracy: 0.835\n"
     ]
    }
   ],
   "source": [
    "# Get X and y\n",
    "X_train = train.drop('S2Thrombolysis', axis=1)\n",
    "X_test = test.drop('S2Thrombolysis', axis=1)\n",
    "y_train = train['S2Thrombolysis']\n",
    "y_test = test['S2Thrombolysis']\n",
    "\n",
    "# One hot encode hospitals\n",
    "X_train_hosp = pd.get_dummies(X_train['StrokeTeam'], prefix = 'team')\n",
    "X_train = pd.concat([X_train, X_train_hosp], axis=1)\n",
    "X_train.drop('StrokeTeam', axis=1, inplace=True)\n",
    "X_test_hosp = pd.get_dummies(X_test['StrokeTeam'], prefix = 'team')\n",
    "X_test = pd.concat([X_test, X_test_hosp], axis=1)\n",
    "X_test.drop('StrokeTeam', axis=1, inplace=True)\n",
    "\n",
    "# Define the learning rates values to use\n",
    "learning_rates = [0.1, 0.25, 0.5, 0.75, 1.0]\n",
    "\n",
    "# Initialise the dictionary to store model results\n",
    "thrombolysis_rates_by_lr = dict()\n",
    "\n",
    "# List of hospital names\n",
    "hospitals = list(set(train['StrokeTeam']))\n",
    "hospitals.sort()\n",
    "\n",
    "# Loop through learning rates\n",
    "for lr in learning_rates:\n",
    "\n",
    "    # Define model\n",
    "    model = XGBClassifier(verbosity = 0, seed=42, learning_rate=lr)\n",
    "\n",
    "    # Fit model\n",
    "    model.fit(X_train, y_train)\n",
    "\n",
    "    # Get predicted probabilities and class\n",
    "    y_probs = model.predict_proba(X_test)[:,1]\n",
    "    y_pred = y_probs > 0.5\n",
    "\n",
    "    # Show accuracy\n",
    "    accuracy = np.mean(y_pred == y_test)\n",
    "    print (f'Learning rate: {lr}. Accuracy: {accuracy:0.3f}')\n",
    "    \n",
    "    # Initialise lists\n",
    "    thrombolysis_rate = []\n",
    "    single_predictions = []\n",
    "\n",
    "    # Loop through hospitals, pass 10k cohort through all hospital models and \n",
    "    #   get thrombolysis rate\n",
    "    for hospital in hospitals:\n",
    "\n",
    "        # Get test data without thrombolysis hospital or stroke team\n",
    "        X_test_no_hosp = test.drop(['S2Thrombolysis', 'StrokeTeam'], axis=1)\n",
    "\n",
    "        # Copy hospital dataframe and change hospital ID (after setting all to zero)\n",
    "        X_test_adjusted_hospital = X_test_hosp.copy()\n",
    "        X_test_adjusted_hospital.loc[:,:] = 0\n",
    "        team = \"team_\" + hospital\n",
    "        X_test_adjusted_hospital[team] = 1\n",
    "\n",
    "        X_test_adjusted = pd.concat(\n",
    "            [X_test_no_hosp, X_test_adjusted_hospital], axis=1)\n",
    "\n",
    "        # Get predicted probabilities and class\n",
    "        y_probs = model.predict_proba(X_test_adjusted)[:,1]\n",
    "        y_pred = y_probs > 0.5\n",
    "        \n",
    "        # Add hospitals thrombolysis rate for this learning rate\n",
    "        thrombolysis_rate.append(y_pred.mean())\n",
    "    \n",
    "    # Store all the hospitals thrombolysis rates for this learning rate\n",
    "    thrombolysis_rates_by_lr[lr] = thrombolysis_rate   "
   ]
  },
  {
   "cell_type": "markdown",
   "id": "f8bf569b-93b6-49b8-a913-431479c1315e",
   "metadata": {},
   "source": [
    "## Plot histograms of 10k thrombolysis rates, depending on XGBoost learning rate"
   ]
  },
  {
   "cell_type": "code",
   "execution_count": 6,
   "id": "32b3afa4-ec4d-474e-a212-3970d1e1f722",
   "metadata": {},
   "outputs": [
    {
     "data": {
      "image/png": "[encoded data removed]",
      "text/plain": [
       "<Figure size 432x432 with 1 Axes>"
      ]
     },
     "metadata": {
      "needs_background": "light"
     },
     "output_type": "display_data"
    }
   ],
   "source": [
    "# Set up chart\n",
    "fig = plt.figure(figsize=(6,6))\n",
    "ax = fig.add_subplot()\n",
    "for k, v in thrombolysis_rates_by_lr.items():\n",
    "    sns.distplot(v, label=k, hist=False, ax=ax)\n",
    "ax.legend(title='Learning rate')\n",
    "ax.set_xlabel('Thrombolysis rate')\n",
    "ax.set_ylabel('Count')\n",
    "ax.grid()\n",
    "plt.savefig(f'./output/{notebook}_learning_rate.jpg', dpi=300)\n",
    "plt.show()"
   ]
  },
  {
   "cell_type": "markdown",
   "id": "20902eca-a71b-4293-a556-0443dd0e87dd",
   "metadata": {},
   "source": [
    "## Show key data for 10k thrombolysis rates, depending on XGBoost learning rate"
   ]
  },
  {
   "cell_type": "code",
   "execution_count": 7,
   "id": "4d8d5303-83e6-48e8-9297-2bbf17835748",
   "metadata": {},
   "outputs": [
    {
     "data": {
      "text/html": [
       "<div>\n",
       "<style scoped>\n",
       "    .dataframe tbody tr th:only-of-type {\n",
       "        vertical-align: middle;\n",
       "    }\n",
       "\n",
       "    .dataframe tbody tr th {\n",
       "        vertical-align: top;\n",
       "    }\n",
       "\n",
       "    .dataframe thead th {\n",
       "        text-align: right;\n",
       "    }\n",
       "</style>\n",
       "<table border=\"1\" class=\"dataframe\">\n",
       "  <thead>\n",
       "    <tr style=\"text-align: right;\">\n",
       "      <th></th>\n",
       "      <th>0.10</th>\n",
       "      <th>0.25</th>\n",
       "      <th>0.50</th>\n",
       "      <th>0.75</th>\n",
       "      <th>1.00</th>\n",
       "    </tr>\n",
       "  </thead>\n",
       "  <tbody>\n",
       "    <tr>\n",
       "      <th>Mean</th>\n",
       "      <td>0.279060</td>\n",
       "      <td>0.278257</td>\n",
       "      <td>0.279636</td>\n",
       "      <td>0.278680</td>\n",
       "      <td>0.280369</td>\n",
       "    </tr>\n",
       "    <tr>\n",
       "      <th>StdDev</th>\n",
       "      <td>0.026747</td>\n",
       "      <td>0.050928</td>\n",
       "      <td>0.063063</td>\n",
       "      <td>0.065618</td>\n",
       "      <td>0.067114</td>\n",
       "    </tr>\n",
       "    <tr>\n",
       "      <th>Min</th>\n",
       "      <td>0.184300</td>\n",
       "      <td>0.131300</td>\n",
       "      <td>0.101000</td>\n",
       "      <td>0.091700</td>\n",
       "      <td>0.088800</td>\n",
       "    </tr>\n",
       "    <tr>\n",
       "      <th>Max</th>\n",
       "      <td>0.378400</td>\n",
       "      <td>0.429000</td>\n",
       "      <td>0.452700</td>\n",
       "      <td>0.476900</td>\n",
       "      <td>0.462300</td>\n",
       "    </tr>\n",
       "  </tbody>\n",
       "</table>\n",
       "</div>"
      ],
      "text/plain": [
       "            0.10      0.25      0.50      0.75      1.00\n",
       "Mean    0.279060  0.278257  0.279636  0.278680  0.280369\n",
       "StdDev  0.026747  0.050928  0.063063  0.065618  0.067114\n",
       "Min     0.184300  0.131300  0.101000  0.091700  0.088800\n",
       "Max     0.378400  0.429000  0.452700  0.476900  0.462300"
      ]
     },
     "execution_count": 7,
     "metadata": {},
     "output_type": "execute_result"
    }
   ],
   "source": [
    "results = dict()\n",
    "for k, v in thrombolysis_rates_by_lr.items():\n",
    "    mean = np.mean(v)\n",
    "    stdev = np.std(v)\n",
    "    minimum = np.min(v)\n",
    "    maximum = np.max(v)\n",
    "    results[k] = [mean, stdev, minimum, maximum]\n",
    "    \n",
    "results = pd.DataFrame(results, \n",
    "                       index=['Mean', 'StdDev', 'Min', 'Max'])\n",
    "\n",
    "results"
   ]
  }
 ],
 "metadata": {
  "kernelspec": {
   "display_name": "Python 3 (ipykernel)",
   "language": "python",
   "name": "python3"
  },
  "language_info": {
   "codemirror_mode": {
    "name": "ipython",
    "version": 3
   },
   "file_extension": ".py",
   "mimetype": "text/x-python",
   "name": "python",
   "nbconvert_exporter": "python",
   "pygments_lexer": "ipython3",
   "version": "3.10.9"
  },
  "vscode": {
   "interpreter": {
    "hash": "b368e36a85415766688ec72e3e874a4b525584eabf4bf7122952a4e0fd64fcde"
   }
  }
 },
 "nbformat": 4,
 "nbformat_minor": 5
}
