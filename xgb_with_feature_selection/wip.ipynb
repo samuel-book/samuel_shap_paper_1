{
 "cells": [
  {
   "cell_type": "markdown",
   "id": "3201efca",
   "metadata": {},
   "source": [
    "# Expkloring differences clinical decision making between high and low thrombolysing hospitals\n",
    "\n",
    "## Plain English summary\n",
    "\n",
    "It has become apparent that hospitals are making different clinical decisions, and it is not just the patient group that is accounting for the difference in thrombolysis rates between hosptials. Here we create two groups of hospitals: those that have a high propensity to thrombolyse, and those that have a low propensity to thrombolyse. Comparing the SHAP values between these two hospital groups shows that .... Trying to pick apart what factors the diff hospital groups are using to make their different decisions. \n",
    "\n",
    "low and high hosptials have same general pattern, but thrshoelds for it are different. Nothing dramatic about who they thrombolyse, just that less likely to thrombolyse across variaous categories. Are the NIHSS going to be pulled apart more in bootom than middle.\n",
    "\n",
    "## Model and data\n",
    "\n",
    "XGBoost models were trained on stratified k-fold cross-validation data. The 8 features in the model are:\n",
    "\n",
    "* Arrival-to-scan time: Time from arrival at hospital to scan (mins)\n",
    "* Infarction: Stroke type (1 = infarction, 0 = haemorrhage)\n",
    "* Stroke severity: Stroke severity (NIHSS) on arrival\n",
    "* Precise onset time: Onset time type (1 = precise, 0 = best estimate)\n",
    "* Prior disability level: Disability level (modified Rankin Scale) before stroke\n",
    "* Stroke team: Stroke team attended\n",
    "* Use of AF anticoagulents: Use of atrial fibrillation anticoagulant (1 = Yes, 0 = No)\n",
    "* Onset-to-arrival time: Time from onset of stroke to arrival at hospital (mins)\n",
    "\n",
    "And one target feature:\n",
    "* Thrombolysis: Recieve thrombolysis (1 = Yes, 0 = No)\n",
    "\n",
    "The 8 features included in the model (to predict whether a patient will recieve thrombolysis) were chosen sequentially as having the single best improvement in model performance (using the ROC AUC). The stroke team feature is included as a one-hot encoded feature.\n",
    "\n",
    "The Python library SHAP was applied to the first k-fold model to obtain a SHAP value for each feature, for each instance. SHAP values are in the same units as the model output, so for XGBoost this is in log odds-ratio.\n",
    "\n",
    "A single SHAP value per feature was obtained by taking the mean of the absolute values across all instances.\n",
    "\n",
    "## Aims:\n",
    "\n",
    "* Identify top 30 and bottom 30 hosptials judged by the 10k cohort dataset\n",
    "* Fit XGBoost model to each of the 5 k-fold train/test splits.\n",
    "* Get SHAP values for the first k-fold split.\n",
    "* Plot SHAP values for two features (NIHSS and mRS) for the top 30 and bottom 30 hospitals.\n",
    "\n",
    "## Observations\n",
    "\n",
    "* There was good consiency of SHAP values and importances across 5 k-fold replications.\n",
    "* There was a reasonable correlation between SHAP and feature importance values, but also some differences in the rank order of importance.\n",
    "    The five most influential features as judged by SHAP were:\n",
    "    * Stroke type\n",
    "    * Arrival-to-scan time\n",
    "    * Stroke severity (NIHSS)\n",
    "    * Stroke onset time type (precise vs. estimated)\n",
    "    * Disability level (Rankin) before stroke\n",
    "* The five most influential features (excluding teams) as judged by importance were:\n",
    "    * Stroke type\n",
    "    * Use of AF Anticoagulant\n",
    "    * Stroke onset time type (precise vs. estimated)\n",
    "    * Stroke severity (NIHSS)\n",
    "    * Disability level (Rankin) before stroke\n",
    "* Beeswarm, waterfall, and scatter plots all help elucidate the relationship between feature values and SHAP value.\n",
    "* Plotting SHAP values as probabilities are more understandable than plotting as log odds-ratios, but can distort the relative importance of features overall.\n",
    "\n",
    "#### For definitions see ***"
   ]
  },
  {
   "cell_type": "markdown",
   "id": "b4981adb-1981-4516-8410-f034ef262eb0",
   "metadata": {},
   "source": [
    "### Note on shap version 0.40:\n",
    "\n",
    "Installed using `pip install shap`\n",
    "\n",
    "There is a bug in the waterfall plot where `show=False` (required to save plot) fails. To correct this find the `_waterfall.py` file in the shap library (e.g. in `anaconda/envs/samuel2/lib/python3.8/site-packages/shap/plots`, and search/replace all `pl.` to `plt.`, and replace initial import of `import matplotlib.pyplot as pl` with `import matplotlib.pyplot as plt`."
   ]
  },
  {
   "cell_type": "markdown",
   "id": "64835541",
   "metadata": {},
   "source": [
    "## Load packages"
   ]
  },
  {
   "cell_type": "code",
   "execution_count": 1,
   "id": "54b1a9b2",
   "metadata": {},
   "outputs": [],
   "source": [
    "# Turn warnings off to keep notebook tidy\n",
    "import warnings\n",
    "warnings.filterwarnings(\"ignore\")\n",
    "\n",
    "import os\n",
    "import matplotlib.pyplot as plt\n",
    "import numpy as np\n",
    "import pandas as pd\n",
    "import pickle\n",
    "import shap\n",
    "\n",
    "from xgboost import XGBClassifier\n",
    "\n",
    "import json"
   ]
  },
  {
   "cell_type": "markdown",
   "id": "13a9a6cd-cbc5-4cb0-a873-93f770039265",
   "metadata": {},
   "source": [
    "## Create output folders if needed"
   ]
  },
  {
   "cell_type": "code",
   "execution_count": 2,
   "id": "a94ff75c-383b-487a-8f13-089000f19acb",
   "metadata": {},
   "outputs": [],
   "source": [
    "path = './saved_models'\n",
    "if not os.path.exists(path):\n",
    "    os.makedirs(path)"
   ]
  },
  {
   "cell_type": "markdown",
   "id": "85faa2a4-55f7-492f-888f-b43583cc838e",
   "metadata": {},
   "source": [
    "## Read in JSON file\n",
    "\n",
    "Contains a dictionary for plain English feature names for the 8 features selected in the model. Use these as the column titles in the DataFrame."
   ]
  },
  {
   "cell_type": "code",
   "execution_count": 3,
   "id": "fe0e0b42-7761-4a25-81cb-a3bdb8a61158",
   "metadata": {},
   "outputs": [
    {
     "ename": "FileNotFoundError",
     "evalue": "[Errno 2] No such file or directory: './output/feature_name_dict.json'",
     "output_type": "error",
     "traceback": [
      "\u001b[0;31m---------------------------------------------------------------------------\u001b[0m",
      "\u001b[0;31mFileNotFoundError\u001b[0m                         Traceback (most recent call last)",
      "Input \u001b[0;32mIn [3]\u001b[0m, in \u001b[0;36m<cell line: 1>\u001b[0;34m()\u001b[0m\n\u001b[0;32m----> 1\u001b[0m \u001b[38;5;28;01mwith\u001b[39;00m \u001b[38;5;28;43mopen\u001b[39;49m\u001b[43m(\u001b[49m\u001b[38;5;124;43m\"\u001b[39;49m\u001b[38;5;124;43m./output/feature_name_dict.json\u001b[39;49m\u001b[38;5;124;43m\"\u001b[39;49m\u001b[43m)\u001b[49m \u001b[38;5;28;01mas\u001b[39;00m json_file:\n\u001b[1;32m      2\u001b[0m     feature_name_dict \u001b[38;5;241m=\u001b[39m json\u001b[38;5;241m.\u001b[39mload(json_file)\n",
      "\u001b[0;31mFileNotFoundError\u001b[0m: [Errno 2] No such file or directory: './output/feature_name_dict.json'"
     ]
    }
   ],
   "source": [
    "with open(\"./output/feature_name_dict.json\") as json_file:\n",
    "    feature_name_dict = json.load(json_file)"
   ]
  },
  {
   "cell_type": "markdown",
   "id": "a1a7184e-878e-4ef1-89ea-fe0f474f2ad2",
   "metadata": {},
   "source": [
    "## Load data on predicted 10k cohort thrombolysis use at each hospital\n",
    "Use the hospitals thrombolysis rate on the same set of 10k patients to select the 30 hospitals with the highest thrombolysis rates."
   ]
  },
  {
   "cell_type": "code",
   "execution_count": null,
   "id": "fbb76a2d-5583-4322-8421-03b4714fb2cd",
   "metadata": {},
   "outputs": [],
   "source": [
    "thrombolysis_by_hosp = pd.read_csv(\n",
    "    './output/10k_thrombolysis_rate_by_hosp_key_features.csv', index_col='stroke_team')\n",
    "thrombolysis_by_hosp.sort_values(\n",
    "    'Thrombolysis rate', ascending=False, inplace=True)"
   ]
  },
  {
   "cell_type": "code",
   "execution_count": null,
   "id": "aa5db367-5486-450d-afbb-6f5b257cc8ac",
   "metadata": {},
   "outputs": [],
   "source": [
    "thrombolysis_by_hosp.head()"
   ]
  },
  {
   "cell_type": "markdown",
   "id": "a4c8083d-ab4a-43c4-9a3c-233b9eecb125",
   "metadata": {},
   "source": [
    "Select the top 30 hospitals with highest thrombolysis rates for the common set of 10k patients. Store their stroke team name."
   ]
  },
  {
   "cell_type": "code",
   "execution_count": null,
   "id": "2d08d55e-9f1d-4752-b7c3-54997b153714",
   "metadata": {},
   "outputs": [],
   "source": [
    "top_30_hospitals = list(thrombolysis_by_hosp.head(30).index)\n",
    "bottom_30_hospitals = list(thrombolysis_by_hosp.tail(30).index)"
   ]
  },
  {
   "cell_type": "markdown",
   "id": "fc9d932c-13d4-44f5-9a34-600e553d2dd7",
   "metadata": {},
   "source": [
    "## Load SHAP data for first k-fold model\n",
    "Use explainer to access the feature names (explainer.data_feature_names) and shap_values_extended to access the data values and SHAP values"
   ]
  },
  {
   "cell_type": "code",
   "execution_count": null,
   "id": "abef0bd9-7674-4753-8cef-f48fdfcf3b44",
   "metadata": {},
   "outputs": [],
   "source": [
    "k = 0\n",
    "filename = f'./output/shap_values_extended_xgb_key_features_{k}.p'\n",
    "with open(filename, 'rb') as filehandler:\n",
    "    shap_values_extended = pickle.load(filehandler)\n",
    "    \n",
    "filename = f'./output/shap_values_explainer_xgb_key_features_{k}.p'\n",
    "with open(filename, 'rb') as filehandler:\n",
    "    explainer = pickle.load(filehandler)"
   ]
  },
  {
   "cell_type": "markdown",
   "id": "bf4ef39e-afb4-4715-9945-ce739974b9fd",
   "metadata": {},
   "source": [
    "## Plot SHAP values for the top and bottom 30 hospitals\n",
    "Put data into Dataframe. Select the 30 top and 30 bottom hospitals. Plot the SHAP values for the two features for the hospital groups."
   ]
  },
  {
   "cell_type": "code",
   "execution_count": null,
   "id": "3a20bd1a-bb7a-4a10-b431-b39b624f91ad",
   "metadata": {},
   "outputs": [],
   "source": [
    "data_values_df = pd.DataFrame(shap_values_extended.data)\n",
    "data_values_df.columns = explainer.data_feature_names\n",
    "data_values_df"
   ]
  },
  {
   "cell_type": "code",
   "execution_count": null,
   "id": "ddfc598a-2ac5-4cbd-b8f5-dbc07797f92f",
   "metadata": {},
   "outputs": [],
   "source": [
    "#explainer.data_feature_names\n",
    "shap_values_df = pd.DataFrame(shap_values_extended.values)\n",
    "shap_values_df.columns = explainer.data_feature_names\n",
    "shap_values_df"
   ]
  },
  {
   "cell_type": "code",
   "execution_count": null,
   "id": "600923e3-8899-4c2f-b2e5-927afeec51e5",
   "metadata": {},
   "outputs": [],
   "source": [
    "features = ['Stroke severity', 'Prior disability level']\n",
    "\n",
    "for feature in features:\n",
    "\n",
    "    # Calculate data for top 30 hospitals\n",
    "    shap_top_30 = pd.DataFrame()\n",
    "    for hospital in top_30_hospitals:\n",
    "        column_name = f\"team_{hospital}\"\n",
    "        mask = data_values_df[column_name]!=0\n",
    "        s1 = pd.Series(shap_values_df[feature][mask], name=\"shap\")\n",
    "        s2 = pd.Series(data_values_df[feature][mask], name=\"data\")\n",
    "        df = pd.concat([s1, s2], axis=1)\n",
    "        shap_top_30 = shap_top_30.append(df)\n",
    "\n",
    "    # calculate mean per category\n",
    "    mean_by_category_top = shap_top_30.groupby('data').mean()\n",
    "\n",
    "    # Calculate data for bottom 30 hospitals\n",
    "    shap_bottom_30 = pd.DataFrame()\n",
    "    for hospital in bottom_30_hospitals:\n",
    "        column_name = f\"team_{hospital}\"\n",
    "        mask = data_values_df[column_name]!=0\n",
    "        s1 = pd.Series(shap_values_df[feature][mask], name=\"shap\")\n",
    "        s2 = pd.Series(data_values_df[feature][mask], name=\"data\")\n",
    "        df = pd.concat([s1, s2], axis=1)\n",
    "        shap_bottom_30 = shap_bottom_30.append(df)\n",
    "            \n",
    "    # calculate mean per category\n",
    "    mean_by_category_bottom = shap_bottom_30.groupby('data').mean()\n",
    "        \n",
    "    # plot means\n",
    "    fig = plt.figure(figsize=(6,6))\n",
    "    ax1 = fig.add_subplot(111)\n",
    "    ax1.scatter(mean_by_category_top.index,\n",
    "                mean_by_category_top['shap'],\n",
    "                label=\"top 30 hospitals\")\n",
    "    ax1.scatter(mean_by_category_bottom.index,\n",
    "                mean_by_category_bottom['shap'],\n",
    "                label=\"bottom 30 hospitals\")\n",
    "    ax1.set_xlabel(f'{feature}')\n",
    "    ax1.set_ylabel('SHAP (mean of patients)')\n",
    "    ax1.set_title('SHAP values for patients attending a low or high thrombolysing hospital')\n",
    "    ax1.legend(loc='upper right', bbox_to_anchor=(1.5, 1))\n",
    "    plt.show()"
   ]
  },
  {
   "cell_type": "code",
   "execution_count": null,
   "id": "f5e55058-8d7c-4583-b7fa-d069c951661f",
   "metadata": {},
   "outputs": [],
   "source": [
    "shap_values_df"
   ]
  },
  {
   "cell_type": "markdown",
   "id": "15cb8554-e04c-4d30-858e-ad10d1fd85e6",
   "metadata": {},
   "source": [
    "# As violinplot (... KP YOU ARE WORKING ON THIS)\n",
    "\n",
    "You have the dataframe set up (a column per cateogroy (to use as a violin), with empty cells padded with NAN as not all categories have same number of points.\n",
    "\n",
    "Following this suggestion: https://stackoverflow.com/questions/62278350/matplotlib-seaborn-violin-plots-for-different-data-sizes\n",
    "\n",
    "But the violin plot isn't plotting.\n",
    "\n",
    "For mRS only plotting 1 violin, for stroke severity plotting none. But have the full range of values on the x-axis.\n",
    "\n",
    "Maybe this solution only works for seaborn, and not matplotlib?"
   ]
  },
  {
   "cell_type": "code",
   "execution_count": 11,
   "id": "0f68ef63-f761-4667-87d4-55ea410e1ce5",
   "metadata": {},
   "outputs": [
    {
     "data": {
      "text/html": [
       "<div>\n",
       "<style scoped>\n",
       "    .dataframe tbody tr th:only-of-type {\n",
       "        vertical-align: middle;\n",
       "    }\n",
       "\n",
       "    .dataframe tbody tr th {\n",
       "        vertical-align: top;\n",
       "    }\n",
       "\n",
       "    .dataframe thead th {\n",
       "        text-align: right;\n",
       "    }\n",
       "</style>\n",
       "<table border=\"1\" class=\"dataframe\">\n",
       "  <thead>\n",
       "    <tr style=\"text-align: right;\">\n",
       "      <th></th>\n",
       "      <th>0.0</th>\n",
       "      <th>3.0</th>\n",
       "      <th>5.0</th>\n",
       "      <th>1.0</th>\n",
       "      <th>4.0</th>\n",
       "      <th>2.0</th>\n",
       "    </tr>\n",
       "  </thead>\n",
       "  <tbody>\n",
       "    <tr>\n",
       "      <th>0</th>\n",
       "      <td>0.461281</td>\n",
       "      <td>-0.321622</td>\n",
       "      <td>-1.158636</td>\n",
       "      <td>-0.069477</td>\n",
       "      <td>-0.694905</td>\n",
       "      <td>-0.385744</td>\n",
       "    </tr>\n",
       "    <tr>\n",
       "      <th>1</th>\n",
       "      <td>0.329546</td>\n",
       "      <td>-0.561425</td>\n",
       "      <td>-0.939278</td>\n",
       "      <td>-0.008170</td>\n",
       "      <td>-1.173281</td>\n",
       "      <td>-0.360862</td>\n",
       "    </tr>\n",
       "    <tr>\n",
       "      <th>2</th>\n",
       "      <td>0.482051</td>\n",
       "      <td>-0.480900</td>\n",
       "      <td>-0.914171</td>\n",
       "      <td>-0.077072</td>\n",
       "      <td>-1.019824</td>\n",
       "      <td>-0.343827</td>\n",
       "    </tr>\n",
       "    <tr>\n",
       "      <th>3</th>\n",
       "      <td>0.597126</td>\n",
       "      <td>-0.738885</td>\n",
       "      <td>-1.152894</td>\n",
       "      <td>-0.087525</td>\n",
       "      <td>-0.872040</td>\n",
       "      <td>-0.433209</td>\n",
       "    </tr>\n",
       "    <tr>\n",
       "      <th>4</th>\n",
       "      <td>0.552977</td>\n",
       "      <td>-0.412180</td>\n",
       "      <td>-1.030015</td>\n",
       "      <td>-0.119054</td>\n",
       "      <td>-0.934156</td>\n",
       "      <td>-0.266986</td>\n",
       "    </tr>\n",
       "    <tr>\n",
       "      <th>...</th>\n",
       "      <td>...</td>\n",
       "      <td>...</td>\n",
       "      <td>...</td>\n",
       "      <td>...</td>\n",
       "      <td>...</td>\n",
       "      <td>...</td>\n",
       "    </tr>\n",
       "    <tr>\n",
       "      <th>2467</th>\n",
       "      <td>0.392699</td>\n",
       "      <td>NaN</td>\n",
       "      <td>NaN</td>\n",
       "      <td>NaN</td>\n",
       "      <td>NaN</td>\n",
       "      <td>NaN</td>\n",
       "    </tr>\n",
       "    <tr>\n",
       "      <th>2468</th>\n",
       "      <td>0.539439</td>\n",
       "      <td>NaN</td>\n",
       "      <td>NaN</td>\n",
       "      <td>NaN</td>\n",
       "      <td>NaN</td>\n",
       "      <td>NaN</td>\n",
       "    </tr>\n",
       "    <tr>\n",
       "      <th>2469</th>\n",
       "      <td>0.235586</td>\n",
       "      <td>NaN</td>\n",
       "      <td>NaN</td>\n",
       "      <td>NaN</td>\n",
       "      <td>NaN</td>\n",
       "      <td>NaN</td>\n",
       "    </tr>\n",
       "    <tr>\n",
       "      <th>2470</th>\n",
       "      <td>0.609330</td>\n",
       "      <td>NaN</td>\n",
       "      <td>NaN</td>\n",
       "      <td>NaN</td>\n",
       "      <td>NaN</td>\n",
       "      <td>NaN</td>\n",
       "    </tr>\n",
       "    <tr>\n",
       "      <th>2471</th>\n",
       "      <td>0.496902</td>\n",
       "      <td>NaN</td>\n",
       "      <td>NaN</td>\n",
       "      <td>NaN</td>\n",
       "      <td>NaN</td>\n",
       "      <td>NaN</td>\n",
       "    </tr>\n",
       "  </tbody>\n",
       "</table>\n",
       "<p>2472 rows × 6 columns</p>\n",
       "</div>"
      ],
      "text/plain": [
       "           0.0       3.0       5.0       1.0       4.0       2.0\n",
       "0     0.461281 -0.321622 -1.158636 -0.069477 -0.694905 -0.385744\n",
       "1     0.329546 -0.561425 -0.939278 -0.008170 -1.173281 -0.360862\n",
       "2     0.482051 -0.480900 -0.914171 -0.077072 -1.019824 -0.343827\n",
       "3     0.597126 -0.738885 -1.152894 -0.087525 -0.872040 -0.433209\n",
       "4     0.552977 -0.412180 -1.030015 -0.119054 -0.934156 -0.266986\n",
       "...        ...       ...       ...       ...       ...       ...\n",
       "2467  0.392699       NaN       NaN       NaN       NaN       NaN\n",
       "2468  0.539439       NaN       NaN       NaN       NaN       NaN\n",
       "2469  0.235586       NaN       NaN       NaN       NaN       NaN\n",
       "2470  0.609330       NaN       NaN       NaN       NaN       NaN\n",
       "2471  0.496902       NaN       NaN       NaN       NaN       NaN\n",
       "\n",
       "[2472 rows x 6 columns]"
      ]
     },
     "execution_count": 11,
     "metadata": {},
     "output_type": "execute_result"
    }
   ],
   "source": [
    "feature = 'Prior disability level'#'Stroke severity'\n",
    "\n",
    "# Calculate data for top 30 hospitals\n",
    "shap_top_30 = pd.DataFrame()\n",
    "for hospital in top_30_hospitals:\n",
    "    column_name = f\"team_{hospital}\"\n",
    "    mask = data_values_df[column_name]!=0\n",
    "    s1 = pd.Series(shap_values_df[feature][mask], name=\"shap\")\n",
    "    s2 = pd.Series(data_values_df[feature][mask], name=\"data\")\n",
    "    df = pd.concat([s1, s2], axis=1)\n",
    "    shap_top_30 = shap_top_30.append(df)\n",
    "\n",
    "# each category will have different number ofpoints, so need to pad out the categories with fewer cases with NAN so same size\n",
    "# put categories into separate series, and back in dataframe with NAN to pad out\n",
    "violin_plot_dictionary = {}\n",
    "for i in shap_top_30['data'].unique():\n",
    "    mask = shap_top_30['data']==i\n",
    "    s = pd.Series(shap_top_30['shap'][mask], name=f\"{i}\")\n",
    "    violin_plot_dictionary[f'{i}'] = s\n",
    "\n",
    "maxsize = max([a.size for a in violin_plot_dictionary.values()])\n",
    "data_pad = {k:np.pad(v, pad_width=(0,maxsize-v.size,), mode='constant', constant_values=np.nan) for k,v in violin_plot_dictionary.items()}\n",
    "violin_df = pd.DataFrame(data_pad)\n",
    "violin_df"
   ]
  },
  {
   "cell_type": "code",
   "execution_count": 12,
   "id": "ac5f8d50-b2b8-46a2-992f-52261332dcaa",
   "metadata": {},
   "outputs": [
    {
     "data": {
      "image/png": "[encoded data removed]",
      "text/plain": [
       "<Figure size 432x432 with 1 Axes>"
      ]
     },
     "metadata": {
      "needs_background": "light"
     },
     "output_type": "display_data"
    }
   ],
   "source": [
    "fig = plt.figure(figsize=(6,6))\n",
    "ax1 = fig.add_subplot(111)\n",
    "ax1.violinplot(violin_df,\n",
    "              showmedians=True,\n",
    "              widths=1)\n",
    "ax1.set_ylim(0)\n",
    "labels = list(violin_df)\n",
    "ax1.set_xticks(np.arange(1, len(labels) + 1))\n",
    "ax1.set_xticklabels(labels, rotation=45, ha='right')\n",
    "#ax1.grid(which='both')\n",
    "ax1.set_ylabel('SHAP')\n",
    "#plt.savefig('output/violin_shap_between_low_high.jpg', dpi=300, \n",
    "#            bbox_inches='tight', pad_inches=0.2)\n",
    "plt.show()"
   ]
  },
  {
   "cell_type": "markdown",
   "id": "d6da875f-9a1f-4d77-8277-626d43613fef",
   "metadata": {},
   "source": [
    "# When ready put workign code here"
   ]
  },
  {
   "cell_type": "code",
   "execution_count": 13,
   "id": "f68808d4-62ba-4d1e-a7a7-f1f465d2d9be",
   "metadata": {},
   "outputs": [
    {
     "data": {
      "image/png": "[encoded data removed]",
      "text/plain": [
       "<Figure size 432x432 with 1 Axes>"
      ]
     },
     "metadata": {
      "needs_background": "light"
     },
     "output_type": "display_data"
    },
    {
     "data": {
      "image/png": "[encoded data removed]",
      "text/plain": [
       "<Figure size 432x432 with 1 Axes>"
      ]
     },
     "metadata": {
      "needs_background": "light"
     },
     "output_type": "display_data"
    }
   ],
   "source": [
    "features = ['Stroke severity', 'Prior disability level']\n",
    "\n",
    "for feature in features:\n",
    "\n",
    "    # Calculate data for top 30 hospitals\n",
    "    shap_top_30 = pd.DataFrame()\n",
    "    for hospital in top_30_hospitals:\n",
    "        column_name = f\"team_{hospital}\"\n",
    "        mask = data_values_df[column_name]!=0\n",
    "        s1 = pd.Series(shap_values_df[feature][mask], name=\"shap\")\n",
    "        s2 = pd.Series(data_values_df[feature][mask], name=\"data\")\n",
    "        df = pd.concat([s1, s2], axis=1)\n",
    "        shap_top_30 = shap_top_30.append(df)\n",
    "\n",
    "    # each category will have different number ofpoints, so need to pad out the categories with fewer cases with NAN so same size\n",
    "    # put categories into separate series, and back in dataframe with NAN to pad out\n",
    "    violin_plot_dictionary = {}\n",
    "    for i in shap_top_30['data'].unique():\n",
    "        mask = shap_top_30['data']==i\n",
    "        s = pd.Series(shap_top_30['shap'][mask], name=f\"{i}\")\n",
    "        violin_plot_dictionary[f'{i}'] = s\n",
    "\n",
    "    maxsize = max([a.size for a in violin_plot_dictionary.values()])\n",
    "    data_pad = {k:np.pad(v, pad_width=(0,maxsize-v.size,), mode='constant', constant_values=np.nan) for k,v in violin_plot_dictionary.items()}\n",
    "    violin_top_df = pd.DataFrame(data_pad)\n",
    "    \n",
    "\n",
    "    # Calculate data for bottom 30 hospitals\n",
    "    shap_bottom_30 = pd.DataFrame()\n",
    "    for hospital in bottom_30_hospitals:\n",
    "        column_name = f\"team_{hospital}\"\n",
    "        mask = data_values_df[column_name]!=0\n",
    "        s1 = pd.Series(shap_values_df[feature][mask], name=\"shap\")\n",
    "        s2 = pd.Series(data_values_df[feature][mask], name=\"data\")\n",
    "        df = pd.concat([s1, s2], axis=1)\n",
    "        shap_bottom_30 = shap_bottom_30.append(df)\n",
    "            \n",
    "    # each category will have different number ofpoints, so need to pad out the categories with fewer cases with NAN so same size\n",
    "    # put categories into separate series, and back in dataframe with NAN to pad out\n",
    "    violin_plot_dictionary = {}\n",
    "    for i in shap_bottom_30['data'].unique():\n",
    "        mask = shap_bottom_30['data']==i\n",
    "        s = pd.Series(shap_bottom_30['shap'][mask], name=f\"{i}\")\n",
    "        violin_plot_dictionary[f'{i}'] = s\n",
    "\n",
    "    maxsize = max([a.size for a in violin_plot_dictionary.values()])\n",
    "    data_pad = {k:np.pad(v, pad_width=(0,maxsize-v.size,), mode='constant', constant_values=np.nan) for k,v in violin_plot_dictionary.items()}\n",
    "    violin_bottom_df = pd.DataFrame(data_pad)\n",
    "        \n",
    "    # plot violins\n",
    "    fig = plt.figure(figsize=(6,6))\n",
    "    ax1 = fig.add_subplot(111)\n",
    "    ax1.violinplot(violin_top_df,\n",
    "                  showmedians=True,\n",
    "                  widths=1)#'\n",
    "#                  label=\"top 30 hospitals\")\n",
    "    ax1.violinplot(violin_bottom_df,\n",
    "                  showmedians=True,\n",
    "                  widths=1)#,\n",
    "#                  label=\"bottom 30 hospitals\")\n",
    "    ax1.set_ylim(0)\n",
    "    labels = list(violin_df)\n",
    "    ax1.set_xticks(np.arange(1, len(labels) + 1))\n",
    "    ax1.set_xticklabels(labels, rotation=45, ha='right')\n",
    "    #ax1.grid(which='both')\n",
    "    ax1.set_ylabel('SHAP')\n",
    "    #plt.savefig('output/violin_shap_between_low_high.jpg', dpi=300, \n",
    "    #            bbox_inches='tight', pad_inches=0.2)\n",
    "    plt.show()"
   ]
  }
 ],
 "metadata": {
  "kernelspec": {
   "display_name": "Python 3 (ipykernel)",
   "language": "python",
   "name": "python3"
  },
  "language_info": {
   "codemirror_mode": {
    "name": "ipython",
    "version": 3
   },
   "file_extension": ".py",
   "mimetype": "text/x-python",
   "name": "python",
   "nbconvert_exporter": "python",
   "pygments_lexer": "ipython3",
   "version": "3.8.13"
  }
 },
 "nbformat": 4,
 "nbformat_minor": 5
}
