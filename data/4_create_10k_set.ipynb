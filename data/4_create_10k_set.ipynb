{
 "cells": [
  {
   "cell_type": "markdown",
   "metadata": {},
   "source": [
    "# SAMueL Create Straified Data Sets"
   ]
  },
  {
   "cell_type": "code",
   "execution_count": 1,
   "metadata": {},
   "outputs": [],
   "source": [
    "# Turn warnings off to keep notebook tidy\n",
    "import warnings\n",
    "warnings.filterwarnings(\"ignore\")"
   ]
  },
  {
   "cell_type": "markdown",
   "metadata": {},
   "source": [
    "## Load modules"
   ]
  },
  {
   "cell_type": "code",
   "execution_count": 2,
   "metadata": {},
   "outputs": [],
   "source": [
    "import numpy as np\n",
    "import pandas as pd\n",
    "\n",
    "# sklearn for pre-processing\n",
    "from sklearn.model_selection import train_test_split\n",
    "\n",
    "import os"
   ]
  },
  {
   "cell_type": "markdown",
   "metadata": {},
   "source": [
    "## Load data\n",
    "\n",
    "Load data.\n",
    "\n",
    "Data has already been imputed and had these filters applied: \n",
    "* only include patients that attend a hospital with > 300 admissions and 10 thrombolysis\n",
    "* only include patients with arrival time <4hours and onset out of hospital\n",
    "* only include patients that have a scan\n",
    "\n",
    "Ensure all values are `float` and shuffle."
   ]
  },
  {
   "cell_type": "code",
   "execution_count": 3,
   "metadata": {},
   "outputs": [],
   "source": [
    "data = pd.read_csv('220401_national_data_imputed_filtered_no_unit_encoding.csv')\n",
    "# Shuffle and remove 'Pathway' field\n",
    "data = data.sample(frac=1.0, random_state=42)\n",
    "data.drop('Pathway', axis=1, inplace=True)"
   ]
  },
  {
   "cell_type": "markdown",
   "metadata": {},
   "source": [
    "## Set and check output folder exists"
   ]
  },
  {
   "cell_type": "code",
   "execution_count": 4,
   "metadata": {},
   "outputs": [],
   "source": [
    "output_dir = './10k_training_test'\n",
    "if not os.path.exists(output_dir):\n",
    "     os.makedirs(output_dir)"
   ]
  },
  {
   "cell_type": "markdown",
   "metadata": {},
   "source": [
    "## Create stratification based on hospital and thrombolysis use"
   ]
  },
  {
   "cell_type": "code",
   "execution_count": 5,
   "metadata": {},
   "outputs": [],
   "source": [
    "strat = data['StrokeTeam'].map(str) + '-' + data['S2Thrombolysis'].map(str)"
   ]
  },
  {
   "cell_type": "markdown",
   "metadata": {},
   "source": [
    "### Split X and y"
   ]
  },
  {
   "cell_type": "code",
   "execution_count": 6,
   "metadata": {},
   "outputs": [],
   "source": [
    "X = data.drop('S2Thrombolysis', axis=1)\n",
    "y = data['S2Thrombolysis']"
   ]
  },
  {
   "cell_type": "markdown",
   "metadata": {},
   "source": [
    "## Create and save train and test splits"
   ]
  },
  {
   "cell_type": "code",
   "execution_count": 7,
   "metadata": {},
   "outputs": [],
   "source": [
    "X_train, X_test, y_train, y_test = train_test_split(\n",
    "    X, y, test_size=10000, stratify=strat, random_state=42)\n",
    "\n",
    "train = pd.concat([X_train, y_train], axis=1)\n",
    "test = pd.concat([X_test, y_test], axis=1)"
   ]
  },
  {
   "cell_type": "code",
   "execution_count": 8,
   "metadata": {},
   "outputs": [],
   "source": [
    "train.to_csv(f'{output_dir}/cohort_10000_train.csv', index=False)\n",
    "test.to_csv(f'{output_dir}/cohort_10000_test.csv', index=False)"
   ]
  },
  {
   "cell_type": "markdown",
   "metadata": {},
   "source": [
    "One hot encode"
   ]
  },
  {
   "cell_type": "code",
   "execution_count": 9,
   "metadata": {},
   "outputs": [],
   "source": [
    "# One hot encode stroke team\n",
    "units = train['StrokeTeam']\n",
    "train.drop(['StrokeTeam'],inplace=True, axis=1)\n",
    "one_hot_coded = pd.get_dummies(units, prefix='StrokeTeam')\n",
    "train = pd.concat([train, one_hot_coded], axis=1)\n",
    "train.to_csv(\n",
    "    f'{output_dir}/cohort_10000_train_one_hot_unit.csv', index=False)\n",
    "\n",
    "units = test['StrokeTeam']\n",
    "test.drop(['StrokeTeam'],inplace=True, axis=1)\n",
    "one_hot_coded = pd.get_dummies(units, prefix='StrokeTeam')\n",
    "test = pd.concat([train, one_hot_coded], axis=1)\n",
    "test.to_csv(\n",
    "    f'{output_dir}/cohort_10000_test_one_hot_unit.csv', index=False)"
   ]
  }
 ],
 "metadata": {
  "kernelspec": {
   "display_name": "Python 3 (ipykernel)",
   "language": "python",
   "name": "python3"
  },
  "language_info": {
   "codemirror_mode": {
    "name": "ipython",
    "version": 3
   },
   "file_extension": ".py",
   "mimetype": "text/x-python",
   "name": "python",
   "nbconvert_exporter": "python",
   "pygments_lexer": "ipython3",
   "version": "3.9.12"
  }
 },
 "nbformat": 4,
 "nbformat_minor": 4
}
