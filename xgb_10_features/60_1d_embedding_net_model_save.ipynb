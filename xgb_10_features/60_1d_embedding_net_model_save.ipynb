{
 "cells": [
  {
   "attachments": {},
   "cell_type": "markdown",
   "id": "7f503a3e",
   "metadata": {},
   "source": [
    "# Modular TensorFlow model with 1D embedding - Train and save model\n",
    "\n",
    "*Embedding* converts a categorical variable into a projection onto n-dimensional space [1], and has been shown to be an effective way to train neural network when using categorical data, while also allowing a measure of similarity/distance between different values of the categorical data, Here we use embedding for hospital ID. We also convert patient data and pathway data into an embedded vector (this may also be known as *encoding* the data in a vector with fewer dimensions than the original data set for those groups of features).\n",
    "\n",
    "[1] Guo C, & Berkhahn F. (2016) Entity Embeddings of Categorical Variables. arXiv:160406737 [cs] http://arxiv.org/abs/1604.06737\n",
    "\n",
    "## Aims\n",
    "\n",
    "* To train and save fully connected models for the 5-fold training/test data sets\n",
    "\n",
    "## Basic methodology\n",
    "\n",
    "Models are fitted to previously split training and test data sets.\n",
    "\n",
    "The model contains three subnets that take portions of the data. The output of these subnets is an n-dimensional vector. In this case the output is a 1D vector, that is each subnet is reduced to a single value output. The subnets created are for:\n",
    "\n",
    "1. *Patient clinical data*: Infarction, Stroke severity, Precise onset time, Prior disability level, Use of AF anticoagulants, Onset-to-arrival time, Onset during sleep, Age\n",
    "\n",
    "2. *Pathway process data*: Arrival-to-scan time\n",
    "\n",
    "3. *Hospital ID* (one-hot encoded): Connect input directly to single neuron with sigmoid activation.\n",
    "\n",
    "The outputs of the three subnet outputs are then passed to a single neuron with sigmoid activation for final output.\n",
    "\n",
    "![](./images/subnets_1.png)\n",
    "\n",
    "Models are fitted with keras 'early-stopping'. This monitors accuracy of the test set and stops when there has been no improvement in *n* epochs (this is the 'patience', and is set to 100 epochs here).\n",
    "\n",
    "NOTE: In the training charts below you will see that test accuracy is higher than training accuracy. This may seem surprising; it is due to keras returning the accuracy of the training set during training when dropout is used (and no dropout is used for the test set)."
   ]
  },
  {
   "attachments": {},
   "cell_type": "markdown",
   "id": "2297d49d",
   "metadata": {},
   "source": [
    "## Load modules"
   ]
  },
  {
   "cell_type": "code",
   "execution_count": 1,
   "id": "ef7063ee-8356-462d-9af9-76001e8cdfa2",
   "metadata": {},
   "outputs": [
    {
     "name": "stderr",
     "output_type": "stream",
     "text": [
      "2023-03-27 10:04:44.874227: I tensorflow/stream_executor/platform/default/dso_loader.cc:49] Successfully opened dynamic library libcudart.so.10.1\n"
     ]
    }
   ],
   "source": [
    "# Turn warnings off to keep notebook tidy\n",
    "import warnings\n",
    "warnings.filterwarnings(\"ignore\")\n",
    "\n",
    "import importlib\n",
    "import json\n",
    "import matplotlib.pyplot as plt\n",
    "import numpy as np\n",
    "import pandas as pd\n",
    "\n",
    "from sklearn.preprocessing import MinMaxScaler\n",
    "from scipy import stats\n",
    "\n",
    "# TensorFlow api model\n",
    "from tensorflow import keras\n",
    "from tensorflow.keras import layers\n",
    "from tensorflow.keras.models import Model\n",
    "from tensorflow.keras.optimizers import Adam\n",
    "from tensorflow.keras import backend as K\n",
    "from tensorflow.keras.losses import binary_crossentropy"
   ]
  },
  {
   "cell_type": "markdown",
   "id": "5200d29f-933e-4d5d-92cc-e5989a89b4d3",
   "metadata": {},
   "source": [
    "## Function to scale data (minmax scaling)"
   ]
  },
  {
   "cell_type": "code",
   "execution_count": 2,
   "id": "b6e2a44e-424d-4382-87c3-750630e971bb",
   "metadata": {},
   "outputs": [],
   "source": [
    "def scale_data(X_train, X_test):\n",
    "    \"\"\"Scale data 0-1 based on min and max in training set\"\"\"\n",
    "    \n",
    "    # Initialise a new scaling object for normalising input data\n",
    "    sc = MinMaxScaler()\n",
    "\n",
    "    # Set up the scaler just on the training set\n",
    "    sc.fit(X_train)\n",
    "\n",
    "    # Apply the scaler to the training and test sets\n",
    "    train_sc = sc.transform(X_train)\n",
    "    test_sc = sc.transform(X_test)\n",
    "    \n",
    "    return train_sc, test_sc    "
   ]
  },
  {
   "cell_type": "markdown",
   "id": "ef6a630e-554f-43f2-b139-ad4d93e981c4",
   "metadata": {},
   "source": [
    "## Define neural net"
   ]
  },
  {
   "cell_type": "code",
   "execution_count": 3,
   "id": "82a28784-81d5-408b-951f-458adfc7c90a",
   "metadata": {},
   "outputs": [],
   "source": [
    "def make_net(number_features_patient,\n",
    "             number_features_pathway,\n",
    "             number_features_hospital, \n",
    "             patient_encoding_neurones=1,\n",
    "             pathway_encoding_neurones=1,\n",
    "             hospital_encoding_neurones=1,\n",
    "             expansion=2, \n",
    "             learning_rate=0.003, \n",
    "             dropout=0.5):\n",
    "    \n",
    "    # Clear Tensorflow\n",
    "    K.clear_session()\n",
    "    \n",
    "    # Patient (clinical data) encoding layers\n",
    "    input_patient = layers.Input(shape=number_features_patient)\n",
    "    \n",
    "    # Patient dense layer 1\n",
    "    patient_dense_1 = layers.Dense(\n",
    "        number_features_patient * expansion, activation='relu')(input_patient)\n",
    "    patient_norm_1 = layers.BatchNormalization()(patient_dense_1)\n",
    "    patient_dropout_1 = layers.Dropout(dropout)(patient_norm_1)\n",
    "    \n",
    "    # Patient encoding layer\n",
    "    patient_encoding = layers.Dense(\n",
    "        patient_encoding_neurones, activation='sigmoid', \n",
    "        name='patient_encode')(patient_dropout_1)    \n",
    "    \n",
    "    # Pathway encoding layers\n",
    "    input_pathway = layers.Input(shape=number_features_pathway)\n",
    "    \n",
    "    # pathway dense layer 1\n",
    "    pathway_dense_1 = layers.Dense(\n",
    "        number_features_pathway * expansion, activation='relu')(input_pathway)\n",
    "    pathway_norm_1 = layers.BatchNormalization()(pathway_dense_1)\n",
    "    pathway_dropout_1 = layers.Dropout(dropout)(pathway_norm_1)\n",
    "    \n",
    "    # pathway encoding layer\n",
    "    pathway_encoding = layers.Dense(\n",
    "        pathway_encoding_neurones, activation='sigmoid', \n",
    "        name='pathway_encode')(pathway_dropout_1)    \n",
    "    \n",
    "    # hospital encoding layers\n",
    "    input_hospital = layers.Input(shape=number_features_hospital)\n",
    "    \n",
    "    # hospital encoding layer\n",
    "    hospital_encoding = layers.Dense(\n",
    "        hospital_encoding_neurones, activation='sigmoid', \n",
    "        name='hospital_encode')(input_hospital)    \n",
    "    \n",
    "    # Concatenation layer\n",
    "    concat = layers.Concatenate()(\n",
    "        [patient_encoding, pathway_encoding, hospital_encoding])\n",
    "    \n",
    "    # Outpout (single sigmoid)\n",
    "    outputs = layers.Dense(1, activation='sigmoid')(concat)\n",
    "    \n",
    "    # Build net\n",
    "    net = Model(inputs=[\n",
    "        input_patient, input_pathway, input_hospital], outputs=outputs)\n",
    "    \n",
    "    # Compiling model\n",
    "    opt = Adam(lr=learning_rate)\n",
    "    net.compile(loss='binary_crossentropy',\n",
    "    optimizer=opt,\n",
    "    metrics=['accuracy'])\n",
    "    return net"
   ]
  },
  {
   "cell_type": "markdown",
   "id": "3f2e314a-87b6-4a68-b921-70bca6c5f43b",
   "metadata": {},
   "source": [
    "## Read in JSON file\n",
    "\n",
    "Contains a dictionary for plain English feature names for the 10 features selected in the model. Use these as the column titles in the DataFrame."
   ]
  },
  {
   "cell_type": "code",
   "execution_count": 4,
   "id": "ba6937fe-2f91-4098-b47e-2e061b08e42d",
   "metadata": {},
   "outputs": [],
   "source": [
    "with open(\"./output/01_feature_name_dict.json\") as json_file:\n",
    "    dict_feature_name = json.load(json_file)"
   ]
  },
  {
   "cell_type": "markdown",
   "id": "ce5a5147-3499-4242-b178-e70f2c8b280a",
   "metadata": {},
   "source": [
    "## Load data\n",
    "\n",
    "Data has previously been split into 5 stratified k-fold splits.\n",
    "\n",
    "Read in data and keep the number of key features as specified (for this notebook, that's 8 key features)"
   ]
  },
  {
   "cell_type": "code",
   "execution_count": 5,
   "id": "dc9bc4b6-33fa-4490-976f-2cd318de422f",
   "metadata": {},
   "outputs": [],
   "source": [
    "data_loc = '../data/10k_training_test/'"
   ]
  },
  {
   "cell_type": "code",
   "execution_count": 6,
   "id": "cf7239fa-4dfb-440a-9319-d230c2f1869f",
   "metadata": {},
   "outputs": [],
   "source": [
    "# Read in the names of the selected features for the model\n",
    "number_of_features_to_use = 10\n",
    "key_features = pd.read_csv('./output/01_feature_selection.csv')\n",
    "key_features = list(key_features['feature'])[:number_of_features_to_use]\n",
    "# And add the target feature name: S2Thrombolysis\n",
    "key_features.append('S2Thrombolysis')\n",
    "\n",
    "# Read data\n",
    "train = pd.read_csv(data_loc + 'cohort_10000_train.csv')\n",
    "test = pd.read_csv(data_loc + 'cohort_10000_test.csv')\n",
    "\n",
    "# Select features\n",
    "train = train[key_features]\n",
    "test = test[key_features]\n",
    "\n",
    "# Rename fields\n",
    "train.rename(columns=dict_feature_name, inplace=True)\n",
    "test.rename(columns=dict_feature_name, inplace=True)\n",
    "\n",
    "# Make a copy of original data\n",
    "train_copy = train.copy(deep=True)\n",
    "test_copy = test.copy(deep=True)"
   ]
  },
  {
   "cell_type": "markdown",
   "id": "a4040603-f68e-4073-a5db-48e385723b2b",
   "metadata": {},
   "source": [
    "Load embedding data"
   ]
  },
  {
   "cell_type": "code",
   "execution_count": 7,
   "id": "429ee591-cfa8-47d7-b1bb-4e04e5dbeddc",
   "metadata": {},
   "outputs": [],
   "source": [
    "# Get data subgroups\n",
    "subgroups = pd.read_csv('../data/subnet.csv', index_col='Item')\n",
    "# Get list of clinical items\n",
    "clinical_subgroup = subgroups.loc[subgroups['Subnet']=='patient']\n",
    "clinical_subgroup = list(clinical_subgroup.index)\n",
    "# Get list of pathway items\n",
    "pathway_subgroup = subgroups.loc[subgroups['Subnet']=='pathway']\n",
    "pathway_subgroup = list(pathway_subgroup.index)\n",
    "# Get list of hospital items\n",
    "hospital_subgroup = subgroups.loc[subgroups['Subnet']=='team']\n",
    "hospital_subgroup = list(set(train['Stroke team']))\n",
    "hospital_subgroup.sort()"
   ]
  },
  {
   "cell_type": "markdown",
   "id": "bc6ab1d2-0037-4160-9bdd-de730be6890a",
   "metadata": {},
   "source": [
    "## Fit model"
   ]
  },
  {
   "cell_type": "code",
   "execution_count": null,
   "id": "aed6b029-c164-4a89-909e-6b7ea5913811",
   "metadata": {},
   "outputs": [],
   "source": [
    "# OneHot encode stroke team\n",
    "coded = pd.get_dummies(train['Stroke team'])\n",
    "train = pd.concat([train, coded], axis=1)\n",
    "train.drop('Stroke team', inplace=True, axis=1)\n",
    "coded = pd.get_dummies(test['Stroke team'])\n",
    "test = pd.concat([test, coded], axis=1)\n",
    "test.drop('Stroke team', inplace=True, axis=1)\n",
    "\n",
    "# Split into X, y\n",
    "X_train_df = train.drop('Thrombolysis',axis=1) \n",
    "y_train_df = train['Thrombolysis']\n",
    "X_test_df = test.drop('Thrombolysis',axis=1) \n",
    "y_test_df = test['Thrombolysis'] \n",
    "\n",
    "# Split train and test data by subgroups\n",
    "X_train_patients = X_train_df[clinical_subgroup]\n",
    "X_test_patients = X_test_df[clinical_subgroup]\n",
    "X_train_pathway = X_train_df[pathway_subgroup]\n",
    "X_test_pathway = X_test_df[pathway_subgroup]\n",
    "X_train_hospitals = X_train_df[hospital_subgroup]\n",
    "X_test_hospitals = X_test_df[hospital_subgroup]\n",
    "\n",
    "# Convert to NumPy\n",
    "X_train = X_train_df.values\n",
    "X_test = X_test_df.values\n",
    "y_train = y_train_df.values\n",
    "y_test = y_test_df.values\n",
    "\n",
    "# Scale data\n",
    "X_train_patients_sc, X_test_patients_sc = \\\n",
    "    scale_data(X_train_patients, X_test_patients)\n",
    "\n",
    "X_train_pathway_sc, X_test_pathway_sc = \\\n",
    "    scale_data(X_train_pathway, X_test_pathway)\n",
    "\n",
    "X_train_hospitals_sc, X_test_hospitals_sc = \\\n",
    "    scale_data(X_train_hospitals, X_test_hospitals)\n",
    "\n",
    "# Define network\n",
    "number_features_patient = X_train_patients_sc.shape[1]\n",
    "number_features_pathway = X_train_pathway_sc.shape[1]\n",
    "number_features_hospital = X_train_hospitals_sc.shape[1]\n",
    "\n",
    "model = make_net(\n",
    "    number_features_patient, \n",
    "    number_features_pathway, \n",
    "    number_features_hospital)\n",
    "\n",
    "# Define save checkpoint callback (only save if new best validation results)\n",
    "checkpoint_cb = keras.callbacks.ModelCheckpoint(\n",
    "    'model_checkpoint_1d.h5', save_best_only=True)\n",
    "\n",
    "# Define early stopping callback: Stop when no validation improvement\n",
    "# Restore weights to best validation accuracy\n",
    "early_stopping_cb = keras.callbacks.EarlyStopping(\n",
    "    patience=50, restore_best_weights=True)\n",
    "\n",
    "# Train model (including class weights)\n",
    "history = model.fit(\n",
    "    [X_train_patients_sc, X_train_pathway_sc, X_train_hospitals_sc],\n",
    "    y_train,\n",
    "    epochs=5000,\n",
    "    batch_size=32,\n",
    "    validation_data=(\n",
    "        [X_test_patients_sc, X_test_pathway_sc, X_test_hospitals_sc], \n",
    "        y_test),\n",
    "    verbose=1,\n",
    "    callbacks=[checkpoint_cb, early_stopping_cb])\n",
    "\n",
    "### Test model\n",
    "probability = model.predict(\n",
    "    [X_train_patients_sc, X_train_pathway_sc, X_train_hospitals_sc])\n",
    "y_pred_train = probability >= 0.5\n",
    "y_pred_train = y_pred_train.flatten()\n",
    "accuracy_train = np.mean(y_pred_train == y_train)\n",
    "print(f'Accuracy train {accuracy_train:0.3f}', end=' ')\n",
    "\n",
    "probability = model.predict(\n",
    "    [X_test_patients_sc, X_test_pathway_sc, X_test_hospitals_sc])\n",
    "y_pred_test = probability >= 0.5\n",
    "y_pred_test = y_pred_test.flatten()\n",
    "accuracy_test = np.mean(y_pred_test == y_test)\n",
    "print(f'Accuracy test {accuracy_test:0.3f}')"
   ]
  },
  {
   "cell_type": "code",
   "execution_count": 10,
   "id": "c1b3b592-1696-4c0d-abc3-7d8829707e53",
   "metadata": {},
   "outputs": [
    {
     "data": {
      "image/png": "[encoded data removed]",
      "text/plain": [
       "<Figure size 640x480 with 1 Axes>"
      ]
     },
     "metadata": {},
     "output_type": "display_data"
    }
   ],
   "source": [
    "# Plot training accuracy\n",
    "history_dict = history.history\n",
    "\n",
    "acc_values = history_dict['accuracy']\n",
    "val_acc_values = history_dict['val_accuracy']\n",
    "epochs = range(1, len(acc_values) + 1)\n",
    "\n",
    "plt.plot(epochs, acc_values, 'bo', label='Training acc')\n",
    "plt.plot(epochs, val_acc_values, 'b', label='Test accuracy')\n",
    "plt.title('Training and validation accuracy')\n",
    "plt.xlabel('Epochs')\n",
    "plt.ylabel('Accuracy')\n",
    "plt.legend()\n",
    "\n",
    "plt.show()"
   ]
  },
  {
   "cell_type": "code",
   "execution_count": 11,
   "id": "851ff546-578e-4103-a9c0-4c78261f7447",
   "metadata": {},
   "outputs": [],
   "source": [
    "# save model\n",
    "filename = f'./saved_models/10k_nn.h5'\n",
    "model.save(filename);"
   ]
  }
 ],
 "metadata": {
  "kernelspec": {
   "display_name": "Python 3 (ipykernel)",
   "language": "python",
   "name": "python3"
  },
  "language_info": {
   "codemirror_mode": {
    "name": "ipython",
    "version": 3
   },
   "file_extension": ".py",
   "mimetype": "text/x-python",
   "name": "python",
   "nbconvert_exporter": "python",
   "pygments_lexer": "ipython3",
   "version": "3.8.16"
  }
 },
 "nbformat": 4,
 "nbformat_minor": 5
}
