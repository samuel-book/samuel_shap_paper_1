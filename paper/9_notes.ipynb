{
 "cells": [
  {
   "cell_type": "markdown",
   "id": "4d59b1f2-e9d3-4e58-adc7-07f8b20e2c59",
   "metadata": {},
   "source": [
    "# Notes"
   ]
  },
  {
   "cell_type": "markdown",
   "id": "bc4cbd98-dfb9-4f46-b603-b54e222cb695",
   "metadata": {},
   "source": [
    "## Key points\n",
    "\n",
    "* 10 features gave ROC AUC of 0.919, compared with 0.922 for all 84 features.\n",
    "* 2 correlations with r-sqaured between 0.05 and 0.15, all others <0.15"
   ]
  },
  {
   "cell_type": "markdown",
   "id": "163f21d0-1fd8-4029-997e-e84499d16062",
   "metadata": {},
   "source": [
    "figure {numref}`figure {number} <label>`).\n",
    "\n",
    ":::{figure-md} label\n",
    "<img src=\"./images/image.jpg\" width=\"800\">\n",
    "\n",
    "Title\n",
    ":::\n",
    "\n"
   ]
  }
 ],
 "metadata": {
  "kernelspec": {
   "display_name": "Python 3 (ipykernel)",
   "language": "python",
   "name": "python3"
  },
  "language_info": {
   "codemirror_mode": {
    "name": "ipython",
    "version": 3
   },
   "file_extension": ".py",
   "mimetype": "text/x-python",
   "name": "python",
   "nbconvert_exporter": "python",
   "pygments_lexer": "ipython3",
   "version": "3.9.12"
  }
 },
 "nbformat": 4,
 "nbformat_minor": 5
}
