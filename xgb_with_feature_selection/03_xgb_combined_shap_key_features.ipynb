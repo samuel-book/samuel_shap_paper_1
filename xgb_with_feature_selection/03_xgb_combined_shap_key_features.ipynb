{
 "cells": [
  {
   "cell_type": "markdown",
   "id": "3201efca",
   "metadata": {},
   "source": [
    "# Explaining XGBoost model predictions with SHAP values\n",
    "\n",
    "## Plain English summary\n",
    "\n",
    "Machine learning models often do not offer an easy way to determine how they have arrived at a prediction, and have been referred to as a \"black box\". \n",
    "\n",
    "Even with our simplified model with 8 features, the model algorithm does not report how it has arrived at a prediction. We can calculate and use SHAP values tp report the average contribution a feature has on the models outcome, across all possible combination of inputs. SHAP values are calculated externally from the model. We will use them to explore what influence each feature has on the models prediction - they can either show information for an individual instance (see which feature pulls the outcome in which direction), or for the global case for the full set of instances.\n",
    "\n",
    "SHAP values care calculated for each feature (our model has 139 features since we are using one-hot encoding for hospitals), for each instance, for each of the 5 kfolds.\n",
    "\n",
    "On an instance level, waterfall plots clearly show the feature contribution to the models prediction. Individual instances have their own order of feature contribution. On a global level, beeswarm and scatter plots both help to explain the relationship between feature values and model prediction. \n",
    "We can learn that SHAP values rank the five most influential features as: stroke type, arrival-to-scan time, stroke severity, precise onset time, prior disability level.\n",
    "\n",
    "Since we are using one-hot encoded features for the hospital, each hospital has a SHAP value of its own per instance. That means we have a SHAP value for the hospital a patient attended, as well as for hospitals that the patient did not attend. For the hospital’s own patients, the mean SHAP values range from -1.4 to 1.3. This shows that hospitals themselves have an impact on whether the patient is likely to receive thrombolysis. This can be thought of as representing the individual hospital's thrombolysis culture.\n",
    "\n",
    "The model does provide a measure of feature importance. We found that there is a reasonable similarity between the feature importance and the SHAP values, but with some differences in the ranked order. Both the SHAP values and feature importance values have good consistency across the 5 k-fold splits.\n",
    "\n",
    "## A note on SHAP values\n",
    "\n",
    "SHAP values are usually reported as *log odds shifts* in model predictions. For a description of the relationships between probability, odds, and SHAP values (log odds shifts) see [here](../introduction/odds_prob.md).\n",
    "\n",
    "## Model and data\n",
    "\n",
    "XGBoost models were trained on stratified k-fold cross-validation data. The 8 features in the model are:\n",
    "\n",
    "* Arrival-to-scan time: Time from arrival at hospital to scan (mins)\n",
    "* Infarction: Stroke type (1 = infarction, 0 = haemorrhage)\n",
    "* Stroke severity: Stroke severity (NIHSS) on arrival\n",
    "* Precise onset time: Onset time type (1 = precise, 0 = best estimate)\n",
    "* Prior disability level: Disability level (modified Rankin Scale) before stroke\n",
    "* Stroke team: Stroke team attended\n",
    "* Use of AF anticoagulents: Use of atrial fibrillation anticoagulant (1 = Yes, 0 = No)\n",
    "* Onset-to-arrival time: Time from onset of stroke to arrival at hospital (mins)\n",
    "\n",
    "And one target feature:\n",
    "* Thrombolysis: Recieve thrombolysis (1 = Yes, 0 = No)\n",
    "\n",
    "The 8 features included in the model (to predict whether a patient will recieve thrombolysis) were chosen sequentially as having the single best improvement in model performance (using the ROC AUC). The stroke team feature is included as a one-hot encoded feature.\n",
    "\n",
    "The Python library SHAP was applied to each of the 5 fitted models (one per kfold) to obtain a SHAP value for each feature, for each instance. SHAP values are in the same units as the model output, so for XGBoost this is in log odds-ratio.\n",
    "\n",
    "A single SHAP value per feature (to compare with the feature importance value) was obtained by taking the mean of the absolute values across all instances. Then for both cases (feature importance and SHAP) take the median across the 5 kfolds.\n",
    "\n",
    "## Aims:\n",
    "\n",
    "* Fit XGBoost model to each of the 5 k-fold train/test splits.\n",
    "* Get SHAP values for each k-fold split.\n",
    "* Examine consistency of SHAP values across the 5 k-fold splits.\n",
    "* Get XGBoost feature importance values for each k-fold split.\n",
    "* Examine consistency of XGBoost feature importance values across the 5 k-fold splits.\n",
    "* Compare SHAP values and XGBoost feature importance values.\n",
    "* Further investigate the relationship between feature values and SHAP values with:\n",
    "    * Beeswarm plots\n",
    "    * Waterfall plots\n",
    "    * Scatter plots\n",
    "* Show an example of plotting SHSP values in a waterfall plot as probabilities rather than log odds-ratio.\n",
    "\n",
    "## Observations\n",
    "\n",
    "* There was good consistency of SHAP values and importances across 5 k-fold replications.\n",
    "* There was a reasonable correlation between SHAP and feature importance values, but also some differences in the rank order of importance.\n",
    "    The five most influential features as judged by SHAP were:\n",
    "    * Stroke type\n",
    "    * Arrival-to-scan time\n",
    "    * Stroke severity (NIHSS)\n",
    "    * Stroke onset time type (precise vs. estimated)\n",
    "    * Disability level (Rankin) before stroke\n",
    "* The five most influential features (excluding teams) as judged by importance were:\n",
    "    * Stroke type\n",
    "    * Use of AF Anticoagulant\n",
    "    * Stroke onset time type (precise vs. estimated)\n",
    "    * Stroke severity (NIHSS)\n",
    "    * Disability level (Rankin) before stroke\n",
    "* Beeswarm, waterfall, and scatter plots all help elucidate the relationship between feature values and SHAP value.\n",
    "* Plotting SHAP values as probabilities are more understandable than plotting as log odds-ratios, but can distort the relative importance of features overall.\n",
    "* A feature with the same value in multiple instances (such as all of the patients with an infarction), the feature (stroke type) does not necessarily have the same SHAP value in all of those instances. This means that SHAP values are instance dependent (as they are also capturing the interactions between pairs of feature values).  See the set of notebooks #12 that looks at representing the SHAP values as a main effect (what is due to the feature value, the standalone effect) and as the interactions with the other features (a value per feature pairings).\n",
    "\n",
    "[THIS IS NOT INCLUDED IN THIS NOTEBOOK]\n",
    "* There is a strong relationship between the hospitals thrombolysis rate (for 10K patient cohort) and the hospitals SHAP value. An R-squared value of 0.861 suggests that the model relies mostly on the hospital SHAP value to adjust individual hospital thrombolysis predictions, but that those hospitals share the same general patterns of juding patient and pathway characteristics."
   ]
  },
  {
   "cell_type": "markdown",
   "id": "b4981adb-1981-4516-8410-f034ef262eb0",
   "metadata": {},
   "source": [
    "### Note on shap version 0.40:\n",
    "\n",
    "Installed using `pip install shap`\n",
    "\n",
    "There is a bug in the waterfall plot where `show=False` (required to save plot) fails. To correct this find the `_waterfall.py` file in the shap library (e.g. in `anaconda/envs/samuel2/lib/python3.8/site-packages/shap/plots`, and search/replace all `pl.` to `plt.`, and replace initial import of `import matplotlib.pyplot as pl` with `import matplotlib.pyplot as plt`."
   ]
  },
  {
   "cell_type": "markdown",
   "id": "64835541",
   "metadata": {},
   "source": [
    "## Load packages"
   ]
  },
  {
   "cell_type": "code",
   "execution_count": 1,
   "id": "54b1a9b2",
   "metadata": {},
   "outputs": [],
   "source": [
    "# Turn warnings off to keep notebook tidy\n",
    "import warnings\n",
    "warnings.filterwarnings(\"ignore\")\n",
    "\n",
    "import os\n",
    "import matplotlib.pyplot as plt\n",
    "import numpy as np\n",
    "import pandas as pd\n",
    "import pickle\n",
    "import shap\n",
    "\n",
    "from xgboost import XGBClassifier\n",
    "\n",
    "import json\n",
    "\n",
    "from scipy import stats\n",
    "\n",
    "from utils import waterfall"
   ]
  },
  {
   "cell_type": "markdown",
   "id": "13a9a6cd-cbc5-4cb0-a873-93f770039265",
   "metadata": {},
   "source": [
    "## Create output folders if needed"
   ]
  },
  {
   "cell_type": "code",
   "execution_count": 2,
   "id": "a94ff75c-383b-487a-8f13-089000f19acb",
   "metadata": {},
   "outputs": [],
   "source": [
    "path = './saved_models'\n",
    "if not os.path.exists(path):\n",
    "    os.makedirs(path)\n",
    "\n",
    "path = './output'\n",
    "if not os.path.exists(path):\n",
    "    os.makedirs(path)\n",
    "    \n",
    "path = './predictions'\n",
    "if not os.path.exists(path):\n",
    "    os.makedirs(path)   "
   ]
  },
  {
   "cell_type": "markdown",
   "id": "85faa2a4-55f7-492f-888f-b43583cc838e",
   "metadata": {},
   "source": [
    "## Read in JSON file\n",
    "\n",
    "Contains a dictionary for plain English feature names for the 8 features selected in the model. Use these as the column titles in the DataFrame."
   ]
  },
  {
   "cell_type": "code",
   "execution_count": 3,
   "id": "fe0e0b42-7761-4a25-81cb-a3bdb8a61158",
   "metadata": {},
   "outputs": [],
   "source": [
    "with open(\"./output/feature_name_dict.json\") as json_file:\n",
    "    feature_name_dict = json.load(json_file)"
   ]
  },
  {
   "cell_type": "markdown",
   "id": "af52db97",
   "metadata": {},
   "source": [
    "## Load data\n",
    "\n",
    "Data has previously been split into 5 stratified k-fold splits."
   ]
  },
  {
   "cell_type": "code",
   "execution_count": 4,
   "id": "c734e820-d387-4c90-bca0-b963e0fd6041",
   "metadata": {},
   "outputs": [],
   "source": [
    "data_loc = '../data/kfold_5fold/'"
   ]
  },
  {
   "cell_type": "code",
   "execution_count": 5,
   "id": "65281d80",
   "metadata": {},
   "outputs": [],
   "source": [
    "# Initialise empty lists\n",
    "train_data, test_data = [], []\n",
    "\n",
    "# Read in the names of the selected features for the model\n",
    "number_of_features_to_use = 8\n",
    "key_features = pd.read_csv('./output/feature_selection.csv')\n",
    "key_features = list(key_features['feature'])[:number_of_features_to_use]\n",
    "# And add the target feature name: S2Thrombolysis\n",
    "key_features.append('S2Thrombolysis')\n",
    "\n",
    "# For each k-fold split\n",
    "for i in range(5):\n",
    "    # Read in training set, restrict to chosen features, rename titles, & store\n",
    "    train = pd.read_csv(data_loc + 'train_{0}.csv'.format(i))\n",
    "    train = train[key_features]\n",
    "    train.rename(columns=feature_name_dict, inplace=True)\n",
    "    train_data.append(train)\n",
    "    # Read in test set, restrict to chosen features, rename titles, & store\n",
    "    test = pd.read_csv(data_loc + 'test_{0}.csv'.format(i))\n",
    "    test = test[key_features]\n",
    "    test.rename(columns=feature_name_dict, inplace=True)\n",
    "    test_data.append(test)"
   ]
  },
  {
   "cell_type": "markdown",
   "id": "7f2fcacb",
   "metadata": {},
   "source": [
    "## Fit XGBoost model\n",
    "\n",
    "Fit XGBoost model for each k-fold training/test split, and get feature importance values (a value per feature, per model from each k-fold split)"
   ]
  },
  {
   "cell_type": "code",
   "execution_count": 6,
   "id": "ea32bce5",
   "metadata": {},
   "outputs": [
    {
     "name": "stdout",
     "output_type": "stream",
     "text": [
      "Accuracy k-fold 1: 0.846\n",
      "Accuracy k-fold 2: 0.853\n",
      "Accuracy k-fold 3: 0.845\n",
      "Accuracy k-fold 4: 0.849\n",
      "Accuracy k-fold 5: 0.844\n"
     ]
    }
   ],
   "source": [
    "# Fit models (True), or load models (False)\n",
    "fit_models = False\n",
    "\n",
    "# Set up lists for k-fold fits\n",
    "model_kfold = []\n",
    "importances_kfold = []\n",
    "y_pred_kfold = []\n",
    "y_prob_kfold = []\n",
    "X_train_kfold = []\n",
    "X_test_kfold = []\n",
    "y_train_kfold = []\n",
    "y_test_kfold = []\n",
    "\n",
    "# For each k-fold split\n",
    "for k in range(5):\n",
    "    # Get X and y\n",
    "    X_train = train_data[k].drop('Thrombolysis', axis=1)\n",
    "    X_test = test_data[k].drop('Thrombolysis', axis=1)\n",
    "    y_train = train_data[k]['Thrombolysis']\n",
    "    y_test = test_data[k]['Thrombolysis']\n",
    "\n",
    "    # One hot encode hospitals\n",
    "    X_train_hosp = pd.get_dummies(X_train['Stroke team'], prefix = 'team')\n",
    "    X_train = pd.concat([X_train, X_train_hosp], axis=1)\n",
    "    X_train.drop('Stroke team', axis=1, inplace=True)\n",
    "    X_test_hosp = pd.get_dummies(X_test['Stroke team'], prefix = 'team')\n",
    "    X_test = pd.concat([X_test, X_test_hosp], axis=1)\n",
    "    X_test.drop('Stroke team', axis=1, inplace=True)\n",
    "    \n",
    "    # Store processed X and y\n",
    "    X_train_kfold.append(X_train)\n",
    "    X_test_kfold.append(X_test)\n",
    "    y_train_kfold.append(y_train)\n",
    "    y_test_kfold.append(y_test)\n",
    "    \n",
    "    if fit_models:\n",
    "        # Define and Fit model\n",
    "        model = XGBClassifier(verbosity = 0, seed=42, learning_rate=0.5)\n",
    "        model.fit(X_train, y_train)\n",
    "        model_kfold.append(model)\n",
    "\n",
    "        # Save using pickle\n",
    "        filename = f'./saved_models/combined_xgb_model_key_features_{k}.p'\n",
    "        with open(filename, 'wb') as filehandler:\n",
    "            pickle.dump(model, filehandler)\n",
    "    \n",
    "    else:\n",
    "        # Load models\n",
    "        filename = f'./saved_models/combined_xgb_model_key_features_{k}.p'\n",
    "        with open(filename, 'rb') as filehandler:\n",
    "            model = pickle.load(filehandler)\n",
    "            model_kfold.append(model)        \n",
    "\n",
    "    # Get and store feature importance values\n",
    "    features = list(X_train)\n",
    "    feature_importances = model.feature_importances_\n",
    "    importances = pd.DataFrame(index=features)\n",
    "    importances['importance'] = feature_importances\n",
    "    importances['rank'] = importances['importance'].rank(ascending=False).values\n",
    "    importances_kfold.append(importances)\n",
    "\n",
    "    # Get and store predicted class and probability\n",
    "    y_pred = model.predict(X_test)\n",
    "    y_pred_kfold.append(y_pred)\n",
    "    y_prob = model.predict_proba(X_test)[:, 1]\n",
    "    y_prob_kfold.append(y_prob)\n",
    "\n",
    "    # Measure accuracy for this k-fold model\n",
    "    accuracy = np.mean(y_pred == y_test)\n",
    "    print(f'Accuracy k-fold {k+1}: {accuracy:0.3f}')"
   ]
  },
  {
   "cell_type": "markdown",
   "id": "e386af08",
   "metadata": {},
   "source": [
    "## SHAP values\n",
    "\n",
    "We will use the shap library: https://shap.readthedocs.io/en/latest/index.html\n",
    "\n",
    "'Raw' SHAP values from XGBoost model are log odds ratios.\n",
    "A SHAP value is returned for each feature, for each instance, for each model (one per k-fold)\n",
    "\n",
    "### Get SHAP values"
   ]
  },
  {
   "cell_type": "code",
   "execution_count": 7,
   "id": "30c7d455",
   "metadata": {},
   "outputs": [],
   "source": [
    "calculate_shap_values = False # Otherwise load SHAP values\n",
    "\n",
    "# Initialise empty lists\n",
    "k_fold_shap_values_extended = []\n",
    "k_fold_shap_values = []\n",
    "\n",
    "# For each k-fold split\n",
    "for k in range(5):\n",
    "    if calculate_shap_values:\n",
    "        # Calculate SHAP values\n",
    "        \n",
    "        # Set up explainer using the model and feature values from training set\n",
    "        explainer = shap.TreeExplainer(model_kfold[k], X_train_kfold[k])\n",
    "\n",
    "        # Get (and store) Shapley values along with base and feature values\n",
    "        shap_values_extended = explainer(X_test_kfold[k])\n",
    "        k_fold_shap_values_extended.append(shap_values_extended)\n",
    "        # Shap values exist for each classification in a Tree\n",
    "        # We are interested in 1=give thrombolysis (not 0=not give thrombolysis)\n",
    "        shap_values = shap_values_extended.values\n",
    "        k_fold_shap_values.append(shap_values)        \n",
    "\n",
    "        # Save using pickle\n",
    "        filename = f'./output/shap_values_extended_xgb_key_features_{k}.p'\n",
    "        with open(filename, 'wb') as filehandler:\n",
    "            pickle.dump(shap_values_extended, filehandler)\n",
    "        \n",
    "        # Print progress\n",
    "        print (f'Completed {k+1} of 5')\n",
    "        \n",
    "    else:\n",
    "        # Load explainer\n",
    "        filename = f'./output/shap_values_extended_xgb_key_features_{k}.p'\n",
    "        with open(filename, 'rb') as filehandler:\n",
    "            shap_values_extended = pickle.load(filehandler)\n",
    "            k_fold_shap_values_extended.append(shap_values_extended)\n",
    "            k_fold_shap_values.append(shap_values_extended.values)"
   ]
  },
  {
   "cell_type": "markdown",
   "id": "6e740e69-9622-480b-bfc8-c198bae45626",
   "metadata": {},
   "source": [
    "### Get average SHAP values for each k-fold\n",
    "\n",
    "For each k-fold split, calculate the mean SHAP value for each feature (across all instances).\n",
    "The mean is calculated in three ways:\n",
    "* mean of raw values\n",
    "* mean of absolute values\n",
    "* absolute of mean of raw values"
   ]
  },
  {
   "cell_type": "code",
   "execution_count": 8,
   "id": "f9caa2b7-3113-4678-b9d1-7d01d60df840",
   "metadata": {},
   "outputs": [],
   "source": [
    "# Initialise empty lists\n",
    "shap_values_mean_kfold = []\n",
    "\n",
    "# For each k-fold split\n",
    "for k in range(5):\n",
    "    # Calculate mean SHAP value for each feature (across all instances)\n",
    "    shap_values = k_fold_shap_values[k]\n",
    "    shap_values_mean = pd.DataFrame(index=features)\n",
    "    shap_values_mean['mean_shap'] = np.mean(shap_values, axis=0)\n",
    "    shap_values_mean['abs_mean_shap'] = np.abs(shap_values_mean)\n",
    "    shap_values_mean['mean_abs_shap'] = np.mean(np.abs(shap_values), axis=0)\n",
    "    shap_values_mean['rank'] = shap_values_mean['mean_abs_shap'].rank(\n",
    "        ascending=False).values\n",
    "    shap_values_mean.sort_index()\n",
    "    shap_values_mean_kfold.append(shap_values_mean)"
   ]
  },
  {
   "cell_type": "markdown",
   "id": "12cb401e-5733-45e9-b3df-b8b83f624bd7",
   "metadata": {},
   "source": [
    "### Examine consistency of SHAP values across k-fold splits\n",
    "\n",
    "A model is fitted to each k-fold split, and SHAP values are obtained for each model. This next section assesses the range of SHAP values (mean |SHAP|) for each feature across the k-fold splits."
   ]
  },
  {
   "cell_type": "code",
   "execution_count": 9,
   "id": "068ce4bd-7b0b-4f15-9eb5-3b32eca3272e",
   "metadata": {},
   "outputs": [],
   "source": [
    "# Initialise DataFrame (stores mean of the absolute SHAP values for each kfold)\n",
    "mean_abs_shap = pd.DataFrame()\n",
    "\n",
    "# For each k-fold split\n",
    "for k in range(5):\n",
    "    # mean of the absolute SHAP values for each k-fold split\n",
    "    mean_abs_shap[f'{k}'] = shap_values_mean_kfold[k]['mean_abs_shap']"
   ]
  },
  {
   "cell_type": "code",
   "execution_count": 10,
   "id": "94bd3154-bf0e-4a3b-8b57-670e3d270ba4",
   "metadata": {},
   "outputs": [
    {
     "data": {
      "text/html": [
       "<div>\n",
       "<style scoped>\n",
       "    .dataframe tbody tr th:only-of-type {\n",
       "        vertical-align: middle;\n",
       "    }\n",
       "\n",
       "    .dataframe tbody tr th {\n",
       "        vertical-align: top;\n",
       "    }\n",
       "\n",
       "    .dataframe thead th {\n",
       "        text-align: right;\n",
       "    }\n",
       "</style>\n",
       "<table border=\"1\" class=\"dataframe\">\n",
       "  <thead>\n",
       "    <tr style=\"text-align: right;\">\n",
       "      <th></th>\n",
       "      <th>0</th>\n",
       "      <th>1</th>\n",
       "      <th>2</th>\n",
       "      <th>3</th>\n",
       "      <th>4</th>\n",
       "    </tr>\n",
       "  </thead>\n",
       "  <tbody>\n",
       "    <tr>\n",
       "      <th>Arrival-to-scan time</th>\n",
       "      <td>1.244143</td>\n",
       "      <td>1.161219</td>\n",
       "      <td>1.050302</td>\n",
       "      <td>1.045449</td>\n",
       "      <td>1.015622</td>\n",
       "    </tr>\n",
       "    <tr>\n",
       "      <th>Infarction</th>\n",
       "      <td>2.259876</td>\n",
       "      <td>2.219784</td>\n",
       "      <td>2.136264</td>\n",
       "      <td>2.167213</td>\n",
       "      <td>2.145942</td>\n",
       "    </tr>\n",
       "    <tr>\n",
       "      <th>Stroke severity</th>\n",
       "      <td>0.971404</td>\n",
       "      <td>0.897691</td>\n",
       "      <td>0.997946</td>\n",
       "      <td>0.952578</td>\n",
       "      <td>0.984440</td>\n",
       "    </tr>\n",
       "    <tr>\n",
       "      <th>Precise onset time</th>\n",
       "      <td>0.644974</td>\n",
       "      <td>0.599893</td>\n",
       "      <td>0.577417</td>\n",
       "      <td>0.612413</td>\n",
       "      <td>0.608663</td>\n",
       "    </tr>\n",
       "    <tr>\n",
       "      <th>Prior disability level</th>\n",
       "      <td>0.464659</td>\n",
       "      <td>0.469118</td>\n",
       "      <td>0.485589</td>\n",
       "      <td>0.471484</td>\n",
       "      <td>0.438499</td>\n",
       "    </tr>\n",
       "    <tr>\n",
       "      <th>...</th>\n",
       "      <td>...</td>\n",
       "      <td>...</td>\n",
       "      <td>...</td>\n",
       "      <td>...</td>\n",
       "      <td>...</td>\n",
       "    </tr>\n",
       "    <tr>\n",
       "      <th>team_YPKYH1768F</th>\n",
       "      <td>0.001261</td>\n",
       "      <td>0.002096</td>\n",
       "      <td>0.001029</td>\n",
       "      <td>0.000489</td>\n",
       "      <td>0.000941</td>\n",
       "    </tr>\n",
       "    <tr>\n",
       "      <th>team_YQMZV4284N</th>\n",
       "      <td>0.001066</td>\n",
       "      <td>0.001439</td>\n",
       "      <td>0.001043</td>\n",
       "      <td>0.000956</td>\n",
       "      <td>0.000903</td>\n",
       "    </tr>\n",
       "    <tr>\n",
       "      <th>team_ZBVSO0975W</th>\n",
       "      <td>0.002313</td>\n",
       "      <td>0.005012</td>\n",
       "      <td>0.006502</td>\n",
       "      <td>0.001933</td>\n",
       "      <td>0.008406</td>\n",
       "    </tr>\n",
       "    <tr>\n",
       "      <th>team_ZHCLE1578P</th>\n",
       "      <td>0.007511</td>\n",
       "      <td>0.002956</td>\n",
       "      <td>0.006738</td>\n",
       "      <td>0.003115</td>\n",
       "      <td>0.005115</td>\n",
       "    </tr>\n",
       "    <tr>\n",
       "      <th>team_ZRRCV7012C</th>\n",
       "      <td>0.013411</td>\n",
       "      <td>0.011068</td>\n",
       "      <td>0.004028</td>\n",
       "      <td>0.005991</td>\n",
       "      <td>0.012702</td>\n",
       "    </tr>\n",
       "  </tbody>\n",
       "</table>\n",
       "<p>139 rows × 5 columns</p>\n",
       "</div>"
      ],
      "text/plain": [
       "                               0         1         2         3         4\n",
       "Arrival-to-scan time    1.244143  1.161219  1.050302  1.045449  1.015622\n",
       "Infarction              2.259876  2.219784  2.136264  2.167213  2.145942\n",
       "Stroke severity         0.971404  0.897691  0.997946  0.952578  0.984440\n",
       "Precise onset time      0.644974  0.599893  0.577417  0.612413  0.608663\n",
       "Prior disability level  0.464659  0.469118  0.485589  0.471484  0.438499\n",
       "...                          ...       ...       ...       ...       ...\n",
       "team_YPKYH1768F         0.001261  0.002096  0.001029  0.000489  0.000941\n",
       "team_YQMZV4284N         0.001066  0.001439  0.001043  0.000956  0.000903\n",
       "team_ZBVSO0975W         0.002313  0.005012  0.006502  0.001933  0.008406\n",
       "team_ZHCLE1578P         0.007511  0.002956  0.006738  0.003115  0.005115\n",
       "team_ZRRCV7012C         0.013411  0.011068  0.004028  0.005991  0.012702\n",
       "\n",
       "[139 rows x 5 columns]"
      ]
     },
     "execution_count": 10,
     "metadata": {},
     "output_type": "execute_result"
    }
   ],
   "source": [
    "mean_abs_shap"
   ]
  },
  {
   "cell_type": "markdown",
   "id": "e38ea2c5-43a8-4852-8e27-d03b56bac480",
   "metadata": {},
   "source": [
    "Create (and show) a dataframe that stores the min, median, and max SHAP values for each feature across the 5 k-fold splits"
   ]
  },
  {
   "cell_type": "code",
   "execution_count": 11,
   "id": "46c2b1a8-6d6f-4aa7-8e9b-6b0fd71e0a0e",
   "metadata": {},
   "outputs": [],
   "source": [
    "mean_abs_shap_summary = pd.DataFrame()\n",
    "mean_abs_shap_summary['min'] = mean_abs_shap.min(axis=1)\n",
    "mean_abs_shap_summary['median'] = mean_abs_shap.median(axis=1) \n",
    "mean_abs_shap_summary['max'] = mean_abs_shap.max(axis=1)\n",
    "mean_abs_shap_summary.sort_values('median', inplace=True, ascending=False)"
   ]
  },
  {
   "cell_type": "code",
   "execution_count": 12,
   "id": "f3b8383b-7e0b-4d75-a05e-90679421b5b1",
   "metadata": {},
   "outputs": [
    {
     "data": {
      "text/html": [
       "<div>\n",
       "<style scoped>\n",
       "    .dataframe tbody tr th:only-of-type {\n",
       "        vertical-align: middle;\n",
       "    }\n",
       "\n",
       "    .dataframe tbody tr th {\n",
       "        vertical-align: top;\n",
       "    }\n",
       "\n",
       "    .dataframe thead th {\n",
       "        text-align: right;\n",
       "    }\n",
       "</style>\n",
       "<table border=\"1\" class=\"dataframe\">\n",
       "  <thead>\n",
       "    <tr style=\"text-align: right;\">\n",
       "      <th></th>\n",
       "      <th>min</th>\n",
       "      <th>median</th>\n",
       "      <th>max</th>\n",
       "    </tr>\n",
       "  </thead>\n",
       "  <tbody>\n",
       "    <tr>\n",
       "      <th>Infarction</th>\n",
       "      <td>2.136264</td>\n",
       "      <td>2.167213</td>\n",
       "      <td>2.259876</td>\n",
       "    </tr>\n",
       "    <tr>\n",
       "      <th>Arrival-to-scan time</th>\n",
       "      <td>1.015622</td>\n",
       "      <td>1.050302</td>\n",
       "      <td>1.244143</td>\n",
       "    </tr>\n",
       "    <tr>\n",
       "      <th>Stroke severity</th>\n",
       "      <td>0.897691</td>\n",
       "      <td>0.971404</td>\n",
       "      <td>0.997946</td>\n",
       "    </tr>\n",
       "    <tr>\n",
       "      <th>Precise onset time</th>\n",
       "      <td>0.577417</td>\n",
       "      <td>0.608663</td>\n",
       "      <td>0.644974</td>\n",
       "    </tr>\n",
       "    <tr>\n",
       "      <th>Prior disability level</th>\n",
       "      <td>0.438499</td>\n",
       "      <td>0.469118</td>\n",
       "      <td>0.485589</td>\n",
       "    </tr>\n",
       "    <tr>\n",
       "      <th>...</th>\n",
       "      <td>...</td>\n",
       "      <td>...</td>\n",
       "      <td>...</td>\n",
       "    </tr>\n",
       "    <tr>\n",
       "      <th>team_WSFVN0229E</th>\n",
       "      <td>0.000000</td>\n",
       "      <td>0.000439</td>\n",
       "      <td>0.001835</td>\n",
       "    </tr>\n",
       "    <tr>\n",
       "      <th>team_APXEE8191H</th>\n",
       "      <td>0.000336</td>\n",
       "      <td>0.000425</td>\n",
       "      <td>0.008395</td>\n",
       "    </tr>\n",
       "    <tr>\n",
       "      <th>team_WSNTP4114A</th>\n",
       "      <td>0.000213</td>\n",
       "      <td>0.000422</td>\n",
       "      <td>0.000613</td>\n",
       "    </tr>\n",
       "    <tr>\n",
       "      <th>team_QTELJ8888W</th>\n",
       "      <td>0.000000</td>\n",
       "      <td>0.000000</td>\n",
       "      <td>0.002636</td>\n",
       "    </tr>\n",
       "    <tr>\n",
       "      <th>team_JXJYG0100P</th>\n",
       "      <td>0.000000</td>\n",
       "      <td>0.000000</td>\n",
       "      <td>0.000215</td>\n",
       "    </tr>\n",
       "  </tbody>\n",
       "</table>\n",
       "<p>139 rows × 3 columns</p>\n",
       "</div>"
      ],
      "text/plain": [
       "                             min    median       max\n",
       "Infarction              2.136264  2.167213  2.259876\n",
       "Arrival-to-scan time    1.015622  1.050302  1.244143\n",
       "Stroke severity         0.897691  0.971404  0.997946\n",
       "Precise onset time      0.577417  0.608663  0.644974\n",
       "Prior disability level  0.438499  0.469118  0.485589\n",
       "...                          ...       ...       ...\n",
       "team_WSFVN0229E         0.000000  0.000439  0.001835\n",
       "team_APXEE8191H         0.000336  0.000425  0.008395\n",
       "team_WSNTP4114A         0.000213  0.000422  0.000613\n",
       "team_QTELJ8888W         0.000000  0.000000  0.002636\n",
       "team_JXJYG0100P         0.000000  0.000000  0.000215\n",
       "\n",
       "[139 rows x 3 columns]"
      ]
     },
     "execution_count": 12,
     "metadata": {},
     "output_type": "execute_result"
    }
   ],
   "source": [
    "mean_abs_shap_summary"
   ]
  },
  {
   "cell_type": "markdown",
   "id": "66e4c48a-6678-48b8-879a-c92b43c1e308",
   "metadata": {},
   "source": [
    "Identify the 10 features with the highest SHAP values (in terms of the median of the kfolds of the mean of the absolute SHAP values)"
   ]
  },
  {
   "cell_type": "code",
   "execution_count": 13,
   "id": "7c63582c-26a0-4858-929d-c3762f8bf4ad",
   "metadata": {},
   "outputs": [],
   "source": [
    "top_10_shap = list(mean_abs_shap_summary.head(10).index)"
   ]
  },
  {
   "cell_type": "markdown",
   "id": "18edec67-827c-408e-b6c1-b49e3b4fadaa",
   "metadata": {},
   "source": [
    "Create a violin plot for these 10 features with the highest SHAP values.\n",
    "\n",
    "A violin plot shows the distribution of the SHAP values for each feature across the 5 kfold splits. The bars show the min, median and max values for the feature, and the shaded area around the bars show the density of the data points."
   ]
  },
  {
   "cell_type": "code",
   "execution_count": 14,
   "id": "246bb7a8-3571-41ca-97b4-c4f37ac0c870",
   "metadata": {},
   "outputs": [
    {
     "data": {
      "image/png": "[encoded data removed]",
      "text/plain": [
       "<Figure size 432x432 with 1 Axes>"
      ]
     },
     "metadata": {
      "needs_background": "light"
     },
     "output_type": "display_data"
    }
   ],
   "source": [
    "fig = plt.figure(figsize=(6,6))\n",
    "ax1 = fig.add_subplot(111)\n",
    "ax1.violinplot(mean_abs_shap.loc[top_10_shap].T,\n",
    "               showmedians=True,\n",
    "               widths=1)\n",
    "ax1.set_ylim(0)\n",
    "labels = top_10_shap\n",
    "ax1.set_xticks(np.arange(1, len(labels) + 1))\n",
    "ax1.set_xticklabels(labels, rotation=45, ha='right')\n",
    "ax1.grid(which='both')\n",
    "ax1.set_ylabel('|SHAP value| (log odds)')\n",
    "plt.savefig('output/shap_violin_key_features.jpg', dpi=300, \n",
    "            bbox_inches='tight', pad_inches=0.2)\n",
    "plt.show()"
   ]
  },
  {
   "cell_type": "markdown",
   "id": "0ece472b-9e82-44b9-bd8b-e356973ae041",
   "metadata": {},
   "source": [
    "### Examine the consitency of feature importances across k-fold splits\n",
    "\n",
    "XGBoost algorithm provides a metrc per feature called \"feature importance\".\n",
    "\n",
    "A model is fitted to each k-fold split, and feature importance values are obtained for each model. This next section assesses the range of feature importance values for each feature across the k-fold splits."
   ]
  },
  {
   "cell_type": "code",
   "execution_count": 15,
   "id": "c6c25aa5-bcf4-417a-a014-17916720cae0",
   "metadata": {},
   "outputs": [],
   "source": [
    "# Initialise DataFrame (stores feature importance values for each kfold)\n",
    "importances_df = pd.DataFrame()\n",
    "\n",
    "# For each k-fold\n",
    "for k in range(5):\n",
    "    # feature importance value for each k-fold split\n",
    "    importances_df[f'{k}'] = importances_kfold[k]['importance']"
   ]
  },
  {
   "cell_type": "markdown",
   "id": "5b806f6e-d4f9-4a03-9c46-101b973f6e1a",
   "metadata": {},
   "source": [
    "Create (and show) a dataframe that stores the min, median, and max feature importance value for each feature across the 5 k-fold splits"
   ]
  },
  {
   "cell_type": "code",
   "execution_count": 16,
   "id": "d864f7b0-046b-410d-b12b-b988b32b39b0",
   "metadata": {},
   "outputs": [],
   "source": [
    "importances_summary = pd.DataFrame()\n",
    "importances_summary['min'] = importances_df.min(axis=1)\n",
    "importances_summary['median'] = importances_df.median(axis=1) \n",
    "importances_summary['max'] = importances_df.max(axis=1)\n",
    "importances_summary.sort_values('median', inplace=True, ascending=False)"
   ]
  },
  {
   "cell_type": "code",
   "execution_count": 17,
   "id": "1966d1ae-0250-433a-a3d8-206ce3b2c8e0",
   "metadata": {},
   "outputs": [
    {
     "data": {
      "text/html": [
       "<div>\n",
       "<style scoped>\n",
       "    .dataframe tbody tr th:only-of-type {\n",
       "        vertical-align: middle;\n",
       "    }\n",
       "\n",
       "    .dataframe tbody tr th {\n",
       "        vertical-align: top;\n",
       "    }\n",
       "\n",
       "    .dataframe thead th {\n",
       "        text-align: right;\n",
       "    }\n",
       "</style>\n",
       "<table border=\"1\" class=\"dataframe\">\n",
       "  <thead>\n",
       "    <tr style=\"text-align: right;\">\n",
       "      <th></th>\n",
       "      <th>min</th>\n",
       "      <th>median</th>\n",
       "      <th>max</th>\n",
       "    </tr>\n",
       "  </thead>\n",
       "  <tbody>\n",
       "    <tr>\n",
       "      <th>Infarction</th>\n",
       "      <td>0.342151</td>\n",
       "      <td>0.347804</td>\n",
       "      <td>0.368849</td>\n",
       "    </tr>\n",
       "    <tr>\n",
       "      <th>Use of AF anticoagulents</th>\n",
       "      <td>0.039643</td>\n",
       "      <td>0.047754</td>\n",
       "      <td>0.056500</td>\n",
       "    </tr>\n",
       "    <tr>\n",
       "      <th>Precise onset time</th>\n",
       "      <td>0.025313</td>\n",
       "      <td>0.027453</td>\n",
       "      <td>0.031848</td>\n",
       "    </tr>\n",
       "    <tr>\n",
       "      <th>team_MHMYL4920B</th>\n",
       "      <td>0.011515</td>\n",
       "      <td>0.012891</td>\n",
       "      <td>0.013842</td>\n",
       "    </tr>\n",
       "    <tr>\n",
       "      <th>Stroke severity</th>\n",
       "      <td>0.011592</td>\n",
       "      <td>0.012466</td>\n",
       "      <td>0.013186</td>\n",
       "    </tr>\n",
       "    <tr>\n",
       "      <th>...</th>\n",
       "      <td>...</td>\n",
       "      <td>...</td>\n",
       "      <td>...</td>\n",
       "    </tr>\n",
       "    <tr>\n",
       "      <th>team_VVDIY0129H</th>\n",
       "      <td>0.000413</td>\n",
       "      <td>0.001124</td>\n",
       "      <td>0.002185</td>\n",
       "    </tr>\n",
       "    <tr>\n",
       "      <th>team_FWHZZ0143J</th>\n",
       "      <td>0.000470</td>\n",
       "      <td>0.000582</td>\n",
       "      <td>0.002095</td>\n",
       "    </tr>\n",
       "    <tr>\n",
       "      <th>team_WSFVN0229E</th>\n",
       "      <td>0.000000</td>\n",
       "      <td>0.000362</td>\n",
       "      <td>0.002803</td>\n",
       "    </tr>\n",
       "    <tr>\n",
       "      <th>team_QTELJ8888W</th>\n",
       "      <td>0.000000</td>\n",
       "      <td>0.000000</td>\n",
       "      <td>0.001831</td>\n",
       "    </tr>\n",
       "    <tr>\n",
       "      <th>team_JXJYG0100P</th>\n",
       "      <td>0.000000</td>\n",
       "      <td>0.000000</td>\n",
       "      <td>0.001120</td>\n",
       "    </tr>\n",
       "  </tbody>\n",
       "</table>\n",
       "<p>139 rows × 3 columns</p>\n",
       "</div>"
      ],
      "text/plain": [
       "                               min    median       max\n",
       "Infarction                0.342151  0.347804  0.368849\n",
       "Use of AF anticoagulents  0.039643  0.047754  0.056500\n",
       "Precise onset time        0.025313  0.027453  0.031848\n",
       "team_MHMYL4920B           0.011515  0.012891  0.013842\n",
       "Stroke severity           0.011592  0.012466  0.013186\n",
       "...                            ...       ...       ...\n",
       "team_VVDIY0129H           0.000413  0.001124  0.002185\n",
       "team_FWHZZ0143J           0.000470  0.000582  0.002095\n",
       "team_WSFVN0229E           0.000000  0.000362  0.002803\n",
       "team_QTELJ8888W           0.000000  0.000000  0.001831\n",
       "team_JXJYG0100P           0.000000  0.000000  0.001120\n",
       "\n",
       "[139 rows x 3 columns]"
      ]
     },
     "execution_count": 17,
     "metadata": {},
     "output_type": "execute_result"
    }
   ],
   "source": [
    "importances_summary"
   ]
  },
  {
   "cell_type": "markdown",
   "id": "d93f98af-40e5-4ea5-9e71-604bbfc496dd",
   "metadata": {},
   "source": [
    "Identify the 10 features with the highest feature importance values."
   ]
  },
  {
   "cell_type": "code",
   "execution_count": 18,
   "id": "98f00e3a-deb2-44b8-ac78-d9e2b7fbfacf",
   "metadata": {},
   "outputs": [],
   "source": [
    "top_10_importances = list(importances_summary.head(10).index)"
   ]
  },
  {
   "cell_type": "markdown",
   "id": "8383d5c1-42ed-4127-9b68-649bd8c8b994",
   "metadata": {},
   "source": [
    "Create a violin plot for these 10 features with the highest feature importance values.\n",
    "\n",
    "A violin plot shows the distribution of the feature importance values for each feature across the 5 kfold splits. The bars show the min, median and max values for the feature, and the shaded area around the bars show the density of the data points."
   ]
  },
  {
   "cell_type": "code",
   "execution_count": 19,
   "id": "dcff6388-d7f9-44b2-88dc-c8ec05ce91f4",
   "metadata": {},
   "outputs": [
    {
     "data": {
      "image/png": "[encoded data removed]",
      "text/plain": [
       "<Figure size 432x432 with 1 Axes>"
      ]
     },
     "metadata": {
      "needs_background": "light"
     },
     "output_type": "display_data"
    }
   ],
   "source": [
    "fig = plt.figure(figsize=(6,6))\n",
    "ax1 = fig.add_subplot(111)\n",
    "ax1.violinplot(importances_summary.loc[top_10_importances].T,\n",
    "              showmedians=True,\n",
    "              widths=1)\n",
    "ax1.set_ylim(0)\n",
    "labels = top_10_importances\n",
    "ax1.set_xticks(np.arange(1, len(labels) + 1))\n",
    "ax1.set_xticklabels(labels, rotation=45, ha='right')\n",
    "ax1.grid(which='both')\n",
    "ax1.set_ylabel('Importance')\n",
    "plt.savefig('output/importance_violin_key_features.jpg', dpi=300, \n",
    "            bbox_inches='tight', pad_inches=0.2)\n",
    "plt.show()"
   ]
  },
  {
   "cell_type": "markdown",
   "id": "01f14cbd-2a6c-47ee-93cf-49a9e35fb353",
   "metadata": {},
   "source": [
    "### Compare top 10 SHAP and feature importance values\n",
    "\n",
    "Compare the features (and their values) that make the top 10 when selected by either SHAP values, or feature importance values"
   ]
  },
  {
   "cell_type": "code",
   "execution_count": 20,
   "id": "ce0b2d3d-ce51-4abf-aa03-89c321b98c3d",
   "metadata": {},
   "outputs": [
    {
     "data": {
      "text/html": [
       "<div>\n",
       "<style scoped>\n",
       "    .dataframe tbody tr th:only-of-type {\n",
       "        vertical-align: middle;\n",
       "    }\n",
       "\n",
       "    .dataframe tbody tr th {\n",
       "        vertical-align: top;\n",
       "    }\n",
       "\n",
       "    .dataframe thead th {\n",
       "        text-align: right;\n",
       "    }\n",
       "</style>\n",
       "<table border=\"1\" class=\"dataframe\">\n",
       "  <thead>\n",
       "    <tr style=\"text-align: right;\">\n",
       "      <th></th>\n",
       "      <th>SHAP (feature name)</th>\n",
       "      <th>SHAP (median value)</th>\n",
       "      <th>Importance (feature name)</th>\n",
       "      <th>Importance (median value)</th>\n",
       "    </tr>\n",
       "  </thead>\n",
       "  <tbody>\n",
       "    <tr>\n",
       "      <th>0</th>\n",
       "      <td>Infarction</td>\n",
       "      <td>2.167213</td>\n",
       "      <td>Infarction</td>\n",
       "      <td>0.347804</td>\n",
       "    </tr>\n",
       "    <tr>\n",
       "      <th>1</th>\n",
       "      <td>Arrival-to-scan time</td>\n",
       "      <td>1.050302</td>\n",
       "      <td>Use of AF anticoagulents</td>\n",
       "      <td>0.047754</td>\n",
       "    </tr>\n",
       "    <tr>\n",
       "      <th>2</th>\n",
       "      <td>Stroke severity</td>\n",
       "      <td>0.971404</td>\n",
       "      <td>Precise onset time</td>\n",
       "      <td>0.027453</td>\n",
       "    </tr>\n",
       "    <tr>\n",
       "      <th>3</th>\n",
       "      <td>Precise onset time</td>\n",
       "      <td>0.608663</td>\n",
       "      <td>team_MHMYL4920B</td>\n",
       "      <td>0.012891</td>\n",
       "    </tr>\n",
       "    <tr>\n",
       "      <th>4</th>\n",
       "      <td>Prior disability level</td>\n",
       "      <td>0.469118</td>\n",
       "      <td>Stroke severity</td>\n",
       "      <td>0.012466</td>\n",
       "    </tr>\n",
       "    <tr>\n",
       "      <th>5</th>\n",
       "      <td>Use of AF anticoagulents</td>\n",
       "      <td>0.351979</td>\n",
       "      <td>Prior disability level</td>\n",
       "      <td>0.011766</td>\n",
       "    </tr>\n",
       "    <tr>\n",
       "      <th>6</th>\n",
       "      <td>Onset-to-arrival time</td>\n",
       "      <td>0.305040</td>\n",
       "      <td>Arrival-to-scan time</td>\n",
       "      <td>0.011375</td>\n",
       "    </tr>\n",
       "    <tr>\n",
       "      <th>7</th>\n",
       "      <td>team_VKKDD9172T</td>\n",
       "      <td>0.034521</td>\n",
       "      <td>team_GKONI0110I</td>\n",
       "      <td>0.010816</td>\n",
       "    </tr>\n",
       "    <tr>\n",
       "      <th>8</th>\n",
       "      <td>team_IYJHY1440E</td>\n",
       "      <td>0.027590</td>\n",
       "      <td>team_LECHF1024T</td>\n",
       "      <td>0.010366</td>\n",
       "    </tr>\n",
       "    <tr>\n",
       "      <th>9</th>\n",
       "      <td>team_XDAFB7350M</td>\n",
       "      <td>0.021129</td>\n",
       "      <td>team_XKAWN3771U</td>\n",
       "      <td>0.010366</td>\n",
       "    </tr>\n",
       "  </tbody>\n",
       "</table>\n",
       "</div>"
      ],
      "text/plain": [
       "        SHAP (feature name)  SHAP (median value) Importance (feature name)  \\\n",
       "0                Infarction             2.167213                Infarction   \n",
       "1      Arrival-to-scan time             1.050302  Use of AF anticoagulents   \n",
       "2           Stroke severity             0.971404        Precise onset time   \n",
       "3        Precise onset time             0.608663           team_MHMYL4920B   \n",
       "4    Prior disability level             0.469118           Stroke severity   \n",
       "5  Use of AF anticoagulents             0.351979    Prior disability level   \n",
       "6     Onset-to-arrival time             0.305040      Arrival-to-scan time   \n",
       "7           team_VKKDD9172T             0.034521           team_GKONI0110I   \n",
       "8           team_IYJHY1440E             0.027590           team_LECHF1024T   \n",
       "9           team_XDAFB7350M             0.021129           team_XKAWN3771U   \n",
       "\n",
       "   Importance (median value)  \n",
       "0                   0.347804  \n",
       "1                   0.047754  \n",
       "2                   0.027453  \n",
       "3                   0.012891  \n",
       "4                   0.012466  \n",
       "5                   0.011766  \n",
       "6                   0.011375  \n",
       "7                   0.010816  \n",
       "8                   0.010366  \n",
       "9                   0.010366  "
      ]
     },
     "execution_count": 20,
     "metadata": {},
     "output_type": "execute_result"
    }
   ],
   "source": [
    "compare_shap_importance = pd.DataFrame()\n",
    "compare_shap_importance['SHAP (feature name)'] = \\\n",
    "                            mean_abs_shap_summary.index\n",
    "compare_shap_importance['SHAP (median value)']  = \\\n",
    "                            mean_abs_shap_summary['median'].values\n",
    "compare_shap_importance['Importance (feature name)'] = \\\n",
    "                                importances_summary.index\n",
    "compare_shap_importance['Importance (median value)'] = \\\n",
    "                            importances_summary['median'].values\n",
    "compare_shap_importance.head(10)"
   ]
  },
  {
   "cell_type": "markdown",
   "id": "5ac9120d-e86c-481a-a93a-c93877344876",
   "metadata": {},
   "source": [
    "Plot all of the features, showing feature importance vs SHAP values."
   ]
  },
  {
   "cell_type": "code",
   "execution_count": 21,
   "id": "af8ef87e-d931-49f5-ac48-5d03c9564061",
   "metadata": {},
   "outputs": [
    {
     "data": {
      "image/png": "[encoded data removed]",
      "text/plain": [
       "<Figure size 432x432 with 1 Axes>"
      ]
     },
     "metadata": {
      "needs_background": "light"
     },
     "output_type": "display_data"
    }
   ],
   "source": [
    "shap_importance = pd.DataFrame()\n",
    "shap_importance['Shap'] = mean_abs_shap_summary['median']\n",
    "shap_importance = shap_importance.merge(\n",
    "    importances_summary['median'], left_index=True, right_index=True)\n",
    "shap_importance.rename(columns={'median':'Importance'}, inplace=True)\n",
    "shap_importance.sort_values('Shap', inplace=True, ascending=False)\n",
    "\n",
    "fig = plt.figure(figsize=(6,6))\n",
    "ax1 = fig.add_subplot(111)\n",
    "ax1.scatter(shap_importance['Shap'],\n",
    "            shap_importance['Importance'])\n",
    "ax1.set_xscale('log')\n",
    "ax1.set_yscale('log')\n",
    "ax1.set_xlabel('SHAP value (median of the k-folds [mean |Shap|])')\n",
    "ax1.set_ylabel('Importance values (median of the k-folds)')\n",
    "ax1.grid()\n",
    "plt.savefig('output/shap_importance_correlation_key_features.jpg', dpi=300)\n",
    "plt.show()"
   ]
  },
  {
   "cell_type": "markdown",
   "id": "a202c2bc-0e5b-4ab7-bdf1-5c0e9963a3b8",
   "metadata": {},
   "source": [
    "## SHAP values in more detail, using the first k-fold\n",
    "\n",
    "Having established that SHAP values have good consistency across k-fold splits, here we show more detail on SHAP using the first k-fold split.\n",
    "\n",
    "First, get the key values from the first k fold split"
   ]
  },
  {
   "cell_type": "code",
   "execution_count": 22,
   "id": "499cf08c-7edf-4c56-bd08-54404f54f22f",
   "metadata": {},
   "outputs": [],
   "source": [
    "k = 0\n",
    "model = model_kfold[k]\n",
    "shap_values = k_fold_shap_values[k]\n",
    "shap_values_extended = k_fold_shap_values_extended[k]\n",
    "importances = importances_kfold[k]\n",
    "y_pred = y_pred_kfold[k]\n",
    "y_prob = y_prob_kfold[k]\n",
    "X_train = X_train_kfold[k]\n",
    "X_test = X_test_kfold[k]\n",
    "y_train = y_train_kfold[k]\n",
    "y_test = y_test_kfold[k]"
   ]
  },
  {
   "cell_type": "markdown",
   "id": "f34ae061-1ccd-476b-9068-85a1e363eb2a",
   "metadata": {},
   "source": [
    "### View the global case: Beeswarm plot\n",
    "\n",
    "A Beeswarm plot shows data for all instances. \n",
    "\n",
    "The feature value for each point is shown by the colour, and its position indicates the SHAP value for that instance.\n",
    "\n",
    "Beeswarm plots are used to get a global picture of how the feature value interacts with it's SHAP value."
   ]
  },
  {
   "cell_type": "code",
   "execution_count": 23,
   "id": "1605df67",
   "metadata": {},
   "outputs": [
    {
     "data": {
      "image/png": "[encoded data removed]",
      "text/plain": [
       "<Figure size 576x338.4 with 2 Axes>"
      ]
     },
     "metadata": {
      "needs_background": "light"
     },
     "output_type": "display_data"
    }
   ],
   "source": [
    "fig = plt.figure(figsize=(6,6))\n",
    "\n",
    "shap.summary_plot(shap_values=shap_values, \n",
    "                  features=X_test,\n",
    "                  feature_names=features,\n",
    "                  max_display=8,\n",
    "                  cmap=plt.get_cmap('nipy_spectral'), show=False)\n",
    "plt.savefig('output/xgb_beeswarm_key_features.jpg', dpi=300, bbox_inches='tight', \n",
    "            pad_inches=0.2)\n",
    "plt.show()"
   ]
  },
  {
   "cell_type": "markdown",
   "id": "4cab91e8-0453-4859-bccf-c07ac35cc4cf",
   "metadata": {},
   "source": [
    "### View the individual case: Waterfall plots \n",
    "(showing log odds ratio)\n",
    "\n",
    "Waterfall plots are ways of plotting the influence of features for individual cases. Here we show them for two instances: one with low, and one with high probability of receiving thrombolysis.\n",
    "\n",
    "For both cases, the prediction starts at the base SHAP value (the expected value for each instance, without knowing any information of their features). This is at the bottom of the graph. Each bar shows the contribution to the prediction due to an individual feature value. Until all have added their contribution at the top of the graph. The final prediction.\n",
    "\n",
    "Note: A decision plot is an alternative method of showing the same data. For further information see here: \n",
    "https://shap.readthedocs.io/en/latest/example_notebooks/api_examples/plots/decision_plot.html"
   ]
  },
  {
   "cell_type": "code",
   "execution_count": 24,
   "id": "8ff1bc0c",
   "metadata": {},
   "outputs": [],
   "source": [
    "# Get the location of an example each where probability of giving thrombolysis\n",
    "# is <0.1 or >0.9\n",
    "location_low_probability = np.where(y_prob <0.1)[0][0]\n",
    "location_high_probability = np.where(y_prob > 0.9)[0][0]"
   ]
  },
  {
   "cell_type": "markdown",
   "id": "141b7904-979b-4b77-8cb4-cd1d944c25ec",
   "metadata": {},
   "source": [
    "A waterfall plot example with low probability of receiving thrombolysis (showing log odds ratio)."
   ]
  },
  {
   "cell_type": "code",
   "execution_count": 25,
   "id": "34243aa4-e053-4ae7-af5f-61843fb5966c",
   "metadata": {},
   "outputs": [
    {
     "data": {
      "image/png": "[encoded data removed]",
      "text/plain": [
       "<Figure size 576x396 with 3 Axes>"
      ]
     },
     "metadata": {},
     "output_type": "display_data"
    }
   ],
   "source": [
    "fig = waterfall.waterfall(shap_values_extended[location_low_probability],\n",
    "                           show=False, max_display=8, y_reverse=True)\n",
    "plt.savefig('output/xgb_waterfall_low_key_features.jpg', \n",
    "            dpi=300, bbox_inches='tight', pad_inches=0.2)\n",
    "plt.show()"
   ]
  },
  {
   "cell_type": "markdown",
   "id": "17b9941e-39fd-40fa-a700-44a341459ea3",
   "metadata": {},
   "source": [
    "An waterfall plot example with high probability of receiving thrombolysis (showing log odds ratio)."
   ]
  },
  {
   "cell_type": "code",
   "execution_count": 26,
   "id": "06f1a4c1",
   "metadata": {},
   "outputs": [
    {
     "data": {
      "image/png": "[encoded data removed]",
      "text/plain": [
       "<Figure size 576x396 with 3 Axes>"
      ]
     },
     "metadata": {},
     "output_type": "display_data"
    }
   ],
   "source": [
    "fig = waterfall.waterfall(shap_values_extended[location_high_probability],\n",
    "                           show=False, max_display=8, y_reverse=True)\n",
    "plt.savefig('output/xgb_waterfall_high_key_features.jpg', \n",
    "            dpi=300, bbox_inches='tight', pad_inches=0.2)\n",
    "plt.show()"
   ]
  },
  {
   "cell_type": "markdown",
   "id": "e045c947-b50a-4c69-999e-fd61c0709869",
   "metadata": {},
   "source": [
    "### View the individual case: Waterfall plots \n",
    "(showing probabilities)\n",
    "\n",
    "Though SHAP values for XGBoost most accurately describe the effect on log odds ratio of classification, it may be easier for people to understand influence of features using probabilities. Here we plot the same waterfall plots using probabilities.\n",
    "\n",
    "A disadvantage of this method is that it distorts the influence of features somewhat - those features pushing the probability down from a low level to an even lower level get 'squashed' in apparent importance. This distortion is avoided when plotting log odds ratio, but at the cost of using an output that is poorly understandable by many.\n",
    "\n",
    "Here we show the same two instances, with probability rather than log odds ratio."
   ]
  },
  {
   "cell_type": "code",
   "execution_count": 28,
   "id": "9dd33d12-f953-4ee2-b119-546ee4832297",
   "metadata": {},
   "outputs": [
    {
     "name": "stderr",
     "output_type": "stream",
     "text": [
      " 99%|===================| 17543/17759 [00:32<00:00]        "
     ]
    }
   ],
   "source": [
    "calculate_shap_values_probability = False # Otherwise load SHAP values\n",
    "\n",
    "if calculate_shap_values_probability:\n",
    "    # Calculate SHAP values\n",
    "    # Set up explainer using typical feature values from training set\n",
    "    explainer_probability = shap.TreeExplainer(model, X_train, \n",
    "                                               model_output='probability')\n",
    "    \n",
    "    # Get Shapley values along with base and features\n",
    "    shap_values_probability_extended = explainer_probability(X_test)\n",
    "    # Shap values exist for each classification in a Tree\n",
    "    shap_values_probability = shap_values_probability_extended.values\n",
    "\n",
    "    # Save using pickle\n",
    "    filename = (f'./output/'\n",
    "                f'shap_values_probability_extended_xgb_key_features_{k}.p')\n",
    "    with open(filename, 'wb') as filehandler:\n",
    "        pickle.dump(shap_values_probability_extended, filehandler)\n",
    "else:\n",
    "    # Load explainer\n",
    "    filename = (f'./output/'\n",
    "                shap_values_probability_extended_xgb_key_features_{k}.p')\n",
    "    with open(filename, 'rb') as filehandler:\n",
    "        shap_values_probability_extended = pickle.load(filehandler)\n",
    "        shap_values_probability = shap_values_probability_extended.values"
   ]
  },
  {
   "cell_type": "markdown",
   "id": "ad56a5db-d8b3-46ae-bd34-30d53f54f1e7",
   "metadata": {},
   "source": [
    "A waterfall plot example with low probability of receiving thrombolysis (showing probabilites)."
   ]
  },
  {
   "cell_type": "code",
   "execution_count": null,
   "id": "668814bd-49f3-460c-b8b2-8a69cbcd18e5",
   "metadata": {},
   "outputs": [],
   "source": [
    "fig = waterfall.waterfall(shap_values_probability_extended[location_low_probability],\n",
    "                           show=False, max_display=8, y_reverse=True)\n",
    "plt.savefig('output/xgb_waterfall_low_probability_key_features.jpg',\n",
    "            dpi=300, bbox_inches='tight', pad_inches=0.2)\n",
    "plt.show()"
   ]
  },
  {
   "cell_type": "markdown",
   "id": "d99a0e07-2caf-48ed-b6a4-7621196657af",
   "metadata": {},
   "source": [
    "An waterfall plot example with high probability of receiving thrombolysis (showing probabilities)."
   ]
  },
  {
   "cell_type": "code",
   "execution_count": null,
   "id": "4a6e050c-3f13-4e49-aa49-087437cac8d3",
   "metadata": {},
   "outputs": [],
   "source": [
    "fig = waterfall.waterfall(shap_values_probability_extended[location_high_probability],\n",
    "                           show=False, max_display=8, y_reverse=True)\n",
    "plt.savefig('output/xgb_waterfall_high_probability_key_features.jpg',\n",
    "            dpi=300, bbox_inches='tight', pad_inches=0.2)\n",
    "plt.show()"
   ]
  },
  {
   "cell_type": "markdown",
   "id": "c90d7366-2c44-4b2a-b8fc-8486a4df7a7f",
   "metadata": {},
   "source": [
    "### Show the relationship between feature value and SHAP value for the top 6 influential features\n",
    "(as SHAP plots scatter)"
   ]
  },
  {
   "cell_type": "code",
   "execution_count": null,
   "id": "b8194752",
   "metadata": {},
   "outputs": [],
   "source": [
    "feat_to_show = top_10_shap[0:6]\n",
    "\n",
    "fig = plt.figure(figsize=(12,9))\n",
    "for n, feat in enumerate(feat_to_show):    \n",
    "    ax = fig.add_subplot(2,3,n+1)\n",
    "    shap.plots.scatter(shap_values_extended[:, feat], x_jitter=0, ax=ax, \n",
    "                       show=False)\n",
    "    \n",
    "    # Add line at Shap = 0\n",
    "    feature_values = shap_values_extended[:, feat].data\n",
    "    ax.plot([ax.get_xlim()[0], ax.get_xlim()[1]], [0,0], c='0.5')    \n",
    "    \n",
    "    ax.set_ylabel(f'SHAP value (log odds) for\\n{feat}')\n",
    "    ax.set_title(feat)\n",
    "    \n",
    "    # Censor arrival to scan to 1200 minutes\n",
    "    if feat == 'Arrival-to-scan time':\n",
    "        ax.set_xlim(0,1200)\n",
    "    \n",
    "plt.tight_layout(pad=2)\n",
    "\n",
    "fig.savefig('output/xgb_thrombolysis_shap_scatter.jpg', dpi=300,\n",
    "    bbox_inches='tight', pad_inches=0.2)"
   ]
  },
  {
   "cell_type": "markdown",
   "id": "6a7f8496-dc53-4259-8ae8-8dd3ad09a757",
   "metadata": {},
   "source": [
    "### Show the relationship between feature value and SHAP value for the top 6 influential features\n",
    "(as violin plots)\n",
    "\n",
    "Resource: \n",
    "https://towardsdatascience.com/binning-records-on-a-continuous-variable-with-pandas-cut-and-qcut-5d7c8e11d7b0\n",
    "https://matplotlib.org/3.1.0/gallery/statistics/customized_violin.html"
   ]
  },
  {
   "cell_type": "code",
   "execution_count": null,
   "id": "15c97da9-a216-405b-8d98-e9d8b621ae61",
   "metadata": {},
   "outputs": [],
   "source": [
    "def set_ax(ax, category_list, feat, rotation=0):\n",
    "    '''\n",
    "    ax [matplotlib axis object] = matplotlib axis object\n",
    "    category_list [list] = used for the xtick labels (the grouping of the data)\n",
    "    rotation [integer] = xtick label rotation\n",
    "    feat [string] = used in the axis label, the feature that is being plotted\n",
    "    \n",
    "    resource: \n",
    "    https://matplotlib.org/3.1.0/gallery/statistics/customized_violin.html\n",
    "    '''\n",
    "    # Set the axes ranges and axes labels\n",
    "    ax.get_xaxis().set_tick_params(direction='out')\n",
    "    ax.xaxis.set_ticks_position('bottom')\n",
    "    ax.set_xticks(np.arange(1, len(category_list) + 1))\n",
    "    ax.set_xticklabels(category_list, rotation=rotation, fontsize=10)\n",
    "    ax.set_xlim(0.25, len(category_list) + 0.75)\n",
    "    ax.set_ylabel(f'SHAP values for {feat}', fontsize=12)\n",
    "    ax.set_xlabel(f'Feature values for {feat}', fontsize=12)\n",
    "    return(ax)"
   ]
  },
  {
   "cell_type": "code",
   "execution_count": null,
   "id": "69360e20-5520-487e-936d-60118082db8c",
   "metadata": {},
   "outputs": [],
   "source": [
    "feat_to_show = top_10_shap[0:6]\n",
    "\n",
    "fig = plt.figure(figsize=(12,9))\n",
    "# for each feature, prepare the data for the violin plot.\n",
    "# data either already in categories, or if there's more than 50 unique values\n",
    "# for a feature then assume it needs to be binned, and a violin for each bin\n",
    "for n, feat in enumerate(feat_to_show):    \n",
    "    feature_data = shap_values_extended[:, feat].data\n",
    "    feature_shap = shap_values_extended[:, feat].values\n",
    "\n",
    "    # if feature has more that 50 unique values, then assume it needs to be \n",
    "    # binned (other assume they are unique categories)\n",
    "    if np.unique(feature_data).shape[0] > 50:\n",
    "        # bin the data, create a violin per bin\n",
    "        \n",
    "        # settings for the plot\n",
    "        rotation = 45\n",
    "        step = 30\n",
    "        n_bins = min(11, np.int((feature_data.max())/step))\n",
    "        \n",
    "        # create list of bin values\n",
    "        bin_list = [(i*step) for i in range(n_bins)]\n",
    "        bin_list.append(feature_data.max())\n",
    "\n",
    "        # create list of bins (the unique categories)\n",
    "        category_list = [f'{i*step}-{((i+1)*step-1)}' for i in range(n_bins-1)]\n",
    "        category_list.append(f'{(n_bins-1)*step}+')\n",
    "\n",
    "        # bin the feature data\n",
    "        feature_data = pd.cut(feature_data, bin_list, labels=category_list, \n",
    "                              right=False)\n",
    "\n",
    "    else:\n",
    "        # create a violin per unique value\n",
    "        \n",
    "        # settings for the plot\n",
    "        rotation = 90\n",
    "        \n",
    "        # create list of unique categories in the feature data\n",
    "        category_list = np.unique(feature_data)\n",
    "        category_list = [int(i) for i in category_list]\n",
    "\n",
    "    # create a list, each entry contains the corresponsing SHAP value for that \n",
    "    # category (or bin). A violin will represent each list.    \n",
    "    shap_per_category = []\n",
    "    for category in category_list:\n",
    "        mask = feature_data == category\n",
    "        shap_per_category.append(feature_shap[mask])\n",
    "\n",
    "    # create violin plot\n",
    "    ax = fig.add_subplot(2,3,n+1)\n",
    "    ax.violinplot(shap_per_category, showmedians=True, widths=0.9)\n",
    "    \n",
    "    # Add line at Shap = 0\n",
    "    feature_values = shap_values_extended[:, feat].data\n",
    "    ax.plot([0, len(feature_values)], [0,0],c='0.5')   \n",
    "\n",
    "    # customise the axes\n",
    "    ax = set_ax(ax, category_list, feat, rotation=rotation)\n",
    "    plt.subplots_adjust(bottom=0.15, wspace=0.05)\n",
    "    \n",
    "    # Adjust stroke severity tickmarks\n",
    "    if feat == 'Stroke severity':\n",
    "        ax.set_xticks(np.arange(0, len(category_list), 2))\n",
    "        ax.set_xticklabels(category_list[0::2])   \n",
    "    \n",
    "    # Add title\n",
    "    ax.set_title(feat)\n",
    "    \n",
    "plt.tight_layout(pad=2)\n",
    "    \n",
    "fig.savefig(\n",
    "f'output/xgb_thrombolysis_shap_violin.jpg', dpi=300,\n",
    " bbox_inches='tight', pad_inches=0.2)"
   ]
  },
  {
   "cell_type": "markdown",
   "id": "5b1b9b2e-57a8-400f-a76b-5203770fc4ef",
   "metadata": {},
   "source": [
    "### Compare SHAP values for the hospital one-hot encoded features\n",
    "\n",
    "The hospital feature is one-hot encoded, so there is a SHAP value per stroke team. We will use this to create a histogram of the frequency of the SHAP value for the hospital feature (using only the first k-fold test set, and take the mean of the SHAP values for the instances for each hospital's own patients)."
   ]
  },
  {
   "cell_type": "code",
   "execution_count": null,
   "id": "8351cb99-d5e9-4b06-98ec-a4a5b2b97169",
   "metadata": {},
   "outputs": [],
   "source": [
    "# Set up list for storing patient data and hospital SHAP\n",
    "feature_data_with_shap = []\n",
    "\n",
    "# Get mean SHAP for stroke team when patient attending that stroke team\n",
    "test_stroke_team = test_data[0]['Stroke team']\n",
    "stroke_teams = list(np.unique(test_stroke_team))\n",
    "stroke_teams.sort()\n",
    "stroke_team_mean_shap = []\n",
    "# Loop through stroke teams\n",
    "for stroke_team in stroke_teams:\n",
    "    # Identify rows in test data that match each stroke team\n",
    "    mask = test_stroke_team == stroke_team\n",
    "    stroke_team_shap_all_features = shap_values[mask]\n",
    "    # Get column index for stroke_team_in_shap\n",
    "    feature_name = 'team_' + stroke_team\n",
    "    index = features.index(feature_name)\n",
    "    # Get SHAP values for hospital\n",
    "    stroke_team_shap = stroke_team_shap_all_features[:, index]\n",
    "    # Get mean\n",
    "    mean_shap = np.mean(stroke_team_shap)\n",
    "    # Store mean\n",
    "    stroke_team_mean_shap.append(mean_shap)\n",
    "    # Get and store feature data and add SHAP\n",
    "    feature_data = test_data[0][mask]\n",
    "    feature_data['Hospital_SHAP'] = stroke_team_shap\n",
    "    feature_data_with_shap.append(feature_data)\n",
    "\n",
    "# Concatenate and save feature_data_with_shap\n",
    "feature_data_with_shap = pd.concat(feature_data_with_shap, axis=0)\n",
    "feature_data_with_shap.to_csv(\n",
    "    './predictions/feature_data_with_hospital_shap.csv', index=False)\n",
    "\n",
    "# Create and save shap mean value per hospital\n",
    "hospital_data = pd.DataFrame()\n",
    "hospital_data[\"stroke_team\"] = stroke_teams\n",
    "hospital_data[\"shap_mean\"] = stroke_team_mean_shap\n",
    "hospital_data.to_csv(\n",
    "    './predictions/mean_shap_per_hospital_0fold.csv', index=False)"
   ]
  },
  {
   "cell_type": "code",
   "execution_count": null,
   "id": "a6c1c009-c7cb-4fc3-8f22-a02049bdb826",
   "metadata": {},
   "outputs": [],
   "source": [
    "hospital_data"
   ]
  },
  {
   "cell_type": "markdown",
   "id": "d67ec7d0-3d30-4818-8604-f4b62364b33a",
   "metadata": {},
   "source": [
    "Plot histogram of the frequency of the mean SHAP value for the instances for each hospital's own patients (using only the first k-fold test set)"
   ]
  },
  {
   "cell_type": "code",
   "execution_count": null,
   "id": "27de9acb-09de-408a-9ec4-97b108991e5f",
   "metadata": {},
   "outputs": [],
   "source": [
    "# Plot histogram\n",
    "fig = plt.figure(figsize=(6,6))\n",
    "ax = fig.add_subplot()\n",
    "ax.hist(stroke_team_mean_shap, bins=np.arange(-1.5, 1.51, 0.1))\n",
    "ax.set_xlabel('SHAP value')\n",
    "ax.set_ylabel('Count')\n",
    "plt.savefig('./output/hosp_shap_hist.jpg', dpi=300,\n",
    "    bbox_inches='tight', pad_inches=0.2)\n",
    "plt.show()"
   ]
  },
  {
   "cell_type": "markdown",
   "id": "98b1c5d6-0331-4dbe-9d1f-39577d4dedb0",
   "metadata": {},
   "source": [
    "## Observations\n",
    "\n",
    "* There was good consistency of SHAP values and importances across 5 k-fold replications.\n",
    "* There was a reasonable correlation between SHAP and importance values, but also some differences in the rank order of importance.\n",
    "    The five most influential features as judged by SHAP were:\n",
    "    * Stroke type\n",
    "    * Arrival-to-scan time\n",
    "    * Stroke severity (NIHSS)\n",
    "    * Stroke onset time type (precise vs. estimated)\n",
    "    * Disability level (Rankin) before stroke\n",
    "* The five most influential features (excluding teams) as judged by importance were:\n",
    "    * Stroke type\n",
    "    * Use of AF Anticoagulant\n",
    "    * Stroke onset time type (precise vs. estimated)\n",
    "    * Stroke severity (NIHSS)\n",
    "    * Disability level (Rankin) before stroke\n",
    "* Beeswarm, waterfall, and scatter plots all help elucidate the relationship between feature values and SHAP value.\n",
    "* Plotting SHAP values as probabilities are more understandable than plotting as log odds-ratios, but can distort the relative importance of features overall.\n",
    "* An indication of an individual hospitals thrombolysis culture can be obtained from the SHAP values for the hospital’s own patients. The mean of these SHAP values range from -1.4 to 1.3 (on average a patient is more or less likely to recieve thrombolysis based on the hospital they attended)."
   ]
  }
 ],
 "metadata": {
  "kernelspec": {
   "display_name": "Python 3 (ipykernel)",
   "language": "python",
   "name": "python3"
  },
  "language_info": {
   "codemirror_mode": {
    "name": "ipython",
    "version": 3
   },
   "file_extension": ".py",
   "mimetype": "text/x-python",
   "name": "python",
   "nbconvert_exporter": "python",
   "pygments_lexer": "ipython3",
   "version": "3.8.13"
  }
 },
 "nbformat": 4,
 "nbformat_minor": 5
}
