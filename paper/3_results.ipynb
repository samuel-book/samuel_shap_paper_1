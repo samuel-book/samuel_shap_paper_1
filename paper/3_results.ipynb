{
 "cells": [
  {
   "cell_type": "markdown",
   "id": "1aea2423-20fe-4339-8c8e-a928a8bd9558",
   "metadata": {},
   "source": [
    "# Results"
   ]
  },
  {
   "cell_type": "markdown",
   "id": "3d483c1b-23e4-454d-b62a-9bcb4e78511a",
   "metadata": {},
   "source": [
    "## Feature selection\n",
    "\n",
    "25 features were selected by identifying one feature at a time that led to greatest improvement in Receiver Operating Characteristic (ROC) Area Under Curve (AUC). ROC AUC was measured using stratified 5-fold cross validation.\n",
    "\n",
    "The best model with 1, 2, 5, 10, 25 & all features (60 features before one-hot encoding of fields) had ROC AUCs of 0.715, 0.792, 0.891, 0.919, 0.923 & 0.922. We selected 10 features for all subsequent work, which were:\n",
    "\n",
    "* Arrival-to-scan time: Time from arrival at hospital to scan (mins)\n",
    "* Infarction: Stroke type (1 = infarction, 0 = haemorrhage)\n",
    "* Stroke severity: Stroke severity (NIHSS) on arrival\n",
    "* Precise onset time: Onset time type (1 = precise, 0 = best estimate)\n",
    "* Prior disability level: Disability level (modified Rankin Scale) before stroke\n",
    "* Stroke team: Stroke team attended\n",
    "* Use of AF anticoagulants: Use of atrial fibrillation anticoagulant (1 = Yes, 0 = No)\n",
    "* Onset-to-arrival time: Time from onset of stroke to arrival at hospital (mins)\n",
    "* Onset during sleep: Did stroke occur in sleep?\n",
    "* Age: Age (as middle of 5 year age bands)\n",
    "\n",
    "### Correlations within the 10 features\n",
    "\n",
    "Correlations between the 10 features were measured using coefficients of determination (r-squared). All r-squared were less than 0.15, and all r-squared were less than 0.05 except 1) age and prior disability level (r-squared 0.146), and 2) onset during sleep and precise onset time (r-squared 0.078)."
   ]
  },
  {
   "cell_type": "markdown",
   "id": "b9ade41c-f0ae-4852-b550-e14d1cdbe7bb",
   "metadata": {},
   "source": [
    "## Model accuracy\n",
    "\n",
    "Model accuracy was measured using stratified 5-fold cross validation. The key results are shown below.\n",
    "\n",
    "| measurement                      | mean  | std   |\n",
    "|----------------------------------|-------|-------|\n",
    "| actual positive rate             | 0.296 | 0.000 |\n",
    "| actual negative rate             | 0.704 | 0.000 |\n",
    "| predicted positive rate          | 0.294 | 0.002 |\n",
    "| predicted negative rate          | 0.706 | 0.002 |\n",
    "| accuracy                         | 0.850 | 0.004 |\n",
    "| sensitivity (recall)             | 0.743 | 0.004 |\n",
    "| specificity                      | 0.894 | 0.004 |\n",
    "| precision                        | 0.747 | 0.007 |\n",
    "| ROC AUC                          | 0.918 | 0.003 |\n",
    "| Balanced sensitivity/specificity | 0.839 | 0.003 |\n",
    "\n",
    "\n"
   ]
  },
  {
   "cell_type": "markdown",
   "id": "5df56b49-ece0-4b78-8d77-4cd12d301d89",
   "metadata": {},
   "source": [
    "The appendix contains results for model validation of hospital thrombolysis curves, evaluation of variation in model prediction using bagging, learning rates, model calibration, and fine-tuning of model regularisation."
   ]
  },
  {
   "cell_type": "markdown",
   "id": "edee0df4-b50e-4bc2-bf3a-d1e725e44428",
   "metadata": {},
   "source": [
    "## Explaining model predictions with SHAP"
   ]
  },
  {
   "cell_type": "markdown",
   "id": "e4ab0874-b05a-4584-aa78-9b3bd79a9688",
   "metadata": {},
   "source": [
    "### Violin plots of SHAP values\n",
    "\n",
    "Violin plots show the relationship between feature values and SHAP values for individual patients (the bar in each violin shows the median value). Key observations are:\n",
    "\n",
    "* Stroke type: As expected,  the SHAP values for stroke types effectively eliminated any chance of receiving thrombolysis for non-ischaemic (haemorrhagic) stroke.\n",
    "\n",
    "* Arrival-to-scan time: The odds of receiving thrombolysis reduced by about 20 fold over the first 100 minutes of arrival to scan time.\n",
    "\n",
    "* Stroke severity (NIHSS): The odds of receiving thrombolysis was lowest at NIHSS 0, rose and peakws at NIHSS 15-25, and then fell again with higher stroke severity. The difference between minimum odds (at NIHSS 0) and maximum odds (at 15-25) of receiving thrombolysis was 30-35 fold.\n",
    "\n",
    "* Stroke onset time type (precise vs. estimated): The odds of receiving thrombolysis were about 3 fold greater for precise onset time than estimated onset time.\n",
    "\n",
    "* Disability level (Rankin) before stroke. The odds of receiving thrombolysis fell about 5 fold between mRS 0 and 5.\n",
    "\n",
    "<img src=\"../xgb_10_features/output/03_xgb_10_features_thrombolysis_shap_violin.jpg\" width=\"800\"/>"
   ]
  },
  {
   "cell_type": "markdown",
   "id": "d48fc248-6313-4b45-8ab5-71a933a3a1a9",
   "metadata": {},
   "source": [
    "### Hospital SHAP values\n",
    "\n",
    "When examining SHAP, we take the hospital SHAP values for patients attending each hospital (if we examined the hospital SHAP for all patients, it would be dominated by those not-attending each hospital (i.e. coded zero in the one-hot encoding). When we examine the hospital SHAP values only for patients attending each hospital, the hospital SHAP values ranged from -1.4 to +1.4. This range of SHAP (log odds) represents a 15 fold difference in odds of receiving thrombolysis (most are in the range of -1 to +1, but this still represents a 7-8 fold difference in odds of receiving thrombolysis).\n",
    "\n",
    "We compared the hospital SHAP value with the observed thrombolysis use at each hospital. Hospital SHAP correlated with observed thrombolysis rate with an r-squared of 0.582, suggesting that 58% (P<0.0001) of the between-hospital variance in thrombolysis use may be explained by the hospitals' SHAP values, that is the hospitals' predisposition to use thrombolysis.\n",
    "\n",
    "<img src=\"../xgb_10_features/output/03c_xgb_10_features_attended_hosp_shap_value.jpg\" width=\"400\"/>\n",
    "\n",
    "When using the 10k cohort, changing the one-hot encoding to mimic all patients attending each of the 132 hospitals, we found that the median hospital SHAP value for the 10k patients correlated very closely with the predicted thrombolysis use in the 10k cohort at each hospital (r-squared = 0.947), confirming that the hospital SHAP is providing a key insight into ahopsital's propensity to use thrombolysis."
   ]
  },
  {
   "cell_type": "markdown",
   "id": "db314e67-24cc-4969-a57f-296c87928de3",
   "metadata": {},
   "source": [
    "### Waterfall plots for individual patient predictions\n",
    "\n",
    "Waterfall plots show the influence of features for an individual prediction. We generally handle SHAP values as how they affect log odds of receiving thrombolysis, but for individual predictions, probability plots are more intuitive. The example shown below is for a patient with a low probability of receiving thrombolysis. The model starts with a base prediction of a 24% probability of receiving thrombolysis, before feature values are taken into account. Some features increase that base probability of receiving thrombolysis, those are onet-to-arrival time, having a precise onset time, having no prior disability, and being young. Three features then reduce the probability of receiving thrombolysis: the hospital they attended, the long arrival-to-scan time, and having a mild stroke, with a resulting final probability of receiving thrombolysis of 3%. \n",
    "\n",
    "<img src=\"../xgb_10_features/output/03_xgb_10_features_waterfall_probability_low.jpg\" width=\"600\"/>"
   ]
  },
  {
   "cell_type": "markdown",
   "id": "7bf87f50-1e57-41cb-a976-fb921d9e370c",
   "metadata": {},
   "source": [
    "## Subgroup analysis"
   ]
  },
  {
   "cell_type": "markdown",
   "id": "db7bcf37-d896-438c-8cb3-a986e858952e",
   "metadata": {},
   "source": [
    "<img src=\"../xgb_10_features/output/15a_actual_vs_modelled_subgroup_violin.jpg\" width=\"600\"/>"
   ]
  },
  {
   "cell_type": "markdown",
   "id": "d37456c6-709f-45f6-aa07-909e41cebc80",
   "metadata": {},
   "source": [
    "## Benchmarking"
   ]
  },
  {
   "cell_type": "markdown",
   "id": "6e6c2057-8db4-4a8e-ad1b-f5275b638c05",
   "metadata": {},
   "source": [
    "<img src=\"../xgb_10_features/output/05_benchmark_thrombolysis_key_features.jpg\" width=\"400\"/>"
   ]
  },
  {
   "cell_type": "code",
   "execution_count": null,
   "id": "32ca16fc-70a7-4850-b7f2-0cfc9652f4aa",
   "metadata": {},
   "outputs": [],
   "source": []
  }
 ],
 "metadata": {
  "kernelspec": {
   "display_name": "Python 3 (ipykernel)",
   "language": "python",
   "name": "python3"
  },
  "language_info": {
   "codemirror_mode": {
    "name": "ipython",
    "version": 3
   },
   "file_extension": ".py",
   "mimetype": "text/x-python",
   "name": "python",
   "nbconvert_exporter": "python",
   "pygments_lexer": "ipython3",
   "version": "3.9.12"
  },
  "vscode": {
   "interpreter": {
    "hash": "b368e36a85415766688ec72e3e874a4b525584eabf4bf7122952a4e0fd64fcde"
   }
  }
 },
 "nbformat": 4,
 "nbformat_minor": 5
}
