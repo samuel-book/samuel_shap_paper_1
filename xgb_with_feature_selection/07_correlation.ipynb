{
 "cells": [
  {
   "cell_type": "markdown",
   "id": "93be6d07-41d1-4e90-821c-c3bcfd1e4160",
   "metadata": {
    "tags": []
   },
   "source": [
    "# Check correlation between features selected for the model\n",
    "\n",
    "## Plain English summary\n",
    "\n",
    "We have made our model more simple by selecting the 8 features that give the best model performance. We are using Shapley values to help to explain how the model has arrived at each prediction. Shapley values require the features to be independent of each other. Any dependencies makes it extremely trick, and messy, to unpick the allocation to each feature. We test the independencies by calculating the correlation between the 7 selected features (after removing stroke team). There are only very weak correlations between the selected 8 features, with a feature explaining a maximum of 5% of the variablility of another feature.\n",
    "\n",
    "## Model and data\n",
    "\n",
    "Using the full dataset, calculate the correlation between each of these 7 features:\n",
    "\n",
    "* Arrival-to-scan time: Time from arrival at hospital to scan (mins)\n",
    "* Infarction: Stroke type (1 = infarction, 0 = haemorrhage)\n",
    "* Stroke severity: Stroke severity (NIHSS) on arrival\n",
    "* Precise onset time: Onset time type (1 = precise, 0 = best estimate)\n",
    "* Prior disability level: Disability level (modified Rankin Scale) before stroke\n",
    "* Use of AF anticoagulents: Use of atrial fibrillation anticoagulant (1 = Yes, 0 = No)\n",
    "* Onset-to-arrival time: Time from onset of stroke to arrival at hospital (mins)\n",
    "\n",
    "The 7 features included were chosen sequentially as having the single best improvement in the XGBoost model performance (using the ROC AUC), excluding the stroke team feature.\n",
    "\n",
    "## Aim\n",
    "\n",
    "* Check correlation (by calculating the correlation) between the 7 features selected by feature selection (after removing stroke team).\n",
    "\n",
    "## Observations\n",
    "There are only very weak correlations between the selected features with no R-squared being greater than 0.05."
   ]
  },
  {
   "cell_type": "markdown",
   "id": "f827c43d-1c3d-4ba6-b960-cab95c907ca4",
   "metadata": {},
   "source": [
    "## import libraries"
   ]
  },
  {
   "cell_type": "code",
   "execution_count": 1,
   "id": "baca834c-327a-4ad2-89a6-36b48bdf4072",
   "metadata": {},
   "outputs": [],
   "source": [
    "import matplotlib.pyplot as plt\n",
    "import numpy as np\n",
    "import pandas as pd\n",
    "from matplotlib import cm\n",
    "from sklearn.preprocessing import StandardScaler\n",
    "import json"
   ]
  },
  {
   "cell_type": "markdown",
   "id": "e52da639-d10e-4e62-abce-604b7c232b07",
   "metadata": {},
   "source": [
    "## Read in JSON file\n",
    "\n",
    "Contains a dictionary for plain English feature names for the 8 features selected in the model. Use these as the column titles in the DataFrame."
   ]
  },
  {
   "cell_type": "code",
   "execution_count": 2,
   "id": "c6434601-b562-4c4f-9bf2-f6b6474a5aee",
   "metadata": {},
   "outputs": [],
   "source": [
    "with open(\"./output/feature_name_dict.json\") as json_file:\n",
    "    feature_name_dict = json.load(json_file)"
   ]
  },
  {
   "cell_type": "markdown",
   "id": "75573816-c91e-41fd-bc84-26549fc5be26",
   "metadata": {},
   "source": [
    "## Load data\n",
    "\n",
    "Combine all of the data (create a dataframe that includes every instance)"
   ]
  },
  {
   "cell_type": "code",
   "execution_count": 3,
   "id": "7864bba3-a9b7-489d-aab0-aca4f8779663",
   "metadata": {},
   "outputs": [],
   "source": [
    "train = pd.read_csv('../data/10k_training_test/cohort_10000_train.csv')\n",
    "test = pd.read_csv('../data/10k_training_test/cohort_10000_test.csv')\n",
    "data = pd.concat([train, test], axis=0)"
   ]
  },
  {
   "cell_type": "markdown",
   "id": "6499b6fb-c4e3-4f24-9747-c7d39a0dd7f5",
   "metadata": {},
   "source": [
    "## Load features to use (drop stroke team if present)"
   ]
  },
  {
   "cell_type": "code",
   "execution_count": 4,
   "id": "3a91b8aa-b539-4f2b-a48e-654390e2887d",
   "metadata": {},
   "outputs": [],
   "source": [
    "# Read in the names of the selected features for the model\n",
    "number_of_features_to_use = 8\n",
    "key_features = pd.read_csv('./output/feature_selection.csv')\n",
    "key_features = list(key_features['feature'])[:number_of_features_to_use]\n",
    "\n",
    "# Drop stroke team if present\n",
    "if 'StrokeTeam' in key_features:\n",
    "    key_features.remove('StrokeTeam')\n",
    "\n",
    "# Restrict data to chosen features\n",
    "data = data[key_features]"
   ]
  },
  {
   "cell_type": "markdown",
   "id": "096c7259-67e9-4c17-86ed-89122ba8d60d",
   "metadata": {},
   "source": [
    "## Rename columns to plain English titles"
   ]
  },
  {
   "cell_type": "code",
   "execution_count": 5,
   "id": "f3e235b5-e3bc-4bc4-8b98-18ec6e313c21",
   "metadata": {},
   "outputs": [],
   "source": [
    "data.rename(columns=feature_name_dict, inplace=True)"
   ]
  },
  {
   "cell_type": "markdown",
   "id": "6595e30c-3015-4a4c-aa28-9e3edf67c029",
   "metadata": {},
   "source": [
    "## Standardise data\n",
    "\n",
    "After scaling data, the reported covariance will be the correlation between data features."
   ]
  },
  {
   "cell_type": "code",
   "execution_count": 6,
   "id": "021258aa-78e5-4658-89de-eb54eece6d38",
   "metadata": {},
   "outputs": [],
   "source": [
    "sc = StandardScaler() \n",
    "sc.fit(data)\n",
    "data_std = sc.transform(data)\n",
    "data_std = pd.DataFrame(data_std, columns=list(data))"
   ]
  },
  {
   "cell_type": "markdown",
   "id": "650cdfb1-f3af-461a-920f-a018cd7d95c2",
   "metadata": {},
   "source": [
    "## Calculate correlation between features"
   ]
  },
  {
   "cell_type": "code",
   "execution_count": 7,
   "id": "46d90fe6-6d4c-419c-8aa7-c4052cf14131",
   "metadata": {},
   "outputs": [],
   "source": [
    "# Get covariance\n",
    "cov = data_std.cov()\n",
    "\n",
    "# Convert from wide to tall\n",
    "cov = cov.melt(ignore_index=False)\n",
    "\n",
    "# Remove self-correlation\n",
    "mask = cov.index != cov['variable']\n",
    "cov = cov[mask]\n",
    "\n",
    "# Add absolute value\n",
    "cov['abs_value'] = np.abs(cov['value'])\n",
    "\n",
    "# Add R-squared\n",
    "cov['r-squared'] = cov['value'] ** 2\n",
    "\n",
    "# Sort by absolute covariance\n",
    "cov.sort_values('abs_value', inplace=True, ascending=False)\n",
    "\n",
    "# Round to four decimal places\n",
    "cov = cov.round(4)\n",
    "\n",
    "# Remove duplicate pairs of features\n",
    "result = []\n",
    "for index, values in cov.iterrows():\n",
    "    combination = [index, values['variable']]\n",
    "    combination.sort()\n",
    "    string = combination[0] + \"-\" + combination[1]\n",
    "    result.append(string)\n",
    "cov['pair'] = result\n",
    "cov.sort_values('pair', inplace=True)\n",
    "cov.drop_duplicates(subset=['pair'], inplace=True)\n",
    "cov.drop('pair', axis=1, inplace=True)\n",
    "\n",
    "# Sort by r-squared\n",
    "cov.sort_values('r-squared', ascending=False, inplace=True)"
   ]
  },
  {
   "cell_type": "markdown",
   "id": "57f1b33c-c8ff-4085-850c-5dd9814f00ee",
   "metadata": {},
   "source": [
    "Display R-squared (sorted by R-squared)"
   ]
  },
  {
   "cell_type": "code",
   "execution_count": 8,
   "id": "35b62b57-4b2e-4534-bc56-68c667ea85d6",
   "metadata": {},
   "outputs": [
    {
     "data": {
      "text/html": [
       "<div>\n",
       "<style scoped>\n",
       "    .dataframe tbody tr th:only-of-type {\n",
       "        vertical-align: middle;\n",
       "    }\n",
       "\n",
       "    .dataframe tbody tr th {\n",
       "        vertical-align: top;\n",
       "    }\n",
       "\n",
       "    .dataframe thead th {\n",
       "        text-align: right;\n",
       "    }\n",
       "</style>\n",
       "<table border=\"1\" class=\"dataframe\">\n",
       "  <thead>\n",
       "    <tr style=\"text-align: right;\">\n",
       "      <th></th>\n",
       "      <th>variable</th>\n",
       "      <th>r-squared</th>\n",
       "    </tr>\n",
       "  </thead>\n",
       "  <tbody>\n",
       "    <tr>\n",
       "      <th>Stroke severity</th>\n",
       "      <td>Prior disability level</td>\n",
       "      <td>0.0454</td>\n",
       "    </tr>\n",
       "    <tr>\n",
       "      <th>Stroke severity</th>\n",
       "      <td>Infarction</td>\n",
       "      <td>0.0386</td>\n",
       "    </tr>\n",
       "    <tr>\n",
       "      <th>Onset-to-arrival time</th>\n",
       "      <td>Precise onset time</td>\n",
       "      <td>0.0344</td>\n",
       "    </tr>\n",
       "    <tr>\n",
       "      <th>Stroke severity</th>\n",
       "      <td>Onset-to-arrival time</td>\n",
       "      <td>0.0186</td>\n",
       "    </tr>\n",
       "    <tr>\n",
       "      <th>Precise onset time</th>\n",
       "      <td>Prior disability level</td>\n",
       "      <td>0.0131</td>\n",
       "    </tr>\n",
       "    <tr>\n",
       "      <th>Prior disability level</th>\n",
       "      <td>Use of AF anticoagulents</td>\n",
       "      <td>0.0070</td>\n",
       "    </tr>\n",
       "    <tr>\n",
       "      <th>Use of AF anticoagulents</th>\n",
       "      <td>Infarction</td>\n",
       "      <td>0.0033</td>\n",
       "    </tr>\n",
       "    <tr>\n",
       "      <th>Prior disability level</th>\n",
       "      <td>Onset-to-arrival time</td>\n",
       "      <td>0.0022</td>\n",
       "    </tr>\n",
       "    <tr>\n",
       "      <th>Arrival-to-scan time</th>\n",
       "      <td>Precise onset time</td>\n",
       "      <td>0.0021</td>\n",
       "    </tr>\n",
       "    <tr>\n",
       "      <th>Stroke severity</th>\n",
       "      <td>Use of AF anticoagulents</td>\n",
       "      <td>0.0019</td>\n",
       "    </tr>\n",
       "    <tr>\n",
       "      <th>Stroke severity</th>\n",
       "      <td>Arrival-to-scan time</td>\n",
       "      <td>0.0019</td>\n",
       "    </tr>\n",
       "    <tr>\n",
       "      <th>Precise onset time</th>\n",
       "      <td>Use of AF anticoagulents</td>\n",
       "      <td>0.0016</td>\n",
       "    </tr>\n",
       "    <tr>\n",
       "      <th>Infarction</th>\n",
       "      <td>Onset-to-arrival time</td>\n",
       "      <td>0.0007</td>\n",
       "    </tr>\n",
       "    <tr>\n",
       "      <th>Precise onset time</th>\n",
       "      <td>Infarction</td>\n",
       "      <td>0.0006</td>\n",
       "    </tr>\n",
       "    <tr>\n",
       "      <th>Arrival-to-scan time</th>\n",
       "      <td>Onset-to-arrival time</td>\n",
       "      <td>0.0004</td>\n",
       "    </tr>\n",
       "    <tr>\n",
       "      <th>Onset-to-arrival time</th>\n",
       "      <td>Use of AF anticoagulents</td>\n",
       "      <td>0.0001</td>\n",
       "    </tr>\n",
       "    <tr>\n",
       "      <th>Prior disability level</th>\n",
       "      <td>Arrival-to-scan time</td>\n",
       "      <td>0.0001</td>\n",
       "    </tr>\n",
       "    <tr>\n",
       "      <th>Infarction</th>\n",
       "      <td>Prior disability level</td>\n",
       "      <td>0.0000</td>\n",
       "    </tr>\n",
       "    <tr>\n",
       "      <th>Use of AF anticoagulents</th>\n",
       "      <td>Arrival-to-scan time</td>\n",
       "      <td>0.0000</td>\n",
       "    </tr>\n",
       "    <tr>\n",
       "      <th>Stroke severity</th>\n",
       "      <td>Precise onset time</td>\n",
       "      <td>0.0000</td>\n",
       "    </tr>\n",
       "    <tr>\n",
       "      <th>Infarction</th>\n",
       "      <td>Arrival-to-scan time</td>\n",
       "      <td>0.0000</td>\n",
       "    </tr>\n",
       "  </tbody>\n",
       "</table>\n",
       "</div>"
      ],
      "text/plain": [
       "                                          variable  r-squared\n",
       "Stroke severity             Prior disability level     0.0454\n",
       "Stroke severity                         Infarction     0.0386\n",
       "Onset-to-arrival time           Precise onset time     0.0344\n",
       "Stroke severity              Onset-to-arrival time     0.0186\n",
       "Precise onset time          Prior disability level     0.0131\n",
       "Prior disability level    Use of AF anticoagulents     0.0070\n",
       "Use of AF anticoagulents                Infarction     0.0033\n",
       "Prior disability level       Onset-to-arrival time     0.0022\n",
       "Arrival-to-scan time            Precise onset time     0.0021\n",
       "Stroke severity           Use of AF anticoagulents     0.0019\n",
       "Stroke severity               Arrival-to-scan time     0.0019\n",
       "Precise onset time        Use of AF anticoagulents     0.0016\n",
       "Infarction                   Onset-to-arrival time     0.0007\n",
       "Precise onset time                      Infarction     0.0006\n",
       "Arrival-to-scan time         Onset-to-arrival time     0.0004\n",
       "Onset-to-arrival time     Use of AF anticoagulents     0.0001\n",
       "Prior disability level        Arrival-to-scan time     0.0001\n",
       "Infarction                  Prior disability level     0.0000\n",
       "Use of AF anticoagulents      Arrival-to-scan time     0.0000\n",
       "Stroke severity                 Precise onset time     0.0000\n",
       "Infarction                    Arrival-to-scan time     0.0000"
      ]
     },
     "execution_count": 8,
     "metadata": {},
     "output_type": "execute_result"
    }
   ],
   "source": [
    "cov[['variable', 'r-squared']]"
   ]
  },
  {
   "cell_type": "markdown",
   "id": "f4b4c492-f383-4df3-a295-91bc5aa71513",
   "metadata": {},
   "source": [
    "## Observations\n",
    "\n",
    "There are only very weak correlations between the selected features with no R-squared being greater than 0.05."
   ]
  }
 ],
 "metadata": {
  "kernelspec": {
   "display_name": "Python 3 (ipykernel)",
   "language": "python",
   "name": "python3"
  },
  "language_info": {
   "codemirror_mode": {
    "name": "ipython",
    "version": 3
   },
   "file_extension": ".py",
   "mimetype": "text/x-python",
   "name": "python",
   "nbconvert_exporter": "python",
   "pygments_lexer": "ipython3",
   "version": "3.8.13"
  }
 },
 "nbformat": 4,
 "nbformat_minor": 5
}
