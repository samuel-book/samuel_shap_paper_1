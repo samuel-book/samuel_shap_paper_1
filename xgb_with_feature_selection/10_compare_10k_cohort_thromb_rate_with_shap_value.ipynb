{
 "cells": [
  {
   "cell_type": "markdown",
   "id": "e28d7344-7e4a-4a28-bf35-a86211b7bf7f",
   "metadata": {
    "tags": []
   },
   "source": [
    "# A comparison of 10K cohort thrombolysis rates vs SHAP values across hospitals\n",
    "\n",
    "__NOTE__: Similar content is found in notebook 4. The difference here is that the hospital SHAP and thehospital 10k thrombolysis use come from different model fits.\n",
    "\n",
    "\n",
    "## Plain English summary\n",
    "\n",
    "Here we ask the question \"Does the SHAP value for each hospital represent the propensity for which a clinician has for thrombolysis?\"\n",
    "\n",
    "To answer that question we compare each hospital's mean SHAP value (the average SHAP value for patients attending each hopsital) and the predicted 1use of thrombolysis in each hospital ehen each hospital sees the same 10k cohort of patients.\n",
    "\n",
    "## Model and data\n",
    "\n",
    "Use data already saved from previous notebooks.\n",
    "\n",
    "* The expected thrombolysis rate of a 10K cohort across 132 hospitals, from an XGBoost model (using 8 features) fitted to the remaining data instances.\n",
    "\n",
    "* The mean SHAP value for each hospital from an XGBoost model (using 8 features) fitted to the first k-fold split. Using one-hot encoding for the hospital feature. For just the instances for each hospital's own patients.\n",
    "\n",
    "## Observations\n",
    "\n",
    "* There is a strong relationship between the hospitals thrombolysis rate (for 10K patient cohort) and the hospitals SHAP value. An R-squared value of 0.861 suggests that the model relies mostly on the hospital SHAP value to adjust individual hospital thrombolysis predictions, but that those hospitals share the same general patterns of judging patient and pathway characteristics."
   ]
  },
  {
   "cell_type": "markdown",
   "id": "cad56ee2-06be-433d-b5f6-49639e8dbafb",
   "metadata": {},
   "source": [
    "## Import libraries"
   ]
  },
  {
   "cell_type": "code",
   "execution_count": 1,
   "id": "6daa1e72-cd0b-4035-be66-43a234ddca8a",
   "metadata": {},
   "outputs": [],
   "source": [
    "# Turn warnings off to keep notebook tidy\n",
    "import warnings\n",
    "warnings.filterwarnings(\"ignore\")\n",
    "\n",
    "import matplotlib.pyplot as plt\n",
    "import os\n",
    "import pandas as pd\n",
    "import numpy as np\n",
    "\n",
    "from sklearn.linear_model import LinearRegression\n",
    "\n",
    "from scipy import stats"
   ]
  },
  {
   "cell_type": "markdown",
   "id": "f02fb027-f0e9-4d50-aae9-ab12343820a0",
   "metadata": {},
   "source": [
    "## Create output folders if needed"
   ]
  },
  {
   "cell_type": "code",
   "execution_count": 2,
   "id": "37755327-1974-4049-9db8-e1dd16c43cc7",
   "metadata": {},
   "outputs": [],
   "source": [
    "path = './output'\n",
    "if not os.path.exists(path):\n",
    "    os.makedirs(path)\n",
    "    \n",
    "path = './predictions'\n",
    "if not os.path.exists(path):\n",
    "    os.makedirs(path)"
   ]
  },
  {
   "cell_type": "markdown",
   "id": "94556518-b8e0-4f97-b3bf-57bcea8e391a",
   "metadata": {},
   "source": [
    "## Load data"
   ]
  },
  {
   "cell_type": "code",
   "execution_count": 3,
   "id": "db34ff7b",
   "metadata": {},
   "outputs": [],
   "source": [
    "# Read in thrombolysis rate on 10K cohort\n",
    "thrombolysis_rate_10k = pd.read_csv(\n",
    "    './output/10k_thrombolysis_rate_by_hosp_key_features.csv')\n",
    "# Set index as stroke team\n",
    "thrombolysis_rate_10k.set_index(\"stroke_team\", inplace=True)\n",
    "\n",
    "# Read in mean shap across all instances, for one-hot encoded hosptial features, \n",
    "# fitted using the first kfold model\n",
    "hospital_mean_shap = pd.read_csv(\n",
    "    './predictions/mean_shap_per_hospital_0fold.csv')\n",
    "# Set index as stroke team\n",
    "hospital_mean_shap.set_index(\"stroke_team\", inplace=True)"
   ]
  },
  {
   "cell_type": "code",
   "execution_count": 4,
   "id": "271e1b2f-729f-4e2d-a9e1-b876dcd7a1bd",
   "metadata": {},
   "outputs": [
    {
     "data": {
      "text/html": [
       "<div>\n",
       "<style scoped>\n",
       "    .dataframe tbody tr th:only-of-type {\n",
       "        vertical-align: middle;\n",
       "    }\n",
       "\n",
       "    .dataframe tbody tr th {\n",
       "        vertical-align: top;\n",
       "    }\n",
       "\n",
       "    .dataframe thead th {\n",
       "        text-align: right;\n",
       "    }\n",
       "</style>\n",
       "<table border=\"1\" class=\"dataframe\">\n",
       "  <thead>\n",
       "    <tr style=\"text-align: right;\">\n",
       "      <th></th>\n",
       "      <th>shap_mean</th>\n",
       "      <th>Thrombolysis rate</th>\n",
       "    </tr>\n",
       "    <tr>\n",
       "      <th>stroke_team</th>\n",
       "      <th></th>\n",
       "      <th></th>\n",
       "    </tr>\n",
       "  </thead>\n",
       "  <tbody>\n",
       "    <tr>\n",
       "      <th>AGNOF1041H</th>\n",
       "      <td>-0.016342</td>\n",
       "      <td>0.2956</td>\n",
       "    </tr>\n",
       "    <tr>\n",
       "      <th>AKCGO9726K</th>\n",
       "      <td>0.536124</td>\n",
       "      <td>0.3471</td>\n",
       "    </tr>\n",
       "    <tr>\n",
       "      <th>AOBTM3098N</th>\n",
       "      <td>-0.346190</td>\n",
       "      <td>0.2285</td>\n",
       "    </tr>\n",
       "    <tr>\n",
       "      <th>APXEE8191H</th>\n",
       "      <td>-0.030854</td>\n",
       "      <td>0.2778</td>\n",
       "    </tr>\n",
       "    <tr>\n",
       "      <th>ATDID5461S</th>\n",
       "      <td>0.337461</td>\n",
       "      <td>0.3052</td>\n",
       "    </tr>\n",
       "    <tr>\n",
       "      <th>...</th>\n",
       "      <td>...</td>\n",
       "      <td>...</td>\n",
       "    </tr>\n",
       "    <tr>\n",
       "      <th>YPKYH1768F</th>\n",
       "      <td>-0.232467</td>\n",
       "      <td>0.2574</td>\n",
       "    </tr>\n",
       "    <tr>\n",
       "      <th>YQMZV4284N</th>\n",
       "      <td>-0.004133</td>\n",
       "      <td>0.3035</td>\n",
       "    </tr>\n",
       "    <tr>\n",
       "      <th>ZBVSO0975W</th>\n",
       "      <td>-0.472060</td>\n",
       "      <td>0.2088</td>\n",
       "    </tr>\n",
       "    <tr>\n",
       "      <th>ZHCLE1578P</th>\n",
       "      <td>0.120851</td>\n",
       "      <td>0.3100</td>\n",
       "    </tr>\n",
       "    <tr>\n",
       "      <th>ZRRCV7012C</th>\n",
       "      <td>-0.494459</td>\n",
       "      <td>0.2178</td>\n",
       "    </tr>\n",
       "  </tbody>\n",
       "</table>\n",
       "<p>132 rows × 2 columns</p>\n",
       "</div>"
      ],
      "text/plain": [
       "             shap_mean  Thrombolysis rate\n",
       "stroke_team                              \n",
       "AGNOF1041H   -0.016342             0.2956\n",
       "AKCGO9726K    0.536124             0.3471\n",
       "AOBTM3098N   -0.346190             0.2285\n",
       "APXEE8191H   -0.030854             0.2778\n",
       "ATDID5461S    0.337461             0.3052\n",
       "...                ...                ...\n",
       "YPKYH1768F   -0.232467             0.2574\n",
       "YQMZV4284N   -0.004133             0.3035\n",
       "ZBVSO0975W   -0.472060             0.2088\n",
       "ZHCLE1578P    0.120851             0.3100\n",
       "ZRRCV7012C   -0.494459             0.2178\n",
       "\n",
       "[132 rows x 2 columns]"
      ]
     },
     "execution_count": 4,
     "metadata": {},
     "output_type": "execute_result"
    }
   ],
   "source": [
    "# Join two dataframes using their index\n",
    "hospital_data = hospital_mean_shap.join(thrombolysis_rate_10k, how=\"inner\")\n",
    "hospital_data"
   ]
  },
  {
   "cell_type": "markdown",
   "id": "ef79fa9e-0497-4113-91eb-3faa5a15d5f8",
   "metadata": {},
   "source": [
    "## Compare SHAP value for the hospital feature, and the predicted 10k thrombolysis rate\n",
    "\n",
    "The hospital feature is one hot encoded, so there is a SHAP value per stroke team. We will use this to create two plots:\n",
    "\n",
    "1) histogram of the frequency of the SHAP value for the hospital feature\n",
    "2) scatter plot of SHAP value vs thrombolysis rate (on 10K cohort) for each hospital"
   ]
  },
  {
   "cell_type": "markdown",
   "id": "8b458563-7782-4a50-bf4f-53ef872d0fb8",
   "metadata": {},
   "source": [
    "Plot histogram of the frequency of the SHAP value for the hospital feature\n",
    "(Note: repeating the same plot as in notebook 03)"
   ]
  },
  {
   "cell_type": "code",
   "execution_count": 5,
   "id": "ce162033-7ef8-4c92-947d-8fa15b2dc95c",
   "metadata": {},
   "outputs": [
    {
     "data": {
      "image/png": "[encoded data removed]",
      "text/plain": [
       "<Figure size 432x432 with 1 Axes>"
      ]
     },
     "metadata": {
      "needs_background": "light"
     },
     "output_type": "display_data"
    }
   ],
   "source": [
    "# Plot histogram\n",
    "fig = plt.figure(figsize=(6,6))\n",
    "ax = fig.add_subplot()\n",
    "ax.hist(hospital_data[\"shap_mean\"], bins=np.arange(-1.5, 1.51, 0.1))\n",
    "ax.set_xlabel('SHAP value')\n",
    "ax.set_ylabel('Count')\n",
    "plt.savefig('./output/hosp_shap_hist.jpg', dpi=300,\n",
    "    bbox_inches='tight', pad_inches=0.2)\n",
    "plt.show()"
   ]
  },
  {
   "cell_type": "markdown",
   "id": "29d1291f-b89a-491f-a62d-4cc1afe5722c",
   "metadata": {},
   "source": [
    "Scatter plot of SHAP value vs thrombolysis rate (on 10K cohort) for each hospital"
   ]
  },
  {
   "cell_type": "code",
   "execution_count": 6,
   "id": "1910018b-5e2a-4774-8f8f-51fa02017943",
   "metadata": {},
   "outputs": [
    {
     "data": {
      "image/png": "[encoded data removed]",
      "text/plain": [
       "<Figure size 432x432 with 1 Axes>"
      ]
     },
     "metadata": {
      "needs_background": "light"
     },
     "output_type": "display_data"
    }
   ],
   "source": [
    "# Plot scatter plot\n",
    "x = hospital_data['Thrombolysis rate']\n",
    "y = hospital_data[\"shap_mean\"]\n",
    "\n",
    "# Fit a regression line to the points\n",
    "slope, intercept, r_value, p_value, std_err = \\\n",
    "    stats.linregress(x.values,y.values)\n",
    "r_square = r_value ** 2\n",
    "y_pred = intercept + (x * slope)\n",
    "\n",
    "# Create scatter plot with regression line\n",
    "fig = plt.figure(figsize=(6,6))\n",
    "ax1 = fig.add_subplot(111)\n",
    "ax1.scatter(x, y)\n",
    "plt.plot (x, y_pred, color = 'red')\n",
    "text = f'R squared: {r_square:.3f}\\np: {p_value:0.4f}'\n",
    "ax1.text(0.5, 0, text, \n",
    "         bbox=dict(facecolor='white', edgecolor='black'))\n",
    "ax1.set_xlabel('Thrombolysis rate (for 10K patient cohort)')\n",
    "ax1.set_ylabel('SHAP value (mean)')\n",
    "plt.grid()\n",
    "plt.savefig('./output/scatter_plot_hosp_shap_vs_10k_thrombolysis.jpg', dpi=300,\n",
    "    bbox_inches='tight', pad_inches=0.2)\n",
    "\n",
    "plt.show()"
   ]
  },
  {
   "cell_type": "markdown",
   "id": "37cda02e-56af-478d-8b16-d836e166737f",
   "metadata": {},
   "source": [
    "## Observations\n",
    "\n",
    "* There is a strong relationship between the hospitals thrombolysis rate (for 10K patient cohort) and the hospitals SHAP value. An R-squared value of 0.861 suggests that the model relies mostly on the hospital SHAP value to adjust individual hospital thrombolysis predictions, but that those hospitals share the same general patterns of juding patient and pathway characteristics."
   ]
  }
 ],
 "metadata": {
  "kernelspec": {
   "display_name": "Python 3 (ipykernel)",
   "language": "python",
   "name": "python3"
  },
  "language_info": {
   "codemirror_mode": {
    "name": "ipython",
    "version": 3
   },
   "file_extension": ".py",
   "mimetype": "text/x-python",
   "name": "python",
   "nbconvert_exporter": "python",
   "pygments_lexer": "ipython3",
   "version": "3.8.13"
  }
 },
 "nbformat": 4,
 "nbformat_minor": 5
}
