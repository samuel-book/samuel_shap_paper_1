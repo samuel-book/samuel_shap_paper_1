{
 "cells": [
  {
   "cell_type": "markdown",
   "metadata": {},
   "source": [
    "# Fit a single XGBoost model and calculate the SHAP values\n",
    "\n",
    "**Research question: What is the relationship between the SHAP value and feature value?**\n",
    "\n",
    "## Plain English summary\n",
    "\n",
    "When fitting a machine learning model to data to make a prediction, it is now possible, with the use of the SHAP library, to allocate contributions of the prediction onto the feature values. This means that we can now turn these black box methods into transparent models and describe what the model used to obtain it's prediction.\n",
    "\n",
    "SHAP values are calculated for each feature of each instance for a fitted model. In addition there is the SHAP base value which is the same value for all of the instances. The base value represents the models best guess for any instance without any extra knowledge about the instance (this can also be thought of as the \"expected value\"). It is possible to obtain the models prediction of an instance by taking the sum of the SHAP base value and each of the SHAP values for the features. This allows the prediction from a model to be transparant, and we can rank the features by their importance in determining the prediction for each instance.\n",
    "\n",
    "In our previous notebook (03_xgb_combined_shap_key_features.ipynb) we looked at SHAP values for all the features (fitting models to k-fold data and comparing the differences of the SHAP values obtained across the 5 models). Here we will fit a single model to all of the data (no test set), calculate the SHAP values for this model and focus on understanding the relationship between the SHAP value and feature values for all of the features. We will also calculate the impact (in odds) that a change in feature value has on the likelihood of receiving thrombolysis.\n",
    "\n",
    "SHAP values are in the same units as the model output (for XGBoost these are in log odds). \n",
    "\n",
    "## Model and data\n",
    "\n",
    "XGBoost model was trained on all of the data (no test set used). The 10 features in the model are:\n",
    "\n",
    "* Arrival-to-scan time: Time from arrival at hospital to scan (mins)\n",
    "* Infarction: Stroke type (1 = infarction, 0 = haemorrhage)\n",
    "* Stroke severity: Stroke severity (NIHSS) on arrival\n",
    "* Precise onset time: Onset time type (1 = precise, 0 = best estimate)\n",
    "* Prior disability level: Disability level (modified Rankin Scale) before stroke\n",
    "* Stroke team: Stroke team attended\n",
    "* Use of AF anticoagulents: Use of atrial fibrillation anticoagulant (1 = Yes, 0 = No)\n",
    "* Onset-to-arrival time: Time from onset of stroke to arrival at hospital (mins)\n",
    "* Onset during sleep: Did stroke occur in sleep?\n",
    "* Age: Age (as middle of 5 year age bands)\n",
    "\n",
    "And one target feature:\n",
    "* Thrombolysis: Did the patient receive thrombolysis (0 = No, 1 = Yes)\n",
    "\n",
    "## Aims\n",
    "\n",
    "* Fit XGBoost model using feature data (no test set) to predict whether patient gets thrombolysis\n",
    "* Calculate the SHAP values of the features\n",
    "* Understand the relationship between SHAP values and feature values for each feature (using violin plots, histograms and descriptive text about the impact (in odds) that a change in feature value has on the likelihood of receiving thrombolysis)\n",
    "\n",
    "## Observations\n",
    "* Stroke type: The SHAP values for stroke type show that the model effectively eliminated any probability of receiving thrombolysis for non-ischaemic (haemorrhagic) stroke.\n",
    "*  Arrival-to-scan time: The odds of receiving thrombolysis reduced by about 20 fold over the first 100 minutes of arrival to scan time.\n",
    "* Stroke severity (NIHSS): The odds of receiving thrombolysis were lowest at NIHSS 0, increased and peaked at NIHSS 15-25, and then fell again with higher stroke severity (NIHSS above 25). The difference between minimum odds (at NIHSS 0) and maximum odds (at 15-25) of receiving thrombolysis was 30-35 fold.\n",
    "* Stroke onset time type (precise vs. estimated): The odds of receiving thrombolysis were about 3 fold greater for precise onset time than estimated onset time.\n",
    "* Disability level (mRS) before stroke: The odds of receiving thrombolysis fell about 5 fold between mRS 0 and 5."
   ]
  },
  {
   "cell_type": "markdown",
   "metadata": {},
   "source": [
    "## Import libraries"
   ]
  },
  {
   "cell_type": "code",
   "execution_count": 1,
   "metadata": {},
   "outputs": [],
   "source": [
    "# Turn warnings off to keep notebook tidy\n",
    "import warnings\n",
    "warnings.filterwarnings(\"ignore\")\n",
    "\n",
    "import numpy as np\n",
    "import pandas as pd\n",
    "import matplotlib.pyplot as plt\n",
    "\n",
    "# Import machine learning methods\n",
    "from xgboost import XGBClassifier\n",
    "\n",
    "from os.path import exists\n",
    "\n",
    "import shap\n",
    "\n",
    "from scipy import stats\n",
    "\n",
    "import os\n",
    "import pickle\n",
    "import json\n",
    "\n",
    "# .floor and .ceil\n",
    "import math\n",
    "\n",
    "# So can take deep copy\n",
    "import copy"
   ]
  },
  {
   "cell_type": "markdown",
   "metadata": {},
   "source": [
    "## Set filenames"
   ]
  },
  {
   "cell_type": "code",
   "execution_count": 2,
   "metadata": {},
   "outputs": [],
   "source": [
    "# Set up strings (describing the model) to use in filenames\n",
    "number_of_features_to_use = 10\n",
    "model_text = f'xgb_{number_of_features_to_use}_features'\n",
    "notebook = '03a'"
   ]
  },
  {
   "cell_type": "markdown",
   "metadata": {},
   "source": [
    "## Create output folders if needed"
   ]
  },
  {
   "cell_type": "code",
   "execution_count": 3,
   "metadata": {},
   "outputs": [],
   "source": [
    "path = './saved_models'\n",
    "if not os.path.exists(path):\n",
    "    os.makedirs(path)\n",
    "\n",
    "path = './output'\n",
    "if not os.path.exists(path):\n",
    "    os.makedirs(path)\n",
    "    \n",
    "path = './predictions'\n",
    "if not os.path.exists(path):\n",
    "    os.makedirs(path)   "
   ]
  },
  {
   "cell_type": "markdown",
   "metadata": {},
   "source": [
    "## Read in JSON file\n",
    "\n",
    "Contains a dictionary for plain English feature names for the 8 features selected in the model. Use these as the column titles in the DataFrame."
   ]
  },
  {
   "cell_type": "code",
   "execution_count": 4,
   "metadata": {},
   "outputs": [],
   "source": [
    "with open(\"./output/01_feature_name_dict.json\") as json_file:\n",
    "    dict_feature_name = json.load(json_file)"
   ]
  },
  {
   "cell_type": "markdown",
   "metadata": {},
   "source": [
    "## Load data\n",
    "\n",
    "Data has previously been split into 5 stratified k-fold splits.\n",
    "\n",
    "For this exercise, we will fit a model using all of the data (rather than train/test splits used to assess accuracy). We will join up all of the test data (by definition, each instance exists only once across all of the 5 test sets)"
   ]
  },
  {
   "cell_type": "code",
   "execution_count": 5,
   "metadata": {},
   "outputs": [],
   "source": [
    "data_loc = '../data/kfold_5fold/'"
   ]
  },
  {
   "cell_type": "code",
   "execution_count": 6,
   "metadata": {},
   "outputs": [],
   "source": [
    "# Initialise empty list\n",
    "test_data_kfold = []\n",
    "\n",
    "# Read in the names of the selected features for the model\n",
    "key_features = pd.read_csv('./output/01_feature_selection.csv')\n",
    "key_features = list(key_features['feature'])[:number_of_features_to_use]\n",
    "# And add the target feature name: S2Thrombolysis\n",
    "key_features.append('S2Thrombolysis')\n",
    "\n",
    "# For each k-fold split\n",
    "for i in range(5):\n",
    "    # Read in test set, restrict to chosen features, rename titles, & store\n",
    "    test = pd.read_csv(data_loc + 'test_{0}.csv'.format(i))\n",
    "    test = test[key_features]\n",
    "    test.rename(columns=dict_feature_name, inplace=True)\n",
    "    test_data_kfold.append(test)\n",
    "\n",
    "# Join all the test sets. Set \"ignore_index = True\" to reset the index in the\n",
    "#   new dataframe (to run from 0 to n-1), otherwise get duplicate index values\n",
    "data = pd.concat(test_data_kfold, ignore_index=True)"
   ]
  },
  {
   "cell_type": "markdown",
   "metadata": {},
   "source": [
    "## Get list of feature names\n",
    "\n",
    "Before convert stroke team to one-hot encoded features."
   ]
  },
  {
   "cell_type": "code",
   "execution_count": 7,
   "metadata": {},
   "outputs": [],
   "source": [
    "feature_names = list(test_data_kfold[0])"
   ]
  },
  {
   "cell_type": "markdown",
   "metadata": {},
   "source": [
    "## Edit data\n",
    "### Divide into X (features) and y (labels)\n",
    "We will separate out our features (the data we use to make a prediction) from our label (what we are trying to predict).\n",
    "By convention our features are called `X` (usually upper case to denote multiple features), and the label (thrombolysis or not) `y`."
   ]
  },
  {
   "cell_type": "code",
   "execution_count": 8,
   "metadata": {},
   "outputs": [],
   "source": [
    "X = data.drop('Thrombolysis', axis=1)\n",
    "y = data['Thrombolysis']"
   ]
  },
  {
   "cell_type": "markdown",
   "metadata": {},
   "source": [
    "Average thromboylsis (this is the expected outcome of each patient, without knowing anything about the patient)"
   ]
  },
  {
   "cell_type": "code",
   "execution_count": 9,
   "metadata": {},
   "outputs": [
    {
     "name": "stdout",
     "output_type": "stream",
     "text": [
      "Average treatment: 0.3\n"
     ]
    }
   ],
   "source": [
    "print (f'Average treatment: {round(y.mean(),2)}')"
   ]
  },
  {
   "cell_type": "markdown",
   "metadata": {},
   "source": [
    "### One-hot encode hospital feature"
   ]
  },
  {
   "cell_type": "code",
   "execution_count": 10,
   "metadata": {},
   "outputs": [],
   "source": [
    "# Keep copy of original, with 'Stroke team' not one-hot encoded\n",
    "X_combined = X.copy(deep=True)\n",
    "\n",
    "# One-hot encode 'Stroke team'\n",
    "X_hosp = pd.get_dummies(X['Stroke team'], prefix = 'team')\n",
    "X = pd.concat([X, X_hosp], axis=1)\n",
    "X.drop('Stroke team', axis=1, inplace=True)"
   ]
  },
  {
   "cell_type": "markdown",
   "metadata": {},
   "source": [
    "### Get model feature names \n",
    "With one-hot encoded hospitals"
   ]
  },
  {
   "cell_type": "code",
   "execution_count": 11,
   "metadata": {},
   "outputs": [],
   "source": [
    "# Get a list of the model feature names\n",
    "feature_names_ohe = list(X.columns)"
   ]
  },
  {
   "cell_type": "markdown",
   "metadata": {},
   "source": [
    "## Fit XGBoost model\n",
    "\n",
    "An XGBoost model is trained on the full dataset (rather than train/test splits used to assess accuracy).\n",
    "\n",
    "Use learning rate 0.5 to regularise the model. Increasing the learning rate value, increases the regularisation. Using a learning rate of 0.5 gives maximum variation between the hosptials. The default learning rate of 0.1 results in few differences between the hospitals (with eight of the one-hot encoded hospital features were not being used in the model - they each had a 0 SHAP value for all of the instances).\n",
    "\n",
    "See https://samuel-book.github.io/samuel_shap_paper_1/xgb_with_feature_selection/91_learning_rate_optimisation.html?highlight=learning%20rate"
   ]
  },
  {
   "cell_type": "code",
   "execution_count": 12,
   "metadata": {},
   "outputs": [
    {
     "name": "stdout",
     "output_type": "stream",
     "text": [
      "Model accuracy: 0.878\n"
     ]
    }
   ],
   "source": [
    "filename = (f'./saved_models/{notebook}_{model_text}.p')\n",
    "# Check if exists\n",
    "file_exists = exists(filename)\n",
    "\n",
    "if file_exists:\n",
    "    # Load models\n",
    "    with open(filename, 'rb') as filehandler:\n",
    "        model = pickle.load(filehandler)\n",
    "        \n",
    "else:\n",
    "    # Define and Fit model\n",
    "    model = XGBClassifier(verbosity = 0, seed=42, learning_rate=0.5)\n",
    "    model.fit(X, y)\n",
    "\n",
    "    # Save using pickle\n",
    "    with open(filename, 'wb') as filehandler:\n",
    "        pickle.dump(model, filehandler)\n",
    "\n",
    "# Get the predictions for each patient \n",
    "#   (the classification, and the probability of being in either class)\n",
    "y_pred = model.predict(X)\n",
    "y_pred_proba = model.predict_proba(X)\n",
    "\n",
    "# Calculate the models accuracy\n",
    "accuracy = np.mean(y == y_pred)\n",
    "print(f'Model accuracy: {accuracy:0.3f}')"
   ]
  },
  {
   "cell_type": "markdown",
   "metadata": {},
   "source": [
    "## SHAP values\n",
    "\n",
    "SHAP values give the contribution that each feature has on the models prediction, per instance. A SHAP value is returned for each feature, for each instance.\n",
    "\n",
    "We will use the shap library: https://shap.readthedocs.io/en/latest/index.html\n",
    "\n",
    "'Raw' SHAP values from XGBoost model are log odds ratios.\n",
    "\n",
    "### Get SHAP values\n",
    "\n",
    "TreeExplainer is a fast and exact method to estimate SHAP values for tree models and ensembles of trees. Once set up, we can use this explainer to calculate the SHAP values.\n",
    "\n",
    "Either load from pickle (if file exists), or calculate.\n",
    "\n",
    "Setup method to estimate SHAP values (in their default units: log odds)"
   ]
  },
  {
   "cell_type": "code",
   "execution_count": 13,
   "metadata": {},
   "outputs": [
    {
     "name": "stdout",
     "output_type": "stream",
     "text": [
      "CPU times: user 617 ms, sys: 1.5 s, total: 2.11 s\n",
      "Wall time: 275 ms\n"
     ]
    }
   ],
   "source": [
    "%%time\n",
    "# Set up method to estimate SHAP values for tree models and ensembles of trees\n",
    "\n",
    "filename = f'./output/{notebook}_{model_text}_shap_explainer.p'\n",
    "file_exists = exists(filename)\n",
    "\n",
    "if file_exists:\n",
    "    # Load SHAP explainer\n",
    "    with open(filename, 'rb') as filehandler:\n",
    "        explainer = pickle.load(filehandler)\n",
    "else:\n",
    "    # Set up method to estimate SHAP values for tree models & ensembles of trees\n",
    "    explainer = shap.TreeExplainer(model)\n",
    "\n",
    "    # Save using pickle\n",
    "    with open(filename, 'wb') as filehandler:\n",
    "        pickle.dump(explainer, filehandler)"
   ]
  },
  {
   "cell_type": "markdown",
   "metadata": {},
   "source": [
    "Setup method to estimate SHAP values as a probability"
   ]
  },
  {
   "cell_type": "code",
   "execution_count": 14,
   "metadata": {},
   "outputs": [
    {
     "name": "stdout",
     "output_type": "stream",
     "text": [
      "CPU times: user 183 ms, sys: 23.7 ms, total: 206 ms\n",
      "Wall time: 207 ms\n"
     ]
    }
   ],
   "source": [
    "%%time\n",
    "# Set up method to estimate SHAP values for tree models and ensembles of trees    \n",
    "\n",
    "filename = (f'./output/'\n",
    "            f'{notebook}_{model_text}_shap_explainer_probability.p')\n",
    "file_exists = exists(filename)\n",
    "\n",
    "if file_exists:\n",
    "    # Load SHAP interaction\n",
    "    with open(filename, 'rb') as filehandler:\n",
    "        explainer_probability = pickle.load(filehandler)\n",
    "else:\n",
    "    explainer_probability = shap.TreeExplainer(model, X, \n",
    "                                               model_output='probability')\n",
    "\n",
    "    # Save using pickle\n",
    "    with open(filename, 'wb') as filehandler:\n",
    "        pickle.dump(explainer_probability, filehandler)"
   ]
  },
  {
   "cell_type": "markdown",
   "metadata": {},
   "source": [
    "Calculate the SHAP values"
   ]
  },
  {
   "cell_type": "code",
   "execution_count": 15,
   "metadata": {},
   "outputs": [
    {
     "name": "stdout",
     "output_type": "stream",
     "text": [
      "CPU times: user 1min 38s, sys: 6.01 s, total: 1min 44s\n",
      "Wall time: 9.18 s\n"
     ]
    }
   ],
   "source": [
    "%%time\n",
    "# Get/calculate SHAP values\n",
    "filename = f'./output/{notebook}_{model_text}_shap_values_extended.p'\n",
    "file_exists = exists(filename)\n",
    "\n",
    "if file_exists:\n",
    "    # Load explainer\n",
    "    with open(filename, 'rb') as filehandler:\n",
    "        shap_values_extended = pickle.load(filehandler)\n",
    "else:\n",
    "    # Get SHAP values\n",
    "    shap_values_extended = explainer(X)\n",
    "    \n",
    "    # Save using pickle\n",
    "    with open(filename, 'wb') as filehandler:\n",
    "        pickle.dump(shap_values_extended, filehandler)"
   ]
  },
  {
   "cell_type": "markdown",
   "metadata": {},
   "source": [
    "The explainer returns the base value which is the same value for all instances [shap_value.base_values], the shap values per feature [shap_value.values]. It also returns the feature dataset values [shap_values.data]. You can (sometimes!) access the feature names from the explainer [explainer.data_feature_names].\n",
    "\n",
    "Let's take a look at the data held for the first instance:\n",
    "* .values has the SHAP value for each of the four features.\n",
    "* .base_values has the best guess value without knowing anything about the instance.\n",
    "* .data has each of the feature values"
   ]
  },
  {
   "cell_type": "code",
   "execution_count": 16,
   "metadata": {},
   "outputs": [
    {
     "data": {
      "text/plain": [
       ".values =\n",
       "array([ 7.56502628e-01,  4.88319576e-01,  1.10273695e+00,  4.40223962e-01,\n",
       "        4.98975307e-01,  2.02812225e-01, -2.62601525e-01,  3.69181409e-02,\n",
       "        2.30234995e-01,  3.20923195e-04, -6.03703642e-03, -7.17267860e-04,\n",
       "        0.00000000e+00, -4.91688668e-04,  1.20360847e-03,  1.77788886e-03,\n",
       "       -4.34198463e-03, -2.76021136e-04, -2.79896380e-03,  3.52182891e-03,\n",
       "       -2.73969141e-04,  8.53505917e-03, -5.28220041e-03, -8.25227005e-04,\n",
       "        6.20208494e-03,  6.92215608e-03, -6.32244349e-03, -3.35367222e-04,\n",
       "        7.81939551e-03, -4.71850217e-06, -4.25534381e-05,  6.48253039e-03,\n",
       "        8.43156071e-04, -6.28353562e-04, -1.25156669e-02, -7.92063680e-03,\n",
       "       -1.99409085e-03, -5.05548809e-03, -3.90118686e-03,  1.30317558e-03,\n",
       "        0.00000000e+00, -6.48246554e-04,  1.19629130e-03,  8.26304778e-04,\n",
       "        1.28053436e-02,  2.55714403e-03, -3.20375757e-03,  4.23251512e-03,\n",
       "       -7.19791185e-03,  4.02670400e-03,  3.75146419e-03,  8.31848301e-04,\n",
       "        3.45067866e-03,  3.92199913e-03,  1.05317042e-04,  9.53648426e-03,\n",
       "        2.34490633e-03, -1.05699897e-03, -7.75758363e-03,  1.09220366e-03,\n",
       "        0.00000000e+00,  5.15310653e-03, -1.28013985e-02,  7.28079583e-03,\n",
       "        1.98326469e-03,  2.40865033e-04,  6.70310017e-03,  1.18395500e-03,\n",
       "        8.82393331e-04,  2.83133984e-03,  2.06021918e-03, -8.22589453e-03,\n",
       "        5.11038816e-03, -3.25066457e-03, -1.15480982e-02,  9.36000666e-04,\n",
       "        2.03671609e-03, -2.02708528e-03, -5.31264208e-03,  2.42300611e-03,\n",
       "        3.16989725e-04,  3.67143471e-03, -5.07418578e-03, -2.68517504e-03,\n",
       "        3.30522249e-04, -6.63852552e-03, -1.63316587e-03,  1.75383547e-03,\n",
       "       -4.12231544e-03,  1.20234396e-03, -6.25999365e-03,  0.00000000e+00,\n",
       "       -1.00428164e-02, -1.76329317e-03,  3.12283775e-03,  4.69124934e-04,\n",
       "       -1.22163491e-03,  2.30912305e-03,  9.43152234e-04,  1.22348359e-03,\n",
       "        5.29656609e-05, -9.66969132e-03,  3.44762520e-06, -5.46710449e-04,\n",
       "        4.26546484e-03,  4.65912558e-03,  1.30611981e-04, -2.89813057e-03,\n",
       "       -2.98934802e-03, -1.47398096e-03, -2.31104009e-02, -3.47609469e-03,\n",
       "       -5.73671749e-03,  3.97895870e-04,  9.02379164e-04, -5.86819311e-04,\n",
       "       -1.79305486e-03, -5.28960605e-04, -2.10736915e-02,  3.50499223e-03,\n",
       "       -2.04754542e-04, -2.86527374e-03,  1.52953295e-03, -3.72403156e-06,\n",
       "        1.42271689e-03, -2.97368824e-04,  5.06201060e-04,  5.77868486e-04,\n",
       "       -1.44459037e-02,  3.30785802e-03, -2.37809308e-03, -7.35214865e-03,\n",
       "        3.36531224e-03,  1.49519066e-03, -2.46208580e-03,  7.20066251e-04,\n",
       "        6.83251710e-04, -1.92034326e-03,  2.39002449e-03, -8.96935933e-04,\n",
       "        4.85493708e-03], dtype=float32)\n",
       "\n",
       ".base_values =\n",
       "-1.1629876\n",
       "\n",
       ".data =\n",
       "array([ 17. ,   1. ,  14. ,   1. ,   0. ,   0. , 186. ,   0. ,  47.5,\n",
       "         0. ,   0. ,   0. ,   0. ,   0. ,   0. ,   0. ,   0. ,   0. ,\n",
       "         0. ,   0. ,   0. ,   0. ,   0. ,   0. ,   0. ,   0. ,   0. ,\n",
       "         0. ,   0. ,   0. ,   0. ,   0. ,   0. ,   0. ,   0. ,   0. ,\n",
       "         0. ,   0. ,   0. ,   0. ,   0. ,   0. ,   0. ,   0. ,   0. ,\n",
       "         0. ,   0. ,   0. ,   0. ,   0. ,   0. ,   0. ,   0. ,   0. ,\n",
       "         0. ,   0. ,   0. ,   0. ,   0. ,   0. ,   0. ,   0. ,   0. ,\n",
       "         0. ,   0. ,   0. ,   0. ,   0. ,   0. ,   0. ,   0. ,   0. ,\n",
       "         0. ,   0. ,   0. ,   0. ,   0. ,   0. ,   0. ,   0. ,   0. ,\n",
       "         0. ,   0. ,   0. ,   0. ,   0. ,   0. ,   0. ,   0. ,   0. ,\n",
       "         0. ,   0. ,   0. ,   0. ,   0. ,   0. ,   0. ,   0. ,   0. ,\n",
       "         0. ,   0. ,   0. ,   0. ,   0. ,   0. ,   0. ,   0. ,   0. ,\n",
       "         0. ,   0. ,   1. ,   0. ,   0. ,   0. ,   0. ,   0. ,   0. ,\n",
       "         0. ,   0. ,   0. ,   0. ,   0. ,   0. ,   0. ,   0. ,   0. ,\n",
       "         0. ,   0. ,   0. ,   0. ,   0. ,   0. ,   0. ,   0. ,   0. ,\n",
       "         0. ,   0. ,   0. ,   0. ,   0. ,   0. ])"
      ]
     },
     "execution_count": 16,
     "metadata": {},
     "output_type": "execute_result"
    }
   ],
   "source": [
    "shap_values_extended[0]"
   ]
  },
  {
   "cell_type": "markdown",
   "metadata": {},
   "source": [
    "There is one of these for each instance."
   ]
  },
  {
   "cell_type": "code",
   "execution_count": 17,
   "metadata": {},
   "outputs": [
    {
     "data": {
      "text/plain": [
       "(88792, 141)"
      ]
     },
     "execution_count": 17,
     "metadata": {},
     "output_type": "execute_result"
    }
   ],
   "source": [
    "shap_values_extended.shape"
   ]
  },
  {
   "cell_type": "markdown",
   "metadata": {},
   "source": [
    "#### Calculate average SHAP values for each feature (across all the patients)\n",
    "\n",
    "Calculate the mean SHAP value for each feature (across all instances), in three ways:\n",
    "* mean of raw values\n",
    "* mean of absolute values\n",
    "* absolute of mean of raw values\n",
    "\n",
    "(Will use mean |SHAP| to rank the features to determine the order of features for the violin plots)"
   ]
  },
  {
   "cell_type": "code",
   "execution_count": 18,
   "metadata": {},
   "outputs": [
    {
     "data": {
      "text/html": [
       "<div>\n",
       "<style scoped>\n",
       "    .dataframe tbody tr th:only-of-type {\n",
       "        vertical-align: middle;\n",
       "    }\n",
       "\n",
       "    .dataframe tbody tr th {\n",
       "        vertical-align: top;\n",
       "    }\n",
       "\n",
       "    .dataframe thead th {\n",
       "        text-align: right;\n",
       "    }\n",
       "</style>\n",
       "<table border=\"1\" class=\"dataframe\">\n",
       "  <thead>\n",
       "    <tr style=\"text-align: right;\">\n",
       "      <th></th>\n",
       "      <th>mean_shap</th>\n",
       "      <th>abs_mean_shap</th>\n",
       "      <th>mean_abs_shap</th>\n",
       "      <th>rank</th>\n",
       "    </tr>\n",
       "  </thead>\n",
       "  <tbody>\n",
       "    <tr>\n",
       "      <th>Infarction</th>\n",
       "      <td>-0.974695</td>\n",
       "      <td>0.974695</td>\n",
       "      <td>1.540489</td>\n",
       "      <td>1.0</td>\n",
       "    </tr>\n",
       "    <tr>\n",
       "      <th>Arrival-to-scan time</th>\n",
       "      <td>-0.385795</td>\n",
       "      <td>0.385795</td>\n",
       "      <td>0.991457</td>\n",
       "      <td>2.0</td>\n",
       "    </tr>\n",
       "    <tr>\n",
       "      <th>Stroke severity</th>\n",
       "      <td>-0.196834</td>\n",
       "      <td>0.196834</td>\n",
       "      <td>0.915676</td>\n",
       "      <td>3.0</td>\n",
       "    </tr>\n",
       "    <tr>\n",
       "      <th>Precise onset time</th>\n",
       "      <td>-0.061659</td>\n",
       "      <td>0.061659</td>\n",
       "      <td>0.538988</td>\n",
       "      <td>4.0</td>\n",
       "    </tr>\n",
       "    <tr>\n",
       "      <th>Prior disability level</th>\n",
       "      <td>-0.005883</td>\n",
       "      <td>0.005883</td>\n",
       "      <td>0.387559</td>\n",
       "      <td>5.0</td>\n",
       "    </tr>\n",
       "    <tr>\n",
       "      <th>Use of AF anticoagulants</th>\n",
       "      <td>-0.041382</td>\n",
       "      <td>0.041382</td>\n",
       "      <td>0.310106</td>\n",
       "      <td>6.0</td>\n",
       "    </tr>\n",
       "    <tr>\n",
       "      <th>Onset-to-arrival time</th>\n",
       "      <td>-0.066359</td>\n",
       "      <td>0.066359</td>\n",
       "      <td>0.291748</td>\n",
       "      <td>7.0</td>\n",
       "    </tr>\n",
       "    <tr>\n",
       "      <th>Age</th>\n",
       "      <td>-0.014048</td>\n",
       "      <td>0.014048</td>\n",
       "      <td>0.167593</td>\n",
       "      <td>8.0</td>\n",
       "    </tr>\n",
       "    <tr>\n",
       "      <th>Onset during sleep</th>\n",
       "      <td>-0.024299</td>\n",
       "      <td>0.024299</td>\n",
       "      <td>0.102481</td>\n",
       "      <td>9.0</td>\n",
       "    </tr>\n",
       "    <tr>\n",
       "      <th>team_VKKDD9172T</th>\n",
       "      <td>-0.005500</td>\n",
       "      <td>0.005500</td>\n",
       "      <td>0.029842</td>\n",
       "      <td>10.0</td>\n",
       "    </tr>\n",
       "  </tbody>\n",
       "</table>\n",
       "</div>"
      ],
      "text/plain": [
       "                          mean_shap  abs_mean_shap  mean_abs_shap  rank\n",
       "Infarction                -0.974695       0.974695       1.540489   1.0\n",
       "Arrival-to-scan time      -0.385795       0.385795       0.991457   2.0\n",
       "Stroke severity           -0.196834       0.196834       0.915676   3.0\n",
       "Precise onset time        -0.061659       0.061659       0.538988   4.0\n",
       "Prior disability level    -0.005883       0.005883       0.387559   5.0\n",
       "Use of AF anticoagulants  -0.041382       0.041382       0.310106   6.0\n",
       "Onset-to-arrival time     -0.066359       0.066359       0.291748   7.0\n",
       "Age                       -0.014048       0.014048       0.167593   8.0\n",
       "Onset during sleep        -0.024299       0.024299       0.102481   9.0\n",
       "team_VKKDD9172T           -0.005500       0.005500       0.029842  10.0"
      ]
     },
     "execution_count": 18,
     "metadata": {},
     "output_type": "execute_result"
    }
   ],
   "source": [
    "# Get SHAP values\n",
    "shap_values = shap_values_extended.values\n",
    "\n",
    "# Calculate mean SHAP value for each feature (across all instances)\n",
    "df_shap_values_mean = pd.DataFrame(index=feature_names_ohe)\n",
    "df_shap_values_mean['mean_shap'] = np.mean(shap_values, axis=0)\n",
    "df_shap_values_mean['abs_mean_shap'] = np.abs(df_shap_values_mean['mean_shap'])\n",
    "df_shap_values_mean['mean_abs_shap'] = np.mean(np.abs(shap_values), axis=0)\n",
    "df_shap_values_mean['rank'] = df_shap_values_mean['mean_abs_shap'].rank(\n",
    "    ascending=False).values\n",
    "df_shap_values_mean.sort_values('rank', inplace=True, ascending=True)\n",
    "df_shap_values_mean.head(10)"
   ]
  },
  {
   "cell_type": "markdown",
   "metadata": {},
   "source": [
    "Take order of the first 9 features (assuming that all of the teams one-hot encoded features are ranked below the other features)."
   ]
  },
  {
   "cell_type": "code",
   "execution_count": 19,
   "metadata": {},
   "outputs": [],
   "source": [
    "features_shap_ranked = list(df_shap_values_mean.head(9).index)"
   ]
  },
  {
   "cell_type": "markdown",
   "metadata": {},
   "source": [
    "### Violin plots show the relationship between feature value and SHAP value for all of the features\n",
    "\n",
    "Output descriptive text to use in the paper to describe the differences a feature value had on the likelihood of receiving thromboylsis.\n",
    "\n",
    "Resource: \n",
    "https://towardsdatascience.com/binning-records-on-a-continuous-variable-with-pandas-cut-and-qcut-5d7c8e11d7b0\n",
    "https://matplotlib.org/3.1.0/gallery/statistics/customized_violin.html"
   ]
  },
  {
   "cell_type": "code",
   "execution_count": 20,
   "metadata": {},
   "outputs": [],
   "source": [
    "def set_ax(ax, category_list, feat, rotation=0):\n",
    "    '''\n",
    "    ax [matplotlib axis object] = matplotlib axis object\n",
    "    category_list [list] = used for the xtick labels (the grouping of the data)\n",
    "    feat [string] = used in the axis label, the feature that is being plotted\n",
    "    rotation [integer] = xtick label rotation\n",
    "\n",
    "    reeturn [matplotlib axis object]\n",
    "    \n",
    "    resource: \n",
    "    https://matplotlib.org/3.1.0/gallery/statistics/customized_violin.html\n",
    "    '''\n",
    "    # Set the axes ranges and axes labels\n",
    "    ax.get_xaxis().set_tick_params(direction='out')\n",
    "    ax.xaxis.set_ticks_position('bottom')\n",
    "    ax.set_xticks(np.arange(1, len(category_list) + 1))\n",
    "    ax.set_xticklabels(category_list, rotation=rotation, fontsize=10)\n",
    "    ax.set_xlim(0.25, len(category_list) + 0.75)\n",
    "    ax.set_ylabel(f'SHAP values for {feat}', fontsize=12)\n",
    "    ax.set_xlabel(f'Feature values for {feat}', fontsize=12)\n",
    "    return(ax)"
   ]
  },
  {
   "cell_type": "markdown",
   "metadata": {},
   "source": [
    "Create violin plot and descriptive text"
   ]
  },
  {
   "cell_type": "code",
   "execution_count": 21,
   "metadata": {},
   "outputs": [
    {
     "name": "stdout",
     "output_type": "stream",
     "text": [
      "Stroke type: The SHAP values for stroke type show that the \n",
      "model effectively eliminated any probability of receiving \n",
      "thrombolysis for non-ischaemic (haemorrhagic) stroke. The \n",
      "odds of receiving thrombolysis fell about 6402.03 \n",
      "fold.\n",
      "\n",
      "Arrival-to-scan time: The odds of receiving thrombolysis reduced by \n",
      "about 9.68 (20) fold over the first 120 minutes of arrival to scan time.\n",
      "\n",
      "Stroke severity (NIHSS): The odds of receiving thrombolysis were lowest\n",
      " at NIHSS 0, increased and peaked at NIHSS 15-25, and then fell again \n",
      "with higher stroke severity (NIHSS above 25). The difference between \n",
      "minimum odds (at NIHSS 0) and maximum odds (at 15-25) of receiving \n",
      "thrombolysis was 26.69 (30-35) fold.\n",
      "\n",
      "Stroke onset time type (precise vs. estimated): The odds of receiving \n",
      "thrombolysis were about 3.24 (3) fold greater for precise onset time than \n",
      "estimated onset time.\n",
      "\n",
      "Disability level (mRS) before stroke: The odds of receiving \n",
      "thrombolysis fell about 6.48 (5) fold between mRS 0 and 5.\n",
      "\n",
      "Use of AF anticoagulants: The odds of receiving thrombolysis were about\n",
      " 4.95 fold greater for no use.\n",
      "\n",
      "Onset-to-arrival time: The odds of receiving thrombolysis were similar \n",
      "below 120 minutes, then fell about 3.64 fold between 120 and above.\n",
      "\n",
      "Age: The odds of receiving thrombolysis were similar below 80 years \n",
      "old, then fell about 1.69 fold between 80 and 120 years old.\n",
      "\n",
      "Onset during sleep: The odds of receiving thrombolysis were about \n",
      "4.17 fold lower for onset during sleep.\n",
      "\n"
     ]
    },
    {
     "data": {
      "image/png": "[encoded data removed]",
      "text/plain": [
       "<Figure size 864x1008 with 9 Axes>"
      ]
     },
     "metadata": {
      "needs_background": "light"
     },
     "output_type": "display_data"
    }
   ],
   "source": [
    "# Feature Age needs special consideration. It needs the x ticks to be created,\n",
    "# as the other features with over 50 unique values, but age is already grouped \n",
    "# for the model (into 5yr groups) and so is treated as the other type.\n",
    "\n",
    "# Create figure\n",
    "fig = plt.figure(figsize=(12,14), constrained_layout=True)\n",
    "# A subplot showing violin plot for each feature.\n",
    "# First prepare the fature data for the violin plot: if feature has more than \n",
    "# 50 unique values then assume it needs to be binned (a violin for each bin)\n",
    "\n",
    "# Determine number of rows of subplots by rounding up\n",
    "nrows = math.ceil(len(features_shap_ranked)/4)\n",
    "\n",
    "# Through each feature\n",
    "for n, feat in enumerate(features_shap_ranked):    \n",
    "    \n",
    "    # Get data adn SHAP values\n",
    "    feature_data = shap_values_extended[:, feat].data\n",
    "    feature_shap = shap_values_extended[:, feat].values\n",
    "\n",
    "    # If feature has more that 50 unique values, then assume it needs to be \n",
    "    # binned (otherwise assume they are unique categories)\n",
    "    if np.unique(feature_data).shape[0] > 50:\n",
    "        # bin the data, create a violin per bin\n",
    "        \n",
    "        # settings for the plot\n",
    "        rotation = 45\n",
    "        step = 30\n",
    "        n_bins = min(11, np.int((feature_data.max())/step))\n",
    "        \n",
    "        # create list of bin values\n",
    "        bin_list = [(i*step) for i in range(n_bins)]\n",
    "        bin_list.append(feature_data.max())\n",
    "\n",
    "        # create list of bins (the unique categories)\n",
    "        category_list = [f'{i*step}-{((i+1)*step-1)}' for i in range(n_bins-1)]\n",
    "        category_list.append(f'{(n_bins-1)*step}+')\n",
    "\n",
    "        # bin the feature data\n",
    "        feature_data = pd.cut(feature_data, bin_list, labels=category_list, \n",
    "                              right=False)\n",
    "\n",
    "    else:\n",
    "        # create a violin per unique value\n",
    "        \n",
    "        # settings for the plot\n",
    "        rotation = 90\n",
    "        \n",
    "        # create list of unique categories in the feature data\n",
    "        # Age needs to keep its decimal value (midpoint between 5 yrs)\n",
    "        category_list = np.unique(feature_data)\n",
    "        if feat != 'Age':\n",
    "            category_list = [int(i) for i in category_list]\n",
    "\n",
    "    # create a list, each entry contains the corresponsing SHAP value for that \n",
    "    # category (or bin). A violin will represent each list.    \n",
    "    shap_per_category = []\n",
    "    for category in category_list:\n",
    "        mask = feature_data == category\n",
    "        shap_per_category.append(feature_shap[mask])\n",
    "\n",
    "    # Output descriptive text to use in the paper to describe the differences a \n",
    "    # feature value had on the likelihood of receiving thromboylsis.\n",
    "    if feat == \"Infarction\":\n",
    "        range_shap_log_odds = np.mean(shap_per_category[1]) - np.mean(shap_per_category[0])\n",
    "        odds = math.exp(range_shap_log_odds)\n",
    "        print(f\"Stroke type: The SHAP values for stroke type show that the \\n\"\n",
    "              f\"model effectively eliminated any probability of receiving \\n\"\n",
    "              f\"thrombolysis for non-ischaemic (haemorrhagic) stroke. The \\n\"\n",
    "              f\"odds of receiving thrombolysis fell about {round(odds,2)} \\n\"\n",
    "              f\"fold.\\n\")    \n",
    "    if feat == \"Arrival-to-scan time\":\n",
    "        range_shap_log_odds = np.mean(shap_per_category[0]) - np.mean(shap_per_category[3])\n",
    "        odds = math.exp(range_shap_log_odds)\n",
    "        print(f\"Arrival-to-scan time: The odds of receiving thrombolysis reduced by \\n\"\n",
    "        f\"about {round(odds,2)} (20) fold over the first 120 minutes of arrival to scan time.\\n\")    \n",
    "    if feat == \"Stroke severity\":\n",
    "        range_shap_log_odds = np.mean(shap_per_category[19]) - np.mean(shap_per_category[0])\n",
    "        odds = math.exp(range_shap_log_odds)\n",
    "        print(f\"Stroke severity (NIHSS): The odds of receiving thrombolysis were lowest\\n\"\n",
    "          f\" at NIHSS 0, increased and peaked at NIHSS 15-25, and then fell again \\n\"\n",
    "          f\"with higher stroke severity (NIHSS above 25). The difference between \\n\"\n",
    "          f\"minimum odds (at NIHSS 0) and maximum odds (at 15-25) of receiving \\n\"\n",
    "          f\"thrombolysis was {round(odds,2)} (30-35) fold.\\n\")\n",
    "    if feat == \"Precise onset time\":\n",
    "        range_shap_log_odds = np.mean(shap_per_category[1]) - np.mean(shap_per_category[0])\n",
    "        odds = math.exp(range_shap_log_odds)\n",
    "        print(f\"Stroke onset time type (precise vs. estimated): The odds of receiving \\n\"\n",
    "          f\"thrombolysis were about {round(odds,2)} (3) fold greater for precise onset time than \\n\"\n",
    "          f\"estimated onset time.\\n\")\n",
    "    if feat == \"Prior disability level\":\n",
    "        range_shap_log_odds = np.mean(shap_per_category[0]) - np.mean(shap_per_category[5])\n",
    "        odds = math.exp(range_shap_log_odds)\n",
    "        print(f\"Disability level (mRS) before stroke: The odds of receiving \\n\"\n",
    "        f\"thrombolysis fell about {round(odds,2)} (5) fold between mRS 0 and 5.\\n\")\n",
    "    if feat == \"Use of AF anticoagulants\":\n",
    "        range_shap_log_odds = np.mean(shap_per_category[0]) - np.mean(shap_per_category[1])\n",
    "        odds = math.exp(range_shap_log_odds)\n",
    "        print(f\"Use of AF anticoagulants: The odds of receiving thrombolysis were about\\n\"\n",
    "        f\" {round(odds,2)} fold greater for no use.\\n\")\n",
    "    if feat == \"Onset-to-arrival time\":\n",
    "        range_shap_log_odds = np.mean(shap_per_category[4]) - np.mean(shap_per_category[7])\n",
    "        odds = math.exp(range_shap_log_odds)\n",
    "        print(f\"Onset-to-arrival time: The odds of receiving thrombolysis were similar \\n\"\n",
    "        f\"below 120 minutes, then fell about {round(odds,2)} fold between 120 and above.\\n\")\n",
    "    if feat == \"Age\":\n",
    "        range_shap_log_odds = np.mean(shap_per_category[13]) - np.mean(shap_per_category[17])\n",
    "        odds = math.exp(range_shap_log_odds)\n",
    "        print(f\"Age: The odds of receiving thrombolysis were similar below 80 years \\n\"\n",
    "        f\"old, then fell about {round(odds,2)} fold between 80 and 120 years old.\\n\")\n",
    "    if feat == \"Onset during sleep\":\n",
    "        range_shap_log_odds = np.mean(shap_per_category[0]) - np.mean(shap_per_category[1])\n",
    "        odds = math.exp(range_shap_log_odds)\n",
    "        print(f\"Onset during sleep: The odds of receiving thrombolysis were about \\n\"\n",
    "        f\"{round(odds,2)} fold lower for onset during sleep.\\n\")\n",
    "\n",
    "    if feat == 'Age':\n",
    "        # create text of x ticks\n",
    "        category_list = [f'{int(i-2.5)}-{int(i+2.5)}' for i in category_list]\n",
    "\n",
    "        # SSNAP dataset had oldest age category as 100-120 (not a 5 yr band as \n",
    "        #   the other ages). To accommodate this, if last age category is \"110\"\n",
    "        #   then overwrite the label with the correct band (100-120), and not\n",
    "        #   107-112 as the above code would create.\n",
    "        if category_list[-1] == '107-112':\n",
    "            category_list[-1] = '100-120'\n",
    "            \n",
    "    # create violin plot\n",
    "    ax = fig.add_subplot(nrows,3,n+1)\n",
    "    \n",
    "    ax.violinplot(shap_per_category, showmeans=True, widths=0.9)\n",
    "    \n",
    "    # Add line at Shap = 0\n",
    "    feature_values = shap_values_extended[:, feat].data\n",
    "    ax.plot([0, len(feature_values)], [0,0],c='0.5')   \n",
    "\n",
    "    # customise the axes\n",
    "    ax = set_ax(ax, category_list, feat, rotation=rotation)\n",
    "    plt.subplots_adjust(bottom=0.15, wspace=0.05)\n",
    "    \n",
    "    # Adjust stroke severity tickmarks\n",
    "    if feat == 'Stroke severity':\n",
    "        ax.set_xticks(np.arange(1, len(category_list)+1, 2))\n",
    "        ax.set_xticklabels(category_list[0::2])   \n",
    "    \n",
    "    # Add title\n",
    "    ax.set_title(feat)\n",
    "    \n",
    "plt.tight_layout(pad=2)\n",
    "    \n",
    "fig.savefig(f'output/{notebook}_{model_text}_thrombolysis_shap_violin_all_'\n",
    "            f'features.jpg', \n",
    "            dpi=300, bbox_inches='tight', pad_inches=0.2)\n",
    "\n",
    "plt.show()"
   ]
  },
  {
   "cell_type": "markdown",
   "metadata": {},
   "source": [
    "### Compare SHAP values for the hospital one-hot encoded features\n",
    "\n",
    "The hospital feature is one-hot encoded, so there is a SHAP value per stroke team. We will use this to create a histogram of the frequency of the SHAP value for the hospital feature (take the mean of the SHAP values for the instances for each hospital's own patients)."
   ]
  },
  {
   "cell_type": "code",
   "execution_count": 22,
   "metadata": {},
   "outputs": [],
   "source": [
    "# Set up list for storing patient data and hospital SHAP\n",
    "feature_data_with_shap = []\n",
    "\n",
    "# Get mean SHAP for stroke team when patient attending that stroke team\n",
    "unique_stroketeams_list = list(np.unique(data['Stroke team']))\n",
    "stroke_team_mean_shap = []\n",
    "# Loop through stroke teams\n",
    "for stroke_team in unique_stroketeams_list:\n",
    "    # Identify rows in test data that match each stroke team\n",
    "    mask = data['Stroke team'] == stroke_team\n",
    "    stroke_team_shap_all_features = shap_values[mask]\n",
    "    # Get column index for stroke_team_in_shap\n",
    "    feature_name = 'team_' + stroke_team\n",
    "    index = feature_names_ohe.index(feature_name)\n",
    "    # Get SHAP values for hospital\n",
    "    stroke_team_shap = stroke_team_shap_all_features[:, index]\n",
    "    # Get mean\n",
    "    mean_shap = np.mean(stroke_team_shap)\n",
    "    # Store mean\n",
    "    stroke_team_mean_shap.append(mean_shap)\n",
    "    # Get and store feature data and add SHAP\n",
    "    feature_data = data[mask]\n",
    "    feature_data['Hospital_SHAP'] = stroke_team_shap\n",
    "    feature_data_with_shap.append(feature_data)\n",
    "\n",
    "# Concatenate and save feature_data_with_shap\n",
    "feature_data_with_shap = pd.concat(feature_data_with_shap, axis=0)\n",
    "feature_data_with_shap.to_csv(\n",
    "   f'./predictions/{notebook}_{model_text}_feature_data_with_hospital_shap.csv', \n",
    "    index=False)\n",
    "\n",
    "# Create and save shap mean value per hospital\n",
    "hospital_data = pd.DataFrame()\n",
    "hospital_data[\"stroke_team\"] = unique_stroketeams_list\n",
    "hospital_data[\"shap_mean\"] = stroke_team_mean_shap\n",
    "hospital_data.to_csv(\n",
    "    f'./predictions/{notebook}_{model_text}_mean_shap_per_hospital.csv', \n",
    "    index=False)"
   ]
  },
  {
   "cell_type": "code",
   "execution_count": 23,
   "metadata": {},
   "outputs": [
    {
     "data": {
      "text/html": [
       "<div>\n",
       "<style scoped>\n",
       "    .dataframe tbody tr th:only-of-type {\n",
       "        vertical-align: middle;\n",
       "    }\n",
       "\n",
       "    .dataframe tbody tr th {\n",
       "        vertical-align: top;\n",
       "    }\n",
       "\n",
       "    .dataframe thead th {\n",
       "        text-align: right;\n",
       "    }\n",
       "</style>\n",
       "<table border=\"1\" class=\"dataframe\">\n",
       "  <thead>\n",
       "    <tr style=\"text-align: right;\">\n",
       "      <th></th>\n",
       "      <th>stroke_team</th>\n",
       "      <th>shap_mean</th>\n",
       "    </tr>\n",
       "  </thead>\n",
       "  <tbody>\n",
       "    <tr>\n",
       "      <th>0</th>\n",
       "      <td>AGNOF1041H</td>\n",
       "      <td>-0.026516</td>\n",
       "    </tr>\n",
       "    <tr>\n",
       "      <th>1</th>\n",
       "      <td>AKCGO9726K</td>\n",
       "      <td>0.520501</td>\n",
       "    </tr>\n",
       "    <tr>\n",
       "      <th>2</th>\n",
       "      <td>AOBTM3098N</td>\n",
       "      <td>-0.401549</td>\n",
       "    </tr>\n",
       "    <tr>\n",
       "      <th>3</th>\n",
       "      <td>APXEE8191H</td>\n",
       "      <td>0.000000</td>\n",
       "    </tr>\n",
       "    <tr>\n",
       "      <th>4</th>\n",
       "      <td>ATDID5461S</td>\n",
       "      <td>0.182610</td>\n",
       "    </tr>\n",
       "    <tr>\n",
       "      <th>...</th>\n",
       "      <td>...</td>\n",
       "      <td>...</td>\n",
       "    </tr>\n",
       "    <tr>\n",
       "      <th>127</th>\n",
       "      <td>YPKYH1768F</td>\n",
       "      <td>-0.166696</td>\n",
       "    </tr>\n",
       "    <tr>\n",
       "      <th>128</th>\n",
       "      <td>YQMZV4284N</td>\n",
       "      <td>0.388534</td>\n",
       "    </tr>\n",
       "    <tr>\n",
       "      <th>129</th>\n",
       "      <td>ZBVSO0975W</td>\n",
       "      <td>-0.573069</td>\n",
       "    </tr>\n",
       "    <tr>\n",
       "      <th>130</th>\n",
       "      <td>ZHCLE1578P</td>\n",
       "      <td>0.139613</td>\n",
       "    </tr>\n",
       "    <tr>\n",
       "      <th>131</th>\n",
       "      <td>ZRRCV7012C</td>\n",
       "      <td>-0.484217</td>\n",
       "    </tr>\n",
       "  </tbody>\n",
       "</table>\n",
       "<p>132 rows × 2 columns</p>\n",
       "</div>"
      ],
      "text/plain": [
       "    stroke_team  shap_mean\n",
       "0    AGNOF1041H  -0.026516\n",
       "1    AKCGO9726K   0.520501\n",
       "2    AOBTM3098N  -0.401549\n",
       "3    APXEE8191H   0.000000\n",
       "4    ATDID5461S   0.182610\n",
       "..          ...        ...\n",
       "127  YPKYH1768F  -0.166696\n",
       "128  YQMZV4284N   0.388534\n",
       "129  ZBVSO0975W  -0.573069\n",
       "130  ZHCLE1578P   0.139613\n",
       "131  ZRRCV7012C  -0.484217\n",
       "\n",
       "[132 rows x 2 columns]"
      ]
     },
     "execution_count": 23,
     "metadata": {},
     "output_type": "execute_result"
    }
   ],
   "source": [
    "hospital_data"
   ]
  },
  {
   "cell_type": "markdown",
   "metadata": {},
   "source": [
    "#### Use same colour scheme as violin plot (for paper)\n",
    " \n",
    "Code used to get colour of violin plots\n",
    "Resource: https://stackoverflow.com/questions/26291479/changing-the-color-of-matplotlibs-violin-plots"
   ]
  },
  {
   "cell_type": "code",
   "execution_count": 24,
   "metadata": {},
   "outputs": [
    {
     "data": {
      "image/png": "[encoded data removed]",
      "text/plain": [
       "<Figure size 144x144 with 1 Axes>"
      ]
     },
     "metadata": {
      "needs_background": "light"
     },
     "output_type": "display_data"
    }
   ],
   "source": [
    "fig = plt.figure(figsize=(2,2))\n",
    "ax = fig.add_subplot()\n",
    "vp = ax.violinplot(shap_per_category, showmeans=True, widths=0.9)\n",
    "\n",
    "for vp1 in vp['bodies']:\n",
    "    facecolor = vp1.get_edgecolor()\n",
    "    edgecolor = vp['cmeans'].get_colors()"
   ]
  },
  {
   "cell_type": "markdown",
   "metadata": {},
   "source": [
    "#### Plot histogram using color scheme from violin plots\n",
    "* facecolor = [0.12156863, 0.46666667, 0.70588235, 0.3]\n",
    "* edgecolor= [0.12156863, 0.46666667, 0.70588235, 1.]"
   ]
  },
  {
   "cell_type": "markdown",
   "metadata": {},
   "source": [
    "Plot histogram of the frequency of the mean SHAP value for the instances for each hospital's own patients"
   ]
  },
  {
   "cell_type": "code",
   "execution_count": 25,
   "metadata": {},
   "outputs": [
    {
     "data": {
      "image/png": "[encoded data removed]",
      "text/plain": [
       "<Figure size 864x216 with 1 Axes>"
      ]
     },
     "metadata": {
      "needs_background": "light"
     },
     "output_type": "display_data"
    }
   ],
   "source": [
    "# Plot histogram\n",
    "fig = plt.figure(figsize=(12,3))\n",
    "ax = fig.add_subplot()\n",
    "\n",
    "ax.hist(stroke_team_mean_shap, bins=np.arange(-1.5, 1.5, 0.1), \n",
    "        color=[0.12156863, 0.46666667, 0.70588235, 0.3], \n",
    "        ec=[0.12156863, 0.46666667, 0.70588235, 1.], \n",
    "        linewidth=1.4)\n",
    "\n",
    "ax.set_xlabel('SHAP values for one-hot encoded hospital features')\n",
    "ax.set_ylabel('Count')\n",
    "plt.savefig(f'./output/{notebook}_{model_text}_hosp_shap_hist.jpg', dpi=300, \n",
    "            bbox_inches='tight', pad_inches=0.2)\n",
    "plt.show()"
   ]
  },
  {
   "cell_type": "markdown",
   "metadata": {},
   "source": [
    "Output descriptive text to use in the paper to describe the differences the hospitalfeature value had on the likelihood of receiving thromboylsis.\n",
    "Convert from log odds to odds."
   ]
  },
  {
   "cell_type": "code",
   "execution_count": 26,
   "metadata": {},
   "outputs": [
    {
     "name": "stdout",
     "output_type": "stream",
     "text": [
      "There was a 13.6 fold difference in odds of receiving thrombolysis between hospitals\n"
     ]
    }
   ],
   "source": [
    "range_shap_log_odds = max(stroke_team_mean_shap) - min(stroke_team_mean_shap)\n",
    "odds = math.exp(range_shap_log_odds)\n",
    "print(f\"There was a {round(odds,2)} fold difference in odds of receiving thrombolysis between hospitals\")"
   ]
  }
 ],
 "metadata": {
  "kernelspec": {
   "display_name": "Python 3 (ipykernel)",
   "language": "python",
   "name": "python3"
  },
  "language_info": {
   "codemirror_mode": {
    "name": "ipython",
    "version": 3
   },
   "file_extension": ".py",
   "mimetype": "text/x-python",
   "name": "python",
   "nbconvert_exporter": "python",
   "pygments_lexer": "ipython3",
   "version": "3.8.13"
  },
  "vscode": {
   "interpreter": {
    "hash": "b368e36a85415766688ec72e3e874a4b525584eabf4bf7122952a4e0fd64fcde"
   }
  }
 },
 "nbformat": 4,
 "nbformat_minor": 4
}
