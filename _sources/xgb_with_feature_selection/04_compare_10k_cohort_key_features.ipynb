{
 "cells": [
  {
   "cell_type": "markdown",
   "id": "e28d7344-7e4a-4a28-bf35-a86211b7bf7f",
   "metadata": {
    "tags": []
   },
   "source": [
    "# A comparison of 10k cohort thrombolysis rates across hospitals\n",
    "\n",
    "## Plain English summary\n",
    "\n",
    "In response to stroke teams being told that they are performing differently from other, they often state that this is due to them having a different set of patients.\n",
    "\n",
    "This does have some truth to it. For example the hospitals in London will have younger patients, arriving sooner than compared to hospitals in more rural locations.\n",
    "\n",
    "In order to remove patient differences from results, a common 10k cohort of patients will be used with each of the hospital models. That way any difference is due to hospital factors, and not patient factors.\n",
    "\n",
    "The predicted thrombolysis use in the 10k cohort of patients ranged from 10% to 45% across the 132 hospitals. The size of the hospital only accounted for 10% of the variation in thrombolysis use, and so there are other factors that account for the remaining 90%.\n",
    "\n",
    "## Model and data\n",
    "\n",
    "An XGBoost model is trained on all but a 10k patient cohort, to predict which patient will recieve thrombolysis.The 10k patient cohort is then used in two ways: 1) as the test set for the model fitting process 2) as a common set of patients that are sent to each hospital in turn to obtain a thrombolysis rate that is comparable across hosptials which has any patient factors removed.\n",
    "\n",
    "The XGBoost model is fitted to all but 10k instances, and uses 8 features: \n",
    "\n",
    "* Arrival-to-scan time: Time from arrival at hospital to scan (mins)\n",
    "* Infarction: Stroke type (1 = infarction, 0 = haemorrhage)\n",
    "* Stroke severity: Stroke severity (NIHSS) on arrival\n",
    "* Precise onset time: Onset time type (1 = precise, 0 = best estimate)\n",
    "* Prior disability level: Disability level (modified Rankin Scale) before stroke\n",
    "* Stroke team: Stroke team attended\n",
    "* Use of AF anticoagulents: Use of atrial fibrillation anticoagulant (1 = Yes, 0 = No)\n",
    "* Onset-to-arrival time: Time from onset of stroke to arrival at hospital (mins)\n",
    "\n",
    "And one target feature:\n",
    "* Thrombolysis: Recieve thrombolysis (1 = Yes, 0 = No)\n",
    "\n",
    "The 8 features included in the model (to predict whether a patient will recieve thrombolysis) were chosen sequentially as having the single best improvement in model performance (using the ROC AUC). The stroke team feature is included as a one-hot encoded feature.\n",
    "\n",
    "## Aims:\n",
    "\n",
    "* Train XGBoost model on all data except for a 10k set of patients\n",
    "* Predict use of thrombolysis in the heldback 10k cohort of patients, at each of the 132 hospitals (by changing hospital one-hot coding).\n",
    "* Compare the thrombolysis rate across the 132 hospitals. This can be seen as comparing the hosptial effect, as the patient factors have been removed.\n",
    "* Save thrombolysis rate at each hospital for the 10k patient cohort (for use in next notebook).\n",
    "\n",
    "## Observations\n",
    "* The 10k cohort model had an accuracy of 85.2%, in line with accuracy from k-fold testing (84.7%, see notebook 02).\n",
    "* The predicted thrombolysis use in the 10k cohort of patients ranged from 10% to 45%.\n",
    "* Only 10% of the variability in hospital thrombolysis rate can be explained by the hospital admission rate."
   ]
  },
  {
   "cell_type": "markdown",
   "id": "cad56ee2-06be-433d-b5f6-49639e8dbafb",
   "metadata": {},
   "source": [
    "## Import libraries"
   ]
  },
  {
   "cell_type": "code",
   "execution_count": 1,
   "id": "6daa1e72-cd0b-4035-be66-43a234ddca8a",
   "metadata": {},
   "outputs": [],
   "source": [
    "# Turn warnings off to keep notebook tidy\n",
    "import warnings\n",
    "warnings.filterwarnings(\"ignore\")\n",
    "\n",
    "import matplotlib.pyplot as plt\n",
    "import os\n",
    "import pandas as pd\n",
    "import numpy as np\n",
    "\n",
    "from scipy import stats\n",
    "\n",
    "from sklearn.metrics import auc\n",
    "from sklearn.metrics import roc_curve\n",
    "from sklearn.linear_model import LinearRegression\n",
    "\n",
    "from xgboost import XGBClassifier\n",
    "import json"
   ]
  },
  {
   "cell_type": "markdown",
   "id": "f02fb027-f0e9-4d50-aae9-ab12343820a0",
   "metadata": {},
   "source": [
    "## Create output folders if needed"
   ]
  },
  {
   "cell_type": "code",
   "execution_count": 2,
   "id": "37755327-1974-4049-9db8-e1dd16c43cc7",
   "metadata": {},
   "outputs": [],
   "source": [
    "path = './output'\n",
    "if not os.path.exists(path):\n",
    "    os.makedirs(path)\n",
    "    \n",
    "path = './predictions'\n",
    "if not os.path.exists(path):\n",
    "    os.makedirs(path)"
   ]
  },
  {
   "cell_type": "markdown",
   "id": "7e6f0fca-1c28-4fd9-af0a-cf9a4f4a80cf",
   "metadata": {},
   "source": [
    "## Read in JSON file\n",
    "\n",
    "Contains a dictionary for plain English feature names for the 8 features selected in the model. Use these as the column titles in the DataFrame."
   ]
  },
  {
   "cell_type": "code",
   "execution_count": 3,
   "id": "6f816489-2187-47ba-99f7-3a8f386bdc53",
   "metadata": {},
   "outputs": [],
   "source": [
    "with open(\"./output/feature_name_dict.json\") as json_file:\n",
    "    feature_name_dict = json.load(json_file)"
   ]
  },
  {
   "cell_type": "markdown",
   "id": "94556518-b8e0-4f97-b3bf-57bcea8e391a",
   "metadata": {},
   "source": [
    "## Load data\n",
    "\n",
    "10k cohort of patients in test data, rest in training data"
   ]
  },
  {
   "cell_type": "code",
   "execution_count": 4,
   "id": "a38967eb-956c-4023-8fe9-02d186ee771b",
   "metadata": {},
   "outputs": [],
   "source": [
    "data_loc = '../data/10k_training_test/'"
   ]
  },
  {
   "cell_type": "code",
   "execution_count": 5,
   "id": "094e69f6-3897-4da4-a838-fabe0b9baaa4",
   "metadata": {},
   "outputs": [],
   "source": [
    "# Load data\n",
    "train = pd.read_csv(data_loc + 'cohort_10000_train.csv')\n",
    "test = pd.read_csv(data_loc + 'cohort_10000_test.csv')\n",
    "\n",
    "# Read in the names of the selected features for the model\n",
    "number_of_features_to_use = 8\n",
    "key_features = pd.read_csv('./output/feature_selection.csv')\n",
    "key_features = list(key_features['feature'])[:number_of_features_to_use]\n",
    "# And add the target feature name: S2Thrombolysis\n",
    "key_features.append('S2Thrombolysis')\n",
    "\n",
    "# Select features\n",
    "train = train[key_features]\n",
    "train.rename(columns=feature_name_dict, inplace=True)\n",
    "test = test[key_features]\n",
    "test.rename(columns=feature_name_dict, inplace=True)\n",
    "\n",
    "# Store admissions per hospital\n",
    "df_admissions = pd.DataFrame(index=np.unique(train[\"Stroke team\"], return_counts=True)[0])\n",
    "df_admissions[f\"Admissions\"] = np.unique(train[\"Stroke team\"], return_counts=True)[1]"
   ]
  },
  {
   "cell_type": "markdown",
   "id": "4fb4512b-d282-4874-bfcc-67d0aed4b472",
   "metadata": {},
   "source": [
    "## Fit XGBoost model\n",
    "\n",
    "Train a XGBoost model on the 10k cohort train/test dataset"
   ]
  },
  {
   "cell_type": "code",
   "execution_count": 6,
   "id": "41f585ce-8199-4523-a9bc-47c6e259b64d",
   "metadata": {},
   "outputs": [
    {
     "name": "stdout",
     "output_type": "stream",
     "text": [
      "Accuracy: 0.841\n"
     ]
    }
   ],
   "source": [
    "# Get X and y\n",
    "X_train = train.drop('Thrombolysis', axis=1)\n",
    "X_test = test.drop('Thrombolysis', axis=1)\n",
    "y_train = train['Thrombolysis']\n",
    "y_test = test['Thrombolysis']\n",
    "\n",
    "# One hot encode hospitals\n",
    "X_train_hosp = pd.get_dummies(X_train['Stroke team'], prefix = 'team')\n",
    "X_train = pd.concat([X_train, X_train_hosp], axis=1)\n",
    "X_train.drop('Stroke team', axis=1, inplace=True)\n",
    "X_test_hosp = pd.get_dummies(X_test['Stroke team'], prefix = 'team')\n",
    "X_test = pd.concat([X_test, X_test_hosp], axis=1)\n",
    "X_test.drop('Stroke team', axis=1, inplace=True)    \n",
    "\n",
    "# Define model\n",
    "model = XGBClassifier(verbosity=0, seed=42, learning_rate=0.5)\n",
    "\n",
    "# Fit model\n",
    "model.fit(X_train, y_train)\n",
    "\n",
    "# Get predicted probabilities and class\n",
    "y_probs = model.predict_proba(X_test)[:,1]\n",
    "y_pred = y_probs > 0.5\n",
    "\n",
    "# Show accuracy\n",
    "accuracy = np.mean(y_pred == y_test)\n",
    "print (f'Accuracy: {accuracy:.3f}')"
   ]
  },
  {
   "cell_type": "markdown",
   "id": "7f3735e3-beb5-449e-9dfc-244dbd0017b0",
   "metadata": {},
   "source": [
    "Calculate receiver operating characteristic curve area under curve."
   ]
  },
  {
   "cell_type": "code",
   "execution_count": 7,
   "id": "1e1baf80-2c4a-4e7d-9167-1db5b0fa3a4d",
   "metadata": {},
   "outputs": [
    {
     "name": "stdout",
     "output_type": "stream",
     "text": [
      "ROC ACUC: 0.913\n"
     ]
    }
   ],
   "source": [
    "fpr, tpr, thresholds = roc_curve(y_test, y_probs)\n",
    "roc_auc = auc(fpr, tpr)\n",
    "print (f'ROC ACUC: {roc_auc:.3f}')"
   ]
  },
  {
   "cell_type": "markdown",
   "id": "d1d3cd34-8ff5-43d4-9971-03413d007fbe",
   "metadata": {},
   "source": [
    "### Pass 10k cohort through all hospital models and get thrombolysis rate\n",
    "\n",
    "For each hospital, set all of the 10k patients in the test set as attending that hospital, and calculate the thrombolysis rate. This will give a thrombolysis rate for each hospital with patient variation removed, and only hospital factors remaining."
   ]
  },
  {
   "cell_type": "code",
   "execution_count": 8,
   "id": "4050071a-ce7c-4b29-8e88-55032c314cf9",
   "metadata": {},
   "outputs": [],
   "source": [
    "hospitals = list(set(train['Stroke team']))\n",
    "hospitals.sort()\n",
    "thrombolysis_rate = []\n",
    "single_predictions = []\n",
    "\n",
    "for hospital in hospitals:\n",
    "    \n",
    "    # Get test data without thrombolysis hospital or stroke team\n",
    "    X_test_no_hosp = test.drop(['Thrombolysis', 'Stroke team'], axis=1)\n",
    "    \n",
    "    # Copy hospital dataframe and change hospital ID (after setting all to zero)\n",
    "    X_test_adjusted_hospital = X_test_hosp.copy()\n",
    "    X_test_adjusted_hospital.loc[:,:] = 0\n",
    "    team = \"team_\" + hospital\n",
    "    X_test_adjusted_hospital[team] = 1\n",
    "    \n",
    "    X_test_adjusted = pd.concat(\n",
    "        [X_test_no_hosp, X_test_adjusted_hospital], axis=1)\n",
    "    \n",
    "    # Get predicted probabilities and class\n",
    "    y_probs = model.predict_proba(X_test_adjusted)[:,1]\n",
    "    y_pred = y_probs > 0.5\n",
    "    thrombolysis_rate.append(y_pred.mean())\n",
    "    \n",
    "    # Save predictions\n",
    "    single_predictions.append(y_pred * 1)"
   ]
  },
  {
   "cell_type": "code",
   "execution_count": 9,
   "id": "06fbedf2-4b02-4535-a70f-e6f80873326b",
   "metadata": {},
   "outputs": [],
   "source": [
    "# Convert individual predictions (a list of arrays) to a NumPy array, and transpose\n",
    "patient_results = np.array(single_predictions).T\n",
    "# Convert to DataFrame\n",
    "patient_results = pd.DataFrame(patient_results)\n",
    "patient_results.to_csv('./output/10k_individual_predictions.csv', index=False)"
   ]
  },
  {
   "cell_type": "markdown",
   "id": "410ffba2-5142-4ec9-997c-b1180858d17d",
   "metadata": {},
   "source": [
    "Sort by hospital 10k thrombolysis rate."
   ]
  },
  {
   "cell_type": "code",
   "execution_count": 10,
   "id": "8faaac4f-ae37-49c6-bb10-34ed5df9911c",
   "metadata": {},
   "outputs": [],
   "source": [
    "thrombolysis_by_hosp = pd.DataFrame(index=hospitals)\n",
    "thrombolysis_by_hosp['Thrombolysis rate'] = thrombolysis_rate\n",
    "thrombolysis_by_hosp.sort_values(\n",
    "    'Thrombolysis rate', inplace=True, ascending=False)\n",
    "\n",
    "# Save\n",
    "thrombolysis_by_hosp.to_csv(\n",
    "    './output/10k_thrombolysis_rate_by_hosp_key_features.csv', index_label='stroke_team')"
   ]
  },
  {
   "cell_type": "markdown",
   "id": "a0a6198e-86b8-4e21-9bda-085241ba5055",
   "metadata": {},
   "source": [
    "### Plot thrombolysis rate of 10k cohort at each hospital"
   ]
  },
  {
   "cell_type": "code",
   "execution_count": 11,
   "id": "7e8d967d-03db-4119-8602-8b3e903e08b3",
   "metadata": {},
   "outputs": [
    {
     "data": {
      "image/png": "[encoded data removed]",
      "text/plain": [
       "<Figure size 432x432 with 1 Axes>"
      ]
     },
     "metadata": {
      "needs_background": "light"
     },
     "output_type": "display_data"
    }
   ],
   "source": [
    "fig = plt.figure(figsize=(6,6))\n",
    "ax = fig.add_subplot()\n",
    "ax.hist(thrombolysis_rate, bins=np.arange(0.10, 0.46, 0.025))\n",
    "ax.set_xlabel('Thrombolysis rate')\n",
    "ax.set_ylabel('Count')\n",
    "plt.show()"
   ]
  },
  {
   "cell_type": "markdown",
   "id": "d9965104-a12b-44e1-bbbf-20c81d841004",
   "metadata": {},
   "source": [
    "### Show stats"
   ]
  },
  {
   "cell_type": "code",
   "execution_count": 12,
   "id": "88453597-98c8-44a2-8b51-607817c6a44e",
   "metadata": {},
   "outputs": [
    {
     "name": "stdout",
     "output_type": "stream",
     "text": [
      "Mean: 0.275\n",
      "StDev: 0.067\n",
      "Min: 0.096\n",
      "Max0.461\n"
     ]
    }
   ],
   "source": [
    "mean = np.mean(thrombolysis_by_hosp['Thrombolysis rate'])\n",
    "stdev = np.std(thrombolysis_by_hosp['Thrombolysis rate'])\n",
    "minimum = np.min(thrombolysis_by_hosp['Thrombolysis rate'])\n",
    "maximum = np.max(thrombolysis_by_hosp['Thrombolysis rate'])\n",
    "\n",
    "print (f'Mean: {mean:0.3f}')\n",
    "print (f'StDev: {stdev:0.3f}')\n",
    "print (f'Min: {minimum:0.3f}')\n",
    "print (f'Max{maximum:0.3f}')"
   ]
  },
  {
   "cell_type": "markdown",
   "id": "02994448",
   "metadata": {},
   "source": [
    "## Plot thrombolysis rate vs unit size"
   ]
  },
  {
   "cell_type": "code",
   "execution_count": 13,
   "id": "a08995bf-be43-4543-be13-de89628602a6",
   "metadata": {},
   "outputs": [
    {
     "data": {
      "image/png": "[encoded data removed]",
      "text/plain": [
       "<Figure size 432x432 with 1 Axes>"
      ]
     },
     "metadata": {
      "needs_background": "light"
     },
     "output_type": "display_data"
    }
   ],
   "source": [
    "# Join dataframes together (on index)\n",
    "thrombolysis_by_hosp = thrombolysis_by_hosp.join(df_admissions[\"Admissions\"])\n",
    "\n",
    "# Setup data for chart\n",
    "\n",
    "x = np.array(thrombolysis_by_hosp['Admissions']).reshape(-1, 1)\n",
    "y = np.array(thrombolysis_by_hosp['Thrombolysis rate']).reshape(-1, 1)\n",
    "\n",
    "# Fit a regression line to the points\n",
    "slope, intercept, r_value, p_value, std_err = \\\n",
    "    stats.linregress(x.flatten(),y.flatten())\n",
    "r_square = r_value ** 2\n",
    "y_pred = intercept + (x * slope)\n",
    "\n",
    "# Create scatter plot with regression line\n",
    "fig = plt.figure(figsize=(6,6))\n",
    "ax1 = fig.add_subplot(111)\n",
    "ax1.scatter(x, y)\n",
    "plt.plot (x, y_pred, color = 'red')\n",
    "text = f'R squared: {r_square:.3f}\\np: {p_value:0.4f}'\n",
    "ax1.text(1200, 0.11, text, \n",
    "         bbox=dict(facecolor='white', edgecolor='black'))\n",
    "ax1.set_xlabel('Admissions')\n",
    "ax1.set_ylabel('Thrombolysis rate (for 10k patient cohort)')\n",
    "plt.grid()\n",
    "plt.savefig('./output/units_size_10k_thrombolysis.jpg', dpi=300)\n",
    "\n",
    "plt.show()"
   ]
  },
  {
   "cell_type": "markdown",
   "id": "1b268d73-5d8f-43e5-a9a5-e694256e8c2d",
   "metadata": {},
   "source": [
    "## Compare level of agreement between hospitals \n",
    "\n",
    "In this section we look at how many hospitals agree on whether to give each patient in the 10k cohort thrombolysis or not."
   ]
  },
  {
   "cell_type": "markdown",
   "id": "96ad2177-c387-4e68-b0db-37e097e2e2c7",
   "metadata": {},
   "source": [
    "Collating individual predictions:"
   ]
  },
  {
   "cell_type": "code",
   "execution_count": 14,
   "id": "d4ae75d9-34a9-4cfb-a488-37df37bf102a",
   "metadata": {},
   "outputs": [],
   "source": [
    "# Set up data frame and get the number and percent hopsitals giving thrombolysis\n",
    "agreement = pd.DataFrame()\n",
    "agreement['sum'] = patient_results.sum(axis=1)\n",
    "agreement['percent'] = agreement['sum'] * 100 / patient_results.shape[1]\n",
    "# Percent agree can be to give thrombolysis (p) or not (100-p)\n",
    "agreement['percent_agree'] = [max(p, 100-p) for p in agreement['percent']]\n",
    "# Add in whether thrombolysis was actually given\n",
    "agreement['True'] = y_test"
   ]
  },
  {
   "cell_type": "markdown",
   "id": "5e181dce-35d8-4c58-87b2-3049ee734c02",
   "metadata": {},
   "source": [
    "Plot results:"
   ]
  },
  {
   "cell_type": "code",
   "execution_count": 15,
   "id": "a0c77eb0-1a48-41aa-af0e-2937971352c5",
   "metadata": {},
   "outputs": [
    {
     "data": {
      "image/png": "[encoded data removed]",
      "text/plain": [
       "<Figure size 432x432 with 1 Axes>"
      ]
     },
     "metadata": {
      "needs_background": "light"
     },
     "output_type": "display_data"
    }
   ],
   "source": [
    "fig = plt.figure(figsize=(6,6))\n",
    "\n",
    "# Agreement on treatment \n",
    "ax1 = fig.add_subplot(111)\n",
    "xvals = np.arange(50,101,1)\n",
    "\n",
    "y1 = [sum([1 for p in agreement.percent_agree.values if p>=x])\\\n",
    "         /len(agreement.percent_agree.values) for x in xvals]\n",
    "\n",
    "ax1.plot(xvals, y1, label='All patients', linestyle='-')\n",
    "\n",
    "y2 = [sum(1 for p in agreement[agreement['True']==1].percent_agree.values if p>=x)\\\n",
    "         /len(agreement[agreement['True']==1].percent_agree.values) for x in xvals]\n",
    "\n",
    "ax1.plot(xvals, y2, label='Thrombolysed', linestyle='--')\n",
    "\n",
    "y3 = [sum(1 for p in agreement[agreement['True']==0].percent_agree.values if p>=x)\\\n",
    "         /len(agreement[agreement['True']==0].percent_agree.values) for x in xvals]\n",
    "      \n",
    "ax1.plot(xvals, y3, label='Not thrombolysed', linestyle=':')\n",
    "         \n",
    "ax1.legend()\n",
    "\n",
    "ax1.set_xlabel('% Hospitals that agree on given treatment')\n",
    "ax1.set_ylabel('Proportion of patients')\n",
    "ax1.set_ylim(0, 1)\n",
    "ax1.grid()\n",
    "      \n",
    "plt.tight_layout()\n",
    "plt.savefig('./output/agreement_x_hospital_single.jpg', dpi=300)\n",
    "plt.show()"
   ]
  },
  {
   "cell_type": "markdown",
   "id": "ab957d73-5072-4fd2-a051-88050d246808",
   "metadata": {},
   "source": [
    "Show statistics:"
   ]
  },
  {
   "cell_type": "code",
   "execution_count": 16,
   "id": "83d9bba9-f235-4fe9-b20b-ef9e2ace6db7",
   "metadata": {},
   "outputs": [
    {
     "data": {
      "text/html": [
       "<div>\n",
       "<style scoped>\n",
       "    .dataframe tbody tr th:only-of-type {\n",
       "        vertical-align: middle;\n",
       "    }\n",
       "\n",
       "    .dataframe tbody tr th {\n",
       "        vertical-align: top;\n",
       "    }\n",
       "\n",
       "    .dataframe thead th {\n",
       "        text-align: right;\n",
       "    }\n",
       "</style>\n",
       "<table border=\"1\" class=\"dataframe\">\n",
       "  <thead>\n",
       "    <tr style=\"text-align: right;\">\n",
       "      <th></th>\n",
       "      <th>Any</th>\n",
       "      <th>Patient thrombolysed</th>\n",
       "      <th>Patient not thrombolysed</th>\n",
       "    </tr>\n",
       "    <tr>\n",
       "      <th>% Hospitals Agree</th>\n",
       "      <th></th>\n",
       "      <th></th>\n",
       "      <th></th>\n",
       "    </tr>\n",
       "  </thead>\n",
       "  <tbody>\n",
       "    <tr>\n",
       "      <th>80</th>\n",
       "      <td>0.874</td>\n",
       "      <td>0.787</td>\n",
       "      <td>0.911</td>\n",
       "    </tr>\n",
       "    <tr>\n",
       "      <th>90</th>\n",
       "      <td>0.785</td>\n",
       "      <td>0.631</td>\n",
       "      <td>0.849</td>\n",
       "    </tr>\n",
       "    <tr>\n",
       "      <th>95</th>\n",
       "      <td>0.694</td>\n",
       "      <td>0.481</td>\n",
       "      <td>0.784</td>\n",
       "    </tr>\n",
       "  </tbody>\n",
       "</table>\n",
       "</div>"
      ],
      "text/plain": [
       "                     Any  Patient thrombolysed  Patient not thrombolysed\n",
       "% Hospitals Agree                                                       \n",
       "80                 0.874                 0.787                     0.911\n",
       "90                 0.785                 0.631                     0.849\n",
       "95                 0.694                 0.481                     0.784"
      ]
     },
     "execution_count": 16,
     "metadata": {},
     "output_type": "execute_result"
    }
   ],
   "source": [
    "# Set percent of hospital to agree\n",
    "xvals = [80, 90, 95]\n",
    "\n",
    "# Find proportion of patients with agreement for either treat/no-treat decsion\n",
    "agree_all = [sum([1 for p in agreement.percent_agree.values if p>=x])\\\n",
    "         /len(agreement.percent_agree.values) for x in xvals]\n",
    "\n",
    "# Find proportion of thrombolysed patients with agreement\n",
    "agree_thromb = [\n",
    "    sum(1 for p in agreement[agreement['True']==1].percent_agree.values if p>=x)\\\n",
    "         /len(agreement[agreement['True']==1].percent_agree.values) for x in xvals]\n",
    "\n",
    "# Find proportion of non-thrombolysed patients with agreement\n",
    "agree_non_thromb = [\n",
    "    sum(1 for p in agreement[agreement['True']==0].percent_agree.values if p>=x)\\\n",
    "         /len(agreement[agreement['True']==0].percent_agree.values) for x in xvals]\n",
    "\n",
    "# Put in DataFrame\n",
    "results_agree = pd.DataFrame()\n",
    "results_agree['% Hospitals Agree'] = xvals\n",
    "results_agree.set_index('% Hospitals Agree', inplace=True)\n",
    "results_agree['Any'] = agree_all\n",
    "results_agree['Patient thrombolysed'] = agree_thromb\n",
    "results_agree['Patient not thrombolysed'] = agree_non_thromb\n",
    "results_agree = results_agree.round(3)\n",
    "\n",
    "results_agree"
   ]
  },
  {
   "cell_type": "markdown",
   "id": "310ab424-7658-4239-94fe-71b5cdde45f4",
   "metadata": {},
   "source": [
    "In the table above, for example, 87.4% of patients have 80% of hospitals agree on treatment. For those patients that did actually receive thrombolysis, 78.8% of patients have 80% of hospitals agree to thrombolyse. For those patients that did not actually receive thrombolysis, 91.1% of patients have 80% of hospitals agree not to thrombolyse. "
   ]
  },
  {
   "cell_type": "markdown",
   "id": "37cda02e-56af-478d-8b16-d836e166737f",
   "metadata": {},
   "source": [
    "## Observations\n",
    "\n",
    "* The 10k cohort model had an accuracy of 85.2%, in line with accuracy from k-fold testing.\n",
    "* The predicted thrombolysis use in the 10k cohort of patients ranged from 10% to 45%.\n",
    "* Only 10% of the variability in hospital thrombolysis rate can be explained by the hospital admission rate.\n",
    "\n",
    "It is easier to find majority agreement on who not to thrombolyse than who to thrombolyse. For example:\n",
    "\n",
    " * 87.4% of all patients have a treatment decision that is agreed by 80% hospitals\n",
    " * Of those who were not given thrombolysis, 84.1% had agreement by 80% hospitals\n",
    " * Of those who were given thrombolysis, 78.8% had agreement by 80% hospitals\n",
    " \n",
    " Thrombolysis rate of 10k cohort correlates with unit size."
   ]
  }
 ],
 "metadata": {
  "kernelspec": {
   "display_name": "Python 3 (ipykernel)",
   "language": "python",
   "name": "python3"
  },
  "language_info": {
   "codemirror_mode": {
    "name": "ipython",
    "version": 3
   },
   "file_extension": ".py",
   "mimetype": "text/x-python",
   "name": "python",
   "nbconvert_exporter": "python",
   "pygments_lexer": "ipython3",
   "version": "3.8.13"
  }
 },
 "nbformat": 4,
 "nbformat_minor": 5
}
