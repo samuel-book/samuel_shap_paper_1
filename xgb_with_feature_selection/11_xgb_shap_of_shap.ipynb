{
 "cells": [
  {
   "cell_type": "markdown",
   "id": "340334e5",
   "metadata": {},
   "source": [
    "# Understanding SHAP by fitting more SHAPs!\n",
    "(using stratified 5-fold cross validation, and a model with 8 features)\n",
    "\n",
    "## Plain English summary\n",
    "\n",
    "From the XGBoost model fitted to 0fold data, get a SHAP value for the hospital that the patient attended. What does this hospital SHAP value show? Are there any relationships (reasons) between this value and the valuesof the features for that patient? For example, for this particular hosptial that has a patient with a severe stroke and prior disability, how does this hospital act? \n",
    "\n",
    "If fit a XGBoost model of these feature valeus to the hostpial SHAP value, then the SHAP values for hte features show how they contribute to getting the SHAP - help to unpick any relationships between teh feature values and the hostpial SHAP for that patient.\n",
    "\n",
    "## Model and data\n",
    "\n",
    "XGBoost models were trained on stratified k-fold cross-validation data. The 8 features in the model are:\n",
    "\n",
    "* Arrival-to-scan time: Time from arrival at hospital to scan (mins)\n",
    "* Infarction: Stroke type (1 = infarction, 0 = haemorrhage)\n",
    "* Stroke severity: Stroke severity (NIHSS) on arrival\n",
    "* Precise onset time: Onset time type (1 = precise, 0 = best estimate)\n",
    "* Prior disability level: Disability level (modified Rankin Scale) before stroke\n",
    "* Use of AF anticoagulents: Use of atrial fibrillation anticoagulant (1 = Yes, 0 = No)\n",
    "* Onset-to-arrival time: Time from onset of stroke to arrival at hospital (mins)\n",
    "* Thrombolysis use: Stroke team attended\n",
    "\n",
    "And one target feature:\n",
    "* Mean SHAP values for the hospital one-hot encoded feature that the patient attended, from the 0fold model.\n",
    "\n",
    "## Aims\n",
    "\n",
    "* Fit XGBoost model using feature data to predict SHAP value, a model per hospital\n",
    "* Or a model for the 30 bottom hosptials\n",
    "\n",
    "## Observations\n",
    "\n",
    "* Fitting to all 30 bottom hospitals in one model gave R2 of ~0.3\n",
    "* Fitting to a single hospital gave R2 of ~0.8.\n",
    "* Fitting a model to each hospital, and collating all of the values for the observed and the predicted when the instance is in the test set (so get an observed and predicted value for each instance when it exists in the test set). Gave R2 of 0.951\n",
    "* Analyse the SHAP of the features. Do this per hosptial, as each hosptial has a different pattern."
   ]
  },
  {
   "cell_type": "markdown",
   "id": "aca30286",
   "metadata": {},
   "source": [
    "## Import libraries"
   ]
  },
  {
   "cell_type": "code",
   "execution_count": 154,
   "id": "eee409e0",
   "metadata": {
    "tags": []
   },
   "outputs": [],
   "source": [
    "# Turn warnings off to keep notebook tidy\n",
    "import warnings\n",
    "warnings.filterwarnings(\"ignore\")\n",
    "\n",
    "import os\n",
    "import matplotlib.pyplot as plt\n",
    "from matplotlib.lines import Line2D\n",
    "import numpy as np\n",
    "import pandas as pd\n",
    "\n",
    "#from xgboost import XGBClassifier\n",
    "from xgboost import XGBRegressor\n",
    "from sklearn.metrics import auc\n",
    "from sklearn.metrics import roc_curve\n",
    "from sklearn.linear_model import LinearRegression\n",
    "from sklearn import metrics\n",
    "\n",
    "from scipy.stats import linregress\n",
    "import shap\n",
    "from imblearn.over_sampling import RandomOverSampler\n",
    "\n",
    "import json\n",
    "\n",
    "from sklearn.model_selection import StratifiedKFold"
   ]
  },
  {
   "cell_type": "markdown",
   "id": "17d00aaf-0681-4b61-b8e9-0c19a24677e7",
   "metadata": {},
   "source": [
    "## Set modifications to apply"
   ]
  },
  {
   "cell_type": "code",
   "execution_count": 144,
   "id": "3d42d428-d6c9-4cab-b378-85b2e4b13dc3",
   "metadata": {},
   "outputs": [],
   "source": [
    "use_minority_oversampling = False\n",
    "\n",
    "# Set model type (used in file save, e.g. xgb_combined_calibrated_oversampled)\n",
    "model_type = 'xgb_combined_key_features'"
   ]
  },
  {
   "cell_type": "markdown",
   "id": "4f166bdf-870b-499b-bcbe-ff00fd9b3e5c",
   "metadata": {},
   "source": [
    "## Create output folders if needed"
   ]
  },
  {
   "cell_type": "code",
   "execution_count": 145,
   "id": "37755327-1974-4049-9db8-e1dd16c43cc7",
   "metadata": {},
   "outputs": [],
   "source": [
    "path = './output'\n",
    "if not os.path.exists(path):\n",
    "    os.makedirs(path)\n",
    "    \n",
    "path = './predictions'\n",
    "if not os.path.exists(path):\n",
    "    os.makedirs(path)"
   ]
  },
  {
   "cell_type": "markdown",
   "id": "574dc5cc",
   "metadata": {},
   "source": [
    "## Load data\n",
    "\n",
    "Data has previously been split into 5 stratified k-fold splits."
   ]
  },
  {
   "cell_type": "code",
   "execution_count": 146,
   "id": "c9211904",
   "metadata": {
    "tags": [
     "remove-output"
    ]
   },
   "outputs": [],
   "source": [
    "# Read in thrombolysis rate on 10K cohort\n",
    "feature_data_with_shap = pd.read_csv(\n",
    "    './predictions/feature_data_with_hospital_shap.csv')"
   ]
  },
  {
   "cell_type": "code",
   "execution_count": 147,
   "id": "8e3870a2-a042-47f1-8b73-cb592eecd344",
   "metadata": {},
   "outputs": [
    {
     "data": {
      "text/html": [
       "<div>\n",
       "<style scoped>\n",
       "    .dataframe tbody tr th:only-of-type {\n",
       "        vertical-align: middle;\n",
       "    }\n",
       "\n",
       "    .dataframe tbody tr th {\n",
       "        vertical-align: top;\n",
       "    }\n",
       "\n",
       "    .dataframe thead th {\n",
       "        text-align: right;\n",
       "    }\n",
       "</style>\n",
       "<table border=\"1\" class=\"dataframe\">\n",
       "  <thead>\n",
       "    <tr style=\"text-align: right;\">\n",
       "      <th></th>\n",
       "      <th>Arrival-to-scan time</th>\n",
       "      <th>Infarction</th>\n",
       "      <th>Stroke severity</th>\n",
       "      <th>Precise onset time</th>\n",
       "      <th>Prior disability level</th>\n",
       "      <th>Stroke team</th>\n",
       "      <th>Use of AF anticoagulents</th>\n",
       "      <th>Onset-to-arrival time</th>\n",
       "      <th>Thrombolysis</th>\n",
       "      <th>Hospital_SHAP</th>\n",
       "    </tr>\n",
       "  </thead>\n",
       "  <tbody>\n",
       "    <tr>\n",
       "      <th>0</th>\n",
       "      <td>1.0</td>\n",
       "      <td>0</td>\n",
       "      <td>10.0</td>\n",
       "      <td>1</td>\n",
       "      <td>2</td>\n",
       "      <td>AGNOF1041H</td>\n",
       "      <td>0</td>\n",
       "      <td>190.0</td>\n",
       "      <td>0</td>\n",
       "      <td>0.095683</td>\n",
       "    </tr>\n",
       "    <tr>\n",
       "      <th>1</th>\n",
       "      <td>1.0</td>\n",
       "      <td>1</td>\n",
       "      <td>17.0</td>\n",
       "      <td>1</td>\n",
       "      <td>0</td>\n",
       "      <td>AGNOF1041H</td>\n",
       "      <td>0</td>\n",
       "      <td>119.0</td>\n",
       "      <td>1</td>\n",
       "      <td>-0.042648</td>\n",
       "    </tr>\n",
       "    <tr>\n",
       "      <th>2</th>\n",
       "      <td>2.0</td>\n",
       "      <td>1</td>\n",
       "      <td>15.0</td>\n",
       "      <td>0</td>\n",
       "      <td>4</td>\n",
       "      <td>AGNOF1041H</td>\n",
       "      <td>0</td>\n",
       "      <td>64.0</td>\n",
       "      <td>0</td>\n",
       "      <td>-0.174697</td>\n",
       "    </tr>\n",
       "    <tr>\n",
       "      <th>3</th>\n",
       "      <td>2.0</td>\n",
       "      <td>1</td>\n",
       "      <td>4.0</td>\n",
       "      <td>1</td>\n",
       "      <td>1</td>\n",
       "      <td>AGNOF1041H</td>\n",
       "      <td>0</td>\n",
       "      <td>120.0</td>\n",
       "      <td>0</td>\n",
       "      <td>-0.089601</td>\n",
       "    </tr>\n",
       "    <tr>\n",
       "      <th>4</th>\n",
       "      <td>8.0</td>\n",
       "      <td>1</td>\n",
       "      <td>12.0</td>\n",
       "      <td>1</td>\n",
       "      <td>2</td>\n",
       "      <td>AGNOF1041H</td>\n",
       "      <td>0</td>\n",
       "      <td>82.0</td>\n",
       "      <td>1</td>\n",
       "      <td>-0.050211</td>\n",
       "    </tr>\n",
       "    <tr>\n",
       "      <th>...</th>\n",
       "      <td>...</td>\n",
       "      <td>...</td>\n",
       "      <td>...</td>\n",
       "      <td>...</td>\n",
       "      <td>...</td>\n",
       "      <td>...</td>\n",
       "      <td>...</td>\n",
       "      <td>...</td>\n",
       "      <td>...</td>\n",
       "      <td>...</td>\n",
       "    </tr>\n",
       "    <tr>\n",
       "      <th>17754</th>\n",
       "      <td>34.0</td>\n",
       "      <td>1</td>\n",
       "      <td>10.0</td>\n",
       "      <td>1</td>\n",
       "      <td>2</td>\n",
       "      <td>ZRRCV7012C</td>\n",
       "      <td>0</td>\n",
       "      <td>119.0</td>\n",
       "      <td>0</td>\n",
       "      <td>-0.627209</td>\n",
       "    </tr>\n",
       "    <tr>\n",
       "      <th>17755</th>\n",
       "      <td>31.0</td>\n",
       "      <td>1</td>\n",
       "      <td>4.0</td>\n",
       "      <td>0</td>\n",
       "      <td>1</td>\n",
       "      <td>ZRRCV7012C</td>\n",
       "      <td>1</td>\n",
       "      <td>50.0</td>\n",
       "      <td>0</td>\n",
       "      <td>-0.433139</td>\n",
       "    </tr>\n",
       "    <tr>\n",
       "      <th>17756</th>\n",
       "      <td>1.0</td>\n",
       "      <td>1</td>\n",
       "      <td>5.0</td>\n",
       "      <td>1</td>\n",
       "      <td>3</td>\n",
       "      <td>ZRRCV7012C</td>\n",
       "      <td>0</td>\n",
       "      <td>73.0</td>\n",
       "      <td>0</td>\n",
       "      <td>-0.228851</td>\n",
       "    </tr>\n",
       "    <tr>\n",
       "      <th>17757</th>\n",
       "      <td>58.0</td>\n",
       "      <td>1</td>\n",
       "      <td>16.0</td>\n",
       "      <td>0</td>\n",
       "      <td>2</td>\n",
       "      <td>ZRRCV7012C</td>\n",
       "      <td>0</td>\n",
       "      <td>144.0</td>\n",
       "      <td>0</td>\n",
       "      <td>-0.761119</td>\n",
       "    </tr>\n",
       "    <tr>\n",
       "      <th>17758</th>\n",
       "      <td>24.0</td>\n",
       "      <td>1</td>\n",
       "      <td>4.0</td>\n",
       "      <td>1</td>\n",
       "      <td>1</td>\n",
       "      <td>ZRRCV7012C</td>\n",
       "      <td>0</td>\n",
       "      <td>77.0</td>\n",
       "      <td>0</td>\n",
       "      <td>-0.468711</td>\n",
       "    </tr>\n",
       "  </tbody>\n",
       "</table>\n",
       "<p>17759 rows × 10 columns</p>\n",
       "</div>"
      ],
      "text/plain": [
       "       Arrival-to-scan time  Infarction  Stroke severity  Precise onset time  \\\n",
       "0                       1.0           0             10.0                   1   \n",
       "1                       1.0           1             17.0                   1   \n",
       "2                       2.0           1             15.0                   0   \n",
       "3                       2.0           1              4.0                   1   \n",
       "4                       8.0           1             12.0                   1   \n",
       "...                     ...         ...              ...                 ...   \n",
       "17754                  34.0           1             10.0                   1   \n",
       "17755                  31.0           1              4.0                   0   \n",
       "17756                   1.0           1              5.0                   1   \n",
       "17757                  58.0           1             16.0                   0   \n",
       "17758                  24.0           1              4.0                   1   \n",
       "\n",
       "       Prior disability level Stroke team  Use of AF anticoagulents  \\\n",
       "0                           2  AGNOF1041H                         0   \n",
       "1                           0  AGNOF1041H                         0   \n",
       "2                           4  AGNOF1041H                         0   \n",
       "3                           1  AGNOF1041H                         0   \n",
       "4                           2  AGNOF1041H                         0   \n",
       "...                       ...         ...                       ...   \n",
       "17754                       2  ZRRCV7012C                         0   \n",
       "17755                       1  ZRRCV7012C                         1   \n",
       "17756                       3  ZRRCV7012C                         0   \n",
       "17757                       2  ZRRCV7012C                         0   \n",
       "17758                       1  ZRRCV7012C                         0   \n",
       "\n",
       "       Onset-to-arrival time  Thrombolysis  Hospital_SHAP  \n",
       "0                      190.0             0       0.095683  \n",
       "1                      119.0             1      -0.042648  \n",
       "2                       64.0             0      -0.174697  \n",
       "3                      120.0             0      -0.089601  \n",
       "4                       82.0             1      -0.050211  \n",
       "...                      ...           ...            ...  \n",
       "17754                  119.0             0      -0.627209  \n",
       "17755                   50.0             0      -0.433139  \n",
       "17756                   73.0             0      -0.228851  \n",
       "17757                  144.0             0      -0.761119  \n",
       "17758                   77.0             0      -0.468711  \n",
       "\n",
       "[17759 rows x 10 columns]"
      ]
     },
     "execution_count": 147,
     "metadata": {},
     "output_type": "execute_result"
    }
   ],
   "source": [
    "feature_data_with_shap"
   ]
  },
  {
   "cell_type": "markdown",
   "id": "babca6d9-fdd5-41d0-b13d-387bea58f659",
   "metadata": {},
   "source": [
    "## Functions\n",
    "\n",
    "Calculate r squared"
   ]
  },
  {
   "cell_type": "code",
   "execution_count": 148,
   "id": "db074012-da18-4103-88be-d4d292ca0b37",
   "metadata": {},
   "outputs": [],
   "source": [
    "def calc_r_squared(y_test, y_pred):\n",
    "    slope, intercept, r_value, p_value, std_err = linregress(y_test, y_pred)\n",
    "    r_squared = r_value**2\n",
    "    return(r_squared)"
   ]
  },
  {
   "cell_type": "markdown",
   "id": "f20ceaa9-dfe4-47ec-a7c1-2be075de8644",
   "metadata": {},
   "source": [
    "Plot scatter: observed vs predicted"
   ]
  },
  {
   "cell_type": "code",
   "execution_count": 149,
   "id": "386b40d1-244b-4f42-9684-0018200f4c16",
   "metadata": {},
   "outputs": [],
   "source": [
    "def plot_observed_predicted(y_test, y_pred, r_squared):\n",
    "    fig = plt.figure(figsize=(5,5))\n",
    "    ax = fig.add_subplot()\n",
    "    ax.scatter(y_test, y_pred)\n",
    "    ax.set_xlabel('Observed')\n",
    "    ax.set_ylabel('Predicted')\n",
    "    ax.set_title(f'XG-Boost regression of hospital feature SHAP\\nR-squared: {r_squared:0.3f}')\n",
    "    return()"
   ]
  },
  {
   "cell_type": "markdown",
   "id": "2aa350cc-d6b3-41dd-ada3-335c98d7af7e",
   "metadata": {},
   "source": [
    "## Fit model\n",
    "\n",
    "XGBoost models were trained on stratified k-fold cross-validation data.\n",
    "\n",
    "Report r-squared of observed vs predicted."
   ]
  },
  {
   "cell_type": "code",
   "execution_count": 157,
   "id": "2dc05e3f-4414-41db-8810-2b8ca6b8e8bb",
   "metadata": {},
   "outputs": [
    {
     "name": "stdout",
     "output_type": "stream",
     "text": [
      "All kfolds for all hospitals. R-squared: 0.951\n"
     ]
    }
   ],
   "source": [
    "# Set up list to store models and calibarion threshold\n",
    "models = []\n",
    "\n",
    "# Set up lists for observed and predicted\n",
    "observed = []\n",
    "predicted = []\n",
    "hospital_instances = []\n",
    "model_description = []\n",
    "shap_values_extended_list = []\n",
    "shap_values_list = []\n",
    "\n",
    "for hospital in thrombolysis_by_hosp.index:\n",
    "\n",
    "    # Extract the data for this single hospital\n",
    "    mask = feature_data_with_shap[\"Stroke team\"] == hospital\n",
    "    data = feature_data_with_shap[mask]\n",
    "    data.drop([\"Stroke team\"], axis=1, inplace=True)\n",
    "    hospital_instances.append(data.shape[0])\n",
    "#    print(f\"Hospital {hospital} has {data.shape[0]} instances\")\n",
    "    \n",
    "\n",
    "    # Set up list for feature importances\n",
    "#    feature_importance = []\n",
    "\n",
    "    # Initialise empty lists\n",
    "    train_data, test_data = [], []\n",
    "\n",
    "    # Set up splits\n",
    "    number_of_splits = 5\n",
    "    skf = StratifiedKFold(n_splits = number_of_splits, shuffle=True, random_state=13)\n",
    "    strat = data['Thrombolysis'].map(str)# + '-' + data['Hospital_SHAP'].map(str)\n",
    "# ValueError: n_splits=5 cannot be greater than the number of members in each class.\n",
    "\n",
    "    skf.get_n_splits(data, strat.values)\n",
    "\n",
    "    # Put in NumPy arrays\n",
    "    X = data.values\n",
    "    y = strat.values\n",
    "    X_col_names = list(data)\n",
    "\n",
    "    # Loop through the k-fold splits\n",
    "    counter = 0\n",
    "    for train_index, test_index in skf.split(X, y):  \n",
    "\n",
    "        # Get Xtrain and test\n",
    "        train_np, test_np = X[train_index], X[test_index]\n",
    "\n",
    "        # Convert to Pandas DataFrames\n",
    "        train = pd.DataFrame(train_np, columns=X_col_names)\n",
    "        test = pd.DataFrame(test_np, columns=X_col_names)\n",
    "\n",
    "        # Get X and y\n",
    "        X_train = train.drop(\"Hospital_SHAP\", axis=1)\n",
    "        X_test = test.drop(\"Hospital_SHAP\", axis=1)\n",
    "        y_train = train[\"Hospital_SHAP\"]\n",
    "        y_test = test[\"Hospital_SHAP\"]\n",
    "\n",
    "    #    # Use oversampling if required\n",
    "    #    if use_minority_oversampling:\n",
    "    #        oversample = RandomOverSampler(sampling_strategy='minority')\n",
    "    #        X_train, y_train = oversample.fit_resample(X_train, y_train)        \n",
    "\n",
    "    #    # One hot encode hospitals\n",
    "    #    X_train_hosp = pd.get_dummies(X_train['Stroke team'], prefix = 'team')\n",
    "    #    X_train = pd.concat([X_train, X_train_hosp], axis=1)\n",
    "    #    X_train.drop('Stroke team', axis=1, inplace=True)\n",
    "    #    X_test_hosp = pd.get_dummies(X_test['Stroke team'], prefix = 'team')\n",
    "    #    X_test = pd.concat([X_test, X_test_hosp], axis=1)\n",
    "    #    X_test.drop('Stroke team', axis=1, inplace=True)    \n",
    "\n",
    "        # Define model\n",
    "        model = XGBRegressor()\n",
    "        \n",
    "    #    # Define model\n",
    "    #    model = XGBClassifier(verbosity = 0, seed=42, learning_rate=0.5)\n",
    "\n",
    "        # Fit model\n",
    "        model.fit(X_train, y_train)\n",
    "        models.append(model)\n",
    "        model_description.append(hospital + \"_\" + str(counter))\n",
    "        # Get predicted probabilities\n",
    "        y_pred = model.predict(X_test)\n",
    "    #    y_probs = model.predict_proba(X_test)[:,1]\n",
    "    \n",
    "        # Store the test values: observed and predicted\n",
    "        # Means each instance will be stored as a predicted value when in the \n",
    "        # test set\n",
    "        observed.append(y_test)\n",
    "        predicted.append(y_pred)\n",
    "\n",
    "    #    # Get feature importances\n",
    "    #    importance = model.feature_importances_\n",
    "    #    feature_importance.append(importance)\n",
    "    \n",
    "    \n",
    "    \n",
    "        # Set up explainer using the model and feature values from training set\n",
    "        explainer = shap.TreeExplainer(model, X_train)\n",
    "\n",
    "        # Get (and store) Shapley values along with base and feature values\n",
    "        shap_values_extended = explainer(X_test)\n",
    "        shap_values_extended_list.append(shap_values_extended)\n",
    "        # Shap values exist for each classification in a Tree\n",
    "        # We are interested in 1=give thrombolysis (not 0=not give thrombolysis)\n",
    "        shap_values = shap_values_extended.values\n",
    "        shap_values_list.append(shap_values)        \n",
    "\n",
    "#        # Save using pickle\n",
    "#        filename = f'./output/shap_values_extended_xgb_key_features_{k}.p'\n",
    "#        with open(filename, 'wb') as filehandler:\n",
    "#            pickle.dump(shap_values_extended, filehandler)\n",
    "#        \n",
    "#        # Print progress\n",
    "#        print (f'Completed {k+1} of 5')\n",
    "\n",
    "        counter += 1\n",
    "\n",
    "# Print performance (r-squared)\n",
    "observed_flatten = [x for xs in observed for x in xs]\n",
    "predicted_flatten = [x for xs in predicted for x in xs]\n",
    "r_squared = calc_r_squared(observed_flatten, predicted_flatten)\n",
    "print (\n",
    "    f'All kfolds for all hospitals. R-squared: {r_squared:0.3f}')\n",
    "\n"
   ]
  },
  {
   "cell_type": "markdown",
   "id": "ee13b8b6-6e1d-43b2-a1a1-3821fc35e48c",
   "metadata": {},
   "source": [
    "### Plot XGBoost regression of SHAP"
   ]
  },
  {
   "cell_type": "code",
   "execution_count": 158,
   "id": "5c0c5382-d272-4703-b386-d80ef076343d",
   "metadata": {},
   "outputs": [
    {
     "data": {
      "text/plain": [
       "()"
      ]
     },
     "execution_count": 158,
     "metadata": {},
     "output_type": "execute_result"
    },
    {
     "data": {
      "image/png": "[encoded data removed]",
      "text/plain": [
       "<Figure size 360x360 with 1 Axes>"
      ]
     },
     "metadata": {
      "needs_background": "light"
     },
     "output_type": "display_data"
    }
   ],
   "source": [
    "plot_observed_predicted(observed_flatten, predicted_flatten, r_squared)"
   ]
  },
  {
   "cell_type": "markdown",
   "id": "2ca34adc-45d4-4f31-ab03-c6472c35ebae",
   "metadata": {},
   "source": [
    "### Histogram of number of instances per hospital"
   ]
  },
  {
   "cell_type": "code",
   "execution_count": 159,
   "id": "90be5150-b9e5-4d21-a913-5360938c0e09",
   "metadata": {},
   "outputs": [
    {
     "data": {
      "image/png": "[encoded data removed]",
      "text/plain": [
       "<Figure size 432x432 with 1 Axes>"
      ]
     },
     "metadata": {
      "needs_background": "light"
     },
     "output_type": "display_data"
    }
   ],
   "source": [
    "fig = plt.figure(figsize=(6,6))\n",
    "ax = fig.add_subplot()\n",
    "ax.hist(hospital_instances)#, bins=np.arange(0.10, 0.46, 0.025))\n",
    "ax.set_xlabel('Number of patients')\n",
    "ax.set_ylabel('Hospital count')\n",
    "plt.show()"
   ]
  },
  {
   "cell_type": "code",
   "execution_count": 160,
   "id": "1b809be5-df7d-4f86-89fa-dcdd4160e477",
   "metadata": {},
   "outputs": [
    {
     "data": {
      "text/plain": [
       "660"
      ]
     },
     "execution_count": 160,
     "metadata": {},
     "output_type": "execute_result"
    }
   ],
   "source": [
    "for hospital in range():\n",
    "    for i in range(5): # going through each batch of 5 kfolds for a hospital\n",
    "\n",
    "        len(shap_values_extended_list)\n"
   ]
  },
  {
   "cell_type": "markdown",
   "id": "5027539e-0dae-4dbc-ac43-f83ca586ed50",
   "metadata": {},
   "source": [
    "## Identify 30 hospitals with lowest thrombolysis rate on 10K patient cohort\n",
    "\n",
    "# Read data and rank on thrombolysis rate\n",
    "thrombolysis_by_hosp = pd.read_csv(\n",
    "    './output/10k_thrombolysis_rate_by_hosp_key_features.csv', index_col='stroke_team')\n",
    "\n",
    "thrombolysis_by_hosp.sort_values(\n",
    "    'Thrombolysis rate', ascending=False, inplace=True)\n",
    "\n",
    "# Take 30 hospitals with lowest thrombolysis rates\n",
    "bottom_30_hospitals = list(thrombolysis_by_hosp.tail(30).index)\n",
    "\n",
    "## Restrict dataset to bottom 30 hosptials (based on thrombolysis rate on 10K cohort)\n",
    "# And remove \"Stroke team\" from the dataset. Fit the data without information of which hospital.\n",
    "\n",
    "mask = feature_data_with_shap[\"Stroke team\"].isin(bottom_30_hospitals)\n",
    "feature_data_with_shap_bottom30 = feature_data_with_shap[mask]\n",
    "feature_data_with_shap_bottom30.drop([\"Stroke team\"], axis=1, inplace=True)\n",
    "data = feature_data_with_shap_bottom30\n",
    "print(f\"Data has {data.shape[0]} instances\")"
   ]
  },
  {
   "cell_type": "markdown",
   "id": "58ef7149-89b0-43b9-a991-7b9f99a0a316",
   "metadata": {},
   "source": [
    "## Create stratification based on ??? (it was hospital and thrombolysis use?)\n",
    "\n",
    "This time use S2Thrombolysis, and see if cts works and if so use SHAP"
   ]
  },
  {
   "cell_type": "code",
   "execution_count": 86,
   "id": "b023f7fb-8307-4419-a35e-cde0559712dd",
   "metadata": {},
   "outputs": [],
   "source": [
    "#strat = SHAP #data['StrokeTeam'].map(str) + '-' + data['S2Thrombolysis'].map(str)\n",
    "strat = data['Thrombolysis'].map(str)"
   ]
  },
  {
   "cell_type": "markdown",
   "id": "3263fbe4-6da5-467b-90f4-741053affed2",
   "metadata": {},
   "source": [
    "## Create and save five k-fold splits"
   ]
  },
  {
   "cell_type": "code",
   "execution_count": 87,
   "id": "625c5c1d-2163-48ab-beb0-a14c37679d96",
   "metadata": {},
   "outputs": [],
   "source": [
    "#load_splits = False\n",
    "\n",
    "# Initialise empty lists\n",
    "train_data, test_data = [], []\n",
    "\n",
    "\n",
    "# Set up splits\n",
    "number_of_splits = 5\n",
    "skf = StratifiedKFold(n_splits = number_of_splits, shuffle=True, random_state=13)\n",
    "skf.get_n_splits(data, strat.values)\n",
    "\n",
    "# Put in NumPy arrays\n",
    "X = data.values\n",
    "y = strat.values\n",
    "X_col_names = list(data)\n",
    "\n",
    "# Loop through the k-fold splits\n",
    "counter = 0\n",
    "for train_index, test_index in skf.split(X, y):  \n",
    "    \n",
    "    # Get Xtrain and test\n",
    "    train_np, test_np = X[train_index], X[test_index]\n",
    "    \n",
    "    # Convert to Pandas DataFrames\n",
    "    train = pd.DataFrame(train_np, columns=X_col_names)\n",
    "    test = pd.DataFrame(test_np, columns=X_col_names)\n",
    "\n",
    "    train_data.append(train)\n",
    "    test_data.append(test)    \n",
    "\n",
    "    # Save no unit encoding dataset\n",
    "#    train.to_csv(f'{output_dir}/train_SHAP_{counter}.csv', index=False)\n",
    "#    test.to_csv(f'{output_dir}/test_SHAP_{counter}.csv', index=False)\n",
    "    \n",
    "#    # One hot encode stroke team\n",
    "#    units = train['StrokeTeam']\n",
    "#    train.drop(['StrokeTeam'],inplace=True, axis=1)\n",
    "#    one_hot_coded = pd.get_dummies(units, prefix='StrokeTeam')\n",
    "#    train = pd.concat([train, one_hot_coded], axis=1)\n",
    "#    train.to_csv(f'{output_dir}/train_one_hot_unit_{counter}.csv', index=False)\n",
    "    \n",
    "#    units = test['StrokeTeam']\n",
    "#    test.drop(['StrokeTeam'],inplace=True, axis=1)\n",
    "#    one_hot_coded = pd.get_dummies(units, prefix='StrokeTeam')\n",
    "#    test = pd.concat([test, one_hot_coded], axis=1)\n",
    "#    test.to_csv(f'{output_dir}/test_one_hot_unit_{counter}.csv', index=False)\n",
    "    \n",
    "    # Increment counter\n",
    "    counter += 1\n",
    "    \n",
    "    \n",
    "# read in splits    \n",
    "#for i in range(5):\n",
    "#    train = pd.read_csv(data_loc + 'train_SHAP_{0}.csv'.format(i))\n",
    "#    train_data.append(train)\n",
    "#    test = pd.read_csv(data_loc + 'test_SHAP_{0}.csv'.format(i))\n",
    "#    test_data.append(test)"
   ]
  },
  {
   "cell_type": "markdown",
   "id": "2bbcfc5f",
   "metadata": {},
   "source": [
    "## Fit model\n",
    "\n",
    "XGBoost models were trained on stratified k-fold cross-validation data.\n",
    "\n",
    "Report r-squared of observed vs predicted."
   ]
  },
  {
   "cell_type": "code",
   "execution_count": 88,
   "id": "aafd6582-f99f-449e-8223-6b50e6d13157",
   "metadata": {},
   "outputs": [],
   "source": [
    "def calc_r_squared(y_test, y_pred):\n",
    "    slope, intercept, r_value, p_value, std_err = linregress(y_test, y_pred)\n",
    "    r_squared = r_value**2\n",
    "    return(r_squared)"
   ]
  },
  {
   "cell_type": "code",
   "execution_count": 89,
   "id": "ed6a5f72-eebe-4998-88ee-36ae3410f103",
   "metadata": {},
   "outputs": [],
   "source": [
    "def plot_observed_predicted(y_test, y_pred, r_squared):\n",
    "    fig = plt.figure(figsize=(5,5))\n",
    "    ax = fig.add_subplot()\n",
    "    ax.scatter(y_test, y_pred)\n",
    "    ax.set_xlabel('Observed')\n",
    "    ax.set_ylabel('Predicted')\n",
    "    ax.set_title(f'XG-Boost regression of hospital feature SHAP\\nR-squared: {r_squared:0.3f}')\n",
    "    return()"
   ]
  },
  {
   "cell_type": "code",
   "execution_count": 90,
   "id": "a1895bfa",
   "metadata": {},
   "outputs": [
    {
     "name": "stdout",
     "output_type": "stream",
     "text": [
      "Run 0, R-squared: 0.569\n",
      "Run 1, R-squared: 0.818\n",
      "Run 2, R-squared: 0.814\n",
      "Run 3, R-squared: 0.778\n",
      "Run 4, R-squared: 0.850\n"
     ]
    },
    {
     "data": {
      "image/png": "[encoded data removed]",
      "text/plain": [
       "<Figure size 360x360 with 1 Axes>"
      ]
     },
     "metadata": {
      "needs_background": "light"
     },
     "output_type": "display_data"
    },
    {
     "data": {
      "image/png": "[encoded data removed]",
      "text/plain": [
       "<Figure size 360x360 with 1 Axes>"
      ]
     },
     "metadata": {
      "needs_background": "light"
     },
     "output_type": "display_data"
    },
    {
     "data": {
      "image/png": "[encoded data removed]",
      "text/plain": [
       "<Figure size 360x360 with 1 Axes>"
      ]
     },
     "metadata": {
      "needs_background": "light"
     },
     "output_type": "display_data"
    },
    {
     "data": {
      "image/png": "[encoded data removed]",
      "text/plain": [
       "<Figure size 360x360 with 1 Axes>"
      ]
     },
     "metadata": {
      "needs_background": "light"
     },
     "output_type": "display_data"
    },
    {
     "data": {
      "image/png": "[encoded data removed]",
      "text/plain": [
       "<Figure size 360x360 with 1 Axes>"
      ]
     },
     "metadata": {
      "needs_background": "light"
     },
     "output_type": "display_data"
    }
   ],
   "source": [
    "# Set up list to store models and calibarion threshold\n",
    "models = []\n",
    "\n",
    "# Set up lists for observed and predicted\n",
    "observed = []\n",
    "predicted = []\n",
    "\n",
    "# Set up list for feature importances\n",
    "feature_importance = []\n",
    "\n",
    "# Loop through k folds\n",
    "for k_fold in range(5):\n",
    "    \n",
    "    # Get k fold split\n",
    "    train = train_data[k_fold]\n",
    "    test = test_data[k_fold]\n",
    "    \n",
    "    # Get X and y\n",
    "    X_train = train.drop(\"Hospital_SHAP\", axis=1)\n",
    "    X_test = test.drop(\"Hospital_SHAP\", axis=1)\n",
    "    y_train = train[\"Hospital_SHAP\"]\n",
    "    y_test = test[\"Hospital_SHAP\"]\n",
    "    \n",
    "#    # Use oversampling if required\n",
    "#    if use_minority_oversampling:\n",
    "#        oversample = RandomOverSampler(sampling_strategy='minority')\n",
    "#        X_train, y_train = oversample.fit_resample(X_train, y_train)        \n",
    "    \n",
    "#    # One hot encode hospitals\n",
    "#    X_train_hosp = pd.get_dummies(X_train['Stroke team'], prefix = 'team')\n",
    "#    X_train = pd.concat([X_train, X_train_hosp], axis=1)\n",
    "#    X_train.drop('Stroke team', axis=1, inplace=True)\n",
    "#    X_test_hosp = pd.get_dummies(X_test['Stroke team'], prefix = 'team')\n",
    "#    X_test = pd.concat([X_test, X_test_hosp], axis=1)\n",
    "#    X_test.drop('Stroke team', axis=1, inplace=True)    \n",
    "    \n",
    "    # Define model\n",
    "    model = XGBRegressor()\n",
    "#    # Define model\n",
    "#    model = XGBClassifier(verbosity = 0, seed=42, learning_rate=0.5)\n",
    "    \n",
    "    # Fit model\n",
    "    model.fit(X_train, y_train)\n",
    "    models.append(model)\n",
    "    \n",
    "    # Get predicted probabilities\n",
    "    y_pred = model.predict(X_test)\n",
    "#    y_probs = model.predict_proba(X_test)[:,1]\n",
    "    observed.append(y_test)\n",
    "    predicted.append(y_pred)\n",
    "    \n",
    "#    # Get feature importances\n",
    "#    importance = model.feature_importances_\n",
    "#    feature_importance.append(importance)\n",
    "    \n",
    "    # Print performance (r-squared)\n",
    "    r_squared = calc_r_squared(y_test, y_pred)\n",
    "    print (\n",
    "        f'Run {k_fold}, R-squared: {r_squared:0.3f}')\n",
    "\n",
    "    # Plot XGBoost regression of SHAP\n",
    "    plot_observed_predicted(y_test, y_pred, r_squared)"
   ]
  },
  {
   "cell_type": "code",
   "execution_count": 136,
   "id": "fcd5a2c8-4fb3-4432-946e-dbf3dbecec0f",
   "metadata": {},
   "outputs": [
    {
     "name": "stdout",
     "output_type": "stream",
     "text": [
      "All kfolds for all hospitals. R-squared: 0.951\n"
     ]
    },
    {
     "data": {
      "text/plain": [
       "()"
      ]
     },
     "execution_count": 136,
     "metadata": {},
     "output_type": "execute_result"
    },
    {
     "data": {
      "image/png": "[encoded data removed]",
      "text/plain": [
       "<Figure size 360x360 with 1 Axes>"
      ]
     },
     "metadata": {
      "needs_background": "light"
     },
     "output_type": "display_data"
    }
   ],
   "source": [
    "# Set up list to store models and calibarion threshold\n",
    "models = []\n",
    "\n",
    "# Set up lists for observed and predicted\n",
    "observed = []\n",
    "predicted = []\n",
    "hospital_instances = []\n",
    "\n",
    "for hospital in thrombolysis_by_hosp.index:\n",
    "\n",
    "    # Extract the data for this single hospital\n",
    "    mask = feature_data_with_shap[\"Stroke team\"] == hospital\n",
    "    data = feature_data_with_shap[mask]\n",
    "    data.drop([\"Stroke team\"], axis=1, inplace=True)\n",
    "    hospital_instances.append(data.shape[0])\n",
    "#    print(f\"Hospital {hospital} has {data.shape[0]} instances\")\n",
    "    \n",
    "\n",
    "    # Set up list for feature importances\n",
    "#    feature_importance = []\n",
    "\n",
    "    # Initialise empty lists\n",
    "    train_data, test_data = [], []\n",
    "\n",
    "    # Set up splits\n",
    "    number_of_splits = 5\n",
    "    skf = StratifiedKFold(n_splits = number_of_splits, shuffle=True, random_state=13)\n",
    "    strat = data['Thrombolysis'].map(str)\n",
    "    skf.get_n_splits(data, strat.values)\n",
    "\n",
    "    # Put in NumPy arrays\n",
    "    X = data.values\n",
    "    y = strat.values\n",
    "    X_col_names = list(data)\n",
    "\n",
    "    # Loop through the k-fold splits\n",
    "    counter = 0\n",
    "    for train_index, test_index in skf.split(X, y):  \n",
    "\n",
    "        # Get Xtrain and test\n",
    "        train_np, test_np = X[train_index], X[test_index]\n",
    "\n",
    "        # Convert to Pandas DataFrames\n",
    "        train = pd.DataFrame(train_np, columns=X_col_names)\n",
    "        test = pd.DataFrame(test_np, columns=X_col_names)\n",
    "\n",
    "        counter += 1\n",
    "\n",
    "        # Get X and y\n",
    "        X_train = train.drop(\"Hospital_SHAP\", axis=1)\n",
    "        X_test = test.drop(\"Hospital_SHAP\", axis=1)\n",
    "        y_train = train[\"Hospital_SHAP\"]\n",
    "        y_test = test[\"Hospital_SHAP\"]\n",
    "\n",
    "    #    # Use oversampling if required\n",
    "    #    if use_minority_oversampling:\n",
    "    #        oversample = RandomOverSampler(sampling_strategy='minority')\n",
    "    #        X_train, y_train = oversample.fit_resample(X_train, y_train)        \n",
    "\n",
    "    #    # One hot encode hospitals\n",
    "    #    X_train_hosp = pd.get_dummies(X_train['Stroke team'], prefix = 'team')\n",
    "    #    X_train = pd.concat([X_train, X_train_hosp], axis=1)\n",
    "    #    X_train.drop('Stroke team', axis=1, inplace=True)\n",
    "    #    X_test_hosp = pd.get_dummies(X_test['Stroke team'], prefix = 'team')\n",
    "    #    X_test = pd.concat([X_test, X_test_hosp], axis=1)\n",
    "    #    X_test.drop('Stroke team', axis=1, inplace=True)    \n",
    "\n",
    "        # Define model\n",
    "        model = XGBRegressor()\n",
    "    #    # Define model\n",
    "    #    model = XGBClassifier(verbosity = 0, seed=42, learning_rate=0.5)\n",
    "\n",
    "        # Fit model\n",
    "        model.fit(X_train, y_train)\n",
    "        models.append(model)\n",
    "\n",
    "        # Get predicted probabilities\n",
    "        y_pred = model.predict(X_test)\n",
    "    #    y_probs = model.predict_proba(X_test)[:,1]\n",
    "    \n",
    "        # Store the test values: observed and predicted\n",
    "        # Means each instance will be stored as a predicted value when in the \n",
    "        # test set\n",
    "        observed.append(y_test)\n",
    "        predicted.append(y_pred)\n",
    "\n",
    "    #    # Get feature importances\n",
    "    #    importance = model.feature_importances_\n",
    "    #    feature_importance.append(importance)\n",
    "\n",
    "# Print performance (r-squared)\n",
    "\n",
    "observed_flatten = [x for xs in observed for x in xs]\n",
    "predicted_flatten = [x for xs in predicted for x in xs]\n",
    "r_squared = calc_r_squared(observed_flatten, predicted_flatten)\n",
    "print (\n",
    "    f'All kfolds for all hospitals. R-squared: {r_squared:0.3f}')\n",
    "\n",
    "# Plot XGBoost regression of SHAP\n",
    "plot_observed_predicted(observed_flatten, predicted_flatten, r_squared)"
   ]
  },
  {
   "cell_type": "code",
   "execution_count": 137,
   "id": "9624d25c-4ca5-4ba9-af7d-d701813b3870",
   "metadata": {},
   "outputs": [
    {
     "data": {
      "image/png": "[encoded data removed]",
      "text/plain": [
       "<Figure size 432x432 with 1 Axes>"
      ]
     },
     "metadata": {
      "needs_background": "light"
     },
     "output_type": "display_data"
    }
   ],
   "source": [
    "# Histogram of number of instances per hospital\n",
    "fig = plt.figure(figsize=(6,6))\n",
    "ax = fig.add_subplot()\n",
    "ax.hist(hospital_instances)#, bins=np.arange(0.10, 0.46, 0.025))\n",
    "ax.set_xlabel('Number of patients')\n",
    "ax.set_ylabel('Hospital count')\n",
    "plt.show()"
   ]
  },
  {
   "cell_type": "markdown",
   "id": "585a1e2f-3670-4884-9425-cdc258a013a5",
   "metadata": {},
   "source": [
    "# KP STOP HERE. REGROUP!"
   ]
  },
  {
   "cell_type": "markdown",
   "id": "734ea792",
   "metadata": {},
   "source": [
    "### Collate and save results "
   ]
  },
  {
   "cell_type": "code",
   "execution_count": 17,
   "id": "66f54149",
   "metadata": {},
   "outputs": [],
   "source": [
    "hospital_results = []\n",
    "kfold_result = []\n",
    "observed_results = []\n",
    "prob_results = []\n",
    "predicted_results = []\n",
    "\n",
    "for i in range(5):\n",
    "    hospital_results.extend(list(test_data[i]['Stroke team']))\n",
    "    kfold_result.extend(list(np.repeat(i, len(test_data[i]))))\n",
    "    observed_results.extend(list(observed[i]))\n",
    "    prob_results.extend(list(predicted_proba[i]))\n",
    "    predicted_results.extend(list(predicted[i]))    \n",
    "    \n",
    "model_predictions = pd.DataFrame()\n",
    "model_predictions['hospital'] = hospital_results\n",
    "model_predictions['observed'] = np.array(observed_results) * 1.0\n",
    "model_predictions['prob'] = prob_results\n",
    "model_predictions['predicted'] = predicted_results\n",
    "model_predictions['k_fold'] = kfold_result\n",
    "model_predictions['correct'] = model_predictions['observed'] == model_predictions['predicted']\n",
    "\n",
    "# Save\n",
    "filename = f'./predictions/{model_type}_predictions.csv'\n",
    "model_predictions.to_csv(filename, index=False)\n",
    "\n",
    "# Save combined test set\n",
    "combined_test_set = pd.concat(test_data, axis=0)\n",
    "combined_test_set.reset_index(inplace=True); del combined_test_set['index']\n",
    "combined_test_set.to_csv(f'./predictions/{model_type}_combined_test_features.csv')"
   ]
  },
  {
   "cell_type": "markdown",
   "id": "2c6fe382-6292-42cb-bbd8-0f8ab603a190",
   "metadata": {},
   "source": [
    "## Compare predicted and actual thrombolysis rates"
   ]
  },
  {
   "cell_type": "code",
   "execution_count": 18,
   "id": "ed33b84b-7df2-48f2-95e2-e4ed17551085",
   "metadata": {},
   "outputs": [],
   "source": [
    "mean_results_by_hosp  = model_predictions.groupby('hospital').mean()"
   ]
  },
  {
   "cell_type": "markdown",
   "id": "af0e7f69-d738-4ad5-ac6c-8f347178eaf1",
   "metadata": {},
   "source": [
    "Get r-square of predicted thrombolysis rate."
   ]
  },
  {
   "cell_type": "code",
   "execution_count": 19,
   "id": "08cd1a5c-b34c-45b3-b90a-ab1f50fbaecc",
   "metadata": {},
   "outputs": [
    {
     "name": "stdout",
     "output_type": "stream",
     "text": [
      "R squared 0.966\n"
     ]
    }
   ],
   "source": [
    "x_comparision = np.array(mean_results_by_hosp['observed']).reshape(-1, 1)\n",
    "y_comparision = np.array(mean_results_by_hosp['predicted']).reshape(-1, 1)\n",
    "\n",
    "slr = LinearRegression()\n",
    "slr.fit(x_comparision, y_comparision)\n",
    "y_pred = slr.predict(x_comparision)\n",
    "r_square = metrics.r2_score(y_comparision, y_pred)\n",
    "\n",
    "print(f'R squared {r_square:0.3f}')"
   ]
  },
  {
   "cell_type": "code",
   "execution_count": 20,
   "id": "d7c4a24c-e09f-4a25-a3ca-ba86ef0f9fbe",
   "metadata": {},
   "outputs": [
    {
     "data": {
      "image/png": "[encoded data removed]",
      "text/plain": [
       "<Figure size 432x432 with 1 Axes>"
      ]
     },
     "metadata": {
      "needs_background": "light"
     },
     "output_type": "display_data"
    }
   ],
   "source": [
    "fig = plt.figure(figsize=(6,6))\n",
    "ax1 = fig.add_subplot(111)\n",
    "ax1.scatter(x_comparision,\n",
    "            y_comparision)\n",
    "\n",
    "plt.plot (x_comparision, slr.predict(x_comparision), color = 'red')\n",
    "text = f'R squared: {r_square:.3f}'\n",
    "ax1.text(0.33,0.13, text, \n",
    "         bbox=dict(facecolor='white', edgecolor='black'))\n",
    "ax1.set_xlabel('Observed thrombolysis use (%)')\n",
    "ax1.set_ylabel('Predicted thrombolysis use (%)')\n",
    "plt.grid()\n",
    "plt.savefig(f'output/{model_type}_observed_predicted_rates.jpg', dpi=300)\n",
    "plt.show()"
   ]
  },
  {
   "cell_type": "markdown",
   "id": "fe987692",
   "metadata": {},
   "source": [
    "## Feature Importances\n",
    "\n",
    "Get XGBoost feature importances (average across k-fold results)"
   ]
  },
  {
   "cell_type": "code",
   "execution_count": 21,
   "id": "e70dc2b4",
   "metadata": {},
   "outputs": [
    {
     "data": {
      "text/html": [
       "<div>\n",
       "<style scoped>\n",
       "    .dataframe tbody tr th:only-of-type {\n",
       "        vertical-align: middle;\n",
       "    }\n",
       "\n",
       "    .dataframe tbody tr th {\n",
       "        vertical-align: top;\n",
       "    }\n",
       "\n",
       "    .dataframe thead th {\n",
       "        text-align: right;\n",
       "    }\n",
       "</style>\n",
       "<table border=\"1\" class=\"dataframe\">\n",
       "  <thead>\n",
       "    <tr style=\"text-align: right;\">\n",
       "      <th></th>\n",
       "      <th>importance</th>\n",
       "    </tr>\n",
       "  </thead>\n",
       "  <tbody>\n",
       "    <tr>\n",
       "      <th>Infarction</th>\n",
       "      <td>0.351191</td>\n",
       "    </tr>\n",
       "    <tr>\n",
       "      <th>Use of AF anticoagulents</th>\n",
       "      <td>0.047361</td>\n",
       "    </tr>\n",
       "    <tr>\n",
       "      <th>Precise onset time</th>\n",
       "      <td>0.028215</td>\n",
       "    </tr>\n",
       "    <tr>\n",
       "      <th>team_MHMYL4920B</th>\n",
       "      <td>0.012756</td>\n",
       "    </tr>\n",
       "    <tr>\n",
       "      <th>Stroke severity</th>\n",
       "      <td>0.012489</td>\n",
       "    </tr>\n",
       "    <tr>\n",
       "      <th>Prior disability level</th>\n",
       "      <td>0.011771</td>\n",
       "    </tr>\n",
       "    <tr>\n",
       "      <th>team_GKONI0110I</th>\n",
       "      <td>0.011207</td>\n",
       "    </tr>\n",
       "    <tr>\n",
       "      <th>Arrival-to-scan time</th>\n",
       "      <td>0.011024</td>\n",
       "    </tr>\n",
       "    <tr>\n",
       "      <th>team_XKAWN3771U</th>\n",
       "      <td>0.010322</td>\n",
       "    </tr>\n",
       "    <tr>\n",
       "      <th>team_LECHF1024T</th>\n",
       "      <td>0.010216</td>\n",
       "    </tr>\n",
       "    <tr>\n",
       "      <th>team_QWKRA8499D</th>\n",
       "      <td>0.009841</td>\n",
       "    </tr>\n",
       "    <tr>\n",
       "      <th>team_NTPQZ0829K</th>\n",
       "      <td>0.009365</td>\n",
       "    </tr>\n",
       "    <tr>\n",
       "      <th>team_VKKDD9172T</th>\n",
       "      <td>0.009130</td>\n",
       "    </tr>\n",
       "    <tr>\n",
       "      <th>team_FAJKD7118X</th>\n",
       "      <td>0.009070</td>\n",
       "    </tr>\n",
       "    <tr>\n",
       "      <th>team_HYNBH3271L</th>\n",
       "      <td>0.008574</td>\n",
       "    </tr>\n",
       "    <tr>\n",
       "      <th>team_SMVTP6284P</th>\n",
       "      <td>0.008030</td>\n",
       "    </tr>\n",
       "    <tr>\n",
       "      <th>team_LGNPK4211W</th>\n",
       "      <td>0.007826</td>\n",
       "    </tr>\n",
       "    <tr>\n",
       "      <th>team_TPXYE0168D</th>\n",
       "      <td>0.007692</td>\n",
       "    </tr>\n",
       "    <tr>\n",
       "      <th>team_HBFCN1575G</th>\n",
       "      <td>0.007633</td>\n",
       "    </tr>\n",
       "    <tr>\n",
       "      <th>team_IYJHY1440E</th>\n",
       "      <td>0.007351</td>\n",
       "    </tr>\n",
       "    <tr>\n",
       "      <th>team_IAZKG9244A</th>\n",
       "      <td>0.007343</td>\n",
       "    </tr>\n",
       "    <tr>\n",
       "      <th>team_HZNVT9936G</th>\n",
       "      <td>0.007322</td>\n",
       "    </tr>\n",
       "    <tr>\n",
       "      <th>team_XDAFB7350M</th>\n",
       "      <td>0.007283</td>\n",
       "    </tr>\n",
       "    <tr>\n",
       "      <th>team_KZKEZ2257Z</th>\n",
       "      <td>0.007136</td>\n",
       "    </tr>\n",
       "    <tr>\n",
       "      <th>team_TKRKH4920C</th>\n",
       "      <td>0.006752</td>\n",
       "    </tr>\n",
       "  </tbody>\n",
       "</table>\n",
       "</div>"
      ],
      "text/plain": [
       "                          importance\n",
       "Infarction                  0.351191\n",
       "Use of AF anticoagulents    0.047361\n",
       "Precise onset time          0.028215\n",
       "team_MHMYL4920B             0.012756\n",
       "Stroke severity             0.012489\n",
       "Prior disability level      0.011771\n",
       "team_GKONI0110I             0.011207\n",
       "Arrival-to-scan time        0.011024\n",
       "team_XKAWN3771U             0.010322\n",
       "team_LECHF1024T             0.010216\n",
       "team_QWKRA8499D             0.009841\n",
       "team_NTPQZ0829K             0.009365\n",
       "team_VKKDD9172T             0.009130\n",
       "team_FAJKD7118X             0.009070\n",
       "team_HYNBH3271L             0.008574\n",
       "team_SMVTP6284P             0.008030\n",
       "team_LGNPK4211W             0.007826\n",
       "team_TPXYE0168D             0.007692\n",
       "team_HBFCN1575G             0.007633\n",
       "team_IYJHY1440E             0.007351\n",
       "team_IAZKG9244A             0.007343\n",
       "team_HZNVT9936G             0.007322\n",
       "team_XDAFB7350M             0.007283\n",
       "team_KZKEZ2257Z             0.007136\n",
       "team_TKRKH4920C             0.006752"
      ]
     },
     "execution_count": 21,
     "metadata": {},
     "output_type": "execute_result"
    }
   ],
   "source": [
    "# Feature names\n",
    "features = X_test.columns.values\n",
    "\n",
    "# Get average feature importance from k-fold\n",
    "importances = np.array(feature_importance).mean(axis = 0)\n",
    "feature_importance = pd.DataFrame(data = importances, index=features)\n",
    "feature_importance.columns = ['importance']\n",
    "\n",
    "# Sort by importance (weight)\n",
    "feature_importance.sort_values(by='importance', ascending=False, inplace=True)\n",
    "\n",
    "# Save\n",
    "feature_importance.to_csv(f'output/{model_type}_feature_importance.csv')\n",
    "\n",
    "# Display top 25\n",
    "feature_importance.head(25)"
   ]
  },
  {
   "cell_type": "markdown",
   "id": "ea157e5a",
   "metadata": {},
   "source": [
    "Create a bar chart for the XGBoost feature importance values"
   ]
  },
  {
   "cell_type": "code",
   "execution_count": 22,
   "id": "e8cf900b",
   "metadata": {},
   "outputs": [
    {
     "data": {
      "image/png": "[encoded data removed]",
      "text/plain": [
       "<Figure size 576x576 with 1 Axes>"
      ]
     },
     "metadata": {
      "needs_background": "light"
     },
     "output_type": "display_data"
    }
   ],
   "source": [
    "# Set up figure\n",
    "fig = plt.figure(figsize=(8,8))\n",
    "ax = fig.add_subplot(111)\n",
    "\n",
    "# Get labels and values\n",
    "labels = feature_importance.index.values[0:25]\n",
    "pos = np.arange(len(labels))\n",
    "val = feature_importance['importance'].values[0:25]\n",
    "\n",
    "# Plot\n",
    "ax.bar(pos, val)\n",
    "ax.set_ylabel('Feature importance')\n",
    "ax.set_xticks(np.arange(len(labels)))\n",
    "ax.set_xticklabels(labels)\n",
    "\n",
    "# Rotate the tick labels and set their alignment.\n",
    "plt.setp(ax.get_xticklabels(), rotation=90, ha=\"right\",\n",
    "         rotation_mode=\"anchor\")\n",
    "\n",
    "plt.tight_layout()\n",
    "plt.savefig(f'output/{model_type}_feature_weights_bar.jpg', dpi=300)\n",
    "plt.show()"
   ]
  },
  {
   "cell_type": "markdown",
   "id": "61d7fc78",
   "metadata": {},
   "source": [
    "## Calibration and assessment of accuracy when model has high confidence"
   ]
  },
  {
   "cell_type": "code",
   "execution_count": 23,
   "id": "7bbf970b",
   "metadata": {},
   "outputs": [],
   "source": [
    "# Collate results in Dataframe\n",
    "reliability_collated = pd.DataFrame()\n",
    "\n",
    "# Loop through k fold predictions\n",
    "for i in range(5):\n",
    "    \n",
    "    # Get observed class and predicted probability\n",
    "    obs = observed[i]\n",
    "    prob = predicted_proba[i]\n",
    "    \n",
    "    # Bin data with numpy digitize (this will assign a bin to each case)\n",
    "    step = 0.10\n",
    "    bins = np.arange(step, 1+step, step)\n",
    "    digitized = np.digitize(prob, bins)\n",
    "        \n",
    "    # Put single fold data in DataFrame\n",
    "    reliability = pd.DataFrame()\n",
    "    reliability['bin'] = digitized\n",
    "    reliability['probability'] = prob\n",
    "    reliability['observed'] = obs\n",
    "    classification = 1 * (prob > 0.5 )\n",
    "    reliability['correct'] = obs == classification\n",
    "    reliability['count'] = 1\n",
    "    \n",
    "    # Summarise data by bin in new dataframe\n",
    "    reliability_summary = pd.DataFrame()\n",
    "\n",
    "    # Add bins and k-fold to summary\n",
    "    reliability_summary['bin'] = bins\n",
    "    reliability_summary['k-fold'] = i\n",
    "\n",
    "    # Calculate mean of predicted probability of thrombolysis in each bin\n",
    "    reliability_summary['confidence'] = \\\n",
    "        reliability.groupby('bin').mean()['probability']\n",
    "\n",
    "    # Calculate the proportion of patients who receive thrombolysis\n",
    "    reliability_summary['fraction_positive'] = \\\n",
    "        reliability.groupby('bin').mean()['observed']\n",
    "    \n",
    "    # Calculate proportion correct in each bin\n",
    "    reliability_summary['fraction_correct'] = \\\n",
    "        reliability.groupby('bin').mean()['correct']\n",
    "    \n",
    "    # Calculate fraction of results in each bin\n",
    "    reliability_summary['fraction_results'] = \\\n",
    "        reliability.groupby('bin').sum()['count'] / reliability.shape[0]   \n",
    "    \n",
    "    # Add k-fold results to DatafRame collation\n",
    "    reliability_collated = reliability_collated.append(reliability_summary)\n",
    "    \n",
    "# Get mean results\n",
    "reliability_summary = reliability_collated.groupby('bin').mean()\n",
    "reliability_summary.drop('k-fold', axis=1, inplace=True)"
   ]
  },
  {
   "cell_type": "code",
   "execution_count": 24,
   "id": "1eceaaec",
   "metadata": {},
   "outputs": [
    {
     "data": {
      "text/html": [
       "<div>\n",
       "<style scoped>\n",
       "    .dataframe tbody tr th:only-of-type {\n",
       "        vertical-align: middle;\n",
       "    }\n",
       "\n",
       "    .dataframe tbody tr th {\n",
       "        vertical-align: top;\n",
       "    }\n",
       "\n",
       "    .dataframe thead th {\n",
       "        text-align: right;\n",
       "    }\n",
       "</style>\n",
       "<table border=\"1\" class=\"dataframe\">\n",
       "  <thead>\n",
       "    <tr style=\"text-align: right;\">\n",
       "      <th></th>\n",
       "      <th>confidence</th>\n",
       "      <th>fraction_positive</th>\n",
       "      <th>fraction_correct</th>\n",
       "      <th>fraction_results</th>\n",
       "    </tr>\n",
       "    <tr>\n",
       "      <th>bin</th>\n",
       "      <th></th>\n",
       "      <th></th>\n",
       "      <th></th>\n",
       "      <th></th>\n",
       "    </tr>\n",
       "  </thead>\n",
       "  <tbody>\n",
       "    <tr>\n",
       "      <th>0.1</th>\n",
       "      <td>0.018412</td>\n",
       "      <td>0.023867</td>\n",
       "      <td>0.976133</td>\n",
       "      <td>0.472306</td>\n",
       "    </tr>\n",
       "    <tr>\n",
       "      <th>0.2</th>\n",
       "      <td>0.145836</td>\n",
       "      <td>0.164487</td>\n",
       "      <td>0.835513</td>\n",
       "      <td>0.086280</td>\n",
       "    </tr>\n",
       "    <tr>\n",
       "      <th>0.3</th>\n",
       "      <td>0.247578</td>\n",
       "      <td>0.271592</td>\n",
       "      <td>0.728408</td>\n",
       "      <td>0.058316</td>\n",
       "    </tr>\n",
       "    <tr>\n",
       "      <th>0.4</th>\n",
       "      <td>0.349648</td>\n",
       "      <td>0.367141</td>\n",
       "      <td>0.632859</td>\n",
       "      <td>0.047853</td>\n",
       "    </tr>\n",
       "    <tr>\n",
       "      <th>0.5</th>\n",
       "      <td>0.448994</td>\n",
       "      <td>0.444480</td>\n",
       "      <td>0.555520</td>\n",
       "      <td>0.042402</td>\n",
       "    </tr>\n",
       "    <tr>\n",
       "      <th>0.6</th>\n",
       "      <td>0.550910</td>\n",
       "      <td>0.546004</td>\n",
       "      <td>0.546004</td>\n",
       "      <td>0.043506</td>\n",
       "    </tr>\n",
       "    <tr>\n",
       "      <th>0.7</th>\n",
       "      <td>0.652850</td>\n",
       "      <td>0.635854</td>\n",
       "      <td>0.635854</td>\n",
       "      <td>0.051615</td>\n",
       "    </tr>\n",
       "    <tr>\n",
       "      <th>0.8</th>\n",
       "      <td>0.752323</td>\n",
       "      <td>0.747044</td>\n",
       "      <td>0.747044</td>\n",
       "      <td>0.064285</td>\n",
       "    </tr>\n",
       "    <tr>\n",
       "      <th>0.9</th>\n",
       "      <td>0.851260</td>\n",
       "      <td>0.824061</td>\n",
       "      <td>0.824061</td>\n",
       "      <td>0.085334</td>\n",
       "    </tr>\n",
       "    <tr>\n",
       "      <th>1.0</th>\n",
       "      <td>0.932336</td>\n",
       "      <td>0.896424</td>\n",
       "      <td>0.896424</td>\n",
       "      <td>0.048101</td>\n",
       "    </tr>\n",
       "  </tbody>\n",
       "</table>\n",
       "</div>"
      ],
      "text/plain": [
       "     confidence  fraction_positive  fraction_correct  fraction_results\n",
       "bin                                                                   \n",
       "0.1    0.018412           0.023867          0.976133          0.472306\n",
       "0.2    0.145836           0.164487          0.835513          0.086280\n",
       "0.3    0.247578           0.271592          0.728408          0.058316\n",
       "0.4    0.349648           0.367141          0.632859          0.047853\n",
       "0.5    0.448994           0.444480          0.555520          0.042402\n",
       "0.6    0.550910           0.546004          0.546004          0.043506\n",
       "0.7    0.652850           0.635854          0.635854          0.051615\n",
       "0.8    0.752323           0.747044          0.747044          0.064285\n",
       "0.9    0.851260           0.824061          0.824061          0.085334\n",
       "1.0    0.932336           0.896424          0.896424          0.048101"
      ]
     },
     "execution_count": 24,
     "metadata": {},
     "output_type": "execute_result"
    }
   ],
   "source": [
    "reliability_summary"
   ]
  },
  {
   "cell_type": "markdown",
   "id": "ee9cc0fa",
   "metadata": {},
   "source": [
    "Plot results:"
   ]
  },
  {
   "cell_type": "code",
   "execution_count": 25,
   "id": "c67d18d0",
   "metadata": {},
   "outputs": [
    {
     "data": {
      "image/png": "[encoded data removed]",
      "text/plain": [
       "<Figure size 720x360 with 3 Axes>"
      ]
     },
     "metadata": {
      "needs_background": "light"
     },
     "output_type": "display_data"
    }
   ],
   "source": [
    "fig = plt.figure(figsize=(10,5))\n",
    "\n",
    "# Plot predicted prob vs fraction psotive\n",
    "ax1 = fig.add_subplot(1,2,1)\n",
    "\n",
    "# Loop through k-fold reliability results\n",
    "for i in range(5):\n",
    "    mask = reliability_collated['k-fold'] == i\n",
    "    k_fold_result = reliability_collated[mask]\n",
    "    x = k_fold_result['confidence']\n",
    "    y = k_fold_result['fraction_positive']\n",
    "    ax1.plot(x,y, color='orange')\n",
    "# Add 1:1 line\n",
    "ax1.plot([0,1],[0,1], color='k', linestyle ='--')\n",
    "# Refine plot\n",
    "ax1.set_xlabel('Model probability')\n",
    "ax1.set_ylabel('Fraction positive')\n",
    "ax1.set_xlim(0, 1)\n",
    "ax1.set_ylim(0, 1)\n",
    "\n",
    "# Plot accuracy vs probability\n",
    "ax2 = fig.add_subplot(1,2,2)\n",
    "# Loop through k-fold reliability results\n",
    "for i in range(5):\n",
    "    mask = reliability_collated['k-fold'] == i\n",
    "    k_fold_result = reliability_collated[mask]\n",
    "    x = k_fold_result['confidence']\n",
    "    y = k_fold_result['fraction_correct']\n",
    "    ax2.plot(x,y, color='orange')\n",
    "# Refine plot\n",
    "ax2.set_xlabel('Model probability')\n",
    "ax2.set_ylabel('Fraction correct')\n",
    "ax2.set_xlim(0, 1)\n",
    "ax2.set_ylim(0, 1)\n",
    "\n",
    "# instantiate a second axes that shares the same x-axis\n",
    "ax3 = ax2.twinx()  \n",
    "for i in range(5):\n",
    "    mask = reliability_collated['k-fold'] == i\n",
    "    k_fold_result = reliability_collated[mask]\n",
    "    x = k_fold_result['confidence']\n",
    "    y = k_fold_result['fraction_results']\n",
    "    ax3.plot(x,y, color='blue')\n",
    "    \n",
    "ax3.set_xlim(0, 1)\n",
    "ax3.set_ylim(0, 0.5)\n",
    "ax3.set_ylabel('Fraction of samples')\n",
    "\n",
    "custom_lines = [Line2D([0], [0], color='orange', alpha=0.6, lw=2),\n",
    "                Line2D([0], [0], color='blue', alpha = 0.6,lw=2)]\n",
    "\n",
    "ax1.grid()\n",
    "ax2.grid()\n",
    "\n",
    "plt.legend(custom_lines, ['Fraction correct', 'Fraction of samples'],\n",
    "          loc='upper center')\n",
    "\n",
    "plt.tight_layout(pad=2)\n",
    "\n",
    "plt.savefig(f'./output/{model_type}_reliability.jpg', dpi=300)\n",
    "plt.show()"
   ]
  },
  {
   "cell_type": "markdown",
   "id": "531c59da",
   "metadata": {},
   "source": [
    "Get accuracy of model when model is at least 80% confident"
   ]
  },
  {
   "cell_type": "code",
   "execution_count": 26,
   "id": "bc500910",
   "metadata": {},
   "outputs": [
    {
     "name": "stdout",
     "output_type": "stream",
     "text": [
      "For samples with at least 80% confidence:\n",
      "Proportion of all samples: 0.692\n",
      "Accuracy: 0.883\n"
     ]
    }
   ],
   "source": [
    "bins = [0.1, 0.2, 0.9, 1.0]\n",
    "acc = reliability_summary.loc[bins].mean()['fraction_correct']\n",
    "frac = reliability_summary.loc[bins].sum()['fraction_results']\n",
    "\n",
    "print ('For samples with at least 80% confidence:')\n",
    "print (f'Proportion of all samples: {frac:0.3f}')\n",
    "print (f'Accuracy: {acc:0.3f}')"
   ]
  },
  {
   "cell_type": "markdown",
   "id": "af6b3684-583d-4e8d-9cb7-f5b57301ef06",
   "metadata": {},
   "source": [
    "## Check for predicted thrombolysis in test set "
   ]
  },
  {
   "cell_type": "code",
   "execution_count": 27,
   "id": "f69af6ff-ea1b-4184-b542-58dfec6dfaaf",
   "metadata": {},
   "outputs": [],
   "source": [
    "mask = combined_test_set['Infarction'] == 0\n",
    "haemorrhagic_test = model_predictions['predicted'][mask]"
   ]
  },
  {
   "cell_type": "code",
   "execution_count": 28,
   "id": "f58349b2-2ba9-497c-8521-75ab1739f01e",
   "metadata": {},
   "outputs": [
    {
     "name": "stdout",
     "output_type": "stream",
     "text": [
      "0 predicted thrombolysis out of 13243 haemorrhagic strokes\n"
     ]
    }
   ],
   "source": [
    "count = len(haemorrhagic_test)\n",
    "pos = haemorrhagic_test.sum()\n",
    "print (f'{pos:.0f} predicted thrombolysis out of {count} haemorrhagic strokes')"
   ]
  },
  {
   "cell_type": "markdown",
   "id": "0d5df1ae-1edb-416a-8956-5d5f832dbe30",
   "metadata": {},
   "source": [
    "## Learning curve\n",
    "\n",
    "Examine the relationship between training data size and accuracy."
   ]
  },
  {
   "cell_type": "markdown",
   "id": "0e56ca38-ff9b-492c-b2f3-efae653bc10a",
   "metadata": {},
   "source": [
    "Plot learning curve"
   ]
  },
  {
   "cell_type": "code",
   "execution_count": 29,
   "id": "bf036ca9",
   "metadata": {},
   "outputs": [],
   "source": [
    "# Set up list to collect results\n",
    "results_training_size = []\n",
    "results_accuracy = []\n",
    "results_all_accuracy = []\n",
    "\n",
    "# Get maximum training size (number of training records)\n",
    "max_training_size = train_data[0].shape[0]\n",
    "\n",
    "# Construct training sizes (values closer at lower end)\n",
    "train_sizes = [50, 100, 250, 500, 1000, 2500]\n",
    "for i in range (5000, max_training_size, 5000):\n",
    "    train_sizes.append(i)\n",
    "\n",
    "# Loop through training sizes\n",
    "for train_size in train_sizes:\n",
    "    \n",
    "    # Record accuracy across k-fold replicates\n",
    "    replicate_accuracy = []\n",
    "\n",
    "    for replicate in range(5):\n",
    "        \n",
    "        # Get training and test data (from first k-fold split)\n",
    "        train = train_data[0]\n",
    "        test = test_data[0]\n",
    "        \n",
    "        # One hot encode hospitals\n",
    "        train_hosp = pd.get_dummies(train['Stroke team'], prefix = 'team')\n",
    "        train = pd.concat([train, train_hosp], axis=1)\n",
    "        train.drop('Stroke team', axis=1, inplace=True)\n",
    "        test_hosp = pd.get_dummies(test['Stroke team'], prefix = 'team')\n",
    "        test = pd.concat([test, test_hosp], axis=1)\n",
    "        test.drop('Stroke team', axis=1, inplace=True) \n",
    "        \n",
    "        # Sample from training data\n",
    "        train = train.sample(n=train_size)\n",
    "\n",
    "        # Get X and y\n",
    "        X_train = train.drop('Thrombolysis', axis=1)\n",
    "        X_test = test.drop('Thrombolysis', axis=1)\n",
    "        y_train = train['Thrombolysis']\n",
    "        y_test = test['Thrombolysis']        \n",
    "       \n",
    "        # Define model\n",
    "        model = XGBClassifier(verbosity = 0, seed=42, learning_rate=0.5)\n",
    "\n",
    "        # Fit model\n",
    "        model.fit(X_train, y_train)\n",
    "\n",
    "        # Predict test set\n",
    "        y_pred_test = model.predict(X_test)\n",
    "\n",
    "        # Get accuracy and record results\n",
    "        accuracy = np.mean(y_pred_test == y_test)\n",
    "        replicate_accuracy.append(accuracy)\n",
    "        results_all_accuracy.append(accuracy)\n",
    "    \n",
    "    # Store mean accuracy across the k-fold splits\n",
    "    results_accuracy.append(np.mean(replicate_accuracy))\n",
    "    results_training_size.append(train_size)\n",
    "\n",
    "k_fold_accuracy = np.array(results_all_accuracy).reshape(len(train_sizes), 5)"
   ]
  },
  {
   "cell_type": "code",
   "execution_count": 30,
   "id": "a3940b55",
   "metadata": {},
   "outputs": [
    {
     "data": {
      "image/png": "[encoded data removed]",
      "text/plain": [
       "<Figure size 720x360 with 2 Axes>"
      ]
     },
     "metadata": {
      "needs_background": "light"
     },
     "output_type": "display_data"
    }
   ],
   "source": [
    "fig = plt.figure(figsize=(10,5))\n",
    "\n",
    "ax1 = fig.add_subplot(121)\n",
    "\n",
    "for i in range(5):\n",
    "    ax1.plot(results_training_size, k_fold_accuracy[:, i])\n",
    "\n",
    "ax1.set_xlabel('Training set size')\n",
    "ax1.set_ylabel('Accuracy)')\n",
    "ax1.grid()\n",
    "\n",
    "# Focus on first 5000\n",
    "ax2 = fig.add_subplot(122)\n",
    "for i in range(5):\n",
    "    ax2.plot(results_training_size, k_fold_accuracy[:, i])\n",
    "\n",
    "ax2.set_xlabel('Training set size')\n",
    "ax2.set_ylabel('Accuracy')\n",
    "ax2.set_xlim(0, 5000)\n",
    "ax2.grid()\n",
    "\n",
    "plt.tight_layout()\n",
    "plt.savefig(f'./output/{model_type}_learning_curve.jpg', dpi=300)\n",
    "plt.show()"
   ]
  },
  {
   "cell_type": "markdown",
   "id": "f4201ca6-318c-47da-b13a-92a4ad5b073b",
   "metadata": {},
   "source": [
    "## Observations\n",
    "\n",
    "* Overall accuracy = 84.7% (88.3 for those 69% samples with at least 80% confidence of model)\n",
    "* Using nominal threshold (50% probability), specificity (89.4%) is greater than sensitivity (74.1%)\n",
    "* The model can achieve 83.7% sensitivity and specificity simultaneously\n",
    "* ROC AUC = 0.916\n",
    "* The model is well calibrated"
   ]
  }
 ],
 "metadata": {
  "celltoolbar": "Edit Metadata",
  "kernelspec": {
   "display_name": "Python 3 (ipykernel)",
   "language": "python",
   "name": "python3"
  },
  "language_info": {
   "codemirror_mode": {
    "name": "ipython",
    "version": 3
   },
   "file_extension": ".py",
   "mimetype": "text/x-python",
   "name": "python",
   "nbconvert_exporter": "python",
   "pygments_lexer": "ipython3",
   "version": "3.8.13"
  }
 },
 "nbformat": 4,
 "nbformat_minor": 5
}
