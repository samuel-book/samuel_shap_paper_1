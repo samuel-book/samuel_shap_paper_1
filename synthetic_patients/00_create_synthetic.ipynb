{
 "cells": [
  {
   "cell_type": "markdown",
   "metadata": {},
   "source": [
    "# Creation of artificial (synthetic) patient data\n",
    "\n",
    "Note: This artificial data is intended only for use in exploring the methods, using up to 10 features. The method of synthethis does not maintain any covariance between features, though average feature values for patients at each hopsital are approximately maintained.\n",
    "\n"
   ]
  },
  {
   "cell_type": "code",
   "execution_count": 1,
   "metadata": {},
   "outputs": [],
   "source": [
    "# Turn warnings off to keep notebook tidy\n",
    "import warnings\n",
    "warnings.filterwarnings(\"ignore\")\n",
    "\n",
    "\n",
    "import numpy as np\n",
    "import pandas as pd\n",
    "from sklearn.model_selection import StratifiedKFold\n",
    "from xgboost import XGBClassifier"
   ]
  },
  {
   "cell_type": "code",
   "execution_count": 2,
   "metadata": {},
   "outputs": [],
   "source": [
    "# Load data\n",
    "data_loc = '../data/10k_training_test/'\n",
    "original_data = pd.read_csv(data_loc + 'cohort_10000_train.csv')\n",
    "\n",
    "# Get stroke teams = \n",
    "stroke_teams = list(set(original_data['StrokeTeam']))\n",
    "stroke_teams.sort()\n"
   ]
  },
  {
   "cell_type": "code",
   "execution_count": 3,
   "metadata": {},
   "outputs": [],
   "source": [
    "cases = 1000\n",
    "synthetic_data_list = []\n",
    "\n",
    "# Sample data for each stroke team\n",
    "for stroke_team in stroke_teams:\n",
    "    # Set up data frame for synthetic team data\n",
    "    synthetic_data = pd.DataFrame()\n",
    "    \n",
    "    # Get original team data\n",
    "    mask = original_data['StrokeTeam'] == stroke_team\n",
    "    team_data = original_data[mask]\n",
    "    \n",
    "    # Set team\n",
    "    synthetic_data['StrokeTeam'] = np.repeat(stroke_team, cases)\n",
    "\n",
    "    # Sample individual items from orioginal data with replacement\n",
    "    # Times are rounded to 5 minutes\n",
    "    \n",
    "    synthetic_data['S2BrainImagingTime_min'] = np.random.choice(\n",
    "        team_data['S2BrainImagingTime_min'], replace=True, size=cases)\n",
    "\n",
    "    synthetic_data['S2StrokeType_Infarction'] = np.random.choice(\n",
    "        team_data['S2StrokeType_Infarction'], replace=True, size=cases)\n",
    "\n",
    "    synthetic_data['S2NihssArrival'] = np.random.choice(\n",
    "        team_data['S2NihssArrival'], replace=True, size=cases)\n",
    "    \n",
    "    synthetic_data['S1OnsetTimeType_Precise'] = np.random.choice(\n",
    "        team_data['S1OnsetTimeType_Precise'], replace=True, size=cases)\n",
    "    \n",
    "    synthetic_data['S2RankinBeforeStroke'] = np.random.choice(\n",
    "        team_data['S2RankinBeforeStroke'], replace=True, size=cases)\n",
    "    \n",
    "    synthetic_data['AFAnticoagulent_Yes'] = np.random.choice(\n",
    "        team_data['AFAnticoagulent_Yes'], replace=True, size=cases)\n",
    "\n",
    "    synthetic_data['S1OnsetToArrival_min'] = np.random.choice(\n",
    "        team_data['S1OnsetToArrival_min'], replace=True, size=cases)\n",
    "    \n",
    "    synthetic_data['S1OnsetDateType_Stroke during sleep'] = np.random.choice(\n",
    "        team_data['S1OnsetDateType_Stroke during sleep'], replace=True, size=cases)\n",
    "    \n",
    "    synthetic_data['S1AgeOnArrival'] = np.random.choice(\n",
    "        team_data['S1AgeOnArrival'], replace=True, size=cases)\n",
    "\n",
    "    synthetic_data_list.append(synthetic_data)\n",
    "\n",
    "# Concatenate lists\n",
    "synthetic_data_df = pd.concat(synthetic_data_list)\n",
    "\n",
    "# Shuffle data\n",
    "synthetic_data_df = synthetic_data_df.sample(frac=1)"
   ]
  },
  {
   "cell_type": "markdown",
   "metadata": {},
   "source": [
    "## Train a model on training data, to use to label synthetic data"
   ]
  },
  {
   "cell_type": "code",
   "execution_count": 4,
   "metadata": {},
   "outputs": [
    {
     "name": "stdout",
     "output_type": "stream",
     "text": [
      "Accuracy: 0.848\n"
     ]
    }
   ],
   "source": [
    "# Load data\n",
    "train = pd.read_csv(data_loc + 'cohort_10000_train.csv')\n",
    "test = pd.read_csv(data_loc + 'cohort_10000_test.csv')\n",
    "\n",
    "# Read in the names of the selected features for the model\n",
    "number_of_features_to_use = 10\n",
    "key_features = pd.read_csv('./output/feature_selection.csv')\n",
    "key_features = list(key_features['feature'])[:number_of_features_to_use]\n",
    "# And add the target feature name: S2Thrombolysis\n",
    "key_features.append('S2Thrombolysis')\n",
    "\n",
    "# Select features\n",
    "train = train[key_features]\n",
    "test = test[key_features]\n",
    "\n",
    "# Get X and y\n",
    "X_train = train.drop('S2Thrombolysis', axis=1)\n",
    "X_test = test.drop('S2Thrombolysis', axis=1)\n",
    "y_train = train['S2Thrombolysis']\n",
    "y_test = test['S2Thrombolysis']\n",
    "\n",
    "# One hot encode hospitals\n",
    "X_train_hosp = pd.get_dummies(X_train['StrokeTeam'], prefix = 'team')\n",
    "X_train = pd.concat([X_train, X_train_hosp], axis=1)\n",
    "X_train.drop('StrokeTeam', axis=1, inplace=True)\n",
    "X_test_hosp = pd.get_dummies(X_test['StrokeTeam'], prefix = 'team')\n",
    "X_test = pd.concat([X_test, X_test_hosp], axis=1)\n",
    "X_test.drop('StrokeTeam', axis=1, inplace=True)    \n",
    "\n",
    "# Define model\n",
    "model = XGBClassifier(verbosity=0, seed=42, learning_rate=0.5)\n",
    "\n",
    "# Fit model\n",
    "model.fit(X_train, y_train)\n",
    "\n",
    "# Get predicted probabilities and class\n",
    "y_probs = model.predict_proba(X_test)[:,1]\n",
    "y_pred = y_probs > 0.5\n",
    "\n",
    "# Show accuracy\n",
    "accuracy = np.mean(y_pred == y_test)\n",
    "print (f'Accuracy: {accuracy:.3f}')"
   ]
  },
  {
   "cell_type": "markdown",
   "metadata": {},
   "source": [
    "## Predict label for synthetic data set"
   ]
  },
  {
   "cell_type": "code",
   "execution_count": 5,
   "metadata": {},
   "outputs": [],
   "source": [
    "# One hot encode hopsitals\n",
    "X_synthetic = synthetic_data_df\n",
    "X_synthetic_hosp = pd.get_dummies(X_synthetic['StrokeTeam'], prefix = 'team')\n",
    "X_synthetic = pd.concat([X_synthetic, X_synthetic_hosp], axis=1)\n",
    "X_synthetic.drop('StrokeTeam', axis=1, inplace=True)\n",
    "\n",
    "# Get predicted probabilities and class\n",
    "y_probs = model.predict_proba(X_synthetic)[:,1]\n",
    "y_pred = y_probs > 0.5\n",
    "synthetic_data_df['S2Thrombolysis'] = y_pred * 1.0\n",
    "\n",
    "# Save\n",
    "synthetic_data_df.to_csv('./output/synthetic_10K_train.csv', index=False)"
   ]
  },
  {
   "cell_type": "markdown",
   "metadata": {},
   "source": [
    "## Test synthetic data to train model"
   ]
  },
  {
   "cell_type": "code",
   "execution_count": 6,
   "metadata": {},
   "outputs": [
    {
     "name": "stdout",
     "output_type": "stream",
     "text": [
      "Accuracy: 0.849\n"
     ]
    }
   ],
   "source": [
    "# Load data\n",
    "train = synthetic_data_df\n",
    "test = pd.read_csv(data_loc + 'cohort_10000_test.csv')\n",
    "\n",
    "# Read in the names of the selected features for the model\n",
    "number_of_features_to_use = 10\n",
    "key_features = pd.read_csv('./output/feature_selection.csv')\n",
    "key_features = list(key_features['feature'])[:number_of_features_to_use]\n",
    "# And add the target feature name: S2Thrombolysis\n",
    "key_features.append('S2Thrombolysis')\n",
    "\n",
    "# Select features\n",
    "train = train[key_features]\n",
    "test = test[key_features]\n",
    "\n",
    "# Get X and y\n",
    "X_train = train.drop('S2Thrombolysis', axis=1)\n",
    "X_test = test.drop('S2Thrombolysis', axis=1)\n",
    "y_train = train['S2Thrombolysis']\n",
    "y_test = test['S2Thrombolysis']\n",
    "\n",
    "# One hot encode hospitals\n",
    "X_train_hosp = pd.get_dummies(X_train['StrokeTeam'], prefix = 'team')\n",
    "X_train = pd.concat([X_train, X_train_hosp], axis=1)\n",
    "X_train.drop('StrokeTeam', axis=1, inplace=True)\n",
    "X_test_hosp = pd.get_dummies(X_test['StrokeTeam'], prefix = 'team')\n",
    "X_test = pd.concat([X_test, X_test_hosp], axis=1)\n",
    "X_test.drop('StrokeTeam', axis=1, inplace=True)    \n",
    "\n",
    "# Define model\n",
    "model = XGBClassifier(verbosity=0, seed=42, learning_rate=0.5)\n",
    "\n",
    "# Fit model\n",
    "model.fit(X_train, y_train)\n",
    "\n",
    "# Get predicted probabilities and class\n",
    "y_probs = model.predict_proba(X_test)[:,1]\n",
    "y_pred = y_probs > 0.5\n",
    "\n",
    "# Show accuracy\n",
    "accuracy = np.mean(y_pred == y_test)\n",
    "print (f'Accuracy: {accuracy:.3f}')"
   ]
  },
  {
   "cell_type": "markdown",
   "metadata": {},
   "source": [
    "## Create k-fold data sets"
   ]
  },
  {
   "cell_type": "code",
   "execution_count": 7,
   "metadata": {},
   "outputs": [],
   "source": [
    "# Stratify by thrombolysis and stroke team\n",
    "strat = synthetic_data_df['StrokeTeam'].map(str) + '-' + synthetic_data_df['S2Thrombolysis'].map(str)\n",
    "\n",
    "# Set up splits\n",
    "number_of_splits = 5\n",
    "skf = StratifiedKFold(n_splits = number_of_splits)\n",
    "skf.get_n_splits(synthetic_data_df, strat.values)\n",
    "\n",
    "# Put in NumPy arrays\n",
    "X = synthetic_data_df.values\n",
    "y = strat.values\n",
    "X_col_names = list(synthetic_data_df)\n",
    "\n",
    "# Loop through the k-fold splits\n",
    "counter = 0\n",
    "for train_index, test_index in skf.split(X, y):  \n",
    "    \n",
    "    # Get Xtrain and test\n",
    "    train_np, test_np = X[train_index], X[test_index]\n",
    "    \n",
    "    # Convert to Pandas DataFrames\n",
    "    train = pd.DataFrame(train_np, columns=X_col_names)\n",
    "    test = pd.DataFrame(test_np, columns=X_col_names)\n",
    "    \n",
    "    # Save\n",
    "    train.to_csv(f'./output/kfold_5fold/synth_train_{counter}.csv', index=False)\n",
    "    test.to_csv(f'./output/kfold_5fold/synth_test_{counter}.csv', index=False)\n",
    "\n",
    "    counter += 1"
   ]
  }
 ],
 "metadata": {
  "kernelspec": {
   "display_name": "Python 3.8.15 ('samuel')",
   "language": "python",
   "name": "python3"
  },
  "language_info": {
   "codemirror_mode": {
    "name": "ipython",
    "version": 3
   },
   "file_extension": ".py",
   "mimetype": "text/x-python",
   "name": "python",
   "nbconvert_exporter": "python",
   "pygments_lexer": "ipython3",
   "version": "3.8.15"
  },
  "orig_nbformat": 4,
  "vscode": {
   "interpreter": {
    "hash": "b368e36a85415766688ec72e3e874a4b525584eabf4bf7122952a4e0fd64fcde"
   }
  }
 },
 "nbformat": 4,
 "nbformat_minor": 2
}
