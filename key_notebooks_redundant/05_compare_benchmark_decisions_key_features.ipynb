{
 "cells": [
  {
   "cell_type": "markdown",
   "id": "d56a668f-88f6-465d-a38b-107177bbf806",
   "metadata": {},
   "source": [
    "# Compare local thrombolysis decisions with benchmark decisions\n",
    "\n",
    "## Plain English summary\n",
    "\n",
    "This notebook compares local thrombolysis decisions with those expected at the majority of a 30-hospital set of benchmark hospitals. \n",
    "\n",
    "The XGBoost model uses 8 features: \n",
    "\n",
    "* Arrival-to-scan time\n",
    "* Infarction\n",
    "* Stroke severity\n",
    "* Precise onset time\n",
    "* Prior disability level\n",
    "* Stroke team\n",
    "* Use of AF anticoagulants\n",
    "* Onset-to-arrival time\n",
    "\n",
    "Benchmark decisions are decisions made at the majority of the top 30 hospitals as judged by their expected thrombolysis use in a standard 10K cohort of patients (a set of 10,000 patients that is passed through the models of decision-making at each hospital). \n",
    "\n",
    "If benchmark decisions were used at all hopsitals, then thrombolysis use would increase 22%. Thrombolysis use at the bottom 30 thrombolsying hospitals would increase 63%.\n",
    "\n",
    "## Aims\n",
    "\n",
    "* Predict thrombolysis use of 10K cohort of patients at all 132 hospitals.\n",
    "\n",
    "* Get predicted thrombolysis decisions for all patients at the 30 benchmark hospitals.\n",
    "\n",
    "* Check similarity between local decisions and benchmark decisions.\n",
    "\n",
    "* Estimate thrombolysis use at each hospital if benchmark decisions made.\n",
    "\n",
    "* Save comparison of local and benchmark decisions.\n",
    "\n",
    "## Observations\n",
    "\n",
    "* 82.9% decisions are identical between local and benchmark decisions.\n",
    "\n",
    "* Thrombolysis use would be increased 22.4% if benchmark decisions were made at all hospitals. The lowest 30 units would, together, have 64% increased thrombolysis rates by following benchmark decisions.\n",
    "\n",
    "* The ration of benchmark:local thrombolysis use was 0.7 to 2.2."
   ]
  },
  {
   "cell_type": "code",
   "execution_count": 1,
   "id": "fb993096-6489-4de7-84d8-98a2bb35fdff",
   "metadata": {},
   "outputs": [],
   "source": [
    "# Turn warnings off to keep notebook tidy\n",
    "import warnings\n",
    "warnings.filterwarnings(\"ignore\")\n",
    "\n",
    "import os\n",
    "import matplotlib.pyplot as plt\n",
    "import numpy as np\n",
    "import pandas as pd\n",
    "\n",
    "import matplotlib.cm as cm\n",
    "import matplotlib.colors as colors\n",
    "from matplotlib.lines import Line2D\n",
    "\n",
    "from xgboost import XGBClassifier"
   ]
  },
  {
   "cell_type": "markdown",
   "id": "a509ad9c-e9bd-4874-9822-f4a8dfd579ab",
   "metadata": {},
   "source": [
    "## Load data on predicted 10K corhort thrombolysis use at each hospital"
   ]
  },
  {
   "cell_type": "code",
   "execution_count": 2,
   "id": "712facb9-ccfe-41be-813a-869d25976509",
   "metadata": {},
   "outputs": [],
   "source": [
    "thrombolysis_by_hosp = pd.read_csv(\n",
    "    './output/10k_thrombolysis_rate_by_hosp_key_features.csv', index_col='stroke_team')\n",
    "thrombolysis_by_hosp.sort_values(\n",
    "    'Thrombolysis rate', ascending=False, inplace=True)"
   ]
  },
  {
   "cell_type": "code",
   "execution_count": 3,
   "id": "9d1a7fe4-1649-49ae-94cd-ade7a95cf64b",
   "metadata": {},
   "outputs": [
    {
     "data": {
      "text/html": [
       "<div>\n",
       "<style scoped>\n",
       "    .dataframe tbody tr th:only-of-type {\n",
       "        vertical-align: middle;\n",
       "    }\n",
       "\n",
       "    .dataframe tbody tr th {\n",
       "        vertical-align: top;\n",
       "    }\n",
       "\n",
       "    .dataframe thead th {\n",
       "        text-align: right;\n",
       "    }\n",
       "</style>\n",
       "<table border=\"1\" class=\"dataframe\">\n",
       "  <thead>\n",
       "    <tr style=\"text-align: right;\">\n",
       "      <th></th>\n",
       "      <th>Thrombolysis rate</th>\n",
       "    </tr>\n",
       "    <tr>\n",
       "      <th>stroke_team</th>\n",
       "      <th></th>\n",
       "    </tr>\n",
       "  </thead>\n",
       "  <tbody>\n",
       "    <tr>\n",
       "      <th>VKKDD9172T</th>\n",
       "      <td>0.4770</td>\n",
       "    </tr>\n",
       "    <tr>\n",
       "      <th>CNBGF2713O</th>\n",
       "      <td>0.4260</td>\n",
       "    </tr>\n",
       "    <tr>\n",
       "      <th>HPWIF9956L</th>\n",
       "      <td>0.4140</td>\n",
       "    </tr>\n",
       "    <tr>\n",
       "      <th>GKONI0110I</th>\n",
       "      <td>0.4127</td>\n",
       "    </tr>\n",
       "    <tr>\n",
       "      <th>TPXYE0168D</th>\n",
       "      <td>0.4026</td>\n",
       "    </tr>\n",
       "  </tbody>\n",
       "</table>\n",
       "</div>"
      ],
      "text/plain": [
       "             Thrombolysis rate\n",
       "stroke_team                   \n",
       "VKKDD9172T              0.4770\n",
       "CNBGF2713O              0.4260\n",
       "HPWIF9956L              0.4140\n",
       "GKONI0110I              0.4127\n",
       "TPXYE0168D              0.4026"
      ]
     },
     "execution_count": 3,
     "metadata": {},
     "output_type": "execute_result"
    }
   ],
   "source": [
    "thrombolysis_by_hosp.head()"
   ]
  },
  {
   "cell_type": "code",
   "execution_count": 4,
   "id": "912fc175-fd1a-4553-85ab-252c47b67cc8",
   "metadata": {},
   "outputs": [],
   "source": [
    "top_30_hopsitals = list(thrombolysis_by_hosp.head(30).index)\n",
    "bottom_30_hopsitals = list(thrombolysis_by_hosp.tail(30).index)"
   ]
  },
  {
   "cell_type": "markdown",
   "id": "ec611fc3-d05d-4937-969c-4d1a3ec9aba2",
   "metadata": {},
   "source": [
    "## Get predicted decision for all patients at each hopsital\n",
    "\n",
    "Combine test results for k_fold data, so that all inviduals are predicted from a test set."
   ]
  },
  {
   "cell_type": "code",
   "execution_count": 5,
   "id": "f9065747-ae93-4620-95f2-2fd4faf2da87",
   "metadata": {},
   "outputs": [],
   "source": [
    "data_loc = '../data/kfold_5fold/'\n",
    "\n",
    "train_data, test_data = [], []\n",
    "\n",
    "# Load features (and add S2Thrombolysis)\n",
    "number_of_features_to_use = 8\n",
    "key_features = pd.read_csv('./output/feature_selection.csv')\n",
    "key_features = list(key_features['feature'])[:number_of_features_to_use]\n",
    "key_features.append('S2Thrombolysis')\n",
    "\n",
    "for i in range(5):\n",
    "    train = pd.read_csv(data_loc + 'train_{0}.csv'.format(i))\n",
    "    train = train[key_features]\n",
    "    train_data.append(train)\n",
    "    test = pd.read_csv(data_loc + 'test_{0}.csv'.format(i))\n",
    "    test = test[key_features]\n",
    "    test_data.append(test)"
   ]
  },
  {
   "cell_type": "code",
   "execution_count": 6,
   "id": "0bba8448-d9df-456a-a6d0-470742c142ce",
   "metadata": {},
   "outputs": [
    {
     "name": "stdout",
     "output_type": "stream",
     "text": [
      "Run 1, accuracy: 0.846\n",
      "Run 2, accuracy: 0.852\n",
      "Run 3, accuracy: 0.845\n",
      "Run 4, accuracy: 0.851\n",
      "Run 5, accuracy: 0.845\n"
     ]
    }
   ],
   "source": [
    "# Set up list to store models\n",
    "models = []\n",
    "\n",
    "# Set up lists for observed and predicted\n",
    "observed = []\n",
    "predicted_proba = []\n",
    "predicted = []\n",
    "\n",
    "# Set up list for feature importances\n",
    "feature_importance = []\n",
    "\n",
    "# Loop through k folds\n",
    "for k_fold in range(5):\n",
    "    \n",
    "    # Get k fold split\n",
    "    train = train_data[k_fold]\n",
    "    test = test_data[k_fold]\n",
    "    \n",
    "    # Get X and y\n",
    "    X_train = train.drop('S2Thrombolysis', axis=1)\n",
    "    X_test = test.drop('S2Thrombolysis', axis=1)\n",
    "    y_train = train['S2Thrombolysis']\n",
    "    y_test = test['S2Thrombolysis']\n",
    "    \n",
    "    # One hot encode hospitals\n",
    "    X_train_hosp = pd.get_dummies(X_train['StrokeTeam'], prefix = 'team')\n",
    "    X_train = pd.concat([X_train, X_train_hosp], axis=1)\n",
    "    X_train.drop('StrokeTeam', axis=1, inplace=True)\n",
    "    X_test_hosp = pd.get_dummies(X_test['StrokeTeam'], prefix = 'team')\n",
    "    X_test = pd.concat([X_test, X_test_hosp], axis=1)\n",
    "    X_test.drop('StrokeTeam', axis=1, inplace=True)    \n",
    "    \n",
    "    # Define model\n",
    "    model = XGBClassifier(verbosity = 0, seed=42, learning_rate=0.5)\n",
    "    \n",
    "    # Fit model\n",
    "    model.fit(X_train, y_train)\n",
    "    models.append(model)\n",
    "    \n",
    "    # Get predicted probabilities\n",
    "    y_probs = model.predict_proba(X_test)[:,1]\n",
    "    observed.append(y_test)\n",
    "    predicted_proba.append(y_probs)\n",
    "    \n",
    "    # Get feature importances\n",
    "    importance = model.feature_importances_\n",
    "    feature_importance.append(importance)\n",
    "    \n",
    "    # Get class\n",
    "    y_class = y_probs >= 0.5\n",
    "    y_class = np.array(y_class) * 1.0\n",
    "    predicted.append(y_class)\n",
    "    \n",
    "    # Print accuracy\n",
    "    accuracy = np.mean(y_class == y_test)\n",
    "    print(\n",
    "        f'Run {k_fold+1}, accuracy: {accuracy:0.3f}')"
   ]
  },
  {
   "cell_type": "markdown",
   "id": "f0ace964-d873-46e8-9adb-77d6b196eb24",
   "metadata": {},
   "source": [
    "Combine test results in a dataframe."
   ]
  },
  {
   "cell_type": "code",
   "execution_count": 7,
   "id": "2069e663-8f3b-4769-98c7-91ac2eb55c63",
   "metadata": {},
   "outputs": [],
   "source": [
    "thrombolysis_predictions_at_own_unit_k_fold = []\n",
    "\n",
    "for i in range(5):\n",
    "    df = pd.DataFrame()\n",
    "    df['unit'] = test_data[i]['StrokeTeam']\n",
    "    df['observed'] = observed[i]\n",
    "    df['predicted_thrombolysis'] = predicted[i]\n",
    "    df['predicted_proba'] = predicted_proba[i]\n",
    "    thrombolysis_predictions_at_own_unit_k_fold.append(df)\n",
    "    \n",
    "thrombolysis_predictions_at_own_unit = pd.concat(\n",
    "    thrombolysis_predictions_at_own_unit_k_fold, axis=0)"
   ]
  },
  {
   "cell_type": "markdown",
   "id": "d78c05b7-0944-4320-92b8-6cfda3b40945",
   "metadata": {},
   "source": [
    "## Get predictions at 30 benchmark hospitals"
   ]
  },
  {
   "cell_type": "code",
   "execution_count": 8,
   "id": "f5b52d27-826c-4f27-ad62-4465ce20761d",
   "metadata": {},
   "outputs": [],
   "source": [
    "hospitals = top_30_hopsitals\n",
    "top_30_predictions = []\n",
    "\n",
    "# Loop through k folds\n",
    "for k_fold in range(5):\n",
    "    \n",
    "    k_fold_predictions = []\n",
    "    \n",
    "    # Get predicted probabilities and class\n",
    "    model = models[k_fold]\n",
    "\n",
    "    for hospital in hospitals:\n",
    "\n",
    "        # Get k fold split\n",
    "        train = train_data[k_fold]\n",
    "        test = test_data[k_fold]\n",
    "\n",
    "        # Get X and y\n",
    "        X_train = train.drop('S2Thrombolysis', axis=1)\n",
    "        X_test = test.drop('S2Thrombolysis', axis=1)\n",
    "        y_train = train['S2Thrombolysis']\n",
    "        y_test = test['S2Thrombolysis']\n",
    "\n",
    "        # One hot encode hospitals\n",
    "        X_train_hosp = pd.get_dummies(X_train['StrokeTeam'], prefix = 'team')\n",
    "        X_train = pd.concat([X_train, X_train_hosp], axis=1)\n",
    "        X_train.drop('StrokeTeam', axis=1, inplace=True)\n",
    "        X_test_hosp = pd.get_dummies(X_test['StrokeTeam'], prefix = 'team')\n",
    "        X_test = pd.concat([X_test, X_test_hosp], axis=1)\n",
    "        X_test.drop('StrokeTeam', axis=1, inplace=True) \n",
    "\n",
    "        # Get test data without thrombolysis hospital or stroke team\n",
    "        X_test_no_hosp = test.drop(['S2Thrombolysis', 'StrokeTeam'], axis=1)\n",
    "\n",
    "        # Copy hospital dataframe and change hospital ID (after setting all to zero)\n",
    "        X_test_adjusted_hospital = X_test_hosp.copy()\n",
    "        X_test_adjusted_hospital.loc[:,:] = 0\n",
    "        team = \"team_\" + hospital\n",
    "        X_test_adjusted_hospital[team] = 1\n",
    "\n",
    "        X_test_adjusted = pd.concat(\n",
    "            [X_test_no_hosp, X_test_adjusted_hospital], axis=1)\n",
    "\n",
    "\n",
    "        y_probs = model.predict_proba(X_test_adjusted)[:,1]\n",
    "        y_pred = y_probs > 0.5\n",
    "        k_fold_predictions.append(y_pred * 1)\n",
    "        \n",
    "    top_30_predictions.append(k_fold_predictions)"
   ]
  },
  {
   "cell_type": "markdown",
   "id": "35457774-62a2-4b99-ae32-5e189b613456",
   "metadata": {},
   "source": [
    "Reformat top 30 hospital predictions.\n",
    "\n",
    "top_30_predictions has [a][b][c] where:\n",
    "[a] = k_fold\n",
    "[b] = hospital\n",
    "[c] = individual"
   ]
  },
  {
   "cell_type": "code",
   "execution_count": 9,
   "id": "a5cf768a-ea0a-470c-9540-d6c23a41cad9",
   "metadata": {},
   "outputs": [],
   "source": [
    "benchmark_decisions_k_fold = []\n",
    "\n",
    "for i in range(5):\n",
    "    df = pd.DataFrame()\n",
    "    df['home_unit'] = test_data[i]['StrokeTeam']\n",
    "    k_fold_predictions = top_30_predictions[i][:][:]    \n",
    "    benchmark_yes_count = np.array(k_fold_predictions).sum(axis=0)\n",
    "    df['majority_vote'] = (benchmark_yes_count >= 15) * 1.0\n",
    "    benchmark_decisions_k_fold.append(df)\n",
    "    \n",
    "benchmark_decisions = pd.concat(benchmark_decisions_k_fold,  axis=0)"
   ]
  },
  {
   "cell_type": "code",
   "execution_count": 10,
   "id": "58680247-533f-4cd4-af7f-f46a7eb3e3dd",
   "metadata": {},
   "outputs": [
    {
     "data": {
      "text/html": [
       "<div>\n",
       "<style scoped>\n",
       "    .dataframe tbody tr th:only-of-type {\n",
       "        vertical-align: middle;\n",
       "    }\n",
       "\n",
       "    .dataframe tbody tr th {\n",
       "        vertical-align: top;\n",
       "    }\n",
       "\n",
       "    .dataframe thead th {\n",
       "        text-align: right;\n",
       "    }\n",
       "</style>\n",
       "<table border=\"1\" class=\"dataframe\">\n",
       "  <thead>\n",
       "    <tr style=\"text-align: right;\">\n",
       "      <th></th>\n",
       "      <th>home_unit</th>\n",
       "      <th>majority_vote</th>\n",
       "    </tr>\n",
       "  </thead>\n",
       "  <tbody>\n",
       "    <tr>\n",
       "      <th>0</th>\n",
       "      <td>TXHRP7672C</td>\n",
       "      <td>1.0</td>\n",
       "    </tr>\n",
       "    <tr>\n",
       "      <th>1</th>\n",
       "      <td>SQGXB9559U</td>\n",
       "      <td>1.0</td>\n",
       "    </tr>\n",
       "    <tr>\n",
       "      <th>2</th>\n",
       "      <td>LFPMM4706C</td>\n",
       "      <td>0.0</td>\n",
       "    </tr>\n",
       "    <tr>\n",
       "      <th>3</th>\n",
       "      <td>MHMYL4920B</td>\n",
       "      <td>0.0</td>\n",
       "    </tr>\n",
       "    <tr>\n",
       "      <th>4</th>\n",
       "      <td>EQZZZ5658G</td>\n",
       "      <td>1.0</td>\n",
       "    </tr>\n",
       "  </tbody>\n",
       "</table>\n",
       "</div>"
      ],
      "text/plain": [
       "    home_unit  majority_vote\n",
       "0  TXHRP7672C            1.0\n",
       "1  SQGXB9559U            1.0\n",
       "2  LFPMM4706C            0.0\n",
       "3  MHMYL4920B            0.0\n",
       "4  EQZZZ5658G            1.0"
      ]
     },
     "execution_count": 10,
     "metadata": {},
     "output_type": "execute_result"
    }
   ],
   "source": [
    "benchmark_decisions.head()"
   ]
  },
  {
   "cell_type": "code",
   "execution_count": 11,
   "id": "56a9a78a-556d-46b8-bdae-780b3c4e3e3b",
   "metadata": {},
   "outputs": [],
   "source": [
    "thrombolysis_predictions_at_own_unit['majority_vote'] = \\\n",
    "    benchmark_decisions['majority_vote']"
   ]
  },
  {
   "cell_type": "code",
   "execution_count": 12,
   "id": "c30c9821-b6cc-41c0-9d70-6544d83b35de",
   "metadata": {},
   "outputs": [
    {
     "data": {
      "text/html": [
       "<div>\n",
       "<style scoped>\n",
       "    .dataframe tbody tr th:only-of-type {\n",
       "        vertical-align: middle;\n",
       "    }\n",
       "\n",
       "    .dataframe tbody tr th {\n",
       "        vertical-align: top;\n",
       "    }\n",
       "\n",
       "    .dataframe thead th {\n",
       "        text-align: right;\n",
       "    }\n",
       "</style>\n",
       "<table border=\"1\" class=\"dataframe\">\n",
       "  <thead>\n",
       "    <tr style=\"text-align: right;\">\n",
       "      <th></th>\n",
       "      <th>unit</th>\n",
       "      <th>observed</th>\n",
       "      <th>predicted_thrombolysis</th>\n",
       "      <th>predicted_proba</th>\n",
       "      <th>majority_vote</th>\n",
       "    </tr>\n",
       "  </thead>\n",
       "  <tbody>\n",
       "    <tr>\n",
       "      <th>0</th>\n",
       "      <td>TXHRP7672C</td>\n",
       "      <td>1</td>\n",
       "      <td>1.0</td>\n",
       "      <td>0.851281</td>\n",
       "      <td>1.0</td>\n",
       "    </tr>\n",
       "    <tr>\n",
       "      <th>1</th>\n",
       "      <td>SQGXB9559U</td>\n",
       "      <td>1</td>\n",
       "      <td>1.0</td>\n",
       "      <td>0.678180</td>\n",
       "      <td>1.0</td>\n",
       "    </tr>\n",
       "    <tr>\n",
       "      <th>2</th>\n",
       "      <td>LFPMM4706C</td>\n",
       "      <td>0</td>\n",
       "      <td>0.0</td>\n",
       "      <td>0.049836</td>\n",
       "      <td>0.0</td>\n",
       "    </tr>\n",
       "    <tr>\n",
       "      <th>3</th>\n",
       "      <td>MHMYL4920B</td>\n",
       "      <td>0</td>\n",
       "      <td>0.0</td>\n",
       "      <td>0.000119</td>\n",
       "      <td>0.0</td>\n",
       "    </tr>\n",
       "    <tr>\n",
       "      <th>4</th>\n",
       "      <td>EQZZZ5658G</td>\n",
       "      <td>1</td>\n",
       "      <td>1.0</td>\n",
       "      <td>0.897710</td>\n",
       "      <td>1.0</td>\n",
       "    </tr>\n",
       "  </tbody>\n",
       "</table>\n",
       "</div>"
      ],
      "text/plain": [
       "         unit  observed  predicted_thrombolysis  predicted_proba  \\\n",
       "0  TXHRP7672C         1                     1.0         0.851281   \n",
       "1  SQGXB9559U         1                     1.0         0.678180   \n",
       "2  LFPMM4706C         0                     0.0         0.049836   \n",
       "3  MHMYL4920B         0                     0.0         0.000119   \n",
       "4  EQZZZ5658G         1                     1.0         0.897710   \n",
       "\n",
       "   majority_vote  \n",
       "0            1.0  \n",
       "1            1.0  \n",
       "2            0.0  \n",
       "3            0.0  \n",
       "4            1.0  "
      ]
     },
     "execution_count": 12,
     "metadata": {},
     "output_type": "execute_result"
    }
   ],
   "source": [
    "thrombolysis_predictions_at_own_unit.head()"
   ]
  },
  {
   "cell_type": "markdown",
   "id": "efd90e79-329d-4684-b132-f4f544276e35",
   "metadata": {},
   "source": [
    "## Check similarity of own decisions vs benchmark decisions."
   ]
  },
  {
   "cell_type": "code",
   "execution_count": 13,
   "id": "d335ce3d-477c-444b-8c55-f761c8d1acf9",
   "metadata": {},
   "outputs": [],
   "source": [
    "same_decision = (\n",
    "    thrombolysis_predictions_at_own_unit['observed'] == \n",
    "    thrombolysis_predictions_at_own_unit['majority_vote'])"
   ]
  },
  {
   "cell_type": "code",
   "execution_count": 14,
   "id": "9bbddd29-e4e7-4caf-b540-35d9bbb61a21",
   "metadata": {},
   "outputs": [
    {
     "name": "stdout",
     "output_type": "stream",
     "text": [
      "Proportion same decision 0.829\n"
     ]
    }
   ],
   "source": [
    "print(f'Proportion same decision {same_decision.mean():0.3f}')"
   ]
  },
  {
   "cell_type": "markdown",
   "id": "aa1b16ba-a3a4-4451-9b8c-de176db2bf50",
   "metadata": {},
   "source": [
    "## Count number thrombolysed at each hospital compared with benchmark"
   ]
  },
  {
   "cell_type": "code",
   "execution_count": 15,
   "id": "f79b0b14-9c48-4e9d-b795-a3ec20dd9bfb",
   "metadata": {},
   "outputs": [],
   "source": [
    "thrombolysis_counts = (thrombolysis_predictions_at_own_unit.groupby('unit').agg('sum').drop(\n",
    "        'predicted_proba', axis=1))"
   ]
  },
  {
   "cell_type": "code",
   "execution_count": 16,
   "id": "bc59b955-948f-48a9-b202-7ed80eb5707f",
   "metadata": {},
   "outputs": [
    {
     "data": {
      "text/html": [
       "<div>\n",
       "<style scoped>\n",
       "    .dataframe tbody tr th:only-of-type {\n",
       "        vertical-align: middle;\n",
       "    }\n",
       "\n",
       "    .dataframe tbody tr th {\n",
       "        vertical-align: top;\n",
       "    }\n",
       "\n",
       "    .dataframe thead th {\n",
       "        text-align: right;\n",
       "    }\n",
       "</style>\n",
       "<table border=\"1\" class=\"dataframe\">\n",
       "  <thead>\n",
       "    <tr style=\"text-align: right;\">\n",
       "      <th></th>\n",
       "      <th>observed</th>\n",
       "      <th>predicted_thrombolysis</th>\n",
       "      <th>majority_vote</th>\n",
       "    </tr>\n",
       "    <tr>\n",
       "      <th>unit</th>\n",
       "      <th></th>\n",
       "      <th></th>\n",
       "      <th></th>\n",
       "    </tr>\n",
       "  </thead>\n",
       "  <tbody>\n",
       "    <tr>\n",
       "      <th>AGNOF1041H</th>\n",
       "      <td>307</td>\n",
       "      <td>314.0</td>\n",
       "      <td>409.0</td>\n",
       "    </tr>\n",
       "    <tr>\n",
       "      <th>AKCGO9726K</th>\n",
       "      <td>528</td>\n",
       "      <td>502.0</td>\n",
       "      <td>573.0</td>\n",
       "    </tr>\n",
       "    <tr>\n",
       "      <th>AOBTM3098N</th>\n",
       "      <td>128</td>\n",
       "      <td>130.0</td>\n",
       "      <td>199.0</td>\n",
       "    </tr>\n",
       "    <tr>\n",
       "      <th>APXEE8191H</th>\n",
       "      <td>130</td>\n",
       "      <td>119.0</td>\n",
       "      <td>173.0</td>\n",
       "    </tr>\n",
       "    <tr>\n",
       "      <th>ATDID5461S</th>\n",
       "      <td>75</td>\n",
       "      <td>72.0</td>\n",
       "      <td>91.0</td>\n",
       "    </tr>\n",
       "  </tbody>\n",
       "</table>\n",
       "</div>"
      ],
      "text/plain": [
       "            observed  predicted_thrombolysis  majority_vote\n",
       "unit                                                       \n",
       "AGNOF1041H       307                   314.0          409.0\n",
       "AKCGO9726K       528                   502.0          573.0\n",
       "AOBTM3098N       128                   130.0          199.0\n",
       "APXEE8191H       130                   119.0          173.0\n",
       "ATDID5461S        75                    72.0           91.0"
      ]
     },
     "execution_count": 16,
     "metadata": {},
     "output_type": "execute_result"
    }
   ],
   "source": [
    "thrombolysis_counts.head()"
   ]
  },
  {
   "cell_type": "markdown",
   "id": "eccdd358-a9a7-4fdf-9577-014717ee9201",
   "metadata": {},
   "source": [
    "### Estimate change in thrombolysis rate if benchmark decisions used at all hospitals"
   ]
  },
  {
   "cell_type": "code",
   "execution_count": 17,
   "id": "4c945c6c-1cd1-4137-adeb-7e020f26e264",
   "metadata": {},
   "outputs": [
    {
     "name": "stdout",
     "output_type": "stream",
     "text": [
      "Percent change in thrombolysis with benchmark vote: 22.4%\n"
     ]
    }
   ],
   "source": [
    "change = (thrombolysis_counts['majority_vote'].sum() / \n",
    "          thrombolysis_counts['observed'].sum())\n",
    "\n",
    "percent_change = (change -1) * 100\n",
    "\n",
    "print (f'Percent change in thrombolysis with benchmark vote: '\\\n",
    "       f'{percent_change:.1f}%')"
   ]
  },
  {
   "cell_type": "markdown",
   "id": "496ef5a4-2b2a-4798-9d2f-79dcfdbc650d",
   "metadata": {},
   "source": [
    "### Estimate change in thrombolysis rate at bottom 30 thrombolysing hospitals if benchmark decisions used"
   ]
  },
  {
   "cell_type": "code",
   "execution_count": 18,
   "id": "474f2953-83d3-46ef-9139-2f69526813d3",
   "metadata": {},
   "outputs": [
    {
     "name": "stdout",
     "output_type": "stream",
     "text": [
      "Percent increase in thrombolysis at bottom 30 hospitals with benchmark decisions: 63.5%\n"
     ]
    }
   ],
   "source": [
    "change = (thrombolysis_counts.loc[bottom_30_hopsitals]['majority_vote'].sum() / \n",
    "          thrombolysis_counts.loc[bottom_30_hopsitals]['observed'].sum())\n",
    "\n",
    "percent_change = (change -1) * 100\n",
    "\n",
    "print (f'Percent increase in thrombolysis at bottom 30 hospitals with '\\\n",
    "       f'benchmark decisions: {percent_change:.1f}%')"
   ]
  },
  {
   "cell_type": "code",
   "execution_count": 19,
   "id": "d7d2c5d7-7ff0-4d01-a564-c169330b6b99",
   "metadata": {},
   "outputs": [
    {
     "data": {
      "image/png": "[encoded data removed]",
      "text/plain": [
       "<Figure size 500x500 with 1 Axes>"
      ]
     },
     "metadata": {},
     "output_type": "display_data"
    }
   ],
   "source": [
    "fig = plt.figure(figsize=(5,5))\n",
    "ax = fig.add_subplot()\n",
    "ratio = thrombolysis_counts['majority_vote'] / thrombolysis_counts['observed']\n",
    "ax.hist(ratio, bins = np.arange(0.6, 2.3, 0.1))\n",
    "ax.set_xlabel('Ratio benchmark:local thrombolysis use')\n",
    "ax.set_ylabel('Frequency')\n",
    "plt.show()"
   ]
  },
  {
   "cell_type": "markdown",
   "id": "fe203a4a-6187-4565-ba7e-b07775bdd1b8",
   "metadata": {},
   "source": [
    "## Add patient counts at units, and calculate thrombolysis rate"
   ]
  },
  {
   "cell_type": "code",
   "execution_count": 20,
   "id": "f1f89b1a-ccd2-4265-8a90-34c4109d9caf",
   "metadata": {},
   "outputs": [],
   "source": [
    "unit_count = thrombolysis_predictions_at_own_unit.groupby(\n",
    "    'unit').count()['observed']"
   ]
  },
  {
   "cell_type": "code",
   "execution_count": 21,
   "id": "90004f3f-4f7c-4f5e-9573-55d1332356c4",
   "metadata": {},
   "outputs": [],
   "source": [
    "thrombolysis_counts['patients'] = unit_count\n",
    "thrombolysis_counts['observed_rate'] = (\n",
    "    thrombolysis_counts['observed'] / thrombolysis_counts['patients'])\n",
    "thrombolysis_counts['benchmark_rate'] = (\n",
    "    thrombolysis_counts['majority_vote'] / thrombolysis_counts['patients'])"
   ]
  },
  {
   "cell_type": "markdown",
   "id": "766a13a1-377c-4c15-8c29-f6ed4cf10a89",
   "metadata": {},
   "source": [
    "Add benchmark label"
   ]
  },
  {
   "cell_type": "code",
   "execution_count": 22,
   "id": "23aa368e-bf43-4e41-8bef-5c7187382b34",
   "metadata": {},
   "outputs": [],
   "source": [
    "thrombolysis_counts['benchmark_unit'] = False\n",
    "thrombolysis_counts['benchmark_unit'].loc[top_30_hopsitals] = True"
   ]
  },
  {
   "cell_type": "code",
   "execution_count": 23,
   "id": "0f854eca-a82d-4c6a-9e5a-e38b47c20cc8",
   "metadata": {},
   "outputs": [
    {
     "data": {
      "text/html": [
       "<div>\n",
       "<style scoped>\n",
       "    .dataframe tbody tr th:only-of-type {\n",
       "        vertical-align: middle;\n",
       "    }\n",
       "\n",
       "    .dataframe tbody tr th {\n",
       "        vertical-align: top;\n",
       "    }\n",
       "\n",
       "    .dataframe thead th {\n",
       "        text-align: right;\n",
       "    }\n",
       "</style>\n",
       "<table border=\"1\" class=\"dataframe\">\n",
       "  <thead>\n",
       "    <tr style=\"text-align: right;\">\n",
       "      <th></th>\n",
       "      <th>observed</th>\n",
       "      <th>predicted_thrombolysis</th>\n",
       "      <th>majority_vote</th>\n",
       "      <th>patients</th>\n",
       "      <th>observed_rate</th>\n",
       "      <th>benchmark_rate</th>\n",
       "      <th>benchmark_unit</th>\n",
       "    </tr>\n",
       "    <tr>\n",
       "      <th>unit</th>\n",
       "      <th></th>\n",
       "      <th></th>\n",
       "      <th></th>\n",
       "      <th></th>\n",
       "      <th></th>\n",
       "      <th></th>\n",
       "      <th></th>\n",
       "    </tr>\n",
       "  </thead>\n",
       "  <tbody>\n",
       "    <tr>\n",
       "      <th>AGNOF1041H</th>\n",
       "      <td>307</td>\n",
       "      <td>314.0</td>\n",
       "      <td>409.0</td>\n",
       "      <td>871</td>\n",
       "      <td>0.352468</td>\n",
       "      <td>0.469575</td>\n",
       "      <td>False</td>\n",
       "    </tr>\n",
       "    <tr>\n",
       "      <th>AKCGO9726K</th>\n",
       "      <td>528</td>\n",
       "      <td>502.0</td>\n",
       "      <td>573.0</td>\n",
       "      <td>1428</td>\n",
       "      <td>0.369748</td>\n",
       "      <td>0.401261</td>\n",
       "      <td>True</td>\n",
       "    </tr>\n",
       "    <tr>\n",
       "      <th>AOBTM3098N</th>\n",
       "      <td>128</td>\n",
       "      <td>130.0</td>\n",
       "      <td>199.0</td>\n",
       "      <td>585</td>\n",
       "      <td>0.218803</td>\n",
       "      <td>0.340171</td>\n",
       "      <td>False</td>\n",
       "    </tr>\n",
       "    <tr>\n",
       "      <th>APXEE8191H</th>\n",
       "      <td>130</td>\n",
       "      <td>119.0</td>\n",
       "      <td>173.0</td>\n",
       "      <td>574</td>\n",
       "      <td>0.226481</td>\n",
       "      <td>0.301394</td>\n",
       "      <td>False</td>\n",
       "    </tr>\n",
       "    <tr>\n",
       "      <th>ATDID5461S</th>\n",
       "      <td>75</td>\n",
       "      <td>72.0</td>\n",
       "      <td>91.0</td>\n",
       "      <td>312</td>\n",
       "      <td>0.240385</td>\n",
       "      <td>0.291667</td>\n",
       "      <td>False</td>\n",
       "    </tr>\n",
       "  </tbody>\n",
       "</table>\n",
       "</div>"
      ],
      "text/plain": [
       "            observed  predicted_thrombolysis  majority_vote  patients  \\\n",
       "unit                                                                    \n",
       "AGNOF1041H       307                   314.0          409.0       871   \n",
       "AKCGO9726K       528                   502.0          573.0      1428   \n",
       "AOBTM3098N       128                   130.0          199.0       585   \n",
       "APXEE8191H       130                   119.0          173.0       574   \n",
       "ATDID5461S        75                    72.0           91.0       312   \n",
       "\n",
       "            observed_rate  benchmark_rate  benchmark_unit  \n",
       "unit                                                       \n",
       "AGNOF1041H       0.352468        0.469575           False  \n",
       "AKCGO9726K       0.369748        0.401261            True  \n",
       "AOBTM3098N       0.218803        0.340171           False  \n",
       "APXEE8191H       0.226481        0.301394           False  \n",
       "ATDID5461S       0.240385        0.291667           False  "
      ]
     },
     "execution_count": 23,
     "metadata": {},
     "output_type": "execute_result"
    }
   ],
   "source": [
    "thrombolysis_counts.head()"
   ]
  },
  {
   "cell_type": "code",
   "execution_count": 24,
   "id": "4a01bcfa-4bff-414a-866e-bd95842e78f3",
   "metadata": {},
   "outputs": [
    {
     "data": {
      "image/png": "[encoded data removed]",
      "text/plain": [
       "<Figure size 500x500 with 1 Axes>"
      ]
     },
     "metadata": {},
     "output_type": "display_data"
    }
   ],
   "source": [
    "fig = plt.figure(figsize=(5,5))\n",
    "ax = fig.add_subplot()\n",
    "\n",
    "# Plot non-benchmark hospitals in blue\n",
    "mask = thrombolysis_counts['benchmark_unit'] == False\n",
    "non_bench = thrombolysis_counts[mask]\n",
    "\n",
    "for i, val in non_bench.iterrows():\n",
    "    start = [non_bench['observed_rate'] * 100,\n",
    "             non_bench['observed_rate'] * 100]\n",
    "    end = [non_bench['observed_rate'] * 100,\n",
    "             non_bench['benchmark_rate'] * 100]\n",
    "    ax.plot(start, end, c='b', lw=1, zorder=1)\n",
    "    ax.scatter(start[0], start[1], marker='o', facecolors='b', edgecolors='b', \n",
    "               s=20, zorder=2, alpha=0.6)\n",
    "    ax.scatter(end[0], end[1], marker='o', facecolors='w', edgecolors='b',\n",
    "               s=20, zorder=2, alpha=0.6)\n",
    "\n",
    "# Plot benchmark hospitals in red\n",
    "mask = thrombolysis_counts['benchmark_unit'] == True\n",
    "bench = thrombolysis_counts[mask]\n",
    "\n",
    "for i, val in bench.iterrows():\n",
    "    start = [bench['observed_rate'] * 100,\n",
    "             bench['observed_rate'] * 100]\n",
    "    end = [bench['observed_rate'] * 100,\n",
    "             bench['benchmark_rate'] * 100]\n",
    "    ax.plot(start, end, c='r', lw=1, zorder=1)\n",
    "    ax.scatter(start[0], start[1], marker='o', facecolors='r', edgecolors='r', \n",
    "               s=20, zorder=2, alpha=0.6)\n",
    "    ax.scatter(end[0], end[1], marker='o', facecolors='w', edgecolors='r',\n",
    "               s=20, zorder=2, alpha=0.6)\n",
    "\n",
    "# Add mods \n",
    "ax.set_xlabel('Observed thrombolysis rate (%)')\n",
    "ax.set_ylabel('Predicted benchmark thrombolysis rate (%)')\n",
    "ax.set_xlim(0, 55)\n",
    "ax.set_ylim(0, 55)\n",
    "ax.grid()\n",
    "\n",
    "custom_lines = [Line2D([0], [0], color='r', alpha=0.6, lw=2),\n",
    "                Line2D([0], [0], color='b', alpha = 0.6,lw=2)]\n",
    "\n",
    "plt.legend(custom_lines, ['Benchmark team', 'Non-benchmark team'],\n",
    "          loc='lower right')\n",
    "\n",
    "plt.tight_layout()\n",
    "plt.savefig('output/benchmark_thrombolysis_key_features.jpg', dpi=300)\n",
    "\n",
    "plt.show()"
   ]
  },
  {
   "cell_type": "markdown",
   "id": "cc905396-6874-4902-841b-02eec3083827",
   "metadata": {},
   "source": [
    "## Save comparisons of decisions"
   ]
  },
  {
   "cell_type": "code",
   "execution_count": 25,
   "id": "32cbbcf4-fec4-4c66-adc7-c41f9ad0b4fd",
   "metadata": {},
   "outputs": [],
   "source": [
    "thrombolysis_predictions_at_own_unit.to_csv(\n",
    "    './predictions/benchmark_decisions_combined_xgb_key_features.csv',\n",
    "    index=False)"
   ]
  },
  {
   "cell_type": "code",
   "execution_count": 26,
   "id": "a1f8d558-e472-4883-8099-9ecc2ad53522",
   "metadata": {},
   "outputs": [],
   "source": [
    "test_collated = pd.concat(test_data, axis=0)\n",
    "test_collated.to_csv('./predictions/test_features_collated_key_features.csv',\n",
    "                     index=False)"
   ]
  },
  {
   "cell_type": "markdown",
   "id": "89087430-9847-460b-a7d5-a944e7a664f9",
   "metadata": {},
   "source": [
    "## Observations\n",
    "\n",
    "* 82.9% decisions are identical between local and benchmark decisions.\n",
    "\n",
    "* Thrombolysis use would be increased 22.4% if benchmark decisions were made at all hospitals. The lowest 30 units would, together, have 64% increased thrombolysis rates by following benchmark decisions.\n",
    "\n",
    "* The ration of benchmark:local thrombolysis use was 0.7 to 2.2."
   ]
  }
 ],
 "metadata": {
  "kernelspec": {
   "display_name": "Python 3.8.13 ('samuel')",
   "language": "python",
   "name": "python3"
  },
  "language_info": {
   "codemirror_mode": {
    "name": "ipython",
    "version": 3
   },
   "file_extension": ".py",
   "mimetype": "text/x-python",
   "name": "python",
   "nbconvert_exporter": "python",
   "pygments_lexer": "ipython3",
   "version": "3.8.13"
  },
  "vscode": {
   "interpreter": {
    "hash": "b368e36a85415766688ec72e3e874a4b525584eabf4bf7122952a4e0fd64fcde"
   }
  }
 },
 "nbformat": 4,
 "nbformat_minor": 5
}
