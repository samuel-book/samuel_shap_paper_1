{
 "cells": [
  {
   "attachments": {},
   "cell_type": "markdown",
   "metadata": {},
   "source": [
    "# Analysis of 1D embedding neural network"
   ]
  },
  {
   "cell_type": "code",
   "execution_count": 6,
   "metadata": {},
   "outputs": [],
   "source": [
    "# Turn warnings off to keep notebook tidy\n",
    "import warnings\n",
    "warnings.filterwarnings(\"ignore\")\n",
    "\n",
    "import json\n",
    "import matplotlib.pyplot as plt\n",
    "from matplotlib.lines import Line2D\n",
    "import numpy as np\n",
    "import pandas as pd\n",
    "\n",
    "# sklearn for pre-processing\n",
    "from sklearn.preprocessing import MinMaxScaler\n",
    "from sklearn.metrics import auc\n",
    "\n",
    "# ROC AUC\n",
    "from sklearn.metrics import auc\n",
    "from sklearn.metrics import roc_curve\n",
    "\n",
    "# TensorFlow api model\n",
    "from tensorflow import keras\n",
    "from tensorflow.keras import layers\n",
    "from tensorflow.keras.models import Model\n",
    "from tensorflow.keras.optimizers import Adam\n",
    "from tensorflow.keras import backend as K\n",
    "from tensorflow.keras.losses import binary_crossentropy"
   ]
  },
  {
   "attachments": {},
   "cell_type": "markdown",
   "metadata": {},
   "source": [
    "## Load data"
   ]
  },
  {
   "cell_type": "code",
   "execution_count": 7,
   "metadata": {},
   "outputs": [],
   "source": [
    "# Data location\n",
    "data_loc = '../data/10k_training_test/'\n",
    "\n",
    "# Read in JSON to rename columns\n",
    "with open(\"./output/01_feature_name_dict.json\") as json_file:\n",
    "    dict_feature_name = json.load(json_file)\n",
    "\n",
    "# Read in the names of the selected features for the model\n",
    "number_of_features_to_use = 10\n",
    "key_features = pd.read_csv('./output/01_feature_selection.csv')\n",
    "key_features = list(key_features['feature'])[:number_of_features_to_use]\n",
    "# And add the target feature name: S2Thrombolysis\n",
    "key_features.append('S2Thrombolysis')\n",
    "\n",
    "# Read data\n",
    "train_original = pd.read_csv(data_loc + 'cohort_10000_train.csv')\n",
    "test_original = pd.read_csv(data_loc + 'cohort_10000_test.csv')\n",
    "\n",
    "# Select features\n",
    "train_original = train_original[key_features]\n",
    "test_original = test_original[key_features]\n",
    "\n",
    "# Rename fields\n",
    "train_original.rename(columns=dict_feature_name, inplace=True)\n",
    "test_original.rename(columns=dict_feature_name, inplace=True)\n",
    "\n",
    "# Get data subgroups\n",
    "subgroups = pd.read_csv('../data/subnet.csv', index_col='Item')\n",
    "# Get list of clinical items\n",
    "clinical_subgroup = subgroups.loc[subgroups['Subnet']=='patient']\n",
    "clinical_subgroup = list(clinical_subgroup.index)\n",
    "# Get list of pathway items\n",
    "pathway_subgroup = subgroups.loc[subgroups['Subnet']=='pathway']\n",
    "pathway_subgroup = list(pathway_subgroup.index)\n",
    "# Get list of hospital items\n",
    "hospital_subgroup = subgroups.loc[subgroups['Subnet']=='team']\n",
    "hospital_subgroup = list(set(train_original['Stroke team']))\n",
    "hospital_subgroup.sort()"
   ]
  },
  {
   "cell_type": "markdown",
   "metadata": {},
   "source": [
    "## Function to scale data (minmax scaling)"
   ]
  },
  {
   "cell_type": "code",
   "execution_count": 8,
   "metadata": {},
   "outputs": [],
   "source": [
    "def scale_data(X_train, X_test):\n",
    "    \"\"\"Scale data 0-1 based on min and max in training set\"\"\"\n",
    "    \n",
    "    # Initialise a new scaling object for normalising input data\n",
    "    sc = MinMaxScaler()\n",
    "\n",
    "    # Set up the scaler just on the training set\n",
    "    sc.fit(X_train)\n",
    "\n",
    "    # Apply the scaler to the training and test sets\n",
    "    train_sc = sc.transform(X_train)\n",
    "    test_sc = sc.transform(X_test)\n",
    "    \n",
    "    return train_sc, test_sc    "
   ]
  },
  {
   "attachments": {},
   "cell_type": "markdown",
   "metadata": {},
   "source": [
    "## Load neural net"
   ]
  },
  {
   "cell_type": "code",
   "execution_count": 9,
   "metadata": {},
   "outputs": [],
   "source": [
    "# Load model\n",
    "filename = f'./saved_models/10k_nn.h5'\n",
    "model = keras.models.load_model(filename)"
   ]
  },
  {
   "cell_type": "code",
   "execution_count": 10,
   "metadata": {},
   "outputs": [
    {
     "name": "stderr",
     "output_type": "stream",
     "text": [
      "2023-03-29 07:15:31.427130: I tensorflow/compiler/mlir/mlir_graph_optimization_pass.cc:116] None of the MLIR optimization passes are enabled (registered 2)\n",
      "2023-03-29 07:15:31.427440: I tensorflow/core/platform/profile_utils/cpu_utils.cc:112] CPU Frequency: 2599990000 Hz\n",
      "2023-03-29 07:15:31.498018: I tensorflow/stream_executor/platform/default/dso_loader.cc:49] Successfully opened dynamic library libcublas.so.10\n"
     ]
    },
    {
     "name": "stdout",
     "output_type": "stream",
     "text": [
      "Accuracy train 0.843\n",
      "Accuracy test 0.840\n"
     ]
    }
   ],
   "source": [
    "# Copy original data\n",
    "train = train_original.copy(deep=True)\n",
    "test = test_original.copy(deep=True)\n",
    "\n",
    "# OneHot encode stroke team\n",
    "coded = pd.get_dummies(train['Stroke team'])\n",
    "train = pd.concat([train, coded], axis=1)\n",
    "train.drop('Stroke team', inplace=True, axis=1)\n",
    "coded = pd.get_dummies(test['Stroke team'])\n",
    "test = pd.concat([test, coded], axis=1)\n",
    "test.drop('Stroke team', inplace=True, axis=1)\n",
    "\n",
    "# Split into X, y\n",
    "X_train_df = train.drop('Thrombolysis',axis=1) \n",
    "y_train_df = train['Thrombolysis']\n",
    "X_test_df = test.drop('Thrombolysis',axis=1) \n",
    "y_test_df = test['Thrombolysis'] \n",
    "\n",
    "# Split train and test data by subgroups\n",
    "X_train_patients = X_train_df[clinical_subgroup]\n",
    "X_test_patients = X_test_df[clinical_subgroup]\n",
    "X_train_pathway = X_train_df[pathway_subgroup]\n",
    "X_test_pathway = X_test_df[pathway_subgroup]\n",
    "X_train_hospitals = X_train_df[hospital_subgroup]\n",
    "X_test_hospitals = X_test_df[hospital_subgroup]\n",
    "\n",
    "# Convert to NumPy\n",
    "X_train = X_train_df.values\n",
    "X_test = X_test_df.values\n",
    "y_train = y_train_df.values\n",
    "y_test = y_test_df.values\n",
    "\n",
    "# Scale data\n",
    "X_train_patients_sc, X_test_patients_sc = \\\n",
    "    scale_data(X_train_patients, X_test_patients)\n",
    "\n",
    "X_train_pathway_sc, X_test_pathway_sc = \\\n",
    "    scale_data(X_train_pathway, X_test_pathway)\n",
    "\n",
    "X_train_hospitals_sc, X_test_hospitals_sc = \\\n",
    "    scale_data(X_train_hospitals, X_test_hospitals)\n",
    "\n",
    "### Test model\n",
    "probability = model.predict(\n",
    "    [X_train_patients_sc, X_train_pathway_sc, X_train_hospitals_sc])\n",
    "y_pred_train = probability >= 0.5\n",
    "y_pred_train = y_pred_train.flatten()\n",
    "accuracy_train = np.mean(y_pred_train == y_train)\n",
    "print(f'Accuracy train {accuracy_train:0.3f}')\n",
    "\n",
    "probability = model.predict(\n",
    "    [X_test_patients_sc, X_test_pathway_sc, X_test_hospitals_sc])\n",
    "y_pred_test = probability >= 0.5\n",
    "y_pred_test = y_pred_test.flatten()\n",
    "accuracy_test = np.mean(y_pred_test == y_test)\n",
    "print(f'Accuracy test {accuracy_test:0.3f}')\n",
    "\n",
    "prob_df = pd.DataFrame(probability, columns=['predicted_probability'])\n",
    "prob_df.to_csv('./output/61_nn_10k_prediction_probs.csv', index=False)"
   ]
  },
  {
   "attachments": {},
   "cell_type": "markdown",
   "metadata": {},
   "source": [
    "## Calculate ROC AUC"
   ]
  },
  {
   "cell_type": "code",
   "execution_count": 11,
   "metadata": {},
   "outputs": [
    {
     "name": "stdout",
     "output_type": "stream",
     "text": [
      "AUC: 0.9054\n"
     ]
    }
   ],
   "source": [
    "probability = model.predict(\n",
    "    [X_test_patients_sc, X_test_pathway_sc, X_test_hospitals_sc])\n",
    "fpr, tpr, thresholds = roc_curve(y_test, probability)\n",
    "roc_auc = auc(fpr, tpr)\n",
    "print (f'AUC: {roc_auc:0.4f}')"
   ]
  },
  {
   "cell_type": "code",
   "execution_count": 12,
   "metadata": {},
   "outputs": [
    {
     "data": {
      "image/png": "[encoded data removed]",
      "text/plain": [
       "<Figure size 600x600 with 1 Axes>"
      ]
     },
     "metadata": {},
     "output_type": "display_data"
    }
   ],
   "source": [
    "fig = plt.figure(figsize=(6,6))\n",
    "\n",
    "# Plot ROC\n",
    "ax1 = fig.add_subplot()\n",
    "ax1.plot(fpr, tpr, color='orange', label=f'AUC: {roc_auc:0.3f}')\n",
    "ax1.plot([0, 1], [0, 1], color='darkblue', linestyle='--')\n",
    "ax1.set_xlabel('False Positive Rate')\n",
    "ax1.set_ylabel('True Positive Rate')\n",
    "ax1.set_title('Receiver Operator Characteristic Curve')\n",
    "plt.grid(True)\n",
    "plt.legend()\n",
    "plt.show()"
   ]
  },
  {
   "cell_type": "markdown",
   "metadata": {},
   "source": [
    "## Get predictions for thrombolysis use of 10k set of patients at each hospital\n",
    "\n",
    "Here we ask the counter-factual question - \"what treatment would a patient be expected to receive at each of the 132 hospitals?\".\n",
    "\n",
    "Hospital is one-hot encoded as input to the hospital subnet. To make a prediction of treatment at different hospitals we change the one-hot encoding of the hospital when making prediction.\n",
    "\n",
    "For each hospital we pass through the 10k test set, and record the proportion of the patients receiving thrombolysis at that hospital."
   ]
  },
  {
   "cell_type": "code",
   "execution_count": 13,
   "metadata": {},
   "outputs": [
    {
     "ename": "KeyboardInterrupt",
     "evalue": "",
     "output_type": "error",
     "traceback": [
      "\u001b[0;31m---------------------------------------------------------------------------\u001b[0m",
      "\u001b[0;31mKeyboardInterrupt\u001b[0m                         Traceback (most recent call last)",
      "Cell \u001b[0;32mIn[13], line 16\u001b[0m\n\u001b[1;32m     14\u001b[0m X_hospitals_alter[:,hosp] \u001b[39m=\u001b[39m \u001b[39m1\u001b[39m\n\u001b[1;32m     15\u001b[0m \u001b[39m# Get probability of thrombolysis\u001b[39;00m\n\u001b[0;32m---> 16\u001b[0m probability \u001b[39m=\u001b[39m model\u001b[39m.\u001b[39;49mpredict(\n\u001b[1;32m     17\u001b[0m     [X_test_patients_sc, X_test_pathway_sc, X_hospitals_alter])\n\u001b[1;32m     18\u001b[0m \u001b[39m# Classify\u001b[39;00m\n\u001b[1;32m     19\u001b[0m classified \u001b[39m=\u001b[39m probability \u001b[39m>\u001b[39m\u001b[39m=\u001b[39m \u001b[39m0.5\u001b[39m\n",
      "File \u001b[0;32m~/miniconda3/envs/samuel/lib/python3.8/site-packages/tensorflow/python/keras/engine/training.py:1629\u001b[0m, in \u001b[0;36mModel.predict\u001b[0;34m(self, x, batch_size, verbose, steps, callbacks, max_queue_size, workers, use_multiprocessing)\u001b[0m\n\u001b[1;32m   1627\u001b[0m \u001b[39mfor\u001b[39;00m step \u001b[39min\u001b[39;00m data_handler\u001b[39m.\u001b[39msteps():\n\u001b[1;32m   1628\u001b[0m   callbacks\u001b[39m.\u001b[39mon_predict_batch_begin(step)\n\u001b[0;32m-> 1629\u001b[0m   tmp_batch_outputs \u001b[39m=\u001b[39m \u001b[39mself\u001b[39;49m\u001b[39m.\u001b[39;49mpredict_function(iterator)\n\u001b[1;32m   1630\u001b[0m   \u001b[39mif\u001b[39;00m data_handler\u001b[39m.\u001b[39mshould_sync:\n\u001b[1;32m   1631\u001b[0m     context\u001b[39m.\u001b[39masync_wait()\n",
      "File \u001b[0;32m~/miniconda3/envs/samuel/lib/python3.8/site-packages/tensorflow/python/eager/def_function.py:828\u001b[0m, in \u001b[0;36mFunction.__call__\u001b[0;34m(self, *args, **kwds)\u001b[0m\n\u001b[1;32m    826\u001b[0m tracing_count \u001b[39m=\u001b[39m \u001b[39mself\u001b[39m\u001b[39m.\u001b[39mexperimental_get_tracing_count()\n\u001b[1;32m    827\u001b[0m \u001b[39mwith\u001b[39;00m trace\u001b[39m.\u001b[39mTrace(\u001b[39mself\u001b[39m\u001b[39m.\u001b[39m_name) \u001b[39mas\u001b[39;00m tm:\n\u001b[0;32m--> 828\u001b[0m   result \u001b[39m=\u001b[39m \u001b[39mself\u001b[39;49m\u001b[39m.\u001b[39;49m_call(\u001b[39m*\u001b[39;49margs, \u001b[39m*\u001b[39;49m\u001b[39m*\u001b[39;49mkwds)\n\u001b[1;32m    829\u001b[0m   compiler \u001b[39m=\u001b[39m \u001b[39m\"\u001b[39m\u001b[39mxla\u001b[39m\u001b[39m\"\u001b[39m \u001b[39mif\u001b[39;00m \u001b[39mself\u001b[39m\u001b[39m.\u001b[39m_experimental_compile \u001b[39melse\u001b[39;00m \u001b[39m\"\u001b[39m\u001b[39mnonXla\u001b[39m\u001b[39m\"\u001b[39m\n\u001b[1;32m    830\u001b[0m   new_tracing_count \u001b[39m=\u001b[39m \u001b[39mself\u001b[39m\u001b[39m.\u001b[39mexperimental_get_tracing_count()\n",
      "File \u001b[0;32m~/miniconda3/envs/samuel/lib/python3.8/site-packages/tensorflow/python/eager/def_function.py:862\u001b[0m, in \u001b[0;36mFunction._call\u001b[0;34m(self, *args, **kwds)\u001b[0m\n\u001b[1;32m    859\u001b[0m \u001b[39mself\u001b[39m\u001b[39m.\u001b[39m_lock\u001b[39m.\u001b[39mrelease()\n\u001b[1;32m    860\u001b[0m \u001b[39m# In this case we have not created variables on the first call. So we can\u001b[39;00m\n\u001b[1;32m    861\u001b[0m \u001b[39m# run the first trace but we should fail if variables are created.\u001b[39;00m\n\u001b[0;32m--> 862\u001b[0m results \u001b[39m=\u001b[39m \u001b[39mself\u001b[39;49m\u001b[39m.\u001b[39;49m_stateful_fn(\u001b[39m*\u001b[39;49margs, \u001b[39m*\u001b[39;49m\u001b[39m*\u001b[39;49mkwds)\n\u001b[1;32m    863\u001b[0m \u001b[39mif\u001b[39;00m \u001b[39mself\u001b[39m\u001b[39m.\u001b[39m_created_variables:\n\u001b[1;32m    864\u001b[0m   \u001b[39mraise\u001b[39;00m \u001b[39mValueError\u001b[39;00m(\u001b[39m\"\u001b[39m\u001b[39mCreating variables on a non-first call to a function\u001b[39m\u001b[39m\"\u001b[39m\n\u001b[1;32m    865\u001b[0m                    \u001b[39m\"\u001b[39m\u001b[39m decorated with tf.function.\u001b[39m\u001b[39m\"\u001b[39m)\n",
      "File \u001b[0;32m~/miniconda3/envs/samuel/lib/python3.8/site-packages/tensorflow/python/eager/function.py:2942\u001b[0m, in \u001b[0;36mFunction.__call__\u001b[0;34m(self, *args, **kwargs)\u001b[0m\n\u001b[1;32m   2939\u001b[0m \u001b[39mwith\u001b[39;00m \u001b[39mself\u001b[39m\u001b[39m.\u001b[39m_lock:\n\u001b[1;32m   2940\u001b[0m   (graph_function,\n\u001b[1;32m   2941\u001b[0m    filtered_flat_args) \u001b[39m=\u001b[39m \u001b[39mself\u001b[39m\u001b[39m.\u001b[39m_maybe_define_function(args, kwargs)\n\u001b[0;32m-> 2942\u001b[0m \u001b[39mreturn\u001b[39;00m graph_function\u001b[39m.\u001b[39;49m_call_flat(\n\u001b[1;32m   2943\u001b[0m     filtered_flat_args, captured_inputs\u001b[39m=\u001b[39;49mgraph_function\u001b[39m.\u001b[39;49mcaptured_inputs)\n",
      "File \u001b[0;32m~/miniconda3/envs/samuel/lib/python3.8/site-packages/tensorflow/python/eager/function.py:1918\u001b[0m, in \u001b[0;36mConcreteFunction._call_flat\u001b[0;34m(self, args, captured_inputs, cancellation_manager)\u001b[0m\n\u001b[1;32m   1914\u001b[0m possible_gradient_type \u001b[39m=\u001b[39m gradients_util\u001b[39m.\u001b[39mPossibleTapeGradientTypes(args)\n\u001b[1;32m   1915\u001b[0m \u001b[39mif\u001b[39;00m (possible_gradient_type \u001b[39m==\u001b[39m gradients_util\u001b[39m.\u001b[39mPOSSIBLE_GRADIENT_TYPES_NONE\n\u001b[1;32m   1916\u001b[0m     \u001b[39mand\u001b[39;00m executing_eagerly):\n\u001b[1;32m   1917\u001b[0m   \u001b[39m# No tape is watching; skip to running the function.\u001b[39;00m\n\u001b[0;32m-> 1918\u001b[0m   \u001b[39mreturn\u001b[39;00m \u001b[39mself\u001b[39m\u001b[39m.\u001b[39m_build_call_outputs(\u001b[39mself\u001b[39;49m\u001b[39m.\u001b[39;49m_inference_function\u001b[39m.\u001b[39;49mcall(\n\u001b[1;32m   1919\u001b[0m       ctx, args, cancellation_manager\u001b[39m=\u001b[39;49mcancellation_manager))\n\u001b[1;32m   1920\u001b[0m forward_backward \u001b[39m=\u001b[39m \u001b[39mself\u001b[39m\u001b[39m.\u001b[39m_select_forward_and_backward_functions(\n\u001b[1;32m   1921\u001b[0m     args,\n\u001b[1;32m   1922\u001b[0m     possible_gradient_type,\n\u001b[1;32m   1923\u001b[0m     executing_eagerly)\n\u001b[1;32m   1924\u001b[0m forward_function, args_with_tangents \u001b[39m=\u001b[39m forward_backward\u001b[39m.\u001b[39mforward()\n",
      "File \u001b[0;32m~/miniconda3/envs/samuel/lib/python3.8/site-packages/tensorflow/python/eager/function.py:555\u001b[0m, in \u001b[0;36m_EagerDefinedFunction.call\u001b[0;34m(self, ctx, args, cancellation_manager)\u001b[0m\n\u001b[1;32m    553\u001b[0m \u001b[39mwith\u001b[39;00m _InterpolateFunctionError(\u001b[39mself\u001b[39m):\n\u001b[1;32m    554\u001b[0m   \u001b[39mif\u001b[39;00m cancellation_manager \u001b[39mis\u001b[39;00m \u001b[39mNone\u001b[39;00m:\n\u001b[0;32m--> 555\u001b[0m     outputs \u001b[39m=\u001b[39m execute\u001b[39m.\u001b[39;49mexecute(\n\u001b[1;32m    556\u001b[0m         \u001b[39mstr\u001b[39;49m(\u001b[39mself\u001b[39;49m\u001b[39m.\u001b[39;49msignature\u001b[39m.\u001b[39;49mname),\n\u001b[1;32m    557\u001b[0m         num_outputs\u001b[39m=\u001b[39;49m\u001b[39mself\u001b[39;49m\u001b[39m.\u001b[39;49m_num_outputs,\n\u001b[1;32m    558\u001b[0m         inputs\u001b[39m=\u001b[39;49margs,\n\u001b[1;32m    559\u001b[0m         attrs\u001b[39m=\u001b[39;49mattrs,\n\u001b[1;32m    560\u001b[0m         ctx\u001b[39m=\u001b[39;49mctx)\n\u001b[1;32m    561\u001b[0m   \u001b[39melse\u001b[39;00m:\n\u001b[1;32m    562\u001b[0m     outputs \u001b[39m=\u001b[39m execute\u001b[39m.\u001b[39mexecute_with_cancellation(\n\u001b[1;32m    563\u001b[0m         \u001b[39mstr\u001b[39m(\u001b[39mself\u001b[39m\u001b[39m.\u001b[39msignature\u001b[39m.\u001b[39mname),\n\u001b[1;32m    564\u001b[0m         num_outputs\u001b[39m=\u001b[39m\u001b[39mself\u001b[39m\u001b[39m.\u001b[39m_num_outputs,\n\u001b[0;32m   (...)\u001b[0m\n\u001b[1;32m    567\u001b[0m         ctx\u001b[39m=\u001b[39mctx,\n\u001b[1;32m    568\u001b[0m         cancellation_manager\u001b[39m=\u001b[39mcancellation_manager)\n",
      "File \u001b[0;32m~/miniconda3/envs/samuel/lib/python3.8/site-packages/tensorflow/python/eager/execute.py:59\u001b[0m, in \u001b[0;36mquick_execute\u001b[0;34m(op_name, num_outputs, inputs, attrs, ctx, name)\u001b[0m\n\u001b[1;32m     57\u001b[0m \u001b[39mtry\u001b[39;00m:\n\u001b[1;32m     58\u001b[0m   ctx\u001b[39m.\u001b[39mensure_initialized()\n\u001b[0;32m---> 59\u001b[0m   tensors \u001b[39m=\u001b[39m pywrap_tfe\u001b[39m.\u001b[39;49mTFE_Py_Execute(ctx\u001b[39m.\u001b[39;49m_handle, device_name, op_name,\n\u001b[1;32m     60\u001b[0m                                       inputs, attrs, num_outputs)\n\u001b[1;32m     61\u001b[0m \u001b[39mexcept\u001b[39;00m core\u001b[39m.\u001b[39m_NotOkStatusException \u001b[39mas\u001b[39;00m e:\n\u001b[1;32m     62\u001b[0m   \u001b[39mif\u001b[39;00m name \u001b[39mis\u001b[39;00m \u001b[39mnot\u001b[39;00m \u001b[39mNone\u001b[39;00m:\n",
      "\u001b[0;31mKeyboardInterrupt\u001b[0m: "
     ]
    }
   ],
   "source": [
    "# Get number of hospitals\n",
    "num_hospitals = len(X_test_hospitals_sc[0])\n",
    "# Create test array for changing hospital ID\n",
    "X_hospitals_alter = X_test_hospitals_sc.copy()\n",
    "# Get classification for all patients at all hospitals\n",
    "patient_results = []\n",
    "\n",
    "# Loop through setting hospital\n",
    "hospital_results = []\n",
    "for hosp in range(num_hospitals):\n",
    "    # Set all hospitals to zero\n",
    "    X_hospitals_alter[:,:] = 0\n",
    "    # Set test hospital to 1\n",
    "    X_hospitals_alter[:,hosp] = 1\n",
    "    # Get probability of thrombolysis\n",
    "    probability = model.predict(\n",
    "        [X_test_patients_sc, X_test_pathway_sc, X_hospitals_alter])\n",
    "    # Classify\n",
    "    classified = probability >= 0.5\n",
    "    patient_results.append(classified)\n",
    "    # Get average thrombolysis (we are not stroring all individual results)\n",
    "    thrombolysis = classified.mean()\n",
    "    hospital_results.append(thrombolysis)\n",
    "\n",
    "# Put results in DataFrame \n",
    "predicted_thrombolysis = pd.DataFrame()\n",
    "predicted_thrombolysis['hospital'] = hospital_subgroup\n",
    "predicted_thrombolysis['10k_thrombolysis'] = hospital_results\n",
    "\n",
    "# Show DataFrame\n",
    "predicted_thrombolysis"
   ]
  },
  {
   "cell_type": "markdown",
   "metadata": {},
   "source": [
    "## Comparing hospital subnet activation with actual thrombolysis use and predicted thrombolysis use in 10k set of patients attending each hospital\n",
    "\n",
    "The hospital subnet outputs a single value (in the range 0-1) for each hospital.\n",
    "\n",
    "Here we compare the hospital subnet output for each hospital with:\n",
    "\n",
    "1. The actual use of thrombolysis for 10k test-set patients at their own hospital only.\n",
    "\n",
    "2. The expected use of thrombolysis in the 10k test-set for each hospital. The 10k patient data set is passed through all hospital models (by changing the one-hot hospital encoding)."
   ]
  },
  {
   "cell_type": "markdown",
   "metadata": {},
   "source": [
    "### Get hospital subnet output\n",
    "\n",
    "This code gets the output directly from the hospital subnet in the neural network. We add this to our results DataFrame."
   ]
  },
  {
   "cell_type": "code",
   "execution_count": null,
   "metadata": {},
   "outputs": [],
   "source": [
    "results = []\n",
    "for hosp in range(num_hospitals):\n",
    "    # Set all hospitals to zero\n",
    "    X_hospitals_alter[:,:] = 0\n",
    "    # Set test hospital to 1\n",
    "    X_hospitals_alter[:,hosp] = 1\n",
    "    # Get hospital subnet output\n",
    "    layer_name = 'hospital_encode'\n",
    "    hospital_encode_model = keras.Model(\n",
    "        inputs=model.input,outputs=model.get_layer(layer_name).output)\n",
    "    hospital_encode_output = hospital_encode_model([\n",
    "        X_test_patients_sc, X_test_pathway_sc, X_hospitals_alter])\n",
    "    results.append(np.mean(hospital_encode_output.numpy().flatten()))\n",
    "    \n",
    "# Add to DataFrame\n",
    "predicted_thrombolysis['hosp_subnet_output'] = results"
   ]
  },
  {
   "cell_type": "markdown",
   "metadata": {},
   "source": [
    "### Add actual thrombolysis at hospitals in 10k test set"
   ]
  },
  {
   "cell_type": "code",
   "execution_count": null,
   "metadata": {},
   "outputs": [],
   "source": [
    "actual_thrombolysis = test_original.groupby('Stroke team').mean()['Thrombolysis']\n",
    "# Add to DataFrame\n",
    "predicted_thrombolysis['actual_thrombolysis'] = actual_thrombolysis.values"
   ]
  },
  {
   "cell_type": "code",
   "execution_count": null,
   "metadata": {},
   "outputs": [],
   "source": [
    "predicted_thrombolysis.to_csv('./output/61_nn_10k_hospital_output.csv', index=False)\n",
    "predicted_thrombolysis"
   ]
  },
  {
   "cell_type": "markdown",
   "metadata": {},
   "source": [
    "### Show relationship between subnet output and predicted thrombolysis use in the 10k patient set\n",
    "\n",
    "Here we plot the relationship between the hospital subnet output for each hospital and 1) actual thrombolysis use in the test set at each hospital, the predicted thrombolysis use of the whole 10k patient set attended each hospital."
   ]
  },
  {
   "cell_type": "code",
   "execution_count": null,
   "metadata": {},
   "outputs": [],
   "source": [
    "# Set up figure\n",
    "fig = plt.figure(figsize=(10,6))\n",
    "\n",
    "# Plot 1: actual vs subnet\n",
    "\n",
    "correlation = predicted_thrombolysis.corr()\n",
    "r_square_model = \\\n",
    "    correlation['hosp_subnet_output']['actual_thrombolysis'] ** 2\n",
    "label_text = f'R-squared: {r_square_model:0.3f}'\n",
    "\n",
    "ax1 = fig.add_subplot(121)\n",
    "ax1.scatter(predicted_thrombolysis['hosp_subnet_output'],\n",
    "           predicted_thrombolysis['actual_thrombolysis'], label=label_text)\n",
    "ax1.set_xlabel('Hospital subnet activation')\n",
    "ax1.set_ylabel('Thrombolysis use (actual)')\n",
    "ax1.set_ylim(0,0.5)\n",
    "ax1.set_title('Actual thrombolysis vs.\\nhospital subnet output')\n",
    "ax1.legend()\n",
    "ax1.grid()\n",
    "\n",
    "# Plot 2: 10k vs subnet\n",
    "\n",
    "correlation = predicted_thrombolysis.corr()\n",
    "r_square_model = \\\n",
    "    correlation['hosp_subnet_output']['10k_thrombolysis'] ** 2\n",
    "label_text = f'R-squared: {r_square_model:0.3f}'\n",
    "\n",
    "ax2 = fig.add_subplot(122)\n",
    "ax2.scatter(predicted_thrombolysis['hosp_subnet_output'],\n",
    "           predicted_thrombolysis['10k_thrombolysis'], label=label_text)\n",
    "ax2.set_xlabel('Hospital subnet activation')\n",
    "ax2.set_ylabel('Thrombolysis use (reference set)')\n",
    "ax2.set_ylim(0,0.5)\n",
    "ax2.set_title('Predicted 10k thrombolysis vs.\\nhospital subnet output')\n",
    "ax2.legend()\n",
    "ax2.grid()\n",
    "\n",
    "plt.tight_layout(pad=2)\n",
    "plt.show()"
   ]
  },
  {
   "cell_type": "markdown",
   "metadata": {},
   "source": [
    "## Examine clinical subnet output\n",
    "\n",
    "In this section we examine the output of the clinical subnet. This subnet is patient-specific, but excludes pathway data (such as day/time of arrival, time since stroke, time of scan, etc).The output is therefore dependent on patient clinical characteristics, but is not dependent on which hospital a patient attended or dependent on pathway data."
   ]
  },
  {
   "cell_type": "markdown",
   "metadata": {},
   "source": [
    "### Get clincial subnet output for 10k patients\n",
    "\n",
    "This code gets the output directly from the clinical subnet in the neural network. We store this with all patient characteristics (the loaded test set data)."
   ]
  },
  {
   "cell_type": "code",
   "execution_count": null,
   "metadata": {},
   "outputs": [],
   "source": [
    "# Get patient subnet output\n",
    "layer_name = 'patient_encode'\n",
    "patient_encode_model = keras.Model(\n",
    "    inputs=model.input,outputs=model.get_layer(layer_name).output)\n",
    "patient_encode_output = patient_encode_model([\n",
    "    X_test_patients_sc, X_test_pathway_sc, X_test_hospitals_sc])\n",
    "\n",
    "# Put in DataFrame with all patient characteristics (X)\n",
    "clinical_subnet_output = test.copy()\n",
    "clinical_subnet_output['patient_subnet_output'] = \\\n",
    "    patient_encode_output.numpy().flatten()\n",
    "\n",
    "clinical_subnet_output['num_hosp_thrombolysising'] = \\\n",
    "    np.sum(patient_results, axis=0).flatten()\n",
    "\n",
    "# Sort by patient_subnet_output\n",
    "clinical_subnet_output.sort_values('patient_subnet_output', inplace=True)"
   ]
  },
  {
   "cell_type": "markdown",
   "metadata": {},
   "source": [
    "### Show relationship between clinical subnet output and proportion of patients receiving thrombolysis\n",
    "\n",
    "Here we test the relationship between the output of the clinical subnet and the actual use of thrombolysis. We do this by binning the output of the clinical subnets into 10 bins (each representing a range of 0.1 in the clinical subnet output), and taking the average use of thrombolysis in that bin."
   ]
  },
  {
   "cell_type": "code",
   "execution_count": null,
   "metadata": {},
   "outputs": [],
   "source": [
    "subnet_values = clinical_subnet_output['patient_subnet_output'].values\n",
    "subnet_values = subnet_values * 10\n",
    "clinical_subnet_output['subnet_bin'] = subnet_values.astype(int)/10 + 0.05\n",
    "\n",
    "\n",
    "rx = clinical_subnet_output.groupby('subnet_bin').mean()['Thrombolysis']\n",
    "fig, ax = plt.subplots(figsize=(5,5))\n",
    "ax.plot(rx.index, rx.values)\n",
    "ax.set_xlabel('Clinical subnet output (binned)')\n",
    "ax.set_xlim(0,1)\n",
    "ax.set_ylabel('Proportion of patients receiving thrombolysis')\n",
    "plt.show()"
   ]
  },
  {
   "cell_type": "code",
   "execution_count": null,
   "metadata": {},
   "outputs": [],
   "source": [
    "clinical_subnet_output.sort_index(inplace=True)\n",
    "clinical_subnet_output.head()\n",
    "clinical_subnet_output.to_csv('./output/61_nn_10k_patient_embedding_output.csv', index=False)"
   ]
  }
 ],
 "metadata": {
  "kernelspec": {
   "display_name": "samuel",
   "language": "python",
   "name": "python3"
  },
  "language_info": {
   "codemirror_mode": {
    "name": "ipython",
    "version": 3
   },
   "file_extension": ".py",
   "mimetype": "text/x-python",
   "name": "python",
   "nbconvert_exporter": "python",
   "pygments_lexer": "ipython3",
   "version": "3.8.16"
  },
  "orig_nbformat": 4
 },
 "nbformat": 4,
 "nbformat_minor": 2
}
