{
 "cells": [
  {
   "cell_type": "markdown",
   "id": "1aea2423-20fe-4339-8c8e-a928a8bd9558",
   "metadata": {},
   "source": [
    "# Results"
   ]
  },
  {
   "cell_type": "markdown",
   "id": "3d483c1b-23e4-454d-b62a-9bcb4e78511a",
   "metadata": {},
   "source": [
    "## Feature selection\n",
    "\n",
    "25 features were selected by identifying one feature at a time that led to greatest improvement in Receiver Operating Characteristic (ROC) Area Under Curve (AUC). ROC AUC was measured using stratified 5-fold cross validation.\n",
    "\n",
    "The best model with 1, 2, 5, 10, 25 & all features (60 features before one-hot encoding of fields) had ROC AUCs of 0.715, 0.792, 0.891, 0.919, 0.923 & 0.922. We selected 10 features for all subsequent work, which were:\n",
    "\n",
    "* Arrival-to-scan time: Time from arrival at hospital to scan (mins)\n",
    "* Infarction: Stroke type (1 = infarction, 0 = haemorrhage)\n",
    "* Stroke severity: Stroke severity (NIHSS) on arrival\n",
    "* Precise onset time: Onset time type (1 = precise, 0 = best estimate)\n",
    "* Prior disability level: Disability level (modified Rankin Scale) before stroke\n",
    "* Stroke team: Stroke team attended\n",
    "* Use of AF anticoagulants: Use of atrial fibrillation anticoagulant (1 = Yes, 0 = No)\n",
    "* Onset-to-arrival time: Time from onset of stroke to arrival at hospital (mins)\n",
    "* Onset during sleep: Did stroke occur in sleep?\n",
    "* Age: Age (as middle of 5 year age bands)\n",
    "\n",
    "### Correlations within the 10 features\n",
    "\n",
    "Correlations between the 10 features were measured using coefficients of determination (r-squared). All r-squared were less than 0.15, and all r-squared were less than 0.05 except 1) age and prior disability level (r-squared 0.146), and 2) onset during sleep and precise onset time (r-squared 0.078)."
   ]
  },
  {
   "cell_type": "markdown",
   "id": "b9ade41c-f0ae-4852-b550-e14d1cdbe7bb",
   "metadata": {},
   "source": [
    "## Model accuracy\n",
    "\n",
    "Model accuracy was measured using stratified 5-fold cross validation. The key results are shown below.\n",
    "\n",
    "| measurement                      | mean  | std   |\n",
    "|----------------------------------|-------|-------|\n",
    "| actual positive rate             | 0.296 | 0.000 |\n",
    "| actual negative rate             | 0.704 | 0.000 |\n",
    "| predicted positive rate          | 0.294 | 0.002 |\n",
    "| predicted negative rate          | 0.706 | 0.002 |\n",
    "| accuracy                         | 0.850 | 0.004 |\n",
    "| sensitivity (recall)             | 0.743 | 0.004 |\n",
    "| specificity                      | 0.894 | 0.004 |\n",
    "| precision                        | 0.747 | 0.007 |\n",
    "| ROC AUC                          | 0.918 | 0.003 |\n",
    "| Balanced sensitivity/specificity | 0.839 | 0.003 |\n",
    "\n",
    "\n"
   ]
  },
  {
   "cell_type": "markdown",
   "id": "5df56b49-ece0-4b78-8d77-4cd12d301d89",
   "metadata": {},
   "source": [
    "The appendix contains results for model validation of hospital thrombolysis curves, evaluation of variation in model prediction using bagging, learning rates, model calibration, and fine-tuning of model regularisation."
   ]
  },
  {
   "cell_type": "markdown",
   "id": "edee0df4-b50e-4bc2-bf3a-d1e725e44428",
   "metadata": {},
   "source": [
    "## Explaining model predictions with SHAP\n",
    "\n",
    "\n"
   ]
  },
  {
   "cell_type": "markdown",
   "id": "e4ab0874-b05a-4584-aa78-9b3bd79a9688",
   "metadata": {},
   "source": [
    "<img src=\"../xgb_10_features/output/03_xgb_10_features_thrombolysis_shap_violin.jpg\" width=\"800\"/>\n"
   ]
  },
  {
   "cell_type": "markdown",
   "id": "db314e67-24cc-4969-a57f-296c87928de3",
   "metadata": {},
   "source": [
    "### Waterfall plots for individual patient predictions\n",
    "\n",
    "Waterfall plots show the influence of features for an individual prediction. We generally handle SHAP values as how they affect log odds of receiving thrombolysis, but for individual predictions, probability plots are more intuitive. The example shown below is for a patient with a low probability of receiving thrombolysis. The model starts with a base prediction of a 24% probability of receiving thrombolysis, before feature values are taken into account. Some features increase that base probability of receiving thrombolysis, those are onet-to-arrival time, having a precise onset time, having no prior disability, and being young. Three features then reduce the probability of receiving thrombolysis: the hospital they attended, the long arrival-to-scan time, and having a mild stroke, with a resulting final probability of receiving thrombolysis of 3%. \n",
    "\n",
    "<img src=\"../xgb_10_features/output/03_xgb_10_features_waterfall_probability_low.jpg\" width=\"600\"/>"
   ]
  },
  {
   "cell_type": "markdown",
   "id": "c3257ed1-74e7-4141-a1d2-6b77d7a350b0",
   "metadata": {},
   "source": [
    "## 10k cohort"
   ]
  },
  {
   "cell_type": "markdown",
   "id": "3b34c8d5-d5a4-44dc-9949-451a8a51dde5",
   "metadata": {},
   "source": [
    "<img src=\"../xgb_10_features/output/04_xgb_10_features_scatter_plot_hosp_shap_vs_10k_thrombolysis.jpg\" width=\"400\"/>"
   ]
  },
  {
   "cell_type": "markdown",
   "id": "4fd55aea-93fb-4c04-9a3d-84dfb0d30a0f",
   "metadata": {},
   "source": [
    "<img src=\"../xgb_10_features/output/05_benchmark_thrombolysis_key_features.jpg\" width=\"400\"/>"
   ]
  },
  {
   "cell_type": "markdown",
   "id": "e9900dc2-7ec9-4311-8105-96a64343c3b5",
   "metadata": {},
   "source": [
    "## SHAP interactions"
   ]
  },
  {
   "cell_type": "markdown",
   "id": "c4fd8ff0-534d-4b5c-882e-f9b88e5e3664",
   "metadata": {},
   "source": [
    "<img src=\"../xgb_10_features/output/12ac_disability_interaction_example.jpg\" width=\"600\"/>"
   ]
  },
  {
   "cell_type": "markdown",
   "id": "7bf87f50-1e57-41cb-a976-fb921d9e370c",
   "metadata": {},
   "source": [
    "## Subgroup analysis"
   ]
  },
  {
   "cell_type": "markdown",
   "id": "db7bcf37-d896-438c-8cb3-a986e858952e",
   "metadata": {},
   "source": [
    "<img src=\"../xgb_10_features/output/15a_actual_vs_modelled_subgroup_violin.jpg\" width=\"600\"/>"
   ]
  },
  {
   "cell_type": "code",
   "execution_count": null,
   "id": "32ca16fc-70a7-4850-b7f2-0cfc9652f4aa",
   "metadata": {},
   "outputs": [],
   "source": []
  }
 ],
 "metadata": {
  "kernelspec": {
   "display_name": "Python 3 (ipykernel)",
   "language": "python",
   "name": "python3"
  },
  "language_info": {
   "codemirror_mode": {
    "name": "ipython",
    "version": 3
   },
   "file_extension": ".py",
   "mimetype": "text/x-python",
   "name": "python",
   "nbconvert_exporter": "python",
   "pygments_lexer": "ipython3",
   "version": "3.9.12"
  },
  "vscode": {
   "interpreter": {
    "hash": "b368e36a85415766688ec72e3e874a4b525584eabf4bf7122952a4e0fd64fcde"
   }
  }
 },
 "nbformat": 4,
 "nbformat_minor": 5
}
