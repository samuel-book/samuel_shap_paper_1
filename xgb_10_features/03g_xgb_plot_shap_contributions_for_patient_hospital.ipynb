{
 "cells": [
  {
   "attachments": {},
   "cell_type": "markdown",
   "metadata": {},
   "source": [
    "# Analysing the contributions to the SHAP value (patient vs hospital, and main effect vs interactions)\n",
    "\n",
    "**Research question: What contribution of the SHAP subset value comes from main effect vs interaction? What contribution of the SHAP value comes from the patient, hospital and patient-hospital interaction?**\n",
    "\n",
    "## Plain English summary\n",
    "\n",
    "In this notebook we will use the data from notebook 03f to understand how much of the contribution to the final SHAP value comes from various sources. Looking at either the split between the main effects and interactions, or the split between the subsets of features (being patient, hospital and the patient-hospital interactions).\n",
    "\n",
    "In notebook 03g we split the features into two subsets: the hospital features, and patient features, and calculated the *subset* SHAP values for each feature. These will only include the SHAP interactions for the features that are in the same regression (so the main effect and the interactions that are with the other features in the multiple regression). This will exclude any SHAP interactions that are between the hostpial features and patient features.\n",
    "\n",
    "The 10 features in the model can be classified as either those that are describing the patients characteristics (the “patient descriptive features”) or those that are describing the hospital’s processes (the “hospital descriptive features”). There are eight patient descriptive features (age, stroke severity, prior disability, onset-to-arrival time, stroke type, type of onset time, anticoagulants, and onset during sleep) and there are two hospital descriptive features (arrival-to-scan time, and hospital attended). For this analysis, we only included the single one-hot encoded feature for the attended hospital (and did not include the other 131 one-hot encoded features for the unattended hospitals). We calculated the subset SHAP value for each feature by only including the components of it's SHAP value that exclusively contain the effect from the features in the same subset. This is expressed as the sum of the main effect and the interaction effects with the other features within it’s subset. For the feature “arrival to scan”, which is part of the hospital descriptive subset, its subset SHAP value is the main effect plus the interaction with the feature hospital attended. For each of the features in the patient descriptive subset, its subset SHAP value is the main effect plus the sum of the interactions with each of the other seven patient descriptive features. For each set of descriptive features (hospital and patient) we fitted a multiple regression to predict the hospitals observed thrombolysis rate from the mean subset SHAP value of each feature for patients attending each hospital (using values from the all data model).\n",
    "\n",
    "SHAP values are in the same units as the model output (for XGBoost these are in log odds). \n",
    "\n",
    "## Model and data\n",
    "\n",
    "Using the XGBoost model trained on all of the data (no test set used) from notebook 03a_xgb_combined_shap_key_features.ipynb. The 10 features in the model are:\n",
    "\n",
    "* Arrival-to-scan time: Time from arrival at hospital to scan (mins)\n",
    "* Infarction: Stroke type (1 = infarction, 0 = haemorrhage)\n",
    "* Stroke severity: Stroke severity (NIHSS) on arrival\n",
    "* Precise onset time: Onset time type (1 = precise, 0 = best estimate)\n",
    "* Prior disability level: Disability level (modified Rankin Scale) before stroke\n",
    "* Stroke team: Stroke team attended\n",
    "* Use of AF anticoagulents: Use of atrial fibrillation anticoagulant (1 = Yes, 0 = No)\n",
    "* Onset-to-arrival time: Time from onset of stroke to arrival at hospital (mins)\n",
    "* Onset during sleep: Did stroke occur in sleep?\n",
    "* Age: Age (as middle of 5 year age bands)\n",
    "\n",
    "And one target feature:\n",
    "* Thrombolysis: Did the patient receive thrombolysis (0 = No, 1 = Yes)\n",
    "\n",
    "## Aims\n",
    "\n",
    "* Using XGBoost model fitted on all the data (no test set) using 10 features\n",
    "* Using SHAP interaction values calculate subset SHAP values\n",
    "* Analyse the contribution to the SHAP value from:\n",
    "    * main effect vs interactions\n",
    "    * patient subset, hospital subset and patient-hospital interactions\n",
    "* Calculate in two ways:\n",
    "    * sum of absolute\n",
    "    * absolute of sum\n",
    "\n",
    "## Observations\n",
    "\n",
    "When using subsets of features the contribution to the total SHAP was found to be:\n",
    "\n",
    "* Patient main and effects and interactions: 66%\n",
    "* Hospital main and effects and interactions: 21%\n",
    "* Hospital-patient interactions: 13%\n",
    "\n",
    "These results are based on the sum of the absolute SHAP values for all features and interactions (the absolute value of the sum of features and interactions is also calculated in this notebook).\n",
    "\n",
    "Note: This is different to asking about the contribution to between-hopsital variation. For example, the type of stroke (haemorrhagic vs. ischaemic) is an important contributor to the decision to give thrombolysis or not, but does not contribute signficantly to variation in thrombolysis use between hopsitals (as all hopsitals agree that haemorrhagic strokes should not receive thrombolysis, though hospitals may vary in their view on the suitability of ischaemic strokes to receive thrombolysis).\n"
   ]
  },
  {
   "cell_type": "markdown",
   "metadata": {},
   "source": [
    "## Import libraries"
   ]
  },
  {
   "cell_type": "code",
   "execution_count": 1,
   "metadata": {},
   "outputs": [],
   "source": [
    "# Turn warnings off to keep notebook tidy\n",
    "import warnings\n",
    "warnings.filterwarnings(\"ignore\")\n",
    "\n",
    "import matplotlib.pyplot as plt\n",
    "import numpy as np\n",
    "import pandas as pd\n",
    "\n",
    "# Import machine learning methods\n",
    "from xgboost import XGBClassifier\n",
    "\n",
    "# Import shap for shapley values\n",
    "import shap\n",
    "\n",
    "from scipy import stats\n",
    "from sklearn import linear_model\n",
    "\n",
    "import os\n",
    "import pickle\n",
    "\n",
    "# .floor and .ceil\n",
    "import math\n",
    "\n",
    "# So can take deep copy\n",
    "import copy\n",
    "\n",
    "from os.path import exists\n",
    "import json"
   ]
  },
  {
   "cell_type": "markdown",
   "metadata": {},
   "source": [
    "## Set filenames"
   ]
  },
  {
   "cell_type": "code",
   "execution_count": 2,
   "metadata": {},
   "outputs": [],
   "source": [
    "# Set up strings (describing the model) to use in filenames\n",
    "number_of_features_to_use = 10\n",
    "model_text = f'xgb_{number_of_features_to_use}_features'\n",
    "notebook = '03g'"
   ]
  },
  {
   "cell_type": "markdown",
   "metadata": {
    "tags": []
   },
   "source": [
    "## Create output folders if needed"
   ]
  },
  {
   "cell_type": "code",
   "execution_count": 3,
   "metadata": {},
   "outputs": [],
   "source": [
    "path = './saved_models'\n",
    "if not os.path.exists(path):\n",
    "    os.makedirs(path)\n",
    "\n",
    "path = './output'\n",
    "if not os.path.exists(path):\n",
    "    os.makedirs(path)\n",
    "    \n",
    "path = './predictions'\n",
    "if not os.path.exists(path):\n",
    "    os.makedirs(path)   "
   ]
  },
  {
   "cell_type": "markdown",
   "metadata": {},
   "source": [
    "## XGBoost model\n",
    "Values used in this notebook are from an XGBoost model trained on the full dataset (rather than train/test splits used to assess accuracy) in notebook 03a. These models are saved f'./saved_models/03a_{model_text}.p'."
   ]
  },
  {
   "cell_type": "markdown",
   "metadata": {},
   "source": [
    "## Read in the prepared the data\n",
    "\n",
    "Read in dictionary of dataframes, created in notebook 03f.\n",
    "\n",
    "Each dataframe contains a different version of the SHAP value, a value per feature, per instance.\n",
    "\n",
    "None of the SHAP values contain the contribution from unattended hostpials (each patient attends one hospital, for each patient remove the SHAP values for the one-hot encoded hosptial features that are not for the attended hospital, so only have the one-hot encoded hospital attended).\n",
    "\n",
    "The five different SHAP values are:\n",
    "* SHAP value (sum of row)\n",
    "* main effect (diagonal value)\n",
    "* SHAP interactions with other features within multiple regression feature set (per feature row, the columns of the other in regression features)\n",
    "* SHAP interactions with other features outside multiple regression feature set (per feature row, the columns of the features not in the regression)\n",
    "* SHAP subset value (main effect + SHAP values within = array(2) + array(3)\n",
    "\n",
    "A features subset SHAP value is made up of its main effect value the interactions with the other features that are defined to be within their subset.\n",
    "For our case, we have two subsets: patient and hospital. We will define these below."
   ]
  },
  {
   "cell_type": "code",
   "execution_count": 4,
   "metadata": {},
   "outputs": [],
   "source": [
    "# Setup dictionary for the five dataframe (using key to access them dynamically\n",
    "filename = (f'./output/03f_{model_text}_'\n",
    "            f'dict_of_shap_subset_values_dataframes.p') \n",
    "\n",
    "# load dictionary of dataframes from pickle\n",
    "with open(filename, 'rb') as filehandler:\n",
    "    dict_shap_instance_df = pickle.load(filehandler)\n",
    "    \n",
    "df_hosp_shap_values_without_unattended_hosp = (\n",
    "                dict_shap_instance_df[\"without_unattended_hosp\"])\n",
    "df_hosp_shap_main_effects = (\n",
    "                dict_shap_instance_df[\"main_effects\"])\n",
    "df_hosp_shap_interactions_within = (\n",
    "                dict_shap_instance_df[\"interactions_within\"])\n",
    "df_hosp_shap_interactions_outside = (\n",
    "                dict_shap_instance_df[\"interactions_outside\"])\n",
    "df_hosp_subset_shap_values = (\n",
    "                dict_shap_instance_df[\"subset_shap_values\"])"
   ]
  },
  {
   "cell_type": "markdown",
   "metadata": {},
   "source": [
    "#### Define the two subset of features. \n",
    "\n",
    "Define the features as either 1) patient or 2) hospital features"
   ]
  },
  {
   "cell_type": "code",
   "execution_count": 5,
   "metadata": {},
   "outputs": [],
   "source": [
    "patient_features = ['Infarction','Stroke severity',\n",
    "                    'Precise onset time','Prior disability level',\n",
    "                    'Use of AF anticoagulants','Onset-to-arrival time',\n",
    "                    'Onset during sleep','Age']\n",
    "\n",
    "hospital_features = ['Arrival-to-scan time','Stroke team']"
   ]
  },
  {
   "cell_type": "markdown",
   "metadata": {},
   "source": [
    "## Contribution to SHAP values\n",
    "\n",
    "Here we look at the magnitude of the contribution from the SHAP main effect vs the SHAP interaction for the patient subset SHAP and hospital subset SHAP."
   ]
  },
  {
   "attachments": {},
   "cell_type": "markdown",
   "metadata": {},
   "source": [
    "### Calculate the sum of the absolute interactions\n",
    "\n",
    "sum(|main|) + sum(|interaction|)\n",
    "\n",
    "Get data for the two subsets of features: patient subset and hospital subset"
   ]
  },
  {
   "cell_type": "code",
   "execution_count": 6,
   "metadata": {},
   "outputs": [],
   "source": [
    "# 1. The patient features\n",
    "\n",
    "# for patient features sum the absolute values of their main effect\n",
    "total_of_abs_p_main_per_instance = (np.abs(\n",
    "            df_hosp_shap_main_effects[patient_features]).sum(axis=(1)))\n",
    "# for patient features sum the absolute values of their interactions (with \n",
    "#   other patient features)\n",
    "total_of_abs_p_interaction_per_instance = (np.abs(\n",
    "            df_hosp_shap_interactions_within[patient_features]).sum(axis=(1)))\n",
    "# sum of the absolute patient subset SHAP values\n",
    "total_of_abs_p_subset_shap_per_instance = (total_of_abs_p_main_per_instance + \n",
    "                                total_of_abs_p_interaction_per_instance)\n",
    "\n",
    "# proportion of patient contributions from interactions\n",
    "proportion_of_abs_subset_shap_p_from_interactions_per_instance = (\n",
    "                                total_of_abs_p_interaction_per_instance/\n",
    "                                total_of_abs_p_subset_shap_per_instance)\n",
    "\n",
    "# 2. The hospital features\n",
    "\n",
    "# for hospital features sum the absolute values of their main effect\n",
    "total_of_abs_h_main_per_instance = (np.abs(\n",
    "            df_hosp_shap_main_effects[hospital_features]).sum(axis=(1)))\n",
    "# for hospital features sum the absolute values of their interactions (with \n",
    "#   other hospital features)\n",
    "total_of_abs_h_interaction_per_instance = (np.abs(\n",
    "            df_hosp_shap_interactions_within[hospital_features]).sum(axis=(1)))\n",
    "# sum of the absolute hospital subset SHAP values\n",
    "total_of_abs_h_subset_shap_per_instance = (total_of_abs_h_main_per_instance + \n",
    "                                total_of_abs_h_interaction_per_instance)\n",
    "\n",
    "# proportion of hospital contributions from interactions\n",
    "proportion_of_abs_subset_shap_h_from_interactions_per_instance = (\n",
    "                                total_of_abs_h_interaction_per_instance/\n",
    "                                total_of_abs_h_subset_shap_per_instance)"
   ]
  },
  {
   "cell_type": "markdown",
   "metadata": {},
   "source": [
    "#### Histograms of the contributions from main effect vs interactions (for the patient features, and the hospital features)"
   ]
  },
  {
   "cell_type": "markdown",
   "metadata": {},
   "source": [
    "Define function to plot two histograms"
   ]
  },
  {
   "cell_type": "code",
   "execution_count": 7,
   "metadata": {},
   "outputs": [],
   "source": [
    "def plot_two_histograms(patient_data, hospital_data, x_label_text):\n",
    "    \"\"\"\n",
    "    Creates two subplots of histograms.\n",
    "    \n",
    "    patient_data [array]: continuous values,to be binned and used in LHS \n",
    "                          histogram\n",
    "    hospital_data [array]: continuous values,to be binned and used in RHS \n",
    "                           histogram\n",
    "    x_label_text [str]: text to use in x axis label\n",
    "    return []: empty\n",
    "    \"\"\"\n",
    "    \n",
    "    # plot (histogram) the proportion of subset SHAP values from interactions\n",
    "    bins = np.arange(0,1,0.05)\n",
    "\n",
    "    fig = plt.figure(figsize=(10,5))\n",
    "\n",
    "    # Plot patient contribution\n",
    "    ax1 = fig.add_subplot(121)\n",
    "    ax1.hist(proportion_of_abs_subset_shap_p_from_interactions_per_instance, \n",
    "             bins=bins);\n",
    "    ax1.set_title(\"For patient features\\nProportion of subset SHAP from \"\n",
    "                  \"interactions\\n(rest from main effect)\")\n",
    "    ax1.set_xlabel(f\"Proportion of patient subset SHAP values from\\n\"\n",
    "                   f\"interactions, rest from main effect\\n\"\n",
    "                   f\"(calculated from {x_label_text} SHAP values)\")\n",
    "    ax1.set_ylabel(\"Number of instances\")\n",
    "    ax1.set_xlim(0, 1)\n",
    "    ax1.set_ylim(0, 36000)\n",
    "\n",
    "    # Plot hospital contribution\n",
    "    ax2 = fig.add_subplot(122)\n",
    "    ax2.hist(proportion_of_abs_subset_shap_h_from_interactions_per_instance, \n",
    "             bins=bins);\n",
    "    ax2.set_title(\"For hospital features\\nProportion of subset SHAP from \"\n",
    "                  \"interactions\\n(rest from main effect)\")\n",
    "    ax2.set_xlabel(f\"Proportion of hospital subset SHAP values from\\n\"\n",
    "                   f\"interactions, rest from main effect\\n\"\n",
    "                   f\"(calculated from {x_label_text} SHAP values)\")\n",
    "    ax2.set_ylabel(\"Number of instances\")\n",
    "    ax2.set_xlim(0, 1)\n",
    "    ax2.set_ylim(0, 36000)\n",
    "\n",
    "    plt.tight_layout(pad=2)\n",
    "\n",
    "    plt.show()\n",
    "    \n",
    "    return()"
   ]
  },
  {
   "cell_type": "markdown",
   "metadata": {},
   "source": [
    "Plot the two histograms. \n",
    "\n",
    "For each instance, calculate the proportion of the SHAP value for all of the patient features that comes from the interactions (the rest comes from the main effect). \n",
    "\n",
    "Calculate by taking the sum of the absolute individual values.\n",
    "\n",
    "Repeat for the RHS subplot showing the result for the hospital features."
   ]
  },
  {
   "cell_type": "code",
   "execution_count": 8,
   "metadata": {},
   "outputs": [
    {
     "data": {
      "image/png": "[encoded data removed]",
      "text/plain": [
       "<Figure size 720x360 with 2 Axes>"
      ]
     },
     "metadata": {
      "needs_background": "light"
     },
     "output_type": "display_data"
    },
    {
     "data": {
      "text/plain": [
       "()"
      ]
     },
     "execution_count": 8,
     "metadata": {},
     "output_type": "execute_result"
    }
   ],
   "source": [
    "plot_two_histograms(\n",
    "    proportion_of_abs_subset_shap_p_from_interactions_per_instance, \n",
    "    proportion_of_abs_subset_shap_h_from_interactions_per_instance,\n",
    "    \"sum of absolute of\")"
   ]
  },
  {
   "cell_type": "markdown",
   "metadata": {},
   "source": [
    "X axis, the 1 stands for all from interactions, and 0 stands for all from main effect. \n",
    "\n",
    "For the majority of patients, all hosptial contributions comes from main effect (either hosptial attended, or arrival to scan).\n",
    "\n",
    "The main effect is also dominant for the patient contributions, but to a lesser extent than seen for the hosptial contribution."
   ]
  },
  {
   "cell_type": "markdown",
   "metadata": {},
   "source": [
    "#### SHAP contributions from patient, hospital and patient-hospital\n",
    "\n",
    "Also calculate the sum of the patient-hospital interactions"
   ]
  },
  {
   "cell_type": "code",
   "execution_count": 9,
   "metadata": {},
   "outputs": [],
   "source": [
    "# sum of the absolute patient-hospital interations\n",
    "total_of_abs_hpph_contributions_per_instance = (\n",
    "                        np.abs(df_hosp_shap_interactions_outside).sum(axis=(1)))"
   ]
  },
  {
   "cell_type": "markdown",
   "metadata": {},
   "source": [
    "Create function to display proportions as a donut chart."
   ]
  },
  {
   "cell_type": "code",
   "execution_count": 10,
   "metadata": {},
   "outputs": [],
   "source": [
    "def plot_donut_chart(y, labels, filename):\n",
    "    \"\"\"\n",
    "    create a pie chart and put a white circle in centre (a donut chart)\n",
    "    \n",
    "    y [array]: values for pie segments\n",
    "    labels [list]: text for each pie segment\n",
    "    return []: empty\n",
    "    \"\"\"\n",
    "    fig = plt.figure(figsize=(6,6))\n",
    "    ax = fig.add_subplot()\n",
    "\n",
    "    # Plot pie chart\n",
    "    ax.pie(y, labels=labels, autopct='%1.0f%%')\n",
    "\n",
    "    # Add a circle at the center to transform it in a donut chart\n",
    "    my_circle=plt.Circle( (0,0), 0.3, color='white')\n",
    "    p=plt.gcf()\n",
    "    p.gca().add_artist(my_circle)\n",
    "    \n",
    "    plt.savefig(filename, dpi=300, bbox_inches='tight')\n",
    "    \n",
    "    plt.show();\n",
    "    \n",
    "    return()"
   ]
  },
  {
   "cell_type": "code",
   "execution_count": 11,
   "metadata": {},
   "outputs": [
    {
     "data": {
      "image/png": "[encoded data removed]",
      "text/plain": [
       "<Figure size 432x432 with 1 Axes>"
      ]
     },
     "metadata": {},
     "output_type": "display_data"
    },
    {
     "data": {
      "text/plain": [
       "()"
      ]
     },
     "execution_count": 11,
     "metadata": {},
     "output_type": "execute_result"
    }
   ],
   "source": [
    "y = np.array([total_of_abs_p_subset_shap_per_instance.sum(), \n",
    "              total_of_abs_h_subset_shap_per_instance.sum(), \n",
    "              total_of_abs_hpph_contributions_per_instance.sum()])\n",
    "\n",
    "mylabels = [f\"Patient contribution\\n(\"\n",
    "            f\"{round(total_of_abs_p_subset_shap_per_instance.sum(),0)})\", \n",
    "            f\"Hospital contribution\\n(\"\n",
    "            f\"{round(total_of_abs_h_subset_shap_per_instance.sum(),0)})\", \n",
    "            f\"Patient-Hosptial interaction contribution\\n(\"\n",
    "            f\"{round(total_of_abs_hpph_contributions_per_instance.sum(),0)})\"]\n",
    "\n",
    "filename = (f'./output/{notebook}_{model_text}_shap_contributions_sum_of_abs_'\n",
    "            f'donut.jpg')\n",
    "\n",
    "plot_donut_chart(y, mylabels, filename)"
   ]
  },
  {
   "cell_type": "markdown",
   "metadata": {},
   "source": [
    "### Calculate the absolute of the sum\n",
    "\n",
    "Repeat the above, this time calculating the absolute of the sum of the interactions \n",
    "\n",
    "|sum(main) + sum(interaction)|\n",
    "\n",
    "Get data for the two subsets of features: patient subset and hospital subset"
   ]
  },
  {
   "cell_type": "code",
   "execution_count": 12,
   "metadata": {},
   "outputs": [],
   "source": [
    "# 1. The patient features\n",
    "\n",
    "# absolute of the sum of the individual main effect values\n",
    "abs_of_total_p_main_per_instance = (np.abs(\n",
    "            df_hosp_shap_main_effects[patient_features].sum(axis=(1))))\n",
    "\n",
    "# absolute of the sum of the individual interaction values with other patient \n",
    "#   features\n",
    "abs_of_total_p_interaction_per_instance = (np.abs(\n",
    "            df_hosp_shap_interactions_within[patient_features].sum(axis=(1))))\n",
    "\n",
    "# sum of patient contributions (main effect + subset interactions)\n",
    "abs_of_total_p_subset_shap_per_instance = (\n",
    "                abs_of_total_p_main_per_instance + \n",
    "                abs_of_total_p_interaction_per_instance)\n",
    "\n",
    "# proportion of patient contributions from interactions\n",
    "abs_of_total_p_interactions_proportion_per_instance = (\n",
    "                abs_of_total_p_interaction_per_instance/\n",
    "                abs_of_total_p_subset_shap_per_instance)\n",
    "\n",
    "# 2. The hospital features\n",
    "\n",
    "# absolute of the sum of the individual main effect values\n",
    "abs_of_total_h_main_per_instance = (np.abs(\n",
    "            df_hosp_shap_main_effects[hospital_features].sum(axis=(1))))\n",
    "\n",
    "# absolute of the sum of the individual interaction values with other hospital\n",
    "#   features\n",
    "abs_of_total_h_interaction_per_instance = (np.abs(\n",
    "            df_hosp_shap_interactions_within[hospital_features].sum(axis=(1))))\n",
    "\n",
    "# sum of hospital contributions (main effect + subset interactions)\n",
    "abs_of_total_h_subset_shap_per_instance = (\n",
    "                                    abs_of_total_h_main_per_instance + \n",
    "                                    abs_of_total_h_interaction_per_instance)\n",
    "\n",
    "# proportion of hospital contributions from interactions\n",
    "abs_of_total_h_interactions_proportion_per_instance = (\n",
    "                                abs_of_total_h_interaction_per_instance/\n",
    "                                abs_of_total_h_subset_shap_per_instance)"
   ]
  },
  {
   "cell_type": "markdown",
   "metadata": {},
   "source": [
    "#### SHAP contributions from main effect vs interactions (for patient features, and hospital features)"
   ]
  },
  {
   "cell_type": "code",
   "execution_count": 13,
   "metadata": {},
   "outputs": [
    {
     "data": {
      "image/png": "[encoded data removed]",
      "text/plain": [
       "<Figure size 720x360 with 2 Axes>"
      ]
     },
     "metadata": {
      "needs_background": "light"
     },
     "output_type": "display_data"
    },
    {
     "data": {
      "text/plain": [
       "()"
      ]
     },
     "execution_count": 13,
     "metadata": {},
     "output_type": "execute_result"
    }
   ],
   "source": [
    "plot_two_histograms(\n",
    "    abs_of_total_p_interactions_proportion_per_instance, \n",
    "    abs_of_total_h_interactions_proportion_per_instance,\n",
    "    \"absolute of sum of\")"
   ]
  },
  {
   "cell_type": "markdown",
   "metadata": {},
   "source": [
    "#### SHAP contributions from patient, hospital and patient-hospital\n",
    "\n",
    "Also calculate the sum of the patient-hospital interactions"
   ]
  },
  {
   "cell_type": "code",
   "execution_count": 14,
   "metadata": {},
   "outputs": [],
   "source": [
    "# for hospital-patient features\n",
    "abs_of_total_hpph_contributions_per_instance = (\n",
    "                        np.abs(df_hosp_shap_interactions_outside.sum(axis=(1))))"
   ]
  },
  {
   "cell_type": "code",
   "execution_count": 15,
   "metadata": {},
   "outputs": [
    {
     "data": {
      "image/png": "[encoded data removed]",
      "text/plain": [
       "<Figure size 432x432 with 1 Axes>"
      ]
     },
     "metadata": {},
     "output_type": "display_data"
    },
    {
     "data": {
      "text/plain": [
       "()"
      ]
     },
     "execution_count": 15,
     "metadata": {},
     "output_type": "execute_result"
    }
   ],
   "source": [
    "y = np.array([abs_of_total_p_subset_shap_per_instance.sum(), \n",
    "              abs_of_total_h_subset_shap_per_instance.sum(), \n",
    "              abs_of_total_hpph_contributions_per_instance.sum()])\n",
    "\n",
    "mylabels = [f\"Patient contribution\\n(\"\n",
    "            f\"{round(abs_of_total_p_subset_shap_per_instance.sum(),0)})\", \n",
    "            f\"Hospital contribution\\n(\"\n",
    "            f\"{round(abs_of_total_h_subset_shap_per_instance.sum(),0)})\", \n",
    "            f\"Patient-Hosptial interaction contribution\\n(\"\n",
    "            f\"{round(abs_of_total_hpph_contributions_per_instance.sum(),0)})\"]\n",
    "\n",
    "filename = (f'./output/{notebook}_{model_text}_shap_contributions_abs_of_sum_'\n",
    "            f'donut.jpg')\n",
    "\n",
    "plot_donut_chart(y, mylabels, filename)"
   ]
  }
 ],
 "metadata": {
  "kernelspec": {
   "display_name": "Python 3 (ipykernel)",
   "language": "python",
   "name": "python3"
  },
  "language_info": {
   "codemirror_mode": {
    "name": "ipython",
    "version": 3
   },
   "file_extension": ".py",
   "mimetype": "text/x-python",
   "name": "python",
   "nbconvert_exporter": "python",
   "pygments_lexer": "ipython3",
   "version": "3.8.13"
  },
  "vscode": {
   "interpreter": {
    "hash": "b368e36a85415766688ec72e3e874a4b525584eabf4bf7122952a4e0fd64fcde"
   }
  }
 },
 "nbformat": 4,
 "nbformat_minor": 4
}
