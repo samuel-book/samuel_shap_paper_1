{
 "cells": [
  {
   "cell_type": "markdown",
   "id": "6c5365b2-a93b-4b4c-a1ad-d6b8f1344cc9",
   "metadata": {},
   "source": [
    "# Demo of saving huge arrays with h5 to reduce file sizes\n",
    "\n",
    "_Warning_: multiple files saved in this script will have sizes of approx. 37MB and 159MB.\n",
    "\n",
    "We'll compare the sizes of files containing huge arrays that are created by these libraries:"
   ]
  },
  {
   "cell_type": "code",
   "execution_count": 1,
   "id": "fa80358d-e10e-4248-b4e3-a7fdd538b44c",
   "metadata": {},
   "outputs": [],
   "source": [
    "import numpy as np\n",
    "import pickle\n",
    "import h5py"
   ]
  },
  {
   "cell_type": "markdown",
   "id": "e3f244a6-ff80-4805-a788-eb2b11745a7f",
   "metadata": {},
   "source": [
    "| Test | Success | File size (MB) | Comment |\n",
    "|---|---|---|---|\n",
    "| `pickle` | - | 159 | Starting point. | \n",
    "| `np.save` | No | 159 | No difference. | \n",
    "| `h5` lossless | Yes | 80 | Halves the size of the file with no drawbacks. Also retains halved size when array is loaded back into memory. | \n",
    "| `h5` with loss, `scaleoffset=4` | Yes | 40 | Reduces the precision to 4 decimal places. | \n",
    "| Reshape each 2D grid to 1D row | No | 159 | No difference for any library. |\n",
    "| Reshape each 2D grid to 1D row and lose repeat values | Yes | est. 80 | Almost halves the size as each 2D grid has diagonal symmetry, most values feature twice. |\n",
    "| Change dtype | Yes | 40MB | Changing default dtype from `float32` to `float16` quarters the file size and reduces the precision to 4 significant figures. |"
   ]
  },
  {
   "cell_type": "markdown",
   "id": "4652f914-f016-4a70-ae05-c23a5d90324e",
   "metadata": {},
   "source": [
    "Combining the best reductions in size:\n",
    "\n",
    "+ Change dtype to lose precision\n",
    "+ Reshape each grid to row and lose repeats\n",
    "\n",
    "gives a __final file size of 20MB__, down from the starting 159MB. This is ~1/8 or 12.5% of the starting size. At this point, saving with `h5` or `pickle` makes no difference."
   ]
  },
  {
   "cell_type": "markdown",
   "id": "4a618819-49d5-490d-ad0e-1d4812711fbc",
   "metadata": {},
   "source": [
    "# Generate some data:"
   ]
  },
  {
   "cell_type": "markdown",
   "id": "234cedb8-a0ee-43eb-944a-34caa203e498",
   "metadata": {},
   "source": [
    "Generate some array of random data: "
   ]
  },
  {
   "cell_type": "code",
   "execution_count": 2,
   "id": "555797b1-0a20-436a-82ee-b8dba8abe69f",
   "metadata": {},
   "outputs": [],
   "source": [
    "fake_array = np.random.rand(1000, 141, 141)\n",
    "\n",
    "# Increase some values to outside rand range:\n",
    "fake_array[4:14, 4:14] += 10\n",
    "fake_array[24:34, 24:34] -= 10\n",
    "\n",
    "# Make the arrays symmetrical around the diagonal.\n",
    "for i in range(fake_array.shape[0]):\n",
    "    a = fake_array[i]\n",
    "    fake_array[i] = a + np.transpose(a) "
   ]
  },
  {
   "cell_type": "markdown",
   "id": "5930ffc2-2ca6-4357-bab8-00b3b14f26e0",
   "metadata": {},
   "source": [
    "Check the size of this in memory: "
   ]
  },
  {
   "cell_type": "code",
   "execution_count": 3,
   "id": "42e9bedd-1bb2-479b-8086-f0116870e713",
   "metadata": {},
   "outputs": [
    {
     "data": {
      "text/plain": [
       "159048000"
      ]
     },
     "execution_count": 3,
     "metadata": {},
     "output_type": "execute_result"
    }
   ],
   "source": [
    "fake_array.nbytes"
   ]
  },
  {
   "cell_type": "markdown",
   "id": "60e1a698-0315-4e34-990e-acb58444eff2",
   "metadata": {},
   "source": [
    "# Save with different libraries"
   ]
  },
  {
   "cell_type": "markdown",
   "id": "fd6698c2-2aaa-4838-b0ae-b9480c8e170c",
   "metadata": {},
   "source": [
    "## pickle:"
   ]
  },
  {
   "cell_type": "markdown",
   "id": "2b975dd2-cd01-44e9-bde2-fa255dca40f9",
   "metadata": {},
   "source": [
    "Save with pickle:"
   ]
  },
  {
   "cell_type": "code",
   "execution_count": 4,
   "id": "31d59140-379d-4efe-8e8a-b79e3a80ee5a",
   "metadata": {},
   "outputs": [],
   "source": [
    "with open('fakearray_frompickle.p', 'wb') as filehandler:\n",
    "    pickle.dump(fake_array, filehandler)"
   ]
  },
  {
   "cell_type": "markdown",
   "id": "f25a0f6f-0ba1-4833-87a1-279a1d14b60c",
   "metadata": {},
   "source": [
    "Load the pickled file:"
   ]
  },
  {
   "cell_type": "code",
   "execution_count": 5,
   "id": "495c0fa5-b779-4cbc-a67b-a5ff74da5339",
   "metadata": {},
   "outputs": [],
   "source": [
    "with open('fakearray_frompickle.p', 'rb') as filehandler:\n",
    "    fake_array_from_pickle = pickle.load(filehandler)"
   ]
  },
  {
   "cell_type": "markdown",
   "id": "377cdd16-8f94-43af-829f-87d79f7e4ccc",
   "metadata": {
    "tags": []
   },
   "source": [
    "Check it works as expected:"
   ]
  },
  {
   "cell_type": "code",
   "execution_count": 6,
   "id": "87dd5206-476d-4b0e-9502-23dc45e12788",
   "metadata": {},
   "outputs": [
    {
     "name": "stdout",
     "output_type": "stream",
     "text": [
      "<class 'numpy.ndarray'>\n",
      "(1000, 141, 141)\n"
     ]
    }
   ],
   "source": [
    "print(type(fake_array_from_pickle))\n",
    "print(fake_array_from_pickle.shape)"
   ]
  },
  {
   "cell_type": "markdown",
   "id": "f6d44f26-69fe-4704-a2bf-1bbcb66e3c44",
   "metadata": {},
   "source": [
    "Check the size in memory now: "
   ]
  },
  {
   "cell_type": "code",
   "execution_count": 7,
   "id": "49b28dbb-abd1-498b-9800-a4cb9f567f26",
   "metadata": {},
   "outputs": [
    {
     "data": {
      "text/plain": [
       "159048000"
      ]
     },
     "execution_count": 7,
     "metadata": {},
     "output_type": "execute_result"
    }
   ],
   "source": [
    "fake_array_from_pickle.nbytes"
   ]
  },
  {
   "cell_type": "markdown",
   "id": "5cb2390e-e589-4fc8-aa97-732861488015",
   "metadata": {},
   "source": [
    "## numpy:"
   ]
  },
  {
   "cell_type": "markdown",
   "id": "81600b3c-1927-48d2-9473-b38941b6a031",
   "metadata": {},
   "source": [
    "Save this array to file using numpy's save function: "
   ]
  },
  {
   "cell_type": "code",
   "execution_count": 8,
   "id": "9ca1cbf7-f894-4efe-a8a8-0014cf627252",
   "metadata": {},
   "outputs": [],
   "source": [
    "np.save('fakearray_fromsave.npy', fake_array)"
   ]
  },
  {
   "cell_type": "markdown",
   "id": "c5298d5c-7960-4ab7-a277-ff75b173dd97",
   "metadata": {},
   "source": [
    "Load it back in:"
   ]
  },
  {
   "cell_type": "code",
   "execution_count": 9,
   "id": "9a0db0e9-849b-4cac-a11c-ebcc987840e9",
   "metadata": {},
   "outputs": [],
   "source": [
    "fake_array_from_save = np.load('fakearray_fromsave.npy')"
   ]
  },
  {
   "cell_type": "markdown",
   "id": "471fb9a6-8fa2-4701-97fa-5d5ff952729a",
   "metadata": {},
   "source": [
    "Check the size in memory now: "
   ]
  },
  {
   "cell_type": "code",
   "execution_count": 10,
   "id": "90a9706c-ec3f-4ca0-b115-61d68d767d2b",
   "metadata": {},
   "outputs": [
    {
     "data": {
      "text/plain": [
       "159048000"
      ]
     },
     "execution_count": 10,
     "metadata": {},
     "output_type": "execute_result"
    }
   ],
   "source": [
    "fake_array_from_save.nbytes"
   ]
  },
  {
   "cell_type": "markdown",
   "id": "adb1eb60-bb11-4e9b-b304-705d9f47267a",
   "metadata": {},
   "source": [
    "## h5:"
   ]
  },
  {
   "cell_type": "markdown",
   "id": "da95b70b-4a38-4493-9480-a17015570eac",
   "metadata": {},
   "source": [
    "Save this array to file using h5."
   ]
  },
  {
   "cell_type": "code",
   "execution_count": 11,
   "id": "4e3b5369-e703-4e27-8a68-958395fbebcf",
   "metadata": {},
   "outputs": [],
   "source": [
    "with h5py.File('fakearray_fromh5.hdf5', 'w') as f:\n",
    "    # Create an empty dataset...\n",
    "    dset = f.create_dataset('fake_array', fake_array.shape, dtype='float32')\n",
    "    # ... and then fill it with values from our array.\n",
    "    dset[...] = fake_array"
   ]
  },
  {
   "cell_type": "markdown",
   "id": "c4634a2b-ad61-4e94-9bdd-b48c9187169d",
   "metadata": {},
   "source": [
    "Load the array back in: "
   ]
  },
  {
   "cell_type": "code",
   "execution_count": 12,
   "id": "1d5ea9e7-0202-45d3-8c66-1c45db9347ac",
   "metadata": {},
   "outputs": [],
   "source": [
    "with h5py.File('fakearray_fromh5.hdf5', 'r') as f:\n",
    "    dset = f['fake_array']\n",
    "    \n",
    "    # Convert to numpy array:\n",
    "    fake_array_from_h5 = dset[:] "
   ]
  },
  {
   "cell_type": "markdown",
   "id": "09a83714-cc4c-49b4-9455-a1b0011d1e3e",
   "metadata": {},
   "source": [
    "Check it works as expected:"
   ]
  },
  {
   "cell_type": "code",
   "execution_count": 13,
   "id": "9345b64c-7a08-4095-be3b-f6548ce09d72",
   "metadata": {},
   "outputs": [
    {
     "name": "stdout",
     "output_type": "stream",
     "text": [
      "<class 'numpy.ndarray'>\n",
      "(1000, 141, 141)\n"
     ]
    }
   ],
   "source": [
    "print(type(fake_array_from_h5))\n",
    "print(fake_array_from_h5.shape)"
   ]
  },
  {
   "cell_type": "markdown",
   "id": "8e50239f-47e4-4061-9801-a72a98ead7ff",
   "metadata": {},
   "source": [
    "Check the size in memory now: "
   ]
  },
  {
   "cell_type": "code",
   "execution_count": 14,
   "id": "ec23e832-7e22-4ca9-a724-4f3570b9ccca",
   "metadata": {},
   "outputs": [
    {
     "data": {
      "text/plain": [
       "79524000"
      ]
     },
     "execution_count": 14,
     "metadata": {},
     "output_type": "execute_result"
    }
   ],
   "source": [
    "fake_array_from_h5.nbytes"
   ]
  },
  {
   "cell_type": "markdown",
   "id": "2405b76f-c50d-4cac-9336-b2458a05bf04",
   "metadata": {},
   "source": [
    "# Lossy save with `h5`"
   ]
  },
  {
   "cell_type": "markdown",
   "id": "f9456425-9fd5-4b7f-b6e2-8e24c08d0dcb",
   "metadata": {},
   "source": [
    "Save this array to file using h5.\n",
    "\n",
    "`scaleoffset` is the number of decimal places that the file will retain. Any digits beyond that will not be retained, and when the array is loaded back in, the values of these later digits will have changed.\n",
    "\n",
    "By \"decimal places\" it does seem to be after the point in normal notation (e.g. 10.333333) rather than scientific (e.g. 1.03333e+01). \n",
    "\n",
    "Increasing `scaleoffset` increases the size of the saved file. For this `fake_array`, each increase in scaleoffset of 1 causes an increase in the file size of ~8MB."
   ]
  },
  {
   "cell_type": "code",
   "execution_count": 15,
   "id": "dd2fa89f-a50f-439e-94e6-0587faeab886",
   "metadata": {},
   "outputs": [],
   "source": [
    "with h5py.File('fakearray_lossy_fromh5.hdf5', 'w') as f:\n",
    "    # Create an empty dataset...\n",
    "    dset = f.create_dataset('fake_array', fake_array.shape, \n",
    "                            dtype='float32', scaleoffset=4)\n",
    "    # ... and then fill it with values from our array.\n",
    "    dset[...] = fake_array"
   ]
  },
  {
   "cell_type": "markdown",
   "id": "db206324-61c5-419f-a6de-2b8cebfa5452",
   "metadata": {},
   "source": [
    "Load the array back in: "
   ]
  },
  {
   "cell_type": "code",
   "execution_count": 16,
   "id": "50ba0800-894f-4e05-a324-dbd8c5192099",
   "metadata": {},
   "outputs": [],
   "source": [
    "with h5py.File('fakearray_lossy_fromh5.hdf5', 'r') as f:\n",
    "    dset = f['fake_array']\n",
    "    \n",
    "    # Convert to numpy array:\n",
    "    fake_array_lossy_from_h5 = dset[:] "
   ]
  },
  {
   "cell_type": "markdown",
   "id": "91ecf11f-0872-4f6b-9d0b-163a00115058",
   "metadata": {},
   "source": [
    "Check it works as expected:"
   ]
  },
  {
   "cell_type": "code",
   "execution_count": 17,
   "id": "ae648ec9-78bc-418e-8f22-802132417758",
   "metadata": {},
   "outputs": [
    {
     "name": "stdout",
     "output_type": "stream",
     "text": [
      "<class 'numpy.ndarray'>\n",
      "(1000, 141, 141)\n"
     ]
    }
   ],
   "source": [
    "print(type(fake_array_lossy_from_h5))\n",
    "print(fake_array_lossy_from_h5.shape)"
   ]
  },
  {
   "cell_type": "markdown",
   "id": "17692f7c-e543-483d-af8b-cd519d3affbc",
   "metadata": {},
   "source": [
    "Check the size in memory now: "
   ]
  },
  {
   "cell_type": "code",
   "execution_count": 18,
   "id": "34536eca-e5ab-4864-a21c-035863f1fbab",
   "metadata": {},
   "outputs": [
    {
     "data": {
      "text/plain": [
       "79524000"
      ]
     },
     "execution_count": 18,
     "metadata": {},
     "output_type": "execute_result"
    }
   ],
   "source": [
    "fake_array_lossy_from_h5.nbytes"
   ]
  },
  {
   "cell_type": "code",
   "execution_count": 19,
   "id": "cb12cec1-2b52-4229-9604-b0754fd949f9",
   "metadata": {},
   "outputs": [
    {
     "name": "stdout",
     "output_type": "stream",
     "text": [
      "Original size | Reduced size | Ratio of old to new\n",
      "    159048000    |     79524000    | 50.0%\n"
     ]
    }
   ],
   "source": [
    "size_orig = fake_array.nbytes\n",
    "size_h5lossy = fake_array_lossy_from_h5.nbytes\n",
    "\n",
    "print('Original size | Reduced size | Ratio of old to new')\n",
    "print(f'    {size_orig}    |     {size_h5lossy}    | {100*size_h5lossy/size_orig}%')"
   ]
  },
  {
   "cell_type": "markdown",
   "id": "f9043241-24d0-4d08-a84e-7c2eb814b9e8",
   "metadata": {},
   "source": [
    "### Compare lossy array with original"
   ]
  },
  {
   "cell_type": "code",
   "execution_count": 20,
   "id": "12219120-d780-4662-9e23-a5df584a8fe0",
   "metadata": {
    "tags": []
   },
   "outputs": [
    {
     "name": "stdout",
     "output_type": "stream",
     "text": [
      "Diff from lossless h5   | Diff from lossy h5\n",
      "--------------------------------------\n",
      "     0.000000    |      0.000034    \n",
      "     0.000000    |     -0.000014    \n",
      "     0.000000    |     -0.000045    \n",
      "    -0.000000    |      0.000035    \n",
      "     0.000000    |      0.000016    \n",
      "     0.000000    |      0.000034    \n",
      "     0.000000    |     -0.000019    \n",
      "     0.000000    |      0.000034    \n",
      "     0.000000    |      0.000036    \n",
      "     0.000000    |      0.000022    \n",
      "... plus more values that aren't printed.\n"
     ]
    }
   ],
   "source": [
    "print('Diff from lossless h5   | Diff from lossy h5')\n",
    "print('--------------------------------------')\n",
    "for i, orig_value in enumerate(fake_array[0][0][:10]):\n",
    "    print(f'    {(orig_value-fake_array_from_h5[0][0][i]):9.6f}    |', \n",
    "          f'    {(orig_value-fake_array_lossy_from_h5[0][0][i]):9.6f}    ')\n",
    "print('... plus more values that aren\\'t printed.')"
   ]
  },
  {
   "cell_type": "markdown",
   "id": "e4f2b9f3-74a6-41f7-b59b-051a82fa4bcd",
   "metadata": {},
   "source": [
    "---"
   ]
  },
  {
   "cell_type": "markdown",
   "id": "c5894ae6-fdb7-45b6-840d-87a79ddf52b0",
   "metadata": {
    "tags": []
   },
   "source": [
    "# Reshape grids from 2D to 1D"
   ]
  },
  {
   "cell_type": "markdown",
   "id": "0be90149-3bdd-4d5c-9331-22a4554170f7",
   "metadata": {},
   "source": [
    "Reshape to one row per patient with each row being absurdly long:"
   ]
  },
  {
   "cell_type": "code",
   "execution_count": 21,
   "id": "d2776217-1434-4302-b7c9-8a2c7975f7ff",
   "metadata": {},
   "outputs": [
    {
     "data": {
      "text/plain": [
       "(1000, 19881)"
      ]
     },
     "execution_count": 21,
     "metadata": {},
     "output_type": "execute_result"
    }
   ],
   "source": [
    "fake_array_2d = fake_array.reshape(fake_array.shape[0], \n",
    "                                   int(fake_array.shape[1]**2.0))\n",
    "\n",
    "fake_array_2d.shape"
   ]
  },
  {
   "cell_type": "markdown",
   "id": "86d2b061-0139-4030-9a8d-4d79d03c257d",
   "metadata": {},
   "source": [
    "Convert back to the original 3D shape:"
   ]
  },
  {
   "cell_type": "code",
   "execution_count": 22,
   "id": "0b12cab8-a5d7-470b-a1d8-367954cda2f3",
   "metadata": {},
   "outputs": [
    {
     "data": {
      "text/plain": [
       "(1000, 141, 141)"
      ]
     },
     "execution_count": 22,
     "metadata": {},
     "output_type": "execute_result"
    }
   ],
   "source": [
    "fake_array_back_to_3d = fake_array_2d.reshape(\n",
    "    fake_array_2d.shape[0], \n",
    "    int(fake_array_2d.shape[1]**0.5), \n",
    "    int(fake_array_2d.shape[1]**0.5)\n",
    ")\n",
    "\n",
    "fake_array_back_to_3d.shape"
   ]
  },
  {
   "cell_type": "markdown",
   "id": "b34935a3-8233-4dda-946e-d544472386ec",
   "metadata": {},
   "source": [
    "Check that this array matches the original: "
   ]
  },
  {
   "cell_type": "code",
   "execution_count": 23,
   "id": "478005b2-f45f-4d4d-a08d-1bc2b1465e6a",
   "metadata": {},
   "outputs": [
    {
     "data": {
      "text/plain": [
       "True"
      ]
     },
     "execution_count": 23,
     "metadata": {},
     "output_type": "execute_result"
    }
   ],
   "source": [
    "np.all(fake_array_back_to_3d == fake_array)"
   ]
  },
  {
   "cell_type": "markdown",
   "id": "5ae9664f-a62a-4f08-8952-db3bf8c11c5c",
   "metadata": {},
   "source": [
    "Check size in memory: "
   ]
  },
  {
   "cell_type": "code",
   "execution_count": 24,
   "id": "de5df317-4961-4c32-bdce-23c67819516a",
   "metadata": {},
   "outputs": [
    {
     "data": {
      "text/plain": [
       "159048000"
      ]
     },
     "execution_count": 24,
     "metadata": {},
     "output_type": "execute_result"
    }
   ],
   "source": [
    "fake_array_2d.nbytes"
   ]
  },
  {
   "cell_type": "markdown",
   "id": "a1f6fc1a-79ce-4f5c-83c7-386a8c46c6f4",
   "metadata": {},
   "source": [
    "But how much room does it take up on disk?"
   ]
  },
  {
   "cell_type": "markdown",
   "id": "551a4a83-0f26-4e9a-8ddd-796b773da001",
   "metadata": {},
   "source": [
    "## numpy:"
   ]
  },
  {
   "cell_type": "markdown",
   "id": "a96d94dc-451b-4949-9eab-37328e2c8663",
   "metadata": {},
   "source": [
    "Save this array to file using numpy's save function: "
   ]
  },
  {
   "cell_type": "code",
   "execution_count": 25,
   "id": "7fc1971f-13ab-4813-83fe-b9c56fbe6f05",
   "metadata": {},
   "outputs": [],
   "source": [
    "np.save('fakearray2d_fromsave.npy', fake_array_2d)"
   ]
  },
  {
   "cell_type": "markdown",
   "id": "a29dd9d3-c6a7-405c-adea-8a805346e96b",
   "metadata": {},
   "source": [
    "Load it back in:"
   ]
  },
  {
   "cell_type": "code",
   "execution_count": 26,
   "id": "7dd6b666-80b3-4fff-a4eb-918b7aaa62a8",
   "metadata": {},
   "outputs": [],
   "source": [
    "fake_array2d_from_save = np.load('fakearray2d_fromsave.npy')"
   ]
  },
  {
   "cell_type": "markdown",
   "id": "f2759f4b-eb59-4a41-9e31-ead271dfcbd1",
   "metadata": {},
   "source": [
    "Check the size in memory now: "
   ]
  },
  {
   "cell_type": "code",
   "execution_count": 27,
   "id": "631abc21-694b-4512-882c-7b8accdb3b91",
   "metadata": {},
   "outputs": [
    {
     "data": {
      "text/plain": [
       "159048000"
      ]
     },
     "execution_count": 27,
     "metadata": {},
     "output_type": "execute_result"
    }
   ],
   "source": [
    "fake_array2d_from_save.nbytes"
   ]
  },
  {
   "cell_type": "markdown",
   "id": "d8632b26-d17e-4d03-a414-ea08a4e2a44b",
   "metadata": {},
   "source": [
    "The size on disk is the same as saving the 3D array from earlier. "
   ]
  },
  {
   "cell_type": "markdown",
   "id": "09d50e63-45b4-4593-8719-e0cbec7469a4",
   "metadata": {},
   "source": [
    "## pickle:"
   ]
  },
  {
   "cell_type": "markdown",
   "id": "f55d1fa2-965f-43b2-a5db-684c5699043c",
   "metadata": {},
   "source": [
    "Save with pickle:"
   ]
  },
  {
   "cell_type": "code",
   "execution_count": 28,
   "id": "85fc2f61-a2f8-4141-b371-2f9940b8d80e",
   "metadata": {},
   "outputs": [],
   "source": [
    "with open('fakearray2d_frompickle.p', 'wb') as filehandler:\n",
    "    pickle.dump(fake_array_2d, filehandler)"
   ]
  },
  {
   "cell_type": "markdown",
   "id": "0a130900-59d8-41fe-af2b-bef824d1fce6",
   "metadata": {},
   "source": [
    "Load the pickled file:"
   ]
  },
  {
   "cell_type": "code",
   "execution_count": 29,
   "id": "6cd9c0a2-7626-49d1-b8f3-7f6ba068ee35",
   "metadata": {},
   "outputs": [],
   "source": [
    "with open('fakearray2d_frompickle.p', 'rb') as filehandler:\n",
    "    fake_array_2d_from_pickle = pickle.load(filehandler)"
   ]
  },
  {
   "cell_type": "markdown",
   "id": "d40f31e4-6d68-4656-aacf-c4b13ce8dac4",
   "metadata": {
    "tags": []
   },
   "source": [
    "Check it works as expected:"
   ]
  },
  {
   "cell_type": "code",
   "execution_count": 30,
   "id": "d153d6ff-90b3-40c6-b113-07a287fc2b01",
   "metadata": {},
   "outputs": [
    {
     "name": "stdout",
     "output_type": "stream",
     "text": [
      "<class 'numpy.ndarray'>\n",
      "(1000, 19881)\n"
     ]
    }
   ],
   "source": [
    "print(type(fake_array_2d_from_pickle))\n",
    "print(fake_array_2d_from_pickle.shape)"
   ]
  },
  {
   "cell_type": "markdown",
   "id": "c3ce0b46-7b13-41ea-b1f8-fa7f92456255",
   "metadata": {},
   "source": [
    "Check the size in memory now: "
   ]
  },
  {
   "cell_type": "code",
   "execution_count": 31,
   "id": "cafe4f1a-cd34-42d1-bb71-d9bc366199cd",
   "metadata": {},
   "outputs": [
    {
     "data": {
      "text/plain": [
       "159048000"
      ]
     },
     "execution_count": 31,
     "metadata": {},
     "output_type": "execute_result"
    }
   ],
   "source": [
    "fake_array_2d_from_pickle.nbytes"
   ]
  },
  {
   "cell_type": "markdown",
   "id": "4b80230f-83b2-4602-9043-2b33f88a9714",
   "metadata": {},
   "source": [
    "The size on disk is the same as saving the 3D array from earlier."
   ]
  },
  {
   "cell_type": "markdown",
   "id": "3fcfbbd3-712d-40f7-896f-431451a9b4f8",
   "metadata": {},
   "source": [
    "## h5:"
   ]
  },
  {
   "cell_type": "markdown",
   "id": "319f5ba7-6055-4383-87cb-a52a68ad5d3c",
   "metadata": {},
   "source": [
    "Save this array to file using h5.\n",
    "\n",
    "`scaleoffset` is the number of decimal places that the file will retain. Any digits beyond that will not be retained, and when the array is loaded back in, the values of these later digits will have changed.\n",
    "\n",
    "By \"decimal places\" it does seem to be after the point in normal notation (e.g. 10.333333) rather than scientific (e.g. 1.03333e+01). \n",
    "\n",
    "Increasing `scaleoffset` increases the size of the saved file. For this `fake_array`, each increase in scaleoffset of 1 causes an increase in the file size of ~8MB."
   ]
  },
  {
   "cell_type": "code",
   "execution_count": 32,
   "id": "daebf0bc-95d1-4a68-b6e5-eaea998b2c61",
   "metadata": {},
   "outputs": [],
   "source": [
    "with h5py.File('fakearray2d_fromh5.hdf5', 'w') as f:\n",
    "    # Create an empty dataset...\n",
    "    dset = f.create_dataset('fake_array_2d', fake_array_2d.shape, \n",
    "                            dtype='float32', scaleoffset=4)\n",
    "    # ... and then fill it with values from our array.\n",
    "    dset[...] = fake_array_2d"
   ]
  },
  {
   "cell_type": "markdown",
   "id": "7e860532-31d2-4609-b399-006091a43fc7",
   "metadata": {},
   "source": [
    "Load the array back in: "
   ]
  },
  {
   "cell_type": "code",
   "execution_count": 33,
   "id": "a139bf32-dfcb-4fa9-b3d1-c2d269c91914",
   "metadata": {},
   "outputs": [],
   "source": [
    "with h5py.File('fakearray2d_fromh5.hdf5', 'r') as f:\n",
    "    dset = f['fake_array_2d']\n",
    "    \n",
    "    # Convert to numpy array:\n",
    "    fake_array_2d_from_h5 = dset[:] "
   ]
  },
  {
   "cell_type": "markdown",
   "id": "be439748-0b8e-4a69-8193-218be7ebcc62",
   "metadata": {
    "tags": []
   },
   "source": [
    "Check it works as expected:"
   ]
  },
  {
   "cell_type": "code",
   "execution_count": 34,
   "id": "9a0dc75e-3359-4eda-a568-dd09126655e8",
   "metadata": {},
   "outputs": [
    {
     "name": "stdout",
     "output_type": "stream",
     "text": [
      "<class 'numpy.ndarray'>\n",
      "(1000, 19881)\n"
     ]
    }
   ],
   "source": [
    "print(type(fake_array_2d_from_h5))\n",
    "print(fake_array_2d_from_h5.shape)"
   ]
  },
  {
   "cell_type": "markdown",
   "id": "abf6f54a-7348-4f1f-84ed-7cf81340cdc5",
   "metadata": {},
   "source": [
    "Check the size in memory now: "
   ]
  },
  {
   "cell_type": "code",
   "execution_count": 35,
   "id": "8601bd62-62e0-4b82-a49d-8782c6e1af43",
   "metadata": {},
   "outputs": [
    {
     "data": {
      "text/plain": [
       "79524000"
      ]
     },
     "execution_count": 35,
     "metadata": {},
     "output_type": "execute_result"
    }
   ],
   "source": [
    "fake_array_2d_from_h5.nbytes"
   ]
  },
  {
   "cell_type": "markdown",
   "id": "1c114352-18a3-4e53-8bcc-521aaed41719",
   "metadata": {},
   "source": [
    "The size on disk is the same as saving the 3D array from earlier."
   ]
  },
  {
   "cell_type": "markdown",
   "id": "58b6e6da-868a-462f-a4ec-7d1a77a9b217",
   "metadata": {},
   "source": [
    "# Remove symmetric values and reshape to 2D"
   ]
  },
  {
   "cell_type": "markdown",
   "id": "79567dd2-c327-4c8b-b170-f8b5b6a5c184",
   "metadata": {},
   "source": [
    "## Reshape 2D grid to 1D row"
   ]
  },
  {
   "cell_type": "markdown",
   "id": "8b3fd872-30a6-41c5-abfe-f92546b1d379",
   "metadata": {},
   "source": [
    "Define a function to reduce the 2D SHAP grid to a single 1D row."
   ]
  },
  {
   "cell_type": "code",
   "execution_count": 36,
   "id": "104bd067-1208-4d3d-bfaa-00c21057fe40",
   "metadata": {},
   "outputs": [],
   "source": [
    "def reshape_triangle_to_row(arr):\n",
    "    \"\"\"\n",
    "    The values are symmetrical across a diagonal: \n",
    "    00 01 02 03 04 05 ...\n",
    "    01 11 12 13 14 15 ...\n",
    "    02 12 22 23 24 25 ... \n",
    "    03 13 23 33 34 35 ... \n",
    "    04 14 24 34 44 45 ... \n",
    "    05 15 25 35 45 55 ...\n",
    "    :: :: :: :: :: ::\n",
    "    So we can convert a 141x141 grid into a 1x19,881 row and retain \n",
    "    all of the information, *or* use the symmetry to ditch the \n",
    "    repeats and keep only a 1x10,011 row.\n",
    "    \"\"\"\n",
    "    \n",
    "    # Number of columns in this array: \n",
    "    n_cols = arr.shape[0]\n",
    "    \n",
    "    # Place the values in this list:\n",
    "    row = np.array([]) \n",
    "    \n",
    "    for col in range(n_cols): \n",
    "        # For first column, keep all values.\n",
    "        # For second, keep all except the first.\n",
    "        # For third, keep all except the first and second.\n",
    "        # ... for last column, keep only the final value. \n",
    "        \n",
    "        # The actual values to store: \n",
    "        values_to_keep = arr[col, col:] \n",
    "        \n",
    "        row = np.concatenate((row, values_to_keep))\n",
    "\n",
    "    return row "
   ]
  },
  {
   "cell_type": "markdown",
   "id": "912feba8-281c-4bfb-8df4-95da346500ee",
   "metadata": {},
   "source": [
    "Move the grid values into a row: "
   ]
  },
  {
   "cell_type": "code",
   "execution_count": 37,
   "id": "1977cf5f-7f12-44b6-8fda-6d33818b87f1",
   "metadata": {},
   "outputs": [
    {
     "name": "stdout",
     "output_type": "stream",
     "text": [
      "CPU times: user 998 µs, sys: 259 µs, total: 1.26 ms\n",
      "Wall time: 904 µs\n"
     ]
    }
   ],
   "source": [
    "%%time\n",
    "\n",
    "fake_array_short_row = reshape_triangle_to_row(fake_array[0])"
   ]
  },
  {
   "cell_type": "code",
   "execution_count": 38,
   "id": "54e302bc-88db-449d-b6ed-c03bb37b26cc",
   "metadata": {},
   "outputs": [
    {
     "data": {
      "text/plain": [
       "(10011,)"
      ]
     },
     "execution_count": 38,
     "metadata": {},
     "output_type": "execute_result"
    }
   ],
   "source": [
    "fake_array_short_row.shape"
   ]
  },
  {
   "cell_type": "code",
   "execution_count": 39,
   "id": "94741647-01e8-417a-be21-257bec8fc06b",
   "metadata": {},
   "outputs": [
    {
     "data": {
      "text/plain": [
       "80088"
      ]
     },
     "execution_count": 39,
     "metadata": {},
     "output_type": "execute_result"
    }
   ],
   "source": [
    "fake_array_short_row.nbytes"
   ]
  },
  {
   "cell_type": "code",
   "execution_count": 40,
   "id": "475687f7-d612-4b42-b0e0-734db4976b52",
   "metadata": {},
   "outputs": [
    {
     "name": "stdout",
     "output_type": "stream",
     "text": [
      "Grid size | Short row size | Ratio of old to new\n",
      "  159048  |      80088     | 50.35%\n"
     ]
    }
   ],
   "source": [
    "size_grid = fake_array[0].nbytes\n",
    "size_short_row = fake_array_short_row.nbytes\n",
    "\n",
    "print('Grid size | Short row size | Ratio of old to new')\n",
    "print(f'  {size_grid}  |      {size_short_row}     | ' + \n",
    "      f'{100*size_short_row/size_grid:4.2f}%')"
   ]
  },
  {
   "cell_type": "markdown",
   "id": "2f3ae961-9adc-4aa6-8f27-36ee66b3eb38",
   "metadata": {},
   "source": [
    "## Reshape the 1D row to a 2D grid with symmetry"
   ]
  },
  {
   "cell_type": "markdown",
   "id": "9caa303e-ed2d-4619-9a89-c0bb60e1128b",
   "metadata": {},
   "source": [
    "Define another function to restore that 1D row to a 2D grid."
   ]
  },
  {
   "cell_type": "code",
   "execution_count": 92,
   "id": "b23bbcde-1ff4-4592-a609-840352184dc0",
   "metadata": {},
   "outputs": [],
   "source": [
    "def reshape_row_to_sym_grid(row, n_cols=141, dtype=np.float64):\n",
    "    \"\"\"\n",
    "    Take a row of values [00, 01, 02, 03, ... ] and place them into\n",
    "    a grid with diagonal symmetry:\n",
    "    00 01 02 03 04 05 ...\n",
    "    01 11 12 13 14 15 ...\n",
    "    02 12 22 23 24 25 ... \n",
    "    03 13 23 33 34 35 ... \n",
    "    04 14 24 34 44 45 ... \n",
    "    05 15 25 35 45 55 ...\n",
    "    :: :: :: :: :: ::\n",
    "    \"\"\"\n",
    "    # Sanity check that this row will fit in the required grid: \n",
    "    if len(row) != np.sum(np.arange(1, n_cols+1, 1)):\n",
    "        raise ValueError(\n",
    "            f'This row can\\'t fit into a {n_cols}x{n_cols} grid.')\n",
    "            \n",
    "    # Create a new empty grid:\n",
    "    grid = np.zeros((n_cols, n_cols), dtype=dtype)\n",
    "    \n",
    "    # Fill the grid with data from input row.\n",
    "    # Keep track of how many values in the row are put in the grid:\n",
    "    values_moved_to_grid = 0\n",
    "    for col in range(0, n_cols):\n",
    "        n_values_to_move_here = n_cols - col \n",
    "        \n",
    "        values_to_move = row[values_moved_to_grid:(values_moved_to_grid + \n",
    "                                                   n_values_to_move_here)]\n",
    "        grid[col, col:] = values_to_move\n",
    "        grid[col:, col] = values_to_move\n",
    "        \n",
    "        values_moved_to_grid += n_values_to_move_here\n",
    "    \n",
    "    return grid"
   ]
  },
  {
   "cell_type": "markdown",
   "id": "e36d62da-1308-4a2a-97fd-1913a5e7cfa0",
   "metadata": {},
   "source": [
    "Restore the row to a grid:"
   ]
  },
  {
   "cell_type": "code",
   "execution_count": 42,
   "id": "75d42f17-c026-4769-8226-b2a51908ebc9",
   "metadata": {},
   "outputs": [
    {
     "name": "stdout",
     "output_type": "stream",
     "text": [
      "CPU times: user 456 µs, sys: 118 µs, total: 574 µs\n",
      "Wall time: 416 µs\n"
     ]
    }
   ],
   "source": [
    "%%time\n",
    "\n",
    "fake_array_sym_grid = reshape_row_to_sym_grid(fake_array_short_row, n_cols=141)"
   ]
  },
  {
   "cell_type": "code",
   "execution_count": 43,
   "id": "e97e07dc-cb79-49cd-ade8-94e851edaf3f",
   "metadata": {},
   "outputs": [
    {
     "data": {
      "text/plain": [
       "(141, 141)"
      ]
     },
     "execution_count": 43,
     "metadata": {},
     "output_type": "execute_result"
    }
   ],
   "source": [
    "fake_array_sym_grid.shape"
   ]
  },
  {
   "cell_type": "code",
   "execution_count": 44,
   "id": "4741cc4c-334b-4d92-9d23-ea92574b1b44",
   "metadata": {},
   "outputs": [
    {
     "data": {
      "text/plain": [
       "159048"
      ]
     },
     "execution_count": 44,
     "metadata": {},
     "output_type": "execute_result"
    }
   ],
   "source": [
    "fake_array_sym_grid.nbytes"
   ]
  },
  {
   "cell_type": "markdown",
   "id": "cfa48826-5a6a-4a4f-83f3-5c8f3d80a7f1",
   "metadata": {},
   "source": [
    "Check that this restored grid matches the original:"
   ]
  },
  {
   "cell_type": "code",
   "execution_count": 45,
   "id": "20530a22-57f4-4c36-bc24-27587a3f32bb",
   "metadata": {},
   "outputs": [
    {
     "data": {
      "text/plain": [
       "True"
      ]
     },
     "execution_count": 45,
     "metadata": {},
     "output_type": "execute_result"
    }
   ],
   "source": [
    "np.all(fake_array_sym_grid == fake_array[0])"
   ]
  },
  {
   "cell_type": "markdown",
   "id": "b708241c-52f4-4106-b970-0f1fde28d52f",
   "metadata": {},
   "source": [
    "# Change dtype"
   ]
  },
  {
   "cell_type": "markdown",
   "id": "234f3ed0-e334-487d-ad4e-ffb9d0287190",
   "metadata": {},
   "source": [
    "Data was originally in float32 (double). Reduce the stored precision by converting it to float16 (single):"
   ]
  },
  {
   "cell_type": "code",
   "execution_count": 46,
   "id": "be9f2a3d-b2b7-43bc-86d1-4d3f834c6f9a",
   "metadata": {},
   "outputs": [
    {
     "name": "stdout",
     "output_type": "stream",
     "text": [
      "Original size | Reduced size | Ratio of old to new\n",
      "  159048000   |   39762000   | 25.0%\n"
     ]
    }
   ],
   "source": [
    "size_f32 = fake_array.nbytes\n",
    "size_f16 = fake_array.astype(np.float16).nbytes\n",
    "\n",
    "print('Original size | Reduced size | Ratio of old to new')\n",
    "print(f'  {size_f32}   |   {size_f16}   | {100*size_f16/size_f32}%')"
   ]
  },
  {
   "cell_type": "markdown",
   "id": "19fcfeaf-594b-44c8-9f2b-7c90cf938746",
   "metadata": {},
   "source": [
    "Check the grid: "
   ]
  },
  {
   "cell_type": "code",
   "execution_count": 47,
   "id": "c54bb208-6815-46be-80bf-5b01868763d1",
   "metadata": {},
   "outputs": [
    {
     "data": {
      "text/plain": [
       "array([[0.4465, 1.012 , 1.565 , ..., 1.17  , 1.068 , 1.529 ],\n",
       "       [1.012 , 1.101 , 1.254 , ..., 0.8364, 1.276 , 1.535 ],\n",
       "       [1.565 , 1.254 , 0.3174, ..., 0.5176, 0.3518, 1.539 ],\n",
       "       ...,\n",
       "       [1.17  , 0.8364, 0.5176, ..., 0.0852, 0.795 , 1.281 ],\n",
       "       [1.068 , 1.276 , 0.3518, ..., 0.795 , 1.483 , 1.034 ],\n",
       "       [1.529 , 1.535 , 1.539 , ..., 1.281 , 1.034 , 1.449 ]],\n",
       "      dtype=float16)"
      ]
     },
     "execution_count": 47,
     "metadata": {},
     "output_type": "execute_result"
    }
   ],
   "source": [
    "fake_array[0].astype(np.float16)"
   ]
  },
  {
   "cell_type": "markdown",
   "id": "8b9fed12-c634-4ae0-a9b0-65b6ca145f79",
   "metadata": {},
   "source": [
    "We've lost all of the data after four significant figures."
   ]
  },
  {
   "cell_type": "markdown",
   "id": "f7ec807e-5930-4026-ae2f-49b1999aa144",
   "metadata": {},
   "source": [
    "Save with pickle:"
   ]
  },
  {
   "cell_type": "code",
   "execution_count": 48,
   "id": "2be0e767-463c-4c8c-a5a0-ccd7e80f0ae2",
   "metadata": {},
   "outputs": [],
   "source": [
    "with open('fakearray_float16_frompickle.p', 'wb') as filehandler:\n",
    "    pickle.dump(fake_array.astype(np.float16), filehandler)"
   ]
  },
  {
   "cell_type": "markdown",
   "id": "27a8e751-8ad2-4702-9ecc-7aa69d21df66",
   "metadata": {},
   "source": [
    "# Combine the biggest gains\n",
    "\n",
    "Use the array at the beginning and make these changes:\n",
    "\n",
    "+ Store as `np.float16`\n",
    "+ Flatten grids to rows and remove repeats\n",
    "+ Save with `h5`"
   ]
  },
  {
   "cell_type": "markdown",
   "id": "bd6a2ff4-5d45-4494-825d-478a361a2b00",
   "metadata": {},
   "source": [
    "Build the array to save:"
   ]
  },
  {
   "cell_type": "code",
   "execution_count": 49,
   "id": "e906ccca-c803-4ffb-bd52-393e6d404973",
   "metadata": {},
   "outputs": [],
   "source": [
    "combo_array = []\n",
    "\n",
    "for i in range(fake_array.shape[0]):\n",
    "    combo_array.append(\n",
    "        reshape_triangle_to_row(\n",
    "            fake_array[i].astype(np.float16)\n",
    "        )\n",
    "    )\n",
    "\n",
    "combo_array = np.array(combo_array)"
   ]
  },
  {
   "cell_type": "markdown",
   "id": "5a35a71c-a6e1-4c8e-a96a-91b59bc5d0a2",
   "metadata": {},
   "source": [
    "## pickle:"
   ]
  },
  {
   "cell_type": "code",
   "execution_count": 50,
   "id": "293288c9-3d07-4104-9ddc-6d20a17c19c3",
   "metadata": {},
   "outputs": [],
   "source": [
    "with open('fakearray_combo.p', 'wb') as filehandler:\n",
    "    pickle.dump(combo_array.astype(np.float16), filehandler)"
   ]
  },
  {
   "cell_type": "markdown",
   "id": "418039bb-7534-4b5d-955b-ee8c5f424a1b",
   "metadata": {},
   "source": [
    "Load the pickled file:"
   ]
  },
  {
   "cell_type": "code",
   "execution_count": 93,
   "id": "4b5f1fa6-0f7a-43bd-af9c-f03d908cc7eb",
   "metadata": {},
   "outputs": [],
   "source": [
    "with open('fakearray_combo.p', 'rb') as filehandler:\n",
    "    combo_array_from_pickle = pickle.load(filehandler).astype(np.float16)"
   ]
  },
  {
   "cell_type": "markdown",
   "id": "6abe7e82-e5f3-4df2-ab3f-f839e46255d3",
   "metadata": {},
   "source": [
    "Check the size in memory now: "
   ]
  },
  {
   "cell_type": "code",
   "execution_count": 83,
   "id": "a20531ca-6ec3-47c6-abc0-6d8ebaec958a",
   "metadata": {},
   "outputs": [
    {
     "data": {
      "text/plain": [
       "20022000"
      ]
     },
     "execution_count": 83,
     "metadata": {},
     "output_type": "execute_result"
    }
   ],
   "source": [
    "combo_array_from_pickle.nbytes"
   ]
  },
  {
   "cell_type": "markdown",
   "id": "cf616084-035e-457c-bec0-2d14da6aaa97",
   "metadata": {},
   "source": [
    "Same as the size of the saved file."
   ]
  },
  {
   "cell_type": "markdown",
   "id": "1929da63-e494-4c2f-a032-b3e64b5c79b2",
   "metadata": {},
   "source": [
    "## `h5`:"
   ]
  },
  {
   "cell_type": "code",
   "execution_count": 53,
   "id": "5acdb955-c940-4989-b211-616af7b82778",
   "metadata": {},
   "outputs": [],
   "source": [
    "with h5py.File('fakearray_combo.hdf5', 'w') as f:\n",
    "    # Create an empty dataset...\n",
    "    dset = f.create_dataset('combo_array', combo_array.shape, dtype='float16')\n",
    "    # ... and then fill it with values from our array.\n",
    "    dset[...] = combo_array"
   ]
  },
  {
   "cell_type": "markdown",
   "id": "83a4aa01-808f-4fd1-86f7-a2b5881b1b14",
   "metadata": {},
   "source": [
    "Load the array back in: "
   ]
  },
  {
   "cell_type": "code",
   "execution_count": 54,
   "id": "a67620f0-d017-4c04-a0c2-ecc16b287eaa",
   "metadata": {},
   "outputs": [],
   "source": [
    "with h5py.File('fakearray_combo.hdf5', 'r') as f:\n",
    "    dset = f['combo_array']\n",
    "    \n",
    "    # Convert to numpy array:\n",
    "    combo_array_from_h5 = dset[:] "
   ]
  },
  {
   "cell_type": "markdown",
   "id": "2091d92e-5576-428a-92eb-99c99bb8f4d6",
   "metadata": {},
   "source": [
    "Check the size in memory now: "
   ]
  },
  {
   "cell_type": "code",
   "execution_count": 55,
   "id": "195895af-78f2-44a5-8869-2d27e4a7efe1",
   "metadata": {},
   "outputs": [
    {
     "data": {
      "text/plain": [
       "20022000"
      ]
     },
     "execution_count": 55,
     "metadata": {},
     "output_type": "execute_result"
    }
   ],
   "source": [
    "combo_array_from_h5.nbytes"
   ]
  },
  {
   "cell_type": "markdown",
   "id": "eff7cd52-f63e-4a0f-a54a-7d02b9c000a4",
   "metadata": {},
   "source": [
    "Same as the size of the saved file."
   ]
  },
  {
   "cell_type": "markdown",
   "id": "1796d375-2f29-4928-83b6-3597eb537322",
   "metadata": {},
   "source": [
    "## Recover the original array from the pickled file:"
   ]
  },
  {
   "cell_type": "code",
   "execution_count": 94,
   "id": "7ddf423e-b859-4e2b-bae1-51e13831ae24",
   "metadata": {},
   "outputs": [],
   "source": [
    "# Convert the array to a list to more easily overwrite the values:\n",
    "combo_array_from_pickle = list(combo_array_from_pickle)\n",
    "\n",
    "for i, short_row in enumerate(combo_array_from_pickle):\n",
    "    grid = reshape_row_to_sym_grid(short_row, n_cols=141, dtype=np.float16)\n",
    "    # Overwrite the short row with the grid:\n",
    "    combo_array_from_pickle[i] = grid\n",
    "    \n",
    "# Convert back to array:\n",
    "combo_array_from_pickle = np.array(combo_array_from_pickle)"
   ]
  },
  {
   "cell_type": "markdown",
   "id": "7a446a70-9156-44f6-afe8-132935be82f2",
   "metadata": {},
   "source": [
    "Check that it's recovered completely:"
   ]
  },
  {
   "cell_type": "code",
   "execution_count": 95,
   "id": "03c5ce8e-fa10-4643-808c-5e0eca29edb2",
   "metadata": {},
   "outputs": [
    {
     "data": {
      "text/plain": [
       "(1000, 141, 141)"
      ]
     },
     "execution_count": 95,
     "metadata": {},
     "output_type": "execute_result"
    }
   ],
   "source": [
    "combo_array_from_pickle.shape"
   ]
  },
  {
   "cell_type": "code",
   "execution_count": 96,
   "id": "68aa2cc2-7f1f-478b-b6f0-5af75631cd1a",
   "metadata": {},
   "outputs": [
    {
     "data": {
      "text/plain": [
       "True"
      ]
     },
     "execution_count": 96,
     "metadata": {},
     "output_type": "execute_result"
    }
   ],
   "source": [
    "np.all(combo_array_from_pickle == fake_array.astype(np.float16))"
   ]
  }
 ],
 "metadata": {
  "kernelspec": {
   "display_name": "Python 3 (ipykernel)",
   "language": "python",
   "name": "python3"
  },
  "language_info": {
   "codemirror_mode": {
    "name": "ipython",
    "version": 3
   },
   "file_extension": ".py",
   "mimetype": "text/x-python",
   "name": "python",
   "nbconvert_exporter": "python",
   "pygments_lexer": "ipython3",
   "version": "3.8.15"
  }
 },
 "nbformat": 4,
 "nbformat_minor": 5
}
