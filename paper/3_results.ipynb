{
 "cells": [
  {
   "cell_type": "markdown",
   "id": "1aea2423-20fe-4339-8c8e-a928a8bd9558",
   "metadata": {},
   "source": [
    "# Results"
   ]
  },
  {
   "cell_type": "markdown",
   "id": "b4dfe6ca-6d71-4b5f-8994-011700a4eed4",
   "metadata": {},
   "source": [
    "## Variation in thrombolysis use\n",
    "\n",
    "Thrombolysis use in the original data varied between hospitals, from 1.5% to 24.3% of all patients, and 7.3% to 49.7% of patients arriving within 4 hours of known stroke onset."
   ]
  },
  {
   "cell_type": "markdown",
   "id": "3d483c1b-23e4-454d-b62a-9bcb4e78511a",
   "metadata": {},
   "source": [
    "## Feature selection\n",
    "\n",
    "25 features were selected by identifying one feature at a time that led to greatest improvement in Receiver Operating Characteristic (ROC) Area Under Curve (AUC). ROC AUC was measured using stratified 5-fold cross validation.\n",
    "\n",
    "The best model with 1, 2, 5, 10, 25 & all features (60 features before one-hot encoding of fields) had ROC AUCs of 0.715, 0.792, 0.891, 0.919, 0.923 & 0.922. We selected 10 features for all subsequent work, which were:\n",
    "\n",
    "* Arrival-to-scan time: Time from arrival at hospital to scan (mins)\n",
    "* Infarction: Stroke type (1 = infarction, 0 = haemorrhage)\n",
    "* Stroke severity: Stroke severity (NIHSS) on arrival\n",
    "* Precise onset time: Onset time type (1 = precise, 0 = best estimate)\n",
    "* Prior disability level: Disability level (modified Rankin Scale) before stroke\n",
    "* Stroke team: Stroke team attended\n",
    "* Use of AF anticoagulants: Use of atrial fibrillation anticoagulant (1 = Yes, 0 = No)\n",
    "* Onset-to-arrival time: Time from onset of stroke to arrival at hospital (mins)\n",
    "* Onset during sleep: Did stroke occur in sleep?\n",
    "* Age: Age (as middle of 5 year age bands)\n",
    "\n",
    "### Correlations within the 10 features\n",
    "\n",
    "Correlations between the 10 features were measured using coefficients of determination (r-squared). All r-squared were less than 0.15, and all r-squared were less than 0.05 except 1) age and prior disability level (r-squared 0.146), and 2) onset during sleep and precise onset time (r-squared 0.078)."
   ]
  },
  {
   "cell_type": "markdown",
   "id": "b9ade41c-f0ae-4852-b550-e14d1cdbe7bb",
   "metadata": {},
   "source": [
    "## Model accuracy\n",
    "\n",
    "Model accuracy was measured using stratified 5-fold cross validation. The key results are shown below.\n",
    "\n",
    "| measurement                      | mean  | std   |\n",
    "|----------------------------------|-------|-------|\n",
    "| actual positive rate             | 0.296 | 0.000 |\n",
    "| actual negative rate             | 0.704 | 0.000 |\n",
    "| predicted positive rate          | 0.294 | 0.002 |\n",
    "| predicted negative rate          | 0.706 | 0.002 |\n",
    "| accuracy                         | 0.850 | 0.004 |\n",
    "| sensitivity (recall)             | 0.743 | 0.004 |\n",
    "| specificity                      | 0.894 | 0.004 |\n",
    "| precision                        | 0.747 | 0.007 |\n",
    "| ROC AUC                          | 0.918 | 0.003 |\n",
    "| Balanced sensitivity/specificity | 0.839 | 0.003 |"
   ]
  },
  {
   "cell_type": "markdown",
   "id": "5df56b49-ece0-4b78-8d77-4cd12d301d89",
   "metadata": {},
   "source": [
    "Overall accuracy was 85.0% (83.9% sensitivity and specificity could be achieved simultaneously). The ROC AUC was 0.918. The model predicted hospital thrombolysis use at each hospital with very good accuracy (r-squared = 0.977).\n",
    "\n",
    "The appendix contains results for model validation of hospital thrombolysis curves, evaluation of variation in model prediction using bagging, learning rates, model calibration, and fine-tuning of model regularisation."
   ]
  },
  {
   "cell_type": "markdown",
   "id": "fa0f6327-b0e3-4643-9cd6-95e58feaf25e",
   "metadata": {},
   "source": [
    "## An analysis of the characteristics of the most thrombolysable patient at each hospital\n",
    "\n",
    "We identified the patient with the highest probability of thrombolysis (taken from 5-fold combined test set results) at each hospital, and compared the feature values of those patients to:\n",
    "\n",
    "* All patients\n",
    "* All patients who had received thrombolysis\n",
    "* All patients who had not received thrombolysis\n",
    "\n",
    "<img src=\"./images/02a_most_thrombolsyable_violin.jpg\" width=\"600\"/>\n",
    "\n",
    "*Violin plots comparing feature values between the patient with the highest probability of thrombolysis at each hospital with all patients, all patients who had received thrombolysis, and all patients who had not received thrombolysis. Horizontal lines show the mean value of each group.*\n",
    "\n",
    "Compared with the other groups, the most thrombolysable patients ....\n",
    "\n",
    "* Had shorter arrrival-to-scan times\n",
    "* Had an infarction stroke type\n",
    "* Had stroke servities with NIHR 5-25\n",
    "* Had a precise onset time\n",
    "* Had lower pre-stroke disability\n",
    "* Were not taking anticoagulant medication\n",
    "* Had shorter onset-to-arrival times\n",
    "* Did not have onset during sleep\n",
    "* Were younger"
   ]
  },
  {
   "cell_type": "markdown",
   "id": "edee0df4-b50e-4bc2-bf3a-d1e725e44428",
   "metadata": {},
   "source": [
    "## Explaining model predictions with SHAP"
   ]
  },
  {
   "cell_type": "markdown",
   "id": "db314e67-24cc-4969-a57f-296c87928de3",
   "metadata": {},
   "source": [
    "### Waterfall plots for individual patient predictions\n",
    "\n",
    "Waterfall plots show the influence of features for an individual prediction. We generally handle SHAP values as how they affect log odds of receiving thrombolysis, but for individual predictions, probability plots are more intuitive. The examples below are for a patient with low (top) and high (bottom) probability of receiving thrombolysis. The model starts with a base prediction of a 24% probability of receiving thrombolysis, before feature values are taken into account. For the patient with a low probability of receiving thrombolysis, the two most influential features reducing the probability of receiving thrombolysis are a long arrival-to-scan time (138 minutes) and a low stroke severity (NIHSS=2). For the patient with a high probability of receiving thrombolysis, the two most influential features increading the probability of receiving thrombolysis are a short arrival-to-scan time (17 minutes) and a moderate stroke severity (NIHSS=14). \n",
    "\n",
    "<img src=\"./images/waterfall.jpg\" width=\"500\"/>\n",
    "\n",
    "*Waterfall plots showing the influence of each feature on the predicted probability of a single patient receiving thrombolysis. Top: An example of a patient with a low probability (2.6%) of receiving thrombolysis. Bottom: An example of a patient with a high probability (95.7%) of receiving thrombolysis.*"
   ]
  },
  {
   "cell_type": "markdown",
   "id": "e4ab0874-b05a-4584-aa78-9b3bd79a9688",
   "metadata": {},
   "source": [
    "### The relationship between feature values and the odds of receiving thrombolysis\n",
    "\n",
    "SHAP values provide the influence of each feature, as the change in log-odds of receiving thrombolysis. SHAP values expressed as log-odds are additive.\n",
    "\n",
    "Violin plots show the relationship between feature values and SHAP values for individual patients (the bar in each violin shows the median value). Key observations are:\n",
    "\n",
    "* Stroke type: As expected,  the SHAP values for stroke types effectively eliminated any chance of receiving thrombolysis for non-ischaemic (haemorrhagic) stroke.\n",
    "\n",
    "* Arrival-to-scan time: The odds of receiving thrombolysis reduced by about 20 fold over the first 100 minutes of arrival to scan time.\n",
    "\n",
    "* Stroke severity (NIHSS): The odds of receiving thrombolysis was lowest at NIHSS 0, rose and peakws at NIHSS 15-25, and then fell again with higher stroke severity. The difference between minimum odds (at NIHSS 0) and maximum odds (at 15-25) of receiving thrombolysis was 30-35 fold.\n",
    "\n",
    "* Stroke onset time type (precise vs. estimated): The odds of receiving thrombolysis were about 3 fold greater for precise onset time than estimated onset time.\n",
    "\n",
    "* Disability level (Rankin) before stroke. The odds of receiving thrombolysis fell about 5 fold between mRS 0 and 5.\n",
    "\n",
    "<img src=\"../xgb_10_features/output/03_xgb_10_features_thrombolysis_shap_violin.jpg\" width=\"800\"/>\n",
    "\n",
    "*Violin plots showing the relationship between SHAP values and feature values. The horizontal line shows the median SHAP value. SHAP values were taken from the training set of the first of 5 k-fold train/test splits.*"
   ]
  },
  {
   "cell_type": "markdown",
   "id": "d48fc248-6313-4b45-8ab5-71a933a3a1a9",
   "metadata": {},
   "source": [
    "### Hospital SHAP values\n",
    "\n",
    "When examining SHAP, we took the hospital SHAP values for patients attending each hospital. If we examined the hospital SHAP for all patients, it would be dominated by those not-attending each hospital (i.e. coded zero in the one-hot encoding). When we examined the hospital SHAP values only for patients attending each hospital, the hospital SHAP values ranged from -1.4 to +1.4. This range of SHAP (log odds) represents a 15 fold difference in odds of receiving thrombolysis (most are in the range of -1 to +1, but this still represents a 7-8 fold difference in odds of receiving thrombolysis).\n",
    "\n",
    "We compared the hospital SHAP value with the observed thrombolysis use at each hospital. Hospital SHAP correlated with observed thrombolysis rate with an r-squared of 0.582, suggesting that 58% (P<0.0001) of the between-hospital variance in thrombolysis use may be explained by the hospitals' SHAP values, that is the hospitals' predisposition to use thrombolysis.\n",
    "\n",
    "When using the 10k cohort, changing the one-hot encoding to mimic all patients attending each of the 132 hospitals, we found that the median hospital SHAP value for the 10k patients correlated very closely with the predicted thrombolysis use in the 10k cohort at each hospital (r-squared = 0.947), confirming that the hospital SHAP is providing a key insight into a hospital's propensity to use thrombolysis.\n",
    "\n",
    "<img src=\"./images/99_twin_correlation_scatter.jpg\" width=\"800\"/>\n",
    "\n",
    "*Correlation between median hospital SHAP value and thrombolysis use at each hospital. Left: Observed thrombolysis use at each hospital. Right: Predicted thrombolysis use if the same 10k cohort of patients attended each hospital.*"
   ]
  },
  {
   "cell_type": "markdown",
   "id": "4e2a4b3c-6030-4e71-ae99-aa6d70322321",
   "metadata": {},
   "source": [
    "### SHAP interactions\n",
    "\n",
    "SHAP values are composed of a *main effect* of a feature, and *interaction* with other features. The interaction may either strengthen or attenuate the main effect. For example the main effect of knowing a stroke onset time precisely is to increase the odds of receiving thrombolysis, as indicated by a positive SHAP values. Individual hospitals may selectively adjust the influence of knowing the stroke onset time precisely, with some teams strengthening the effect, leading to a larger difference in odds of receiving thrombolysis depending on whether stroke onset time is known precisely, whereas other teams will attenuate the main effect, leading to a smaller difference in odds of receiving thrombolysis.\n",
    "\n",
    "<img src=\"./images/12aa_three_way_shap_adjustment.jpg\" width=\"800\"/>\n",
    "\n",
    "*Adjustment of SHAP main effects by individual hospital. Each row first shows the main SHAP effect of the feature, then a hospital where the SHAP interaction attenuates the main effect, and finally a hospital where the SHAP interaction strengthens the main effect. Top row (red): main SHAP effect and adjusted SHAP values for precise stroke onset time. Middle row (green): main SHAP effect and adjusted SHAP values for stroke severity. Bottom row (blue): main SHAP effect and adjusted SHAP values for pre-stroke disability.*"
   ]
  },
  {
   "cell_type": "markdown",
   "id": "d33ce5f9-8388-43ba-a95d-54a392e62cf9",
   "metadata": {},
   "source": [
    "## Subgroup analysis\n",
    "\n",
    "We analysed the observed and predicted use of thrombolysis in subgroups of patients.Those groups are:\n",
    "\n",
    "  * An *'ideal'* thrombolysable patient:\n",
    "    * Stroke severity NIHSS in range 10-25\n",
    "    * Arrival-to-scan time < 30 minutes\n",
    "    * Stroke type = infarction\n",
    "    * Precise onset time = True\n",
    "    * Prior disability level (mRS) = 0\n",
    "    * No use of AF anticoagulants\n",
    "    * Onset-to-arrival time < 90 minutes\n",
    "    * Age < 80 years\n",
    "    * Onset during sleep = False\n",
    "  * Mild stroke severity (NIHSS < 5)\n",
    "  * No precise onset time\n",
    "  * Existing pre-stroke disability (mRS > 2)\n",
    "    \n",
    "For the observed thrombolysis use, data was limited to the patients attending each hospital. For the predicted thrombolysis use the predictions were based on the 10k patient cohort for all hospitals.\n",
    "\n",
    "The figure below shows a boxplot of either observed and predicted use of thrombolysis, broken down by subgroup.\n",
    "\n",
    "<img src=\"../xgb_10_features/output/15a_actual_vs_modelled_subgroup_violin.jpg\" width=\"600\"/>\n",
    "\n",
    "*Boxplot for either observed (top) or predicted (bottom) use of thrombolysis for subgroups of patients.*\n",
    "\n",
    "The three subgroups of NIHSS <5, no precise stroke onset time, and pre-stroke mRS > 2, all had reduced thrombolysis use, and combining these non-ideal features reduced thrombolysis use further.\n",
    "\n",
    "The observed and predicted thrombolysis use show the same general patterns, but some smalled differences existed:\n",
    "\n",
    "* The use of thrombolysis in *ideal* patients is a little low in the observed vs actual results (mean hospital thrombolysis use = 89% vs 99%).\n",
    "* The predicted results show a stronger effect of combining non-ideal features.\n",
    "* The observed thrombolysis rate shows higher between-hospital variation than the predicted thrombolysis rate. This may be partly explained by the observed thrombolysis rate being on different patients at each hospital, but may also be partly explained by actual use of thrombolysis being slightly more variable than predicted thrombolysis use (which will follow general hospital patterns, and will not include, for example, between-clinician variation at each hospital).\n",
    "\n",
    "When we looked at thrombolysis use in subgroups at each hospital we see that the observed thrombolysis use tended to reduce in parallel, along with total thrombolysis use, suggesting a shared caution in use of thrombolysis in 'less ideal' patients. "
   ]
  }
 ],
 "metadata": {
  "kernelspec": {
   "display_name": "Python 3 (ipykernel)",
   "language": "python",
   "name": "python3"
  },
  "language_info": {
   "codemirror_mode": {
    "name": "ipython",
    "version": 3
   },
   "file_extension": ".py",
   "mimetype": "text/x-python",
   "name": "python",
   "nbconvert_exporter": "python",
   "pygments_lexer": "ipython3",
   "version": "3.9.12"
  },
  "vscode": {
   "interpreter": {
    "hash": "b368e36a85415766688ec72e3e874a4b525584eabf4bf7122952a4e0fd64fcde"
   }
  }
 },
 "nbformat": 4,
 "nbformat_minor": 5
}
