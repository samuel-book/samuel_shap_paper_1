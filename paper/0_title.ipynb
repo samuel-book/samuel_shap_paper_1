{
 "cells": [
  {
   "cell_type": "markdown",
   "metadata": {},
   "source": [
    "# Using explainable machine learning to understand variation in thrombolysis practice\n",
    "\n",
    "Kerry Pearn [1,2], Anna Laws [1,2], Richard Everson [3], Martin James [2,4], Michael Allen [1,4]\n",
    "\n",
    "[1] University of Exeter Medical School \\\n",
    "[2] NIHR South West Peninsula Applied Research Collaboration (ARC) \\\n",
    "[3] Computer Science, University of Exeter \\\n",
    "[4] Royal Devon and Exeter NHS Foundation Trust"
   ]
  }
 ],
 "metadata": {
  "kernelspec": {
   "display_name": "Python 3 (ipykernel)",
   "language": "python",
   "name": "python3"
  },
  "language_info": {
   "codemirror_mode": {
    "name": "ipython",
    "version": 3
   },
   "file_extension": ".py",
   "mimetype": "text/x-python",
   "name": "python",
   "nbconvert_exporter": "python",
   "pygments_lexer": "ipython3",
   "version": "3.9.12"
  },
  "vscode": {
   "interpreter": {
    "hash": "b368e36a85415766688ec72e3e874a4b525584eabf4bf7122952a4e0fd64fcde"
   }
  }
 },
 "nbformat": 4,
 "nbformat_minor": 4
}
