{
 "cells": [
  {
   "cell_type": "markdown",
   "id": "340334e5",
   "metadata": {},
   "source": [
    "# XGBoost feature selection, including time left to thrombolyse and removal of onset-to-arrival and arrival-to-scan"
   ]
  },
  {
   "cell_type": "markdown",
   "id": "a12b1cfb",
   "metadata": {},
   "source": [
    "## Aims\n",
    "\n",
    "* Include 'time left to thrombolyse after scan' in features. This is equal to *270 - (onset-to-arrival + arrival-to-scan)*. Then remove onset-to-arrival and arrival-to-scan.\n",
    "* Select up to 10 features using forward feature selection. Features are selected sequentially, choosing the feature that leads to most improvement in ROC AUC score."
   ]
  },
  {
   "cell_type": "markdown",
   "id": "aca30286",
   "metadata": {},
   "source": [
    "## Import libraries"
   ]
  },
  {
   "cell_type": "code",
   "execution_count": 1,
   "id": "eee409e0",
   "metadata": {
    "tags": []
   },
   "outputs": [],
   "source": [
    "# Turn warnings off to keep notebook tidy\n",
    "import warnings\n",
    "warnings.filterwarnings(\"ignore\")\n",
    "\n",
    "import os\n",
    "import matplotlib.pyplot as plt\n",
    "import numpy as np\n",
    "import pandas as pd\n",
    "\n",
    "from xgboost import XGBClassifier\n",
    "from sklearn.metrics import auc\n",
    "from sklearn.metrics import roc_curve"
   ]
  },
  {
   "cell_type": "markdown",
   "id": "4f166bdf-870b-499b-bcbe-ff00fd9b3e5c",
   "metadata": {},
   "source": [
    "## Create output folder if needed"
   ]
  },
  {
   "cell_type": "code",
   "execution_count": 2,
   "id": "37755327-1974-4049-9db8-e1dd16c43cc7",
   "metadata": {},
   "outputs": [],
   "source": [
    "path = './output'\n",
    "if not os.path.exists(path):\n",
    "    os.makedirs(path)"
   ]
  },
  {
   "cell_type": "markdown",
   "id": "574dc5cc",
   "metadata": {},
   "source": [
    "## Import data\n",
    "\n",
    "Data has previously been split into 5 stratified k-fold splits."
   ]
  },
  {
   "cell_type": "code",
   "execution_count": 3,
   "id": "c9211904",
   "metadata": {
    "tags": [
     "remove-output"
    ]
   },
   "outputs": [],
   "source": [
    "data_loc = '../data/kfold_5fold/'"
   ]
  },
  {
   "cell_type": "code",
   "execution_count": 4,
   "id": "0eaf7655",
   "metadata": {},
   "outputs": [],
   "source": [
    "train_data, test_data = [], []\n",
    "\n",
    "for i in range(5):\n",
    "    \n",
    "    train_data.append(pd.read_csv(data_loc + 'train_{0}.csv'.format(i)))\n",
    "    test_data.append(pd.read_csv(data_loc + 'test_{0}.csv'.format(i)))"
   ]
  },
  {
   "cell_type": "markdown",
   "id": "f449cd3c-46c6-4d14-a29b-6d824f16dc96",
   "metadata": {},
   "source": [
    "## Add time left to thrombolyse after scan & remove arrival and scan times"
   ]
  },
  {
   "cell_type": "code",
   "execution_count": 5,
   "id": "73b8d65f-b742-4560-8a37-d6bda6e757f9",
   "metadata": {},
   "outputs": [],
   "source": [
    "for i in range(5):\n",
    "    \n",
    "    cols_to_drop = ['S1OnsetToArrival_min', 'S2BrainImagingTime_min']\n",
    "    \n",
    "    train_data[i]['time_left_after_scan'] = (\n",
    "        270 - (train_data[i]['S1OnsetToArrival_min'] + \n",
    "               train_data[i]['S2BrainImagingTime_min']))\n",
    "    \n",
    "    train_data[i].drop(cols_to_drop, axis=1, inplace=True)    \n",
    "    \n",
    "    test_data[i]['time_left_after_scan'] = (\n",
    "        270 - (test_data[i]['S1OnsetToArrival_min'] + \n",
    "               test_data[i]['S2BrainImagingTime_min']))\n",
    "    \n",
    "    test_data[i].drop(cols_to_drop, axis=1, inplace=True) "
   ]
  },
  {
   "cell_type": "markdown",
   "id": "ca4a95d6-8384-4c28-a2ad-174a66014a1d",
   "metadata": {},
   "source": [
    "## Get list of features"
   ]
  },
  {
   "cell_type": "code",
   "execution_count": 6,
   "id": "7c4eb0d4-6aa9-4e30-af7d-4399d61f0863",
   "metadata": {},
   "outputs": [],
   "source": [
    "features = list(train_data[0])"
   ]
  },
  {
   "cell_type": "markdown",
   "id": "2bbcfc5f",
   "metadata": {},
   "source": [
    "## Fit model (k-fold)"
   ]
  },
  {
   "cell_type": "code",
   "execution_count": 7,
   "id": "a1895bfa",
   "metadata": {},
   "outputs": [
    {
     "name": "stdout",
     "output_type": "stream",
     "text": [
      "Feature  1: time_left_after_scan, AUC: 0.708\n",
      "Feature  2: S2StrokeType_Infarction, AUC: 0.787\n",
      "Feature  3: S2NihssArrival, AUC: 0.848\n",
      "Feature  4: S2RankinBeforeStroke, AUC: 0.871\n",
      "Feature  5: S1OnsetTimeType_Best estimate, AUC: 0.887\n",
      "Feature  6: StrokeTeam, AUC: 0.900\n",
      "Feature  7: AFAnticoagulent_Yes, AUC: 0.911\n",
      "Feature  8: S1OnsetDateType_Stroke during sleep, AUC: 0.913\n",
      "Feature  9: BestLanguage, AUC: 0.914\n",
      "Feature 10: AFAnticoagulentVitK_missing, AUC: 0.915\n"
     ]
    }
   ],
   "source": [
    "# Create list to store accuracies and chosen features\n",
    "roc_auc_by_feature_number = []\n",
    "roc_auc_k_fold_by_feature_number = []\n",
    "chosen_features = []\n",
    "\n",
    "# Initialise chosen features list and run tracker\n",
    "available_features = list(train_data[0].drop('S2Thrombolysis', axis=1))\n",
    "number_of_features = len(available_features)\n",
    "\n",
    "# Loop through number of features\n",
    "\n",
    "for i in range (10):\n",
    "    \n",
    "    # Reset best feature and accuracy\n",
    "    best_result = 0\n",
    "    best_feature = ''\n",
    "    \n",
    "    # Loop through available features\n",
    "    for feature in available_features:\n",
    "\n",
    "        # Create copy of already chosen features to avoid original being changed\n",
    "        features_to_use = chosen_features.copy()\n",
    "        # Create a list of features from features already chosen + 1 new feature\n",
    "        features_to_use.append(feature)\n",
    "        \n",
    "        # Set up lists to hold AUC results for each selected feature under test\n",
    "        test_auc_results = []\n",
    "        \n",
    "        # Loop through k folds\n",
    "        for k_fold in range(5):\n",
    "\n",
    "            # Get k fold split\n",
    "            train = train_data[k_fold]\n",
    "            test = test_data[k_fold]\n",
    "\n",
    "            # Get X and y\n",
    "            X_train = train.drop('S2Thrombolysis', axis=1)\n",
    "            X_test = test.drop('S2Thrombolysis', axis=1)\n",
    "            y_train = train['S2Thrombolysis']\n",
    "            y_test = test['S2Thrombolysis']\n",
    "            \n",
    "            # Restrict features\n",
    "            X_train = X_train[features_to_use]\n",
    "            X_test = X_test[features_to_use]\n",
    "    \n",
    "            # One hot encode hospitals if hospital in features used\n",
    "            if 'StrokeTeam' in features_to_use:\n",
    "                X_train_hosp = pd.get_dummies(\n",
    "                    X_train['StrokeTeam'], prefix = 'team')\n",
    "                X_train = pd.concat([X_train, X_train_hosp], axis=1)\n",
    "                X_train.drop('StrokeTeam', axis=1, inplace=True)\n",
    "                X_test_hosp = pd.get_dummies(\n",
    "                    X_test['StrokeTeam'], prefix = 'team')\n",
    "                X_test = pd.concat([X_test, X_test_hosp], axis=1)\n",
    "                X_test.drop('StrokeTeam', axis=1, inplace=True)    \n",
    "\n",
    "            # Define model\n",
    "            model = XGBClassifier(verbosity = 0, seed=42, learning_rate=0.5)\n",
    "\n",
    "            # Fit model\n",
    "            model.fit(X_train, y_train)\n",
    "\n",
    "            # Get predicted probabilities\n",
    "            y_probs = model.predict_proba(X_test)[:,1]\n",
    "            \n",
    "            # Get ROC AUC\n",
    "            fpr, tpr, thresholds = roc_curve(y_test, y_probs)\n",
    "            roc_auc = auc(fpr, tpr)\n",
    "            test_auc_results.append(roc_auc)\n",
    "        \n",
    "        # Get average result from all k-fold splits\n",
    "        feature_auc = np.mean(test_auc_results)\n",
    "    \n",
    "        # Update chosen feature and result if this feature is a new best\n",
    "        if feature_auc > best_result:\n",
    "            best_result = feature_auc\n",
    "            best_result_k_fold = test_auc_results\n",
    "            best_feature = feature\n",
    "            \n",
    "    # k-fold splits are complete    \n",
    "    # Add mean accuracy and AUC to record of accuracy by feature number\n",
    "    roc_auc_by_feature_number.append(best_result)\n",
    "    roc_auc_k_fold_by_feature_number.append(best_result_k_fold)\n",
    "    chosen_features.append(best_feature)\n",
    "    available_features.remove(best_feature)\n",
    "            \n",
    "    print (f'Feature {i+1:2.0f}: {best_feature}, AUC: {best_result:0.3f}')"
   ]
  },
  {
   "cell_type": "code",
   "execution_count": 8,
   "id": "7caa2b56-d156-4997-997d-8dc01b208eea",
   "metadata": {},
   "outputs": [
    {
     "data": {
      "text/html": [
       "<div>\n",
       "<style scoped>\n",
       "    .dataframe tbody tr th:only-of-type {\n",
       "        vertical-align: middle;\n",
       "    }\n",
       "\n",
       "    .dataframe tbody tr th {\n",
       "        vertical-align: top;\n",
       "    }\n",
       "\n",
       "    .dataframe thead th {\n",
       "        text-align: right;\n",
       "    }\n",
       "</style>\n",
       "<table border=\"1\" class=\"dataframe\">\n",
       "  <thead>\n",
       "    <tr style=\"text-align: right;\">\n",
       "      <th></th>\n",
       "      <th>number_features</th>\n",
       "      <th>feature</th>\n",
       "      <th>AUC</th>\n",
       "      <th>AUC_Std</th>\n",
       "    </tr>\n",
       "  </thead>\n",
       "  <tbody>\n",
       "    <tr>\n",
       "      <th>0</th>\n",
       "      <td>1</td>\n",
       "      <td>time_left_after_scan</td>\n",
       "      <td>0.708390</td>\n",
       "      <td>0.003263</td>\n",
       "    </tr>\n",
       "    <tr>\n",
       "      <th>1</th>\n",
       "      <td>2</td>\n",
       "      <td>S2StrokeType_Infarction</td>\n",
       "      <td>0.787110</td>\n",
       "      <td>0.004032</td>\n",
       "    </tr>\n",
       "    <tr>\n",
       "      <th>2</th>\n",
       "      <td>3</td>\n",
       "      <td>S2NihssArrival</td>\n",
       "      <td>0.847513</td>\n",
       "      <td>0.002918</td>\n",
       "    </tr>\n",
       "    <tr>\n",
       "      <th>3</th>\n",
       "      <td>4</td>\n",
       "      <td>S2RankinBeforeStroke</td>\n",
       "      <td>0.870545</td>\n",
       "      <td>0.002090</td>\n",
       "    </tr>\n",
       "    <tr>\n",
       "      <th>4</th>\n",
       "      <td>5</td>\n",
       "      <td>S1OnsetTimeType_Best estimate</td>\n",
       "      <td>0.886981</td>\n",
       "      <td>0.001939</td>\n",
       "    </tr>\n",
       "    <tr>\n",
       "      <th>5</th>\n",
       "      <td>6</td>\n",
       "      <td>StrokeTeam</td>\n",
       "      <td>0.899754</td>\n",
       "      <td>0.002208</td>\n",
       "    </tr>\n",
       "    <tr>\n",
       "      <th>6</th>\n",
       "      <td>7</td>\n",
       "      <td>AFAnticoagulent_Yes</td>\n",
       "      <td>0.911309</td>\n",
       "      <td>0.002020</td>\n",
       "    </tr>\n",
       "    <tr>\n",
       "      <th>7</th>\n",
       "      <td>8</td>\n",
       "      <td>S1OnsetDateType_Stroke during sleep</td>\n",
       "      <td>0.913395</td>\n",
       "      <td>0.001913</td>\n",
       "    </tr>\n",
       "    <tr>\n",
       "      <th>8</th>\n",
       "      <td>9</td>\n",
       "      <td>BestLanguage</td>\n",
       "      <td>0.914444</td>\n",
       "      <td>0.001836</td>\n",
       "    </tr>\n",
       "    <tr>\n",
       "      <th>9</th>\n",
       "      <td>10</td>\n",
       "      <td>AFAnticoagulentVitK_missing</td>\n",
       "      <td>0.915102</td>\n",
       "      <td>0.001837</td>\n",
       "    </tr>\n",
       "  </tbody>\n",
       "</table>\n",
       "</div>"
      ],
      "text/plain": [
       "   number_features                              feature       AUC   AUC_Std\n",
       "0                1                 time_left_after_scan  0.708390  0.003263\n",
       "1                2              S2StrokeType_Infarction  0.787110  0.004032\n",
       "2                3                       S2NihssArrival  0.847513  0.002918\n",
       "3                4                 S2RankinBeforeStroke  0.870545  0.002090\n",
       "4                5        S1OnsetTimeType_Best estimate  0.886981  0.001939\n",
       "5                6                           StrokeTeam  0.899754  0.002208\n",
       "6                7                  AFAnticoagulent_Yes  0.911309  0.002020\n",
       "7                8  S1OnsetDateType_Stroke during sleep  0.913395  0.001913\n",
       "8                9                         BestLanguage  0.914444  0.001836\n",
       "9               10          AFAnticoagulentVitK_missing  0.915102  0.001837"
      ]
     },
     "execution_count": 8,
     "metadata": {},
     "output_type": "execute_result"
    }
   ],
   "source": [
    "results = pd.DataFrame()\n",
    "results['number_features'] = range(1, len(chosen_features)+1)\n",
    "results['feature'] = chosen_features\n",
    "results['AUC'] = roc_auc_by_feature_number\n",
    "results['AUC_Std'] = [np.std(auc) for auc in roc_auc_k_fold_by_feature_number]\n",
    "results"
   ]
  },
  {
   "cell_type": "code",
   "execution_count": 9,
   "id": "79147fe1-4bc5-424f-9c30-b13d908efe30",
   "metadata": {},
   "outputs": [
    {
     "data": {
      "image/png": "[encoded data removed]",
      "text/plain": [
       "<Figure size 720x432 with 2 Axes>"
      ]
     },
     "metadata": {
      "needs_background": "light"
     },
     "output_type": "display_data"
    }
   ],
   "source": [
    "features_to_show = 10\n",
    "\n",
    "fig = plt.figure(figsize=(10,6))\n",
    "\n",
    "ax1 = fig.add_subplot(121)\n",
    "ax1.plot(results['number_features'], results['AUC'])\n",
    "ax1.set_xlabel('Number of features')\n",
    "ax1.set_ylabel('Mean ROC AUC')\n",
    "ax1.set_ylim(0.7, 0.95)\n",
    "ax1.grid()\n",
    "\n",
    "ax2 = fig.add_subplot(122)\n",
    "ax2.plot(results['feature'][:features_to_show],\n",
    "         results['AUC'][:features_to_show])\n",
    "xlabels = list(results['feature'])\n",
    "xlabels = xlabels[:features_to_show]\n",
    "ax2.set_xticklabels(xlabels, rotation=45, ha='right')\n",
    "ax2.set_ylabel('Mean ROC AUC')\n",
    "ax2.set_ylim(0.7, 0.95)\n",
    "ax2.grid()\n",
    "\n",
    "plt.tight_layout(pad=1.5)\n",
    "plt.savefig(f'./output/feature_selection.jpg', dpi=300)\n",
    "plt.show()"
   ]
  },
  {
   "cell_type": "code",
   "execution_count": 10,
   "id": "36ababa4-e671-4ff8-9c41-d22da3ae7b42",
   "metadata": {},
   "outputs": [],
   "source": [
    "results.to_csv('./output/feature_selection_3.csv', index=False)"
   ]
  },
  {
   "cell_type": "markdown",
   "id": "f5cc1d94-4801-4768-b4a9-02f4df579b58",
   "metadata": {
    "tags": []
   },
   "source": [
    "## Observations\n",
    "\n",
    "* After removal of onset-to-arrival and arrival-to-scan, time_left_after_scan was the first selected feature.\n",
    "* time_left_after_scan alone produced an ROC AUC of 0.708, compared with 0.715 for arrival-to-scan (when available)"
   ]
  }
 ],
 "metadata": {
  "celltoolbar": "Edit Metadata",
  "kernelspec": {
   "display_name": "Python 3 (ipykernel)",
   "language": "python",
   "name": "python3"
  },
  "language_info": {
   "codemirror_mode": {
    "name": "ipython",
    "version": 3
   },
   "file_extension": ".py",
   "mimetype": "text/x-python",
   "name": "python",
   "nbconvert_exporter": "python",
   "pygments_lexer": "ipython3",
   "version": "3.9.12"
  }
 },
 "nbformat": 4,
 "nbformat_minor": 5
}
