{
 "cells": [
  {
   "cell_type": "markdown",
   "metadata": {},
   "source": [
    "# Explaining XGBoost model predictions with SHAP values\n",
    "## Comparing the SHAP value for patients that attend a hospital, with the SHAP value for patients that do not attend a hospital\n",
    "\n",
    "[Representing categorical features as one-hot encoded features in the model and keeping them separate for their SHAP value]\n",
    "\n",
    "## Plain English summary\n",
    "\n",
    "When fitting a machine learning model to data to make a prediction, it is now possible, with the use of the SHAP library, to allocate contributions of the prediction onto the feature values. This means that we can now turn these black box methods into transparent models and describe what the model used to obtain it's prediction.\n",
    "\n",
    "SHAP values are calculated for each feature of each instance for a fitted model. In addition there is the SHAP base value which is the same value for all of the instances. The base value represents the models best guess for any instance without any extra knowledge about the instance (this can also be thought of as the \"expected value\"). It is possible to obtain the models prediction of an instance by taking the sum of the SHAP base value and each of the SHAP values for the features. This allows the prediction from a model to be transparant, and we can rank the features by their importance in determining the prediction for each instance.\n",
    "\n",
    "In our previous notebook (03_xgb_combined_shap_key_features.ipynb) we looked at SHAP values for all the features (fitting models to k-fold data and comparing the differences of the SHAP values obtained across the 5 models). Here we will fit a single model to all of the data (no test set) and focus on understanding the SHAP values for each of the one-hot encoded hosptial features that make up the *Stroke team* categorical feature.\n",
    "\n",
    "For example, what is the range of SHAP values for patients that attend the hospital, and for those that do not (as we have seen that the hospital has a SHAP value when a patient attend another one, so there is a contribution to the prediction based on *not* attending a hospital). \n",
    "\n",
    "SHAP values are in the same units as the model output (for XGBoost these are in log odds). \n",
    "\n",
    "Here we fit an XGBoost model to the SAMueL dataset, to predict whether a patient recieves thrombolysis from the values of eight features. We calculate the SHAP values of this fitted model and explore the SHAP values for each of the one-hot encoded hospital features.\n",
    "\n",
    "## Model and data\n",
    "\n",
    "XGBoost model was trained on all of the data (no test set used). The 8 features in the model are:\n",
    "\n",
    "* Arrival-to-scan time: Time from arrival at hospital to scan (mins)\n",
    "* Infarction: Stroke type (1 = infarction, 0 = haemorrhage)\n",
    "* Stroke severity: Stroke severity (NIHSS) on arrival\n",
    "* Precise onset time: Onset time type (1 = precise, 0 = best estimate)\n",
    "* Prior disability level: Disability level (modified Rankin Scale) before stroke\n",
    "* Use of AF anticoagulents: Use of atrial fibrillation anticoagulant (0 = No, 1 = Yes)\n",
    "* Onset-to-arrival time: Time from onset of stroke to arrival at hospital (mins)\n",
    "* Stroke team: Represented as one-hot encoded features\n",
    "\n",
    "And one target feature:\n",
    "* Thrombolysis: Did the patient recieve thrombolysis (0 = No, 1 = Yes)\n",
    "\n",
    "## Aims\n",
    "\n",
    "* Fit XGBoost model using feature data (no test set) to predict whether patient gets thrombolysis\n",
    "* Calculate the SHAP values of the features\n",
    "* Understand the SHAP values for each of the hospital one-hot encoded features\n",
    "\n",
    "## Observations\n",
    "* SHAP values for the one-hot encoded hospital features are very dependent on whether the instance attended the hospital or not\n",
    "* SHAP values for the attended one-hot encoded hospital feature are largely one side of zero or the other. \n",
    "* There are fewer instances in the patient population for the attended one-hot encoded hospital (versus the larger patient population that do not attend this hospital), but the range of SHAP values is wider.\n",
    "* SHAP values for the not attended one-hot encoded hospitals are largely centred on zero. There are more instances in this population, but the range of SHAP values is narrower.\n",
    "* 58% of the variability in hospital thrombolysis rate can be explained by the SHAP value for the one-hot encoded hospital feature (the median of those instances that attend the hospital)."
   ]
  },
  {
   "cell_type": "markdown",
   "metadata": {},
   "source": [
    "## Import modules"
   ]
  },
  {
   "cell_type": "code",
   "execution_count": 1,
   "metadata": {},
   "outputs": [
    {
     "name": "stderr",
     "output_type": "stream",
     "text": [
      "/home/kerry/miniconda3/envs/samuel2/lib/python3.8/site-packages/xgboost/compat.py:36: FutureWarning: pandas.Int64Index is deprecated and will be removed from pandas in a future version. Use pandas.Index with the appropriate dtype instead.\n",
      "  from pandas import MultiIndex, Int64Index\n",
      "/home/kerry/miniconda3/envs/samuel2/lib/python3.8/site-packages/tqdm/auto.py:22: TqdmWarning: IProgress not found. Please update jupyter and ipywidgets. See https://ipywidgets.readthedocs.io/en/stable/user_install.html\n",
      "  from .autonotebook import tqdm as notebook_tqdm\n"
     ]
    }
   ],
   "source": [
    "import matplotlib.pyplot as plt\n",
    "import numpy as np\n",
    "import pandas as pd\n",
    "\n",
    "# Import machine learning methods\n",
    "from xgboost import XGBClassifier\n",
    "\n",
    "# Import shap for shapley values\n",
    "import shap # `pip install shap` if neeed\n",
    "\n",
    "# Turn warnings off to keep notebook tidy\n",
    "import warnings\n",
    "warnings.filterwarnings(\"ignore\")\n",
    "\n",
    "from scipy import stats\n",
    "\n",
    "import os\n",
    "import pickle\n",
    "\n",
    "import math # to .floor and .ceil\n",
    "\n",
    "# So can take deep copy\n",
    "import copy\n",
    "\n",
    "from os.path import exists\n",
    "import json"
   ]
  },
  {
   "cell_type": "markdown",
   "metadata": {},
   "source": [
    "## Set filenames"
   ]
  },
  {
   "cell_type": "code",
   "execution_count": 2,
   "metadata": {},
   "outputs": [],
   "source": [
    "# Set model type (used in file save, e.g. xgb_combined_calibrated_oversampled)\n",
    "number_of_features_to_use = 8\n",
    "model_text = f'xgb_{number_of_features_to_use}_features'\n",
    "notebook = '03a'"
   ]
  },
  {
   "cell_type": "markdown",
   "metadata": {},
   "source": [
    "## Create output folders if needed"
   ]
  },
  {
   "cell_type": "code",
   "execution_count": 3,
   "metadata": {},
   "outputs": [],
   "source": [
    "path = './saved_models'\n",
    "if not os.path.exists(path):\n",
    "    os.makedirs(path)\n",
    "\n",
    "path = './output'\n",
    "if not os.path.exists(path):\n",
    "    os.makedirs(path)\n",
    "    \n",
    "path = './predictions'\n",
    "if not os.path.exists(path):\n",
    "    os.makedirs(path)   "
   ]
  },
  {
   "cell_type": "markdown",
   "metadata": {},
   "source": [
    "## Read in JSON file\n",
    "\n",
    "Contains a dictionary for plain English feature names for the 8 features selected in the model. Use these as the column titles in the DataFrame."
   ]
  },
  {
   "cell_type": "code",
   "execution_count": 4,
   "metadata": {},
   "outputs": [],
   "source": [
    "with open(\"./output/feature_name_dict.json\") as json_file:\n",
    "    dict_feature_name = json.load(json_file)"
   ]
  },
  {
   "cell_type": "markdown",
   "metadata": {},
   "source": [
    "## Load data\n",
    "\n",
    "Data has previously been split into 5 stratified k-fold splits.\n",
    "\n",
    "For this exercise, we will fit a model using all of the data (rather than train/test splits used to assess accuracy). We will join up all of the test data (by definition, each instance exists only once across all of the 5 test sets)"
   ]
  },
  {
   "cell_type": "code",
   "execution_count": 5,
   "metadata": {},
   "outputs": [],
   "source": [
    "data_loc = '../data/kfold_5fold/'"
   ]
  },
  {
   "cell_type": "code",
   "execution_count": 6,
   "metadata": {},
   "outputs": [],
   "source": [
    "# Initialise empty list\n",
    "test_data_kfold = []\n",
    "\n",
    "# Read in the names of the selected features for the model\n",
    "key_features = pd.read_csv('./output/01_feature_selection.csv')\n",
    "key_features = list(key_features['feature'])[:number_of_features_to_use]\n",
    "# And add the target feature name: S2Thrombolysis\n",
    "key_features.append('S2Thrombolysis')\n",
    "\n",
    "# For each k-fold split\n",
    "for i in range(5):\n",
    "    # Read in test set, restrict to chosen features, rename titles, & store\n",
    "    test = pd.read_csv(data_loc + 'test_{0}.csv'.format(i))\n",
    "    test = test[key_features]\n",
    "    test.rename(columns=dict_feature_name, inplace=True)\n",
    "    test_data_kfold.append(test)\n",
    "\n",
    "# Join all the test sets. Set \"ignore_index = True\" to reset the index in the\n",
    "#   new dataframe (to run from 0 to n-1), otherwise get duplicate index values\n",
    "data = pd.concat(test_data_kfold, ignore_index=True)"
   ]
  },
  {
   "cell_type": "markdown",
   "metadata": {},
   "source": [
    "## Get list of feature names"
   ]
  },
  {
   "cell_type": "code",
   "execution_count": 7,
   "metadata": {},
   "outputs": [],
   "source": [
    "feature_names = list(test_data_kfold[0])"
   ]
  },
  {
   "cell_type": "markdown",
   "metadata": {},
   "source": [
    "## Edit data\n",
    "### Divide into X (features) and y (labels)\n",
    "We will separate out our features (the data we use to make a prediction) from our label (what we are trying to predict).\n",
    "By convention our features are called `X` (usually upper case to denote multiple features), and the label (thrombolysis or not) `y`."
   ]
  },
  {
   "cell_type": "code",
   "execution_count": 8,
   "metadata": {},
   "outputs": [],
   "source": [
    "X = data.drop('Thrombolysis', axis=1)\n",
    "y = data['Thrombolysis']"
   ]
  },
  {
   "cell_type": "markdown",
   "metadata": {},
   "source": [
    "Average thromboylsis (this is the expected outcome of each patient, without knowing anything about the patient)"
   ]
  },
  {
   "cell_type": "code",
   "execution_count": 9,
   "metadata": {},
   "outputs": [
    {
     "name": "stdout",
     "output_type": "stream",
     "text": [
      "Average treatment: 0.3\n"
     ]
    }
   ],
   "source": [
    "print (f'Average treatment: {round(y.mean(),2)}')"
   ]
  },
  {
   "cell_type": "markdown",
   "metadata": {},
   "source": [
    "### One-hot encode hospital feature"
   ]
  },
  {
   "cell_type": "code",
   "execution_count": 10,
   "metadata": {},
   "outputs": [],
   "source": [
    "# Keep copy of original, with 'Stroke team' not one-hot encoded\n",
    "X_combined = X.copy(deep=True)\n",
    "\n",
    "# One-hot encode 'Stroke team'\n",
    "X_hosp = pd.get_dummies(X['Stroke team'], prefix = 'team')\n",
    "X = pd.concat([X, X_hosp], axis=1)\n",
    "X.drop('Stroke team', axis=1, inplace=True)"
   ]
  },
  {
   "cell_type": "markdown",
   "metadata": {},
   "source": [
    "## Fit XGBoost model\n",
    "\n",
    "An XGBoost model is trained on the full dataset (rather than train/test splits used to assess accuracy).\n",
    "\n",
    "Use learning rate 0.5 to regularise the model. As increase learning rate value, this increases regularisation. Using a learning rate of 0.5 gives maximum variation between the hosptials. The default learning rate of 0.1 results in few differences between the hospitals (with eight of the one-hot encoded hospital features were not being used in the model - they each had a 0 SHAP value for all of the instances).\n",
    "\n",
    "Too low a learning rate results in too ____, too high a learning rate results in too ___.\n",
    "\n",
    "See https://samuel-book.github.io/samuel_shap_paper_1/xgb_with_feature_selection/91_learning_rate_optimisation.html?highlight=learning%20rate\n"
   ]
  },
  {
   "cell_type": "code",
   "execution_count": 11,
   "metadata": {},
   "outputs": [
    {
     "name": "stdout",
     "output_type": "stream",
     "text": [
      "Model accuracy: 0.874\n"
     ]
    }
   ],
   "source": [
    "# Fit models (True), or load models (False)\n",
    "fit_model = True\n",
    "\n",
    "if fit_model:\n",
    "    # Define and Fit model\n",
    "    model = XGBClassifier(verbosity = 0, seed=42, learning_rate=0.5)\n",
    "    model.fit(X, y)\n",
    "\n",
    "    # Save using pickle\n",
    "    filename = (f'./saved_models/'\n",
    "                f'{notebook}_{model_text}.p')\n",
    "    with open(filename, 'wb') as filehandler:\n",
    "        pickle.dump(model, filehandler)\n",
    "else:\n",
    "    # Load models\n",
    "    filename = (f'./saved_models/'\n",
    "                f'{notebook}_{model_text}.p')\n",
    "    with open(filename, 'rb') as filehandler:\n",
    "        model = pickle.load(filehandler)\n",
    "        \n",
    "# Get the predictions for each patient \n",
    "#   (the classification, and the probability of being in either class)\n",
    "y_pred = model.predict(X)\n",
    "y_pred_proba = model.predict_proba(X)\n",
    "\n",
    "# Calculate the models accuracy\n",
    "accuracy = np.mean(y == y_pred)\n",
    "print(f'Model accuracy: {accuracy:0.3f}')"
   ]
  },
  {
   "cell_type": "markdown",
   "metadata": {},
   "source": [
    "## SHAP values\n",
    "\n",
    "SHAP values give the contribution that each feature has on the models prediction, per instance. A SHAP value is returned for each feature, for each instance.\n",
    "\n",
    "We will use the shap library: https://shap.readthedocs.io/en/latest/index.html\n",
    "\n",
    "'Raw' SHAP values from XGBoost model are log odds ratios.\n",
    "\n",
    "### Get SHAP values\n",
    "\n",
    "TreeExplainer is a fast and exact method to estimate SHAP values for tree models and ensembles of trees.\n",
    "Using this we can calculate the SHAP values.\n",
    "\n",
    "Either load from pickle (if file exists), or calculate."
   ]
  },
  {
   "cell_type": "code",
   "execution_count": 12,
   "metadata": {},
   "outputs": [
    {
     "name": "stdout",
     "output_type": "stream",
     "text": [
      "CPU times: user 1min 38s, sys: 260 ms, total: 1min 38s\n",
      "Wall time: 8.39 s\n"
     ]
    }
   ],
   "source": [
    "%%time\n",
    "# Set up method to estimate SHAP values for tree models and ensembles of trees\n",
    "\n",
    "filename = f'./output/{notebook}_{model_text}_shap_explainer_object.p'\n",
    "file_exists = exists(filename)\n",
    "\n",
    "if file_exists:\n",
    "    # Load SHAP interaction\n",
    "    with open(filename, 'rb') as filehandler:\n",
    "        explainer = pickle.load(filehandler)\n",
    "else:\n",
    "    # Set up method to estimate SHAP values for tree models & ensembles of trees\n",
    "    explainer = shap.TreeExplainer(model)\n",
    "\n",
    "    # Save using pickle\n",
    "    with open(filename, 'wb') as filehandler:\n",
    "        pickle.dump(explainer, filehandler)\n",
    "\n",
    "# Get SHAP values\n",
    "filename = f'./output/{notebook}_{model_text}_shap_values_explainer_object.p'\n",
    "file_exists = exists(filename)\n",
    "\n",
    "if file_exists:\n",
    "    # Load explainer\n",
    "    with open(filename, 'rb') as filehandler:\n",
    "        shap_values = pickle.load(filehandler)\n",
    "else:\n",
    "    # Get SHAP values\n",
    "    shap_values = explainer(X)\n",
    "    \n",
    "    # Save using pickle\n",
    "    with open(filename, 'wb') as filehandler:\n",
    "        pickle.dump(shap_values , filehandler)"
   ]
  },
  {
   "cell_type": "markdown",
   "metadata": {},
   "source": [
    "The explainer returns the base value which is the same value for all instances [shap_value.base_values], the shap values per feature [shap_value.values]. It also returns the feature dataset values [shap_values.data]. You can (sometimes!) access the feature names from the explainer [explainer.data_feature_names].\n",
    "\n",
    "Let's take a look at the data held for the first instance:\n",
    "* .values has the SHAP value for each of the four features.\n",
    "* .base_values has the best guess value without knowing anything about the instance.\n",
    "* .data has each of the feature values"
   ]
  },
  {
   "cell_type": "code",
   "execution_count": 13,
   "metadata": {},
   "outputs": [
    {
     "data": {
      "text/plain": [
       ".values =\n",
       "array([ 7.04962432e-01,  4.70834434e-01,  9.37760234e-01,  4.88724023e-01,\n",
       "        3.48922372e-01,  1.90080196e-01, -4.45128560e-01,  6.24495908e-04,\n",
       "       -5.58784464e-04,  9.94549366e-04, -1.44827543e-04, -4.78777918e-04,\n",
       "        2.03018426e-03,  1.32616831e-03, -4.62164963e-03, -1.44663296e-04,\n",
       "       -2.64727464e-03,  1.57258241e-03, -5.47267409e-05,  5.59005048e-03,\n",
       "       -4.94364649e-03, -2.45308410e-03,  6.91119907e-03,  2.98903068e-03,\n",
       "       -8.01010709e-03,  1.15073301e-04,  1.01976674e-02,  8.05436866e-06,\n",
       "       -1.34180160e-03,  7.04234745e-03,  8.45438568e-04, -4.65887540e-04,\n",
       "       -1.33352196e-02, -6.82451949e-03, -8.29387631e-04, -5.12058055e-03,\n",
       "       -3.64354905e-03, -1.16270920e-03,  1.54822294e-04, -1.55990687e-03,\n",
       "        1.06859556e-03,  3.09080351e-03,  1.03797121e-02,  1.74750038e-03,\n",
       "       -3.29944468e-03,  1.61964737e-03, -7.15182303e-03,  3.09971487e-03,\n",
       "        4.52662492e-03,  1.35833852e-03,  9.84258251e-04,  2.75278743e-03,\n",
       "        2.54434953e-03,  8.74023326e-03,  2.60777958e-03, -1.31129136e-03,\n",
       "       -5.39722200e-03,  7.67914520e-04,  0.00000000e+00,  1.73060864e-03,\n",
       "       -1.17528234e-02,  8.09836853e-03,  1.61945913e-03,  1.63312221e-03,\n",
       "        6.39560586e-03,  2.06852244e-04, -2.50501093e-04,  2.28828774e-03,\n",
       "        2.79492233e-04, -1.14734229e-02,  4.51009441e-03, -4.42358665e-03,\n",
       "       -9.82596260e-03,  7.27039704e-04,  2.07322137e-03,  1.43759156e-04,\n",
       "        8.62131128e-04,  1.52728171e-03,  5.86548762e-04,  2.28157453e-03,\n",
       "       -1.32612977e-03, -3.41000082e-03,  9.26079403e-04, -4.77445032e-03,\n",
       "       -8.29016091e-04,  2.49624671e-03, -2.69430154e-03,  1.05254189e-03,\n",
       "       -6.49072696e-03, -4.31612658e-04, -8.12973175e-03, -8.58967309e-04,\n",
       "        2.42321542e-03, -5.84473019e-04, -4.14928375e-03,  1.20038749e-04,\n",
       "        1.27157895e-03,  1.57682353e-03, -1.53624453e-04, -7.46721262e-03,\n",
       "        4.43202705e-04, -4.03816783e-04,  5.20984828e-03,  3.02901259e-03,\n",
       "        4.52936220e-04, -2.11757445e-03, -6.08804030e-03, -6.40831597e-04,\n",
       "       -5.25312461e-02, -5.95880020e-03, -5.55130746e-03,  2.20625661e-03,\n",
       "       -3.67098255e-04, -1.18820253e-03, -1.26575015e-03, -1.18236803e-03,\n",
       "       -2.38304306e-02,  2.13243975e-03,  1.26826373e-04, -3.48664192e-03,\n",
       "        4.21699369e-04,  6.16769248e-04,  2.54212832e-03, -2.26118224e-04,\n",
       "        2.76414445e-04, -1.12711044e-04, -1.38379140e-02,  5.59006445e-03,\n",
       "       -1.15945423e-03, -1.09747490e-02,  3.43580148e-03,  4.04264400e-04,\n",
       "       -4.61987779e-03,  8.98920640e-04,  3.32874130e-04, -2.10877531e-03,\n",
       "        2.44032685e-03, -1.70883912e-04,  3.06107313e-03], dtype=float32)\n",
       "\n",
       ".base_values =\n",
       "-1.1588297\n",
       "\n",
       ".data =\n",
       "array([ 17.,   1.,  14.,   1.,   0.,   0., 186.,   0.,   0.,   0.,   0.,\n",
       "         0.,   0.,   0.,   0.,   0.,   0.,   0.,   0.,   0.,   0.,   0.,\n",
       "         0.,   0.,   0.,   0.,   0.,   0.,   0.,   0.,   0.,   0.,   0.,\n",
       "         0.,   0.,   0.,   0.,   0.,   0.,   0.,   0.,   0.,   0.,   0.,\n",
       "         0.,   0.,   0.,   0.,   0.,   0.,   0.,   0.,   0.,   0.,   0.,\n",
       "         0.,   0.,   0.,   0.,   0.,   0.,   0.,   0.,   0.,   0.,   0.,\n",
       "         0.,   0.,   0.,   0.,   0.,   0.,   0.,   0.,   0.,   0.,   0.,\n",
       "         0.,   0.,   0.,   0.,   0.,   0.,   0.,   0.,   0.,   0.,   0.,\n",
       "         0.,   0.,   0.,   0.,   0.,   0.,   0.,   0.,   0.,   0.,   0.,\n",
       "         0.,   0.,   0.,   0.,   0.,   0.,   0.,   0.,   0.,   1.,   0.,\n",
       "         0.,   0.,   0.,   0.,   0.,   0.,   0.,   0.,   0.,   0.,   0.,\n",
       "         0.,   0.,   0.,   0.,   0.,   0.,   0.,   0.,   0.,   0.,   0.,\n",
       "         0.,   0.,   0.,   0.,   0.,   0.,   0.])"
      ]
     },
     "execution_count": 13,
     "metadata": {},
     "output_type": "execute_result"
    }
   ],
   "source": [
    "shap_values[0]"
   ]
  },
  {
   "cell_type": "markdown",
   "metadata": {},
   "source": [
    "There is one of these for each instance."
   ]
  },
  {
   "cell_type": "code",
   "execution_count": 14,
   "metadata": {},
   "outputs": [
    {
     "data": {
      "text/plain": [
       "(88792, 139)"
      ]
     },
     "execution_count": 14,
     "metadata": {},
     "output_type": "execute_result"
    }
   ],
   "source": [
    "shap_values.shape"
   ]
  },
  {
   "cell_type": "markdown",
   "metadata": {},
   "source": [
    "### Understand SHAP values for the one-hot encoded hospital features \n",
    "\n",
    "We've seen above that the categorical feature represented as a one-hot encoded feature have a SHAP value for each of the one-hot encoded features.\n",
    "\n",
    "For the hospital that the instance attends, the SHAP value for that hosptial represents \"the contribution to the prediction due to attending this hospital\". For all of the other hosptials for this instance, the SHAP value for those hospitals represents \"the contribution to the prediction from not attending this hospital\". \n",
    "\n",
    "Here we will focus on understanding the SHAP values for each hospital, their contribution when a patient attends the hospital, and the contribution when the patient does not attend the hospital."
   ]
  },
  {
   "cell_type": "markdown",
   "metadata": {},
   "source": [
    "#### Format the data \n",
    "\n",
    "Features are in the same order in shap_values as they are in the original dataset.\n",
    "\n",
    "Use this to extract the SHAP values for the one-hot encoded hospital features. Create a dataframe containing the SHAP values: an instance per row, and a one-hot encoded hospital feature per column."
   ]
  },
  {
   "cell_type": "code",
   "execution_count": 15,
   "metadata": {},
   "outputs": [],
   "source": [
    "# Get list of one-hot encoded hospital column titles\n",
    "hospital_names_ohe = X.filter(regex='^team',axis=1).columns\n",
    "n_hospitals = len(hospital_names_ohe)\n",
    "\n",
    "# Get list of hospital names without the prefix \"team_\"\n",
    "hospital_names = [h[5:] for h in hospital_names_ohe]\n",
    "\n",
    "# Create list of column indices for these hospital column titles (where do the\n",
    "#   hospital features exist in the datasets?)\n",
    "hospital_columns_index = [X.columns.get_loc(col) for col in hospital_names_ohe]\n",
    "# Use this index list to access the hosptial shap values (as array)\n",
    "hosp_shap_values = shap_values.values[:,hospital_columns_index]\n",
    "# Put in dataframe with hospital as column title\n",
    "df_hosp_shap_values = pd.DataFrame(hosp_shap_values, columns = hospital_names)"
   ]
  },
  {
   "cell_type": "markdown",
   "metadata": {},
   "source": [
    "Also include four further columns:\n",
    "1) the hospital that the instance attended\n",
    "2) contribution from all of the one-hot encoded hospital features\n",
    "3) contribution from just the hospital attended\n",
    "4) contribution from not attending the rest"
   ]
  },
  {
   "cell_type": "code",
   "execution_count": 16,
   "metadata": {},
   "outputs": [
    {
     "data": {
      "text/html": [
       "<div>\n",
       "<style scoped>\n",
       "    .dataframe tbody tr th:only-of-type {\n",
       "        vertical-align: middle;\n",
       "    }\n",
       "\n",
       "    .dataframe tbody tr th {\n",
       "        vertical-align: top;\n",
       "    }\n",
       "\n",
       "    .dataframe thead th {\n",
       "        text-align: right;\n",
       "    }\n",
       "</style>\n",
       "<table border=\"1\" class=\"dataframe\">\n",
       "  <thead>\n",
       "    <tr style=\"text-align: right;\">\n",
       "      <th></th>\n",
       "      <th>AGNOF1041H</th>\n",
       "      <th>AKCGO9726K</th>\n",
       "      <th>AOBTM3098N</th>\n",
       "      <th>APXEE8191H</th>\n",
       "      <th>ATDID5461S</th>\n",
       "      <th>BBXPQ0212O</th>\n",
       "      <th>BICAW1125K</th>\n",
       "      <th>BQZGT7491V</th>\n",
       "      <th>BXXZS5063A</th>\n",
       "      <th>CNBGF2713O</th>\n",
       "      <th>...</th>\n",
       "      <th>YEXCH8391J</th>\n",
       "      <th>YPKYH1768F</th>\n",
       "      <th>YQMZV4284N</th>\n",
       "      <th>ZBVSO0975W</th>\n",
       "      <th>ZHCLE1578P</th>\n",
       "      <th>ZRRCV7012C</th>\n",
       "      <th>Stroke team</th>\n",
       "      <th>all_stroke_teams</th>\n",
       "      <th>attended_stroke_team</th>\n",
       "      <th>not_attended_stroke_teams</th>\n",
       "    </tr>\n",
       "  </thead>\n",
       "  <tbody>\n",
       "    <tr>\n",
       "      <th>0</th>\n",
       "      <td>0.000624</td>\n",
       "      <td>-0.000559</td>\n",
       "      <td>0.000995</td>\n",
       "      <td>-0.000145</td>\n",
       "      <td>-0.000479</td>\n",
       "      <td>0.002030</td>\n",
       "      <td>0.001326</td>\n",
       "      <td>-0.004622</td>\n",
       "      <td>-0.000145</td>\n",
       "      <td>-0.002647</td>\n",
       "      <td>...</td>\n",
       "      <td>0.000899</td>\n",
       "      <td>0.000333</td>\n",
       "      <td>-0.002109</td>\n",
       "      <td>0.002440</td>\n",
       "      <td>-0.000171</td>\n",
       "      <td>0.003061</td>\n",
       "      <td>TXHRP7672C</td>\n",
       "      <td>-0.128209</td>\n",
       "      <td>-0.052531</td>\n",
       "      <td>-0.075677</td>\n",
       "    </tr>\n",
       "    <tr>\n",
       "      <th>1</th>\n",
       "      <td>-0.003044</td>\n",
       "      <td>-0.006914</td>\n",
       "      <td>0.002863</td>\n",
       "      <td>-0.000086</td>\n",
       "      <td>-0.000618</td>\n",
       "      <td>0.001353</td>\n",
       "      <td>0.002746</td>\n",
       "      <td>-0.003653</td>\n",
       "      <td>0.000556</td>\n",
       "      <td>-0.002556</td>\n",
       "      <td>...</td>\n",
       "      <td>0.000174</td>\n",
       "      <td>0.001165</td>\n",
       "      <td>-0.000637</td>\n",
       "      <td>0.003117</td>\n",
       "      <td>-0.002408</td>\n",
       "      <td>0.001963</td>\n",
       "      <td>SQGXB9559U</td>\n",
       "      <td>-0.605491</td>\n",
       "      <td>-0.498364</td>\n",
       "      <td>-0.107127</td>\n",
       "    </tr>\n",
       "    <tr>\n",
       "      <th>2</th>\n",
       "      <td>-0.001143</td>\n",
       "      <td>-0.019610</td>\n",
       "      <td>0.004226</td>\n",
       "      <td>-0.000075</td>\n",
       "      <td>-0.000728</td>\n",
       "      <td>0.001596</td>\n",
       "      <td>0.002600</td>\n",
       "      <td>-0.007341</td>\n",
       "      <td>-0.000620</td>\n",
       "      <td>-0.002757</td>\n",
       "      <td>...</td>\n",
       "      <td>-0.000233</td>\n",
       "      <td>0.000457</td>\n",
       "      <td>0.000218</td>\n",
       "      <td>0.003129</td>\n",
       "      <td>-0.001370</td>\n",
       "      <td>0.004762</td>\n",
       "      <td>LFPMM4706C</td>\n",
       "      <td>-1.303135</td>\n",
       "      <td>-1.190989</td>\n",
       "      <td>-0.112146</td>\n",
       "    </tr>\n",
       "    <tr>\n",
       "      <th>3</th>\n",
       "      <td>-0.003142</td>\n",
       "      <td>0.000237</td>\n",
       "      <td>0.001320</td>\n",
       "      <td>-0.000005</td>\n",
       "      <td>-0.000479</td>\n",
       "      <td>0.001353</td>\n",
       "      <td>0.002746</td>\n",
       "      <td>-0.005188</td>\n",
       "      <td>-0.000247</td>\n",
       "      <td>-0.002505</td>\n",
       "      <td>...</td>\n",
       "      <td>0.000706</td>\n",
       "      <td>0.001165</td>\n",
       "      <td>-0.002276</td>\n",
       "      <td>0.002574</td>\n",
       "      <td>-0.004369</td>\n",
       "      <td>0.002328</td>\n",
       "      <td>MHMYL4920B</td>\n",
       "      <td>0.674405</td>\n",
       "      <td>0.746649</td>\n",
       "      <td>-0.072244</td>\n",
       "    </tr>\n",
       "    <tr>\n",
       "      <th>4</th>\n",
       "      <td>0.000523</td>\n",
       "      <td>-0.004762</td>\n",
       "      <td>0.002777</td>\n",
       "      <td>-0.000145</td>\n",
       "      <td>-0.000479</td>\n",
       "      <td>0.000542</td>\n",
       "      <td>0.002729</td>\n",
       "      <td>-0.005198</td>\n",
       "      <td>-0.000258</td>\n",
       "      <td>-0.001873</td>\n",
       "      <td>...</td>\n",
       "      <td>0.000899</td>\n",
       "      <td>0.000687</td>\n",
       "      <td>-0.002109</td>\n",
       "      <td>0.002328</td>\n",
       "      <td>-0.001387</td>\n",
       "      <td>0.002708</td>\n",
       "      <td>EQZZZ5658G</td>\n",
       "      <td>-0.133660</td>\n",
       "      <td>-0.008904</td>\n",
       "      <td>-0.124756</td>\n",
       "    </tr>\n",
       "  </tbody>\n",
       "</table>\n",
       "<p>5 rows × 136 columns</p>\n",
       "</div>"
      ],
      "text/plain": [
       "   AGNOF1041H  AKCGO9726K  AOBTM3098N  APXEE8191H  ATDID5461S  BBXPQ0212O  \\\n",
       "0    0.000624   -0.000559    0.000995   -0.000145   -0.000479    0.002030   \n",
       "1   -0.003044   -0.006914    0.002863   -0.000086   -0.000618    0.001353   \n",
       "2   -0.001143   -0.019610    0.004226   -0.000075   -0.000728    0.001596   \n",
       "3   -0.003142    0.000237    0.001320   -0.000005   -0.000479    0.001353   \n",
       "4    0.000523   -0.004762    0.002777   -0.000145   -0.000479    0.000542   \n",
       "\n",
       "   BICAW1125K  BQZGT7491V  BXXZS5063A  CNBGF2713O  ...  YEXCH8391J  \\\n",
       "0    0.001326   -0.004622   -0.000145   -0.002647  ...    0.000899   \n",
       "1    0.002746   -0.003653    0.000556   -0.002556  ...    0.000174   \n",
       "2    0.002600   -0.007341   -0.000620   -0.002757  ...   -0.000233   \n",
       "3    0.002746   -0.005188   -0.000247   -0.002505  ...    0.000706   \n",
       "4    0.002729   -0.005198   -0.000258   -0.001873  ...    0.000899   \n",
       "\n",
       "   YPKYH1768F  YQMZV4284N  ZBVSO0975W  ZHCLE1578P  ZRRCV7012C  Stroke team  \\\n",
       "0    0.000333   -0.002109    0.002440   -0.000171    0.003061   TXHRP7672C   \n",
       "1    0.001165   -0.000637    0.003117   -0.002408    0.001963   SQGXB9559U   \n",
       "2    0.000457    0.000218    0.003129   -0.001370    0.004762   LFPMM4706C   \n",
       "3    0.001165   -0.002276    0.002574   -0.004369    0.002328   MHMYL4920B   \n",
       "4    0.000687   -0.002109    0.002328   -0.001387    0.002708   EQZZZ5658G   \n",
       "\n",
       "   all_stroke_teams  attended_stroke_team  not_attended_stroke_teams  \n",
       "0         -0.128209             -0.052531                  -0.075677  \n",
       "1         -0.605491             -0.498364                  -0.107127  \n",
       "2         -1.303135             -1.190989                  -0.112146  \n",
       "3          0.674405              0.746649                  -0.072244  \n",
       "4         -0.133660             -0.008904                  -0.124756  \n",
       "\n",
       "[5 rows x 136 columns]"
      ]
     },
     "execution_count": 16,
     "metadata": {},
     "output_type": "execute_result"
    }
   ],
   "source": [
    "# Include Stroke team that each instance attended\n",
    "df_hosp_shap_values[\"Stroke team\"] = X_combined[\"Stroke team\"].values\n",
    "\n",
    "# Store the sum of the SHAP values (for all of the hospital features)\n",
    "df_hosp_shap_values[\"all_stroke_teams\"] = df_hosp_shap_values.sum(axis=1)\n",
    "\n",
    "# Initialise list for 1) SHAP value for attended hospital 2) SHAP value for \n",
    "#   the sum of the rest of the hospitals\n",
    "shap_attended_hospital = []\n",
    "shap_not_attend_these_hospitals = []\n",
    "\n",
    "# For each patient\n",
    "for index, row in df_hosp_shap_values.iterrows():\n",
    "\n",
    "    # Get stroke team attended\n",
    "    stroke_team = row[\"Stroke team\"]\n",
    "    \n",
    "    # Get SHAP value for the stroke team attended\n",
    "    shap_attended_hospital.append(row[stroke_team])\n",
    "\n",
    "    # Calculate sum of SHAP values for the stroke teams not attend \n",
    "    sum_rest = row[\"all_stroke_teams\"] - row[stroke_team]\n",
    "    shap_not_attend_these_hospitals.append(sum_rest)\n",
    "\n",
    "# Store two new columns in dataframe\n",
    "df_hosp_shap_values[\"attended_stroke_team\"] = shap_attended_hospital\n",
    "df_hosp_shap_values[\"not_attended_stroke_teams\"] = (\n",
    "                                            shap_not_attend_these_hospitals)\n",
    "                   \n",
    "# View preview\n",
    "df_hosp_shap_values.head()"
   ]
  },
  {
   "cell_type": "markdown",
   "metadata": {},
   "source": [
    "#### Boxplot (all hospitals together)\n",
    "\n",
    "Analyse the range of SHAP values for the one-hot encoded hospital features. Show as two populations: the attended hospital, the sum of the hospitals not attended"
   ]
  },
  {
   "cell_type": "code",
   "execution_count": 17,
   "metadata": {},
   "outputs": [
    {
     "data": {
      "image/png": "[encoded data removed]",
      "text/plain": [
       "<Figure size 576x360 with 1 Axes>"
      ]
     },
     "metadata": {
      "needs_background": "light"
     },
     "output_type": "display_data"
    }
   ],
   "source": [
    "fig = plt.figure(figsize=(8,5))\n",
    "ax = fig.add_subplot(1,1,1)\n",
    "ax.boxplot([shap_attended_hospital, shap_not_attend_these_hospitals],\n",
    "            labels=[\"Attended hospital\", \"Not attend these hospitals\"],\n",
    "            whis=99999, notch=True);\n",
    "title = (\"The range of SHAP values for the one-hot encoded hospital features, \"\n",
    "         \"\\ndepending on whether attend the hospital, or not\")\n",
    "\n",
    "# Add line at Shap = 0\n",
    "ax.plot([plt.xlim()[0], plt.xlim()[1]], [0,0], c='0.8') \n",
    "    \n",
    "ax.set_title(title)\n",
    "ax.set_xlabel(\"Instance population\")\n",
    "ax.set_ylabel(\"SHAP value\");"
   ]
  },
  {
   "cell_type": "markdown",
   "metadata": {},
   "source": [
    "#### Boxplot (individual hospitals)\n",
    "\n",
    "Create a boxplot to show the range of SHAP values for each individual one-hot encoded hospital feature. \n",
    "\n",
    "Show the SHAP value as two populations: 1) the group of instances that attend the hospital [black], and 2) the group of instances that do not attend the hosptial [orange].\n",
    "\n",
    "Order the hospitals in descending order of median SHAP value for the hospital the instance attended (so those that more often contribute to a yes-thrombolysis decision, through to those that most often contribute to a no-thrombolysis decision).\n",
    "\n",
    "Firstly, to order the hospitals, create a dataframe containing the median SHAP value for each hosptial (for those instances that attended the hospital)"
   ]
  },
  {
   "cell_type": "code",
   "execution_count": 18,
   "metadata": {},
   "outputs": [
    {
     "data": {
      "text/html": [
       "<div>\n",
       "<style scoped>\n",
       "    .dataframe tbody tr th:only-of-type {\n",
       "        vertical-align: middle;\n",
       "    }\n",
       "\n",
       "    .dataframe tbody tr th {\n",
       "        vertical-align: top;\n",
       "    }\n",
       "\n",
       "    .dataframe thead th {\n",
       "        text-align: right;\n",
       "    }\n",
       "</style>\n",
       "<table border=\"1\" class=\"dataframe\">\n",
       "  <thead>\n",
       "    <tr style=\"text-align: right;\">\n",
       "      <th></th>\n",
       "      <th>hospital</th>\n",
       "      <th>shap_min</th>\n",
       "      <th>shap_q1</th>\n",
       "      <th>shap_median</th>\n",
       "      <th>shap_q3</th>\n",
       "      <th>shap_max</th>\n",
       "    </tr>\n",
       "  </thead>\n",
       "  <tbody>\n",
       "    <tr>\n",
       "      <th>25</th>\n",
       "      <td>GKONI0110I</td>\n",
       "      <td>0.175994</td>\n",
       "      <td>0.934903</td>\n",
       "      <td>1.147333</td>\n",
       "      <td>1.314293</td>\n",
       "      <td>2.120272</td>\n",
       "    </tr>\n",
       "    <tr>\n",
       "      <th>9</th>\n",
       "      <td>CNBGF2713O</td>\n",
       "      <td>0.185519</td>\n",
       "      <td>0.871191</td>\n",
       "      <td>1.145275</td>\n",
       "      <td>1.337732</td>\n",
       "      <td>2.030359</td>\n",
       "    </tr>\n",
       "    <tr>\n",
       "      <th>109</th>\n",
       "      <td>VKKDD9172T</td>\n",
       "      <td>0.100659</td>\n",
       "      <td>0.741192</td>\n",
       "      <td>0.982388</td>\n",
       "      <td>1.186568</td>\n",
       "      <td>2.090144</td>\n",
       "    </tr>\n",
       "    <tr>\n",
       "      <th>65</th>\n",
       "      <td>NTPQZ0829K</td>\n",
       "      <td>0.081631</td>\n",
       "      <td>0.679469</td>\n",
       "      <td>0.935364</td>\n",
       "      <td>1.119871</td>\n",
       "      <td>1.802614</td>\n",
       "    </tr>\n",
       "    <tr>\n",
       "      <th>32</th>\n",
       "      <td>HPWIF9956L</td>\n",
       "      <td>0.019245</td>\n",
       "      <td>0.602708</td>\n",
       "      <td>0.908798</td>\n",
       "      <td>1.288176</td>\n",
       "      <td>1.735104</td>\n",
       "    </tr>\n",
       "  </tbody>\n",
       "</table>\n",
       "</div>"
      ],
      "text/plain": [
       "       hospital  shap_min   shap_q1  shap_median   shap_q3  shap_max\n",
       "25   GKONI0110I  0.175994  0.934903     1.147333  1.314293  2.120272\n",
       "9    CNBGF2713O  0.185519  0.871191     1.145275  1.337732  2.030359\n",
       "109  VKKDD9172T  0.100659  0.741192     0.982388  1.186568  2.090144\n",
       "65   NTPQZ0829K  0.081631  0.679469     0.935364  1.119871  1.802614\n",
       "32   HPWIF9956L  0.019245  0.602708     0.908798  1.288176  1.735104"
      ]
     },
     "execution_count": 18,
     "metadata": {},
     "output_type": "execute_result"
    }
   ],
   "source": [
    "# Initialise lists\n",
    "attend_stroketeam_min = []\n",
    "attend_stroketeam_q1 = []\n",
    "attend_stroketeam_median = []\n",
    "attend_stroketeam_q3 = []\n",
    "attend_stroketeam_max = []\n",
    "\n",
    "# For each hospital, store descriptive statistics of SHAP values for those\n",
    "#   instances that attend the hospital\n",
    "for h in hospital_names:\n",
    "    mask = df_hosp_shap_values['Stroke team'] == h\n",
    "    data_stroke_team = df_hosp_shap_values[h][mask]\n",
    "    q1, q3 = np.percentile(data_stroke_team, [25,75])\n",
    "    attend_stroketeam_min.append(data_stroke_team.min())\n",
    "    attend_stroketeam_q1.append(q1)\n",
    "    attend_stroketeam_median.append(data_stroke_team.median())\n",
    "    attend_stroketeam_q3.append(q3)\n",
    "    attend_stroketeam_max.append(data_stroke_team.max())\n",
    "    \n",
    "# Create dataframe with 6 columns\n",
    "df_hosp_shap_value_stats = pd.DataFrame(hospital_names, columns=[\"hospital\"])\n",
    "df_hosp_shap_value_stats[\"shap_min\"] = attend_stroketeam_min\n",
    "df_hosp_shap_value_stats[\"shap_q1\"] = attend_stroketeam_q1\n",
    "df_hosp_shap_value_stats[\"shap_median\"] = attend_stroketeam_median\n",
    "df_hosp_shap_value_stats[\"shap_q3\"] = attend_stroketeam_q3\n",
    "df_hosp_shap_value_stats[\"shap_max\"] = attend_stroketeam_max\n",
    "\n",
    "# sort in descending median SHAP value order\n",
    "df_hosp_shap_value_stats.sort_values(\"shap_median\", ascending=False, inplace=True)                \n",
    "df_hosp_shap_value_stats.head(5)"
   ]
  },
  {
   "cell_type": "markdown",
   "metadata": {},
   "source": [
    "Add admission figures to xlabel in boxplot\n",
    "\n",
    "Create dataframe with admissions and thrombolysis rate per stroke team (index)"
   ]
  },
  {
   "cell_type": "code",
   "execution_count": 19,
   "metadata": {},
   "outputs": [
    {
     "data": {
      "text/html": [
       "<div>\n",
       "<style scoped>\n",
       "    .dataframe tbody tr th:only-of-type {\n",
       "        vertical-align: middle;\n",
       "    }\n",
       "\n",
       "    .dataframe tbody tr th {\n",
       "        vertical-align: top;\n",
       "    }\n",
       "\n",
       "    .dataframe thead th {\n",
       "        text-align: right;\n",
       "    }\n",
       "</style>\n",
       "<table border=\"1\" class=\"dataframe\">\n",
       "  <thead>\n",
       "    <tr style=\"text-align: right;\">\n",
       "      <th></th>\n",
       "      <th>Admissions</th>\n",
       "      <th>Thrombolysis</th>\n",
       "    </tr>\n",
       "    <tr>\n",
       "      <th>Stroke team</th>\n",
       "      <th></th>\n",
       "      <th></th>\n",
       "    </tr>\n",
       "  </thead>\n",
       "  <tbody>\n",
       "    <tr>\n",
       "      <th>JXJYG0100P</th>\n",
       "      <td>120</td>\n",
       "      <td>0.233333</td>\n",
       "    </tr>\n",
       "    <tr>\n",
       "      <th>VVDIY0129H</th>\n",
       "      <td>130</td>\n",
       "      <td>0.192308</td>\n",
       "    </tr>\n",
       "    <tr>\n",
       "      <th>YEXCH8391J</th>\n",
       "      <td>149</td>\n",
       "      <td>0.228188</td>\n",
       "    </tr>\n",
       "    <tr>\n",
       "      <th>CNBGF2713O</th>\n",
       "      <td>152</td>\n",
       "      <td>0.480263</td>\n",
       "    </tr>\n",
       "    <tr>\n",
       "      <th>XPABC1435F</th>\n",
       "      <td>166</td>\n",
       "      <td>0.216867</td>\n",
       "    </tr>\n",
       "    <tr>\n",
       "      <th>...</th>\n",
       "      <td>...</td>\n",
       "      <td>...</td>\n",
       "    </tr>\n",
       "    <tr>\n",
       "      <th>JINXD0311F</th>\n",
       "      <td>1377</td>\n",
       "      <td>0.368192</td>\n",
       "    </tr>\n",
       "    <tr>\n",
       "      <th>AKCGO9726K</th>\n",
       "      <td>1428</td>\n",
       "      <td>0.369748</td>\n",
       "    </tr>\n",
       "    <tr>\n",
       "      <th>OFKDF3720W</th>\n",
       "      <td>1488</td>\n",
       "      <td>0.228495</td>\n",
       "    </tr>\n",
       "    <tr>\n",
       "      <th>FPTBM7594G</th>\n",
       "      <td>1645</td>\n",
       "      <td>0.321581</td>\n",
       "    </tr>\n",
       "    <tr>\n",
       "      <th>FAJKD7118X</th>\n",
       "      <td>1980</td>\n",
       "      <td>0.275758</td>\n",
       "    </tr>\n",
       "  </tbody>\n",
       "</table>\n",
       "<p>132 rows × 2 columns</p>\n",
       "</div>"
      ],
      "text/plain": [
       "             Admissions  Thrombolysis\n",
       "Stroke team                          \n",
       "JXJYG0100P          120      0.233333\n",
       "VVDIY0129H          130      0.192308\n",
       "YEXCH8391J          149      0.228188\n",
       "CNBGF2713O          152      0.480263\n",
       "XPABC1435F          166      0.216867\n",
       "...                 ...           ...\n",
       "JINXD0311F         1377      0.368192\n",
       "AKCGO9726K         1428      0.369748\n",
       "OFKDF3720W         1488      0.228495\n",
       "FPTBM7594G         1645      0.321581\n",
       "FAJKD7118X         1980      0.275758\n",
       "\n",
       "[132 rows x 2 columns]"
      ]
     },
     "execution_count": 19,
     "metadata": {},
     "output_type": "execute_result"
    }
   ],
   "source": [
    "# Get Stroke team name, the stroke team admission numbers, and list of SHAP values for each instance that attended teh stroke team\n",
    "unique_stroketeams_list = list(set(X_combined[\"Stroke team\"]))\n",
    "admissions = [X[f'team_{s}'].sum() for s in unique_stroketeams_list]\n",
    "\n",
    "df_stroketeam_ivt_adms = pd.DataFrame(unique_stroketeams_list, \n",
    "                                      columns=[\"Stroke team\"])\n",
    "df_stroketeam_ivt_adms[\"Admissions\"] = admissions\n",
    "df_stroketeam_ivt_adms.set_index(\"Stroke team\", inplace=True)\n",
    "df_stroketeam_ivt_adms.sort_values(\"Admissions\", ascending=True, inplace=True)\n",
    "\n",
    "# Calculate IVT rate per hosptial\n",
    "hosp_ivt_rate = data.groupby(by=[\"Stroke team\"]).mean()[\"Thrombolysis\"]\n",
    "\n",
    "# Join IVT rate with admissions per hosptial\n",
    "df_stroketeam_ivt_adms = df_stroketeam_ivt_adms.join(hosp_ivt_rate)\n",
    "\n",
    "df_stroketeam_ivt_adms"
   ]
  },
  {
   "cell_type": "markdown",
   "metadata": {},
   "source": [
    "Create data for boxplot. Using order of hospitals from the hosp_shap_stats_df dataframe."
   ]
  },
  {
   "cell_type": "code",
   "execution_count": 22,
   "metadata": {},
   "outputs": [],
   "source": [
    "# Go through this order of hospitals\n",
    "hospital_order = df_hosp_shap_value_stats[\"hospital\"]\n",
    "    \n",
    "# Create list of SHAP main effect values (one per hospital) for instances that \n",
    "#   attend stroke team\n",
    "attend_stroketeam_groups_ordered = []\n",
    "not_attend_stroketeam_groups_ordered = []\n",
    "\n",
    "# Create list of labels for boxplot \"stroke team name (admissions)\"\n",
    "xlabel = []\n",
    "\n",
    "# Through hospital in defined order (as determined above)\n",
    "for h in hospital_order:\n",
    "    # Attend\n",
    "    mask = df_hosp_shap_values['Stroke team'] == h\n",
    "    attend_stroketeam_groups_ordered.append(df_hosp_shap_values[h][mask])\n",
    "    # Not attend\n",
    "    mask = df_hosp_shap_values['Stroke team'] != h\n",
    "    not_attend_stroketeam_groups_ordered.append(df_hosp_shap_values[h][mask])\n",
    "    # Label\n",
    "    ivt_rate = int(df_stroketeam_ivt_adms['Thrombolysis'].loc[h] * 100)\n",
    "    xlabel.append(f\"{h} ({df_stroketeam_ivt_adms['Admissions'].loc[h]}, \"\n",
    "                  f\"{ivt_rate}%)\")"
   ]
  },
  {
   "cell_type": "markdown",
   "metadata": {},
   "source": [
    "Plot the boxplot\n",
    "\n",
    "Resource for using overall y min and max of both datasets on the 4 plots so have the same range\n",
    "#https://blog.finxter.com/how-to-find-the-minimum-of-a-list-of-lists-in-python/#:~:text=With%20the%20key%20argument%20of,of%20the%20list%20of%20lists."
   ]
  },
  {
   "cell_type": "code",
   "execution_count": 26,
   "metadata": {},
   "outputs": [
    {
     "name": "stdout",
     "output_type": "stream",
     "text": [
      "Shows the range of contributions to the prediction from this hospital when patients 1) do [black], and 2) do not [orange] attend this hosptial\n"
     ]
    },
    {
     "data": {
      "image/png": "[encoded data removed]",
      "text/plain": [
       "<Figure size 1080x288 with 1 Axes>"
      ]
     },
     "metadata": {
      "needs_background": "light"
     },
     "output_type": "display_data"
    },
    {
     "data": {
      "image/png": "[encoded data removed]",
      "text/plain": [
       "<Figure size 1080x288 with 1 Axes>"
      ]
     },
     "metadata": {
      "needs_background": "light"
     },
     "output_type": "display_data"
    },
    {
     "data": {
      "image/png": "[encoded data removed]",
      "text/plain": [
       "<Figure size 1080x288 with 1 Axes>"
      ]
     },
     "metadata": {
      "needs_background": "light"
     },
     "output_type": "display_data"
    },
    {
     "data": {
      "image/png": "[encoded data removed]",
      "text/plain": [
       "<Figure size 1080x288 with 1 Axes>"
      ]
     },
     "metadata": {
      "needs_background": "light"
     },
     "output_type": "display_data"
    }
   ],
   "source": [
    "# Plot 34 hospitals on each figure to aid readability\n",
    "print(\"Shows the range of contributions to the prediction from this hospital \"\n",
    "      \"when patients 1) do [black], and 2) do not [orange] attend this \"\n",
    "      \"hosptial\")\n",
    "\n",
    "# Group the hospitals into 35\n",
    "st = 0\n",
    "ed = 34\n",
    "inc = ed\n",
    "max_size = n_hospitals\n",
    "\n",
    "# Use overall y min & max of both datasets on the 4 plots so have same range\n",
    "ymin1 = min(min(attend_stroketeam_groups_ordered, key=min))\n",
    "ymin2 = min(min(not_attend_stroketeam_groups_ordered, key=min))\n",
    "ymax1 = max(max(attend_stroketeam_groups_ordered, key=max))\n",
    "ymax2 = max(max(not_attend_stroketeam_groups_ordered, key=max))\n",
    "ymin = min(ymin1, ymin2)\n",
    "ymax = max(ymax1, ymax2)\n",
    "\n",
    "# Adjust min and max to accommodate some wriggle room\n",
    "yrange = ymax - ymin1\n",
    "ymin = ymin - yrange/50\n",
    "ymax = ymax + yrange/50\n",
    "\n",
    "# Create four plots\n",
    "for i in range(4):\n",
    "\n",
    "    # Create figure\n",
    "    fig = plt.figure(figsize=(15,4))\n",
    "    ax = fig.add_subplot(1,1,1)\n",
    "    # The contribution from this hospital when patients don't attend this \n",
    "    #    hosptial\n",
    "    c1 = \"orange\"\n",
    "    c2 = \"orange\"\n",
    "    c3 = \"white\"\n",
    "    ax.boxplot(not_attend_stroketeam_groups_ordered[st:ed],\n",
    "               labels=xlabel[st:ed],#hospital_order[st:ed],\n",
    "               whis=99999,patch_artist=True, notch=True,\n",
    "               boxprops=dict(facecolor=c3, color=c1),\n",
    "               capprops=dict(color=c1),\n",
    "               whiskerprops=dict(color=c1),\n",
    "               flierprops=dict(color=c1, markeredgecolor=c1),\n",
    "               medianprops=dict(color=c2))\n",
    "       \n",
    "    # The contribution from this hospital when patients do attend this hosptial\"\n",
    "    c1 = \"black\"\n",
    "    c2 = \"black\"\n",
    "    c3 = \"white\"\n",
    "    ax.boxplot(attend_stroketeam_groups_ordered[st:ed],\n",
    "               labels=xlabel[st:ed],#df_hosp[\"hospital\"][st:ed],\n",
    "               whis=99999,patch_artist=True, notch=True,\n",
    "               boxprops=dict(facecolor=c3, color=c1),\n",
    "               capprops=dict(color=c1),\n",
    "               whiskerprops=dict(color=c1),\n",
    "               flierprops=dict(color=c1, markeredgecolor=c1),\n",
    "               medianprops=dict(color=c2))\n",
    "\n",
    "    plt.ylabel('Shap values of one-hot encoded feature',size=15)\n",
    "    plt.xlabel('Stroke team (admissions, IVT rate)',size=15)\n",
    "    plt.ylim(ymin, ymax)\n",
    "    plt.xticks(rotation=90)\n",
    "    # Add line at Shap = 0\n",
    "    plt.plot([plt.xlim()[0], plt.xlim()[1]], [0,0], c='0.8') \n",
    "    plt.show()\n",
    "    st = min(st+inc,max_size)\n",
    "    ed = min(ed+inc,max_size)"
   ]
  },
  {
   "cell_type": "markdown",
   "metadata": {},
   "source": [
    "Notice that when patients do not attend the hospital, the range of the SHAP values are largely centred on zero.\n",
    "When patients do attend hosptial, the range of SHAP values are largely on one side of zero, or the other."
   ]
  },
  {
   "cell_type": "code",
   "execution_count": 28,
   "metadata": {},
   "outputs": [
    {
     "name": "stdout",
     "output_type": "stream",
     "text": [
      "There are 59 hospitals whose interquartile range is below zero\n",
      "There are 21 hospitals whose interquartile range spans zero\n",
      "There are 51 hospitals whose interquartile range is above zero\n",
      "There are 1 hospitals whose interquartile range is zero\n"
     ]
    }
   ],
   "source": [
    "iqr_below_zero = df_hosp_shap_value_stats[\"shap_q3\"] < 0\n",
    "iqr_spans_zero = (df_hosp_shap_value_stats[\"shap_q1\"] * \n",
    "                  df_hosp_shap_value_stats[\"shap_q3\"])\n",
    "iqr_above_zero = df_hosp_shap_value_stats[\"shap_q1\"] > 0\n",
    "iqr_is_zero1 = df_hosp_shap_value_stats[\"shap_q1\"] == 0\n",
    "iqr_is_zero2 = df_hosp_shap_value_stats[\"shap_q3\"] == 0\n",
    "iqr_is_zero = iqr_is_zero1 * iqr_is_zero2\n",
    "\n",
    "print (f\"There are {iqr_below_zero.sum()} hospitals whose interquartile range \"\n",
    "       f\"is below zero\")\n",
    "print (f\"There are {iqr_spans_zero.lt(0).sum()} hospitals whose interquartile \"\n",
    "       f\"range spans zero\")\n",
    "print (f\"There are {iqr_above_zero.sum()} hospitals whose interquartile range \"\n",
    "       f\"is above zero\")\n",
    "print (f\"There are {iqr_is_zero.sum()} hospitals whose interquartile range is \"\n",
    "       f\"zero\")"
   ]
  },
  {
   "cell_type": "markdown",
   "metadata": {},
   "source": [
    "How does the SHAP value for the one-hot encoded hospital features compare to the thrombolysis rate of the hospital?\n",
    "\n",
    "Create dataframe containing the hospital's IVT rate and SHAP value (for those patients that attend the hospital)."
   ]
  },
  {
   "cell_type": "code",
   "execution_count": 32,
   "metadata": {},
   "outputs": [
    {
     "data": {
      "text/html": [
       "<div>\n",
       "<style scoped>\n",
       "    .dataframe tbody tr th:only-of-type {\n",
       "        vertical-align: middle;\n",
       "    }\n",
       "\n",
       "    .dataframe tbody tr th {\n",
       "        vertical-align: top;\n",
       "    }\n",
       "\n",
       "    .dataframe thead th {\n",
       "        text-align: right;\n",
       "    }\n",
       "</style>\n",
       "<table border=\"1\" class=\"dataframe\">\n",
       "  <thead>\n",
       "    <tr style=\"text-align: right;\">\n",
       "      <th></th>\n",
       "      <th>shap_median</th>\n",
       "      <th>Thrombolysis</th>\n",
       "    </tr>\n",
       "    <tr>\n",
       "      <th>hospital</th>\n",
       "      <th></th>\n",
       "      <th></th>\n",
       "    </tr>\n",
       "  </thead>\n",
       "  <tbody>\n",
       "    <tr>\n",
       "      <th>GKONI0110I</th>\n",
       "      <td>1.147333</td>\n",
       "      <td>0.389153</td>\n",
       "    </tr>\n",
       "    <tr>\n",
       "      <th>CNBGF2713O</th>\n",
       "      <td>1.145275</td>\n",
       "      <td>0.480263</td>\n",
       "    </tr>\n",
       "    <tr>\n",
       "      <th>VKKDD9172T</th>\n",
       "      <td>0.982388</td>\n",
       "      <td>0.284695</td>\n",
       "    </tr>\n",
       "    <tr>\n",
       "      <th>NTPQZ0829K</th>\n",
       "      <td>0.935364</td>\n",
       "      <td>0.349603</td>\n",
       "    </tr>\n",
       "    <tr>\n",
       "      <th>HPWIF9956L</th>\n",
       "      <td>0.908798</td>\n",
       "      <td>0.487562</td>\n",
       "    </tr>\n",
       "    <tr>\n",
       "      <th>...</th>\n",
       "      <td>...</td>\n",
       "      <td>...</td>\n",
       "    </tr>\n",
       "    <tr>\n",
       "      <th>LGNPK4211W</th>\n",
       "      <td>-1.065176</td>\n",
       "      <td>0.227181</td>\n",
       "    </tr>\n",
       "    <tr>\n",
       "      <th>LECHF1024T</th>\n",
       "      <td>-1.069515</td>\n",
       "      <td>0.204301</td>\n",
       "    </tr>\n",
       "    <tr>\n",
       "      <th>LFPMM4706C</th>\n",
       "      <td>-1.089919</td>\n",
       "      <td>0.062500</td>\n",
       "    </tr>\n",
       "    <tr>\n",
       "      <th>XPABC1435F</th>\n",
       "      <td>-1.132395</td>\n",
       "      <td>0.216867</td>\n",
       "    </tr>\n",
       "    <tr>\n",
       "      <th>HZMLX7970T</th>\n",
       "      <td>-1.225109</td>\n",
       "      <td>0.194286</td>\n",
       "    </tr>\n",
       "  </tbody>\n",
       "</table>\n",
       "<p>132 rows × 2 columns</p>\n",
       "</div>"
      ],
      "text/plain": [
       "            shap_median  Thrombolysis\n",
       "hospital                             \n",
       "GKONI0110I     1.147333      0.389153\n",
       "CNBGF2713O     1.145275      0.480263\n",
       "VKKDD9172T     0.982388      0.284695\n",
       "NTPQZ0829K     0.935364      0.349603\n",
       "HPWIF9956L     0.908798      0.487562\n",
       "...                 ...           ...\n",
       "LGNPK4211W    -1.065176      0.227181\n",
       "LECHF1024T    -1.069515      0.204301\n",
       "LFPMM4706C    -1.089919      0.062500\n",
       "XPABC1435F    -1.132395      0.216867\n",
       "HZMLX7970T    -1.225109      0.194286\n",
       "\n",
       "[132 rows x 2 columns]"
      ]
     },
     "execution_count": 32,
     "metadata": {},
     "output_type": "execute_result"
    }
   ],
   "source": [
    "hosp_ivt_rate = data.groupby(by=[\"Stroke team\"]).mean()[\"Thrombolysis\"]\n",
    "df_hosp_plot = (\n",
    "        df_hosp_shap_value_stats[[\"shap_median\",\"hospital\"]].copy(deep=True))\n",
    "df_hosp_plot.set_index(\"hospital\", inplace=True)\n",
    "df_hosp_plot = df_hosp_plot.join(hosp_ivt_rate)\n",
    "df_hosp_plot"
   ]
  },
  {
   "cell_type": "markdown",
   "metadata": {},
   "source": [
    "Plot SHAP value for one-hot encoded hospital feature (median for those instances that attend the hospital) vs hospital IVT rate"
   ]
  },
  {
   "cell_type": "code",
   "execution_count": 33,
   "metadata": {},
   "outputs": [
    {
     "data": {
      "image/png": "[encoded data removed]",
      "text/plain": [
       "<Figure size 432x432 with 1 Axes>"
      ]
     },
     "metadata": {
      "needs_background": "light"
     },
     "output_type": "display_data"
    }
   ],
   "source": [
    "# Setup data for chart\n",
    "x = df_hosp_plot['shap_median']\n",
    "y = df_hosp_plot['Thrombolysis']\n",
    "\n",
    "# Fit a regression line to the points\n",
    "slope, intercept, r_value, p_value, std_err = \\\n",
    "    stats.linregress(x, y)\n",
    "r_square = r_value ** 2\n",
    "y_pred = intercept + (x * slope)\n",
    "\n",
    "# Create scatter plot with regression line\n",
    "fig = plt.figure(figsize=(6,6))\n",
    "ax = fig.add_subplot(1,1,1)\n",
    "ax.scatter(x, y)\n",
    "ax.plot (x, y_pred, color = 'red')\n",
    "f = 'formula: ' + str(\"{:.2f}\".format(slope)) + 'x + ' + str(\"{:.2f}\".format(intercept))\n",
    "text = f'R squared: {r_square:.3f}\\np: {p_value:0.4f}\\nformula: {f}'\n",
    "ax.text(-1.2, 0.43, text, \n",
    "         bbox=dict(facecolor='white', edgecolor='black'))\n",
    "ax.set_xlabel(\"SHAP value (median of the instances that attend the hosptial)\")\n",
    "ax.set_ylabel('Thrombolysis rate')\n",
    "ax.set_title(\"SHAP value vs IVT rate\")\n",
    "plt.grid()\n",
    "\n",
    "plt.show()"
   ]
  },
  {
   "cell_type": "markdown",
   "metadata": {
    "tags": []
   },
   "source": [
    "### Observations\n",
    "* SHAP values for the one-hot encoded hospital features are very dependent on whether the instance attended the hospital or not\n",
    "* SHAP values for the attended one-hot encoded hospital feature are largely one side of zero or the other. There are fewer instances in this population, but the range of SHAP values is wider.\n",
    "* SHAP values for the not attended one-hot encoded hospitals are largely centred on zero. There are more instances in this population, but the range of SHAP values is narrower.\n",
    "* 58% of the variability in hospital thrombolysis rate can be explained by the SHAP value for the one-hot encoded hospital feature (the median of those instances that attend the hospital)."
   ]
  },
  {
   "cell_type": "markdown",
   "metadata": {},
   "source": [
    "### Extra code.\n",
    "\n",
    "There was a journey to analyse the data and arrive at the boxplot (that we found to be the best visualisation yet to summarise this data). \n",
    "\n",
    "Below are the other ways we looked at the data as we arrived at the boxplot."
   ]
  },
  {
   "cell_type": "markdown",
   "metadata": {},
   "source": [
    "View descriptive stats"
   ]
  },
  {
   "cell_type": "code",
   "execution_count": null,
   "metadata": {},
   "outputs": [],
   "source": [
    "df_hosp_shap_values.describe()"
   ]
  },
  {
   "cell_type": "markdown",
   "metadata": {},
   "source": [
    "Are there any hospitals that only have one value for all instances?\n",
    "This indicates that the feature was not used to divide a node in any of the trees."
   ]
  },
  {
   "cell_type": "code",
   "execution_count": null,
   "metadata": {},
   "outputs": [],
   "source": [
    "print(\"These hospitals have the same SHAP value for all patients\")\n",
    "for h in hospital_names:\n",
    "    if df_hosp_shap_values[h].nunique() == 1:\n",
    "        print(f\"{h} has SHAP value {df_hosp_shap_values[h].unique()[0]} for all instances\")"
   ]
  },
  {
   "cell_type": "markdown",
   "metadata": {},
   "source": [
    "What's the range of number of unique values for each hospital for all patients?"
   ]
  },
  {
   "cell_type": "code",
   "execution_count": null,
   "metadata": {},
   "outputs": [],
   "source": [
    "print (\"The range of unique values for each hosptial\")       \n",
    "n_unique_per_hosptial = [df_hosp_shap_values[h].nunique() for h in hospital_names]                         \n",
    "fig, axes = plt.subplots(1)\n",
    "axes.hist(n_unique_per_hosptial);"
   ]
  },
  {
   "cell_type": "markdown",
   "metadata": {},
   "source": [
    "Is there a relationship between number of unique shap values, and admission numbers?"
   ]
  },
  {
   "cell_type": "code",
   "execution_count": null,
   "metadata": {},
   "outputs": [],
   "source": [
    "# Calculate the number of admissions per hospital\n",
    "admissions = [X[h].sum() for h in hospital_names_ohe]\n",
    "\n",
    "# Calculate number of unique SHAP values\n",
    "n_unique_per_hosptial_all_instances = [df_hosp_shap_values[h].nunique() for h in hospital_names]\n",
    "\n",
    "# Calculate number of unique SHAP values for patients that attend\n",
    "n_unique_per_hosptial_attend = []\n",
    "n_unique_per_hosptial_not_attend = []\n",
    "for h in hospital_names:\n",
    "    mask = df_hosp_shap_values[\"Stroke team\"] == h\n",
    "    n_unique_per_hosptial_attend.append(df_hosp_shap_values[h][mask].nunique())\n",
    "    mask = np.logical_not(mask)\n",
    "    n_unique_per_hosptial_not_attend.append(df_hosp_shap_values[h][mask].nunique())\n",
    "\n",
    "# Store in dataframe\n",
    "df_hospital_details = pd.DataFrame(admissions, columns=[\"admissions\"])\n",
    "df_hospital_details[\"number_of_unique_shap_values\"] = n_unique_per_hosptial_all_instances\n",
    "df_hospital_details[\"number_of_unique_shap_values_attend\"] = n_unique_per_hosptial_attend\n",
    "df_hospital_details[\"number_of_unique_shap_values_not_attend\"] = n_unique_per_hosptial_not_attend\n",
    "\n",
    "# Include hospital name (in both forms, original dataet, and ohe format)\n",
    "#df_hospital_details[\"Stroke team ohe\"] = hospital_names\n",
    "\n",
    "#hospital_columns = [col[5:] for col in hospital_names]\n",
    "df_hospital_details[\"Stroke team\"] = hospital_names"
   ]
  },
  {
   "cell_type": "code",
   "execution_count": null,
   "metadata": {},
   "outputs": [],
   "source": [
    "# Plot 1: Admissions vs number of unique SHAP values\n",
    "#   With all instances contributing to SHAP value count\n",
    "df_hospital_details.plot.scatter(x=\"admissions\", \n",
    "                                 y=\"number_of_unique_shap_values\")\n",
    "\n",
    "# Plot 2: Admissions vs number of unique SHAP values\n",
    "#   With only instances that attend hosptial contributing to SHAP value count\n",
    "ax = df_hospital_details.plot.scatter(x=\"admissions\", \n",
    "                                      y=\"number_of_unique_shap_values_attend\")\n",
    "# Include x = y line (shows the max number of of unique values)\n",
    "max_axis_value = max(ax.get_xlim()[1], ax.get_ylim()[1])\n",
    "ax.plot([0, max_axis_value], [0, max_axis_value], c='0.5')\n",
    "\n",
    "# Plot 3: Admissions vs number of unique SHAP values\n",
    "#   With only instances that do not attend hosptial contributing to SHAP value count\n",
    "df_hospital_details.plot.scatter(x=\"admissions\",\n",
    "                                 y=\"number_of_unique_shap_values_not_attend\")"
   ]
  },
  {
   "cell_type": "markdown",
   "metadata": {},
   "source": [
    "Let's look at a hospital with the most unique values"
   ]
  },
  {
   "cell_type": "code",
   "execution_count": null,
   "metadata": {},
   "outputs": [],
   "source": [
    "row_index = df_hospital_details[\"number_of_unique_shap_values\"].idxmax()\n",
    "stroke_team_max_n_unique = df_hospital_details[\"Stroke team\"].iloc[row_index]\n",
    "print(f\"Hospital {stroke_team_max_n_unique} has \"\n",
    "      f\"{df_hospital_details['number_of_unique_shap_values'].max()} \"\n",
    "      f\"unique values\")"
   ]
  },
  {
   "cell_type": "markdown",
   "metadata": {},
   "source": [
    "Look at descriptive stats for this hospital"
   ]
  },
  {
   "cell_type": "code",
   "execution_count": null,
   "metadata": {},
   "outputs": [],
   "source": [
    "df_hosp_shap_values[stroke_team_max_n_unique].describe()"
   ]
  },
  {
   "cell_type": "markdown",
   "metadata": {},
   "source": [
    "What's the difference between the SHAP value for this hospital for the instances that attended it, compared to those instances that didn't?\n",
    "\n",
    "Colour histogram bars to represent: Green for positive SHAP value, Grey for 0, and Red for negative SHAP value."
   ]
  },
  {
   "cell_type": "code",
   "execution_count": null,
   "metadata": {},
   "outputs": [],
   "source": [
    "def create_histogram_with_colours(data, bins, ax):\n",
    "\n",
    "    \"\"\"\n",
    "    data:\n",
    "    bins:\n",
    "    ax:\n",
    "    \n",
    "    Return ax\n",
    "    \"\"\"\n",
    "    \n",
    "    N, bins, patches = ax.hist(data,\n",
    "                               edgecolor='white', linewidth=0.2, bins=bins);\n",
    "\n",
    "    for i in range(N.shape[0]):\n",
    "        if bins[i] < 0 and bins[i+1] < 0:\n",
    "                patches[i].set_facecolor('red')\n",
    "        elif bins[i] > 0 and bins[i+1] > 0:\n",
    "                patches[i].set_facecolor('green')\n",
    "        else:\n",
    "            patches[i].set_facecolor('black')\n",
    "\n",
    "    return(ax)"
   ]
  },
  {
   "cell_type": "code",
   "execution_count": null,
   "metadata": {},
   "outputs": [],
   "source": [
    "stroke_team = stroke_team_max_n_unique\n",
    "\n",
    "mask1 = df_hosp_shap_values[\"Stroke team\"] == stroke_team\n",
    "shap_values_attend = df_hosp_shap_values[stroke_team][mask1]\n",
    "\n",
    "mask2 = np.logical_not(mask1)\n",
    "shap_values_not_attend = df_hosp_shap_values[stroke_team][mask2]\n",
    "\n",
    "# Plot histogram of SHAP values for all instances\n",
    "fig, ax = plt.subplots()\n",
    "create_histogram_with_colours(df_hosp_shap_values[stroke_team], 100, ax)\n",
    "ax.set_xlabel(f\"SHAP\")\n",
    "ax.set_ylabel(\"Number of instances\")\n",
    "print(f\"{stroke_team}. Number of unique values for all patients (attended or \"\n",
    "      \"not): {df_hosp_shap_values[stroke_team].nunique()}\")\n",
    "print(f\"Number of patients {df_hosp_shap_values[stroke_team].shape[0]}\")\n",
    "plt.show\n",
    "\n",
    "# Plot histogram of SHAP values for instances attend hospital\n",
    "mask1 = mask1 * 1\n",
    "s1 = mask1.sum()\n",
    "fig, ax = plt.subplots()\n",
    "ax = create_histogram_with_colours(shap_values_attend, 100, ax)\n",
    "ax.set_xlabel(f\"SHAP\")\n",
    "ax.set_ylabel(\"Number of instances\")\n",
    "print(f\"{stroke_team}. Number of unique values for those patients who \"\n",
    "      \"attended: {shap_values_attend.nunique()}\")\n",
    "print(f\"Number of patients {s1}\")\n",
    "plt.show\n",
    "\n",
    "# Plot histogram of SHAP values for instances not attend hospital\n",
    "mask2 = mask2 * 1\n",
    "s2 = mask2.sum()\n",
    "fig, ax = plt.subplots()\n",
    "ax = create_histogram_with_colours(shap_values_not_attend, 100, ax)\n",
    "ax.set_xlabel(f\"SHAP\")\n",
    "ax.set_ylabel(\"Number of instances\")\n",
    "print(f\"{stroke_team}. Number of unique values for those patients who do not \"\n",
    "      \"attended: {shap_values_not_attend.nunique()}\")\n",
    "print(f\"Number of patients {s2}\")\n",
    "plt.show\n"
   ]
  },
  {
   "cell_type": "markdown",
   "metadata": {},
   "source": [
    "So there's two populations, but in the top plot you can not see the histogram for the instances that attended the hospital, as their frequency is too few and the plot is dominated by the frequency range for the number of patients who did not attend the hosptial.\n",
    "\n",
    "Those that attend have a higher SHAP value, but there's fewer instances so can not see these values.\n",
    "Those that do not attend have a low SHAP value, a smaller range of values, but far more instances, so dominates the y axis, but can not see the spread (as the other population has determines the x axis range).\n",
    "\n",
    "Better to view as two populations."
   ]
  },
  {
   "cell_type": "markdown",
   "metadata": {},
   "source": [
    "Plot a boxplot for the SHAP values of each hospital (for all instances)"
   ]
  },
  {
   "cell_type": "code",
   "execution_count": null,
   "metadata": {},
   "outputs": [],
   "source": [
    "# Create list of values for each boxplot (one per hospital)\n",
    "stroketeam_groups = []\n",
    "for h in hospital_names:\n",
    "    stroketeam_groups.append(df_hosp_shap_values[h])"
   ]
  },
  {
   "cell_type": "code",
   "execution_count": null,
   "metadata": {},
   "outputs": [],
   "source": [
    "# Create a figure with 35 hospitals in each to aid visually\n",
    "print(\"Shows the range of contributions to the prediction from this hospital \"\n",
    "      \"for all the instances\")\n",
    "\n",
    "# To group the hospitals into 34\n",
    "st = 0\n",
    "ed = 34\n",
    "inc = ed\n",
    "max_size = n_hospitals\n",
    "\n",
    "# Plot properties\n",
    "c1 = \"navy\"\n",
    "c2 = \"navy\"\n",
    "c3 = \"white\"\n",
    "\n",
    "# Create four plots\n",
    "for i in range(4):\n",
    "    #plot boxplot\n",
    "    plt.figure(figsize=(15, 4))\n",
    "    plt.boxplot(stroketeam_groups[st:ed],\n",
    "                labels=df_hosp_shap_values.columns[st:ed],\n",
    "                whis=9999999, patch_artist=True, notch=True,\n",
    "                boxprops=dict(facecolor=c3, color=c1),\n",
    "                capprops=dict(color=c1),\n",
    "                whiskerprops=dict(color=c1),\n",
    "                flierprops=dict(color=c1, markeredgecolor=c1),\n",
    "                medianprops=dict(color=c2))\n",
    "    plt.ylabel('Shap values of one-hot encoded feature',size=15)\n",
    "    plt.xlabel('Stroke team',size=15)\n",
    "    plt.xticks(rotation=90)\n",
    "    plt.show()\n",
    "    st = min(st+inc,max_size)\n",
    "    ed = min(ed+inc,max_size)"
   ]
  },
  {
   "cell_type": "markdown",
   "metadata": {},
   "source": [
    "Shows that hospitals have the majority of their cases at value 0, and some have a longer range than others, with most having their range entirely on one side of 0 or the other."
   ]
  },
  {
   "cell_type": "markdown",
   "metadata": {},
   "source": [
    "Let's plot it again, twice, showing only those instances that go to the hospital, and again when they do not."
   ]
  },
  {
   "cell_type": "markdown",
   "metadata": {},
   "source": [
    "Include instances that attend the hospital only"
   ]
  },
  {
   "cell_type": "code",
   "execution_count": null,
   "metadata": {},
   "outputs": [],
   "source": [
    "# Create list of values for each boxplot (one per hospital), only include SHAP \n",
    "#   value for instances that attend stroke team\n",
    "attend_stroketeam_groups = []\n",
    "for h in hospital_names:#df_hosp_shap_values.columns[:-1]:\n",
    "    mask = df_hosp_shap_values['Stroke team'] == h#col[5:] #drop \"team_\"\n",
    "    attend_stroketeam_groups.append(df_hosp_shap_values[h][mask])"
   ]
  },
  {
   "cell_type": "code",
   "execution_count": null,
   "metadata": {},
   "outputs": [],
   "source": [
    "# Create a figure with 35 hospitals in each to aid visually\n",
    "print(\"Shows the range of contributions to the prediction from this hospital \"\n",
    "      \"when patients attend this hosptial\")\n",
    "\n",
    "# To group the hospitals into 34\n",
    "st = 0\n",
    "ed = 34\n",
    "inc = ed\n",
    "max_size = n_hospitals\n",
    "\n",
    "# Plot properties\n",
    "c1 = \"black\"\n",
    "c2 = \"black\"\n",
    "c3 = \"white\"\n",
    "\n",
    "# Create four plots\n",
    "for i in range(4):\n",
    "    plt.figure(figsize=(15, 4))\n",
    "        \n",
    "    plt.boxplot(attend_stroketeam_groups[st:ed],\n",
    "                labels=df_hosp_shap_values.columns[st:ed],\n",
    "                whis=999999,patch_artist=True, notch=True,\n",
    "                boxprops=dict(facecolor=c3, color=c1),\n",
    "                capprops=dict(color=c1),\n",
    "                whiskerprops=dict(color=c1),\n",
    "                flierprops=dict(color=c1, markeredgecolor=c1),\n",
    "                medianprops=dict(color=c2))\n",
    "\n",
    "    plt.ylabel('Shap values of one-hot encoded feature',size=15)\n",
    "    plt.xlabel('Stroke team',size=15)\n",
    "    plt.xticks(rotation=90)\n",
    "    plt.show()\n",
    "    st = min(st+inc,max_size)\n",
    "    ed = min(ed+inc,max_size)"
   ]
  },
  {
   "cell_type": "markdown",
   "metadata": {},
   "source": [
    "Edit data so only contains instances when not go to hospital"
   ]
  },
  {
   "cell_type": "code",
   "execution_count": null,
   "metadata": {},
   "outputs": [],
   "source": [
    "# Only include SHAP value for instances that do not attend stroke team\n",
    "not_attend_stroketeam_groups = []\n",
    "for h in hospital_names:#df_hosp_shap_values.columns[:-1]:\n",
    "    mask = df_hosp_shap_values['Stroke team'] != h#col[5:] #drop \"team_\"\n",
    "    not_attend_stroketeam_groups.append(df_hosp_shap_values[h][mask])"
   ]
  },
  {
   "cell_type": "code",
   "execution_count": null,
   "metadata": {},
   "outputs": [],
   "source": [
    "# Create a figure with 35 hospitals in each to aid visually\n",
    "print(\"Shows the range of contributions to the prediction from this hospital \"\n",
    "      \"when patients do not attend this hosptial\")\n",
    "\n",
    "# To group the hospitals into 34\n",
    "st = 0\n",
    "ed = 34\n",
    "inc = ed\n",
    "max_size = n_hospitals\n",
    "\n",
    "# Plot properties\n",
    "c1 = \"orange\"\n",
    "c2 = \"orange\"\n",
    "c3 = \"white\"\n",
    " \n",
    "# Create four plots\n",
    "for i in range(4):\n",
    "    plt.figure(figsize=(15, 4))\n",
    "\n",
    "    plt.boxplot(not_attend_stroketeam_groups[st:ed],\n",
    "                labels=df_hosp_shap_values.columns[st:ed],\n",
    "                whis=999999,patch_artist=True, notch=True,\n",
    "                boxprops=dict(facecolor=c3, color=c1),\n",
    "                capprops=dict(color=c1),\n",
    "                whiskerprops=dict(color=c1),\n",
    "                flierprops=dict(color=c1, markeredgecolor=c1),\n",
    "                medianprops=dict(color=c2))\n",
    "        \n",
    "    plt.ylabel('Shap values of one-hot encoded feature',size=15)\n",
    "    plt.xlabel('Stroke team',size=15)\n",
    "    plt.xticks(rotation=90)\n",
    "    plt.show()\n",
    "    st = min(st+inc,max_size)\n",
    "    ed = min(ed+inc,max_size)"
   ]
  },
  {
   "cell_type": "raw",
   "metadata": {},
   "source": [
    "Notice that when patient do not attend the hospital the range of the SHAP values are largely centred on zero.\n",
    "And when patients do attend hosptial, the range of SHAP values are largely one side of zero or the other.\n",
    "\n",
    "Put both boxplots on one."
   ]
  },
  {
   "cell_type": "code",
   "execution_count": null,
   "metadata": {},
   "outputs": [],
   "source": [
    "# Two box plots on 1 plot (spread of SHAP when instance attend, and not attend, hospital)\n",
    "\n",
    "# Create a figure with 35 hospitals in each to aid visually\n",
    "print(\"Shows the range of contributions to the prediction from this hospital \"\n",
    "      \"when patients 1) do [black], and 2) do not [orange] attend this hosptial\")\n",
    "\n",
    "# To group the hospitals into 34\n",
    "st = 0\n",
    "ed = 34\n",
    "inc = ed\n",
    "max_size = n_hospitals\n",
    "\n",
    "# Create four plots\n",
    "for i in range(4):\n",
    "    #plot boxplot\n",
    "    plt.figure(figsize=(15, 4))\n",
    "\n",
    "    # The contribution from this hospital when patients do not attend this hosptial\n",
    "    c1 = \"orange\"\n",
    "    c2 = \"orange\"\n",
    "    c3 = \"white\"\n",
    "    plt.boxplot(not_attend_stroketeam_groups[st:ed],\n",
    "                labels=df_hosp_shap_values.columns[st:ed],\n",
    "                whis=99999,patch_artist=True, notch=True,\n",
    "                boxprops=dict(facecolor=c3, color=c1),\n",
    "                capprops=dict(color=c1),\n",
    "                whiskerprops=dict(color=c1),\n",
    "                flierprops=dict(color=c1, markeredgecolor=c1),\n",
    "                medianprops=dict(color=c2))\n",
    "        \n",
    "    # The contribution from this hospital when patients do attend this hosptial\n",
    "    c1 = \"black\"\n",
    "    c2 = \"black\"\n",
    "    c3 = \"white\"\n",
    "    plt.boxplot(attend_stroketeam_groups[st:ed],\n",
    "                labels=df_hosp_shap_values.columns[st:ed],\n",
    "                whis=99999,patch_artist=True, notch=True,\n",
    "                boxprops=dict(facecolor=c3, color=c1),\n",
    "                capprops=dict(color=c1),\n",
    "                whiskerprops=dict(color=c1),\n",
    "                flierprops=dict(color=c1, markeredgecolor=c1),\n",
    "                medianprops=dict(color=c2))\n",
    "\n",
    "    plt.ylabel('Shap values of one-hot encoded feature',size=15)\n",
    "    plt.xlabel('Stroke team',size=15)\n",
    "    plt.xticks(rotation=90)\n",
    "    plt.show()\n",
    "    st = min(st+inc,max_size)\n",
    "    ed = min(ed+inc,max_size)"
   ]
  },
  {
   "cell_type": "code",
   "execution_count": null,
   "metadata": {},
   "outputs": [],
   "source": [
    "# Create list of values for each boxplot (one per hospital)\n",
    "#   only include SHAP value for instances that attend stroke team\n",
    "attend_stroketeam_groups = []\n",
    "for h in hospital_names:#df_hosp_shap_values.columns[:n_hospitals]:\n",
    "    mask = df_hosp_shap_values['Stroke team'] == h#col[5:] #drop \"team_\"\n",
    "    attend_stroketeam_groups.append(df_hosp_shap_values[h][mask])\n",
    "    \n",
    "# Only include SHAP value for instances that do not attend stroke team\n",
    "not_attend_stroketeam_groups = []\n",
    "for h in hospital_names:#df_hosp_shap_values.columns[:n_hospitals]:\n",
    "    mask = df_hosp_shap_values['Stroke team'] != h#col[5:] #drop \"team_\"\n",
    "    not_attend_stroketeam_groups.append(df_hosp_shap_values[h][mask])\n",
    "    \n",
    "\n",
    "# Plot 35 hospitals on each figure to aid visually\n",
    "print(\"Shows the range of contributions to the prediction from this hospital \"\n",
    "      \"when patients 1) do [black], and 2) do not [orange] attend this hosptial\")\n",
    "\n",
    "# To group the hospitals into 34\n",
    "st = 0\n",
    "ed = 34\n",
    "inc = ed\n",
    "max_size = n_hospitals\n",
    "\n",
    "# Create four plots\n",
    "for i in range(4):\n",
    "    #plot boxplot\n",
    "    plt.figure(figsize=(15, 4))\n",
    "\n",
    "    # The contribution from this hospital when patients do not attend this hosptial\n",
    "    c1 = \"orange\"\n",
    "    c2 = \"orange\"\n",
    "    c3 = \"white\"\n",
    "    plt.boxplot(not_attend_stroketeam_groups[st:ed],\n",
    "                labels=df_hosp_shap_values.columns[st:ed],\n",
    "                whis=99999,patch_artist=True, notch=True,\n",
    "                boxprops=dict(facecolor=c3, color=c1),\n",
    "                capprops=dict(color=c1),\n",
    "                whiskerprops=dict(color=c1),\n",
    "                flierprops=dict(color=c1, markeredgecolor=c1),\n",
    "                medianprops=dict(color=c2))\n",
    "        \n",
    "    # The contribution from this hospital when patients do attend this hosptial\n",
    "    c1 = \"black\"\n",
    "    c2 = \"black\"\n",
    "    c3 = \"white\"\n",
    "    plt.boxplot(attend_stroketeam_groups[st:ed],\n",
    "                labels=df_hosp_shap_values.columns[st:ed],\n",
    "                whis=99999,patch_artist=True, notch=True,\n",
    "                boxprops=dict(facecolor=c3, color=c1),\n",
    "                capprops=dict(color=c1),\n",
    "                whiskerprops=dict(color=c1),\n",
    "                flierprops=dict(color=c1, markeredgecolor=c1),\n",
    "                medianprops=dict(color=c2))\n",
    "\n",
    "    plt.ylabel('Shap values of one-hot encoded feature',size=15)\n",
    "    plt.xlabel('Stroke team',size=15)\n",
    "    plt.xticks(rotation=90)\n",
    "    plt.show()\n",
    "    st = min(st+inc,max_size)\n",
    "    ed = min(ed+inc,max_size)"
   ]
  },
  {
   "cell_type": "markdown",
   "metadata": {},
   "source": [
    "Does it help understanding to represent this as histograms?"
   ]
  },
  {
   "cell_type": "markdown",
   "metadata": {},
   "source": [
    "Create three matrix of histograms. \n",
    "\n",
    "* One with all the instances to each hosptial\n",
    "* One with just the instances that attend each hosptial\n",
    "* One with just the instances that don't attend each hosptial."
   ]
  },
  {
   "cell_type": "markdown",
   "metadata": {},
   "source": [
    "One with all the instances to each hosptial (forcing same axis ranges)"
   ]
  },
  {
   "cell_type": "code",
   "execution_count": null,
   "metadata": {},
   "outputs": [],
   "source": [
    "# Find the largest value used for the y axis in all of the histograms in the \n",
    "#   subplots (use this to set the max for each subplot)\n",
    "y_max = -1\n",
    "x_min = 99\n",
    "x_max = -99\n",
    "fig, axes = plt.subplots(1)\n",
    "for h in hospital_names:\n",
    "    # Plot histogram\n",
    "    axes.hist(df_hosp_shap_values[h])\n",
    "    # Get axis limits\n",
    "    ylims = axes.get_ylim()\n",
    "    # Store if greater than found so far\n",
    "    y_max = max(y_max, ylims[1])\n",
    "    # Get axis limits\n",
    "    xlims = axes.get_xlim()\n",
    "    # Store if greater than found so far\n",
    "    x_min = min(x_min, xlims[0])\n",
    "    x_max = max(x_max, xlims[1])\n",
    "# Don't display plot\n",
    "plt.close(fig)\n",
    "\n",
    "# Define width of histogram bins based on the x axis range\n",
    "bin_width = (abs(math.floor(xlims[0])) + abs(math.ceil(xlims[1])))/20\n",
    "\n",
    "# Setup figure with subplots\n",
    "fig, axes = plt.subplots(\n",
    "    nrows=22, \n",
    "    ncols=6)\n",
    "axes = axes.ravel()\n",
    "\n",
    "count = 0\n",
    "for h in hospital_names:\n",
    "    n_unique = df_hosp_shap_values[h].nunique()\n",
    "    ax=axes[count]\n",
    "    create_histogram_with_colours(df_hosp_shap_values[h],\n",
    "            np.arange(math.floor(xlims[0]),math.ceil(xlims[1]),bin_width),\n",
    "            ax)\n",
    "    ax.set_xlabel(f\"SHAP value for {h} \\n({n_unique} unique values)\")\n",
    "    ax.set_ylabel(\"Number of instances\")\n",
    "    ax.set_ylim(0, (y_max*1.1))\n",
    "    count += 1\n",
    "\n",
    "# Define figure display\n",
    "fig.set_figheight(50)\n",
    "fig.set_figwidth(20)\n",
    "#plt.tight_layout(pad=2)\n",
    "fig.subplots_adjust(hspace=0.7, wspace=0.9)\n",
    "plt.show()"
   ]
  },
  {
   "cell_type": "markdown",
   "metadata": {},
   "source": [
    "One with just the instances that attend each hosptial"
   ]
  },
  {
   "cell_type": "code",
   "execution_count": null,
   "metadata": {},
   "outputs": [],
   "source": [
    "# Setup figure with subplots\n",
    "fig, axes = plt.subplots(\n",
    "    nrows=22, \n",
    "    ncols=6)\n",
    "axes = axes.ravel()\n",
    "\n",
    "count = 0\n",
    "for h in hospital_names:\n",
    "    mask = X_combined[\"Stroke team\"] == h #drop \"team_\"\n",
    "    shap_values_not_attend = df_hosp_shap_values[h][mask]\n",
    "    n_unique = shap_values_not_attend.nunique()\n",
    "    ax=axes[count]\n",
    "    create_histogram_with_colours(shap_values_not_attend, 20, ax)\n",
    "#    ax.hist(shap_values_not_attend, bins=20)\n",
    "    ax.set_xlabel(f\"SHAP value for {h} \\n({n_unique} unique values)\")\n",
    "    ax.set_ylabel(\"Number of instances \\n(not attend hosptial)\")\n",
    "#    ax.set_ylim(0, y_max)\n",
    "#    ax.set_xlim(x_min, x_max)\n",
    "    count += 1\n",
    "\n",
    "fig.set_figheight(50)\n",
    "fig.set_figwidth(20)\n",
    "#plt.tight_layout(pad=2)\n",
    "fig.subplots_adjust(hspace=0.7, wspace=0.9)\n",
    "plt.show()"
   ]
  },
  {
   "cell_type": "markdown",
   "metadata": {},
   "source": [
    "One with just the instances that don't attend each hosptial."
   ]
  },
  {
   "cell_type": "code",
   "execution_count": null,
   "metadata": {},
   "outputs": [],
   "source": [
    "# Setup figure with subplots\n",
    "fig, axes = plt.subplots(\n",
    "    nrows=22, \n",
    "    ncols=6)\n",
    "axes = axes.ravel()\n",
    "\n",
    "count = 0\n",
    "for h in hospital_names:\n",
    "    mask = X_combined[\"Stroke team\"] == h #drop \"team_\"\n",
    "    mask = np.logical_not(mask)# Those that didn't attend\n",
    "    shap_values_not_attend = df_hosp_shap_values[h][mask]\n",
    "    n_unique = shap_values_not_attend.nunique()\n",
    "    ax=axes[count]\n",
    "    create_histogram_with_colours(shap_values_not_attend, 20, ax)\n",
    "#    ax.hist(shap_values_not_attend, bins=20)\n",
    "    ax.set_xlabel(f\"SHAP value for {h} \\n({n_unique} unique values)\")\n",
    "    ax.set_ylabel(\"Number of instances \\n(not attend hosptial)\")\n",
    "#    ax.set_ylim(0, y_max)\n",
    "#    ax.set_xlim(x_min, x_max)\n",
    "    count += 1\n",
    "\n",
    "fig.set_figheight(50)\n",
    "fig.set_figwidth(20)\n",
    "#plt.tight_layout(pad=2)\n",
    "fig.subplots_adjust(hspace=0.7, wspace=0.9)\n",
    "plt.show()"
   ]
  },
  {
   "cell_type": "markdown",
   "metadata": {},
   "source": [
    "Code showing the same histograms, with each having the same x axis range and y axis range"
   ]
  },
  {
   "cell_type": "code",
   "execution_count": null,
   "metadata": {},
   "outputs": [],
   "source": [
    "# Find the largest value used for the y axis in all of the histograms in the \n",
    "#   subplots (use this to set the max for each subplot)\n",
    "y_max = -1\n",
    "x_min = 99\n",
    "x_max = -99\n",
    "fig, axes = plt.subplots(1)\n",
    "for h in hospital_names:\n",
    "    # mask data for those that attend hospital\n",
    "    mask = df_hosp_shap_values[\"Stroke team\"] == h\n",
    "    # Those that didn't attend\n",
    "    mask = np.logical_not(mask)\n",
    "    shap_values_attend = df_hosp_shap_values[h][mask]\n",
    "    n_unique = shap_values_attend.nunique()\n",
    "    # Plot histogram\n",
    "    axes.hist(shap_values_attend)\n",
    "    # Get axis limits\n",
    "    ylims = axes.get_ylim()\n",
    "    # Store if greater than found so far\n",
    "    y_max = max(y_max, ylims[1])\n",
    "    # Get axis limits\n",
    "    xlims = axes.get_xlim()\n",
    "    # Store if greater than found so far\n",
    "    x_min = min(x_min, xlims[0])\n",
    "    x_max = max(x_max, xlims[1])\n",
    "# Don't display plot\n",
    "plt.close(fig)\n",
    "\n",
    "# Define width of histogram bins based on the x axis range\n",
    "bin_width = (abs(math.floor(xlims[0])) + abs(math.ceil(xlims[1])))/20\n",
    "\n",
    "# Setup figure with subplots\n",
    "fig, axes = plt.subplots(\n",
    "    nrows=22, \n",
    "    ncols=6)\n",
    "axes = axes.ravel()\n",
    "\n",
    "count = 0\n",
    "for h in hospital_names:\n",
    "    # mask data for those that attend hospital\n",
    "    mask = df_hosp_shap_values[\"Stroke team\"] == h\n",
    "    # Those that didn't attend\n",
    "    mask = np.logical_not(mask)\n",
    "    shap_values_attend = df_hosp_shap_values[h][mask]\n",
    "    n_unique = shap_values_attend.nunique()\n",
    "    # Plot histogram\n",
    "    ax=axes[count]\n",
    "    ax.hist(shap_values_attend, \n",
    "            bins=np.arange(math.floor(xlims[0]),math.ceil(xlims[1]),bin_width))\n",
    "    ax.set_xlabel(f\"SHAP value for {h} \\n({n_unique} unique values)\")\n",
    "    ax.set_ylabel(\"Number of instances\")\n",
    "    ax.set_ylim(0, (y_max*1.1))\n",
    "    count += 1\n",
    "\n",
    "# Define figure display\n",
    "fig.set_figheight(50)\n",
    "fig.set_figwidth(20)\n",
    "#plt.tight_layout(pad=2)\n",
    "fig.subplots_adjust(hspace=0.7, wspace=0.9)\n",
    "plt.show()"
   ]
  }
 ],
 "metadata": {
  "kernelspec": {
   "display_name": "Python 3 (ipykernel)",
   "language": "python",
   "name": "python3"
  },
  "language_info": {
   "codemirror_mode": {
    "name": "ipython",
    "version": 3
   },
   "file_extension": ".py",
   "mimetype": "text/x-python",
   "name": "python",
   "nbconvert_exporter": "python",
   "pygments_lexer": "ipython3",
   "version": "3.8.13"
  }
 },
 "nbformat": 4,
 "nbformat_minor": 4
}
