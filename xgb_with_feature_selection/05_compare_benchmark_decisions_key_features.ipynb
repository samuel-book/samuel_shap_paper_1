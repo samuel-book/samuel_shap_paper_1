{
 "cells": [
  {
   "cell_type": "markdown",
   "id": "d56a668f-88f6-465d-a38b-107177bbf806",
   "metadata": {},
   "source": [
    "# Compare local thrombolysis decisions with benchmark decisions\n",
    "\n",
    "## Plain English summary\n",
    "\n",
    "This notebook compares local thrombolysis decisions with those expected at the majority of a 30-hospital set of benchmark hospitals. \n",
    "\n",
    "The XGBoost model uses 8 features: \n",
    "\n",
    "* Arrival-to-scan time\n",
    "* Infarction\n",
    "* Stroke severity\n",
    "* Precise onset time\n",
    "* Prior disability level\n",
    "* Stroke team\n",
    "* Use of AF anticoagulants\n",
    "* Onset-to-arrival time\n",
    "\n",
    "Benchmark decisions are decisions made at the majority of the top 30 hospitals (as judged by their expected thrombolysis use in a standard 10k cohort of patients - a set of 10k patients that is passed through the models of decision-making at each hospital). \n",
    "\n",
    "If benchmark decisions were used at all hospitals, then thrombolysis use would increase 22%. Thrombolysis use at the bottom 30 thrombolsying hospitals would increase 63%.\n",
    "\n",
    "## Model and data\n",
    "(Use the XGBoost models that were trained in notebook 02). \n",
    "\n",
    "XGBoost models were trained on stratified k-fold cross-validation data. The 8 features in the model are:\n",
    "* Arrival-to-scan time: Time from arrival at hospital to scan (mins)\n",
    "* Infarction: Stroke type (1 = infarction, 0 = haemorrhage)\n",
    "* Stroke severity: Stroke severity (NIHSS) on arrival\n",
    "* Precise onset time: Onset time type (1 = precise, 0 = best estimate)\n",
    "* Prior disability level: Disability level (modified Rankin Scale) before stroke\n",
    "* Stroke team: Stroke team attended\n",
    "* Use of AF anticoagulents: Use of atrial fibrillation anticoagulant (1 = Yes, 0 = No)\n",
    "* Onset-to-arrival time: Time from onset of stroke to arrival at hospital (mins)\n",
    "\n",
    "And one target feature:\n",
    "* Thrombolysis: Recieve thrombolysis (1 = Yes, 0 = No)\n",
    "\n",
    "The 8 features included in the model (to predict whether a patient will recieve thrombolysis) were chosen sequentially as having the single best improvement in model performance (using the ROC AUC). The stroke team feature is included as a one-hot encoded feature.\n",
    "\n",
    "## Aims\n",
    "\n",
    "* Predict thrombolysis use of 10k cohort of patients at all 132 hospitals.\n",
    "* Get predicted thrombolysis decisions for all patients at the 30 benchmark hospitals.\n",
    "* Check similarity between local decisions and benchmark decisions.\n",
    "* Estimate thrombolysis use at each hospital if benchmark decisions made.\n",
    "* Save comparison of local and benchmark decisions.\n",
    "\n",
    "## Observations\n",
    "\n",
    "* 82.8% decisions are identical between local and benchmark decisions.\n",
    "* Thrombolysis use would be increased 22.6% if benchmark decisions were made at all hospitals.\n",
    "* The ratio of benchmark:local thrombolysis use was 0.7 to 2.2."
   ]
  },
  {
   "cell_type": "code",
   "execution_count": 1,
   "id": "fb993096-6489-4de7-84d8-98a2bb35fdff",
   "metadata": {},
   "outputs": [],
   "source": [
    "# Turn warnings off to keep notebook tidy\n",
    "import warnings\n",
    "warnings.filterwarnings(\"ignore\")\n",
    "\n",
    "import os\n",
    "import matplotlib.pyplot as plt\n",
    "import numpy as np\n",
    "import pandas as pd\n",
    "\n",
    "import matplotlib.cm as cm\n",
    "import matplotlib.colors as colors\n",
    "from matplotlib.lines import Line2D\n",
    "\n",
    "from xgboost import XGBClassifier\n",
    "\n",
    "import json\n",
    "import pickle"
   ]
  },
  {
   "cell_type": "markdown",
   "id": "f8a56c78-fa1e-4610-bddd-6312f3281e76",
   "metadata": {},
   "source": [
    "## Set filenames"
   ]
  },
  {
   "cell_type": "code",
   "execution_count": 2,
   "id": "e8d3271c-961a-4349-871e-c32e3537e826",
   "metadata": {},
   "outputs": [],
   "source": [
    "number_of_features_to_use = 8\n",
    "model_text = f'xgb_{number_of_features_to_use}_features'\n",
    "notebook = '05'"
   ]
  },
  {
   "cell_type": "markdown",
   "id": "7727e1ae-ccf2-4c36-a8a1-d98a6e82124f",
   "metadata": {},
   "source": [
    "## Create output folders if needed"
   ]
  },
  {
   "cell_type": "code",
   "execution_count": 3,
   "id": "702b4f79-a12f-4297-8ebb-36d68b0d53a7",
   "metadata": {},
   "outputs": [],
   "source": [
    "path = './saved_models'\n",
    "if not os.path.exists(path):\n",
    "    os.makedirs(path)\n",
    "\n",
    "path = './output'\n",
    "if not os.path.exists(path):\n",
    "    os.makedirs(path)\n",
    "    \n",
    "path = './predictions'\n",
    "if not os.path.exists(path):\n",
    "    os.makedirs(path)   "
   ]
  },
  {
   "cell_type": "markdown",
   "id": "45239750-55ac-4e04-89d4-3b470ea9ee8d",
   "metadata": {},
   "source": [
    "## Read in JSON file\n",
    "Contains a dictionary for plain English feature names for the 8 features selected in the model. Use these as the column titles in the DataFrame."
   ]
  },
  {
   "cell_type": "code",
   "execution_count": 4,
   "id": "160cac0f-5269-4486-b034-e7be8e647d96",
   "metadata": {},
   "outputs": [],
   "source": [
    "with open(\"./output/01_feature_name_dict.json\") as json_file:\n",
    "    dict_feature_name = json.load(json_file)"
   ]
  },
  {
   "cell_type": "markdown",
   "id": "a509ad9c-e9bd-4874-9822-f4a8dfd579ab",
   "metadata": {},
   "source": [
    "## Load data on predicted 10k cohort thrombolysis use at each hospital"
   ]
  },
  {
   "cell_type": "code",
   "execution_count": 5,
   "id": "712facb9-ccfe-41be-813a-869d25976509",
   "metadata": {},
   "outputs": [],
   "source": [
    "thrombolysis_by_hosp = pd.read_csv(\n",
    "    './output/04_10k_thrombolysis_rate_by_hosp_key_features.csv', \n",
    "    index_col='stroke_team')\n",
    "thrombolysis_by_hosp.sort_values(\n",
    "    'Thrombolysis rate', ascending=False, inplace=True)"
   ]
  },
  {
   "cell_type": "code",
   "execution_count": 6,
   "id": "9d1a7fe4-1649-49ae-94cd-ade7a95cf64b",
   "metadata": {},
   "outputs": [
    {
     "data": {
      "text/html": [
       "<div>\n",
       "<style scoped>\n",
       "    .dataframe tbody tr th:only-of-type {\n",
       "        vertical-align: middle;\n",
       "    }\n",
       "\n",
       "    .dataframe tbody tr th {\n",
       "        vertical-align: top;\n",
       "    }\n",
       "\n",
       "    .dataframe thead th {\n",
       "        text-align: right;\n",
       "    }\n",
       "</style>\n",
       "<table border=\"1\" class=\"dataframe\">\n",
       "  <thead>\n",
       "    <tr style=\"text-align: right;\">\n",
       "      <th></th>\n",
       "      <th>Thrombolysis rate</th>\n",
       "    </tr>\n",
       "    <tr>\n",
       "      <th>stroke_team</th>\n",
       "      <th></th>\n",
       "    </tr>\n",
       "  </thead>\n",
       "  <tbody>\n",
       "    <tr>\n",
       "      <th>VKKDD9172T</th>\n",
       "      <td>0.4610</td>\n",
       "    </tr>\n",
       "    <tr>\n",
       "      <th>GKONI0110I</th>\n",
       "      <td>0.4356</td>\n",
       "    </tr>\n",
       "    <tr>\n",
       "      <th>CNBGF2713O</th>\n",
       "      <td>0.4207</td>\n",
       "    </tr>\n",
       "    <tr>\n",
       "      <th>HPWIF9956L</th>\n",
       "      <td>0.4191</td>\n",
       "    </tr>\n",
       "    <tr>\n",
       "      <th>MHMYL4920B</th>\n",
       "      <td>0.3981</td>\n",
       "    </tr>\n",
       "  </tbody>\n",
       "</table>\n",
       "</div>"
      ],
      "text/plain": [
       "             Thrombolysis rate\n",
       "stroke_team                   \n",
       "VKKDD9172T              0.4610\n",
       "GKONI0110I              0.4356\n",
       "CNBGF2713O              0.4207\n",
       "HPWIF9956L              0.4191\n",
       "MHMYL4920B              0.3981"
      ]
     },
     "execution_count": 6,
     "metadata": {},
     "output_type": "execute_result"
    }
   ],
   "source": [
    "thrombolysis_by_hosp.head()"
   ]
  },
  {
   "cell_type": "code",
   "execution_count": 7,
   "id": "912fc175-fd1a-4553-85ab-252c47b67cc8",
   "metadata": {},
   "outputs": [],
   "source": [
    "top_30_hospitals = list(thrombolysis_by_hosp.head(30).index)\n",
    "bottom_30_hospitals = list(thrombolysis_by_hosp.tail(30).index)"
   ]
  },
  {
   "cell_type": "markdown",
   "id": "ec611fc3-d05d-4937-969c-4d1a3ec9aba2",
   "metadata": {},
   "source": [
    "## Load data\n",
    "Data has previously been split into 5 stratified k-fold splits.\n",
    "\n",
    "Read in data and keep the number of key features as specified (for this notebook, that's 8 key features)"
   ]
  },
  {
   "cell_type": "code",
   "execution_count": 8,
   "id": "70753939-f89d-477d-a439-15c30503734f",
   "metadata": {},
   "outputs": [],
   "source": [
    "data_loc = '../data/kfold_5fold/'"
   ]
  },
  {
   "cell_type": "code",
   "execution_count": 9,
   "id": "f9065747-ae93-4620-95f2-2fd4faf2da87",
   "metadata": {},
   "outputs": [],
   "source": [
    "train_data_kfold, test_data_kfold = [], []\n",
    "\n",
    "# Load features (and add S2Thrombolysis)\n",
    "number_of_features_to_use = 8\n",
    "key_features = pd.read_csv('./output/01_feature_selection.csv')\n",
    "key_features = list(key_features['feature'])[:number_of_features_to_use]\n",
    "key_features.append('S2Thrombolysis')\n",
    "\n",
    "for i in range(5):\n",
    "    train = pd.read_csv(data_loc + 'train_{0}.csv'.format(i))\n",
    "    train = train[key_features]\n",
    "    train.rename(columns=dict_feature_name, inplace=True)\n",
    "    train_data_kfold.append(train)\n",
    "    test = pd.read_csv(data_loc + 'test_{0}.csv'.format(i))\n",
    "    test = test[key_features]\n",
    "    test.rename(columns=dict_feature_name, inplace=True)\n",
    "    test_data_kfold.append(test)"
   ]
  },
  {
   "cell_type": "markdown",
   "id": "a25c3f5e-f1c0-4b99-8a2b-4681ca4a7abb",
   "metadata": {},
   "source": [
    "## Read in XGBoost model and results\n",
    "In notebook 02_xgb_combined_fit_accuracy_key_features.ipynb we fit an XGBoost model for each k-fold training/test split, and got feature importance values (a value per feature, per model from each k-fold split).\n",
    "\n",
    "Load the models."
   ]
  },
  {
   "cell_type": "code",
   "execution_count": 10,
   "id": "67363950-87e5-4d7b-a188-11a16e57b3ce",
   "metadata": {},
   "outputs": [
    {
     "name": "stdout",
     "output_type": "stream",
     "text": [
      "Accuracy k-fold 1: 0.846\n",
      "Accuracy k-fold 2: 0.853\n",
      "Accuracy k-fold 3: 0.845\n",
      "Accuracy k-fold 4: 0.849\n",
      "Accuracy k-fold 5: 0.844\n"
     ]
    }
   ],
   "source": [
    "# Set up lists for k-fold fits\n",
    "model_kfold = []\n",
    "feature_importance_kfold = []\n",
    "y_pred_kfold = []\n",
    "y_prob_kfold = []\n",
    "X_train_kfold = []\n",
    "X_test_kfold = []\n",
    "y_train_kfold = []\n",
    "y_test_kfold = []\n",
    "\n",
    "# For each k-fold split\n",
    "for k in range(5):\n",
    "    # Get X and y\n",
    "    X_train = train_data_kfold[k].drop('Thrombolysis', axis=1)\n",
    "    X_test = test_data_kfold[k].drop('Thrombolysis', axis=1)\n",
    "    y_train = train_data_kfold[k]['Thrombolysis']\n",
    "    y_test = test_data_kfold[k]['Thrombolysis']\n",
    "\n",
    "    # One hot encode hospitals\n",
    "    X_train_hosp = pd.get_dummies(X_train['Stroke team'], prefix = 'team')\n",
    "    X_train = pd.concat([X_train, X_train_hosp], axis=1)\n",
    "    X_train.drop('Stroke team', axis=1, inplace=True)\n",
    "    X_test_hosp = pd.get_dummies(X_test['Stroke team'], prefix = 'team')\n",
    "    X_test = pd.concat([X_test, X_test_hosp], axis=1)\n",
    "    X_test.drop('Stroke team', axis=1, inplace=True)\n",
    "    \n",
    "    # Store processed X and y\n",
    "    X_train_kfold.append(X_train)\n",
    "    X_test_kfold.append(X_test)\n",
    "    y_train_kfold.append(y_train)\n",
    "    y_test_kfold.append(y_test)\n",
    "\n",
    "    # Load models\n",
    "    filename = f'./saved_models/02_{model_text}_{k}.p'\n",
    "    with open(filename, 'rb') as filehandler:\n",
    "        model = pickle.load(filehandler)\n",
    "        model_kfold.append(model)        \n",
    "\n",
    "    # Get and store feature importance values\n",
    "    feature_names_ohe = list(X_train_kfold[0])\n",
    "    feature_importances = model.feature_importances_\n",
    "    df = pd.DataFrame(index=feature_names_ohe)\n",
    "    df['importance'] = feature_importances\n",
    "    df['rank'] = (df['importance'].rank(ascending=False).values)\n",
    "    feature_importance_kfold.append(df)\n",
    "\n",
    "    # Get and store predicted class and probability\n",
    "    y_pred = model.predict(X_test)\n",
    "    y_pred_kfold.append(y_pred)\n",
    "    y_prob = model.predict_proba(X_test)[:, 1]\n",
    "    y_prob_kfold.append(y_prob)\n",
    "\n",
    "    # Measure accuracy for this k-fold model\n",
    "    accuracy = np.mean(y_pred == y_test)\n",
    "    print(f'Accuracy k-fold {k+1}: {accuracy:0.3f}')"
   ]
  },
  {
   "cell_type": "markdown",
   "id": "f0ace964-d873-46e8-9adb-77d6b196eb24",
   "metadata": {},
   "source": [
    "## Get predicted decision for all patients at each hopsital\n",
    "\n",
    "Combine test results for kfold data in a dataframe (all individuals are predicted from a test set)."
   ]
  },
  {
   "cell_type": "code",
   "execution_count": 11,
   "id": "2069e663-8f3b-4769-98c7-91ac2eb55c63",
   "metadata": {},
   "outputs": [],
   "source": [
    "thrombolysis_predictions_at_own_unit_kfold = []\n",
    "\n",
    "for k in range(5):\n",
    "    df = pd.DataFrame()\n",
    "    df['Home hospital'] = test_data_kfold[k]['Stroke team']\n",
    "    df['Observed IVT'] = y_test_kfold[k]\n",
    "    df['Predicted IVT'] = y_pred_kfold[k]\n",
    "    df['Predicted probability IVT'] = y_prob_kfold[k]\n",
    "    thrombolysis_predictions_at_own_unit_kfold.append(df)\n",
    "    \n",
    "df_patient_thrombolysis_decisions = pd.concat(\n",
    "    thrombolysis_predictions_at_own_unit_kfold, axis=0)"
   ]
  },
  {
   "cell_type": "markdown",
   "id": "d78c05b7-0944-4320-92b8-6cfda3b40945",
   "metadata": {},
   "source": [
    "## Get predictions at 30 benchmark hospitals"
   ]
  },
  {
   "cell_type": "code",
   "execution_count": 12,
   "id": "f5b52d27-826c-4f27-ad62-4465ce20761d",
   "metadata": {},
   "outputs": [],
   "source": [
    "# Initialise list\n",
    "top_30_predictions_kfold = []\n",
    "\n",
    "# Loop through k folds\n",
    "for k in range(5):\n",
    "    \n",
    "    # Initialise list to store treatment predictions for all patients going to\n",
    "    #   each benchmark hospital\n",
    "    predictions_kfold = []\n",
    "    \n",
    "    # Get predicted probabilities and class\n",
    "    model = model_kfold[k]\n",
    "    \n",
    "    # For each benchmark hospital\n",
    "    for hospital in top_30_hospitals:\n",
    "\n",
    "        # Get X and y for this kfold split\n",
    "        X_train = train_data_kfold[k].drop('Thrombolysis', axis=1)\n",
    "        X_test = test_data_kfold[k].drop('Thrombolysis', axis=1)\n",
    "        y_train = train_data_kfold[k]['Thrombolysis']\n",
    "        y_test = test_data_kfold[k]['Thrombolysis']\n",
    "\n",
    "        # One hot encode hospitals\n",
    "        X_train_hosp = pd.get_dummies(X_train['Stroke team'], prefix = 'team')\n",
    "        X_train = pd.concat([X_train, X_train_hosp], axis=1)\n",
    "        X_train.drop('Stroke team', axis=1, inplace=True)\n",
    "        X_test_hosp = pd.get_dummies(X_test['Stroke team'], prefix = 'team')\n",
    "        X_test = pd.concat([X_test, X_test_hosp], axis=1)\n",
    "        X_test.drop('Stroke team', axis=1, inplace=True) \n",
    "\n",
    "        # Get test data without thrombolysis or stroke team\n",
    "        X_test_no_hosp = test_data_kfold[k].drop(\n",
    "                                    ['Thrombolysis', 'Stroke team'], axis=1)\n",
    "\n",
    "        # Copy hospital dataframe, set all hospital ID to zero, then set just \n",
    "        #   the benchmark hospital ID to 1\n",
    "        X_test_adjusted_hospital = X_test_hosp.copy()\n",
    "        X_test_adjusted_hospital.loc[:,:] = 0\n",
    "        team = \"team_\" + hospital\n",
    "        X_test_adjusted_hospital[team] = 1\n",
    "\n",
    "        # Add adjusted hospital data back to the rest of the test data\n",
    "        X_test_adjusted = pd.concat(\n",
    "            [X_test_no_hosp, X_test_adjusted_hospital], axis=1)\n",
    "\n",
    "        # Model predict treatment for all patients attending benchmark hosptial\n",
    "        y_pred = model.predict(X_test_adjusted)\n",
    "        predictions_kfold.append(y_pred * 1)\n",
    "    \n",
    "    # Store predictions (for each kfold, for each 30 benchmark hosptial, for \n",
    "    #   each patient)\n",
    "    top_30_predictions_kfold.append(predictions_kfold)"
   ]
  },
  {
   "cell_type": "markdown",
   "id": "35457774-62a2-4b99-ae32-5e189b613456",
   "metadata": {},
   "source": [
    "The list top_30_predictions_kfold has [a][b][c] where:\n",
    "* [a] = k fold (there are 5)\n",
    "* [b] = benchmark hospital (there are 30)\n",
    "* [c] = individual (there are 17k)\n",
    "\n",
    "Create a DataFrame (*df_benchmark_decisions*) which stores for each patient, which hospital they attended (*Home hospital*), and whether they would recieve thrombolysis if the 30 benchmark hosptials had a majority vote (*Benchmark majority vote*)."
   ]
  },
  {
   "cell_type": "code",
   "execution_count": 13,
   "id": "a5cf768a-ea0a-470c-9540-d6c23a41cad9",
   "metadata": {},
   "outputs": [],
   "source": [
    "benchmark_decisions_kfold = []\n",
    "\n",
    "for k in range(5):\n",
    "    df = pd.DataFrame()\n",
    "    df['Home hospital'] = test_data_kfold[k]['Stroke team']\n",
    "    predictions = top_30_predictions_kfold[k][:][:]    \n",
    "    benchmark_yes_count = np.array(predictions).sum(axis=0)\n",
    "    df['Benchmark majority vote'] = (benchmark_yes_count >= 15) * 1.0\n",
    "    benchmark_decisions_kfold.append(df)\n",
    "    \n",
    "df_benchmark_decisions = pd.concat(benchmark_decisions_kfold,  axis=0)"
   ]
  },
  {
   "cell_type": "code",
   "execution_count": 14,
   "id": "58680247-533f-4cd4-af7f-f46a7eb3e3dd",
   "metadata": {},
   "outputs": [
    {
     "data": {
      "text/html": [
       "<div>\n",
       "<style scoped>\n",
       "    .dataframe tbody tr th:only-of-type {\n",
       "        vertical-align: middle;\n",
       "    }\n",
       "\n",
       "    .dataframe tbody tr th {\n",
       "        vertical-align: top;\n",
       "    }\n",
       "\n",
       "    .dataframe thead th {\n",
       "        text-align: right;\n",
       "    }\n",
       "</style>\n",
       "<table border=\"1\" class=\"dataframe\">\n",
       "  <thead>\n",
       "    <tr style=\"text-align: right;\">\n",
       "      <th></th>\n",
       "      <th>Home hospital</th>\n",
       "      <th>Benchmark majority vote</th>\n",
       "    </tr>\n",
       "  </thead>\n",
       "  <tbody>\n",
       "    <tr>\n",
       "      <th>0</th>\n",
       "      <td>TXHRP7672C</td>\n",
       "      <td>1.0</td>\n",
       "    </tr>\n",
       "    <tr>\n",
       "      <th>1</th>\n",
       "      <td>SQGXB9559U</td>\n",
       "      <td>1.0</td>\n",
       "    </tr>\n",
       "    <tr>\n",
       "      <th>2</th>\n",
       "      <td>LFPMM4706C</td>\n",
       "      <td>0.0</td>\n",
       "    </tr>\n",
       "    <tr>\n",
       "      <th>3</th>\n",
       "      <td>MHMYL4920B</td>\n",
       "      <td>0.0</td>\n",
       "    </tr>\n",
       "    <tr>\n",
       "      <th>4</th>\n",
       "      <td>EQZZZ5658G</td>\n",
       "      <td>1.0</td>\n",
       "    </tr>\n",
       "  </tbody>\n",
       "</table>\n",
       "</div>"
      ],
      "text/plain": [
       "  Home hospital  Benchmark majority vote\n",
       "0    TXHRP7672C                      1.0\n",
       "1    SQGXB9559U                      1.0\n",
       "2    LFPMM4706C                      0.0\n",
       "3    MHMYL4920B                      0.0\n",
       "4    EQZZZ5658G                      1.0"
      ]
     },
     "execution_count": 14,
     "metadata": {},
     "output_type": "execute_result"
    }
   ],
   "source": [
    "df_benchmark_decisions.head()"
   ]
  },
  {
   "cell_type": "markdown",
   "id": "2c1ab406-3ff1-4885-8d9b-6d86a8582e4f",
   "metadata": {},
   "source": [
    "Add this to the DataFrame"
   ]
  },
  {
   "cell_type": "code",
   "execution_count": 15,
   "id": "56a9a78a-556d-46b8-bdae-780b3c4e3e3b",
   "metadata": {},
   "outputs": [],
   "source": [
    "df_patient_thrombolysis_decisions['Benchmark majority vote'] = \\\n",
    "    df_benchmark_decisions['Benchmark majority vote']"
   ]
  },
  {
   "cell_type": "code",
   "execution_count": 16,
   "id": "c30c9821-b6cc-41c0-9d70-6544d83b35de",
   "metadata": {},
   "outputs": [
    {
     "data": {
      "text/html": [
       "<div>\n",
       "<style scoped>\n",
       "    .dataframe tbody tr th:only-of-type {\n",
       "        vertical-align: middle;\n",
       "    }\n",
       "\n",
       "    .dataframe tbody tr th {\n",
       "        vertical-align: top;\n",
       "    }\n",
       "\n",
       "    .dataframe thead th {\n",
       "        text-align: right;\n",
       "    }\n",
       "</style>\n",
       "<table border=\"1\" class=\"dataframe\">\n",
       "  <thead>\n",
       "    <tr style=\"text-align: right;\">\n",
       "      <th></th>\n",
       "      <th>Home hospital</th>\n",
       "      <th>Observed IVT</th>\n",
       "      <th>Predicted IVT</th>\n",
       "      <th>Predicted probability IVT</th>\n",
       "      <th>Benchmark majority vote</th>\n",
       "    </tr>\n",
       "  </thead>\n",
       "  <tbody>\n",
       "    <tr>\n",
       "      <th>0</th>\n",
       "      <td>TXHRP7672C</td>\n",
       "      <td>1</td>\n",
       "      <td>1</td>\n",
       "      <td>0.880155</td>\n",
       "      <td>1.0</td>\n",
       "    </tr>\n",
       "    <tr>\n",
       "      <th>1</th>\n",
       "      <td>SQGXB9559U</td>\n",
       "      <td>1</td>\n",
       "      <td>1</td>\n",
       "      <td>0.627783</td>\n",
       "      <td>1.0</td>\n",
       "    </tr>\n",
       "    <tr>\n",
       "      <th>2</th>\n",
       "      <td>LFPMM4706C</td>\n",
       "      <td>0</td>\n",
       "      <td>0</td>\n",
       "      <td>0.042199</td>\n",
       "      <td>0.0</td>\n",
       "    </tr>\n",
       "    <tr>\n",
       "      <th>3</th>\n",
       "      <td>MHMYL4920B</td>\n",
       "      <td>0</td>\n",
       "      <td>0</td>\n",
       "      <td>0.000084</td>\n",
       "      <td>0.0</td>\n",
       "    </tr>\n",
       "    <tr>\n",
       "      <th>4</th>\n",
       "      <td>EQZZZ5658G</td>\n",
       "      <td>1</td>\n",
       "      <td>1</td>\n",
       "      <td>0.916311</td>\n",
       "      <td>1.0</td>\n",
       "    </tr>\n",
       "  </tbody>\n",
       "</table>\n",
       "</div>"
      ],
      "text/plain": [
       "  Home hospital  Observed IVT  Predicted IVT  Predicted probability IVT  \\\n",
       "0    TXHRP7672C             1              1                   0.880155   \n",
       "1    SQGXB9559U             1              1                   0.627783   \n",
       "2    LFPMM4706C             0              0                   0.042199   \n",
       "3    MHMYL4920B             0              0                   0.000084   \n",
       "4    EQZZZ5658G             1              1                   0.916311   \n",
       "\n",
       "   Benchmark majority vote  \n",
       "0                      1.0  \n",
       "1                      1.0  \n",
       "2                      0.0  \n",
       "3                      0.0  \n",
       "4                      1.0  "
      ]
     },
     "execution_count": 16,
     "metadata": {},
     "output_type": "execute_result"
    }
   ],
   "source": [
    "df_patient_thrombolysis_decisions.head()"
   ]
  },
  {
   "cell_type": "markdown",
   "id": "efd90e79-329d-4684-b132-f4f544276e35",
   "metadata": {},
   "source": [
    "## Check similarity of own decisions vs benchmark decisions."
   ]
  },
  {
   "cell_type": "code",
   "execution_count": 17,
   "id": "d335ce3d-477c-444b-8c55-f761c8d1acf9",
   "metadata": {},
   "outputs": [],
   "source": [
    "same_decision = (\n",
    "    df_patient_thrombolysis_decisions['Observed IVT'] == \n",
    "    df_patient_thrombolysis_decisions['Benchmark majority vote'])"
   ]
  },
  {
   "cell_type": "code",
   "execution_count": 18,
   "id": "9bbddd29-e4e7-4caf-b540-35d9bbb61a21",
   "metadata": {},
   "outputs": [
    {
     "name": "stdout",
     "output_type": "stream",
     "text": [
      "Proportion of patients with same IVT decision at their home hospital and if use the benchmark hospitals majority vote 0.828\n"
     ]
    }
   ],
   "source": [
    "print(f'Proportion of patients with same IVT decision at their home hospital '\n",
    "      f'and if use the benchmark hospitals majority vote '\n",
    "      f'{same_decision.mean():0.3f}')"
   ]
  },
  {
   "cell_type": "markdown",
   "id": "aa1b16ba-a3a4-4451-9b8c-de176db2bf50",
   "metadata": {},
   "source": [
    "## Count number thrombolysed at each hospital compared with benchmark\n",
    "Compare the number of patients that receive IVT at each hospital depending of whether use the 1) observed IVT data 2) model predicted result for home hospital 3) majority vote from benchmark hospitals."
   ]
  },
  {
   "cell_type": "code",
   "execution_count": 19,
   "id": "f79b0b14-9c48-4e9d-b795-a3ec20dd9bfb",
   "metadata": {},
   "outputs": [],
   "source": [
    "thrombolysis_counts = (\n",
    "    df_patient_thrombolysis_decisions.groupby('Home hospital').agg('sum').drop(\n",
    "    'Predicted probability IVT', axis=1))"
   ]
  },
  {
   "cell_type": "code",
   "execution_count": 20,
   "id": "bc59b955-948f-48a9-b202-7ed80eb5707f",
   "metadata": {},
   "outputs": [
    {
     "data": {
      "text/html": [
       "<div>\n",
       "<style scoped>\n",
       "    .dataframe tbody tr th:only-of-type {\n",
       "        vertical-align: middle;\n",
       "    }\n",
       "\n",
       "    .dataframe tbody tr th {\n",
       "        vertical-align: top;\n",
       "    }\n",
       "\n",
       "    .dataframe thead th {\n",
       "        text-align: right;\n",
       "    }\n",
       "</style>\n",
       "<table border=\"1\" class=\"dataframe\">\n",
       "  <thead>\n",
       "    <tr style=\"text-align: right;\">\n",
       "      <th></th>\n",
       "      <th>Observed IVT</th>\n",
       "      <th>Predicted IVT</th>\n",
       "      <th>Benchmark majority vote</th>\n",
       "    </tr>\n",
       "    <tr>\n",
       "      <th>Home hospital</th>\n",
       "      <th></th>\n",
       "      <th></th>\n",
       "      <th></th>\n",
       "    </tr>\n",
       "  </thead>\n",
       "  <tbody>\n",
       "    <tr>\n",
       "      <th>AGNOF1041H</th>\n",
       "      <td>307</td>\n",
       "      <td>307</td>\n",
       "      <td>402.0</td>\n",
       "    </tr>\n",
       "    <tr>\n",
       "      <th>AKCGO9726K</th>\n",
       "      <td>528</td>\n",
       "      <td>512</td>\n",
       "      <td>556.0</td>\n",
       "    </tr>\n",
       "    <tr>\n",
       "      <th>AOBTM3098N</th>\n",
       "      <td>128</td>\n",
       "      <td>127</td>\n",
       "      <td>200.0</td>\n",
       "    </tr>\n",
       "    <tr>\n",
       "      <th>APXEE8191H</th>\n",
       "      <td>130</td>\n",
       "      <td>116</td>\n",
       "      <td>171.0</td>\n",
       "    </tr>\n",
       "    <tr>\n",
       "      <th>ATDID5461S</th>\n",
       "      <td>75</td>\n",
       "      <td>74</td>\n",
       "      <td>92.0</td>\n",
       "    </tr>\n",
       "  </tbody>\n",
       "</table>\n",
       "</div>"
      ],
      "text/plain": [
       "               Observed IVT  Predicted IVT  Benchmark majority vote\n",
       "Home hospital                                                      \n",
       "AGNOF1041H              307            307                    402.0\n",
       "AKCGO9726K              528            512                    556.0\n",
       "AOBTM3098N              128            127                    200.0\n",
       "APXEE8191H              130            116                    171.0\n",
       "ATDID5461S               75             74                     92.0"
      ]
     },
     "execution_count": 20,
     "metadata": {},
     "output_type": "execute_result"
    }
   ],
   "source": [
    "thrombolysis_counts.head()"
   ]
  },
  {
   "cell_type": "markdown",
   "id": "eccdd358-a9a7-4fdf-9577-014717ee9201",
   "metadata": {},
   "source": [
    "### Estimate change in thrombolysis rate if benchmark decisions used at all hospitals"
   ]
  },
  {
   "cell_type": "code",
   "execution_count": 21,
   "id": "4c945c6c-1cd1-4137-adeb-7e020f26e264",
   "metadata": {},
   "outputs": [
    {
     "name": "stdout",
     "output_type": "stream",
     "text": [
      "Percent change in thrombolysis with benchmark vote: 22.1%\n"
     ]
    }
   ],
   "source": [
    "change = (thrombolysis_counts['Benchmark majority vote'].sum() / \n",
    "          thrombolysis_counts['Observed IVT'].sum())\n",
    "\n",
    "percent_change = (change -1) * 100\n",
    "\n",
    "print (f'Percent change in thrombolysis with benchmark vote: '\\\n",
    "       f'{percent_change:.1f}%')"
   ]
  },
  {
   "cell_type": "markdown",
   "id": "496ef5a4-2b2a-4798-9d2f-79dcfdbc650d",
   "metadata": {},
   "source": [
    "### Estimate change in thrombolysis rate at bottom 30 thrombolysing hospitals if benchmark decisions used"
   ]
  },
  {
   "cell_type": "code",
   "execution_count": 22,
   "id": "474f2953-83d3-46ef-9139-2f69526813d3",
   "metadata": {},
   "outputs": [
    {
     "name": "stdout",
     "output_type": "stream",
     "text": [
      "Percent increase in thrombolysis at bottom 30 hospitals with benchmark decisions: 63.1%\n"
     ]
    }
   ],
   "source": [
    "numerator = (\n",
    "thrombolysis_counts.loc[bottom_30_hospitals]['Benchmark majority vote'].sum())\n",
    "\n",
    "denum = thrombolysis_counts.loc[bottom_30_hospitals]['Observed IVT'].sum()\n",
    "\n",
    "change = (numerator / denum)\n",
    "percent_change = (change -1) * 100\n",
    "\n",
    "print (f'Percent increase in thrombolysis at bottom 30 hospitals with '\\\n",
    "       f'benchmark decisions: {percent_change:.1f}%')"
   ]
  },
  {
   "cell_type": "code",
   "execution_count": 23,
   "id": "d7d2c5d7-7ff0-4d01-a564-c169330b6b99",
   "metadata": {},
   "outputs": [
    {
     "data": {
      "image/png": "[encoded data removed]",
      "text/plain": [
       "<Figure size 360x360 with 1 Axes>"
      ]
     },
     "metadata": {
      "needs_background": "light"
     },
     "output_type": "display_data"
    }
   ],
   "source": [
    "fig = plt.figure(figsize=(5,5))\n",
    "ax = fig.add_subplot()\n",
    "ratio = (thrombolysis_counts['Benchmark majority vote'] / \n",
    "         thrombolysis_counts['Observed IVT'])\n",
    "ax.hist(ratio, bins = np.arange(0.6, 2.3, 0.1))\n",
    "ax.set_xlabel('Ratio benchmark:local thrombolysis use')\n",
    "ax.set_ylabel('Frequency')\n",
    "ax.set_title('For each home hospital, the change in their IVT rates \\nif they '\n",
    "             'instead used the benchmark majority vote')\n",
    "\n",
    "plt.show()"
   ]
  },
  {
   "cell_type": "markdown",
   "id": "fe203a4a-6187-4565-ba7e-b07775bdd1b8",
   "metadata": {},
   "source": [
    "## Add patient counts at units, and calculate thrombolysis rate"
   ]
  },
  {
   "cell_type": "code",
   "execution_count": 24,
   "id": "f1f89b1a-ccd2-4265-8a90-34c4109d9caf",
   "metadata": {},
   "outputs": [],
   "source": [
    "unit_count = df_patient_thrombolysis_decisions.groupby(\n",
    "    'Home hospital').count()['Observed IVT']"
   ]
  },
  {
   "cell_type": "code",
   "execution_count": 25,
   "id": "90004f3f-4f7c-4f5e-9573-55d1332356c4",
   "metadata": {},
   "outputs": [],
   "source": [
    "thrombolysis_counts['Patients'] = unit_count\n",
    "thrombolysis_counts['Observed IVT rate'] = (\n",
    "                thrombolysis_counts['Observed IVT'] / \n",
    "                thrombolysis_counts['Patients'])\n",
    "thrombolysis_counts['Benchmark IVT rate'] = (\n",
    "                thrombolysis_counts['Benchmark majority vote'] / \n",
    "                thrombolysis_counts['Patients'])"
   ]
  },
  {
   "cell_type": "markdown",
   "id": "766a13a1-377c-4c15-8c29-f6ed4cf10a89",
   "metadata": {},
   "source": [
    "Add benchmark label"
   ]
  },
  {
   "cell_type": "code",
   "execution_count": 26,
   "id": "23aa368e-bf43-4e41-8bef-5c7187382b34",
   "metadata": {},
   "outputs": [],
   "source": [
    "thrombolysis_counts['Benchmark hospital'] = False\n",
    "thrombolysis_counts['Benchmark hospital'].loc[top_30_hospitals] = True"
   ]
  },
  {
   "cell_type": "code",
   "execution_count": 27,
   "id": "0f854eca-a82d-4c6a-9e5a-e38b47c20cc8",
   "metadata": {},
   "outputs": [
    {
     "data": {
      "text/html": [
       "<div>\n",
       "<style scoped>\n",
       "    .dataframe tbody tr th:only-of-type {\n",
       "        vertical-align: middle;\n",
       "    }\n",
       "\n",
       "    .dataframe tbody tr th {\n",
       "        vertical-align: top;\n",
       "    }\n",
       "\n",
       "    .dataframe thead th {\n",
       "        text-align: right;\n",
       "    }\n",
       "</style>\n",
       "<table border=\"1\" class=\"dataframe\">\n",
       "  <thead>\n",
       "    <tr style=\"text-align: right;\">\n",
       "      <th></th>\n",
       "      <th>Observed IVT</th>\n",
       "      <th>Predicted IVT</th>\n",
       "      <th>Benchmark majority vote</th>\n",
       "      <th>Patients</th>\n",
       "      <th>Observed IVT rate</th>\n",
       "      <th>Benchmark IVT rate</th>\n",
       "      <th>Benchmark hospital</th>\n",
       "    </tr>\n",
       "    <tr>\n",
       "      <th>Home hospital</th>\n",
       "      <th></th>\n",
       "      <th></th>\n",
       "      <th></th>\n",
       "      <th></th>\n",
       "      <th></th>\n",
       "      <th></th>\n",
       "      <th></th>\n",
       "    </tr>\n",
       "  </thead>\n",
       "  <tbody>\n",
       "    <tr>\n",
       "      <th>AGNOF1041H</th>\n",
       "      <td>307</td>\n",
       "      <td>307</td>\n",
       "      <td>402.0</td>\n",
       "      <td>871</td>\n",
       "      <td>0.352468</td>\n",
       "      <td>0.461538</td>\n",
       "      <td>False</td>\n",
       "    </tr>\n",
       "    <tr>\n",
       "      <th>AKCGO9726K</th>\n",
       "      <td>528</td>\n",
       "      <td>512</td>\n",
       "      <td>556.0</td>\n",
       "      <td>1428</td>\n",
       "      <td>0.369748</td>\n",
       "      <td>0.389356</td>\n",
       "      <td>True</td>\n",
       "    </tr>\n",
       "    <tr>\n",
       "      <th>AOBTM3098N</th>\n",
       "      <td>128</td>\n",
       "      <td>127</td>\n",
       "      <td>200.0</td>\n",
       "      <td>585</td>\n",
       "      <td>0.218803</td>\n",
       "      <td>0.341880</td>\n",
       "      <td>False</td>\n",
       "    </tr>\n",
       "    <tr>\n",
       "      <th>APXEE8191H</th>\n",
       "      <td>130</td>\n",
       "      <td>116</td>\n",
       "      <td>171.0</td>\n",
       "      <td>574</td>\n",
       "      <td>0.226481</td>\n",
       "      <td>0.297909</td>\n",
       "      <td>False</td>\n",
       "    </tr>\n",
       "    <tr>\n",
       "      <th>ATDID5461S</th>\n",
       "      <td>75</td>\n",
       "      <td>74</td>\n",
       "      <td>92.0</td>\n",
       "      <td>312</td>\n",
       "      <td>0.240385</td>\n",
       "      <td>0.294872</td>\n",
       "      <td>False</td>\n",
       "    </tr>\n",
       "  </tbody>\n",
       "</table>\n",
       "</div>"
      ],
      "text/plain": [
       "               Observed IVT  Predicted IVT  Benchmark majority vote  Patients  \\\n",
       "Home hospital                                                                   \n",
       "AGNOF1041H              307            307                    402.0       871   \n",
       "AKCGO9726K              528            512                    556.0      1428   \n",
       "AOBTM3098N              128            127                    200.0       585   \n",
       "APXEE8191H              130            116                    171.0       574   \n",
       "ATDID5461S               75             74                     92.0       312   \n",
       "\n",
       "               Observed IVT rate  Benchmark IVT rate  Benchmark hospital  \n",
       "Home hospital                                                             \n",
       "AGNOF1041H              0.352468            0.461538               False  \n",
       "AKCGO9726K              0.369748            0.389356                True  \n",
       "AOBTM3098N              0.218803            0.341880               False  \n",
       "APXEE8191H              0.226481            0.297909               False  \n",
       "ATDID5461S              0.240385            0.294872               False  "
      ]
     },
     "execution_count": 27,
     "metadata": {},
     "output_type": "execute_result"
    }
   ],
   "source": [
    "thrombolysis_counts.head()"
   ]
  },
  {
   "cell_type": "code",
   "execution_count": 28,
   "id": "4a01bcfa-4bff-414a-866e-bd95842e78f3",
   "metadata": {},
   "outputs": [
    {
     "data": {
      "image/png": "[encoded data removed]",
      "text/plain": [
       "<Figure size 360x360 with 1 Axes>"
      ]
     },
     "metadata": {
      "needs_background": "light"
     },
     "output_type": "display_data"
    }
   ],
   "source": [
    "fig = plt.figure(figsize=(5,5))\n",
    "ax = fig.add_subplot()\n",
    "\n",
    "# Plot non-benchmark hospitals in blue\n",
    "mask = thrombolysis_counts['Benchmark hospital'] == False\n",
    "non_bench = thrombolysis_counts[mask]\n",
    "\n",
    "for i, val in non_bench.iterrows():\n",
    "    start = [non_bench['Observed IVT rate'] * 100,\n",
    "             non_bench['Observed IVT rate'] * 100]\n",
    "    end = [non_bench['Observed IVT rate'] * 100,\n",
    "             non_bench['Benchmark IVT rate'] * 100]\n",
    "    ax.plot(start, end, c='b', lw=1, zorder=1)\n",
    "    ax.scatter(start[0], start[1], marker='o', facecolors='b', edgecolors='b', \n",
    "               s=20, zorder=2, alpha=0.6)\n",
    "    ax.scatter(end[0], end[1], marker='o', facecolors='w', edgecolors='b',\n",
    "               s=20, zorder=2, alpha=0.6)\n",
    "\n",
    "# Plot benchmark hospitals in red\n",
    "mask = thrombolysis_counts['Benchmark hospital'] == True\n",
    "bench = thrombolysis_counts[mask]\n",
    "\n",
    "for i, val in bench.iterrows():\n",
    "    start = [bench['Observed IVT rate'] * 100,\n",
    "             bench['Observed IVT rate'] * 100]\n",
    "    end = [bench['Observed IVT rate'] * 100,\n",
    "             bench['Benchmark IVT rate'] * 100]\n",
    "    ax.plot(start, end, c='r', lw=1, zorder=1)\n",
    "    ax.scatter(start[0], start[1], marker='o', facecolors='r', edgecolors='r', \n",
    "               s=20, zorder=2, alpha=0.6)\n",
    "    ax.scatter(end[0], end[1], marker='o', facecolors='w', edgecolors='r',\n",
    "               s=20, zorder=2, alpha=0.6)\n",
    "\n",
    "# Add mods \n",
    "ax.set_xlabel('Observed thrombolysis rate (%)')\n",
    "ax.set_ylabel('Predicted benchmark thrombolysis rate (%)')\n",
    "ax.set_xlim(0, 55)\n",
    "ax.set_ylim(0, 55)\n",
    "ax.grid()\n",
    "\n",
    "custom_lines = [Line2D([0], [0], color='r', alpha=0.6, lw=2),\n",
    "                Line2D([0], [0], color='b', alpha = 0.6,lw=2)]\n",
    "\n",
    "plt.legend(custom_lines, ['Benchmark hospital', 'Non-benchmark hospital'],\n",
    "          loc='lower right')\n",
    "\n",
    "plt.tight_layout()\n",
    "plt.savefig(f'output/{notebook}_benchmark_thrombolysis_key_features.jpg', \n",
    "            dpi=300)\n",
    "\n",
    "plt.show()"
   ]
  },
  {
   "cell_type": "markdown",
   "id": "cc905396-6874-4902-841b-02eec3083827",
   "metadata": {},
   "source": [
    "## Save comparisons of decisions"
   ]
  },
  {
   "cell_type": "code",
   "execution_count": 29,
   "id": "32cbbcf4-fec4-4c66-adc7-c41f9ad0b4fd",
   "metadata": {},
   "outputs": [],
   "source": [
    "df_patient_thrombolysis_decisions.to_csv(\n",
    "    f'./predictions/{notebook}_benchmark_decisions_combined_xgb_key_features'\n",
    "    f'.csv',\n",
    "    index=False)"
   ]
  },
  {
   "cell_type": "code",
   "execution_count": 30,
   "id": "a1f8d558-e472-4883-8099-9ecc2ad53522",
   "metadata": {},
   "outputs": [],
   "source": [
    "test_collated = pd.concat(test_data_kfold, axis=0)\n",
    "test_collated.to_csv(\n",
    "    f'./predictions/{notebook}_test_features_collated_key_features.csv',\n",
    "    index=False)"
   ]
  },
  {
   "cell_type": "markdown",
   "id": "89087430-9847-460b-a7d5-a944e7a664f9",
   "metadata": {},
   "source": [
    "## Observations\n",
    "\n",
    "* 82.9% decisions are identical between local and benchmark decisions.\n",
    "* Thrombolysis use would be increased 22.6% if benchmark decisions were made at all hospitals.\n",
    "* The ratio of benchmark:local thrombolysis use was 0.7 to 2.2."
   ]
  }
 ],
 "metadata": {
  "kernelspec": {
   "display_name": "Python 3 (ipykernel)",
   "language": "python",
   "name": "python3"
  },
  "language_info": {
   "codemirror_mode": {
    "name": "ipython",
    "version": 3
   },
   "file_extension": ".py",
   "mimetype": "text/x-python",
   "name": "python",
   "nbconvert_exporter": "python",
   "pygments_lexer": "ipython3",
   "version": "3.8.13"
  }
 },
 "nbformat": 4,
 "nbformat_minor": 5
}
